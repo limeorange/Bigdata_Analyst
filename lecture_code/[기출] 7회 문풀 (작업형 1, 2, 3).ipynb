{
 "cells": [
  {
   "cell_type": "markdown",
   "metadata": {
    "id": "ImS-bayEojdA"
   },
   "source": [
    "# 기출 7회_작업형1"
   ]
  },
  {
   "cell_type": "markdown",
   "metadata": {
    "id": "JO-2zLFZsse1"
   },
   "source": [
    "## 문제1\n",
    "결측치가 있는 행을 제거한 후, 학생이 가장 많이 수강한 과목을 찾고, 해당 과목 점수를 표준화(스탠다스 스케일) 한 뒤에 표준화된 가장 큰 값을 구하시오. (반올림하여 소수 셋째자리까지 계산)"
   ]
  },
  {
   "cell_type": "code",
   "execution_count": 72,
   "metadata": {},
   "outputs": [
    {
     "name": "stdout",
     "output_type": "stream",
     "text": [
      "2.183\n"
     ]
    }
   ],
   "source": [
    "# My)\n",
    "\n",
    "import pandas as pd\n",
    "df = pd.read_csv(\"https://raw.githubusercontent.com/lovedlim/inf/refs/heads/main/p4/7_1/student_assessment.csv\")\n",
    "\n",
    "df = df.dropna()\n",
    "# print(df.info())\n",
    "\n",
    "grouped = df.groupby(['id_assessment'])['student_id'].count()\n",
    "top = grouped.idxmax()\n",
    "\n",
    "# print(grouped)\n",
    "cond = df['id_assessment'] == top\n",
    "df1 = df[cond].copy()\n",
    "# print(df1)\n",
    "\n",
    "from sklearn.preprocessing import StandardScaler\n",
    "scaler = StandardScaler()\n",
    "df1['score'] = scaler.fit_transform(df1[['score']])\n",
    "# print(df1)\n",
    "print(round(df1.nlargest(1, 'score').iloc[-1]['score'], 3))"
   ]
  },
  {
   "cell_type": "code",
   "execution_count": null,
   "metadata": {
    "colab": {
     "base_uri": "https://localhost:8080/"
    },
    "id": "QfWBB-yjCuX8",
    "outputId": "06f8c5c4-2520-48c8-9189-833eb978decb"
   },
   "outputs": [
    {
     "name": "stdout",
     "output_type": "stream",
     "text": [
      "결측치 수: 21\n",
      "(2565, 4)\n",
      "(2544, 4)\n",
      "2.183\n"
     ]
    }
   ],
   "source": [
    "import pandas as pd\n",
    "df = pd.read_csv(\"https://raw.githubusercontent.com/lovedlim/inf/refs/heads/main/p4/7_1/student_assessment.csv\")\n",
    "\n",
    "# 0) 데이터 확인\n",
    "print(\"결측치 수:\", df.isnull().sum().sum())\n",
    "\n",
    "# 1) 결측치 제거\n",
    "print(df.shape)\n",
    "df = df.dropna()\n",
    "print(df.shape)\n",
    "\n",
    "# 2) 가장 많이 수강한 과목 필터링\n",
    "id = df['id_assessment'].value_counts().idxmax()\n",
    "cond = df['id_assessment'] == id\n",
    "df = df[cond]\n",
    "\n",
    "# 3) 과목 점수 스탠다드 스케일\n",
    "from sklearn.preprocessing import StandardScaler\n",
    "scaler = StandardScaler()\n",
    "df['score'] = scaler.fit_transform(df[['score']])\n",
    "\n",
    "# 4) 가장 큰 값\n",
    "print(round(df['score'].max(), 3))"
   ]
  },
  {
   "cell_type": "markdown",
   "metadata": {
    "id": "sHC4blpRswAJ"
   },
   "source": [
    "## 문제2\n",
    "DE1~DE77컬럼 중 주가지수의 종가 \"close\"와 가장 상관관계가 높은 변수를 찾아, 해당 변수의 평균값을 구하시오. (반올림하여 소수 넷째자리까지 계산)"
   ]
  },
  {
   "cell_type": "code",
   "execution_count": 85,
   "metadata": {},
   "outputs": [
    {
     "name": "stdout",
     "output_type": "stream",
     "text": [
      "-0.0004\n"
     ]
    }
   ],
   "source": [
    "# My)\n",
    "\n",
    "import pandas as pd\n",
    "df = pd.read_csv(\"https://raw.githubusercontent.com/lovedlim/inf/refs/heads/main/p4/7_1/stock_market.csv\")\n",
    "\n",
    "df_corr = df.corr()['close'].abs()\n",
    "col = df_corr.loc['DE1':'DE77'].idxmax()\n",
    "# print(col)\n",
    "print(round(df[col].mean(), 4))"
   ]
  },
  {
   "cell_type": "code",
   "execution_count": null,
   "metadata": {
    "colab": {
     "base_uri": "https://localhost:8080/"
    },
    "id": "usqyPcI4J0eL",
    "outputId": "7f689b83-66bb-4c42-8228-07bed5483da2"
   },
   "outputs": [
    {
     "name": "stdout",
     "output_type": "stream",
     "text": [
      "-0.0004\n"
     ]
    }
   ],
   "source": [
    "import pandas as pd\n",
    "df = pd.read_csv(\"https://raw.githubusercontent.com/lovedlim/inf/refs/heads/main/p4/7_1/stock_market.csv\")\n",
    "\n",
    "# 1) close와의 상관관계(절대값)\n",
    "df_corr = df.corr()['close'].abs()\n",
    "\n",
    "# 2) 상관관계가 높은 변수명\n",
    "col = df_corr.loc['DE1':'DE77'].idxmax()\n",
    "\n",
    "# 3) '2'에서 구한 변수명의 평균값\n",
    "print(round(df[col].mean(), 4))"
   ]
  },
  {
   "cell_type": "markdown",
   "metadata": {
    "id": "E9QDz8l-sy4D"
   },
   "source": [
    "## 문제3\n",
    "IQR을 이용해 이산화탄소(CO2) 이상치 수를 찾으시오\n",
    "\n",
    "- Q1 (제 1사분위수): 하위 25% 값\n",
    "- Q3 (제 3사분위수): 상위 25% 값\n",
    "- IQR (사분위수 범위): IQR = Q3 - Q1\n",
    "\n",
    "- lower (하한선): Q1 - 1.5 * IQR, 이 값보다 작은 데이터는 이상치로 간주\n",
    "- upper (상한선): Q3 + 1.5 * IQR, 이 값보다 큰 데이터는 이상치로 간주\n",
    "\n"
   ]
  },
  {
   "cell_type": "code",
   "execution_count": 92,
   "metadata": {},
   "outputs": [
    {
     "name": "stdout",
     "output_type": "stream",
     "text": [
      "304\n"
     ]
    }
   ],
   "source": [
    "# My) \n",
    "\n",
    "import pandas as pd\n",
    "df = pd.read_csv(\"https://raw.githubusercontent.com/lovedlim/inf/refs/heads/main/p4/7_1/air_quality.csv\")\n",
    "\n",
    "# print(df)\n",
    "Q1 = df['CO2'].quantile(.25)\n",
    "Q3 = df['CO2'].quantile(.75)\n",
    "IQR = Q3 - Q1\n",
    "\n",
    "lower = Q1-1.5*IQR\n",
    "upper = Q3+1.5*IQR\n",
    "\n",
    "cond1 = df['CO2'] < lower\n",
    "cond2 = df['CO2'] > upper\n",
    "outliers = df[cond1 | cond2]\n",
    "\n",
    "# print(Q1, Q3, IQR)\n",
    "print(len(outliers))"
   ]
  },
  {
   "cell_type": "code",
   "execution_count": null,
   "metadata": {
    "colab": {
     "base_uri": "https://localhost:8080/"
    },
    "id": "LipHWwikUBL-",
    "outputId": "724736f9-7d61-434f-8fb0-904b654daeae"
   },
   "outputs": [
    {
     "name": "stdout",
     "output_type": "stream",
     "text": [
      "304\n"
     ]
    }
   ],
   "source": [
    "import pandas as pd\n",
    "df = pd.read_csv(\"https://raw.githubusercontent.com/lovedlim/inf/refs/heads/main/p4/7_1/air_quality.csv\")\n",
    "\n",
    "# 1) IQR 계산\n",
    "Q1 = df['CO2'].quantile(0.25)\n",
    "Q3 = df['CO2'].quantile(0.75)\n",
    "IQR = Q3 - Q1\n",
    "\n",
    "# 2) 상한 및 하한 계산\n",
    "upper = Q3 + 1.5 * IQR\n",
    "lower = Q1 - 1.5 * IQR\n",
    "\n",
    "# 3) 이상치 조건\n",
    "cond1 = df['CO2'] < lower\n",
    "cond2 = df['CO2'] > upper\n",
    "outliers = df[cond1 | cond2]\n",
    "\n",
    "# 4) 이상치 수 계산\n",
    "print(len(outliers))"
   ]
  },
  {
   "cell_type": "markdown",
   "metadata": {
    "id": "KBEr9K-lV_M6"
   },
   "source": [
    "# 기출 7회_작업형2\n",
    "## mart 판매 데이터를 기반으로 판매액을 예측\n",
    "- 제공된 데이터 목록: mart_train.csv (훈련 데이터), mart_test.csv (평가용 데이터)\n",
    "- 예측할 컬럼: total (총 판매액)\n",
    "학습용 데이터(mart_train.csv)를 이용하여 총 판매액을 예측하는 모델을 만든 후, 이를 평가용 데이터(mart_test.csv)에 적용하여 얻은 예측값을 다음과 같은 형식의 CSV 파일로 생성하시오.\n",
    "- 제출 파일은 다음 한 개의 컬럼을 포함해야 합니다.\n",
    "- pred: 예측된 총 판매액\n",
    "- 제출 파일명: 'result.csv' 제출한 모델의 성능은 RMSE(Root Mean Square Error) 평가지표에 따라 채점한다.\n",
    "- 제출 CSV 파일명 및 형태: result.csv\n",
    "\n",
    "~~~\n",
    "pred\n",
    "10000\n",
    "20000\n",
    "30000\n",
    "40000\n",
    "...\n",
    "~~~\n",
    "\n",
    "## 답안 제출 참고\n",
    "- pd.read_csv('result.csv') 로 제출 코드 확인"
   ]
  },
  {
   "cell_type": "markdown",
   "metadata": {},
   "source": [
    "## 📌 My Code"
   ]
  },
  {
   "cell_type": "code",
   "execution_count": 20,
   "metadata": {},
   "outputs": [
    {
     "name": "stdout",
     "output_type": "stream",
     "text": [
      "score_rf 379654.48854407197\n",
      "score_hgb 409161.0203967835\n",
      "            pred\n",
      "0    356511.0150\n",
      "1    674935.3800\n",
      "2    263410.7175\n",
      "3    593099.0100\n",
      "4    438679.7100\n",
      "..           ...\n",
      "295  519270.0975\n",
      "296  435027.1275\n",
      "297  475343.0325\n",
      "298  396731.0025\n",
      "299  494153.1000\n",
      "\n",
      "[300 rows x 1 columns]\n"
     ]
    }
   ],
   "source": [
    "import pandas as pd\n",
    "train = pd.read_csv(\"https://raw.githubusercontent.com/lovedlim/inf/refs/heads/main/p4/7_2/mart_train.csv\")\n",
    "test = pd.read_csv(\"https://raw.githubusercontent.com/lovedlim/inf/refs/heads/main/p4/7_2/mart_test.csv\")\n",
    "\n",
    "# 1. 데이터 유형 파악\n",
    "# 결측치: X\n",
    "# 범주형: ['branch', 'city', 'customer_type', 'gender', 'product_line', 'payment_method', 'time_of_day', 'day_name']\n",
    "# target: total\n",
    "# print(train.info())\n",
    "# print(test.info())\n",
    "# print(train)\n",
    "# print(train.shape, test.shape) # (700, 10) (300, 9)\n",
    "# print(train.select_dtypes('object').columns)\n",
    "\n",
    "# 2. 데이터 전처리 (4)\n",
    "# (1) X_full\n",
    "X = train.drop(['total'], axis=1)\n",
    "y = train['total']\n",
    "X_full = pd.concat([X, test], axis=0)\n",
    "\n",
    "# (2) 결측치: X\n",
    "\n",
    "# (3) 수치형 변수 스케일링: X\n",
    "\n",
    "# (4) 범주형 변수 인코딩\n",
    "X_full = pd.get_dummies(X_full)\n",
    "# print(X_full)\n",
    "# print(X_full.shape) # (1000, 30)\n",
    "\n",
    "# 3. 데이터 분리 (X_train, X_test / train_test_split)\n",
    "X_train = X_full[:train.shape[0]]\n",
    "X_test = X_full[train.shape[0]:]\n",
    "# print(X_train.shape, X_test.shape) # (700, 30) (300, 30)\n",
    "\n",
    "from sklearn.model_selection import train_test_split\n",
    "X_train, X_val, y_train, y_val = train_test_split(X_train, y, test_size=0.2)\n",
    "# print(X_train.shape, X_val.shape, y_train.shape, y_val.shape) # (560, 30) (140, 30) (560,) (140,)\n",
    "\n",
    "# 4. 모델 학습\n",
    "from sklearn.ensemble import RandomForestRegressor\n",
    "RF = RandomForestRegressor()\n",
    "RF.fit(X_train, y_train)\n",
    "y_val_pred_rf = RF.predict(X_val)\n",
    "# print(y_val_pred_rf)\n",
    "# print(y_val_pred_rf.shape) # (140,)\n",
    "\n",
    "from sklearn.ensemble import HistGradientBoostingRegressor\n",
    "HGB = HistGradientBoostingRegressor()\n",
    "HGB.fit(X_train, y_train)\n",
    "y_val_pred_hgb = HGB.predict(X_val)\n",
    "# print(y_val_pred_hgb)\n",
    "# print(y_val_pred_hgb.shape) # (140,)\n",
    "\n",
    "# 5. 모델 평가\n",
    "from sklearn.metrics import root_mean_squared_error\n",
    "score_rf = root_mean_squared_error(y_val, y_val_pred_rf)\n",
    "print('score_rf', score_rf)\n",
    "\n",
    "score_hgb = root_mean_squared_error(y_val, y_val_pred_hgb)\n",
    "print('score_hgb', score_hgb)\n",
    "\n",
    "# 6. 결과 저장\n",
    "y_pred = RF.predict(X_test)\n",
    "# print(y_pred)\n",
    "# print(y_pred.shape) # (300,)\n",
    "\n",
    "result = pd.DataFrame({'pred': y_pred})\n",
    "result.to_csv('result_72.csv', index=False)\n",
    "\n",
    "check = pd.read_csv('result_72.csv')\n",
    "print(check)\n",
    "# print(check.shape) # (300, 1)"
   ]
  },
  {
   "cell_type": "markdown",
   "metadata": {},
   "source": [
    "# 작업형2 풀이"
   ]
  },
  {
   "cell_type": "markdown",
   "metadata": {
    "id": "Ae4v-2ju1mWi"
   },
   "source": [
    "## 1. 문제정의\n",
    "- RMSE\n",
    "- target: total\n",
    "- 예측 파일명: result.csv\n",
    "- 컬럼 1개(pred)"
   ]
  },
  {
   "cell_type": "markdown",
   "metadata": {
    "id": "qgSesVv_1qP_"
   },
   "source": [
    "## 2. 라이브러리 및 데이터 불러오기"
   ]
  },
  {
   "cell_type": "code",
   "execution_count": 21,
   "metadata": {
    "id": "30wq46-FfSt_"
   },
   "outputs": [],
   "source": [
    "# 데이터 불러오기\n",
    "import pandas as pd\n",
    "train = pd.read_csv(\"https://raw.githubusercontent.com/lovedlim/inf/refs/heads/main/p4/7_2/mart_train.csv\")\n",
    "test = pd.read_csv(\"https://raw.githubusercontent.com/lovedlim/inf/refs/heads/main/p4/7_2/mart_test.csv\")"
   ]
  },
  {
   "cell_type": "markdown",
   "metadata": {
    "id": "3dAHY3V1lWxV"
   },
   "source": [
    "## 3. 탐색적 데이터 분석(EDA)"
   ]
  },
  {
   "cell_type": "code",
   "execution_count": 22,
   "metadata": {
    "colab": {
     "base_uri": "https://localhost:8080/"
    },
    "id": "0YRdxQxifwf9",
    "outputId": "28082470-bfd5-4fce-8ec2-0dcb8bf2c867"
   },
   "outputs": [
    {
     "data": {
      "text/plain": [
       "((700, 10), (300, 9))"
      ]
     },
     "execution_count": 22,
     "metadata": {},
     "output_type": "execute_result"
    }
   ],
   "source": [
    "# 데이터 크기 확인\n",
    "train.shape, test.shape"
   ]
  },
  {
   "cell_type": "code",
   "execution_count": 23,
   "metadata": {
    "colab": {
     "base_uri": "https://localhost:8080/",
     "height": 215
    },
    "id": "F_k-MGd-f4Iw",
    "outputId": "9e1d93eb-35b8-4897-a7dc-3c14f637bea9"
   },
   "outputs": [
    {
     "data": {
      "text/html": [
       "<div>\n",
       "<style scoped>\n",
       "    .dataframe tbody tr th:only-of-type {\n",
       "        vertical-align: middle;\n",
       "    }\n",
       "\n",
       "    .dataframe tbody tr th {\n",
       "        vertical-align: top;\n",
       "    }\n",
       "\n",
       "    .dataframe thead th {\n",
       "        text-align: right;\n",
       "    }\n",
       "</style>\n",
       "<table border=\"1\" class=\"dataframe\">\n",
       "  <thead>\n",
       "    <tr style=\"text-align: right;\">\n",
       "      <th></th>\n",
       "      <th>branch</th>\n",
       "      <th>city</th>\n",
       "      <th>customer_type</th>\n",
       "      <th>gender</th>\n",
       "      <th>product_line</th>\n",
       "      <th>total</th>\n",
       "      <th>payment_method</th>\n",
       "      <th>rating</th>\n",
       "      <th>time_of_day</th>\n",
       "      <th>day_name</th>\n",
       "    </tr>\n",
       "  </thead>\n",
       "  <tbody>\n",
       "    <tr>\n",
       "      <th>0</th>\n",
       "      <td>A</td>\n",
       "      <td>Yangon</td>\n",
       "      <td>Member</td>\n",
       "      <td>Female</td>\n",
       "      <td>Health and beauty</td>\n",
       "      <td>823457.25</td>\n",
       "      <td>Ewallet</td>\n",
       "      <td>9.1</td>\n",
       "      <td>afternoon</td>\n",
       "      <td>Saturday</td>\n",
       "    </tr>\n",
       "    <tr>\n",
       "      <th>1</th>\n",
       "      <td>C</td>\n",
       "      <td>Naypyitaw</td>\n",
       "      <td>Normal</td>\n",
       "      <td>Female</td>\n",
       "      <td>Electronic accessories</td>\n",
       "      <td>120330.00</td>\n",
       "      <td>Cash</td>\n",
       "      <td>9.6</td>\n",
       "      <td>morning</td>\n",
       "      <td>Friday</td>\n",
       "    </tr>\n",
       "    <tr>\n",
       "      <th>2</th>\n",
       "      <td>A</td>\n",
       "      <td>Yangon</td>\n",
       "      <td>Normal</td>\n",
       "      <td>Male</td>\n",
       "      <td>Home and lifestyle</td>\n",
       "      <td>510788.25</td>\n",
       "      <td>Credit card</td>\n",
       "      <td>7.4</td>\n",
       "      <td>afternoon</td>\n",
       "      <td>Sunday</td>\n",
       "    </tr>\n",
       "  </tbody>\n",
       "</table>\n",
       "</div>"
      ],
      "text/plain": [
       "  branch       city customer_type  gender            product_line      total  \\\n",
       "0      A     Yangon        Member  Female       Health and beauty  823457.25   \n",
       "1      C  Naypyitaw        Normal  Female  Electronic accessories  120330.00   \n",
       "2      A     Yangon        Normal    Male      Home and lifestyle  510788.25   \n",
       "\n",
       "  payment_method  rating time_of_day  day_name  \n",
       "0        Ewallet     9.1   afternoon  Saturday  \n",
       "1           Cash     9.6     morning    Friday  \n",
       "2    Credit card     7.4   afternoon    Sunday  "
      ]
     },
     "execution_count": 23,
     "metadata": {},
     "output_type": "execute_result"
    }
   ],
   "source": [
    "# 샘플 확인\n",
    "train.head(3)"
   ]
  },
  {
   "cell_type": "code",
   "execution_count": 24,
   "metadata": {
    "colab": {
     "base_uri": "https://localhost:8080/",
     "height": 143
    },
    "id": "pKT3QURYykAP",
    "outputId": "1d3f5761-1851-423c-f5dc-b17428ee1c0f"
   },
   "outputs": [
    {
     "data": {
      "text/html": [
       "<div>\n",
       "<style scoped>\n",
       "    .dataframe tbody tr th:only-of-type {\n",
       "        vertical-align: middle;\n",
       "    }\n",
       "\n",
       "    .dataframe tbody tr th {\n",
       "        vertical-align: top;\n",
       "    }\n",
       "\n",
       "    .dataframe thead th {\n",
       "        text-align: right;\n",
       "    }\n",
       "</style>\n",
       "<table border=\"1\" class=\"dataframe\">\n",
       "  <thead>\n",
       "    <tr style=\"text-align: right;\">\n",
       "      <th></th>\n",
       "      <th>branch</th>\n",
       "      <th>city</th>\n",
       "      <th>customer_type</th>\n",
       "      <th>gender</th>\n",
       "      <th>product_line</th>\n",
       "      <th>payment_method</th>\n",
       "      <th>rating</th>\n",
       "      <th>time_of_day</th>\n",
       "      <th>day_name</th>\n",
       "    </tr>\n",
       "  </thead>\n",
       "  <tbody>\n",
       "    <tr>\n",
       "      <th>0</th>\n",
       "      <td>C</td>\n",
       "      <td>Naypyitaw</td>\n",
       "      <td>Normal</td>\n",
       "      <td>Female</td>\n",
       "      <td>Fashion accessories</td>\n",
       "      <td>Ewallet</td>\n",
       "      <td>9.6</td>\n",
       "      <td>afternoon</td>\n",
       "      <td>Thursday</td>\n",
       "    </tr>\n",
       "    <tr>\n",
       "      <th>1</th>\n",
       "      <td>B</td>\n",
       "      <td>Mandalay</td>\n",
       "      <td>Normal</td>\n",
       "      <td>Male</td>\n",
       "      <td>Food and beverages</td>\n",
       "      <td>Credit card</td>\n",
       "      <td>4.3</td>\n",
       "      <td>evening</td>\n",
       "      <td>Wednesday</td>\n",
       "    </tr>\n",
       "    <tr>\n",
       "      <th>2</th>\n",
       "      <td>B</td>\n",
       "      <td>Mandalay</td>\n",
       "      <td>Member</td>\n",
       "      <td>Female</td>\n",
       "      <td>Fashion accessories</td>\n",
       "      <td>Credit card</td>\n",
       "      <td>5.0</td>\n",
       "      <td>evening</td>\n",
       "      <td>Wednesday</td>\n",
       "    </tr>\n",
       "  </tbody>\n",
       "</table>\n",
       "</div>"
      ],
      "text/plain": [
       "  branch       city customer_type  gender         product_line payment_method  \\\n",
       "0      C  Naypyitaw        Normal  Female  Fashion accessories        Ewallet   \n",
       "1      B   Mandalay        Normal    Male   Food and beverages    Credit card   \n",
       "2      B   Mandalay        Member  Female  Fashion accessories    Credit card   \n",
       "\n",
       "   rating time_of_day   day_name  \n",
       "0     9.6   afternoon   Thursday  \n",
       "1     4.3     evening  Wednesday  \n",
       "2     5.0     evening  Wednesday  "
      ]
     },
     "execution_count": 24,
     "metadata": {},
     "output_type": "execute_result"
    }
   ],
   "source": [
    "test.head(3)"
   ]
  },
  {
   "cell_type": "code",
   "execution_count": 25,
   "metadata": {
    "colab": {
     "base_uri": "https://localhost:8080/"
    },
    "id": "FIRfcqHVgPxr",
    "outputId": "16d5e273-8521-4b34-a7c0-a8ba2f4f08f0"
   },
   "outputs": [
    {
     "name": "stdout",
     "output_type": "stream",
     "text": [
      "<class 'pandas.core.frame.DataFrame'>\n",
      "RangeIndex: 700 entries, 0 to 699\n",
      "Data columns (total 10 columns):\n",
      " #   Column          Non-Null Count  Dtype  \n",
      "---  ------          --------------  -----  \n",
      " 0   branch          700 non-null    object \n",
      " 1   city            700 non-null    object \n",
      " 2   customer_type   700 non-null    object \n",
      " 3   gender          700 non-null    object \n",
      " 4   product_line    700 non-null    object \n",
      " 5   total           700 non-null    float64\n",
      " 6   payment_method  700 non-null    object \n",
      " 7   rating          700 non-null    float64\n",
      " 8   time_of_day     700 non-null    object \n",
      " 9   day_name        700 non-null    object \n",
      "dtypes: float64(2), object(8)\n",
      "memory usage: 54.8+ KB\n"
     ]
    }
   ],
   "source": [
    "train.info()"
   ]
  },
  {
   "cell_type": "code",
   "execution_count": 26,
   "metadata": {
    "colab": {
     "base_uri": "https://localhost:8080/",
     "height": 300
    },
    "id": "q1hofG4HinUJ",
    "outputId": "c73364b9-bfba-42a6-b4b3-2c00384365f9"
   },
   "outputs": [
    {
     "data": {
      "text/html": [
       "<div>\n",
       "<style scoped>\n",
       "    .dataframe tbody tr th:only-of-type {\n",
       "        vertical-align: middle;\n",
       "    }\n",
       "\n",
       "    .dataframe tbody tr th {\n",
       "        vertical-align: top;\n",
       "    }\n",
       "\n",
       "    .dataframe thead th {\n",
       "        text-align: right;\n",
       "    }\n",
       "</style>\n",
       "<table border=\"1\" class=\"dataframe\">\n",
       "  <thead>\n",
       "    <tr style=\"text-align: right;\">\n",
       "      <th></th>\n",
       "      <th>total</th>\n",
       "      <th>rating</th>\n",
       "    </tr>\n",
       "  </thead>\n",
       "  <tbody>\n",
       "    <tr>\n",
       "      <th>count</th>\n",
       "      <td>7.000000e+02</td>\n",
       "      <td>700.000000</td>\n",
       "    </tr>\n",
       "    <tr>\n",
       "      <th>mean</th>\n",
       "      <td>4.850780e+05</td>\n",
       "      <td>7.003429</td>\n",
       "    </tr>\n",
       "    <tr>\n",
       "      <th>std</th>\n",
       "      <td>3.643907e+05</td>\n",
       "      <td>1.713078</td>\n",
       "    </tr>\n",
       "    <tr>\n",
       "      <th>min</th>\n",
       "      <td>1.904175e+04</td>\n",
       "      <td>4.000000</td>\n",
       "    </tr>\n",
       "    <tr>\n",
       "      <th>25%</th>\n",
       "      <td>2.001195e+05</td>\n",
       "      <td>5.500000</td>\n",
       "    </tr>\n",
       "    <tr>\n",
       "      <th>50%</th>\n",
       "      <td>3.818745e+05</td>\n",
       "      <td>7.000000</td>\n",
       "    </tr>\n",
       "    <tr>\n",
       "      <th>75%</th>\n",
       "      <td>7.061276e+05</td>\n",
       "      <td>8.425000</td>\n",
       "    </tr>\n",
       "    <tr>\n",
       "      <th>max</th>\n",
       "      <td>1.563975e+06</td>\n",
       "      <td>10.000000</td>\n",
       "    </tr>\n",
       "  </tbody>\n",
       "</table>\n",
       "</div>"
      ],
      "text/plain": [
       "              total      rating\n",
       "count  7.000000e+02  700.000000\n",
       "mean   4.850780e+05    7.003429\n",
       "std    3.643907e+05    1.713078\n",
       "min    1.904175e+04    4.000000\n",
       "25%    2.001195e+05    5.500000\n",
       "50%    3.818745e+05    7.000000\n",
       "75%    7.061276e+05    8.425000\n",
       "max    1.563975e+06   10.000000"
      ]
     },
     "execution_count": 26,
     "metadata": {},
     "output_type": "execute_result"
    }
   ],
   "source": [
    "# 기초 통계값 확인\n",
    "train.describe()"
   ]
  },
  {
   "cell_type": "code",
   "execution_count": 27,
   "metadata": {
    "colab": {
     "base_uri": "https://localhost:8080/",
     "height": 175
    },
    "id": "AB_yqbISlMn-",
    "outputId": "ad321f69-5862-4d00-e5b2-c809e6da357c"
   },
   "outputs": [
    {
     "data": {
      "text/html": [
       "<div>\n",
       "<style scoped>\n",
       "    .dataframe tbody tr th:only-of-type {\n",
       "        vertical-align: middle;\n",
       "    }\n",
       "\n",
       "    .dataframe tbody tr th {\n",
       "        vertical-align: top;\n",
       "    }\n",
       "\n",
       "    .dataframe thead th {\n",
       "        text-align: right;\n",
       "    }\n",
       "</style>\n",
       "<table border=\"1\" class=\"dataframe\">\n",
       "  <thead>\n",
       "    <tr style=\"text-align: right;\">\n",
       "      <th></th>\n",
       "      <th>branch</th>\n",
       "      <th>city</th>\n",
       "      <th>customer_type</th>\n",
       "      <th>gender</th>\n",
       "      <th>product_line</th>\n",
       "      <th>payment_method</th>\n",
       "      <th>time_of_day</th>\n",
       "      <th>day_name</th>\n",
       "    </tr>\n",
       "  </thead>\n",
       "  <tbody>\n",
       "    <tr>\n",
       "      <th>count</th>\n",
       "      <td>700</td>\n",
       "      <td>700</td>\n",
       "      <td>700</td>\n",
       "      <td>700</td>\n",
       "      <td>700</td>\n",
       "      <td>700</td>\n",
       "      <td>700</td>\n",
       "      <td>700</td>\n",
       "    </tr>\n",
       "    <tr>\n",
       "      <th>unique</th>\n",
       "      <td>3</td>\n",
       "      <td>3</td>\n",
       "      <td>2</td>\n",
       "      <td>2</td>\n",
       "      <td>6</td>\n",
       "      <td>3</td>\n",
       "      <td>3</td>\n",
       "      <td>7</td>\n",
       "    </tr>\n",
       "    <tr>\n",
       "      <th>top</th>\n",
       "      <td>A</td>\n",
       "      <td>Yangon</td>\n",
       "      <td>Normal</td>\n",
       "      <td>Male</td>\n",
       "      <td>Sports and travel</td>\n",
       "      <td>Cash</td>\n",
       "      <td>evening</td>\n",
       "      <td>Saturday</td>\n",
       "    </tr>\n",
       "    <tr>\n",
       "      <th>freq</th>\n",
       "      <td>236</td>\n",
       "      <td>236</td>\n",
       "      <td>354</td>\n",
       "      <td>356</td>\n",
       "      <td>127</td>\n",
       "      <td>246</td>\n",
       "      <td>309</td>\n",
       "      <td>114</td>\n",
       "    </tr>\n",
       "  </tbody>\n",
       "</table>\n",
       "</div>"
      ],
      "text/plain": [
       "       branch    city customer_type gender       product_line payment_method  \\\n",
       "count     700     700           700    700                700            700   \n",
       "unique      3       3             2      2                  6              3   \n",
       "top         A  Yangon        Normal   Male  Sports and travel           Cash   \n",
       "freq      236     236           354    356                127            246   \n",
       "\n",
       "       time_of_day  day_name  \n",
       "count          700       700  \n",
       "unique           3         7  \n",
       "top        evening  Saturday  \n",
       "freq           309       114  "
      ]
     },
     "execution_count": 27,
     "metadata": {},
     "output_type": "execute_result"
    }
   ],
   "source": [
    "train.describe(include='O')"
   ]
  },
  {
   "cell_type": "code",
   "execution_count": 28,
   "metadata": {
    "colab": {
     "base_uri": "https://localhost:8080/",
     "height": 175
    },
    "id": "xJbcsyOxlSRu",
    "outputId": "25f9c17d-0f69-43cb-94bf-9efed3da6727"
   },
   "outputs": [
    {
     "data": {
      "text/html": [
       "<div>\n",
       "<style scoped>\n",
       "    .dataframe tbody tr th:only-of-type {\n",
       "        vertical-align: middle;\n",
       "    }\n",
       "\n",
       "    .dataframe tbody tr th {\n",
       "        vertical-align: top;\n",
       "    }\n",
       "\n",
       "    .dataframe thead th {\n",
       "        text-align: right;\n",
       "    }\n",
       "</style>\n",
       "<table border=\"1\" class=\"dataframe\">\n",
       "  <thead>\n",
       "    <tr style=\"text-align: right;\">\n",
       "      <th></th>\n",
       "      <th>branch</th>\n",
       "      <th>city</th>\n",
       "      <th>customer_type</th>\n",
       "      <th>gender</th>\n",
       "      <th>product_line</th>\n",
       "      <th>payment_method</th>\n",
       "      <th>time_of_day</th>\n",
       "      <th>day_name</th>\n",
       "    </tr>\n",
       "  </thead>\n",
       "  <tbody>\n",
       "    <tr>\n",
       "      <th>count</th>\n",
       "      <td>300</td>\n",
       "      <td>300</td>\n",
       "      <td>300</td>\n",
       "      <td>300</td>\n",
       "      <td>300</td>\n",
       "      <td>300</td>\n",
       "      <td>300</td>\n",
       "      <td>300</td>\n",
       "    </tr>\n",
       "    <tr>\n",
       "      <th>unique</th>\n",
       "      <td>3</td>\n",
       "      <td>3</td>\n",
       "      <td>2</td>\n",
       "      <td>2</td>\n",
       "      <td>6</td>\n",
       "      <td>3</td>\n",
       "      <td>3</td>\n",
       "      <td>7</td>\n",
       "    </tr>\n",
       "    <tr>\n",
       "      <th>top</th>\n",
       "      <td>A</td>\n",
       "      <td>Yangon</td>\n",
       "      <td>Member</td>\n",
       "      <td>Female</td>\n",
       "      <td>Electronic accessories</td>\n",
       "      <td>Ewallet</td>\n",
       "      <td>evening</td>\n",
       "      <td>Saturday</td>\n",
       "    </tr>\n",
       "    <tr>\n",
       "      <th>freq</th>\n",
       "      <td>104</td>\n",
       "      <td>104</td>\n",
       "      <td>155</td>\n",
       "      <td>157</td>\n",
       "      <td>58</td>\n",
       "      <td>110</td>\n",
       "      <td>123</td>\n",
       "      <td>50</td>\n",
       "    </tr>\n",
       "  </tbody>\n",
       "</table>\n",
       "</div>"
      ],
      "text/plain": [
       "       branch    city customer_type  gender            product_line  \\\n",
       "count     300     300           300     300                     300   \n",
       "unique      3       3             2       2                       6   \n",
       "top         A  Yangon        Member  Female  Electronic accessories   \n",
       "freq      104     104           155     157                      58   \n",
       "\n",
       "       payment_method time_of_day  day_name  \n",
       "count             300         300       300  \n",
       "unique              3           3         7  \n",
       "top           Ewallet     evening  Saturday  \n",
       "freq              110         123        50  "
      ]
     },
     "execution_count": 28,
     "metadata": {},
     "output_type": "execute_result"
    }
   ],
   "source": [
    "test.describe(include='O')"
   ]
  },
  {
   "cell_type": "code",
   "execution_count": 29,
   "metadata": {
    "colab": {
     "base_uri": "https://localhost:8080/"
    },
    "id": "HD9OAVRNnd-O",
    "outputId": "366157ea-72e9-4ce4-a190-312fc37d9f6d"
   },
   "outputs": [
    {
     "data": {
      "text/plain": [
       "np.int64(0)"
      ]
     },
     "execution_count": 29,
     "metadata": {},
     "output_type": "execute_result"
    }
   ],
   "source": [
    "train.isnull().sum().sum()"
   ]
  },
  {
   "cell_type": "code",
   "execution_count": 30,
   "metadata": {
    "colab": {
     "base_uri": "https://localhost:8080/"
    },
    "id": "kL6lokT5neA-",
    "outputId": "b1fc2a35-04d7-48b7-dbbf-98ab3f1e685d"
   },
   "outputs": [
    {
     "data": {
      "text/plain": [
       "np.int64(0)"
      ]
     },
     "execution_count": 30,
     "metadata": {},
     "output_type": "execute_result"
    }
   ],
   "source": [
    "test.isnull().sum().sum()"
   ]
  },
  {
   "cell_type": "code",
   "execution_count": 31,
   "metadata": {
    "colab": {
     "base_uri": "https://localhost:8080/",
     "height": 490
    },
    "id": "nd5vn9iciu2i",
    "outputId": "c1ff52f9-3290-4725-a35a-27da9d1c9a5e"
   },
   "outputs": [
    {
     "data": {
      "text/plain": [
       "total\n",
       "283641.75     2\n",
       "263875.50     2\n",
       "415422.00     2\n",
       "326450.25     2\n",
       "130851.00     2\n",
       "             ..\n",
       "293391.00     1\n",
       "137103.75     1\n",
       "348232.50     1\n",
       "104107.50     1\n",
       "1535625.00    1\n",
       "Name: count, Length: 695, dtype: int64"
      ]
     },
     "execution_count": 31,
     "metadata": {},
     "output_type": "execute_result"
    }
   ],
   "source": [
    "train['total'].value_counts()"
   ]
  },
  {
   "cell_type": "code",
   "execution_count": 32,
   "metadata": {
    "colab": {
     "base_uri": "https://localhost:8080/",
     "height": 335
    },
    "id": "a5WVQ2EFUCYL",
    "outputId": "5a5c7204-e6c4-435a-d54d-6bfe70a2eb4c"
   },
   "outputs": [
    {
     "data": {
      "text/plain": [
       "count       700.0000000000\n",
       "mean     485078.0175000000\n",
       "std      364390.7265411940\n",
       "min       19041.7500000000\n",
       "25%      200119.5000000000\n",
       "50%      381874.5000000000\n",
       "75%      706127.6250000000\n",
       "max     1563975.0000000002\n",
       "Name: total, dtype: float64"
      ]
     },
     "execution_count": 32,
     "metadata": {},
     "output_type": "execute_result"
    }
   ],
   "source": [
    "pd.set_option('display.float_format', '{:.10f}'.format)\n",
    "train['total'].describe()"
   ]
  },
  {
   "cell_type": "markdown",
   "metadata": {
    "id": "UvVLoQBP1z5A"
   },
   "source": [
    "## 4. 데이터 전처리"
   ]
  },
  {
   "cell_type": "code",
   "execution_count": 33,
   "metadata": {
    "id": "C6UGliMFcMhf"
   },
   "outputs": [],
   "source": [
    "target = train.pop('total')"
   ]
  },
  {
   "cell_type": "code",
   "execution_count": 34,
   "metadata": {
    "colab": {
     "base_uri": "https://localhost:8080/"
    },
    "id": "nkWaHf1izCqr",
    "outputId": "ff70a6b9-7636-432f-d46b-7f16ea95738a"
   },
   "outputs": [
    {
     "name": "stdout",
     "output_type": "stream",
     "text": [
      "(700, 9) (300, 9)\n",
      "(700, 30) (300, 30)\n"
     ]
    }
   ],
   "source": [
    "print(train.shape, test.shape)\n",
    "train = pd.get_dummies(train)\n",
    "test = pd.get_dummies(test)\n",
    "print(train.shape, test.shape)"
   ]
  },
  {
   "cell_type": "markdown",
   "metadata": {
    "id": "6KND1n8b14uj"
   },
   "source": [
    "## 5. 검증 데이터 분할"
   ]
  },
  {
   "cell_type": "code",
   "execution_count": 35,
   "metadata": {
    "colab": {
     "base_uri": "https://localhost:8080/"
    },
    "id": "qvHUGFeFhyqu",
    "outputId": "8492eda2-5d20-47ec-c12f-82d90afc71a7"
   },
   "outputs": [
    {
     "data": {
      "text/plain": [
       "((560, 30), (140, 30), (560,), (140,))"
      ]
     },
     "execution_count": 35,
     "metadata": {},
     "output_type": "execute_result"
    }
   ],
   "source": [
    "from sklearn.model_selection import train_test_split\n",
    "X_tr, X_val, y_tr, y_val = train_test_split(train, target, test_size=0.2, random_state=0)\n",
    "X_tr.shape, X_val.shape, y_tr.shape, y_val.shape"
   ]
  },
  {
   "cell_type": "markdown",
   "metadata": {
    "id": "VAhoGGf-17uM"
   },
   "source": [
    "## 6. 머신러닝 학습 및 평가"
   ]
  },
  {
   "cell_type": "code",
   "execution_count": 36,
   "metadata": {
    "id": "Ra2PAD0YzZJN"
   },
   "outputs": [],
   "source": [
    "from sklearn.metrics import mean_squared_error\n",
    "def rmse(y_true, y_pred):\n",
    "    return mean_squared_error(y_true, y_pred)**0.5"
   ]
  },
  {
   "cell_type": "code",
   "execution_count": 37,
   "metadata": {
    "colab": {
     "base_uri": "https://localhost:8080/"
    },
    "id": "6B_UWz_a2pTh",
    "outputId": "d8b008c4-2ee5-4056-89f4-f869ac2ea0ef"
   },
   "outputs": [
    {
     "data": {
      "text/plain": [
       "np.float64(374016.3661648522)"
      ]
     },
     "execution_count": 37,
     "metadata": {},
     "output_type": "execute_result"
    }
   ],
   "source": [
    "# 선형회귀\n",
    "from sklearn.linear_model import LinearRegression\n",
    "lr = LinearRegression()\n",
    "lr.fit(X_tr, y_tr)\n",
    "pred = lr.predict(X_val)\n",
    "rmse(y_val, pred)"
   ]
  },
  {
   "cell_type": "code",
   "execution_count": 38,
   "metadata": {
    "colab": {
     "base_uri": "https://localhost:8080/"
    },
    "id": "xA5lV-MXh3sZ",
    "outputId": "c5e0258a-efe8-4636-c570-3a968711c35e"
   },
   "outputs": [
    {
     "data": {
      "text/plain": [
       "np.float64(385951.8053430962)"
      ]
     },
     "execution_count": 38,
     "metadata": {},
     "output_type": "execute_result"
    }
   ],
   "source": [
    "# 랜덤포레스트\n",
    "from sklearn.ensemble import RandomForestRegressor\n",
    "rf = RandomForestRegressor(random_state=0)\n",
    "rf.fit(X_tr, y_tr)\n",
    "pred = rf.predict(X_val)\n",
    "rmse(y_val, pred)"
   ]
  },
  {
   "cell_type": "code",
   "execution_count": null,
   "metadata": {},
   "outputs": [],
   "source": [
    "# Xgboost\n",
    "import xgboost as xgb\n",
    "xg = xgb.XGBRegressor(random_state=0)\n",
    "xg.fit(X_tr, y_tr)\n",
    "pred = xg.predict(X_val)\n",
    "rmse(y_val, pred)"
   ]
  },
  {
   "cell_type": "code",
   "execution_count": null,
   "metadata": {
    "colab": {
     "base_uri": "https://localhost:8080/"
    },
    "id": "3Q8K93uM29ma",
    "outputId": "0f8ef006-c1d5-4e8a-e4e2-51fd765a4055"
   },
   "outputs": [],
   "source": [
    "# LightGBM\n",
    "import lightgbm as lgb\n",
    "lg = lgb.LGBMRegressor(random_state=0, verbose=-1)\n",
    "lg.fit(X_tr, y_tr)\n",
    "pred = lg.predict(X_val)\n",
    "rmse(y_val, pred)"
   ]
  },
  {
   "cell_type": "markdown",
   "metadata": {
    "id": "Cx5zX7W4iL4F"
   },
   "source": [
    "## 7. 예측 및 결과 파일 생성"
   ]
  },
  {
   "cell_type": "code",
   "execution_count": 44,
   "metadata": {
    "id": "aZRKbOifiJYA"
   },
   "outputs": [],
   "source": [
    "pred = lr.predict(test)\n",
    "result = pd.DataFrame({\n",
    "    'pred':pred\n",
    "})\n",
    "result.to_csv(\"result.csv\", index=False)"
   ]
  },
  {
   "cell_type": "code",
   "execution_count": 45,
   "metadata": {
    "colab": {
     "base_uri": "https://localhost:8080/",
     "height": 423
    },
    "id": "74VLjg8vv_Kw",
    "outputId": "26fdbdc8-9800-447b-f749-5177b64e64ba"
   },
   "outputs": [
    {
     "data": {
      "text/html": [
       "<div>\n",
       "<style scoped>\n",
       "    .dataframe tbody tr th:only-of-type {\n",
       "        vertical-align: middle;\n",
       "    }\n",
       "\n",
       "    .dataframe tbody tr th {\n",
       "        vertical-align: top;\n",
       "    }\n",
       "\n",
       "    .dataframe thead th {\n",
       "        text-align: right;\n",
       "    }\n",
       "</style>\n",
       "<table border=\"1\" class=\"dataframe\">\n",
       "  <thead>\n",
       "    <tr style=\"text-align: right;\">\n",
       "      <th></th>\n",
       "      <th>pred</th>\n",
       "    </tr>\n",
       "  </thead>\n",
       "  <tbody>\n",
       "    <tr>\n",
       "      <th>0</th>\n",
       "      <td>485484.5740277334</td>\n",
       "    </tr>\n",
       "    <tr>\n",
       "      <th>1</th>\n",
       "      <td>474683.4165377701</td>\n",
       "    </tr>\n",
       "    <tr>\n",
       "      <th>2</th>\n",
       "      <td>486669.1574532852</td>\n",
       "    </tr>\n",
       "    <tr>\n",
       "      <th>3</th>\n",
       "      <td>426407.8222290425</td>\n",
       "    </tr>\n",
       "    <tr>\n",
       "      <th>4</th>\n",
       "      <td>599942.9042138030</td>\n",
       "    </tr>\n",
       "    <tr>\n",
       "      <th>...</th>\n",
       "      <td>...</td>\n",
       "    </tr>\n",
       "    <tr>\n",
       "      <th>295</th>\n",
       "      <td>501132.5887398274</td>\n",
       "    </tr>\n",
       "    <tr>\n",
       "      <th>296</th>\n",
       "      <td>554273.9221195823</td>\n",
       "    </tr>\n",
       "    <tr>\n",
       "      <th>297</th>\n",
       "      <td>540502.7549631427</td>\n",
       "    </tr>\n",
       "    <tr>\n",
       "      <th>298</th>\n",
       "      <td>550704.8821613132</td>\n",
       "    </tr>\n",
       "    <tr>\n",
       "      <th>299</th>\n",
       "      <td>506543.6684025059</td>\n",
       "    </tr>\n",
       "  </tbody>\n",
       "</table>\n",
       "<p>300 rows × 1 columns</p>\n",
       "</div>"
      ],
      "text/plain": [
       "                 pred\n",
       "0   485484.5740277334\n",
       "1   474683.4165377701\n",
       "2   486669.1574532852\n",
       "3   426407.8222290425\n",
       "4   599942.9042138030\n",
       "..                ...\n",
       "295 501132.5887398274\n",
       "296 554273.9221195823\n",
       "297 540502.7549631427\n",
       "298 550704.8821613132\n",
       "299 506543.6684025059\n",
       "\n",
       "[300 rows x 1 columns]"
      ]
     },
     "execution_count": 45,
     "metadata": {},
     "output_type": "execute_result"
    }
   ],
   "source": [
    "pd.read_csv('result.csv')"
   ]
  },
  {
   "cell_type": "markdown",
   "metadata": {
    "id": "VyH2Xd_8Dh-B"
   },
   "source": [
    "## 8. 성능 개선"
   ]
  },
  {
   "cell_type": "code",
   "execution_count": 46,
   "metadata": {
    "colab": {
     "base_uri": "https://localhost:8080/"
    },
    "id": "r1ByVJ6b6q8a",
    "outputId": "a6ae3fb8-05a7-4531-e755-637e8109d51e"
   },
   "outputs": [
    {
     "name": "stdout",
     "output_type": "stream",
     "text": [
      "371070.1344734549\n"
     ]
    }
   ],
   "source": [
    "# 데이터 불러오기\n",
    "import pandas as pd\n",
    "train = pd.read_csv(\"https://raw.githubusercontent.com/lovedlim/inf/refs/heads/main/p4/7_2/mart_train.csv\")\n",
    "test = pd.read_csv(\"https://raw.githubusercontent.com/lovedlim/inf/refs/heads/main/p4/7_2/mart_test.csv\")\n",
    "\n",
    "# target 데이터\n",
    "target = train.pop('total')\n",
    "\n",
    "# 레이블 인코딩\n",
    "from sklearn.preprocessing import LabelEncoder\n",
    "cols = train.select_dtypes(include='O').columns\n",
    "\n",
    "for col in cols:\n",
    "    le = LabelEncoder()\n",
    "    train[col] = le.fit_transform(train[col])\n",
    "    test[col] = le.transform(test[col])\n",
    "\n",
    "# 검증데이터 분리\n",
    "from sklearn.model_selection import train_test_split\n",
    "X_tr, X_val, y_tr, y_val = train_test_split(train, target, test_size=0.2, random_state=0)\n",
    "\n",
    "# 선형회귀\n",
    "from sklearn.linear_model import LinearRegression\n",
    "lr = LinearRegression()\n",
    "lr.fit(X_tr, y_tr)\n",
    "pred = lr.predict(X_val)\n",
    "print(rmse(y_val, pred))\n",
    "\n",
    "# 최종 제출 파일\n",
    "pred = lr.predict(test)\n",
    "result = pd.DataFrame({\n",
    "    'pred':pred\n",
    "})\n",
    "result.to_csv(\"result.csv\", index=False)\n",
    "\n",
    "# 베이스라인(원핫 인코딩): 374016.3661648522\n",
    "# 레이블 인코딩: 371070.1344734549"
   ]
  },
  {
   "cell_type": "markdown",
   "metadata": {},
   "source": [
    "# 기출 7회_작업형3"
   ]
  },
  {
   "cell_type": "markdown",
   "metadata": {
    "id": "paHiKoCrtKnv"
   },
   "source": [
    "## 문제1\n",
    "주어진 조개 데이터 300개 중 앞에서부터 210개는 train 데이터로 만들고, 나머지 90개는 test데이터로 만든다. 모델을 학습(적합)할 때는 train데이터를 사용하고, 예측할 때는 test데이터를 사용한다. 모델은 로지스틱 회귀를 써서 성별(gender)을 예측하되, 패널티는 부과하지 않는다.\n",
    "- 종속변수: gender(0:암컷, 1:수컷)"
   ]
  },
  {
   "cell_type": "markdown",
   "metadata": {
    "id": "6NFP8vjOX0eu"
   },
   "source": [
    "### 문제1-1. weight를 독립변수로 gender를 종속변수로 사용하여 로지스틱 회귀 모형을 만들고, weight 변수가 한 단위 증가할 때 수컷일 오즈비 값은? (반올림하여 소수 넷째자리까지 계산)"
   ]
  },
  {
   "cell_type": "code",
   "execution_count": null,
   "metadata": {
    "colab": {
     "base_uri": "https://localhost:8080/"
    },
    "id": "H38dKQCTrB_5",
    "outputId": "fbe81359-64af-4daa-df00-3a334601b5e3"
   },
   "outputs": [
    {
     "name": "stdout",
     "output_type": "stream",
     "text": [
      "(210, 6) (90, 6)\n"
     ]
    }
   ],
   "source": [
    "import pandas as pd\n",
    "df = pd.read_csv(\"https://raw.githubusercontent.com/lovedlim/inf/refs/heads/main/p4/7_3/clam.csv\")\n",
    "\n",
    "# 데이터셋 분할\n",
    "train = df.iloc[:210]\n",
    "test = df.iloc[210:]\n",
    "print(train.shape, test.shape)"
   ]
  },
  {
   "cell_type": "code",
   "execution_count": null,
   "metadata": {
    "colab": {
     "base_uri": "https://localhost:8080/"
    },
    "id": "m9Y_2uBYFnot",
    "outputId": "526892a7-f67c-42e4-91eb-68970bd5ff2e"
   },
   "outputs": [
    {
     "name": "stdout",
     "output_type": "stream",
     "text": [
      "Optimization terminated successfully.\n",
      "         Current function value: 0.690045\n",
      "         Iterations 4\n",
      "                           Logit Regression Results                           \n",
      "==============================================================================\n",
      "Dep. Variable:                 gender   No. Observations:                  210\n",
      "Model:                          Logit   Df Residuals:                      208\n",
      "Method:                           MLE   Df Model:                            1\n",
      "Date:                Sat, 21 Sep 2024   Pseudo R-squ.:                0.003431\n",
      "Time:                        05:54:09   Log-Likelihood:                -144.91\n",
      "converged:                       True   LL-Null:                       -145.41\n",
      "Covariance Type:            nonrobust   LLR p-value:                    0.3178\n",
      "==============================================================================\n",
      "                 coef    std err          z      P>|z|      [0.025      0.975]\n",
      "------------------------------------------------------------------------------\n",
      "Intercept     -0.3140      0.276     -1.137      0.256      -0.855       0.227\n",
      "weight         0.0047      0.005      0.997      0.319      -0.005       0.014\n",
      "==============================================================================\n",
      "1.0047\n",
      "1.0047\n"
     ]
    }
   ],
   "source": [
    "from statsmodels.formula.api import logit\n",
    "import numpy as np\n",
    "\n",
    "# 1) 로지스틱 회귀 모델 생성 및 학습\n",
    "model = logit(\"gender ~ weight\", data=train).fit()\n",
    "print(model.summary())\n",
    "\n",
    "# 2) 오즈비 계산\n",
    "print(round(np.exp(0.0047),4))\n",
    "print(round(np.exp(model.params['weight']),4))"
   ]
  },
  {
   "cell_type": "code",
   "execution_count": null,
   "metadata": {
    "colab": {
     "base_uri": "https://localhost:8080/"
    },
    "id": "8VXvWUtBejzJ",
    "outputId": "3a8aa570-613b-4973-89e6-0cc32f83c4c2"
   },
   "outputs": [
    {
     "name": "stdout",
     "output_type": "stream",
     "text": [
      "0.9953\n"
     ]
    }
   ],
   "source": [
    "# [참고] <심화학습> 암컷의 오즈비\n",
    "female_odds_ratio = round(np.exp(-model.params['weight']), 4)\n",
    "print(female_odds_ratio)"
   ]
  },
  {
   "cell_type": "markdown",
   "metadata": {
    "id": "yeKVhetBtS8N"
   },
   "source": [
    "### 문제1-2. gender를 종속변수로 하고 나머지 변수들(age, length, diameter, height, weight)을 독립변수로 사용하는 로지스틱 회귀 모델을 적합시킨 후, 잔차 이탈도(Residual Deviance)를 계산하시오. (반올림하여 소수 둘째자리까지 계산)"
   ]
  },
  {
   "cell_type": "code",
   "execution_count": null,
   "metadata": {
    "colab": {
     "base_uri": "https://localhost:8080/"
    },
    "id": "mrJ22ZjDjthA",
    "outputId": "3c0da222-7d3e-47b5-853d-d9ddd0c65107"
   },
   "outputs": [
    {
     "name": "stdout",
     "output_type": "stream",
     "text": [
      "Optimization terminated successfully.\n",
      "         Current function value: 0.683173\n",
      "         Iterations 4\n",
      "                           Logit Regression Results                           \n",
      "==============================================================================\n",
      "Dep. Variable:                 gender   No. Observations:                  210\n",
      "Model:                          Logit   Df Residuals:                      204\n",
      "Method:                           MLE   Df Model:                            5\n",
      "Date:                Sat, 21 Sep 2024   Pseudo R-squ.:                 0.01336\n",
      "Time:                        05:54:09   Log-Likelihood:                -143.47\n",
      "converged:                       True   LL-Null:                       -145.41\n",
      "Covariance Type:            nonrobust   LLR p-value:                    0.5662\n",
      "==============================================================================\n",
      "                 coef    std err          z      P>|z|      [0.025      0.975]\n",
      "------------------------------------------------------------------------------\n",
      "Intercept      0.6701      0.651      1.030      0.303      -0.605       1.946\n",
      "age           -0.0482      0.055     -0.881      0.378      -0.156       0.059\n",
      "length        -0.7832      0.998     -0.785      0.433      -2.739       1.173\n",
      "diameter      -1.1573      1.389     -0.833      0.405      -3.880       1.565\n",
      "height        -2.2977      2.640     -0.870      0.384      -7.472       2.877\n",
      "weight         0.0054      0.005      1.098      0.272      -0.004       0.015\n",
      "==============================================================================\n",
      "286.93\n"
     ]
    }
   ],
   "source": [
    "# 방법1\n",
    "from statsmodels.formula.api import logit\n",
    "\n",
    "# 1) 로지스틱 회귀 모델 생성 및 학습\n",
    "model = logit(\"gender ~ age + length + diameter + height + weight\", data=train).fit()\n",
    "print(model.summary())\n",
    "\n",
    "# 2) 잔차 이탈도 계산\n",
    "print(round(-2 * model.llf,2))"
   ]
  },
  {
   "cell_type": "code",
   "execution_count": null,
   "metadata": {
    "colab": {
     "base_uri": "https://localhost:8080/"
    },
    "id": "w970_hIsSV2U",
    "outputId": "311dda4a-b242-4df2-c148-9d0f8b7e5f70"
   },
   "outputs": [
    {
     "name": "stdout",
     "output_type": "stream",
     "text": [
      "                 Generalized Linear Model Regression Results                  \n",
      "==============================================================================\n",
      "Dep. Variable:                 gender   No. Observations:                  210\n",
      "Model:                            GLM   Df Residuals:                      204\n",
      "Model Family:                Binomial   Df Model:                            5\n",
      "Link Function:                  Logit   Scale:                          1.0000\n",
      "Method:                          IRLS   Log-Likelihood:                -143.47\n",
      "Date:                Sat, 21 Sep 2024   Deviance:                       286.93\n",
      "Time:                        05:54:09   Pearson chi2:                     210.\n",
      "No. Iterations:                     4   Pseudo R-squ. (CS):            0.01833\n",
      "Covariance Type:            nonrobust                                         \n",
      "==============================================================================\n",
      "                 coef    std err          z      P>|z|      [0.025      0.975]\n",
      "------------------------------------------------------------------------------\n",
      "Intercept      0.6701      0.651      1.030      0.303      -0.605       1.946\n",
      "age           -0.0482      0.055     -0.881      0.378      -0.156       0.059\n",
      "length        -0.7832      0.998     -0.785      0.433      -2.739       1.173\n",
      "diameter      -1.1573      1.389     -0.833      0.405      -3.880       1.565\n",
      "height        -2.2977      2.640     -0.870      0.384      -7.472       2.877\n",
      "weight         0.0054      0.005      1.098      0.272      -0.004       0.015\n",
      "==============================================================================\n",
      "286.93\n"
     ]
    }
   ],
   "source": [
    "# 방법2\n",
    "from statsmodels.formula.api import glm\n",
    "import statsmodels.api as sm\n",
    "\n",
    "# 1) glm 모델 적합 (로지스틱 회귀를 위해 이항 분포 사용)\n",
    "formula = \"gender ~ age + length + diameter + height + weight\"\n",
    "model = glm(formula, data=train, family=sm.families.Binomial()).fit()\n",
    "\n",
    "# 2) 잔차이탈도 계산\n",
    "print(model.summary())\n",
    "print(round(model.deviance,2))"
   ]
  },
  {
   "cell_type": "markdown",
   "metadata": {
    "id": "x4u7dfFTtUs9"
   },
   "source": [
    "### 문제1-3. 독립변수 weight 만 사용해 학습한 로지스틱 회귀모델에서 test데이터의 gender를 예측하고, error rate(오류율)를 구하시오. (반올림하여 소수 셋째자리까지 계산)"
   ]
  },
  {
   "cell_type": "code",
   "execution_count": null,
   "metadata": {
    "colab": {
     "base_uri": "https://localhost:8080/"
    },
    "id": "7x8XLDu4HksT",
    "outputId": "d9c4a422-f25b-40f6-b90b-43da0e2cd664"
   },
   "outputs": [
    {
     "name": "stdout",
     "output_type": "stream",
     "text": [
      "Optimization terminated successfully.\n",
      "         Current function value: 0.690045\n",
      "         Iterations 4\n",
      "0.478\n"
     ]
    }
   ],
   "source": [
    "from sklearn.metrics import accuracy_score\n",
    "from statsmodels.formula.api import logit\n",
    "\n",
    "# 데이터셋 분할\n",
    "train = df.iloc[:210]\n",
    "test = df.iloc[210:]\n",
    "\n",
    "# 1) 학습, test데이터를 사용해 예측 (0.5 미만: 0, 0.5 이상 1)\n",
    "model = logit(\"gender ~ weight\", data=train).fit()\n",
    "target = test.pop(\"gender\")\n",
    "pred = model.predict(test) > 0.5\n",
    "\n",
    "# 2) 실제 값과 예측 값을 사용하여 정확도 계산\n",
    "acc = accuracy_score(target, pred)\n",
    "\n",
    "# 3) 오류율 계산\n",
    "print(round(1-acc,3))"
   ]
  },
  {
   "cell_type": "code",
   "execution_count": null,
   "metadata": {
    "colab": {
     "base_uri": "https://localhost:8080/"
    },
    "id": "qplJXpi_9Bu8",
    "outputId": "0ee82852-9a56-48de-a17a-f7b0eb3f36fa"
   },
   "outputs": [
    {
     "name": "stdout",
     "output_type": "stream",
     "text": [
      "0.478\n"
     ]
    }
   ],
   "source": [
    "# 다른 풀이 (사이킷런)\n",
    "from sklearn.metrics import accuracy_score\n",
    "from sklearn.linear_model import LogisticRegression\n",
    "\n",
    "train = df.iloc[:210]\n",
    "test = df.iloc[210:]\n",
    "\n",
    "# 1) 학습 데이터와 테스트 데이터 분리\n",
    "X_train = train[['weight']]\n",
    "y_train = train['gender']\n",
    "X_test = test[['weight']]\n",
    "y_test = test['gender']\n",
    "\n",
    "# 2) 로지스틱 회귀 모델 학습\n",
    "model = LogisticRegression()\n",
    "model.fit(X_train, y_train)\n",
    "\n",
    "# 3) 테스트 데이터를 사용해 예측\n",
    "pred = model.predict(X_test)\n",
    "\n",
    "# 4) 실제 값과 예측값을 사용하여 정확도 계산\n",
    "acc = accuracy_score(y_test, pred)\n",
    "\n",
    "# 5) 오류율 계산\n",
    "print(round(1 - acc, 3))"
   ]
  },
  {
   "cell_type": "markdown",
   "metadata": {},
   "source": [
    "## 문제2"
   ]
  },
  {
   "cell_type": "markdown",
   "metadata": {
    "id": "4MSQ0eB1tWsh"
   },
   "source": [
    "### 문제2-1. ERP와 가장 상관관계 높은값을 구하시오. (반올림하여 소수 셋째자리까지 계산)"
   ]
  },
  {
   "cell_type": "code",
   "execution_count": null,
   "metadata": {
    "colab": {
     "base_uri": "https://localhost:8080/",
     "height": 143
    },
    "id": "OlvzgzRDcNt8",
    "outputId": "878740b1-2a3f-450e-cff7-2a460449c205"
   },
   "outputs": [
    {
     "data": {
      "application/vnd.google.colaboratory.intrinsic+json": {
       "summary": "{\n  \"name\": \"df\",\n  \"rows\": 100,\n  \"fields\": [\n    {\n      \"column\": \"ERP\",\n      \"properties\": {\n        \"dtype\": \"number\",\n        \"std\": 20.259195385370035,\n        \"min\": 48.94020368331843,\n        \"max\": 145.39509247975215,\n        \"num_unique_values\": 100,\n        \"samples\": [\n          69.27512627445552,\n          76.38735631755176,\n          114.58181124355072\n        ],\n        \"semantic_type\": \"\",\n        \"description\": \"\"\n      }\n    },\n    {\n      \"column\": \"Feature1\",\n      \"properties\": {\n        \"dtype\": \"number\",\n        \"std\": 60.80665490632658,\n        \"min\": -48.5652407934391,\n        \"max\": 235.0880338633348,\n        \"num_unique_values\": 100,\n        \"samples\": [\n          -48.5652407934391,\n          32.586113768624,\n          163.38732890393413\n        ],\n        \"semantic_type\": \"\",\n        \"description\": \"\"\n      }\n    },\n    {\n      \"column\": \"Feature2\",\n      \"properties\": {\n        \"dtype\": \"number\",\n        \"std\": 14.351979484738417,\n        \"min\": 8.411108653600245,\n        \"max\": 84.55875046525912,\n        \"num_unique_values\": 100,\n        \"samples\": [\n          73.04565581368696,\n          45.210073742823575,\n          55.98569518460195\n        ],\n        \"semantic_type\": \"\",\n        \"description\": \"\"\n      }\n    },\n    {\n      \"column\": \"Feature3\",\n      \"properties\": {\n        \"dtype\": \"number\",\n        \"std\": 4.670185191697284,\n        \"min\": -43.2958611899837,\n        \"max\": -18.716382513508957,\n        \"num_unique_values\": 100,\n        \"samples\": [\n          -35.11253421817802,\n          -33.44724592274969,\n          -28.59779147341852\n        ],\n        \"semantic_type\": \"\",\n        \"description\": \"\"\n      }\n    },\n    {\n      \"column\": \"CPU\",\n      \"properties\": {\n        \"dtype\": \"number\",\n        \"std\": 30.281163894862836,\n        \"min\": 0.2703213893502698,\n        \"max\": 99.79622513286736,\n        \"num_unique_values\": 100,\n        \"samples\": [\n          97.95269293354586,\n          96.82864102942972,\n          3.961552257951773\n        ],\n        \"semantic_type\": \"\",\n        \"description\": \"\"\n      }\n    }\n  ]\n}",
       "type": "dataframe",
       "variable_name": "df"
      },
      "text/html": [
       "\n",
       "  <div id=\"df-fd807e9f-a753-4034-a011-02f2fe1c8c3e\" class=\"colab-df-container\">\n",
       "    <div>\n",
       "<style scoped>\n",
       "    .dataframe tbody tr th:only-of-type {\n",
       "        vertical-align: middle;\n",
       "    }\n",
       "\n",
       "    .dataframe tbody tr th {\n",
       "        vertical-align: top;\n",
       "    }\n",
       "\n",
       "    .dataframe thead th {\n",
       "        text-align: right;\n",
       "    }\n",
       "</style>\n",
       "<table border=\"1\" class=\"dataframe\">\n",
       "  <thead>\n",
       "    <tr style=\"text-align: right;\">\n",
       "      <th></th>\n",
       "      <th>ERP</th>\n",
       "      <th>Feature1</th>\n",
       "      <th>Feature2</th>\n",
       "      <th>Feature3</th>\n",
       "      <th>CPU</th>\n",
       "    </tr>\n",
       "  </thead>\n",
       "  <tbody>\n",
       "    <tr>\n",
       "      <th>0</th>\n",
       "      <td>135.281047</td>\n",
       "      <td>235.088034</td>\n",
       "      <td>44.462272</td>\n",
       "      <td>-36.532634</td>\n",
       "      <td>20.492369</td>\n",
       "    </tr>\n",
       "    <tr>\n",
       "      <th>1</th>\n",
       "      <td>108.003144</td>\n",
       "      <td>36.571914</td>\n",
       "      <td>46.409312</td>\n",
       "      <td>-21.709347</td>\n",
       "      <td>34.169811</td>\n",
       "    </tr>\n",
       "    <tr>\n",
       "      <th>2</th>\n",
       "      <td>119.574760</td>\n",
       "      <td>52.239055</td>\n",
       "      <td>66.494894</td>\n",
       "      <td>-30.590820</td>\n",
       "      <td>67.624248</td>\n",
       "    </tr>\n",
       "  </tbody>\n",
       "</table>\n",
       "</div>\n",
       "    <div class=\"colab-df-buttons\">\n",
       "\n",
       "  <div class=\"colab-df-container\">\n",
       "    <button class=\"colab-df-convert\" onclick=\"convertToInteractive('df-fd807e9f-a753-4034-a011-02f2fe1c8c3e')\"\n",
       "            title=\"Convert this dataframe to an interactive table.\"\n",
       "            style=\"display:none;\">\n",
       "\n",
       "  <svg xmlns=\"http://www.w3.org/2000/svg\" height=\"24px\" viewBox=\"0 -960 960 960\">\n",
       "    <path d=\"M120-120v-720h720v720H120Zm60-500h600v-160H180v160Zm220 220h160v-160H400v160Zm0 220h160v-160H400v160ZM180-400h160v-160H180v160Zm440 0h160v-160H620v160ZM180-180h160v-160H180v160Zm440 0h160v-160H620v160Z\"/>\n",
       "  </svg>\n",
       "    </button>\n",
       "\n",
       "  <style>\n",
       "    .colab-df-container {\n",
       "      display:flex;\n",
       "      gap: 12px;\n",
       "    }\n",
       "\n",
       "    .colab-df-convert {\n",
       "      background-color: #E8F0FE;\n",
       "      border: none;\n",
       "      border-radius: 50%;\n",
       "      cursor: pointer;\n",
       "      display: none;\n",
       "      fill: #1967D2;\n",
       "      height: 32px;\n",
       "      padding: 0 0 0 0;\n",
       "      width: 32px;\n",
       "    }\n",
       "\n",
       "    .colab-df-convert:hover {\n",
       "      background-color: #E2EBFA;\n",
       "      box-shadow: 0px 1px 2px rgba(60, 64, 67, 0.3), 0px 1px 3px 1px rgba(60, 64, 67, 0.15);\n",
       "      fill: #174EA6;\n",
       "    }\n",
       "\n",
       "    .colab-df-buttons div {\n",
       "      margin-bottom: 4px;\n",
       "    }\n",
       "\n",
       "    [theme=dark] .colab-df-convert {\n",
       "      background-color: #3B4455;\n",
       "      fill: #D2E3FC;\n",
       "    }\n",
       "\n",
       "    [theme=dark] .colab-df-convert:hover {\n",
       "      background-color: #434B5C;\n",
       "      box-shadow: 0px 1px 3px 1px rgba(0, 0, 0, 0.15);\n",
       "      filter: drop-shadow(0px 1px 2px rgba(0, 0, 0, 0.3));\n",
       "      fill: #FFFFFF;\n",
       "    }\n",
       "  </style>\n",
       "\n",
       "    <script>\n",
       "      const buttonEl =\n",
       "        document.querySelector('#df-fd807e9f-a753-4034-a011-02f2fe1c8c3e button.colab-df-convert');\n",
       "      buttonEl.style.display =\n",
       "        google.colab.kernel.accessAllowed ? 'block' : 'none';\n",
       "\n",
       "      async function convertToInteractive(key) {\n",
       "        const element = document.querySelector('#df-fd807e9f-a753-4034-a011-02f2fe1c8c3e');\n",
       "        const dataTable =\n",
       "          await google.colab.kernel.invokeFunction('convertToInteractive',\n",
       "                                                    [key], {});\n",
       "        if (!dataTable) return;\n",
       "\n",
       "        const docLinkHtml = 'Like what you see? Visit the ' +\n",
       "          '<a target=\"_blank\" href=https://colab.research.google.com/notebooks/data_table.ipynb>data table notebook</a>'\n",
       "          + ' to learn more about interactive tables.';\n",
       "        element.innerHTML = '';\n",
       "        dataTable['output_type'] = 'display_data';\n",
       "        await google.colab.output.renderOutput(dataTable, element);\n",
       "        const docLink = document.createElement('div');\n",
       "        docLink.innerHTML = docLinkHtml;\n",
       "        element.appendChild(docLink);\n",
       "      }\n",
       "    </script>\n",
       "  </div>\n",
       "\n",
       "\n",
       "<div id=\"df-977ef2fb-b6e3-4640-9dd6-fccf14be3e34\">\n",
       "  <button class=\"colab-df-quickchart\" onclick=\"quickchart('df-977ef2fb-b6e3-4640-9dd6-fccf14be3e34')\"\n",
       "            title=\"Suggest charts\"\n",
       "            style=\"display:none;\">\n",
       "\n",
       "<svg xmlns=\"http://www.w3.org/2000/svg\" height=\"24px\"viewBox=\"0 0 24 24\"\n",
       "     width=\"24px\">\n",
       "    <g>\n",
       "        <path d=\"M19 3H5c-1.1 0-2 .9-2 2v14c0 1.1.9 2 2 2h14c1.1 0 2-.9 2-2V5c0-1.1-.9-2-2-2zM9 17H7v-7h2v7zm4 0h-2V7h2v10zm4 0h-2v-4h2v4z\"/>\n",
       "    </g>\n",
       "</svg>\n",
       "  </button>\n",
       "\n",
       "<style>\n",
       "  .colab-df-quickchart {\n",
       "      --bg-color: #E8F0FE;\n",
       "      --fill-color: #1967D2;\n",
       "      --hover-bg-color: #E2EBFA;\n",
       "      --hover-fill-color: #174EA6;\n",
       "      --disabled-fill-color: #AAA;\n",
       "      --disabled-bg-color: #DDD;\n",
       "  }\n",
       "\n",
       "  [theme=dark] .colab-df-quickchart {\n",
       "      --bg-color: #3B4455;\n",
       "      --fill-color: #D2E3FC;\n",
       "      --hover-bg-color: #434B5C;\n",
       "      --hover-fill-color: #FFFFFF;\n",
       "      --disabled-bg-color: #3B4455;\n",
       "      --disabled-fill-color: #666;\n",
       "  }\n",
       "\n",
       "  .colab-df-quickchart {\n",
       "    background-color: var(--bg-color);\n",
       "    border: none;\n",
       "    border-radius: 50%;\n",
       "    cursor: pointer;\n",
       "    display: none;\n",
       "    fill: var(--fill-color);\n",
       "    height: 32px;\n",
       "    padding: 0;\n",
       "    width: 32px;\n",
       "  }\n",
       "\n",
       "  .colab-df-quickchart:hover {\n",
       "    background-color: var(--hover-bg-color);\n",
       "    box-shadow: 0 1px 2px rgba(60, 64, 67, 0.3), 0 1px 3px 1px rgba(60, 64, 67, 0.15);\n",
       "    fill: var(--button-hover-fill-color);\n",
       "  }\n",
       "\n",
       "  .colab-df-quickchart-complete:disabled,\n",
       "  .colab-df-quickchart-complete:disabled:hover {\n",
       "    background-color: var(--disabled-bg-color);\n",
       "    fill: var(--disabled-fill-color);\n",
       "    box-shadow: none;\n",
       "  }\n",
       "\n",
       "  .colab-df-spinner {\n",
       "    border: 2px solid var(--fill-color);\n",
       "    border-color: transparent;\n",
       "    border-bottom-color: var(--fill-color);\n",
       "    animation:\n",
       "      spin 1s steps(1) infinite;\n",
       "  }\n",
       "\n",
       "  @keyframes spin {\n",
       "    0% {\n",
       "      border-color: transparent;\n",
       "      border-bottom-color: var(--fill-color);\n",
       "      border-left-color: var(--fill-color);\n",
       "    }\n",
       "    20% {\n",
       "      border-color: transparent;\n",
       "      border-left-color: var(--fill-color);\n",
       "      border-top-color: var(--fill-color);\n",
       "    }\n",
       "    30% {\n",
       "      border-color: transparent;\n",
       "      border-left-color: var(--fill-color);\n",
       "      border-top-color: var(--fill-color);\n",
       "      border-right-color: var(--fill-color);\n",
       "    }\n",
       "    40% {\n",
       "      border-color: transparent;\n",
       "      border-right-color: var(--fill-color);\n",
       "      border-top-color: var(--fill-color);\n",
       "    }\n",
       "    60% {\n",
       "      border-color: transparent;\n",
       "      border-right-color: var(--fill-color);\n",
       "    }\n",
       "    80% {\n",
       "      border-color: transparent;\n",
       "      border-right-color: var(--fill-color);\n",
       "      border-bottom-color: var(--fill-color);\n",
       "    }\n",
       "    90% {\n",
       "      border-color: transparent;\n",
       "      border-bottom-color: var(--fill-color);\n",
       "    }\n",
       "  }\n",
       "</style>\n",
       "\n",
       "  <script>\n",
       "    async function quickchart(key) {\n",
       "      const quickchartButtonEl =\n",
       "        document.querySelector('#' + key + ' button');\n",
       "      quickchartButtonEl.disabled = true;  // To prevent multiple clicks.\n",
       "      quickchartButtonEl.classList.add('colab-df-spinner');\n",
       "      try {\n",
       "        const charts = await google.colab.kernel.invokeFunction(\n",
       "            'suggestCharts', [key], {});\n",
       "      } catch (error) {\n",
       "        console.error('Error during call to suggestCharts:', error);\n",
       "      }\n",
       "      quickchartButtonEl.classList.remove('colab-df-spinner');\n",
       "      quickchartButtonEl.classList.add('colab-df-quickchart-complete');\n",
       "    }\n",
       "    (() => {\n",
       "      let quickchartButtonEl =\n",
       "        document.querySelector('#df-977ef2fb-b6e3-4640-9dd6-fccf14be3e34 button');\n",
       "      quickchartButtonEl.style.display =\n",
       "        google.colab.kernel.accessAllowed ? 'block' : 'none';\n",
       "    })();\n",
       "  </script>\n",
       "</div>\n",
       "\n",
       "    </div>\n",
       "  </div>\n"
      ],
      "text/plain": [
       "          ERP    Feature1   Feature2   Feature3        CPU\n",
       "0  135.281047  235.088034  44.462272 -36.532634  20.492369\n",
       "1  108.003144   36.571914  46.409312 -21.709347  34.169811\n",
       "2  119.574760   52.239055  66.494894 -30.590820  67.624248"
      ]
     },
     "execution_count": 21,
     "metadata": {},
     "output_type": "execute_result"
    }
   ],
   "source": [
    "import pandas as pd\n",
    "df = pd.read_csv(\"https://raw.githubusercontent.com/lovedlim/inf/refs/heads/main/p4/7_3/system.csv\")\n",
    "df.head(3)"
   ]
  },
  {
   "cell_type": "code",
   "execution_count": null,
   "metadata": {
    "colab": {
     "base_uri": "https://localhost:8080/",
     "height": 206
    },
    "id": "6POPUMi3Axb6",
    "outputId": "5d649f6e-cf36-43e2-9716-3c9c13953ac3"
   },
   "outputs": [
    {
     "data": {
      "application/vnd.google.colaboratory.intrinsic+json": {
       "summary": "{\n  \"name\": \"# 0\",\n  \"rows\": 5,\n  \"fields\": [\n    {\n      \"column\": \"ERP\",\n      \"properties\": {\n        \"dtype\": \"number\",\n        \"std\": 0.481199216686988,\n        \"min\": -0.20102723783349116,\n        \"max\": 1.0,\n        \"num_unique_values\": 5,\n        \"samples\": [\n          0.43444249747725106,\n          -0.20102723783349116,\n          0.07611595177727812\n        ],\n        \"semantic_type\": \"\",\n        \"description\": \"\"\n      }\n    },\n    {\n      \"column\": \"Feature1\",\n      \"properties\": {\n        \"dtype\": \"number\",\n        \"std\": 0.4413797548501337,\n        \"min\": -0.09857078795116925,\n        \"max\": 1.0,\n        \"num_unique_values\": 5,\n        \"samples\": [\n          1.0,\n          -0.09857078795116925,\n          0.07614838763603192\n        ],\n        \"semantic_type\": \"\",\n        \"description\": \"\"\n      }\n    },\n    {\n      \"column\": \"Feature2\",\n      \"properties\": {\n        \"dtype\": \"number\",\n        \"std\": 0.4086734180977159,\n        \"min\": 0.0714557952074871,\n        \"max\": 1.0,\n        \"num_unique_values\": 5,\n        \"samples\": [\n          0.07614838763603192,\n          0.0714557952074871,\n          1.0\n        ],\n        \"semantic_type\": \"\",\n        \"description\": \"\"\n      }\n    },\n    {\n      \"column\": \"Feature3\",\n      \"properties\": {\n        \"dtype\": \"number\",\n        \"std\": 0.44425542523389533,\n        \"min\": -0.05988788881587478,\n        \"max\": 1.0,\n        \"num_unique_values\": 5,\n        \"samples\": [\n          0.049979695579111603,\n          -0.03524653455516123,\n          0.1265894119164779\n        ],\n        \"semantic_type\": \"\",\n        \"description\": \"\"\n      }\n    },\n    {\n      \"column\": \"CPU\",\n      \"properties\": {\n        \"dtype\": \"number\",\n        \"std\": 0.4868154622617554,\n        \"min\": -0.20102723783349116,\n        \"max\": 1.0,\n        \"num_unique_values\": 5,\n        \"samples\": [\n          -0.09857078795116925,\n          1.0,\n          0.0714557952074871\n        ],\n        \"semantic_type\": \"\",\n        \"description\": \"\"\n      }\n    }\n  ]\n}",
       "type": "dataframe"
      },
      "text/html": [
       "\n",
       "  <div id=\"df-323a50ec-747e-4be9-8902-e064f947cf9c\" class=\"colab-df-container\">\n",
       "    <div>\n",
       "<style scoped>\n",
       "    .dataframe tbody tr th:only-of-type {\n",
       "        vertical-align: middle;\n",
       "    }\n",
       "\n",
       "    .dataframe tbody tr th {\n",
       "        vertical-align: top;\n",
       "    }\n",
       "\n",
       "    .dataframe thead th {\n",
       "        text-align: right;\n",
       "    }\n",
       "</style>\n",
       "<table border=\"1\" class=\"dataframe\">\n",
       "  <thead>\n",
       "    <tr style=\"text-align: right;\">\n",
       "      <th></th>\n",
       "      <th>ERP</th>\n",
       "      <th>Feature1</th>\n",
       "      <th>Feature2</th>\n",
       "      <th>Feature3</th>\n",
       "      <th>CPU</th>\n",
       "    </tr>\n",
       "  </thead>\n",
       "  <tbody>\n",
       "    <tr>\n",
       "      <th>ERP</th>\n",
       "      <td>1.000000</td>\n",
       "      <td>0.434442</td>\n",
       "      <td>0.076116</td>\n",
       "      <td>-0.059888</td>\n",
       "      <td>-0.201027</td>\n",
       "    </tr>\n",
       "    <tr>\n",
       "      <th>Feature1</th>\n",
       "      <td>0.434442</td>\n",
       "      <td>1.000000</td>\n",
       "      <td>0.076148</td>\n",
       "      <td>0.049980</td>\n",
       "      <td>-0.098571</td>\n",
       "    </tr>\n",
       "    <tr>\n",
       "      <th>Feature2</th>\n",
       "      <td>0.076116</td>\n",
       "      <td>0.076148</td>\n",
       "      <td>1.000000</td>\n",
       "      <td>0.126589</td>\n",
       "      <td>0.071456</td>\n",
       "    </tr>\n",
       "    <tr>\n",
       "      <th>Feature3</th>\n",
       "      <td>-0.059888</td>\n",
       "      <td>0.049980</td>\n",
       "      <td>0.126589</td>\n",
       "      <td>1.000000</td>\n",
       "      <td>-0.035247</td>\n",
       "    </tr>\n",
       "    <tr>\n",
       "      <th>CPU</th>\n",
       "      <td>-0.201027</td>\n",
       "      <td>-0.098571</td>\n",
       "      <td>0.071456</td>\n",
       "      <td>-0.035247</td>\n",
       "      <td>1.000000</td>\n",
       "    </tr>\n",
       "  </tbody>\n",
       "</table>\n",
       "</div>\n",
       "    <div class=\"colab-df-buttons\">\n",
       "\n",
       "  <div class=\"colab-df-container\">\n",
       "    <button class=\"colab-df-convert\" onclick=\"convertToInteractive('df-323a50ec-747e-4be9-8902-e064f947cf9c')\"\n",
       "            title=\"Convert this dataframe to an interactive table.\"\n",
       "            style=\"display:none;\">\n",
       "\n",
       "  <svg xmlns=\"http://www.w3.org/2000/svg\" height=\"24px\" viewBox=\"0 -960 960 960\">\n",
       "    <path d=\"M120-120v-720h720v720H120Zm60-500h600v-160H180v160Zm220 220h160v-160H400v160Zm0 220h160v-160H400v160ZM180-400h160v-160H180v160Zm440 0h160v-160H620v160ZM180-180h160v-160H180v160Zm440 0h160v-160H620v160Z\"/>\n",
       "  </svg>\n",
       "    </button>\n",
       "\n",
       "  <style>\n",
       "    .colab-df-container {\n",
       "      display:flex;\n",
       "      gap: 12px;\n",
       "    }\n",
       "\n",
       "    .colab-df-convert {\n",
       "      background-color: #E8F0FE;\n",
       "      border: none;\n",
       "      border-radius: 50%;\n",
       "      cursor: pointer;\n",
       "      display: none;\n",
       "      fill: #1967D2;\n",
       "      height: 32px;\n",
       "      padding: 0 0 0 0;\n",
       "      width: 32px;\n",
       "    }\n",
       "\n",
       "    .colab-df-convert:hover {\n",
       "      background-color: #E2EBFA;\n",
       "      box-shadow: 0px 1px 2px rgba(60, 64, 67, 0.3), 0px 1px 3px 1px rgba(60, 64, 67, 0.15);\n",
       "      fill: #174EA6;\n",
       "    }\n",
       "\n",
       "    .colab-df-buttons div {\n",
       "      margin-bottom: 4px;\n",
       "    }\n",
       "\n",
       "    [theme=dark] .colab-df-convert {\n",
       "      background-color: #3B4455;\n",
       "      fill: #D2E3FC;\n",
       "    }\n",
       "\n",
       "    [theme=dark] .colab-df-convert:hover {\n",
       "      background-color: #434B5C;\n",
       "      box-shadow: 0px 1px 3px 1px rgba(0, 0, 0, 0.15);\n",
       "      filter: drop-shadow(0px 1px 2px rgba(0, 0, 0, 0.3));\n",
       "      fill: #FFFFFF;\n",
       "    }\n",
       "  </style>\n",
       "\n",
       "    <script>\n",
       "      const buttonEl =\n",
       "        document.querySelector('#df-323a50ec-747e-4be9-8902-e064f947cf9c button.colab-df-convert');\n",
       "      buttonEl.style.display =\n",
       "        google.colab.kernel.accessAllowed ? 'block' : 'none';\n",
       "\n",
       "      async function convertToInteractive(key) {\n",
       "        const element = document.querySelector('#df-323a50ec-747e-4be9-8902-e064f947cf9c');\n",
       "        const dataTable =\n",
       "          await google.colab.kernel.invokeFunction('convertToInteractive',\n",
       "                                                    [key], {});\n",
       "        if (!dataTable) return;\n",
       "\n",
       "        const docLinkHtml = 'Like what you see? Visit the ' +\n",
       "          '<a target=\"_blank\" href=https://colab.research.google.com/notebooks/data_table.ipynb>data table notebook</a>'\n",
       "          + ' to learn more about interactive tables.';\n",
       "        element.innerHTML = '';\n",
       "        dataTable['output_type'] = 'display_data';\n",
       "        await google.colab.output.renderOutput(dataTable, element);\n",
       "        const docLink = document.createElement('div');\n",
       "        docLink.innerHTML = docLinkHtml;\n",
       "        element.appendChild(docLink);\n",
       "      }\n",
       "    </script>\n",
       "  </div>\n",
       "\n",
       "\n",
       "<div id=\"df-3e071c7c-0a41-46b8-8a28-f83e3f21fc08\">\n",
       "  <button class=\"colab-df-quickchart\" onclick=\"quickchart('df-3e071c7c-0a41-46b8-8a28-f83e3f21fc08')\"\n",
       "            title=\"Suggest charts\"\n",
       "            style=\"display:none;\">\n",
       "\n",
       "<svg xmlns=\"http://www.w3.org/2000/svg\" height=\"24px\"viewBox=\"0 0 24 24\"\n",
       "     width=\"24px\">\n",
       "    <g>\n",
       "        <path d=\"M19 3H5c-1.1 0-2 .9-2 2v14c0 1.1.9 2 2 2h14c1.1 0 2-.9 2-2V5c0-1.1-.9-2-2-2zM9 17H7v-7h2v7zm4 0h-2V7h2v10zm4 0h-2v-4h2v4z\"/>\n",
       "    </g>\n",
       "</svg>\n",
       "  </button>\n",
       "\n",
       "<style>\n",
       "  .colab-df-quickchart {\n",
       "      --bg-color: #E8F0FE;\n",
       "      --fill-color: #1967D2;\n",
       "      --hover-bg-color: #E2EBFA;\n",
       "      --hover-fill-color: #174EA6;\n",
       "      --disabled-fill-color: #AAA;\n",
       "      --disabled-bg-color: #DDD;\n",
       "  }\n",
       "\n",
       "  [theme=dark] .colab-df-quickchart {\n",
       "      --bg-color: #3B4455;\n",
       "      --fill-color: #D2E3FC;\n",
       "      --hover-bg-color: #434B5C;\n",
       "      --hover-fill-color: #FFFFFF;\n",
       "      --disabled-bg-color: #3B4455;\n",
       "      --disabled-fill-color: #666;\n",
       "  }\n",
       "\n",
       "  .colab-df-quickchart {\n",
       "    background-color: var(--bg-color);\n",
       "    border: none;\n",
       "    border-radius: 50%;\n",
       "    cursor: pointer;\n",
       "    display: none;\n",
       "    fill: var(--fill-color);\n",
       "    height: 32px;\n",
       "    padding: 0;\n",
       "    width: 32px;\n",
       "  }\n",
       "\n",
       "  .colab-df-quickchart:hover {\n",
       "    background-color: var(--hover-bg-color);\n",
       "    box-shadow: 0 1px 2px rgba(60, 64, 67, 0.3), 0 1px 3px 1px rgba(60, 64, 67, 0.15);\n",
       "    fill: var(--button-hover-fill-color);\n",
       "  }\n",
       "\n",
       "  .colab-df-quickchart-complete:disabled,\n",
       "  .colab-df-quickchart-complete:disabled:hover {\n",
       "    background-color: var(--disabled-bg-color);\n",
       "    fill: var(--disabled-fill-color);\n",
       "    box-shadow: none;\n",
       "  }\n",
       "\n",
       "  .colab-df-spinner {\n",
       "    border: 2px solid var(--fill-color);\n",
       "    border-color: transparent;\n",
       "    border-bottom-color: var(--fill-color);\n",
       "    animation:\n",
       "      spin 1s steps(1) infinite;\n",
       "  }\n",
       "\n",
       "  @keyframes spin {\n",
       "    0% {\n",
       "      border-color: transparent;\n",
       "      border-bottom-color: var(--fill-color);\n",
       "      border-left-color: var(--fill-color);\n",
       "    }\n",
       "    20% {\n",
       "      border-color: transparent;\n",
       "      border-left-color: var(--fill-color);\n",
       "      border-top-color: var(--fill-color);\n",
       "    }\n",
       "    30% {\n",
       "      border-color: transparent;\n",
       "      border-left-color: var(--fill-color);\n",
       "      border-top-color: var(--fill-color);\n",
       "      border-right-color: var(--fill-color);\n",
       "    }\n",
       "    40% {\n",
       "      border-color: transparent;\n",
       "      border-right-color: var(--fill-color);\n",
       "      border-top-color: var(--fill-color);\n",
       "    }\n",
       "    60% {\n",
       "      border-color: transparent;\n",
       "      border-right-color: var(--fill-color);\n",
       "    }\n",
       "    80% {\n",
       "      border-color: transparent;\n",
       "      border-right-color: var(--fill-color);\n",
       "      border-bottom-color: var(--fill-color);\n",
       "    }\n",
       "    90% {\n",
       "      border-color: transparent;\n",
       "      border-bottom-color: var(--fill-color);\n",
       "    }\n",
       "  }\n",
       "</style>\n",
       "\n",
       "  <script>\n",
       "    async function quickchart(key) {\n",
       "      const quickchartButtonEl =\n",
       "        document.querySelector('#' + key + ' button');\n",
       "      quickchartButtonEl.disabled = true;  // To prevent multiple clicks.\n",
       "      quickchartButtonEl.classList.add('colab-df-spinner');\n",
       "      try {\n",
       "        const charts = await google.colab.kernel.invokeFunction(\n",
       "            'suggestCharts', [key], {});\n",
       "      } catch (error) {\n",
       "        console.error('Error during call to suggestCharts:', error);\n",
       "      }\n",
       "      quickchartButtonEl.classList.remove('colab-df-spinner');\n",
       "      quickchartButtonEl.classList.add('colab-df-quickchart-complete');\n",
       "    }\n",
       "    (() => {\n",
       "      let quickchartButtonEl =\n",
       "        document.querySelector('#df-3e071c7c-0a41-46b8-8a28-f83e3f21fc08 button');\n",
       "      quickchartButtonEl.style.display =\n",
       "        google.colab.kernel.accessAllowed ? 'block' : 'none';\n",
       "    })();\n",
       "  </script>\n",
       "</div>\n",
       "\n",
       "    </div>\n",
       "  </div>\n"
      ],
      "text/plain": [
       "               ERP  Feature1  Feature2  Feature3       CPU\n",
       "ERP       1.000000  0.434442  0.076116 -0.059888 -0.201027\n",
       "Feature1  0.434442  1.000000  0.076148  0.049980 -0.098571\n",
       "Feature2  0.076116  0.076148  1.000000  0.126589  0.071456\n",
       "Feature3 -0.059888  0.049980  0.126589  1.000000 -0.035247\n",
       "CPU      -0.201027 -0.098571  0.071456 -0.035247  1.000000"
      ]
     },
     "execution_count": 22,
     "metadata": {},
     "output_type": "execute_result"
    }
   ],
   "source": [
    "import pandas as pd\n",
    "df = pd.read_csv(\"https://raw.githubusercontent.com/lovedlim/inf/refs/heads/main/p4/7_3/system.csv\")\n",
    "\n",
    "# 1) ERP와 각 변수 사이의 상관계수 계산\n",
    "df.corr()\n",
    "# 0.434"
   ]
  },
  {
   "cell_type": "markdown",
   "metadata": {
    "id": "EVAJRDHi6gAG"
   },
   "source": [
    "### 문제2-2. CPU 컬럼이 100미만인 것만 찾아 ERP를 종속 변수로, 나머지 변수들을 독립 변수로 설정해 선형회귀 모델을 만들고 적합한 결정계수를 구하시오. (반올림하여 소수 셋째자리까지 계산)"
   ]
  },
  {
   "cell_type": "code",
   "execution_count": null,
   "metadata": {
    "colab": {
     "base_uri": "https://localhost:8080/"
    },
    "id": "QW0SyhImA1l0",
    "outputId": "c0b68706-dc0d-4504-c21e-7c16c815124f"
   },
   "outputs": [
    {
     "name": "stdout",
     "output_type": "stream",
     "text": [
      "                            OLS Regression Results                            \n",
      "==============================================================================\n",
      "Dep. Variable:                    ERP   R-squared:                       0.226\n",
      "Model:                            OLS   Adj. R-squared:                  0.193\n",
      "Method:                 Least Squares   F-statistic:                     6.937\n",
      "Date:                Sat, 21 Sep 2024   Prob (F-statistic):           6.07e-05\n",
      "Time:                        05:54:10   Log-Likelihood:                -429.44\n",
      "No. Observations:                 100   AIC:                             868.9\n",
      "Df Residuals:                      95   BIC:                             881.9\n",
      "Df Model:                           4                                         \n",
      "Covariance Type:            nonrobust                                         \n",
      "==============================================================================\n",
      "                 coef    std err          t      P>|t|      [0.025      0.975]\n",
      "------------------------------------------------------------------------------\n",
      "Intercept     74.4348     15.094      4.932      0.000      44.470     104.399\n",
      "Feature1       0.1391      0.030      4.583      0.000       0.079       0.199\n",
      "Feature2       0.0966      0.129      0.747      0.457      -0.160       0.353\n",
      "Feature3      -0.4136      0.395     -1.046      0.298      -1.198       0.371\n",
      "CPU           -0.1125      0.061     -1.846      0.068      -0.233       0.008\n",
      "==============================================================================\n",
      "Omnibus:                        0.279   Durbin-Watson:                   1.976\n",
      "Prob(Omnibus):                  0.870   Jarque-Bera (JB):                0.442\n",
      "Skew:                           0.090   Prob(JB):                        0.802\n",
      "Kurtosis:                       2.729   Cond. No.                     1.16e+03\n",
      "==============================================================================\n",
      "\n",
      "Notes:\n",
      "[1] Standard Errors assume that the covariance matrix of the errors is correctly specified.\n",
      "[2] The condition number is large, 1.16e+03. This might indicate that there are\n",
      "strong multicollinearity or other numerical problems.\n",
      "0.22606276192451658\n",
      "0.19347593084765413\n"
     ]
    }
   ],
   "source": [
    "from statsmodels.formula.api import ols\n",
    "\n",
    "# 1) CPU가 100 미만인 데이터 필터링\n",
    "cond = df['CPU'] < 100\n",
    "df = df[cond]\n",
    "\n",
    "# 2) 선형회귀 모델 생성: ERP를 종속 변수로, 나머지 변수들을 독립 변수로 설정\n",
    "model = ols('ERP ~ Feature1 + Feature2 + Feature3 + CPU', data=df).fit()\n",
    "\n",
    "# 3) 모델 요약 정보 출력\n",
    "print(model.summary())\n",
    "print(model.rsquared)\n",
    "print(model.rsquared_adj)"
   ]
  },
  {
   "cell_type": "markdown",
   "metadata": {
    "id": "21AknqejYXEZ"
   },
   "source": [
    "### 문제 2-3. 2-2에서 만든 모델에서 독립변수 중 p-value가 가장 높은값을 구하시오. (반올림하여 소수 셋째자리까지 계산)"
   ]
  },
  {
   "cell_type": "code",
   "execution_count": null,
   "metadata": {
    "colab": {
     "base_uri": "https://localhost:8080/"
    },
    "id": "KTBZo1XKYYZa",
    "outputId": "3b4b534e-dda0-4f00-ba70-571e34f68f69"
   },
   "outputs": [
    {
     "name": "stdout",
     "output_type": "stream",
     "text": [
      "Intercept    0.000003\n",
      "Feature1     0.000014\n",
      "Feature2     0.456708\n",
      "Feature3     0.298206\n",
      "CPU          0.067968\n",
      "dtype: float64\n"
     ]
    }
   ],
   "source": [
    "# pvalue\n",
    "# 0.457\n",
    "print(model.pvalues)"
   ]
  },
  {
   "cell_type": "code",
   "execution_count": null,
   "metadata": {
    "colab": {
     "base_uri": "https://localhost:8080/",
     "height": 423
    },
    "id": "Dbr-qcp2nZMj",
    "outputId": "793ce8ce-903f-4cc1-ab7d-926c1f50d8db"
   },
   "outputs": [
    {
     "data": {
      "application/vnd.google.colaboratory.intrinsic+json": {
       "summary": "{\n  \"name\": \"df\",\n  \"rows\": 100,\n  \"fields\": [\n    {\n      \"column\": \"ERP\",\n      \"properties\": {\n        \"dtype\": \"number\",\n        \"std\": 20.259195385370035,\n        \"min\": 48.94020368331843,\n        \"max\": 145.39509247975215,\n        \"num_unique_values\": 100,\n        \"samples\": [\n          69.27512627445552,\n          76.38735631755176,\n          114.58181124355072\n        ],\n        \"semantic_type\": \"\",\n        \"description\": \"\"\n      }\n    },\n    {\n      \"column\": \"Feature1\",\n      \"properties\": {\n        \"dtype\": \"number\",\n        \"std\": 60.80665490632658,\n        \"min\": -48.5652407934391,\n        \"max\": 235.0880338633348,\n        \"num_unique_values\": 100,\n        \"samples\": [\n          -48.5652407934391,\n          32.586113768624,\n          163.38732890393413\n        ],\n        \"semantic_type\": \"\",\n        \"description\": \"\"\n      }\n    },\n    {\n      \"column\": \"Feature2\",\n      \"properties\": {\n        \"dtype\": \"number\",\n        \"std\": 14.351979484738417,\n        \"min\": 8.411108653600245,\n        \"max\": 84.55875046525912,\n        \"num_unique_values\": 100,\n        \"samples\": [\n          73.04565581368696,\n          45.210073742823575,\n          55.98569518460195\n        ],\n        \"semantic_type\": \"\",\n        \"description\": \"\"\n      }\n    },\n    {\n      \"column\": \"Feature3\",\n      \"properties\": {\n        \"dtype\": \"number\",\n        \"std\": 4.670185191697284,\n        \"min\": -43.2958611899837,\n        \"max\": -18.716382513508957,\n        \"num_unique_values\": 100,\n        \"samples\": [\n          -35.11253421817802,\n          -33.44724592274969,\n          -28.59779147341852\n        ],\n        \"semantic_type\": \"\",\n        \"description\": \"\"\n      }\n    },\n    {\n      \"column\": \"CPU\",\n      \"properties\": {\n        \"dtype\": \"number\",\n        \"std\": 30.281163894862836,\n        \"min\": 0.2703213893502698,\n        \"max\": 99.79622513286736,\n        \"num_unique_values\": 100,\n        \"samples\": [\n          97.95269293354586,\n          96.82864102942972,\n          3.961552257951773\n        ],\n        \"semantic_type\": \"\",\n        \"description\": \"\"\n      }\n    }\n  ]\n}",
       "type": "dataframe",
       "variable_name": "df"
      },
      "text/html": [
       "\n",
       "  <div id=\"df-2ca60826-51d7-4840-a673-fb0fd55d4a92\" class=\"colab-df-container\">\n",
       "    <div>\n",
       "<style scoped>\n",
       "    .dataframe tbody tr th:only-of-type {\n",
       "        vertical-align: middle;\n",
       "    }\n",
       "\n",
       "    .dataframe tbody tr th {\n",
       "        vertical-align: top;\n",
       "    }\n",
       "\n",
       "    .dataframe thead th {\n",
       "        text-align: right;\n",
       "    }\n",
       "</style>\n",
       "<table border=\"1\" class=\"dataframe\">\n",
       "  <thead>\n",
       "    <tr style=\"text-align: right;\">\n",
       "      <th></th>\n",
       "      <th>ERP</th>\n",
       "      <th>Feature1</th>\n",
       "      <th>Feature2</th>\n",
       "      <th>Feature3</th>\n",
       "      <th>CPU</th>\n",
       "    </tr>\n",
       "  </thead>\n",
       "  <tbody>\n",
       "    <tr>\n",
       "      <th>0</th>\n",
       "      <td>135.281047</td>\n",
       "      <td>235.088034</td>\n",
       "      <td>44.462272</td>\n",
       "      <td>-36.532634</td>\n",
       "      <td>20.492369</td>\n",
       "    </tr>\n",
       "    <tr>\n",
       "      <th>1</th>\n",
       "      <td>108.003144</td>\n",
       "      <td>36.571914</td>\n",
       "      <td>46.409312</td>\n",
       "      <td>-21.709347</td>\n",
       "      <td>34.169811</td>\n",
       "    </tr>\n",
       "    <tr>\n",
       "      <th>2</th>\n",
       "      <td>119.574760</td>\n",
       "      <td>52.239055</td>\n",
       "      <td>66.494894</td>\n",
       "      <td>-30.590820</td>\n",
       "      <td>67.624248</td>\n",
       "    </tr>\n",
       "    <tr>\n",
       "      <th>3</th>\n",
       "      <td>144.817864</td>\n",
       "      <td>196.195890</td>\n",
       "      <td>59.828956</td>\n",
       "      <td>-33.400891</td>\n",
       "      <td>87.923476</td>\n",
       "    </tr>\n",
       "    <tr>\n",
       "      <th>4</th>\n",
       "      <td>137.351160</td>\n",
       "      <td>75.175619</td>\n",
       "      <td>59.601973</td>\n",
       "      <td>-26.668085</td>\n",
       "      <td>54.367805</td>\n",
       "    </tr>\n",
       "    <tr>\n",
       "      <th>...</th>\n",
       "      <td>...</td>\n",
       "      <td>...</td>\n",
       "      <td>...</td>\n",
       "      <td>...</td>\n",
       "      <td>...</td>\n",
       "    </tr>\n",
       "    <tr>\n",
       "      <th>95</th>\n",
       "      <td>114.131463</td>\n",
       "      <td>105.039508</td>\n",
       "      <td>67.053370</td>\n",
       "      <td>-33.807461</td>\n",
       "      <td>33.747738</td>\n",
       "    </tr>\n",
       "    <tr>\n",
       "      <th>96</th>\n",
       "      <td>100.210000</td>\n",
       "      <td>141.114900</td>\n",
       "      <td>51.465875</td>\n",
       "      <td>-25.710380</td>\n",
       "      <td>97.049369</td>\n",
       "    </tr>\n",
       "    <tr>\n",
       "      <th>97</th>\n",
       "      <td>135.717410</td>\n",
       "      <td>179.363130</td>\n",
       "      <td>58.744305</td>\n",
       "      <td>-24.294491</td>\n",
       "      <td>13.343943</td>\n",
       "    </tr>\n",
       "    <tr>\n",
       "      <th>98</th>\n",
       "      <td>102.538242</td>\n",
       "      <td>217.189747</td>\n",
       "      <td>44.008265</td>\n",
       "      <td>-22.667106</td>\n",
       "      <td>9.680395</td>\n",
       "    </tr>\n",
       "    <tr>\n",
       "      <th>99</th>\n",
       "      <td>108.039787</td>\n",
       "      <td>178.875769</td>\n",
       "      <td>55.550838</td>\n",
       "      <td>-25.737240</td>\n",
       "      <td>34.339173</td>\n",
       "    </tr>\n",
       "  </tbody>\n",
       "</table>\n",
       "<p>100 rows × 5 columns</p>\n",
       "</div>\n",
       "    <div class=\"colab-df-buttons\">\n",
       "\n",
       "  <div class=\"colab-df-container\">\n",
       "    <button class=\"colab-df-convert\" onclick=\"convertToInteractive('df-2ca60826-51d7-4840-a673-fb0fd55d4a92')\"\n",
       "            title=\"Convert this dataframe to an interactive table.\"\n",
       "            style=\"display:none;\">\n",
       "\n",
       "  <svg xmlns=\"http://www.w3.org/2000/svg\" height=\"24px\" viewBox=\"0 -960 960 960\">\n",
       "    <path d=\"M120-120v-720h720v720H120Zm60-500h600v-160H180v160Zm220 220h160v-160H400v160Zm0 220h160v-160H400v160ZM180-400h160v-160H180v160Zm440 0h160v-160H620v160ZM180-180h160v-160H180v160Zm440 0h160v-160H620v160Z\"/>\n",
       "  </svg>\n",
       "    </button>\n",
       "\n",
       "  <style>\n",
       "    .colab-df-container {\n",
       "      display:flex;\n",
       "      gap: 12px;\n",
       "    }\n",
       "\n",
       "    .colab-df-convert {\n",
       "      background-color: #E8F0FE;\n",
       "      border: none;\n",
       "      border-radius: 50%;\n",
       "      cursor: pointer;\n",
       "      display: none;\n",
       "      fill: #1967D2;\n",
       "      height: 32px;\n",
       "      padding: 0 0 0 0;\n",
       "      width: 32px;\n",
       "    }\n",
       "\n",
       "    .colab-df-convert:hover {\n",
       "      background-color: #E2EBFA;\n",
       "      box-shadow: 0px 1px 2px rgba(60, 64, 67, 0.3), 0px 1px 3px 1px rgba(60, 64, 67, 0.15);\n",
       "      fill: #174EA6;\n",
       "    }\n",
       "\n",
       "    .colab-df-buttons div {\n",
       "      margin-bottom: 4px;\n",
       "    }\n",
       "\n",
       "    [theme=dark] .colab-df-convert {\n",
       "      background-color: #3B4455;\n",
       "      fill: #D2E3FC;\n",
       "    }\n",
       "\n",
       "    [theme=dark] .colab-df-convert:hover {\n",
       "      background-color: #434B5C;\n",
       "      box-shadow: 0px 1px 3px 1px rgba(0, 0, 0, 0.15);\n",
       "      filter: drop-shadow(0px 1px 2px rgba(0, 0, 0, 0.3));\n",
       "      fill: #FFFFFF;\n",
       "    }\n",
       "  </style>\n",
       "\n",
       "    <script>\n",
       "      const buttonEl =\n",
       "        document.querySelector('#df-2ca60826-51d7-4840-a673-fb0fd55d4a92 button.colab-df-convert');\n",
       "      buttonEl.style.display =\n",
       "        google.colab.kernel.accessAllowed ? 'block' : 'none';\n",
       "\n",
       "      async function convertToInteractive(key) {\n",
       "        const element = document.querySelector('#df-2ca60826-51d7-4840-a673-fb0fd55d4a92');\n",
       "        const dataTable =\n",
       "          await google.colab.kernel.invokeFunction('convertToInteractive',\n",
       "                                                    [key], {});\n",
       "        if (!dataTable) return;\n",
       "\n",
       "        const docLinkHtml = 'Like what you see? Visit the ' +\n",
       "          '<a target=\"_blank\" href=https://colab.research.google.com/notebooks/data_table.ipynb>data table notebook</a>'\n",
       "          + ' to learn more about interactive tables.';\n",
       "        element.innerHTML = '';\n",
       "        dataTable['output_type'] = 'display_data';\n",
       "        await google.colab.output.renderOutput(dataTable, element);\n",
       "        const docLink = document.createElement('div');\n",
       "        docLink.innerHTML = docLinkHtml;\n",
       "        element.appendChild(docLink);\n",
       "      }\n",
       "    </script>\n",
       "  </div>\n",
       "\n",
       "\n",
       "<div id=\"df-5fc5209d-51d7-44be-8c69-4f3ceb1fb0f8\">\n",
       "  <button class=\"colab-df-quickchart\" onclick=\"quickchart('df-5fc5209d-51d7-44be-8c69-4f3ceb1fb0f8')\"\n",
       "            title=\"Suggest charts\"\n",
       "            style=\"display:none;\">\n",
       "\n",
       "<svg xmlns=\"http://www.w3.org/2000/svg\" height=\"24px\"viewBox=\"0 0 24 24\"\n",
       "     width=\"24px\">\n",
       "    <g>\n",
       "        <path d=\"M19 3H5c-1.1 0-2 .9-2 2v14c0 1.1.9 2 2 2h14c1.1 0 2-.9 2-2V5c0-1.1-.9-2-2-2zM9 17H7v-7h2v7zm4 0h-2V7h2v10zm4 0h-2v-4h2v4z\"/>\n",
       "    </g>\n",
       "</svg>\n",
       "  </button>\n",
       "\n",
       "<style>\n",
       "  .colab-df-quickchart {\n",
       "      --bg-color: #E8F0FE;\n",
       "      --fill-color: #1967D2;\n",
       "      --hover-bg-color: #E2EBFA;\n",
       "      --hover-fill-color: #174EA6;\n",
       "      --disabled-fill-color: #AAA;\n",
       "      --disabled-bg-color: #DDD;\n",
       "  }\n",
       "\n",
       "  [theme=dark] .colab-df-quickchart {\n",
       "      --bg-color: #3B4455;\n",
       "      --fill-color: #D2E3FC;\n",
       "      --hover-bg-color: #434B5C;\n",
       "      --hover-fill-color: #FFFFFF;\n",
       "      --disabled-bg-color: #3B4455;\n",
       "      --disabled-fill-color: #666;\n",
       "  }\n",
       "\n",
       "  .colab-df-quickchart {\n",
       "    background-color: var(--bg-color);\n",
       "    border: none;\n",
       "    border-radius: 50%;\n",
       "    cursor: pointer;\n",
       "    display: none;\n",
       "    fill: var(--fill-color);\n",
       "    height: 32px;\n",
       "    padding: 0;\n",
       "    width: 32px;\n",
       "  }\n",
       "\n",
       "  .colab-df-quickchart:hover {\n",
       "    background-color: var(--hover-bg-color);\n",
       "    box-shadow: 0 1px 2px rgba(60, 64, 67, 0.3), 0 1px 3px 1px rgba(60, 64, 67, 0.15);\n",
       "    fill: var(--button-hover-fill-color);\n",
       "  }\n",
       "\n",
       "  .colab-df-quickchart-complete:disabled,\n",
       "  .colab-df-quickchart-complete:disabled:hover {\n",
       "    background-color: var(--disabled-bg-color);\n",
       "    fill: var(--disabled-fill-color);\n",
       "    box-shadow: none;\n",
       "  }\n",
       "\n",
       "  .colab-df-spinner {\n",
       "    border: 2px solid var(--fill-color);\n",
       "    border-color: transparent;\n",
       "    border-bottom-color: var(--fill-color);\n",
       "    animation:\n",
       "      spin 1s steps(1) infinite;\n",
       "  }\n",
       "\n",
       "  @keyframes spin {\n",
       "    0% {\n",
       "      border-color: transparent;\n",
       "      border-bottom-color: var(--fill-color);\n",
       "      border-left-color: var(--fill-color);\n",
       "    }\n",
       "    20% {\n",
       "      border-color: transparent;\n",
       "      border-left-color: var(--fill-color);\n",
       "      border-top-color: var(--fill-color);\n",
       "    }\n",
       "    30% {\n",
       "      border-color: transparent;\n",
       "      border-left-color: var(--fill-color);\n",
       "      border-top-color: var(--fill-color);\n",
       "      border-right-color: var(--fill-color);\n",
       "    }\n",
       "    40% {\n",
       "      border-color: transparent;\n",
       "      border-right-color: var(--fill-color);\n",
       "      border-top-color: var(--fill-color);\n",
       "    }\n",
       "    60% {\n",
       "      border-color: transparent;\n",
       "      border-right-color: var(--fill-color);\n",
       "    }\n",
       "    80% {\n",
       "      border-color: transparent;\n",
       "      border-right-color: var(--fill-color);\n",
       "      border-bottom-color: var(--fill-color);\n",
       "    }\n",
       "    90% {\n",
       "      border-color: transparent;\n",
       "      border-bottom-color: var(--fill-color);\n",
       "    }\n",
       "  }\n",
       "</style>\n",
       "\n",
       "  <script>\n",
       "    async function quickchart(key) {\n",
       "      const quickchartButtonEl =\n",
       "        document.querySelector('#' + key + ' button');\n",
       "      quickchartButtonEl.disabled = true;  // To prevent multiple clicks.\n",
       "      quickchartButtonEl.classList.add('colab-df-spinner');\n",
       "      try {\n",
       "        const charts = await google.colab.kernel.invokeFunction(\n",
       "            'suggestCharts', [key], {});\n",
       "      } catch (error) {\n",
       "        console.error('Error during call to suggestCharts:', error);\n",
       "      }\n",
       "      quickchartButtonEl.classList.remove('colab-df-spinner');\n",
       "      quickchartButtonEl.classList.add('colab-df-quickchart-complete');\n",
       "    }\n",
       "    (() => {\n",
       "      let quickchartButtonEl =\n",
       "        document.querySelector('#df-5fc5209d-51d7-44be-8c69-4f3ceb1fb0f8 button');\n",
       "      quickchartButtonEl.style.display =\n",
       "        google.colab.kernel.accessAllowed ? 'block' : 'none';\n",
       "    })();\n",
       "  </script>\n",
       "</div>\n",
       "\n",
       "  <div id=\"id_adae376f-10f6-46cd-8a3a-533da626c808\">\n",
       "    <style>\n",
       "      .colab-df-generate {\n",
       "        background-color: #E8F0FE;\n",
       "        border: none;\n",
       "        border-radius: 50%;\n",
       "        cursor: pointer;\n",
       "        display: none;\n",
       "        fill: #1967D2;\n",
       "        height: 32px;\n",
       "        padding: 0 0 0 0;\n",
       "        width: 32px;\n",
       "      }\n",
       "\n",
       "      .colab-df-generate:hover {\n",
       "        background-color: #E2EBFA;\n",
       "        box-shadow: 0px 1px 2px rgba(60, 64, 67, 0.3), 0px 1px 3px 1px rgba(60, 64, 67, 0.15);\n",
       "        fill: #174EA6;\n",
       "      }\n",
       "\n",
       "      [theme=dark] .colab-df-generate {\n",
       "        background-color: #3B4455;\n",
       "        fill: #D2E3FC;\n",
       "      }\n",
       "\n",
       "      [theme=dark] .colab-df-generate:hover {\n",
       "        background-color: #434B5C;\n",
       "        box-shadow: 0px 1px 3px 1px rgba(0, 0, 0, 0.15);\n",
       "        filter: drop-shadow(0px 1px 2px rgba(0, 0, 0, 0.3));\n",
       "        fill: #FFFFFF;\n",
       "      }\n",
       "    </style>\n",
       "    <button class=\"colab-df-generate\" onclick=\"generateWithVariable('df')\"\n",
       "            title=\"Generate code using this dataframe.\"\n",
       "            style=\"display:none;\">\n",
       "\n",
       "  <svg xmlns=\"http://www.w3.org/2000/svg\" height=\"24px\"viewBox=\"0 0 24 24\"\n",
       "       width=\"24px\">\n",
       "    <path d=\"M7,19H8.4L18.45,9,17,7.55,7,17.6ZM5,21V16.75L18.45,3.32a2,2,0,0,1,2.83,0l1.4,1.43a1.91,1.91,0,0,1,.58,1.4,1.91,1.91,0,0,1-.58,1.4L9.25,21ZM18.45,9,17,7.55Zm-12,3A5.31,5.31,0,0,0,4.9,8.1,5.31,5.31,0,0,0,1,6.5,5.31,5.31,0,0,0,4.9,4.9,5.31,5.31,0,0,0,6.5,1,5.31,5.31,0,0,0,8.1,4.9,5.31,5.31,0,0,0,12,6.5,5.46,5.46,0,0,0,6.5,12Z\"/>\n",
       "  </svg>\n",
       "    </button>\n",
       "    <script>\n",
       "      (() => {\n",
       "      const buttonEl =\n",
       "        document.querySelector('#id_adae376f-10f6-46cd-8a3a-533da626c808 button.colab-df-generate');\n",
       "      buttonEl.style.display =\n",
       "        google.colab.kernel.accessAllowed ? 'block' : 'none';\n",
       "\n",
       "      buttonEl.onclick = () => {\n",
       "        google.colab.notebook.generateWithVariable('df');\n",
       "      }\n",
       "      })();\n",
       "    </script>\n",
       "  </div>\n",
       "\n",
       "    </div>\n",
       "  </div>\n"
      ],
      "text/plain": [
       "           ERP    Feature1   Feature2   Feature3        CPU\n",
       "0   135.281047  235.088034  44.462272 -36.532634  20.492369\n",
       "1   108.003144   36.571914  46.409312 -21.709347  34.169811\n",
       "2   119.574760   52.239055  66.494894 -30.590820  67.624248\n",
       "3   144.817864  196.195890  59.828956 -33.400891  87.923476\n",
       "4   137.351160   75.175619  59.601973 -26.668085  54.367805\n",
       "..         ...         ...        ...        ...        ...\n",
       "95  114.131463  105.039508  67.053370 -33.807461  33.747738\n",
       "96  100.210000  141.114900  51.465875 -25.710380  97.049369\n",
       "97  135.717410  179.363130  58.744305 -24.294491  13.343943\n",
       "98  102.538242  217.189747  44.008265 -22.667106   9.680395\n",
       "99  108.039787  178.875769  55.550838 -25.737240  34.339173\n",
       "\n",
       "[100 rows x 5 columns]"
      ]
     },
     "execution_count": 25,
     "metadata": {},
     "output_type": "execute_result"
    }
   ],
   "source": [
    "import pandas as pd\n",
    "df = pd.read_csv(\"https://raw.githubusercontent.com/lovedlim/inf/refs/heads/main/p4/7_3/system.csv\")\n",
    "sum(df['CPU'] < 100)\n",
    "df"
   ]
  }
 ],
 "metadata": {
  "colab": {
   "provenance": []
  },
  "kernelspec": {
   "display_name": "Python 3 (ipykernel)",
   "language": "python",
   "name": "python3"
  },
  "language_info": {
   "codemirror_mode": {
    "name": "ipython",
    "version": 3
   },
   "file_extension": ".py",
   "mimetype": "text/x-python",
   "name": "python",
   "nbconvert_exporter": "python",
   "pygments_lexer": "ipython3",
   "version": "3.12.6"
  }
 },
 "nbformat": 4,
 "nbformat_minor": 4
}
