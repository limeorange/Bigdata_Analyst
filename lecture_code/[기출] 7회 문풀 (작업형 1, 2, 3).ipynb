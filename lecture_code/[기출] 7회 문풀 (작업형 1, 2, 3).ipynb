{
 "cells": [
  {
   "cell_type": "markdown",
   "metadata": {
    "id": "ImS-bayEojdA"
   },
   "source": [
    "# 기출 7회_작업형1"
   ]
  },
  {
   "cell_type": "markdown",
   "metadata": {
    "id": "JO-2zLFZsse1"
   },
   "source": [
    "## 문제1\n",
    "결측치가 있는 행을 제거한 후, 학생이 가장 많이 수강한 과목을 찾고, 해당 과목 점수를 표준화(스탠다스 스케일) 한 뒤에 표준화된 가장 큰 값을 구하시오. (반올림하여 소수 셋째자리까지 계산)"
   ]
  },
  {
   "cell_type": "code",
   "execution_count": 72,
   "metadata": {},
   "outputs": [
    {
     "name": "stdout",
     "output_type": "stream",
     "text": [
      "2.183\n"
     ]
    }
   ],
   "source": [
    "# My)\n",
    "\n",
    "import pandas as pd\n",
    "df = pd.read_csv(\"https://raw.githubusercontent.com/lovedlim/inf/refs/heads/main/p4/7_1/student_assessment.csv\")\n",
    "\n",
    "df = df.dropna()\n",
    "# print(df.info())\n",
    "\n",
    "grouped = df.groupby(['id_assessment'])['student_id'].count()\n",
    "top = grouped.idxmax()\n",
    "\n",
    "# print(grouped)\n",
    "cond = df['id_assessment'] == top\n",
    "df1 = df[cond].copy()\n",
    "# print(df1)\n",
    "\n",
    "from sklearn.preprocessing import StandardScaler\n",
    "scaler = StandardScaler()\n",
    "df1['score'] = scaler.fit_transform(df1[['score']])\n",
    "# print(df1)\n",
    "print(round(df1.nlargest(1, 'score').iloc[-1]['score'], 3))"
   ]
  },
  {
   "cell_type": "code",
   "execution_count": null,
   "metadata": {
    "colab": {
     "base_uri": "https://localhost:8080/"
    },
    "id": "QfWBB-yjCuX8",
    "outputId": "06f8c5c4-2520-48c8-9189-833eb978decb"
   },
   "outputs": [
    {
     "name": "stdout",
     "output_type": "stream",
     "text": [
      "결측치 수: 21\n",
      "(2565, 4)\n",
      "(2544, 4)\n",
      "2.183\n"
     ]
    }
   ],
   "source": [
    "import pandas as pd\n",
    "df = pd.read_csv(\"https://raw.githubusercontent.com/lovedlim/inf/refs/heads/main/p4/7_1/student_assessment.csv\")\n",
    "\n",
    "# 0) 데이터 확인\n",
    "print(\"결측치 수:\", df.isnull().sum().sum())\n",
    "\n",
    "# 1) 결측치 제거\n",
    "print(df.shape)\n",
    "df = df.dropna()\n",
    "print(df.shape)\n",
    "\n",
    "# 2) 가장 많이 수강한 과목 필터링\n",
    "id = df['id_assessment'].value_counts().idxmax()\n",
    "cond = df['id_assessment'] == id\n",
    "df = df[cond]\n",
    "\n",
    "# 3) 과목 점수 스탠다드 스케일\n",
    "from sklearn.preprocessing import StandardScaler\n",
    "scaler = StandardScaler()\n",
    "df['score'] = scaler.fit_transform(df[['score']])\n",
    "\n",
    "# 4) 가장 큰 값\n",
    "print(round(df['score'].max(), 3))"
   ]
  },
  {
   "cell_type": "markdown",
   "metadata": {
    "id": "sHC4blpRswAJ"
   },
   "source": [
    "## 문제2\n",
    "DE1~DE77컬럼 중 주가지수의 종가 \"close\"와 가장 상관관계가 높은 변수를 찾아, 해당 변수의 평균값을 구하시오. (반올림하여 소수 넷째자리까지 계산)"
   ]
  },
  {
   "cell_type": "code",
   "execution_count": 85,
   "metadata": {},
   "outputs": [
    {
     "name": "stdout",
     "output_type": "stream",
     "text": [
      "-0.0004\n"
     ]
    }
   ],
   "source": [
    "# My)\n",
    "\n",
    "import pandas as pd\n",
    "df = pd.read_csv(\"https://raw.githubusercontent.com/lovedlim/inf/refs/heads/main/p4/7_1/stock_market.csv\")\n",
    "\n",
    "df_corr = df.corr()['close'].abs()\n",
    "col = df_corr.loc['DE1':'DE77'].idxmax()\n",
    "# print(col)\n",
    "print(round(df[col].mean(), 4))"
   ]
  },
  {
   "cell_type": "code",
   "execution_count": null,
   "metadata": {
    "colab": {
     "base_uri": "https://localhost:8080/"
    },
    "id": "usqyPcI4J0eL",
    "outputId": "7f689b83-66bb-4c42-8228-07bed5483da2"
   },
   "outputs": [
    {
     "name": "stdout",
     "output_type": "stream",
     "text": [
      "-0.0004\n"
     ]
    }
   ],
   "source": [
    "import pandas as pd\n",
    "df = pd.read_csv(\"https://raw.githubusercontent.com/lovedlim/inf/refs/heads/main/p4/7_1/stock_market.csv\")\n",
    "\n",
    "# 1) close와의 상관관계(절대값)\n",
    "df_corr = df.corr()['close'].abs()\n",
    "\n",
    "# 2) 상관관계가 높은 변수명\n",
    "col = df_corr.loc['DE1':'DE77'].idxmax()\n",
    "\n",
    "# 3) '2'에서 구한 변수명의 평균값\n",
    "print(round(df[col].mean(), 4))"
   ]
  },
  {
   "cell_type": "markdown",
   "metadata": {
    "id": "E9QDz8l-sy4D"
   },
   "source": [
    "## 문제3\n",
    "IQR을 이용해 이산화탄소(CO2) 이상치 수를 찾으시오\n",
    "\n",
    "- Q1 (제 1사분위수): 하위 25% 값\n",
    "- Q3 (제 3사분위수): 상위 25% 값\n",
    "- IQR (사분위수 범위): IQR = Q3 - Q1\n",
    "\n",
    "- lower (하한선): Q1 - 1.5 * IQR, 이 값보다 작은 데이터는 이상치로 간주\n",
    "- upper (상한선): Q3 + 1.5 * IQR, 이 값보다 큰 데이터는 이상치로 간주\n",
    "\n"
   ]
  },
  {
   "cell_type": "code",
   "execution_count": 92,
   "metadata": {},
   "outputs": [
    {
     "name": "stdout",
     "output_type": "stream",
     "text": [
      "304\n"
     ]
    }
   ],
   "source": [
    "# My) \n",
    "\n",
    "import pandas as pd\n",
    "df = pd.read_csv(\"https://raw.githubusercontent.com/lovedlim/inf/refs/heads/main/p4/7_1/air_quality.csv\")\n",
    "\n",
    "# print(df)\n",
    "Q1 = df['CO2'].quantile(.25)\n",
    "Q3 = df['CO2'].quantile(.75)\n",
    "IQR = Q3 - Q1\n",
    "\n",
    "lower = Q1-1.5*IQR\n",
    "upper = Q3+1.5*IQR\n",
    "\n",
    "cond1 = df['CO2'] < lower\n",
    "cond2 = df['CO2'] > upper\n",
    "outliers = df[cond1 | cond2]\n",
    "\n",
    "# print(Q1, Q3, IQR)\n",
    "print(len(outliers))"
   ]
  },
  {
   "cell_type": "code",
   "execution_count": null,
   "metadata": {
    "colab": {
     "base_uri": "https://localhost:8080/"
    },
    "id": "LipHWwikUBL-",
    "outputId": "724736f9-7d61-434f-8fb0-904b654daeae"
   },
   "outputs": [
    {
     "name": "stdout",
     "output_type": "stream",
     "text": [
      "304\n"
     ]
    }
   ],
   "source": [
    "import pandas as pd\n",
    "df = pd.read_csv(\"https://raw.githubusercontent.com/lovedlim/inf/refs/heads/main/p4/7_1/air_quality.csv\")\n",
    "\n",
    "# 1) IQR 계산\n",
    "Q1 = df['CO2'].quantile(0.25)\n",
    "Q3 = df['CO2'].quantile(0.75)\n",
    "IQR = Q3 - Q1\n",
    "\n",
    "# 2) 상한 및 하한 계산\n",
    "upper = Q3 + 1.5 * IQR\n",
    "lower = Q1 - 1.5 * IQR\n",
    "\n",
    "# 3) 이상치 조건\n",
    "cond1 = df['CO2'] < lower\n",
    "cond2 = df['CO2'] > upper\n",
    "outliers = df[cond1 | cond2]\n",
    "\n",
    "# 4) 이상치 수 계산\n",
    "print(len(outliers))"
   ]
  },
  {
   "cell_type": "markdown",
   "metadata": {
    "id": "KBEr9K-lV_M6"
   },
   "source": [
    "# 기출 7회_작업형2\n",
    "## mart 판매 데이터를 기반으로 판매액을 예측\n",
    "- 제공된 데이터 목록: mart_train.csv (훈련 데이터), mart_test.csv (평가용 데이터)\n",
    "- 예측할 컬럼: total (총 판매액)\n",
    "학습용 데이터(mart_train.csv)를 이용하여 총 판매액을 예측하는 모델을 만든 후, 이를 평가용 데이터(mart_test.csv)에 적용하여 얻은 예측값을 다음과 같은 형식의 CSV 파일로 생성하시오.\n",
    "- 제출 파일은 다음 한 개의 컬럼을 포함해야 합니다.\n",
    "- pred: 예측된 총 판매액\n",
    "- 제출 파일명: 'result.csv' 제출한 모델의 성능은 RMSE(Root Mean Square Error) 평가지표에 따라 채점한다.\n",
    "- 제출 CSV 파일명 및 형태: result.csv\n",
    "\n",
    "~~~\n",
    "pred\n",
    "10000\n",
    "20000\n",
    "30000\n",
    "40000\n",
    "...\n",
    "~~~\n",
    "\n",
    "## 답안 제출 참고\n",
    "- pd.read_csv('result.csv') 로 제출 코드 확인"
   ]
  },
  {
   "cell_type": "markdown",
   "metadata": {},
   "source": [
    "## 📌 My Code"
   ]
  },
  {
   "cell_type": "code",
   "execution_count": 20,
   "metadata": {},
   "outputs": [
    {
     "name": "stdout",
     "output_type": "stream",
     "text": [
      "score_rf 379654.48854407197\n",
      "score_hgb 409161.0203967835\n",
      "            pred\n",
      "0    356511.0150\n",
      "1    674935.3800\n",
      "2    263410.7175\n",
      "3    593099.0100\n",
      "4    438679.7100\n",
      "..           ...\n",
      "295  519270.0975\n",
      "296  435027.1275\n",
      "297  475343.0325\n",
      "298  396731.0025\n",
      "299  494153.1000\n",
      "\n",
      "[300 rows x 1 columns]\n"
     ]
    }
   ],
   "source": [
    "import pandas as pd\n",
    "train = pd.read_csv(\"https://raw.githubusercontent.com/lovedlim/inf/refs/heads/main/p4/7_2/mart_train.csv\")\n",
    "test = pd.read_csv(\"https://raw.githubusercontent.com/lovedlim/inf/refs/heads/main/p4/7_2/mart_test.csv\")\n",
    "\n",
    "# 1. 데이터 유형 파악\n",
    "# 결측치: X\n",
    "# 범주형: ['branch', 'city', 'customer_type', 'gender', 'product_line', 'payment_method', 'time_of_day', 'day_name']\n",
    "# target: total\n",
    "# print(train.info())\n",
    "# print(test.info())\n",
    "# print(train)\n",
    "# print(train.shape, test.shape) # (700, 10) (300, 9)\n",
    "# print(train.select_dtypes('object').columns)\n",
    "\n",
    "# 2. 데이터 전처리 (4)\n",
    "# (1) X_full\n",
    "X = train.drop(['total'], axis=1)\n",
    "y = train['total']\n",
    "X_full = pd.concat([X, test], axis=0)\n",
    "\n",
    "# (2) 결측치: X\n",
    "\n",
    "# (3) 수치형 변수 스케일링: X\n",
    "\n",
    "# (4) 범주형 변수 인코딩\n",
    "X_full = pd.get_dummies(X_full)\n",
    "# print(X_full)\n",
    "# print(X_full.shape) # (1000, 30)\n",
    "\n",
    "# 3. 데이터 분리 (X_train, X_test / train_test_split)\n",
    "X_train = X_full[:train.shape[0]]\n",
    "X_test = X_full[train.shape[0]:]\n",
    "# print(X_train.shape, X_test.shape) # (700, 30) (300, 30)\n",
    "\n",
    "from sklearn.model_selection import train_test_split\n",
    "X_train, X_val, y_train, y_val = train_test_split(X_train, y, test_size=0.2)\n",
    "# print(X_train.shape, X_val.shape, y_train.shape, y_val.shape) # (560, 30) (140, 30) (560,) (140,)\n",
    "\n",
    "# 4. 모델 학습\n",
    "from sklearn.ensemble import RandomForestRegressor\n",
    "RF = RandomForestRegressor()\n",
    "RF.fit(X_train, y_train)\n",
    "y_val_pred_rf = RF.predict(X_val)\n",
    "# print(y_val_pred_rf)\n",
    "# print(y_val_pred_rf.shape) # (140,)\n",
    "\n",
    "from sklearn.ensemble import HistGradientBoostingRegressor\n",
    "HGB = HistGradientBoostingRegressor()\n",
    "HGB.fit(X_train, y_train)\n",
    "y_val_pred_hgb = HGB.predict(X_val)\n",
    "# print(y_val_pred_hgb)\n",
    "# print(y_val_pred_hgb.shape) # (140,)\n",
    "\n",
    "# 5. 모델 평가\n",
    "from sklearn.metrics import root_mean_squared_error\n",
    "score_rf = root_mean_squared_error(y_val, y_val_pred_rf)\n",
    "print('score_rf', score_rf)\n",
    "\n",
    "score_hgb = root_mean_squared_error(y_val, y_val_pred_hgb)\n",
    "print('score_hgb', score_hgb)\n",
    "\n",
    "# 6. 결과 저장\n",
    "y_pred = RF.predict(X_test)\n",
    "# print(y_pred)\n",
    "# print(y_pred.shape) # (300,)\n",
    "\n",
    "result = pd.DataFrame({'pred': y_pred})\n",
    "result.to_csv('result_72.csv', index=False)\n",
    "\n",
    "check = pd.read_csv('result_72.csv')\n",
    "print(check)\n",
    "# print(check.shape) # (300, 1)"
   ]
  },
  {
   "cell_type": "markdown",
   "metadata": {},
   "source": [
    "# 작업형2 풀이"
   ]
  },
  {
   "cell_type": "markdown",
   "metadata": {
    "id": "Ae4v-2ju1mWi"
   },
   "source": [
    "## 1. 문제정의\n",
    "- RMSE\n",
    "- target: total\n",
    "- 예측 파일명: result.csv\n",
    "- 컬럼 1개(pred)"
   ]
  },
  {
   "cell_type": "markdown",
   "metadata": {
    "id": "qgSesVv_1qP_"
   },
   "source": [
    "## 2. 라이브러리 및 데이터 불러오기"
   ]
  },
  {
   "cell_type": "code",
   "execution_count": 21,
   "metadata": {
    "id": "30wq46-FfSt_"
   },
   "outputs": [],
   "source": [
    "# 데이터 불러오기\n",
    "import pandas as pd\n",
    "train = pd.read_csv(\"https://raw.githubusercontent.com/lovedlim/inf/refs/heads/main/p4/7_2/mart_train.csv\")\n",
    "test = pd.read_csv(\"https://raw.githubusercontent.com/lovedlim/inf/refs/heads/main/p4/7_2/mart_test.csv\")"
   ]
  },
  {
   "cell_type": "markdown",
   "metadata": {
    "id": "3dAHY3V1lWxV"
   },
   "source": [
    "## 3. 탐색적 데이터 분석(EDA)"
   ]
  },
  {
   "cell_type": "code",
   "execution_count": 22,
   "metadata": {
    "colab": {
     "base_uri": "https://localhost:8080/"
    },
    "id": "0YRdxQxifwf9",
    "outputId": "28082470-bfd5-4fce-8ec2-0dcb8bf2c867"
   },
   "outputs": [
    {
     "data": {
      "text/plain": [
       "((700, 10), (300, 9))"
      ]
     },
     "execution_count": 22,
     "metadata": {},
     "output_type": "execute_result"
    }
   ],
   "source": [
    "# 데이터 크기 확인\n",
    "train.shape, test.shape"
   ]
  },
  {
   "cell_type": "code",
   "execution_count": 23,
   "metadata": {
    "colab": {
     "base_uri": "https://localhost:8080/",
     "height": 215
    },
    "id": "F_k-MGd-f4Iw",
    "outputId": "9e1d93eb-35b8-4897-a7dc-3c14f637bea9"
   },
   "outputs": [
    {
     "data": {
      "text/html": [
       "<div>\n",
       "<style scoped>\n",
       "    .dataframe tbody tr th:only-of-type {\n",
       "        vertical-align: middle;\n",
       "    }\n",
       "\n",
       "    .dataframe tbody tr th {\n",
       "        vertical-align: top;\n",
       "    }\n",
       "\n",
       "    .dataframe thead th {\n",
       "        text-align: right;\n",
       "    }\n",
       "</style>\n",
       "<table border=\"1\" class=\"dataframe\">\n",
       "  <thead>\n",
       "    <tr style=\"text-align: right;\">\n",
       "      <th></th>\n",
       "      <th>branch</th>\n",
       "      <th>city</th>\n",
       "      <th>customer_type</th>\n",
       "      <th>gender</th>\n",
       "      <th>product_line</th>\n",
       "      <th>total</th>\n",
       "      <th>payment_method</th>\n",
       "      <th>rating</th>\n",
       "      <th>time_of_day</th>\n",
       "      <th>day_name</th>\n",
       "    </tr>\n",
       "  </thead>\n",
       "  <tbody>\n",
       "    <tr>\n",
       "      <th>0</th>\n",
       "      <td>A</td>\n",
       "      <td>Yangon</td>\n",
       "      <td>Member</td>\n",
       "      <td>Female</td>\n",
       "      <td>Health and beauty</td>\n",
       "      <td>823457.25</td>\n",
       "      <td>Ewallet</td>\n",
       "      <td>9.1</td>\n",
       "      <td>afternoon</td>\n",
       "      <td>Saturday</td>\n",
       "    </tr>\n",
       "    <tr>\n",
       "      <th>1</th>\n",
       "      <td>C</td>\n",
       "      <td>Naypyitaw</td>\n",
       "      <td>Normal</td>\n",
       "      <td>Female</td>\n",
       "      <td>Electronic accessories</td>\n",
       "      <td>120330.00</td>\n",
       "      <td>Cash</td>\n",
       "      <td>9.6</td>\n",
       "      <td>morning</td>\n",
       "      <td>Friday</td>\n",
       "    </tr>\n",
       "    <tr>\n",
       "      <th>2</th>\n",
       "      <td>A</td>\n",
       "      <td>Yangon</td>\n",
       "      <td>Normal</td>\n",
       "      <td>Male</td>\n",
       "      <td>Home and lifestyle</td>\n",
       "      <td>510788.25</td>\n",
       "      <td>Credit card</td>\n",
       "      <td>7.4</td>\n",
       "      <td>afternoon</td>\n",
       "      <td>Sunday</td>\n",
       "    </tr>\n",
       "  </tbody>\n",
       "</table>\n",
       "</div>"
      ],
      "text/plain": [
       "  branch       city customer_type  gender            product_line      total  \\\n",
       "0      A     Yangon        Member  Female       Health and beauty  823457.25   \n",
       "1      C  Naypyitaw        Normal  Female  Electronic accessories  120330.00   \n",
       "2      A     Yangon        Normal    Male      Home and lifestyle  510788.25   \n",
       "\n",
       "  payment_method  rating time_of_day  day_name  \n",
       "0        Ewallet     9.1   afternoon  Saturday  \n",
       "1           Cash     9.6     morning    Friday  \n",
       "2    Credit card     7.4   afternoon    Sunday  "
      ]
     },
     "execution_count": 23,
     "metadata": {},
     "output_type": "execute_result"
    }
   ],
   "source": [
    "# 샘플 확인\n",
    "train.head(3)"
   ]
  },
  {
   "cell_type": "code",
   "execution_count": 24,
   "metadata": {
    "colab": {
     "base_uri": "https://localhost:8080/",
     "height": 143
    },
    "id": "pKT3QURYykAP",
    "outputId": "1d3f5761-1851-423c-f5dc-b17428ee1c0f"
   },
   "outputs": [
    {
     "data": {
      "text/html": [
       "<div>\n",
       "<style scoped>\n",
       "    .dataframe tbody tr th:only-of-type {\n",
       "        vertical-align: middle;\n",
       "    }\n",
       "\n",
       "    .dataframe tbody tr th {\n",
       "        vertical-align: top;\n",
       "    }\n",
       "\n",
       "    .dataframe thead th {\n",
       "        text-align: right;\n",
       "    }\n",
       "</style>\n",
       "<table border=\"1\" class=\"dataframe\">\n",
       "  <thead>\n",
       "    <tr style=\"text-align: right;\">\n",
       "      <th></th>\n",
       "      <th>branch</th>\n",
       "      <th>city</th>\n",
       "      <th>customer_type</th>\n",
       "      <th>gender</th>\n",
       "      <th>product_line</th>\n",
       "      <th>payment_method</th>\n",
       "      <th>rating</th>\n",
       "      <th>time_of_day</th>\n",
       "      <th>day_name</th>\n",
       "    </tr>\n",
       "  </thead>\n",
       "  <tbody>\n",
       "    <tr>\n",
       "      <th>0</th>\n",
       "      <td>C</td>\n",
       "      <td>Naypyitaw</td>\n",
       "      <td>Normal</td>\n",
       "      <td>Female</td>\n",
       "      <td>Fashion accessories</td>\n",
       "      <td>Ewallet</td>\n",
       "      <td>9.6</td>\n",
       "      <td>afternoon</td>\n",
       "      <td>Thursday</td>\n",
       "    </tr>\n",
       "    <tr>\n",
       "      <th>1</th>\n",
       "      <td>B</td>\n",
       "      <td>Mandalay</td>\n",
       "      <td>Normal</td>\n",
       "      <td>Male</td>\n",
       "      <td>Food and beverages</td>\n",
       "      <td>Credit card</td>\n",
       "      <td>4.3</td>\n",
       "      <td>evening</td>\n",
       "      <td>Wednesday</td>\n",
       "    </tr>\n",
       "    <tr>\n",
       "      <th>2</th>\n",
       "      <td>B</td>\n",
       "      <td>Mandalay</td>\n",
       "      <td>Member</td>\n",
       "      <td>Female</td>\n",
       "      <td>Fashion accessories</td>\n",
       "      <td>Credit card</td>\n",
       "      <td>5.0</td>\n",
       "      <td>evening</td>\n",
       "      <td>Wednesday</td>\n",
       "    </tr>\n",
       "  </tbody>\n",
       "</table>\n",
       "</div>"
      ],
      "text/plain": [
       "  branch       city customer_type  gender         product_line payment_method  \\\n",
       "0      C  Naypyitaw        Normal  Female  Fashion accessories        Ewallet   \n",
       "1      B   Mandalay        Normal    Male   Food and beverages    Credit card   \n",
       "2      B   Mandalay        Member  Female  Fashion accessories    Credit card   \n",
       "\n",
       "   rating time_of_day   day_name  \n",
       "0     9.6   afternoon   Thursday  \n",
       "1     4.3     evening  Wednesday  \n",
       "2     5.0     evening  Wednesday  "
      ]
     },
     "execution_count": 24,
     "metadata": {},
     "output_type": "execute_result"
    }
   ],
   "source": [
    "test.head(3)"
   ]
  },
  {
   "cell_type": "code",
   "execution_count": 25,
   "metadata": {
    "colab": {
     "base_uri": "https://localhost:8080/"
    },
    "id": "FIRfcqHVgPxr",
    "outputId": "16d5e273-8521-4b34-a7c0-a8ba2f4f08f0"
   },
   "outputs": [
    {
     "name": "stdout",
     "output_type": "stream",
     "text": [
      "<class 'pandas.core.frame.DataFrame'>\n",
      "RangeIndex: 700 entries, 0 to 699\n",
      "Data columns (total 10 columns):\n",
      " #   Column          Non-Null Count  Dtype  \n",
      "---  ------          --------------  -----  \n",
      " 0   branch          700 non-null    object \n",
      " 1   city            700 non-null    object \n",
      " 2   customer_type   700 non-null    object \n",
      " 3   gender          700 non-null    object \n",
      " 4   product_line    700 non-null    object \n",
      " 5   total           700 non-null    float64\n",
      " 6   payment_method  700 non-null    object \n",
      " 7   rating          700 non-null    float64\n",
      " 8   time_of_day     700 non-null    object \n",
      " 9   day_name        700 non-null    object \n",
      "dtypes: float64(2), object(8)\n",
      "memory usage: 54.8+ KB\n"
     ]
    }
   ],
   "source": [
    "train.info()"
   ]
  },
  {
   "cell_type": "code",
   "execution_count": 26,
   "metadata": {
    "colab": {
     "base_uri": "https://localhost:8080/",
     "height": 300
    },
    "id": "q1hofG4HinUJ",
    "outputId": "c73364b9-bfba-42a6-b4b3-2c00384365f9"
   },
   "outputs": [
    {
     "data": {
      "text/html": [
       "<div>\n",
       "<style scoped>\n",
       "    .dataframe tbody tr th:only-of-type {\n",
       "        vertical-align: middle;\n",
       "    }\n",
       "\n",
       "    .dataframe tbody tr th {\n",
       "        vertical-align: top;\n",
       "    }\n",
       "\n",
       "    .dataframe thead th {\n",
       "        text-align: right;\n",
       "    }\n",
       "</style>\n",
       "<table border=\"1\" class=\"dataframe\">\n",
       "  <thead>\n",
       "    <tr style=\"text-align: right;\">\n",
       "      <th></th>\n",
       "      <th>total</th>\n",
       "      <th>rating</th>\n",
       "    </tr>\n",
       "  </thead>\n",
       "  <tbody>\n",
       "    <tr>\n",
       "      <th>count</th>\n",
       "      <td>7.000000e+02</td>\n",
       "      <td>700.000000</td>\n",
       "    </tr>\n",
       "    <tr>\n",
       "      <th>mean</th>\n",
       "      <td>4.850780e+05</td>\n",
       "      <td>7.003429</td>\n",
       "    </tr>\n",
       "    <tr>\n",
       "      <th>std</th>\n",
       "      <td>3.643907e+05</td>\n",
       "      <td>1.713078</td>\n",
       "    </tr>\n",
       "    <tr>\n",
       "      <th>min</th>\n",
       "      <td>1.904175e+04</td>\n",
       "      <td>4.000000</td>\n",
       "    </tr>\n",
       "    <tr>\n",
       "      <th>25%</th>\n",
       "      <td>2.001195e+05</td>\n",
       "      <td>5.500000</td>\n",
       "    </tr>\n",
       "    <tr>\n",
       "      <th>50%</th>\n",
       "      <td>3.818745e+05</td>\n",
       "      <td>7.000000</td>\n",
       "    </tr>\n",
       "    <tr>\n",
       "      <th>75%</th>\n",
       "      <td>7.061276e+05</td>\n",
       "      <td>8.425000</td>\n",
       "    </tr>\n",
       "    <tr>\n",
       "      <th>max</th>\n",
       "      <td>1.563975e+06</td>\n",
       "      <td>10.000000</td>\n",
       "    </tr>\n",
       "  </tbody>\n",
       "</table>\n",
       "</div>"
      ],
      "text/plain": [
       "              total      rating\n",
       "count  7.000000e+02  700.000000\n",
       "mean   4.850780e+05    7.003429\n",
       "std    3.643907e+05    1.713078\n",
       "min    1.904175e+04    4.000000\n",
       "25%    2.001195e+05    5.500000\n",
       "50%    3.818745e+05    7.000000\n",
       "75%    7.061276e+05    8.425000\n",
       "max    1.563975e+06   10.000000"
      ]
     },
     "execution_count": 26,
     "metadata": {},
     "output_type": "execute_result"
    }
   ],
   "source": [
    "# 기초 통계값 확인\n",
    "train.describe()"
   ]
  },
  {
   "cell_type": "code",
   "execution_count": 27,
   "metadata": {
    "colab": {
     "base_uri": "https://localhost:8080/",
     "height": 175
    },
    "id": "AB_yqbISlMn-",
    "outputId": "ad321f69-5862-4d00-e5b2-c809e6da357c"
   },
   "outputs": [
    {
     "data": {
      "text/html": [
       "<div>\n",
       "<style scoped>\n",
       "    .dataframe tbody tr th:only-of-type {\n",
       "        vertical-align: middle;\n",
       "    }\n",
       "\n",
       "    .dataframe tbody tr th {\n",
       "        vertical-align: top;\n",
       "    }\n",
       "\n",
       "    .dataframe thead th {\n",
       "        text-align: right;\n",
       "    }\n",
       "</style>\n",
       "<table border=\"1\" class=\"dataframe\">\n",
       "  <thead>\n",
       "    <tr style=\"text-align: right;\">\n",
       "      <th></th>\n",
       "      <th>branch</th>\n",
       "      <th>city</th>\n",
       "      <th>customer_type</th>\n",
       "      <th>gender</th>\n",
       "      <th>product_line</th>\n",
       "      <th>payment_method</th>\n",
       "      <th>time_of_day</th>\n",
       "      <th>day_name</th>\n",
       "    </tr>\n",
       "  </thead>\n",
       "  <tbody>\n",
       "    <tr>\n",
       "      <th>count</th>\n",
       "      <td>700</td>\n",
       "      <td>700</td>\n",
       "      <td>700</td>\n",
       "      <td>700</td>\n",
       "      <td>700</td>\n",
       "      <td>700</td>\n",
       "      <td>700</td>\n",
       "      <td>700</td>\n",
       "    </tr>\n",
       "    <tr>\n",
       "      <th>unique</th>\n",
       "      <td>3</td>\n",
       "      <td>3</td>\n",
       "      <td>2</td>\n",
       "      <td>2</td>\n",
       "      <td>6</td>\n",
       "      <td>3</td>\n",
       "      <td>3</td>\n",
       "      <td>7</td>\n",
       "    </tr>\n",
       "    <tr>\n",
       "      <th>top</th>\n",
       "      <td>A</td>\n",
       "      <td>Yangon</td>\n",
       "      <td>Normal</td>\n",
       "      <td>Male</td>\n",
       "      <td>Sports and travel</td>\n",
       "      <td>Cash</td>\n",
       "      <td>evening</td>\n",
       "      <td>Saturday</td>\n",
       "    </tr>\n",
       "    <tr>\n",
       "      <th>freq</th>\n",
       "      <td>236</td>\n",
       "      <td>236</td>\n",
       "      <td>354</td>\n",
       "      <td>356</td>\n",
       "      <td>127</td>\n",
       "      <td>246</td>\n",
       "      <td>309</td>\n",
       "      <td>114</td>\n",
       "    </tr>\n",
       "  </tbody>\n",
       "</table>\n",
       "</div>"
      ],
      "text/plain": [
       "       branch    city customer_type gender       product_line payment_method  \\\n",
       "count     700     700           700    700                700            700   \n",
       "unique      3       3             2      2                  6              3   \n",
       "top         A  Yangon        Normal   Male  Sports and travel           Cash   \n",
       "freq      236     236           354    356                127            246   \n",
       "\n",
       "       time_of_day  day_name  \n",
       "count          700       700  \n",
       "unique           3         7  \n",
       "top        evening  Saturday  \n",
       "freq           309       114  "
      ]
     },
     "execution_count": 27,
     "metadata": {},
     "output_type": "execute_result"
    }
   ],
   "source": [
    "train.describe(include='O')"
   ]
  },
  {
   "cell_type": "code",
   "execution_count": 28,
   "metadata": {
    "colab": {
     "base_uri": "https://localhost:8080/",
     "height": 175
    },
    "id": "xJbcsyOxlSRu",
    "outputId": "25f9c17d-0f69-43cb-94bf-9efed3da6727"
   },
   "outputs": [
    {
     "data": {
      "text/html": [
       "<div>\n",
       "<style scoped>\n",
       "    .dataframe tbody tr th:only-of-type {\n",
       "        vertical-align: middle;\n",
       "    }\n",
       "\n",
       "    .dataframe tbody tr th {\n",
       "        vertical-align: top;\n",
       "    }\n",
       "\n",
       "    .dataframe thead th {\n",
       "        text-align: right;\n",
       "    }\n",
       "</style>\n",
       "<table border=\"1\" class=\"dataframe\">\n",
       "  <thead>\n",
       "    <tr style=\"text-align: right;\">\n",
       "      <th></th>\n",
       "      <th>branch</th>\n",
       "      <th>city</th>\n",
       "      <th>customer_type</th>\n",
       "      <th>gender</th>\n",
       "      <th>product_line</th>\n",
       "      <th>payment_method</th>\n",
       "      <th>time_of_day</th>\n",
       "      <th>day_name</th>\n",
       "    </tr>\n",
       "  </thead>\n",
       "  <tbody>\n",
       "    <tr>\n",
       "      <th>count</th>\n",
       "      <td>300</td>\n",
       "      <td>300</td>\n",
       "      <td>300</td>\n",
       "      <td>300</td>\n",
       "      <td>300</td>\n",
       "      <td>300</td>\n",
       "      <td>300</td>\n",
       "      <td>300</td>\n",
       "    </tr>\n",
       "    <tr>\n",
       "      <th>unique</th>\n",
       "      <td>3</td>\n",
       "      <td>3</td>\n",
       "      <td>2</td>\n",
       "      <td>2</td>\n",
       "      <td>6</td>\n",
       "      <td>3</td>\n",
       "      <td>3</td>\n",
       "      <td>7</td>\n",
       "    </tr>\n",
       "    <tr>\n",
       "      <th>top</th>\n",
       "      <td>A</td>\n",
       "      <td>Yangon</td>\n",
       "      <td>Member</td>\n",
       "      <td>Female</td>\n",
       "      <td>Electronic accessories</td>\n",
       "      <td>Ewallet</td>\n",
       "      <td>evening</td>\n",
       "      <td>Saturday</td>\n",
       "    </tr>\n",
       "    <tr>\n",
       "      <th>freq</th>\n",
       "      <td>104</td>\n",
       "      <td>104</td>\n",
       "      <td>155</td>\n",
       "      <td>157</td>\n",
       "      <td>58</td>\n",
       "      <td>110</td>\n",
       "      <td>123</td>\n",
       "      <td>50</td>\n",
       "    </tr>\n",
       "  </tbody>\n",
       "</table>\n",
       "</div>"
      ],
      "text/plain": [
       "       branch    city customer_type  gender            product_line  \\\n",
       "count     300     300           300     300                     300   \n",
       "unique      3       3             2       2                       6   \n",
       "top         A  Yangon        Member  Female  Electronic accessories   \n",
       "freq      104     104           155     157                      58   \n",
       "\n",
       "       payment_method time_of_day  day_name  \n",
       "count             300         300       300  \n",
       "unique              3           3         7  \n",
       "top           Ewallet     evening  Saturday  \n",
       "freq              110         123        50  "
      ]
     },
     "execution_count": 28,
     "metadata": {},
     "output_type": "execute_result"
    }
   ],
   "source": [
    "test.describe(include='O')"
   ]
  },
  {
   "cell_type": "code",
   "execution_count": 29,
   "metadata": {
    "colab": {
     "base_uri": "https://localhost:8080/"
    },
    "id": "HD9OAVRNnd-O",
    "outputId": "366157ea-72e9-4ce4-a190-312fc37d9f6d"
   },
   "outputs": [
    {
     "data": {
      "text/plain": [
       "np.int64(0)"
      ]
     },
     "execution_count": 29,
     "metadata": {},
     "output_type": "execute_result"
    }
   ],
   "source": [
    "train.isnull().sum().sum()"
   ]
  },
  {
   "cell_type": "code",
   "execution_count": 30,
   "metadata": {
    "colab": {
     "base_uri": "https://localhost:8080/"
    },
    "id": "kL6lokT5neA-",
    "outputId": "b1fc2a35-04d7-48b7-dbbf-98ab3f1e685d"
   },
   "outputs": [
    {
     "data": {
      "text/plain": [
       "np.int64(0)"
      ]
     },
     "execution_count": 30,
     "metadata": {},
     "output_type": "execute_result"
    }
   ],
   "source": [
    "test.isnull().sum().sum()"
   ]
  },
  {
   "cell_type": "code",
   "execution_count": 31,
   "metadata": {
    "colab": {
     "base_uri": "https://localhost:8080/",
     "height": 490
    },
    "id": "nd5vn9iciu2i",
    "outputId": "c1ff52f9-3290-4725-a35a-27da9d1c9a5e"
   },
   "outputs": [
    {
     "data": {
      "text/plain": [
       "total\n",
       "283641.75     2\n",
       "263875.50     2\n",
       "415422.00     2\n",
       "326450.25     2\n",
       "130851.00     2\n",
       "             ..\n",
       "293391.00     1\n",
       "137103.75     1\n",
       "348232.50     1\n",
       "104107.50     1\n",
       "1535625.00    1\n",
       "Name: count, Length: 695, dtype: int64"
      ]
     },
     "execution_count": 31,
     "metadata": {},
     "output_type": "execute_result"
    }
   ],
   "source": [
    "train['total'].value_counts()"
   ]
  },
  {
   "cell_type": "code",
   "execution_count": 32,
   "metadata": {
    "colab": {
     "base_uri": "https://localhost:8080/",
     "height": 335
    },
    "id": "a5WVQ2EFUCYL",
    "outputId": "5a5c7204-e6c4-435a-d54d-6bfe70a2eb4c"
   },
   "outputs": [
    {
     "data": {
      "text/plain": [
       "count       700.0000000000\n",
       "mean     485078.0175000000\n",
       "std      364390.7265411940\n",
       "min       19041.7500000000\n",
       "25%      200119.5000000000\n",
       "50%      381874.5000000000\n",
       "75%      706127.6250000000\n",
       "max     1563975.0000000002\n",
       "Name: total, dtype: float64"
      ]
     },
     "execution_count": 32,
     "metadata": {},
     "output_type": "execute_result"
    }
   ],
   "source": [
    "pd.set_option('display.float_format', '{:.10f}'.format)\n",
    "train['total'].describe()"
   ]
  },
  {
   "cell_type": "markdown",
   "metadata": {
    "id": "UvVLoQBP1z5A"
   },
   "source": [
    "## 4. 데이터 전처리"
   ]
  },
  {
   "cell_type": "code",
   "execution_count": 33,
   "metadata": {
    "id": "C6UGliMFcMhf"
   },
   "outputs": [],
   "source": [
    "target = train.pop('total')"
   ]
  },
  {
   "cell_type": "code",
   "execution_count": 34,
   "metadata": {
    "colab": {
     "base_uri": "https://localhost:8080/"
    },
    "id": "nkWaHf1izCqr",
    "outputId": "ff70a6b9-7636-432f-d46b-7f16ea95738a"
   },
   "outputs": [
    {
     "name": "stdout",
     "output_type": "stream",
     "text": [
      "(700, 9) (300, 9)\n",
      "(700, 30) (300, 30)\n"
     ]
    }
   ],
   "source": [
    "print(train.shape, test.shape)\n",
    "train = pd.get_dummies(train)\n",
    "test = pd.get_dummies(test)\n",
    "print(train.shape, test.shape)"
   ]
  },
  {
   "cell_type": "markdown",
   "metadata": {
    "id": "6KND1n8b14uj"
   },
   "source": [
    "## 5. 검증 데이터 분할"
   ]
  },
  {
   "cell_type": "code",
   "execution_count": 35,
   "metadata": {
    "colab": {
     "base_uri": "https://localhost:8080/"
    },
    "id": "qvHUGFeFhyqu",
    "outputId": "8492eda2-5d20-47ec-c12f-82d90afc71a7"
   },
   "outputs": [
    {
     "data": {
      "text/plain": [
       "((560, 30), (140, 30), (560,), (140,))"
      ]
     },
     "execution_count": 35,
     "metadata": {},
     "output_type": "execute_result"
    }
   ],
   "source": [
    "from sklearn.model_selection import train_test_split\n",
    "X_tr, X_val, y_tr, y_val = train_test_split(train, target, test_size=0.2, random_state=0)\n",
    "X_tr.shape, X_val.shape, y_tr.shape, y_val.shape"
   ]
  },
  {
   "cell_type": "markdown",
   "metadata": {
    "id": "VAhoGGf-17uM"
   },
   "source": [
    "## 6. 머신러닝 학습 및 평가"
   ]
  },
  {
   "cell_type": "code",
   "execution_count": 36,
   "metadata": {
    "id": "Ra2PAD0YzZJN"
   },
   "outputs": [],
   "source": [
    "from sklearn.metrics import mean_squared_error\n",
    "def rmse(y_true, y_pred):\n",
    "    return mean_squared_error(y_true, y_pred)**0.5"
   ]
  },
  {
   "cell_type": "code",
   "execution_count": 37,
   "metadata": {
    "colab": {
     "base_uri": "https://localhost:8080/"
    },
    "id": "6B_UWz_a2pTh",
    "outputId": "d8b008c4-2ee5-4056-89f4-f869ac2ea0ef"
   },
   "outputs": [
    {
     "data": {
      "text/plain": [
       "np.float64(374016.3661648522)"
      ]
     },
     "execution_count": 37,
     "metadata": {},
     "output_type": "execute_result"
    }
   ],
   "source": [
    "# 선형회귀\n",
    "from sklearn.linear_model import LinearRegression\n",
    "lr = LinearRegression()\n",
    "lr.fit(X_tr, y_tr)\n",
    "pred = lr.predict(X_val)\n",
    "rmse(y_val, pred)"
   ]
  },
  {
   "cell_type": "code",
   "execution_count": 38,
   "metadata": {
    "colab": {
     "base_uri": "https://localhost:8080/"
    },
    "id": "xA5lV-MXh3sZ",
    "outputId": "c5e0258a-efe8-4636-c570-3a968711c35e"
   },
   "outputs": [
    {
     "data": {
      "text/plain": [
       "np.float64(385951.8053430962)"
      ]
     },
     "execution_count": 38,
     "metadata": {},
     "output_type": "execute_result"
    }
   ],
   "source": [
    "# 랜덤포레스트\n",
    "from sklearn.ensemble import RandomForestRegressor\n",
    "rf = RandomForestRegressor(random_state=0)\n",
    "rf.fit(X_tr, y_tr)\n",
    "pred = rf.predict(X_val)\n",
    "rmse(y_val, pred)"
   ]
  },
  {
   "cell_type": "code",
   "execution_count": null,
   "metadata": {},
   "outputs": [],
   "source": [
    "# Xgboost\n",
    "import xgboost as xgb\n",
    "xg = xgb.XGBRegressor(random_state=0)\n",
    "xg.fit(X_tr, y_tr)\n",
    "pred = xg.predict(X_val)\n",
    "rmse(y_val, pred)"
   ]
  },
  {
   "cell_type": "code",
   "execution_count": null,
   "metadata": {
    "colab": {
     "base_uri": "https://localhost:8080/"
    },
    "id": "3Q8K93uM29ma",
    "outputId": "0f8ef006-c1d5-4e8a-e4e2-51fd765a4055"
   },
   "outputs": [],
   "source": [
    "# LightGBM\n",
    "import lightgbm as lgb\n",
    "lg = lgb.LGBMRegressor(random_state=0, verbose=-1)\n",
    "lg.fit(X_tr, y_tr)\n",
    "pred = lg.predict(X_val)\n",
    "rmse(y_val, pred)"
   ]
  },
  {
   "cell_type": "markdown",
   "metadata": {
    "id": "Cx5zX7W4iL4F"
   },
   "source": [
    "## 7. 예측 및 결과 파일 생성"
   ]
  },
  {
   "cell_type": "code",
   "execution_count": 44,
   "metadata": {
    "id": "aZRKbOifiJYA"
   },
   "outputs": [],
   "source": [
    "pred = lr.predict(test)\n",
    "result = pd.DataFrame({\n",
    "    'pred':pred\n",
    "})\n",
    "result.to_csv(\"result.csv\", index=False)"
   ]
  },
  {
   "cell_type": "code",
   "execution_count": 45,
   "metadata": {
    "colab": {
     "base_uri": "https://localhost:8080/",
     "height": 423
    },
    "id": "74VLjg8vv_Kw",
    "outputId": "26fdbdc8-9800-447b-f749-5177b64e64ba"
   },
   "outputs": [
    {
     "data": {
      "text/html": [
       "<div>\n",
       "<style scoped>\n",
       "    .dataframe tbody tr th:only-of-type {\n",
       "        vertical-align: middle;\n",
       "    }\n",
       "\n",
       "    .dataframe tbody tr th {\n",
       "        vertical-align: top;\n",
       "    }\n",
       "\n",
       "    .dataframe thead th {\n",
       "        text-align: right;\n",
       "    }\n",
       "</style>\n",
       "<table border=\"1\" class=\"dataframe\">\n",
       "  <thead>\n",
       "    <tr style=\"text-align: right;\">\n",
       "      <th></th>\n",
       "      <th>pred</th>\n",
       "    </tr>\n",
       "  </thead>\n",
       "  <tbody>\n",
       "    <tr>\n",
       "      <th>0</th>\n",
       "      <td>485484.5740277334</td>\n",
       "    </tr>\n",
       "    <tr>\n",
       "      <th>1</th>\n",
       "      <td>474683.4165377701</td>\n",
       "    </tr>\n",
       "    <tr>\n",
       "      <th>2</th>\n",
       "      <td>486669.1574532852</td>\n",
       "    </tr>\n",
       "    <tr>\n",
       "      <th>3</th>\n",
       "      <td>426407.8222290425</td>\n",
       "    </tr>\n",
       "    <tr>\n",
       "      <th>4</th>\n",
       "      <td>599942.9042138030</td>\n",
       "    </tr>\n",
       "    <tr>\n",
       "      <th>...</th>\n",
       "      <td>...</td>\n",
       "    </tr>\n",
       "    <tr>\n",
       "      <th>295</th>\n",
       "      <td>501132.5887398274</td>\n",
       "    </tr>\n",
       "    <tr>\n",
       "      <th>296</th>\n",
       "      <td>554273.9221195823</td>\n",
       "    </tr>\n",
       "    <tr>\n",
       "      <th>297</th>\n",
       "      <td>540502.7549631427</td>\n",
       "    </tr>\n",
       "    <tr>\n",
       "      <th>298</th>\n",
       "      <td>550704.8821613132</td>\n",
       "    </tr>\n",
       "    <tr>\n",
       "      <th>299</th>\n",
       "      <td>506543.6684025059</td>\n",
       "    </tr>\n",
       "  </tbody>\n",
       "</table>\n",
       "<p>300 rows × 1 columns</p>\n",
       "</div>"
      ],
      "text/plain": [
       "                 pred\n",
       "0   485484.5740277334\n",
       "1   474683.4165377701\n",
       "2   486669.1574532852\n",
       "3   426407.8222290425\n",
       "4   599942.9042138030\n",
       "..                ...\n",
       "295 501132.5887398274\n",
       "296 554273.9221195823\n",
       "297 540502.7549631427\n",
       "298 550704.8821613132\n",
       "299 506543.6684025059\n",
       "\n",
       "[300 rows x 1 columns]"
      ]
     },
     "execution_count": 45,
     "metadata": {},
     "output_type": "execute_result"
    }
   ],
   "source": [
    "pd.read_csv('result.csv')"
   ]
  },
  {
   "cell_type": "markdown",
   "metadata": {
    "id": "VyH2Xd_8Dh-B"
   },
   "source": [
    "## 8. 성능 개선"
   ]
  },
  {
   "cell_type": "code",
   "execution_count": 46,
   "metadata": {
    "colab": {
     "base_uri": "https://localhost:8080/"
    },
    "id": "r1ByVJ6b6q8a",
    "outputId": "a6ae3fb8-05a7-4531-e755-637e8109d51e"
   },
   "outputs": [
    {
     "name": "stdout",
     "output_type": "stream",
     "text": [
      "371070.1344734549\n"
     ]
    }
   ],
   "source": [
    "# 데이터 불러오기\n",
    "import pandas as pd\n",
    "train = pd.read_csv(\"https://raw.githubusercontent.com/lovedlim/inf/refs/heads/main/p4/7_2/mart_train.csv\")\n",
    "test = pd.read_csv(\"https://raw.githubusercontent.com/lovedlim/inf/refs/heads/main/p4/7_2/mart_test.csv\")\n",
    "\n",
    "# target 데이터\n",
    "target = train.pop('total')\n",
    "\n",
    "# 레이블 인코딩\n",
    "from sklearn.preprocessing import LabelEncoder\n",
    "cols = train.select_dtypes(include='O').columns\n",
    "\n",
    "for col in cols:\n",
    "    le = LabelEncoder()\n",
    "    train[col] = le.fit_transform(train[col])\n",
    "    test[col] = le.transform(test[col])\n",
    "\n",
    "# 검증데이터 분리\n",
    "from sklearn.model_selection import train_test_split\n",
    "X_tr, X_val, y_tr, y_val = train_test_split(train, target, test_size=0.2, random_state=0)\n",
    "\n",
    "# 선형회귀\n",
    "from sklearn.linear_model import LinearRegression\n",
    "lr = LinearRegression()\n",
    "lr.fit(X_tr, y_tr)\n",
    "pred = lr.predict(X_val)\n",
    "print(rmse(y_val, pred))\n",
    "\n",
    "# 최종 제출 파일\n",
    "pred = lr.predict(test)\n",
    "result = pd.DataFrame({\n",
    "    'pred':pred\n",
    "})\n",
    "result.to_csv(\"result.csv\", index=False)\n",
    "\n",
    "# 베이스라인(원핫 인코딩): 374016.3661648522\n",
    "# 레이블 인코딩: 371070.1344734549"
   ]
  }
 ],
 "metadata": {
  "colab": {
   "provenance": []
  },
  "kernelspec": {
   "display_name": "Python 3 (ipykernel)",
   "language": "python",
   "name": "python3"
  },
  "language_info": {
   "codemirror_mode": {
    "name": "ipython",
    "version": 3
   },
   "file_extension": ".py",
   "mimetype": "text/x-python",
   "name": "python",
   "nbconvert_exporter": "python",
   "pygments_lexer": "ipython3",
   "version": "3.12.6"
  }
 },
 "nbformat": 4,
 "nbformat_minor": 4
}
