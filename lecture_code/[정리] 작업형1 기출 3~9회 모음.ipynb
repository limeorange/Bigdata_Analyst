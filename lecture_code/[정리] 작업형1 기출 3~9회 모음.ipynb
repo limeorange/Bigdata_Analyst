{
 "cells": [
  {
   "cell_type": "markdown",
   "id": "ed03ecd1-33e7-4f2b-a569-c94c4ccf98f9",
   "metadata": {
    "id": "f44uCAj5kP5x"
   },
   "source": [
    "# 기출 9회_작업형1"
   ]
  },
  {
   "cell_type": "markdown",
   "id": "41c901a3-816b-40b1-a027-1be87ae8ceba",
   "metadata": {
    "id": "17QTSTSrkVkh"
   },
   "source": [
    "## 문제1"
   ]
  },
  {
   "cell_type": "markdown",
   "id": "fdc81c42-9d59-4f43-960a-94ac7058faad",
   "metadata": {
    "id": "5lqHqMamwudd"
   },
   "source": [
    "1. 총대출액은 신용대출과 담보대출의 합이다.\n",
    "2. 각 지역코드 내에서, 성별(예: 1과 2)별로 '총대출액'의 합계를 계산하시오.\n",
    "3. 성별 간 총대출액의 차이가 가장 큰 지역코드를 구하시오."
   ]
  },
  {
   "cell_type": "code",
   "execution_count": 61,
   "id": "645029bd-984c-46b6-84ad-189867fa66d9",
   "metadata": {},
   "outputs": [
    {
     "name": "stdout",
     "output_type": "stream",
     "text": [
      "4100000278\n"
     ]
    }
   ],
   "source": [
    "# My1) groupby, unstack\n",
    "\n",
    "import pandas as pd\n",
    "df = pd.read_csv(\"https://raw.githubusercontent.com/lovedlim/inf/refs/heads/main/p4/9_1/loan.csv\")\n",
    "\n",
    "df['총대출액'] = df['신용대출']+df['담보대출']\n",
    "df = df.groupby(['지역코드', '성별'])['총대출액'].sum()\n",
    "df = df.unstack()\n",
    "df['diff'] = abs(df[1]-df[2])\n",
    "df = df.sort_values('diff', ascending=False)\n",
    "print(df.index[0])\n",
    "# print(df)"
   ]
  },
  {
   "cell_type": "code",
   "execution_count": 90,
   "id": "4c6691aa-571e-444b-98d0-e9f1da122d5c",
   "metadata": {},
   "outputs": [
    {
     "name": "stdout",
     "output_type": "stream",
     "text": [
      "4100000278\n"
     ]
    }
   ],
   "source": [
    "# My2) pivot_table\n",
    "\n",
    "import pandas as pd\n",
    "df = pd.read_csv(\"https://raw.githubusercontent.com/lovedlim/inf/refs/heads/main/p4/9_1/loan.csv\")\n",
    "\n",
    "df['총대출액'] = df['신용대출']+df['담보대출']\n",
    "# print(df)\n",
    "\n",
    "grouped = df.pivot_table(index='지역코드', columns='성별', values='총대출액', aggfunc='sum')\n",
    "grouped['diff'] = abs(grouped[1]-grouped[2])\n",
    "print(grouped['diff'].idxmax())"
   ]
  },
  {
   "cell_type": "code",
   "execution_count": 59,
   "id": "20735aa9-e117-4a8b-8de8-049ab4f7f4b2",
   "metadata": {
    "colab": {
     "base_uri": "https://localhost:8080/"
    },
    "id": "nsGR8mjuw4cX",
    "outputId": "3ed10f63-b609-45bf-b72a-260f84dc3ae5"
   },
   "outputs": [
    {
     "name": "stdout",
     "output_type": "stream",
     "text": [
      "4100000278\n"
     ]
    }
   ],
   "source": [
    "# 방법1\n",
    "\n",
    "import pandas as pd\n",
    "df = pd.read_csv(\"https://raw.githubusercontent.com/lovedlim/inf/refs/heads/main/p4/9_1/loan.csv\")\n",
    "\n",
    "# 1) 총대출액 컬럼 생성\n",
    "df['총대출액'] = df['신용대출'] + df['담보대출']\n",
    "\n",
    "# 2) 지역코드와 성별별로 총대출액 합계 계산\n",
    "grouped = df.groupby(['지역코드', '성별'])['총대출액'].sum().unstack()\n",
    "\n",
    "# 3) 성별 간 총대출액 차이가 가장 큰 지역코드 찾기 (절대값 사용)\n",
    "grouped['차이'] = abs(grouped[1] - grouped[2])\n",
    "result = grouped['차이'].idxmax()\n",
    "print(result)"
   ]
  },
  {
   "cell_type": "code",
   "execution_count": 58,
   "id": "96649b04-0b54-4e3f-80e0-cc05c9da55e4",
   "metadata": {
    "colab": {
     "base_uri": "https://localhost:8080/"
    },
    "id": "lkMVhO35w4eu",
    "outputId": "4728dc65-46ae-4fba-e49e-8a0e211a45ca"
   },
   "outputs": [
    {
     "name": "stdout",
     "output_type": "stream",
     "text": [
      "4100000278\n"
     ]
    }
   ],
   "source": [
    "# 방법2\n",
    "\n",
    "import pandas as pd\n",
    "df = pd.read_csv(\"https://raw.githubusercontent.com/lovedlim/inf/refs/heads/main/p4/9_1/loan.csv\")\n",
    "\n",
    "# 1) 총대출액 컬럼 생성\n",
    "df['총대출액'] = df['신용대출'] + df['담보대출']\n",
    "\n",
    "# 2) 지역코드와 성별별로 총대출액 합계 계산\n",
    "grouped = df.pivot_table(index='지역코드', columns='성별', values='총대출액', aggfunc='sum')\n",
    "# print(grouped)\n",
    "\n",
    "# 3) 성별 간 총대출액 차이가 가장 큰 지역코드 찾기 (절대값 사용)\n",
    "grouped['차이'] = abs(grouped[1] - grouped[2])\n",
    "result = grouped['차이'].idxmax()\n",
    "print(result)"
   ]
  },
  {
   "cell_type": "markdown",
   "id": "e65af1b9-d3e4-4c19-b9ec-dd2eaca709f6",
   "metadata": {
    "id": "q7YlGYNTxb22"
   },
   "source": [
    "## 문제2"
   ]
  },
  {
   "cell_type": "markdown",
   "id": "8c34671e-de8f-49a9-ae50-c738e95add24",
   "metadata": {
    "id": "E-skBO1_xgLj"
   },
   "source": [
    "1. 검거율은 검거건수 / 발생건수이다.\n",
    "2. 각 연도에서 가장 높은 검거율을 기록한 범죄유형을 찾으시오.\n",
    "3. 해당 범죄유형의 검거건수를 구한 후, 이 값들을 모두 합산하시오. (정수로 구하시오)"
   ]
  },
  {
   "cell_type": "code",
   "execution_count": 108,
   "id": "8a3428ff-be2d-4c0c-8ab9-fec6147f45a2",
   "metadata": {},
   "outputs": [
    {
     "name": "stdout",
     "output_type": "stream",
     "text": [
      "7799\n"
     ]
    }
   ],
   "source": [
    "# 방법1 \n",
    "\n",
    "import pandas as pd\n",
    "df = pd.read_csv(\"https://raw.githubusercontent.com/lovedlim/inf/refs/heads/main/p4/9_1/crime.csv\")\n",
    "# print(df)\n",
    "\n",
    "# 1) \"발생건수\"와 \"검거건수\"를 따로 분리\n",
    "cond1 = df['구분'] == '검거건수'\n",
    "df1 = df[cond1].iloc[:, 2:].reset_index(drop=True)\n",
    "# print(df1)\n",
    "# print(df1.shape)\n",
    "\n",
    "cond2 = df['구분'] == '발생건수'\n",
    "df2 = df[cond2].iloc[:, 2:].reset_index(drop=True)\n",
    "# print(df2)\n",
    "# print(df2.shape)\n",
    "\n",
    "# 2) 검거율 계산 (검거건수 / 발생건수)\n",
    "# index가 매칭되어야 df끼리 계산이 가능함.\n",
    "df3 = df1 / df2\n",
    "# print(df3)\n",
    "\n",
    "# 3) 각 연도에서 검거율이 가장 높은 범죄유형 찾기\n",
    "listbox = df3.idxmax(axis=1)\n",
    "# print(listbox)\n",
    "\n",
    "# 4) 가장 높은 검거율을 기록한 범죄유형의 검거건수 가져오기\n",
    "result = 0\n",
    "for index, item in enumerate(listbox):\n",
    "    result += df1.loc[index, item]\n",
    "\n",
    "print(result)"
   ]
  },
  {
   "cell_type": "code",
   "execution_count": 144,
   "id": "423b8d17-3d41-4b65-9685-144add2b5269",
   "metadata": {},
   "outputs": [
    {
     "name": "stdout",
     "output_type": "stream",
     "text": [
      "df =============\n",
      "      연도    구분  강력범죄  절도범죄  폭력범죄  지능범죄  풍속범죄  특별경제범죄  마약범죄  보건범죄  환경범죄  교통범죄  \\\n",
      "0   2014  발생건수   800   900   750   650   700    1034   600   850   800   900   \n",
      "1   2014  검거건수   500   600   400   450   400     961   350   500   450   550   \n",
      "2   2015  발생건수   900   768   800   750   700    1000   850   800   900   950   \n",
      "3   2015  검거건수   600   713   500   550   400     600   500   450   550   600   \n",
      "4   2016  발생건수   850   800   880   750   700     950   900   800   850   900   \n",
      "5   2016  검거건수   500   600   812   550   400     600   500   450   500   550   \n",
      "6   2017  발생건수  1000   900   850   800   750     950  1400   900  1000   950   \n",
      "7   2017  검거건수   600   500   500   550   400     600  1300   500   550   600   \n",
      "8   2018  발생건수  1450   900   850   800   750     950   900   800   850   900   \n",
      "9   2018  검거건수  1350   600   500   550   400     600   500   450   500   550   \n",
      "10  2019  발생건수  1000   900   850   800   750     950   900  1400  1000   950   \n",
      "11  2019  검거건수   600   500   500   550   400     600   500  1300   550   600   \n",
      "12  2020  발생건수  1000   900   850  1500   750     950   900   800   850   900   \n",
      "13  2020  검거건수   600   500   500  1363   400     600   500   450   500   550   \n",
      "\n",
      "    노동범죄  선거범죄  병역범죄  기타범죄  \n",
      "0    750   800   700  1000  \n",
      "1    400   450   400   600  \n",
      "2    800   850   750  1000  \n",
      "3    450   500   400   600  \n",
      "4    750   800   700   950  \n",
      "5    400   450   400   600  \n",
      "6    800   850   750   900  \n",
      "7    450   500   400   500  \n",
      "8    750   800   700   950  \n",
      "9    400   450   400   600  \n",
      "10   800   850   750   900  \n",
      "11   450   500   400   500  \n",
      "12   750   800   700   950  \n",
      "13   400   450   400   600  \n",
      "df_long =============\n",
      "       연도    구분  범죄유형   건수\n",
      "0    2014  발생건수  강력범죄  800\n",
      "1    2014  검거건수  강력범죄  500\n",
      "2    2015  발생건수  강력범죄  900\n",
      "3    2015  검거건수  강력범죄  600\n",
      "4    2016  발생건수  강력범죄  850\n",
      "..    ...   ...   ...  ...\n",
      "191  2018  검거건수  기타범죄  600\n",
      "192  2019  발생건수  기타범죄  900\n",
      "193  2019  검거건수  기타범죄  500\n",
      "194  2020  발생건수  기타범죄  950\n",
      "195  2020  검거건수  기타범죄  600\n",
      "\n",
      "[196 rows x 4 columns]\n",
      "df_pivot =============\n",
      "구분    연도    범죄유형    검거건수    발생건수       검거율\n",
      "0   2014    강력범죄   500.0   800.0  0.625000\n",
      "1   2014    교통범죄   550.0   900.0  0.611111\n",
      "2   2014    기타범죄   600.0  1000.0  0.600000\n",
      "3   2014    노동범죄   400.0   750.0  0.533333\n",
      "4   2014    마약범죄   350.0   600.0  0.583333\n",
      "..   ...     ...     ...     ...       ...\n",
      "93  2020    지능범죄  1363.0  1500.0  0.908667\n",
      "94  2020  특별경제범죄   600.0   950.0  0.631579\n",
      "95  2020    폭력범죄   500.0   850.0  0.588235\n",
      "96  2020    풍속범죄   400.0   750.0  0.533333\n",
      "97  2020    환경범죄   500.0   850.0  0.588235\n",
      "\n",
      "[98 rows x 5 columns]\n",
      "구분    연도    범죄유형    검거건수    발생건수       검거율\n",
      "10  2014  특별경제범죄   961.0  1034.0  0.929400\n",
      "22  2015    절도범죄   713.0   768.0  0.928385\n",
      "39  2016    폭력범죄   812.0   880.0  0.922727\n",
      "46  2017    마약범죄  1300.0  1400.0  0.928571\n",
      "56  2018    강력범죄  1350.0  1450.0  0.931034\n",
      "76  2019    보건범죄  1300.0  1400.0  0.928571\n",
      "93  2020    지능범죄  1363.0  1500.0  0.908667\n",
      "7799.0\n"
     ]
    }
   ],
   "source": [
    "# 방법2\n",
    "\n",
    "import pandas as pd\n",
    "df = pd.read_csv(\"https://raw.githubusercontent.com/lovedlim/inf/refs/heads/main/p4/9_1/crime.csv\")\n",
    "print('df =============')\n",
    "print(df)\n",
    "\n",
    "# 1. 데이터를 길게 변환\n",
    "df_long = pd.melt(df, id_vars=['연도', '구분'], var_name='범죄유형', value_name='건수')\n",
    "print('df_long =============')\n",
    "print(df_long)\n",
    "\n",
    "# 2. 피벗(pivot)하여 발생건수와 검거건수를 한 행에 모으기\n",
    "df_pivot = df_long.pivot_table(index=['연도', '범죄유형'], columns='구분', values='건수').reset_index()\n",
    "\n",
    "# 3. 검거율 계산\n",
    "df_pivot['검거율'] = df_pivot['검거건수'] / df_pivot['발생건수']\n",
    "print('df_pivot =============')\n",
    "print(df_pivot)\n",
    "\n",
    "# 4. 각 연도별로 검거율이 가장 높은 범죄유형 찾기\n",
    "listbox = df_pivot.groupby(['연도'])['검거율'].idxmax()\n",
    "max_crime_df = df_pivot.loc[listbox]\n",
    "print(max_crime_df)\n",
    "\n",
    "# 5. 각 연도별 최고 검거율 범죄유형의 검거건수를 모두 합산하기\n",
    "# result = 0\n",
    "# for index in listbox:\n",
    "#     result += df_pivot.loc[index, '검거건수']\n",
    "# print(result)\n",
    "\n",
    "result = max_crime_df['검거건수'].sum()\n",
    "print(result)"
   ]
  },
  {
   "cell_type": "markdown",
   "id": "b39b6f48-2293-4a26-9f0e-c4171da22e48",
   "metadata": {
    "id": "vv2iIOMBxvnq"
   },
   "source": [
    "## 문제3"
   ]
  },
  {
   "cell_type": "markdown",
   "id": "bad2ec93-40c6-4323-af7e-09e0d3f3fd05",
   "metadata": {
    "id": "rQhkYURKxxAB"
   },
   "source": [
    "1. 만족도의 결측치는 만족도의 평균값으로 대체한다.\n",
    "2. 근속연수의 결측치는 동일한 부서 및 성과등급에 해당하는 직원들의 평균 근속연수로 대체한다. (이때, 평균 근속연수는 소수점 이하를 절사하여 정수로 변환하여 사용)\n",
    "3. 각 직원의 '연봉 / 근속연수' 값을 계산하여, 그 값이 세 번째로 큰 직원의 근속연수를 구하시오.\n",
    "4. 각 직원의 '연봉 / 만족도' 값을 계산하여, 그 값이 두 번째로 큰 직원의 교육참가횟수를 구하시오.\n",
    "5. (3)과 (4)의 값을 더한 결과를 구하시오. (정수로 구하시오)"
   ]
  },
  {
   "cell_type": "code",
   "execution_count": 169,
   "id": "c3a3ad17-dff0-41e2-84a7-6b7bb57568cf",
   "metadata": {},
   "outputs": [
    {
     "name": "stdout",
     "output_type": "stream",
     "text": [
      "df ============\n",
      "      사원번호         부서 성과등급         연봉  근속연수  교육참가횟수  만족도\n",
      "0    E0001  Marketing    B   73200000  14.0       5  6.0\n",
      "1    E0002         IR    A   95100000   3.0       4  9.0\n",
      "2    E0003    Manager    B   44700000   5.0       2  8.0\n",
      "3    E0004         IR    B  122100000  16.0       3  8.0\n",
      "4    E0005         IR    C   66000000   NaN       4  8.0\n",
      "..     ...        ...  ...        ...   ...     ...  ...\n",
      "995  E0996    Finance    B   90400000  15.0       3  2.0\n",
      "996  E0997         IR    C  147600000  12.0       5  5.0\n",
      "997  E0998      Sales    C   95600000   4.0       4  9.0\n",
      "998  E0999      Sales    C   94400000   8.0       6  1.0\n",
      "999  E1000         IR    A   92400000   9.0       2  5.0\n",
      "\n",
      "[1000 rows x 7 columns]\n",
      "gm ============\n",
      "0      11\n",
      "1      11\n",
      "2      10\n",
      "3      10\n",
      "4      10\n",
      "       ..\n",
      "995    10\n",
      "996    10\n",
      "997    11\n",
      "998    11\n",
      "999    11\n",
      "Name: 근속연수, Length: 1000, dtype: int64\n",
      "df_year ============\n",
      "      사원번호       부서 성과등급         연봉  근속연수  교육참가횟수       만족도      연봉_근속연수\n",
      "357  E0358  Finance    B  148100000   1.0       5  8.000000  148100000.0\n",
      "386  E0387       HR    A  145400000   1.0       1  9.000000  145400000.0\n",
      "801  E0802       IR    A  144900000   1.0       5  5.017045  144900000.0\n",
      "1.0\n",
      "df_cnt ============\n",
      "      사원번호       부서 성과등급         연봉  근속연수  교육참가횟수  만족도       연봉_근속연수  \\\n",
      "490  E0491  Finance    B  149000000  13.0       6  1.0  1.146154e+07   \n",
      "737  E0738       HR    A  146200000   9.0       6  1.0  1.624444e+07   \n",
      "\n",
      "          연봉_만족도  \n",
      "490  149000000.0  \n",
      "737  146200000.0  \n",
      "6\n",
      "정답: 7\n"
     ]
    }
   ],
   "source": [
    "# 방법1\n",
    "\n",
    "import pandas as pd\n",
    "df = pd.read_csv(\"https://raw.githubusercontent.com/lovedlim/inf/refs/heads/main/p4/9_1/hr.csv\")\n",
    "print('df ============')\n",
    "print(df)\n",
    "\n",
    "# 1) 만족도 결측치 처리\n",
    "# print(df['만족도'].isna().sum())\n",
    "m = df['만족도'].mean()\n",
    "df['만족도'] = df['만족도'].fillna(m)\n",
    "# print(df['만족도'].isna().sum())\n",
    "\n",
    "# 2) 근속연수 결측치 처리 (부서와 성과등급 기준 평균값으로 채움)\n",
    "# print(df['근속연수'].isna().sum())\n",
    "gm = df.groupby(['부서', '성과등급'])['근속연수'].transform('mean')\n",
    "gm = gm.astype(int)\n",
    "print('gm ============')\n",
    "print(gm)\n",
    "df['근속연수'] = df['근속연수'].fillna(gm)\n",
    "# print(df['근속연수'].isna().sum())\n",
    "# print(df)\n",
    "\n",
    "# 3) 연봉 / 근속연수 계산 후 세 번째로 높은 사람의 근속연수 (A)\n",
    "df['연봉_근속연수'] = df['연봉'] / df['근속연수']\n",
    "df_year = df.nlargest(3, '연봉_근속연수')\n",
    "A = df_year.iloc[-1]['근속연수']\n",
    "print('df_year ============')\n",
    "print(df_year)\n",
    "print(A)\n",
    "\n",
    "# 4) 연봉 / 만족도 계산 후 두 번째로 높은 사람의 교육참가횟수 (B)\n",
    "# print(df)\n",
    "df['연봉_만족도'] = df['연봉'] / df['만족도']\n",
    "df_cnt = df.nlargest(2, '연봉_만족도')\n",
    "B = df_cnt.iloc[-1]['교육참가횟수']\n",
    "print('df_cnt ============')\n",
    "print(df_cnt)\n",
    "print(B)\n",
    "\n",
    "# 5) 결과 출력\n",
    "print('정답:', int(A+B))"
   ]
  },
  {
   "cell_type": "code",
   "execution_count": null,
   "id": "f4a05bac-fe2e-45dc-9dcc-1a7ff6dd7a3c",
   "metadata": {
    "colab": {
     "base_uri": "https://localhost:8080/"
    },
    "id": "H4xPsYBIxrsY",
    "outputId": "dc9eeca0-aa0a-482f-adb0-44a9496dfe4b"
   },
   "outputs": [
    {
     "name": "stdout",
     "output_type": "stream",
     "text": [
      "7.0\n"
     ]
    }
   ],
   "source": [
    "# 방법2\n",
    "import pandas as pd\n",
    "df = pd.read_csv(\"https://raw.githubusercontent.com/lovedlim/inf/refs/heads/main/p4/9_1/hr.csv\")\n",
    "\n",
    "# 1) 만족도 결측치 처리\n",
    "# print(df['만족도'].isnull().sum())\n",
    "m = df['만족도'].mean()\n",
    "df['만족도'] = df['만족도'].fillna(m)\n",
    "# print(df['만족도'].isnull().sum())\n",
    "\n",
    "# 2) 근속연수 결측치 처리 (부서와 성과등급 기준 평균값으로 채움)\n",
    "# print(df['근속연수'].isnull().sum())\n",
    "gm = df.groupby(['부서', '성과등급'])['근속연수'].transform('mean')\n",
    "gm = gm.astype(int)\n",
    "df['근속연수'] = df['근속연수'].fillna(gm)\n",
    "# print(df['근속연수'].isnull().sum())\n",
    "\n",
    "# 3) 연봉 / 근속연수 계산 후 세 번째로 높은 사람의 근속연수 (A)\n",
    "df['연봉_근속연수'] = df['연봉'] / df['근속연수']\n",
    "df_year = df.sort_values('연봉_근속연수', ascending=False)\n",
    "A = df_year.iloc[2]['근속연수']\n",
    "\n",
    "# 4) 연봉 / 만족도 계산 후 두 번째로 높은 사람의 교육참가횟수 (B)\n",
    "df['연봉_만족도'] = df['연봉'] / df['만족도']\n",
    "df_like = df.sort_values('연봉_만족도', ascending=False)\n",
    "B = df_like.iloc[1]['교육참가횟수']\n",
    "\n",
    "# 5) 결과 출력\n",
    "result = A + B\n",
    "print(result)"
   ]
  }
 ],
 "metadata": {
  "kernelspec": {
   "display_name": "Python 3 (ipykernel)",
   "language": "python",
   "name": "python3"
  },
  "language_info": {
   "codemirror_mode": {
    "name": "ipython",
    "version": 3
   },
   "file_extension": ".py",
   "mimetype": "text/x-python",
   "name": "python",
   "nbconvert_exporter": "python",
   "pygments_lexer": "ipython3",
   "version": "3.12.6"
  }
 },
 "nbformat": 4,
 "nbformat_minor": 5
}
