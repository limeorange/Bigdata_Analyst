{
 "cells": [
  {
   "cell_type": "markdown",
   "id": "ed03ecd1-33e7-4f2b-a569-c94c4ccf98f9",
   "metadata": {
    "id": "f44uCAj5kP5x"
   },
   "source": [
    "# 기출 9회_작업형1"
   ]
  },
  {
   "cell_type": "markdown",
   "id": "41c901a3-816b-40b1-a027-1be87ae8ceba",
   "metadata": {
    "id": "17QTSTSrkVkh"
   },
   "source": [
    "## 문제1"
   ]
  },
  {
   "cell_type": "markdown",
   "id": "fdc81c42-9d59-4f43-960a-94ac7058faad",
   "metadata": {
    "id": "5lqHqMamwudd"
   },
   "source": [
    "1. 총대출액은 신용대출과 담보대출의 합이다.\n",
    "2. 각 지역코드 내에서, 성별(예: 1과 2)별로 '총대출액'의 합계를 계산하시오.\n",
    "3. 성별 간 총대출액의 차이가 가장 큰 지역코드를 구하시오."
   ]
  },
  {
   "cell_type": "code",
   "execution_count": 61,
   "id": "645029bd-984c-46b6-84ad-189867fa66d9",
   "metadata": {},
   "outputs": [
    {
     "name": "stdout",
     "output_type": "stream",
     "text": [
      "4100000278\n"
     ]
    }
   ],
   "source": [
    "# My1) groupby, unstack\n",
    "\n",
    "import pandas as pd\n",
    "df = pd.read_csv(\"https://raw.githubusercontent.com/lovedlim/inf/refs/heads/main/p4/9_1/loan.csv\")\n",
    "\n",
    "df['총대출액'] = df['신용대출']+df['담보대출']\n",
    "df = df.groupby(['지역코드', '성별'])['총대출액'].sum()\n",
    "df = df.unstack()\n",
    "df['diff'] = abs(df[1]-df[2])\n",
    "df = df.sort_values('diff', ascending=False)\n",
    "print(df.index[0])\n",
    "# print(df)"
   ]
  },
  {
   "cell_type": "code",
   "execution_count": 90,
   "id": "4c6691aa-571e-444b-98d0-e9f1da122d5c",
   "metadata": {},
   "outputs": [
    {
     "name": "stdout",
     "output_type": "stream",
     "text": [
      "4100000278\n"
     ]
    }
   ],
   "source": [
    "# My2) pivot_table\n",
    "\n",
    "import pandas as pd\n",
    "df = pd.read_csv(\"https://raw.githubusercontent.com/lovedlim/inf/refs/heads/main/p4/9_1/loan.csv\")\n",
    "\n",
    "df['총대출액'] = df['신용대출']+df['담보대출']\n",
    "# print(df)\n",
    "\n",
    "grouped = df.pivot_table(index='지역코드', columns='성별', values='총대출액', aggfunc='sum')\n",
    "grouped['diff'] = abs(grouped[1]-grouped[2])\n",
    "print(grouped['diff'].idxmax())"
   ]
  },
  {
   "cell_type": "code",
   "execution_count": 59,
   "id": "20735aa9-e117-4a8b-8de8-049ab4f7f4b2",
   "metadata": {
    "colab": {
     "base_uri": "https://localhost:8080/"
    },
    "id": "nsGR8mjuw4cX",
    "outputId": "3ed10f63-b609-45bf-b72a-260f84dc3ae5"
   },
   "outputs": [
    {
     "name": "stdout",
     "output_type": "stream",
     "text": [
      "4100000278\n"
     ]
    }
   ],
   "source": [
    "# 방법1\n",
    "\n",
    "import pandas as pd\n",
    "df = pd.read_csv(\"https://raw.githubusercontent.com/lovedlim/inf/refs/heads/main/p4/9_1/loan.csv\")\n",
    "\n",
    "# 1) 총대출액 컬럼 생성\n",
    "df['총대출액'] = df['신용대출'] + df['담보대출']\n",
    "\n",
    "# 2) 지역코드와 성별별로 총대출액 합계 계산\n",
    "grouped = df.groupby(['지역코드', '성별'])['총대출액'].sum().unstack()\n",
    "\n",
    "# 3) 성별 간 총대출액 차이가 가장 큰 지역코드 찾기 (절대값 사용)\n",
    "grouped['차이'] = abs(grouped[1] - grouped[2])\n",
    "result = grouped['차이'].idxmax()\n",
    "print(result)"
   ]
  },
  {
   "cell_type": "code",
   "execution_count": 58,
   "id": "96649b04-0b54-4e3f-80e0-cc05c9da55e4",
   "metadata": {
    "colab": {
     "base_uri": "https://localhost:8080/"
    },
    "id": "lkMVhO35w4eu",
    "outputId": "4728dc65-46ae-4fba-e49e-8a0e211a45ca"
   },
   "outputs": [
    {
     "name": "stdout",
     "output_type": "stream",
     "text": [
      "4100000278\n"
     ]
    }
   ],
   "source": [
    "# 방법2\n",
    "\n",
    "import pandas as pd\n",
    "df = pd.read_csv(\"https://raw.githubusercontent.com/lovedlim/inf/refs/heads/main/p4/9_1/loan.csv\")\n",
    "\n",
    "# 1) 총대출액 컬럼 생성\n",
    "df['총대출액'] = df['신용대출'] + df['담보대출']\n",
    "\n",
    "# 2) 지역코드와 성별별로 총대출액 합계 계산\n",
    "grouped = df.pivot_table(index='지역코드', columns='성별', values='총대출액', aggfunc='sum')\n",
    "# print(grouped)\n",
    "\n",
    "# 3) 성별 간 총대출액 차이가 가장 큰 지역코드 찾기 (절대값 사용)\n",
    "grouped['차이'] = abs(grouped[1] - grouped[2])\n",
    "result = grouped['차이'].idxmax()\n",
    "print(result)"
   ]
  },
  {
   "cell_type": "markdown",
   "id": "e65af1b9-d3e4-4c19-b9ec-dd2eaca709f6",
   "metadata": {
    "id": "q7YlGYNTxb22"
   },
   "source": [
    "## 문제2"
   ]
  },
  {
   "cell_type": "markdown",
   "id": "8c34671e-de8f-49a9-ae50-c738e95add24",
   "metadata": {
    "id": "E-skBO1_xgLj"
   },
   "source": [
    "1. 검거율은 검거건수 / 발생건수이다.\n",
    "2. 각 연도에서 가장 높은 검거율을 기록한 범죄유형을 찾으시오.\n",
    "3. 해당 범죄유형의 검거건수를 구한 후, 이 값들을 모두 합산하시오. (정수로 구하시오)"
   ]
  },
  {
   "cell_type": "code",
   "execution_count": 108,
   "id": "8a3428ff-be2d-4c0c-8ab9-fec6147f45a2",
   "metadata": {},
   "outputs": [
    {
     "name": "stdout",
     "output_type": "stream",
     "text": [
      "7799\n"
     ]
    }
   ],
   "source": [
    "# 방법1 \n",
    "\n",
    "import pandas as pd\n",
    "df = pd.read_csv(\"https://raw.githubusercontent.com/lovedlim/inf/refs/heads/main/p4/9_1/crime.csv\")\n",
    "# print(df)\n",
    "\n",
    "# 1) \"발생건수\"와 \"검거건수\"를 따로 분리\n",
    "cond1 = df['구분'] == '검거건수'\n",
    "df1 = df[cond1].iloc[:, 2:].reset_index(drop=True)\n",
    "# print(df1)\n",
    "# print(df1.shape)\n",
    "\n",
    "cond2 = df['구분'] == '발생건수'\n",
    "df2 = df[cond2].iloc[:, 2:].reset_index(drop=True)\n",
    "# print(df2)\n",
    "# print(df2.shape)\n",
    "\n",
    "# 2) 검거율 계산 (검거건수 / 발생건수)\n",
    "# index가 매칭되어야 df끼리 계산이 가능함.\n",
    "df3 = df1 / df2\n",
    "# print(df3)\n",
    "\n",
    "# 3) 각 연도에서 검거율이 가장 높은 범죄유형 찾기\n",
    "listbox = df3.idxmax(axis=1)\n",
    "# print(listbox)\n",
    "\n",
    "# 4) 가장 높은 검거율을 기록한 범죄유형의 검거건수 가져오기\n",
    "result = 0\n",
    "for index, item in enumerate(listbox):\n",
    "    result += df1.loc[index, item]\n",
    "\n",
    "print(result)"
   ]
  },
  {
   "cell_type": "code",
   "execution_count": 144,
   "id": "423b8d17-3d41-4b65-9685-144add2b5269",
   "metadata": {},
   "outputs": [
    {
     "name": "stdout",
     "output_type": "stream",
     "text": [
      "df =============\n",
      "      연도    구분  강력범죄  절도범죄  폭력범죄  지능범죄  풍속범죄  특별경제범죄  마약범죄  보건범죄  환경범죄  교통범죄  \\\n",
      "0   2014  발생건수   800   900   750   650   700    1034   600   850   800   900   \n",
      "1   2014  검거건수   500   600   400   450   400     961   350   500   450   550   \n",
      "2   2015  발생건수   900   768   800   750   700    1000   850   800   900   950   \n",
      "3   2015  검거건수   600   713   500   550   400     600   500   450   550   600   \n",
      "4   2016  발생건수   850   800   880   750   700     950   900   800   850   900   \n",
      "5   2016  검거건수   500   600   812   550   400     600   500   450   500   550   \n",
      "6   2017  발생건수  1000   900   850   800   750     950  1400   900  1000   950   \n",
      "7   2017  검거건수   600   500   500   550   400     600  1300   500   550   600   \n",
      "8   2018  발생건수  1450   900   850   800   750     950   900   800   850   900   \n",
      "9   2018  검거건수  1350   600   500   550   400     600   500   450   500   550   \n",
      "10  2019  발생건수  1000   900   850   800   750     950   900  1400  1000   950   \n",
      "11  2019  검거건수   600   500   500   550   400     600   500  1300   550   600   \n",
      "12  2020  발생건수  1000   900   850  1500   750     950   900   800   850   900   \n",
      "13  2020  검거건수   600   500   500  1363   400     600   500   450   500   550   \n",
      "\n",
      "    노동범죄  선거범죄  병역범죄  기타범죄  \n",
      "0    750   800   700  1000  \n",
      "1    400   450   400   600  \n",
      "2    800   850   750  1000  \n",
      "3    450   500   400   600  \n",
      "4    750   800   700   950  \n",
      "5    400   450   400   600  \n",
      "6    800   850   750   900  \n",
      "7    450   500   400   500  \n",
      "8    750   800   700   950  \n",
      "9    400   450   400   600  \n",
      "10   800   850   750   900  \n",
      "11   450   500   400   500  \n",
      "12   750   800   700   950  \n",
      "13   400   450   400   600  \n",
      "df_long =============\n",
      "       연도    구분  범죄유형   건수\n",
      "0    2014  발생건수  강력범죄  800\n",
      "1    2014  검거건수  강력범죄  500\n",
      "2    2015  발생건수  강력범죄  900\n",
      "3    2015  검거건수  강력범죄  600\n",
      "4    2016  발생건수  강력범죄  850\n",
      "..    ...   ...   ...  ...\n",
      "191  2018  검거건수  기타범죄  600\n",
      "192  2019  발생건수  기타범죄  900\n",
      "193  2019  검거건수  기타범죄  500\n",
      "194  2020  발생건수  기타범죄  950\n",
      "195  2020  검거건수  기타범죄  600\n",
      "\n",
      "[196 rows x 4 columns]\n",
      "df_pivot =============\n",
      "구분    연도    범죄유형    검거건수    발생건수       검거율\n",
      "0   2014    강력범죄   500.0   800.0  0.625000\n",
      "1   2014    교통범죄   550.0   900.0  0.611111\n",
      "2   2014    기타범죄   600.0  1000.0  0.600000\n",
      "3   2014    노동범죄   400.0   750.0  0.533333\n",
      "4   2014    마약범죄   350.0   600.0  0.583333\n",
      "..   ...     ...     ...     ...       ...\n",
      "93  2020    지능범죄  1363.0  1500.0  0.908667\n",
      "94  2020  특별경제범죄   600.0   950.0  0.631579\n",
      "95  2020    폭력범죄   500.0   850.0  0.588235\n",
      "96  2020    풍속범죄   400.0   750.0  0.533333\n",
      "97  2020    환경범죄   500.0   850.0  0.588235\n",
      "\n",
      "[98 rows x 5 columns]\n",
      "구분    연도    범죄유형    검거건수    발생건수       검거율\n",
      "10  2014  특별경제범죄   961.0  1034.0  0.929400\n",
      "22  2015    절도범죄   713.0   768.0  0.928385\n",
      "39  2016    폭력범죄   812.0   880.0  0.922727\n",
      "46  2017    마약범죄  1300.0  1400.0  0.928571\n",
      "56  2018    강력범죄  1350.0  1450.0  0.931034\n",
      "76  2019    보건범죄  1300.0  1400.0  0.928571\n",
      "93  2020    지능범죄  1363.0  1500.0  0.908667\n",
      "7799.0\n"
     ]
    }
   ],
   "source": [
    "# 방법2\n",
    "\n",
    "import pandas as pd\n",
    "df = pd.read_csv(\"https://raw.githubusercontent.com/lovedlim/inf/refs/heads/main/p4/9_1/crime.csv\")\n",
    "print('df =============')\n",
    "print(df)\n",
    "\n",
    "# 1. 데이터를 길게 변환\n",
    "df_long = pd.melt(df, id_vars=['연도', '구분'], var_name='범죄유형', value_name='건수')\n",
    "print('df_long =============')\n",
    "print(df_long)\n",
    "\n",
    "# 2. 피벗(pivot)하여 발생건수와 검거건수를 한 행에 모으기\n",
    "df_pivot = df_long.pivot_table(index=['연도', '범죄유형'], columns='구분', values='건수').reset_index()\n",
    "\n",
    "# 3. 검거율 계산\n",
    "df_pivot['검거율'] = df_pivot['검거건수'] / df_pivot['발생건수']\n",
    "print('df_pivot =============')\n",
    "print(df_pivot)\n",
    "\n",
    "# 4. 각 연도별로 검거율이 가장 높은 범죄유형 찾기\n",
    "listbox = df_pivot.groupby(['연도'])['검거율'].idxmax()\n",
    "max_crime_df = df_pivot.loc[listbox]\n",
    "print(max_crime_df)\n",
    "\n",
    "# 5. 각 연도별 최고 검거율 범죄유형의 검거건수를 모두 합산하기\n",
    "# result = 0\n",
    "# for index in listbox:\n",
    "#     result += df_pivot.loc[index, '검거건수']\n",
    "# print(result)\n",
    "\n",
    "result = max_crime_df['검거건수'].sum()\n",
    "print(result)"
   ]
  },
  {
   "cell_type": "markdown",
   "id": "b39b6f48-2293-4a26-9f0e-c4171da22e48",
   "metadata": {
    "id": "vv2iIOMBxvnq"
   },
   "source": [
    "## 문제3"
   ]
  },
  {
   "cell_type": "markdown",
   "id": "bad2ec93-40c6-4323-af7e-09e0d3f3fd05",
   "metadata": {
    "id": "rQhkYURKxxAB"
   },
   "source": [
    "1. 만족도의 결측치는 만족도의 평균값으로 대체한다.\n",
    "2. 근속연수의 결측치는 동일한 부서 및 성과등급에 해당하는 직원들의 평균 근속연수로 대체한다. (이때, 평균 근속연수는 소수점 이하를 절사하여 정수로 변환하여 사용)\n",
    "3. 각 직원의 '연봉 / 근속연수' 값을 계산하여, 그 값이 세 번째로 큰 직원의 근속연수를 구하시오.\n",
    "4. 각 직원의 '연봉 / 만족도' 값을 계산하여, 그 값이 두 번째로 큰 직원의 교육참가횟수를 구하시오.\n",
    "5. (3)과 (4)의 값을 더한 결과를 구하시오. (정수로 구하시오)"
   ]
  },
  {
   "cell_type": "code",
   "execution_count": 169,
   "id": "c3a3ad17-dff0-41e2-84a7-6b7bb57568cf",
   "metadata": {},
   "outputs": [
    {
     "name": "stdout",
     "output_type": "stream",
     "text": [
      "df ============\n",
      "      사원번호         부서 성과등급         연봉  근속연수  교육참가횟수  만족도\n",
      "0    E0001  Marketing    B   73200000  14.0       5  6.0\n",
      "1    E0002         IR    A   95100000   3.0       4  9.0\n",
      "2    E0003    Manager    B   44700000   5.0       2  8.0\n",
      "3    E0004         IR    B  122100000  16.0       3  8.0\n",
      "4    E0005         IR    C   66000000   NaN       4  8.0\n",
      "..     ...        ...  ...        ...   ...     ...  ...\n",
      "995  E0996    Finance    B   90400000  15.0       3  2.0\n",
      "996  E0997         IR    C  147600000  12.0       5  5.0\n",
      "997  E0998      Sales    C   95600000   4.0       4  9.0\n",
      "998  E0999      Sales    C   94400000   8.0       6  1.0\n",
      "999  E1000         IR    A   92400000   9.0       2  5.0\n",
      "\n",
      "[1000 rows x 7 columns]\n",
      "gm ============\n",
      "0      11\n",
      "1      11\n",
      "2      10\n",
      "3      10\n",
      "4      10\n",
      "       ..\n",
      "995    10\n",
      "996    10\n",
      "997    11\n",
      "998    11\n",
      "999    11\n",
      "Name: 근속연수, Length: 1000, dtype: int64\n",
      "df_year ============\n",
      "      사원번호       부서 성과등급         연봉  근속연수  교육참가횟수       만족도      연봉_근속연수\n",
      "357  E0358  Finance    B  148100000   1.0       5  8.000000  148100000.0\n",
      "386  E0387       HR    A  145400000   1.0       1  9.000000  145400000.0\n",
      "801  E0802       IR    A  144900000   1.0       5  5.017045  144900000.0\n",
      "1.0\n",
      "df_cnt ============\n",
      "      사원번호       부서 성과등급         연봉  근속연수  교육참가횟수  만족도       연봉_근속연수  \\\n",
      "490  E0491  Finance    B  149000000  13.0       6  1.0  1.146154e+07   \n",
      "737  E0738       HR    A  146200000   9.0       6  1.0  1.624444e+07   \n",
      "\n",
      "          연봉_만족도  \n",
      "490  149000000.0  \n",
      "737  146200000.0  \n",
      "6\n",
      "정답: 7\n"
     ]
    }
   ],
   "source": [
    "# 방법1\n",
    "\n",
    "import pandas as pd\n",
    "df = pd.read_csv(\"https://raw.githubusercontent.com/lovedlim/inf/refs/heads/main/p4/9_1/hr.csv\")\n",
    "print('df ============')\n",
    "print(df)\n",
    "\n",
    "# 1) 만족도 결측치 처리\n",
    "# print(df['만족도'].isna().sum())\n",
    "m = df['만족도'].mean()\n",
    "df['만족도'] = df['만족도'].fillna(m)\n",
    "# print(df['만족도'].isna().sum())\n",
    "\n",
    "# 2) 근속연수 결측치 처리 (부서와 성과등급 기준 평균값으로 채움)\n",
    "# print(df['근속연수'].isna().sum())\n",
    "gm = df.groupby(['부서', '성과등급'])['근속연수'].transform('mean')\n",
    "gm = gm.astype(int)\n",
    "print('gm ============')\n",
    "print(gm)\n",
    "df['근속연수'] = df['근속연수'].fillna(gm)\n",
    "# print(df['근속연수'].isna().sum())\n",
    "# print(df)\n",
    "\n",
    "# 3) 연봉 / 근속연수 계산 후 세 번째로 높은 사람의 근속연수 (A)\n",
    "df['연봉_근속연수'] = df['연봉'] / df['근속연수']\n",
    "df_year = df.nlargest(3, '연봉_근속연수')\n",
    "A = df_year.iloc[-1]['근속연수']\n",
    "print('df_year ============')\n",
    "print(df_year)\n",
    "print(A)\n",
    "\n",
    "# 4) 연봉 / 만족도 계산 후 두 번째로 높은 사람의 교육참가횟수 (B)\n",
    "# print(df)\n",
    "df['연봉_만족도'] = df['연봉'] / df['만족도']\n",
    "df_cnt = df.nlargest(2, '연봉_만족도')\n",
    "B = df_cnt.iloc[-1]['교육참가횟수']\n",
    "print('df_cnt ============')\n",
    "print(df_cnt)\n",
    "print(B)\n",
    "\n",
    "# 5) 결과 출력\n",
    "print('정답:', int(A+B))"
   ]
  },
  {
   "cell_type": "code",
   "execution_count": null,
   "id": "f4a05bac-fe2e-45dc-9dcc-1a7ff6dd7a3c",
   "metadata": {
    "colab": {
     "base_uri": "https://localhost:8080/"
    },
    "id": "H4xPsYBIxrsY",
    "outputId": "dc9eeca0-aa0a-482f-adb0-44a9496dfe4b"
   },
   "outputs": [
    {
     "name": "stdout",
     "output_type": "stream",
     "text": [
      "7.0\n"
     ]
    }
   ],
   "source": [
    "# 방법2\n",
    "import pandas as pd\n",
    "df = pd.read_csv(\"https://raw.githubusercontent.com/lovedlim/inf/refs/heads/main/p4/9_1/hr.csv\")\n",
    "\n",
    "# 1) 만족도 결측치 처리\n",
    "# print(df['만족도'].isnull().sum())\n",
    "m = df['만족도'].mean()\n",
    "df['만족도'] = df['만족도'].fillna(m)\n",
    "# print(df['만족도'].isnull().sum())\n",
    "\n",
    "# 2) 근속연수 결측치 처리 (부서와 성과등급 기준 평균값으로 채움)\n",
    "# print(df['근속연수'].isnull().sum())\n",
    "gm = df.groupby(['부서', '성과등급'])['근속연수'].transform('mean')\n",
    "gm = gm.astype(int)\n",
    "df['근속연수'] = df['근속연수'].fillna(gm)\n",
    "# print(df['근속연수'].isnull().sum())\n",
    "\n",
    "# 3) 연봉 / 근속연수 계산 후 세 번째로 높은 사람의 근속연수 (A)\n",
    "df['연봉_근속연수'] = df['연봉'] / df['근속연수']\n",
    "df_year = df.sort_values('연봉_근속연수', ascending=False)\n",
    "A = df_year.iloc[2]['근속연수']\n",
    "\n",
    "# 4) 연봉 / 만족도 계산 후 두 번째로 높은 사람의 교육참가횟수 (B)\n",
    "df['연봉_만족도'] = df['연봉'] / df['만족도']\n",
    "df_like = df.sort_values('연봉_만족도', ascending=False)\n",
    "B = df_like.iloc[1]['교육참가횟수']\n",
    "\n",
    "# 5) 결과 출력\n",
    "result = A + B\n",
    "print(result)"
   ]
  },
  {
   "cell_type": "markdown",
   "id": "00f1fe15-9047-440f-9a68-fabc8e5626c7",
   "metadata": {
    "id": "j9jYUsDdNwKF"
   },
   "source": [
    "# 기출 8회_작업형1"
   ]
  },
  {
   "cell_type": "markdown",
   "id": "eb29d8ac-420d-4f30-bf2a-217351861890",
   "metadata": {
    "id": "YAyh1xITWurF"
   },
   "source": [
    "## 문제1\n",
    "1. 대륙('continent')별 맥주 소비량(‘beer_servings’)의 평균을 계산하고, 평균이 가장\n",
    " 큰 대륙을 찾으시오.\n",
    "2. 1번에서 찾은 대륙에서 맥주 소비량이 5번째로 많은 국가(‘country’)의 맥주 소비량을 구하시오."
   ]
  },
  {
   "cell_type": "code",
   "execution_count": 31,
   "id": "17c530ea-06fc-4b3d-ad2d-96968355285e",
   "metadata": {},
   "outputs": [
    {
     "name": "stdout",
     "output_type": "stream",
     "text": [
      "313\n"
     ]
    }
   ],
   "source": [
    "# My)\n",
    "\n",
    "import pandas as pd\n",
    "df = pd.read_csv(\"https://raw.githubusercontent.com/lovedlim/inf/refs/heads/main/p4/8_1/drinks.csv\")\n",
    "# print(df)\n",
    "\n",
    "grouped = df.groupby(['continent'])['beer_servings'].mean()\n",
    "max_continent = grouped.idxmax()\n",
    "\n",
    "cond = df['continent'] == max_continent\n",
    "df1 = df[cond].groupby(['country'])['beer_servings'].sum()\n",
    "print(df1.nlargest(5).iloc[-1])"
   ]
  },
  {
   "cell_type": "code",
   "execution_count": null,
   "id": "b82b54ef-3233-4789-9b45-045bf576cec0",
   "metadata": {
    "colab": {
     "base_uri": "https://localhost:8080/"
    },
    "id": "cKnyz8hjYNp0",
    "outputId": "0eb9da7b-730e-43ee-b8f3-4c0fde8b3f9d"
   },
   "outputs": [
    {
     "data": {
      "text/plain": [
       "313"
      ]
     },
     "execution_count": 1,
     "metadata": {},
     "output_type": "execute_result"
    }
   ],
   "source": [
    "import pandas as pd\n",
    "df = pd.read_csv(\"https://raw.githubusercontent.com/lovedlim/inf/refs/heads/main/p4/8_1/drinks.csv\")\n",
    "df\n",
    "# 1) 대륙별 맥주 소비량의 평균\n",
    "continent = df.groupby('continent')['beer_servings'].mean() #Europe\n",
    "top_continent = continent.idxmax()\n",
    "\n",
    "# 2) 국가별 맥주 소비량\n",
    "cond = df['continent'] == top_continent\n",
    "df = df[cond]\n",
    "df = df.sort_values('beer_servings', ascending=False)\n",
    "df.iloc[4, 1] #df.iloc[4]['beer_servings']"
   ]
  },
  {
   "cell_type": "markdown",
   "id": "65692a91-2ec5-41af-8a89-ef7158158e7e",
   "metadata": {
    "id": "HPyFlnMZWwFs"
   },
   "source": [
    "## 문제2\n",
    "1. ‘관광객비율’이 두 번째로 높은 국가의 ‘사업’ 방문객 수를 a라고 정의하시오.\n",
    "2. ‘관광’이 두 번째로 높은 국가의 ‘공무’ 방문객 수를 b라고 정의하시오.\n",
    "3. a와 b의 합을 구하시오.\n",
    "- 방문객 합계 = 관광 + 공무 + 사업 + 기타\n",
    "- 관광객 비율 = 관광 / 방문객 합계"
   ]
  },
  {
   "cell_type": "code",
   "execution_count": 39,
   "id": "449dc591-c4e5-4d36-a45c-1c517fbbda07",
   "metadata": {},
   "outputs": [
    {
     "name": "stdout",
     "output_type": "stream",
     "text": [
      "441\n"
     ]
    }
   ],
   "source": [
    "# My) \n",
    "\n",
    "import pandas as pd\n",
    "df = pd.read_csv(\"https://raw.githubusercontent.com/lovedlim/inf/refs/heads/main/p4/8_1/tourist.csv\")\n",
    "\n",
    "df['방문객_합계'] = df['관광']+df['공무']+df['사업']+df['기타']\n",
    "df['관광객_비율'] = df['관광']/df['방문객_합계']\n",
    "A = df.nlargest(2, '관광객_비율').iloc[-1, 3]\n",
    "# print(A)\n",
    "\n",
    "B = df.nlargest(2, '관광').iloc[-1, 2]\n",
    "# print(B)\n",
    "\n",
    "print(A+B)"
   ]
  },
  {
   "cell_type": "code",
   "execution_count": null,
   "id": "819834c8-ec05-4ab9-b765-2f82314d218e",
   "metadata": {
    "colab": {
     "base_uri": "https://localhost:8080/"
    },
    "id": "EnVLX3BqKyIZ",
    "outputId": "1080c9df-66e3-4f8b-c874-25750f766c0b"
   },
   "outputs": [
    {
     "name": "stdout",
     "output_type": "stream",
     "text": [
      "441\n"
     ]
    }
   ],
   "source": [
    "# 방법1\n",
    "import pandas as pd\n",
    "df = pd.read_csv(\"https://raw.githubusercontent.com/lovedlim/inf/refs/heads/main/p4/8_1/tourist.csv\")\n",
    "\n",
    "# 1) 방문객 합계 및 관광객 비율 계산\n",
    "df['방문객합계'] = df['관광'] + df['공무'] + df['사업'] + df['기타']\n",
    "df['관광객비율'] = df['관광'] / df['방문객합계']\n",
    "\n",
    "# 2) 조건에 맞는 값 찾기\n",
    "a = df.sort_values('관광객비율', ascending=False).iloc[1, 3] #203\n",
    "b = df.sort_values('관광', ascending=False).iloc[1, 2] #238\n",
    "print(a+b)"
   ]
  },
  {
   "cell_type": "code",
   "execution_count": null,
   "id": "8986de4a-9bee-4224-b4de-4f1ac469ae77",
   "metadata": {
    "colab": {
     "base_uri": "https://localhost:8080/"
    },
    "id": "8Y0L2dJXYllX",
    "outputId": "f471d41f-6ffc-40e0-ffb1-b227563bd0e4"
   },
   "outputs": [
    {
     "name": "stdout",
     "output_type": "stream",
     "text": [
      "441\n"
     ]
    }
   ],
   "source": [
    "# 방법2\n",
    "import pandas as pd\n",
    "df = pd.read_csv(\"https://raw.githubusercontent.com/lovedlim/inf/refs/heads/main/p4/8_1/tourist.csv\")\n",
    "\n",
    "# 1) 방문객 합계 및 관광객 비율 계산\n",
    "df['방문객합계'] = df['관광'] + df['공무'] + df['사업'] + df['기타']\n",
    "df['관광객비율'] = df['관광'] / df['방문객합계']\n",
    "\n",
    "# 2) 조건에 맞는 값 찾기\n",
    "a = df.nlargest(2, '관광객비율').iloc[1]['사업']\n",
    "b = df.nlargest(2, '관광').iloc[1]['공무']\n",
    "\n",
    "print(a+b)"
   ]
  },
  {
   "cell_type": "markdown",
   "id": "11707294-ba52-4b5d-9d22-4475732ccb4d",
   "metadata": {
    "id": "GE7Ggj0KZMOx"
   },
   "source": [
    "## 문제3\n",
    "1. 주어진 데이터에서 ‘co’와 ‘nmhc’ 컬럼을 각각 Min-Max 스케일링하시오.\n",
    "2. 스케일링된 ‘co’, ‘nmhc’ 컬럼의 표준편차를 각각 구하시오.\n",
    "3. ‘co’ 컬럼의 표준편차에서 ‘nmhc’ 컬럼의 표준편차를 뺀 값을 소수점 3자리로 반올림하여 구하시오.\n",
    "- Min-Max 스케일링 = (X - min_X) / (max_X - min_X)\n",
    "- X 변수의 최솟값: min_X\n",
    "- X 변수의 최댓값: max_X"
   ]
  },
  {
   "cell_type": "code",
   "execution_count": 45,
   "id": "6f9369ee-bb37-442e-8ab0-8d02efecfa71",
   "metadata": {},
   "outputs": [
    {
     "name": "stdout",
     "output_type": "stream",
     "text": [
      "-0.017\n"
     ]
    }
   ],
   "source": [
    "# My1)\n",
    "\n",
    "import pandas as pd\n",
    "df = pd.read_csv(\"https://raw.githubusercontent.com/lovedlim/inf/refs/heads/main/p4/8_1/chem.csv\")\n",
    "\n",
    "df['co'] = (df['co'] - df['co'].min())/(df['co'].max()-df['co'].min())\n",
    "df['nmhc'] = (df['nmhc'] - df['nmhc'].min())/(df['nmhc'].max()-df['nmhc'].min())\n",
    "std1 = df['co'].std()\n",
    "std2 = df['nmhc'].std()\n",
    "print(round(std1-std2, 3))"
   ]
  },
  {
   "cell_type": "code",
   "execution_count": 49,
   "id": "57a3c3eb-7716-4ab4-9433-840f27ef222d",
   "metadata": {},
   "outputs": [
    {
     "name": "stdout",
     "output_type": "stream",
     "text": [
      "   sample   co  nmhc  etc  co_scaled  nmhc_scaled\n",
      "0     샘플1   79    54   31   0.680851     0.500000\n",
      "1     샘플2   84    57   58   0.734043     0.534091\n",
      "2     샘플3  109    74  113   1.000000     0.727273\n",
      "3     샘플4   15    77   21   0.000000     0.761364\n",
      "4     샘플5   65    77  115   0.531915     0.761364\n",
      "..    ...  ...   ...  ...        ...          ...\n",
      "95   샘플96   56    58   86   0.436170     0.545455\n",
      "96   샘플97   33    59  111   0.191489     0.556818\n",
      "97   샘플98   55    79  105   0.425532     0.784091\n",
      "98   샘플99   69    51   59   0.574468     0.465909\n",
      "99  샘플100   94    45   59   0.840426     0.397727\n",
      "\n",
      "[100 rows x 6 columns]\n",
      "-0.017\n"
     ]
    }
   ],
   "source": [
    "# My2) Scaler\n",
    "\n",
    "import pandas as pd\n",
    "df = pd.read_csv(\"https://raw.githubusercontent.com/lovedlim/inf/refs/heads/main/p4/8_1/chem.csv\")\n",
    "\n",
    "from sklearn.preprocessing import MinMaxScaler\n",
    "\n",
    "# 1) Min-Max 스케일링 (데이터프레임으로 만들기)\n",
    "scaler = MinMaxScaler()\n",
    "df['co_scaled'] = scaler.fit_transform(df[['co']])\n",
    "df['nmhc_scaled'] = scaler.fit_transform(df[['nmhc']])\n",
    "print(df)\n",
    "\n",
    "# 2) 표준편차 계산 (판다스 표준편차)\n",
    "co_std = df['co_scaled'].std()\n",
    "nmhc_std = df['nmhc_scaled'].std()\n",
    "\n",
    "# 3) 표준편차 차이 계산 및 반올림\n",
    "print(round(co_std-nmhc_std, 3))"
   ]
  },
  {
   "cell_type": "code",
   "execution_count": null,
   "id": "09afc92e-9ebb-4713-93ea-490902581376",
   "metadata": {
    "colab": {
     "base_uri": "https://localhost:8080/"
    },
    "collapsed": true,
    "id": "YazPGRcxgrxp",
    "jupyter": {
     "outputs_hidden": true
    },
    "outputId": "f44c718a-2b85-4b9e-d18c-18e2e0c96773"
   },
   "outputs": [
    {
     "data": {
      "text/plain": [
       "-0.017"
      ]
     },
     "execution_count": 4,
     "metadata": {},
     "output_type": "execute_result"
    }
   ],
   "source": [
    "# 방법1\n",
    "import pandas as pd\n",
    "from sklearn.preprocessing import MinMaxScaler\n",
    "df = pd.read_csv(\"https://raw.githubusercontent.com/lovedlim/inf/refs/heads/main/p4/8_1/chem.csv\")\n",
    "\n",
    "# 1) Min-Max 스케일링 (데이터프레임으로 만들기)\n",
    "scaler = MinMaxScaler()\n",
    "df['co_scaled'] = scaler.fit_transform(df[['co']])\n",
    "df['nmhc_scaled'] = scaler.fit_transform(df[['nmhc']])\n",
    "df.head()\n",
    "\n",
    "# 2) 표준편차 계산 (판다스 표준편차)\n",
    "co_std = df['co_scaled'].std() #0.2856516497116944\n",
    "nmhc_std = df['nmhc_scaled'].std() #0.3030617020578397\n",
    "\n",
    "# 3) 표준편차 차이 계산 및 반올림\n",
    "round(co_std - nmhc_std, 3)"
   ]
  },
  {
   "cell_type": "code",
   "execution_count": null,
   "id": "41fea303-603a-4b92-b11c-06cabe28d31f",
   "metadata": {
    "colab": {
     "base_uri": "https://localhost:8080/"
    },
    "id": "ctWqLY_1aKn7",
    "outputId": "b1f4a969-5626-44c8-eafe-f0396e726e97"
   },
   "outputs": [
    {
     "data": {
      "text/plain": [
       "-0.017"
      ]
     },
     "execution_count": 6,
     "metadata": {},
     "output_type": "execute_result"
    }
   ],
   "source": [
    "# 방법2\n",
    "import pandas as pd\n",
    "from sklearn.preprocessing import MinMaxScaler\n",
    "df = pd.read_csv(\"https://raw.githubusercontent.com/lovedlim/inf/refs/heads/main/p4/8_1/chem.csv\")\n",
    "\n",
    "# 1) Min-Max 스케일링 (데이터프레임으로 만들기)\n",
    "scaler = MinMaxScaler()\n",
    "co_scaled = scaler.fit_transform(df[['co']])\n",
    "nmhc_scaled = scaler.fit_transform(df[['nmhc']])\n",
    "type(co_scaled)\n",
    "\n",
    "# 2) 표준편차 계산 (넘파이 표준편차)\n",
    "co_std = co_scaled.std()\n",
    "nmhc_std = nmhc_scaled.std()\n",
    "\n",
    "# 3) 표준편차 차이 계산 및 반올림\n",
    "round(co_std - nmhc_std, 3)"
   ]
  },
  {
   "cell_type": "markdown",
   "id": "f1843149-9925-4742-b8a6-61d48ad7de5a",
   "metadata": {
    "id": "ImS-bayEojdA"
   },
   "source": [
    "# 기출 7회_작업형1"
   ]
  },
  {
   "cell_type": "markdown",
   "id": "8b38940b-e27d-4825-8a33-f363f374ad84",
   "metadata": {
    "id": "JO-2zLFZsse1"
   },
   "source": [
    "## 문제1\n",
    "결측치가 있는 행을 제거한 후, 학생이 가장 많이 수강한 과목을 찾고, 해당 과목 점수를 표준화(스탠다스 스케일) 한 뒤에 표준화된 가장 큰 값을 구하시오. (반올림하여 소수 셋째자리까지 계산)"
   ]
  },
  {
   "cell_type": "code",
   "execution_count": 72,
   "id": "0c33b52f-7e6d-4166-9f19-eb813cb1a225",
   "metadata": {},
   "outputs": [
    {
     "name": "stdout",
     "output_type": "stream",
     "text": [
      "2.183\n"
     ]
    }
   ],
   "source": [
    "# My)\n",
    "\n",
    "import pandas as pd\n",
    "df = pd.read_csv(\"https://raw.githubusercontent.com/lovedlim/inf/refs/heads/main/p4/7_1/student_assessment.csv\")\n",
    "\n",
    "df = df.dropna()\n",
    "# print(df.info())\n",
    "\n",
    "grouped = df.groupby(['id_assessment'])['student_id'].count()\n",
    "top = grouped.idxmax()\n",
    "\n",
    "# print(grouped)\n",
    "cond = df['id_assessment'] == top\n",
    "df1 = df[cond].copy()\n",
    "# print(df1)\n",
    "\n",
    "from sklearn.preprocessing import StandardScaler\n",
    "scaler = StandardScaler()\n",
    "df1['score'] = scaler.fit_transform(df1[['score']])\n",
    "# print(df1)\n",
    "print(round(df1.nlargest(1, 'score').iloc[-1]['score'], 3))"
   ]
  },
  {
   "cell_type": "code",
   "execution_count": null,
   "id": "967e6303-a43d-49dd-a809-7e02ee355eb3",
   "metadata": {
    "colab": {
     "base_uri": "https://localhost:8080/"
    },
    "id": "QfWBB-yjCuX8",
    "outputId": "06f8c5c4-2520-48c8-9189-833eb978decb"
   },
   "outputs": [
    {
     "name": "stdout",
     "output_type": "stream",
     "text": [
      "결측치 수: 21\n",
      "(2565, 4)\n",
      "(2544, 4)\n",
      "2.183\n"
     ]
    }
   ],
   "source": [
    "import pandas as pd\n",
    "df = pd.read_csv(\"https://raw.githubusercontent.com/lovedlim/inf/refs/heads/main/p4/7_1/student_assessment.csv\")\n",
    "\n",
    "# 0) 데이터 확인\n",
    "print(\"결측치 수:\", df.isnull().sum().sum())\n",
    "\n",
    "# 1) 결측치 제거\n",
    "print(df.shape)\n",
    "df = df.dropna()\n",
    "print(df.shape)\n",
    "\n",
    "# 2) 가장 많이 수강한 과목 필터링\n",
    "id = df['id_assessment'].value_counts().idxmax()\n",
    "cond = df['id_assessment'] == id\n",
    "df = df[cond]\n",
    "\n",
    "# 3) 과목 점수 스탠다드 스케일\n",
    "from sklearn.preprocessing import StandardScaler\n",
    "scaler = StandardScaler()\n",
    "df['score'] = scaler.fit_transform(df[['score']])\n",
    "\n",
    "# 4) 가장 큰 값\n",
    "print(round(df['score'].max(), 3))"
   ]
  },
  {
   "cell_type": "markdown",
   "id": "78987da9-2408-436f-a357-0112e2215283",
   "metadata": {
    "id": "sHC4blpRswAJ"
   },
   "source": [
    "## 문제2\n",
    "DE1~DE77컬럼 중 주가지수의 종가 \"close\"와 가장 상관관계가 높은 변수를 찾아, 해당 변수의 평균값을 구하시오. (반올림하여 소수 넷째자리까지 계산)"
   ]
  },
  {
   "cell_type": "code",
   "execution_count": 85,
   "id": "083aa29e-e37a-48ab-afee-ca2f91fe5af4",
   "metadata": {},
   "outputs": [
    {
     "name": "stdout",
     "output_type": "stream",
     "text": [
      "-0.0004\n"
     ]
    }
   ],
   "source": [
    "# My)\n",
    "\n",
    "import pandas as pd\n",
    "df = pd.read_csv(\"https://raw.githubusercontent.com/lovedlim/inf/refs/heads/main/p4/7_1/stock_market.csv\")\n",
    "\n",
    "df_corr = df.corr()['close'].abs()\n",
    "col = df_corr.loc['DE1':'DE77'].idxmax()\n",
    "# print(col)\n",
    "print(round(df[col].mean(), 4))"
   ]
  },
  {
   "cell_type": "code",
   "execution_count": null,
   "id": "faf90028-94dd-45ef-9352-e202038ac912",
   "metadata": {
    "colab": {
     "base_uri": "https://localhost:8080/"
    },
    "id": "usqyPcI4J0eL",
    "outputId": "7f689b83-66bb-4c42-8228-07bed5483da2"
   },
   "outputs": [
    {
     "name": "stdout",
     "output_type": "stream",
     "text": [
      "-0.0004\n"
     ]
    }
   ],
   "source": [
    "import pandas as pd\n",
    "df = pd.read_csv(\"https://raw.githubusercontent.com/lovedlim/inf/refs/heads/main/p4/7_1/stock_market.csv\")\n",
    "\n",
    "# 1) close와의 상관관계(절대값)\n",
    "df_corr = df.corr()['close'].abs()\n",
    "\n",
    "# 2) 상관관계가 높은 변수명\n",
    "col = df_corr.loc['DE1':'DE77'].idxmax()\n",
    "\n",
    "# 3) '2'에서 구한 변수명의 평균값\n",
    "print(round(df[col].mean(), 4))"
   ]
  },
  {
   "cell_type": "markdown",
   "id": "14e6a8b8-239a-45a7-89d3-d362781b473d",
   "metadata": {
    "id": "E9QDz8l-sy4D"
   },
   "source": [
    "## 문제3\n",
    "IQR을 이용해 이산화탄소(CO2) 이상치 수를 찾으시오\n",
    "\n",
    "- Q1 (제 1사분위수): 하위 25% 값\n",
    "- Q3 (제 3사분위수): 상위 25% 값\n",
    "- IQR (사분위수 범위): IQR = Q3 - Q1\n",
    "\n",
    "- lower (하한선): Q1 - 1.5 * IQR, 이 값보다 작은 데이터는 이상치로 간주\n",
    "- upper (상한선): Q3 + 1.5 * IQR, 이 값보다 큰 데이터는 이상치로 간주\n",
    "\n"
   ]
  },
  {
   "cell_type": "code",
   "execution_count": 92,
   "id": "38d2135c-56d0-4bba-acc3-34e9d9379fc3",
   "metadata": {},
   "outputs": [
    {
     "name": "stdout",
     "output_type": "stream",
     "text": [
      "304\n"
     ]
    }
   ],
   "source": [
    "# My) \n",
    "\n",
    "import pandas as pd\n",
    "df = pd.read_csv(\"https://raw.githubusercontent.com/lovedlim/inf/refs/heads/main/p4/7_1/air_quality.csv\")\n",
    "\n",
    "# print(df)\n",
    "Q1 = df['CO2'].quantile(.25)\n",
    "Q3 = df['CO2'].quantile(.75)\n",
    "IQR = Q3 - Q1\n",
    "\n",
    "lower = Q1-1.5*IQR\n",
    "upper = Q3+1.5*IQR\n",
    "\n",
    "cond1 = df['CO2'] < lower\n",
    "cond2 = df['CO2'] > upper\n",
    "outliers = df[cond1 | cond2]\n",
    "\n",
    "# print(Q1, Q3, IQR)\n",
    "print(len(outliers))"
   ]
  },
  {
   "cell_type": "code",
   "execution_count": null,
   "id": "0d659695-7d8f-45a0-ba49-9f5954103c94",
   "metadata": {
    "colab": {
     "base_uri": "https://localhost:8080/"
    },
    "id": "LipHWwikUBL-",
    "outputId": "724736f9-7d61-434f-8fb0-904b654daeae"
   },
   "outputs": [
    {
     "name": "stdout",
     "output_type": "stream",
     "text": [
      "304\n"
     ]
    }
   ],
   "source": [
    "import pandas as pd\n",
    "df = pd.read_csv(\"https://raw.githubusercontent.com/lovedlim/inf/refs/heads/main/p4/7_1/air_quality.csv\")\n",
    "\n",
    "# 1) IQR 계산\n",
    "Q1 = df['CO2'].quantile(0.25)\n",
    "Q3 = df['CO2'].quantile(0.75)\n",
    "IQR = Q3 - Q1\n",
    "\n",
    "# 2) 상한 및 하한 계산\n",
    "upper = Q3 + 1.5 * IQR\n",
    "lower = Q1 - 1.5 * IQR\n",
    "\n",
    "# 3) 이상치 조건\n",
    "cond1 = df['CO2'] < lower\n",
    "cond2 = df['CO2'] > upper\n",
    "outliers = df[cond1 | cond2]\n",
    "\n",
    "# 4) 이상치 수 계산\n",
    "print(len(outliers))"
   ]
  },
  {
   "cell_type": "markdown",
   "id": "1b4c60a7-7c3d-40b1-8f44-cf96d7728713",
   "metadata": {},
   "source": [
    "# 기출 6회_작업형1"
   ]
  },
  {
   "cell_type": "markdown",
   "id": "dc9450ec-9765-4c52-942e-6944c5745c3f",
   "metadata": {},
   "source": [
    "## 문제 1"
   ]
  },
  {
   "cell_type": "markdown",
   "id": "02ba5e46-44ad-4291-843f-8be28f686904",
   "metadata": {
    "id": "C352FXmlMvvS"
   },
   "source": [
    "1. 주어진 데이터는 각 소방서의 출동/도착 시간데이터이다.\n",
    "출동시간과 도착시간 차이가 평균적으로 가장 오래 걸린 소방서의 시간을 분으로 변환해 출력하시오. (반올림 후 정수 출력)"
   ]
  },
  {
   "cell_type": "code",
   "execution_count": 43,
   "id": "d09fa7ee-ee83-4742-bc94-702a04c4e718",
   "metadata": {},
   "outputs": [
    {
     "name": "stdout",
     "output_type": "stream",
     "text": [
      "81\n"
     ]
    }
   ],
   "source": [
    "# My)\n",
    "\n",
    "import pandas as pd\n",
    "df = pd.read_csv(\"https://raw.githubusercontent.com/lovedlim/inf/refs/heads/main/p4/6_1/data6-1-1.csv\")\n",
    "\n",
    "# 1) datetime으로 변환\n",
    "df['출동시간'] = pd.to_datetime(df['출동시간'])\n",
    "df['도착시간'] = pd.to_datetime(df['도착시간'])\n",
    "# print(df.info())\n",
    "\n",
    "# 2) diff 구하기\n",
    "df['diff'] = df['도착시간'] - df['출동시간']\n",
    "df['diff'] = df['diff'].dt.total_seconds()/60\n",
    "\n",
    "g1 = df.groupby(['소방서'])['diff'].mean()\n",
    "print(round(g1.nlargest(1).iloc[0]))\n",
    "\n",
    "# print(g1)"
   ]
  },
  {
   "cell_type": "code",
   "execution_count": null,
   "id": "379a2913-7d85-43b4-9ee6-13618d01d813",
   "metadata": {
    "colab": {
     "base_uri": "https://localhost:8080/"
    },
    "id": "RQxHv60-fRlK",
    "outputId": "3f3a2bfd-4fd9-4683-c727-aaa05c446345"
   },
   "outputs": [
    {
     "name": "stdout",
     "output_type": "stream",
     "text": [
      "<class 'pandas.core.frame.DataFrame'>\n",
      "RangeIndex: 100 entries, 0 to 99\n",
      "Data columns (total 3 columns):\n",
      " #   Column  Non-Null Count  Dtype         \n",
      "---  ------  --------------  -----         \n",
      " 0   소방서     100 non-null    object        \n",
      " 1   출동시간    100 non-null    datetime64[ns]\n",
      " 2   도착시간    100 non-null    datetime64[ns]\n",
      "dtypes: datetime64[ns](2), object(1)\n",
      "memory usage: 2.5+ KB\n"
     ]
    }
   ],
   "source": [
    "# 1. datetime\n",
    "df['출동시간'] = pd.to_datetime(df['출동시간'])\n",
    "df['도착시간'] = pd.to_datetime(df['도착시간'])\n",
    "df.info()"
   ]
  },
  {
   "cell_type": "code",
   "execution_count": null,
   "id": "aa74eb94-06eb-44d3-aa57-7bfbcbe3a9c0",
   "metadata": {
    "colab": {
     "base_uri": "https://localhost:8080/",
     "height": 112
    },
    "id": "MXLPaq9cfRn5",
    "outputId": "3c663703-7598-47f4-83d4-3ad7d27b3c02"
   },
   "outputs": [
    {
     "data": {
      "application/vnd.google.colaboratory.intrinsic+json": {
       "summary": "{\n  \"name\": \"df\",\n  \"rows\": 100,\n  \"fields\": [\n    {\n      \"column\": \"\\uc18c\\ubc29\\uc11c\",\n      \"properties\": {\n        \"dtype\": \"category\",\n        \"num_unique_values\": 10,\n        \"samples\": [\n          \"\\uc18c\\ubc29\\uc11c2\",\n          \"\\uc18c\\ubc29\\uc11c5\",\n          \"\\uc18c\\ubc29\\uc11c8\"\n        ],\n        \"semantic_type\": \"\",\n        \"description\": \"\"\n      }\n    },\n    {\n      \"column\": \"\\ucd9c\\ub3d9\\uc2dc\\uac04\",\n      \"properties\": {\n        \"dtype\": \"date\",\n        \"min\": \"2023-09-10 06:11:44\",\n        \"max\": \"2023-09-20 06:12:34\",\n        \"num_unique_values\": 91,\n        \"samples\": [\n          \"2023-09-14 06:12:07\",\n          \"2023-09-17 06:12:09\",\n          \"2023-09-11 06:11:56\"\n        ],\n        \"semantic_type\": \"\",\n        \"description\": \"\"\n      }\n    },\n    {\n      \"column\": \"\\ub3c4\\ucc29\\uc2dc\\uac04\",\n      \"properties\": {\n        \"dtype\": \"date\",\n        \"min\": \"2023-09-10 06:15:08\",\n        \"max\": \"2023-09-20 07:49:21\",\n        \"num_unique_values\": 100,\n        \"samples\": [\n          \"2023-09-17 07:20:21\",\n          \"2023-09-12 08:12:22\",\n          \"2023-09-13 07:26:59\"\n        ],\n        \"semantic_type\": \"\",\n        \"description\": \"\"\n      }\n    },\n    {\n      \"column\": \"diff\",\n      \"properties\": {\n        \"dtype\": \"number\",\n        \"std\": 35.076463602387385,\n        \"min\": 1.3333333333333333,\n        \"max\": 119.93333333333334,\n        \"num_unique_values\": 99,\n        \"samples\": [\n          65.26666666666667,\n          81.16666666666667,\n          29.433333333333334\n        ],\n        \"semantic_type\": \"\",\n        \"description\": \"\"\n      }\n    }\n  ]\n}",
       "type": "dataframe",
       "variable_name": "df"
      },
      "text/html": [
       "\n",
       "  <div id=\"df-f5fa7a14-87f7-4a0b-9893-44474e98f392\" class=\"colab-df-container\">\n",
       "    <div>\n",
       "<style scoped>\n",
       "    .dataframe tbody tr th:only-of-type {\n",
       "        vertical-align: middle;\n",
       "    }\n",
       "\n",
       "    .dataframe tbody tr th {\n",
       "        vertical-align: top;\n",
       "    }\n",
       "\n",
       "    .dataframe thead th {\n",
       "        text-align: right;\n",
       "    }\n",
       "</style>\n",
       "<table border=\"1\" class=\"dataframe\">\n",
       "  <thead>\n",
       "    <tr style=\"text-align: right;\">\n",
       "      <th></th>\n",
       "      <th>소방서</th>\n",
       "      <th>출동시간</th>\n",
       "      <th>도착시간</th>\n",
       "      <th>diff</th>\n",
       "    </tr>\n",
       "  </thead>\n",
       "  <tbody>\n",
       "    <tr>\n",
       "      <th>0</th>\n",
       "      <td>소방서1</td>\n",
       "      <td>2023-09-16 06:12:29</td>\n",
       "      <td>2023-09-16 07:51:55</td>\n",
       "      <td>99.433333</td>\n",
       "    </tr>\n",
       "    <tr>\n",
       "      <th>1</th>\n",
       "      <td>소방서5</td>\n",
       "      <td>2023-09-19 06:11:41</td>\n",
       "      <td>2023-09-19 08:08:36</td>\n",
       "      <td>116.916667</td>\n",
       "    </tr>\n",
       "  </tbody>\n",
       "</table>\n",
       "</div>\n",
       "    <div class=\"colab-df-buttons\">\n",
       "\n",
       "  <div class=\"colab-df-container\">\n",
       "    <button class=\"colab-df-convert\" onclick=\"convertToInteractive('df-f5fa7a14-87f7-4a0b-9893-44474e98f392')\"\n",
       "            title=\"Convert this dataframe to an interactive table.\"\n",
       "            style=\"display:none;\">\n",
       "\n",
       "  <svg xmlns=\"http://www.w3.org/2000/svg\" height=\"24px\" viewBox=\"0 -960 960 960\">\n",
       "    <path d=\"M120-120v-720h720v720H120Zm60-500h600v-160H180v160Zm220 220h160v-160H400v160Zm0 220h160v-160H400v160ZM180-400h160v-160H180v160Zm440 0h160v-160H620v160ZM180-180h160v-160H180v160Zm440 0h160v-160H620v160Z\"/>\n",
       "  </svg>\n",
       "    </button>\n",
       "\n",
       "  <style>\n",
       "    .colab-df-container {\n",
       "      display:flex;\n",
       "      gap: 12px;\n",
       "    }\n",
       "\n",
       "    .colab-df-convert {\n",
       "      background-color: #E8F0FE;\n",
       "      border: none;\n",
       "      border-radius: 50%;\n",
       "      cursor: pointer;\n",
       "      display: none;\n",
       "      fill: #1967D2;\n",
       "      height: 32px;\n",
       "      padding: 0 0 0 0;\n",
       "      width: 32px;\n",
       "    }\n",
       "\n",
       "    .colab-df-convert:hover {\n",
       "      background-color: #E2EBFA;\n",
       "      box-shadow: 0px 1px 2px rgba(60, 64, 67, 0.3), 0px 1px 3px 1px rgba(60, 64, 67, 0.15);\n",
       "      fill: #174EA6;\n",
       "    }\n",
       "\n",
       "    .colab-df-buttons div {\n",
       "      margin-bottom: 4px;\n",
       "    }\n",
       "\n",
       "    [theme=dark] .colab-df-convert {\n",
       "      background-color: #3B4455;\n",
       "      fill: #D2E3FC;\n",
       "    }\n",
       "\n",
       "    [theme=dark] .colab-df-convert:hover {\n",
       "      background-color: #434B5C;\n",
       "      box-shadow: 0px 1px 3px 1px rgba(0, 0, 0, 0.15);\n",
       "      filter: drop-shadow(0px 1px 2px rgba(0, 0, 0, 0.3));\n",
       "      fill: #FFFFFF;\n",
       "    }\n",
       "  </style>\n",
       "\n",
       "    <script>\n",
       "      const buttonEl =\n",
       "        document.querySelector('#df-f5fa7a14-87f7-4a0b-9893-44474e98f392 button.colab-df-convert');\n",
       "      buttonEl.style.display =\n",
       "        google.colab.kernel.accessAllowed ? 'block' : 'none';\n",
       "\n",
       "      async function convertToInteractive(key) {\n",
       "        const element = document.querySelector('#df-f5fa7a14-87f7-4a0b-9893-44474e98f392');\n",
       "        const dataTable =\n",
       "          await google.colab.kernel.invokeFunction('convertToInteractive',\n",
       "                                                    [key], {});\n",
       "        if (!dataTable) return;\n",
       "\n",
       "        const docLinkHtml = 'Like what you see? Visit the ' +\n",
       "          '<a target=\"_blank\" href=https://colab.research.google.com/notebooks/data_table.ipynb>data table notebook</a>'\n",
       "          + ' to learn more about interactive tables.';\n",
       "        element.innerHTML = '';\n",
       "        dataTable['output_type'] = 'display_data';\n",
       "        await google.colab.output.renderOutput(dataTable, element);\n",
       "        const docLink = document.createElement('div');\n",
       "        docLink.innerHTML = docLinkHtml;\n",
       "        element.appendChild(docLink);\n",
       "      }\n",
       "    </script>\n",
       "  </div>\n",
       "\n",
       "\n",
       "    <div id=\"df-de1ee686-5167-4c93-bec1-2d7a7411888a\">\n",
       "      <button class=\"colab-df-quickchart\" onclick=\"quickchart('df-de1ee686-5167-4c93-bec1-2d7a7411888a')\"\n",
       "                title=\"Suggest charts\"\n",
       "                style=\"display:none;\">\n",
       "\n",
       "<svg xmlns=\"http://www.w3.org/2000/svg\" height=\"24px\"viewBox=\"0 0 24 24\"\n",
       "     width=\"24px\">\n",
       "    <g>\n",
       "        <path d=\"M19 3H5c-1.1 0-2 .9-2 2v14c0 1.1.9 2 2 2h14c1.1 0 2-.9 2-2V5c0-1.1-.9-2-2-2zM9 17H7v-7h2v7zm4 0h-2V7h2v10zm4 0h-2v-4h2v4z\"/>\n",
       "    </g>\n",
       "</svg>\n",
       "      </button>\n",
       "\n",
       "<style>\n",
       "  .colab-df-quickchart {\n",
       "      --bg-color: #E8F0FE;\n",
       "      --fill-color: #1967D2;\n",
       "      --hover-bg-color: #E2EBFA;\n",
       "      --hover-fill-color: #174EA6;\n",
       "      --disabled-fill-color: #AAA;\n",
       "      --disabled-bg-color: #DDD;\n",
       "  }\n",
       "\n",
       "  [theme=dark] .colab-df-quickchart {\n",
       "      --bg-color: #3B4455;\n",
       "      --fill-color: #D2E3FC;\n",
       "      --hover-bg-color: #434B5C;\n",
       "      --hover-fill-color: #FFFFFF;\n",
       "      --disabled-bg-color: #3B4455;\n",
       "      --disabled-fill-color: #666;\n",
       "  }\n",
       "\n",
       "  .colab-df-quickchart {\n",
       "    background-color: var(--bg-color);\n",
       "    border: none;\n",
       "    border-radius: 50%;\n",
       "    cursor: pointer;\n",
       "    display: none;\n",
       "    fill: var(--fill-color);\n",
       "    height: 32px;\n",
       "    padding: 0;\n",
       "    width: 32px;\n",
       "  }\n",
       "\n",
       "  .colab-df-quickchart:hover {\n",
       "    background-color: var(--hover-bg-color);\n",
       "    box-shadow: 0 1px 2px rgba(60, 64, 67, 0.3), 0 1px 3px 1px rgba(60, 64, 67, 0.15);\n",
       "    fill: var(--button-hover-fill-color);\n",
       "  }\n",
       "\n",
       "  .colab-df-quickchart-complete:disabled,\n",
       "  .colab-df-quickchart-complete:disabled:hover {\n",
       "    background-color: var(--disabled-bg-color);\n",
       "    fill: var(--disabled-fill-color);\n",
       "    box-shadow: none;\n",
       "  }\n",
       "\n",
       "  .colab-df-spinner {\n",
       "    border: 2px solid var(--fill-color);\n",
       "    border-color: transparent;\n",
       "    border-bottom-color: var(--fill-color);\n",
       "    animation:\n",
       "      spin 1s steps(1) infinite;\n",
       "  }\n",
       "\n",
       "  @keyframes spin {\n",
       "    0% {\n",
       "      border-color: transparent;\n",
       "      border-bottom-color: var(--fill-color);\n",
       "      border-left-color: var(--fill-color);\n",
       "    }\n",
       "    20% {\n",
       "      border-color: transparent;\n",
       "      border-left-color: var(--fill-color);\n",
       "      border-top-color: var(--fill-color);\n",
       "    }\n",
       "    30% {\n",
       "      border-color: transparent;\n",
       "      border-left-color: var(--fill-color);\n",
       "      border-top-color: var(--fill-color);\n",
       "      border-right-color: var(--fill-color);\n",
       "    }\n",
       "    40% {\n",
       "      border-color: transparent;\n",
       "      border-right-color: var(--fill-color);\n",
       "      border-top-color: var(--fill-color);\n",
       "    }\n",
       "    60% {\n",
       "      border-color: transparent;\n",
       "      border-right-color: var(--fill-color);\n",
       "    }\n",
       "    80% {\n",
       "      border-color: transparent;\n",
       "      border-right-color: var(--fill-color);\n",
       "      border-bottom-color: var(--fill-color);\n",
       "    }\n",
       "    90% {\n",
       "      border-color: transparent;\n",
       "      border-bottom-color: var(--fill-color);\n",
       "    }\n",
       "  }\n",
       "</style>\n",
       "\n",
       "      <script>\n",
       "        async function quickchart(key) {\n",
       "          const quickchartButtonEl =\n",
       "            document.querySelector('#' + key + ' button');\n",
       "          quickchartButtonEl.disabled = true;  // To prevent multiple clicks.\n",
       "          quickchartButtonEl.classList.add('colab-df-spinner');\n",
       "          try {\n",
       "            const charts = await google.colab.kernel.invokeFunction(\n",
       "                'suggestCharts', [key], {});\n",
       "          } catch (error) {\n",
       "            console.error('Error during call to suggestCharts:', error);\n",
       "          }\n",
       "          quickchartButtonEl.classList.remove('colab-df-spinner');\n",
       "          quickchartButtonEl.classList.add('colab-df-quickchart-complete');\n",
       "        }\n",
       "        (() => {\n",
       "          let quickchartButtonEl =\n",
       "            document.querySelector('#df-de1ee686-5167-4c93-bec1-2d7a7411888a button');\n",
       "          quickchartButtonEl.style.display =\n",
       "            google.colab.kernel.accessAllowed ? 'block' : 'none';\n",
       "        })();\n",
       "      </script>\n",
       "    </div>\n",
       "\n",
       "    </div>\n",
       "  </div>\n"
      ],
      "text/plain": [
       "    소방서                출동시간                도착시간        diff\n",
       "0  소방서1 2023-09-16 06:12:29 2023-09-16 07:51:55   99.433333\n",
       "1  소방서5 2023-09-19 06:11:41 2023-09-19 08:08:36  116.916667"
      ]
     },
     "execution_count": 21,
     "metadata": {},
     "output_type": "execute_result"
    }
   ],
   "source": [
    "# 2. 도착 - 출동 (분)\n",
    "df['diff'] = df['도착시간'] - df['출동시간']\n",
    "df['diff'] = df['diff'].dt.total_seconds() / 60\n",
    "df.head(2)"
   ]
  },
  {
   "cell_type": "code",
   "execution_count": null,
   "id": "9d461e4b-72fe-4188-82e4-0a60ae17fea6",
   "metadata": {
    "id": "qUnRJsFApmAp"
   },
   "outputs": [],
   "source": [
    "# 3. 소방서별 차이 평균\n",
    "result = df.groupby('소방서')['diff'].mean()"
   ]
  },
  {
   "cell_type": "code",
   "execution_count": null,
   "id": "5d09faa3-7d29-455e-a4eb-3d13ba504aa1",
   "metadata": {
    "colab": {
     "base_uri": "https://localhost:8080/"
    },
    "id": "knT4ir62pmDl",
    "outputId": "a0c948de-beb2-4ff8-f628-4010e10e1726"
   },
   "outputs": [
    {
     "name": "stderr",
     "output_type": "stream",
     "text": [
      "<ipython-input-23-63bc12fc26de>:2: FutureWarning: Series.__getitem__ treating keys as positions is deprecated. In a future version, integer keys will always be treated as labels (consistent with DataFrame behavior). To access a value by position, use `ser.iloc[pos]`\n",
      "  result.sort_values(ascending = False)[0]\n"
     ]
    },
    {
     "data": {
      "text/plain": [
       "np.float64(80.6588888888889)"
      ]
     },
     "execution_count": 23,
     "metadata": {},
     "output_type": "execute_result"
    }
   ],
   "source": [
    "# 4. 차이가 가장 큰 값\n",
    "result.sort_values(ascending = False)[0]"
   ]
  },
  {
   "cell_type": "code",
   "execution_count": null,
   "id": "4cdeb5a9-24d2-40f2-afc2-1eea9f6ba2fc",
   "metadata": {
    "colab": {
     "base_uri": "https://localhost:8080/"
    },
    "id": "XoWcvjUt2WFF",
    "outputId": "5816ecb3-96b7-4045-d01b-c520012d980e"
   },
   "outputs": [
    {
     "name": "stdout",
     "output_type": "stream",
     "text": [
      "81\n"
     ]
    }
   ],
   "source": [
    "# 4. 다른 풀이\n",
    "print(round(result.max()))"
   ]
  },
  {
   "cell_type": "markdown",
   "id": "026a1026-be25-458a-a54d-0d036dd94d7c",
   "metadata": {
    "id": "wEhXFdON2WJ6"
   },
   "source": [
    "## 문제 2"
   ]
  },
  {
   "cell_type": "markdown",
   "id": "f79092f1-e589-4994-a3df-9bdbb12a5618",
   "metadata": {
    "id": "WHPehQIr2G0R"
   },
   "source": [
    "2. 학교에서 교사 한 명당 맡은 학생 수가 가장 많은 학교를 찾고, 그 학교의 전체 교사 수를 구하시오. (정수 출력)"
   ]
  },
  {
   "cell_type": "code",
   "execution_count": 53,
   "id": "96259e0e-af14-46b8-a714-df2809fdf99e",
   "metadata": {},
   "outputs": [
    {
     "name": "stdout",
     "output_type": "stream",
     "text": [
      "19\n"
     ]
    }
   ],
   "source": [
    "# My)\n",
    "\n",
    "import pandas as pd\n",
    "df = pd.read_csv(\"https://raw.githubusercontent.com/lovedlim/inf/refs/heads/main/p4/6_1/data6-1-2.csv\")\n",
    "\n",
    "df['전체학생수'] = df['1학년']+df['2학년']+df['3학년']+df['4학년']+df['5학년']+df['6학년']\n",
    "df['교사당학생수'] = df['전체학생수']/df['교사수']\n",
    "print(df.nlargest(1, '교사당학생수').iloc[0]['교사수'])"
   ]
  },
  {
   "cell_type": "code",
   "execution_count": null,
   "id": "5cde7545-0890-44a7-b9aa-3fe7dff0ea8e",
   "metadata": {
    "colab": {
     "base_uri": "https://localhost:8080/",
     "height": 112
    },
    "id": "n-_CJh6-2K-g",
    "outputId": "1e6b51e8-5d74-431b-ef7d-6c30ba1121cf"
   },
   "outputs": [
    {
     "data": {
      "application/vnd.google.colaboratory.intrinsic+json": {
       "summary": "{\n  \"name\": \"df\",\n  \"rows\": 100,\n  \"fields\": [\n    {\n      \"column\": \"\\ud559\\uad50\\uba85\",\n      \"properties\": {\n        \"dtype\": \"string\",\n        \"num_unique_values\": 100,\n        \"samples\": [\n          \"\\ud559\\uad5084\",\n          \"\\ud559\\uad5054\",\n          \"\\ud559\\uad5071\"\n        ],\n        \"semantic_type\": \"\",\n        \"description\": \"\"\n      }\n    },\n    {\n      \"column\": \"\\uad50\\uc0ac\\uc218\",\n      \"properties\": {\n        \"dtype\": \"number\",\n        \"std\": 7,\n        \"min\": 19,\n        \"max\": 42,\n        \"num_unique_values\": 24,\n        \"samples\": [\n          34,\n          28,\n          20\n        ],\n        \"semantic_type\": \"\",\n        \"description\": \"\"\n      }\n    },\n    {\n      \"column\": \"1\\ud559\\ub144\",\n      \"properties\": {\n        \"dtype\": \"number\",\n        \"std\": 45,\n        \"min\": 50,\n        \"max\": 199,\n        \"num_unique_values\": 73,\n        \"samples\": [\n          61,\n          142,\n          91\n        ],\n        \"semantic_type\": \"\",\n        \"description\": \"\"\n      }\n    },\n    {\n      \"column\": \"2\\ud559\\ub144\",\n      \"properties\": {\n        \"dtype\": \"number\",\n        \"std\": 42,\n        \"min\": 51,\n        \"max\": 199,\n        \"num_unique_values\": 74,\n        \"samples\": [\n          172,\n          94,\n          92\n        ],\n        \"semantic_type\": \"\",\n        \"description\": \"\"\n      }\n    },\n    {\n      \"column\": \"3\\ud559\\ub144\",\n      \"properties\": {\n        \"dtype\": \"number\",\n        \"std\": 46,\n        \"min\": 50,\n        \"max\": 200,\n        \"num_unique_values\": 75,\n        \"samples\": [\n          117,\n          103,\n          123\n        ],\n        \"semantic_type\": \"\",\n        \"description\": \"\"\n      }\n    },\n    {\n      \"column\": \"4\\ud559\\ub144\",\n      \"properties\": {\n        \"dtype\": \"number\",\n        \"std\": 42,\n        \"min\": 50,\n        \"max\": 198,\n        \"num_unique_values\": 75,\n        \"samples\": [\n          82,\n          155,\n          140\n        ],\n        \"semantic_type\": \"\",\n        \"description\": \"\"\n      }\n    },\n    {\n      \"column\": \"5\\ud559\\ub144\",\n      \"properties\": {\n        \"dtype\": \"number\",\n        \"std\": 46,\n        \"min\": 51,\n        \"max\": 198,\n        \"num_unique_values\": 76,\n        \"samples\": [\n          55,\n          83,\n          54\n        ],\n        \"semantic_type\": \"\",\n        \"description\": \"\"\n      }\n    },\n    {\n      \"column\": \"6\\ud559\\ub144\",\n      \"properties\": {\n        \"dtype\": \"number\",\n        \"std\": 42,\n        \"min\": 50,\n        \"max\": 195,\n        \"num_unique_values\": 72,\n        \"samples\": [\n          124,\n          129,\n          56\n        ],\n        \"semantic_type\": \"\",\n        \"description\": \"\"\n      }\n    }\n  ]\n}",
       "type": "dataframe",
       "variable_name": "df"
      },
      "text/html": [
       "\n",
       "  <div id=\"df-405c69ec-34d6-43fa-abc3-a493f20ad5d1\" class=\"colab-df-container\">\n",
       "    <div>\n",
       "<style scoped>\n",
       "    .dataframe tbody tr th:only-of-type {\n",
       "        vertical-align: middle;\n",
       "    }\n",
       "\n",
       "    .dataframe tbody tr th {\n",
       "        vertical-align: top;\n",
       "    }\n",
       "\n",
       "    .dataframe thead th {\n",
       "        text-align: right;\n",
       "    }\n",
       "</style>\n",
       "<table border=\"1\" class=\"dataframe\">\n",
       "  <thead>\n",
       "    <tr style=\"text-align: right;\">\n",
       "      <th></th>\n",
       "      <th>학교명</th>\n",
       "      <th>교사수</th>\n",
       "      <th>1학년</th>\n",
       "      <th>2학년</th>\n",
       "      <th>3학년</th>\n",
       "      <th>4학년</th>\n",
       "      <th>5학년</th>\n",
       "      <th>6학년</th>\n",
       "    </tr>\n",
       "  </thead>\n",
       "  <tbody>\n",
       "    <tr>\n",
       "      <th>0</th>\n",
       "      <td>학교1</td>\n",
       "      <td>20</td>\n",
       "      <td>118</td>\n",
       "      <td>72</td>\n",
       "      <td>154</td>\n",
       "      <td>118</td>\n",
       "      <td>77</td>\n",
       "      <td>59</td>\n",
       "    </tr>\n",
       "    <tr>\n",
       "      <th>1</th>\n",
       "      <td>학교2</td>\n",
       "      <td>31</td>\n",
       "      <td>187</td>\n",
       "      <td>193</td>\n",
       "      <td>135</td>\n",
       "      <td>137</td>\n",
       "      <td>63</td>\n",
       "      <td>90</td>\n",
       "    </tr>\n",
       "  </tbody>\n",
       "</table>\n",
       "</div>\n",
       "    <div class=\"colab-df-buttons\">\n",
       "\n",
       "  <div class=\"colab-df-container\">\n",
       "    <button class=\"colab-df-convert\" onclick=\"convertToInteractive('df-405c69ec-34d6-43fa-abc3-a493f20ad5d1')\"\n",
       "            title=\"Convert this dataframe to an interactive table.\"\n",
       "            style=\"display:none;\">\n",
       "\n",
       "  <svg xmlns=\"http://www.w3.org/2000/svg\" height=\"24px\" viewBox=\"0 -960 960 960\">\n",
       "    <path d=\"M120-120v-720h720v720H120Zm60-500h600v-160H180v160Zm220 220h160v-160H400v160Zm0 220h160v-160H400v160ZM180-400h160v-160H180v160Zm440 0h160v-160H620v160ZM180-180h160v-160H180v160Zm440 0h160v-160H620v160Z\"/>\n",
       "  </svg>\n",
       "    </button>\n",
       "\n",
       "  <style>\n",
       "    .colab-df-container {\n",
       "      display:flex;\n",
       "      gap: 12px;\n",
       "    }\n",
       "\n",
       "    .colab-df-convert {\n",
       "      background-color: #E8F0FE;\n",
       "      border: none;\n",
       "      border-radius: 50%;\n",
       "      cursor: pointer;\n",
       "      display: none;\n",
       "      fill: #1967D2;\n",
       "      height: 32px;\n",
       "      padding: 0 0 0 0;\n",
       "      width: 32px;\n",
       "    }\n",
       "\n",
       "    .colab-df-convert:hover {\n",
       "      background-color: #E2EBFA;\n",
       "      box-shadow: 0px 1px 2px rgba(60, 64, 67, 0.3), 0px 1px 3px 1px rgba(60, 64, 67, 0.15);\n",
       "      fill: #174EA6;\n",
       "    }\n",
       "\n",
       "    .colab-df-buttons div {\n",
       "      margin-bottom: 4px;\n",
       "    }\n",
       "\n",
       "    [theme=dark] .colab-df-convert {\n",
       "      background-color: #3B4455;\n",
       "      fill: #D2E3FC;\n",
       "    }\n",
       "\n",
       "    [theme=dark] .colab-df-convert:hover {\n",
       "      background-color: #434B5C;\n",
       "      box-shadow: 0px 1px 3px 1px rgba(0, 0, 0, 0.15);\n",
       "      filter: drop-shadow(0px 1px 2px rgba(0, 0, 0, 0.3));\n",
       "      fill: #FFFFFF;\n",
       "    }\n",
       "  </style>\n",
       "\n",
       "    <script>\n",
       "      const buttonEl =\n",
       "        document.querySelector('#df-405c69ec-34d6-43fa-abc3-a493f20ad5d1 button.colab-df-convert');\n",
       "      buttonEl.style.display =\n",
       "        google.colab.kernel.accessAllowed ? 'block' : 'none';\n",
       "\n",
       "      async function convertToInteractive(key) {\n",
       "        const element = document.querySelector('#df-405c69ec-34d6-43fa-abc3-a493f20ad5d1');\n",
       "        const dataTable =\n",
       "          await google.colab.kernel.invokeFunction('convertToInteractive',\n",
       "                                                    [key], {});\n",
       "        if (!dataTable) return;\n",
       "\n",
       "        const docLinkHtml = 'Like what you see? Visit the ' +\n",
       "          '<a target=\"_blank\" href=https://colab.research.google.com/notebooks/data_table.ipynb>data table notebook</a>'\n",
       "          + ' to learn more about interactive tables.';\n",
       "        element.innerHTML = '';\n",
       "        dataTable['output_type'] = 'display_data';\n",
       "        await google.colab.output.renderOutput(dataTable, element);\n",
       "        const docLink = document.createElement('div');\n",
       "        docLink.innerHTML = docLinkHtml;\n",
       "        element.appendChild(docLink);\n",
       "      }\n",
       "    </script>\n",
       "  </div>\n",
       "\n",
       "\n",
       "    <div id=\"df-dc30c1ed-663d-4d69-9f90-cb2e43ccc5cb\">\n",
       "      <button class=\"colab-df-quickchart\" onclick=\"quickchart('df-dc30c1ed-663d-4d69-9f90-cb2e43ccc5cb')\"\n",
       "                title=\"Suggest charts\"\n",
       "                style=\"display:none;\">\n",
       "\n",
       "<svg xmlns=\"http://www.w3.org/2000/svg\" height=\"24px\"viewBox=\"0 0 24 24\"\n",
       "     width=\"24px\">\n",
       "    <g>\n",
       "        <path d=\"M19 3H5c-1.1 0-2 .9-2 2v14c0 1.1.9 2 2 2h14c1.1 0 2-.9 2-2V5c0-1.1-.9-2-2-2zM9 17H7v-7h2v7zm4 0h-2V7h2v10zm4 0h-2v-4h2v4z\"/>\n",
       "    </g>\n",
       "</svg>\n",
       "      </button>\n",
       "\n",
       "<style>\n",
       "  .colab-df-quickchart {\n",
       "      --bg-color: #E8F0FE;\n",
       "      --fill-color: #1967D2;\n",
       "      --hover-bg-color: #E2EBFA;\n",
       "      --hover-fill-color: #174EA6;\n",
       "      --disabled-fill-color: #AAA;\n",
       "      --disabled-bg-color: #DDD;\n",
       "  }\n",
       "\n",
       "  [theme=dark] .colab-df-quickchart {\n",
       "      --bg-color: #3B4455;\n",
       "      --fill-color: #D2E3FC;\n",
       "      --hover-bg-color: #434B5C;\n",
       "      --hover-fill-color: #FFFFFF;\n",
       "      --disabled-bg-color: #3B4455;\n",
       "      --disabled-fill-color: #666;\n",
       "  }\n",
       "\n",
       "  .colab-df-quickchart {\n",
       "    background-color: var(--bg-color);\n",
       "    border: none;\n",
       "    border-radius: 50%;\n",
       "    cursor: pointer;\n",
       "    display: none;\n",
       "    fill: var(--fill-color);\n",
       "    height: 32px;\n",
       "    padding: 0;\n",
       "    width: 32px;\n",
       "  }\n",
       "\n",
       "  .colab-df-quickchart:hover {\n",
       "    background-color: var(--hover-bg-color);\n",
       "    box-shadow: 0 1px 2px rgba(60, 64, 67, 0.3), 0 1px 3px 1px rgba(60, 64, 67, 0.15);\n",
       "    fill: var(--button-hover-fill-color);\n",
       "  }\n",
       "\n",
       "  .colab-df-quickchart-complete:disabled,\n",
       "  .colab-df-quickchart-complete:disabled:hover {\n",
       "    background-color: var(--disabled-bg-color);\n",
       "    fill: var(--disabled-fill-color);\n",
       "    box-shadow: none;\n",
       "  }\n",
       "\n",
       "  .colab-df-spinner {\n",
       "    border: 2px solid var(--fill-color);\n",
       "    border-color: transparent;\n",
       "    border-bottom-color: var(--fill-color);\n",
       "    animation:\n",
       "      spin 1s steps(1) infinite;\n",
       "  }\n",
       "\n",
       "  @keyframes spin {\n",
       "    0% {\n",
       "      border-color: transparent;\n",
       "      border-bottom-color: var(--fill-color);\n",
       "      border-left-color: var(--fill-color);\n",
       "    }\n",
       "    20% {\n",
       "      border-color: transparent;\n",
       "      border-left-color: var(--fill-color);\n",
       "      border-top-color: var(--fill-color);\n",
       "    }\n",
       "    30% {\n",
       "      border-color: transparent;\n",
       "      border-left-color: var(--fill-color);\n",
       "      border-top-color: var(--fill-color);\n",
       "      border-right-color: var(--fill-color);\n",
       "    }\n",
       "    40% {\n",
       "      border-color: transparent;\n",
       "      border-right-color: var(--fill-color);\n",
       "      border-top-color: var(--fill-color);\n",
       "    }\n",
       "    60% {\n",
       "      border-color: transparent;\n",
       "      border-right-color: var(--fill-color);\n",
       "    }\n",
       "    80% {\n",
       "      border-color: transparent;\n",
       "      border-right-color: var(--fill-color);\n",
       "      border-bottom-color: var(--fill-color);\n",
       "    }\n",
       "    90% {\n",
       "      border-color: transparent;\n",
       "      border-bottom-color: var(--fill-color);\n",
       "    }\n",
       "  }\n",
       "</style>\n",
       "\n",
       "      <script>\n",
       "        async function quickchart(key) {\n",
       "          const quickchartButtonEl =\n",
       "            document.querySelector('#' + key + ' button');\n",
       "          quickchartButtonEl.disabled = true;  // To prevent multiple clicks.\n",
       "          quickchartButtonEl.classList.add('colab-df-spinner');\n",
       "          try {\n",
       "            const charts = await google.colab.kernel.invokeFunction(\n",
       "                'suggestCharts', [key], {});\n",
       "          } catch (error) {\n",
       "            console.error('Error during call to suggestCharts:', error);\n",
       "          }\n",
       "          quickchartButtonEl.classList.remove('colab-df-spinner');\n",
       "          quickchartButtonEl.classList.add('colab-df-quickchart-complete');\n",
       "        }\n",
       "        (() => {\n",
       "          let quickchartButtonEl =\n",
       "            document.querySelector('#df-dc30c1ed-663d-4d69-9f90-cb2e43ccc5cb button');\n",
       "          quickchartButtonEl.style.display =\n",
       "            google.colab.kernel.accessAllowed ? 'block' : 'none';\n",
       "        })();\n",
       "      </script>\n",
       "    </div>\n",
       "\n",
       "    </div>\n",
       "  </div>\n"
      ],
      "text/plain": [
       "   학교명  교사수  1학년  2학년  3학년  4학년  5학년  6학년\n",
       "0  학교1   20  118   72  154  118   77   59\n",
       "1  학교2   31  187  193  135  137   63   90"
      ]
     },
     "execution_count": 25,
     "metadata": {},
     "output_type": "execute_result"
    }
   ],
   "source": [
    "import pandas as pd\n",
    "df = pd.read_csv(\"https://raw.githubusercontent.com/lovedlim/inf/refs/heads/main/p4/6_1/data6-1-2.csv\")\n",
    "df.head(2)"
   ]
  },
  {
   "cell_type": "code",
   "execution_count": null,
   "id": "c84c83ef-ff56-412c-87d9-e5bfb1d9de74",
   "metadata": {
    "colab": {
     "base_uri": "https://localhost:8080/",
     "height": 112
    },
    "id": "OHPyMy1051fe",
    "outputId": "fdfafffb-7bd0-48e6-9955-8d1a113f33f6"
   },
   "outputs": [
    {
     "data": {
      "application/vnd.google.colaboratory.intrinsic+json": {
       "summary": "{\n  \"name\": \"df\",\n  \"rows\": 100,\n  \"fields\": [\n    {\n      \"column\": \"\\ud559\\uad50\\uba85\",\n      \"properties\": {\n        \"dtype\": \"string\",\n        \"num_unique_values\": 100,\n        \"samples\": [\n          \"\\ud559\\uad5084\",\n          \"\\ud559\\uad5054\",\n          \"\\ud559\\uad5071\"\n        ],\n        \"semantic_type\": \"\",\n        \"description\": \"\"\n      }\n    },\n    {\n      \"column\": \"\\uad50\\uc0ac\\uc218\",\n      \"properties\": {\n        \"dtype\": \"number\",\n        \"std\": 7,\n        \"min\": 19,\n        \"max\": 42,\n        \"num_unique_values\": 24,\n        \"samples\": [\n          34,\n          28,\n          20\n        ],\n        \"semantic_type\": \"\",\n        \"description\": \"\"\n      }\n    },\n    {\n      \"column\": \"1\\ud559\\ub144\",\n      \"properties\": {\n        \"dtype\": \"number\",\n        \"std\": 45,\n        \"min\": 50,\n        \"max\": 199,\n        \"num_unique_values\": 73,\n        \"samples\": [\n          61,\n          142,\n          91\n        ],\n        \"semantic_type\": \"\",\n        \"description\": \"\"\n      }\n    },\n    {\n      \"column\": \"2\\ud559\\ub144\",\n      \"properties\": {\n        \"dtype\": \"number\",\n        \"std\": 42,\n        \"min\": 51,\n        \"max\": 199,\n        \"num_unique_values\": 74,\n        \"samples\": [\n          172,\n          94,\n          92\n        ],\n        \"semantic_type\": \"\",\n        \"description\": \"\"\n      }\n    },\n    {\n      \"column\": \"3\\ud559\\ub144\",\n      \"properties\": {\n        \"dtype\": \"number\",\n        \"std\": 46,\n        \"min\": 50,\n        \"max\": 200,\n        \"num_unique_values\": 75,\n        \"samples\": [\n          117,\n          103,\n          123\n        ],\n        \"semantic_type\": \"\",\n        \"description\": \"\"\n      }\n    },\n    {\n      \"column\": \"4\\ud559\\ub144\",\n      \"properties\": {\n        \"dtype\": \"number\",\n        \"std\": 42,\n        \"min\": 50,\n        \"max\": 198,\n        \"num_unique_values\": 75,\n        \"samples\": [\n          82,\n          155,\n          140\n        ],\n        \"semantic_type\": \"\",\n        \"description\": \"\"\n      }\n    },\n    {\n      \"column\": \"5\\ud559\\ub144\",\n      \"properties\": {\n        \"dtype\": \"number\",\n        \"std\": 46,\n        \"min\": 51,\n        \"max\": 198,\n        \"num_unique_values\": 76,\n        \"samples\": [\n          55,\n          83,\n          54\n        ],\n        \"semantic_type\": \"\",\n        \"description\": \"\"\n      }\n    },\n    {\n      \"column\": \"6\\ud559\\ub144\",\n      \"properties\": {\n        \"dtype\": \"number\",\n        \"std\": 42,\n        \"min\": 50,\n        \"max\": 195,\n        \"num_unique_values\": 72,\n        \"samples\": [\n          124,\n          129,\n          56\n        ],\n        \"semantic_type\": \"\",\n        \"description\": \"\"\n      }\n    },\n    {\n      \"column\": \"\\uc804\\uccb4\",\n      \"properties\": {\n        \"dtype\": \"number\",\n        \"std\": 108,\n        \"min\": 481,\n        \"max\": 1037,\n        \"num_unique_values\": 87,\n        \"samples\": [\n          681,\n          598,\n          675\n        ],\n        \"semantic_type\": \"\",\n        \"description\": \"\"\n      }\n    }\n  ]\n}",
       "type": "dataframe",
       "variable_name": "df"
      },
      "text/html": [
       "\n",
       "  <div id=\"df-72c1006b-5c8e-47d8-bdbb-037c6cbb015a\" class=\"colab-df-container\">\n",
       "    <div>\n",
       "<style scoped>\n",
       "    .dataframe tbody tr th:only-of-type {\n",
       "        vertical-align: middle;\n",
       "    }\n",
       "\n",
       "    .dataframe tbody tr th {\n",
       "        vertical-align: top;\n",
       "    }\n",
       "\n",
       "    .dataframe thead th {\n",
       "        text-align: right;\n",
       "    }\n",
       "</style>\n",
       "<table border=\"1\" class=\"dataframe\">\n",
       "  <thead>\n",
       "    <tr style=\"text-align: right;\">\n",
       "      <th></th>\n",
       "      <th>학교명</th>\n",
       "      <th>교사수</th>\n",
       "      <th>1학년</th>\n",
       "      <th>2학년</th>\n",
       "      <th>3학년</th>\n",
       "      <th>4학년</th>\n",
       "      <th>5학년</th>\n",
       "      <th>6학년</th>\n",
       "      <th>전체</th>\n",
       "    </tr>\n",
       "  </thead>\n",
       "  <tbody>\n",
       "    <tr>\n",
       "      <th>0</th>\n",
       "      <td>학교1</td>\n",
       "      <td>20</td>\n",
       "      <td>118</td>\n",
       "      <td>72</td>\n",
       "      <td>154</td>\n",
       "      <td>118</td>\n",
       "      <td>77</td>\n",
       "      <td>59</td>\n",
       "      <td>598</td>\n",
       "    </tr>\n",
       "    <tr>\n",
       "      <th>1</th>\n",
       "      <td>학교2</td>\n",
       "      <td>31</td>\n",
       "      <td>187</td>\n",
       "      <td>193</td>\n",
       "      <td>135</td>\n",
       "      <td>137</td>\n",
       "      <td>63</td>\n",
       "      <td>90</td>\n",
       "      <td>805</td>\n",
       "    </tr>\n",
       "  </tbody>\n",
       "</table>\n",
       "</div>\n",
       "    <div class=\"colab-df-buttons\">\n",
       "\n",
       "  <div class=\"colab-df-container\">\n",
       "    <button class=\"colab-df-convert\" onclick=\"convertToInteractive('df-72c1006b-5c8e-47d8-bdbb-037c6cbb015a')\"\n",
       "            title=\"Convert this dataframe to an interactive table.\"\n",
       "            style=\"display:none;\">\n",
       "\n",
       "  <svg xmlns=\"http://www.w3.org/2000/svg\" height=\"24px\" viewBox=\"0 -960 960 960\">\n",
       "    <path d=\"M120-120v-720h720v720H120Zm60-500h600v-160H180v160Zm220 220h160v-160H400v160Zm0 220h160v-160H400v160ZM180-400h160v-160H180v160Zm440 0h160v-160H620v160ZM180-180h160v-160H180v160Zm440 0h160v-160H620v160Z\"/>\n",
       "  </svg>\n",
       "    </button>\n",
       "\n",
       "  <style>\n",
       "    .colab-df-container {\n",
       "      display:flex;\n",
       "      gap: 12px;\n",
       "    }\n",
       "\n",
       "    .colab-df-convert {\n",
       "      background-color: #E8F0FE;\n",
       "      border: none;\n",
       "      border-radius: 50%;\n",
       "      cursor: pointer;\n",
       "      display: none;\n",
       "      fill: #1967D2;\n",
       "      height: 32px;\n",
       "      padding: 0 0 0 0;\n",
       "      width: 32px;\n",
       "    }\n",
       "\n",
       "    .colab-df-convert:hover {\n",
       "      background-color: #E2EBFA;\n",
       "      box-shadow: 0px 1px 2px rgba(60, 64, 67, 0.3), 0px 1px 3px 1px rgba(60, 64, 67, 0.15);\n",
       "      fill: #174EA6;\n",
       "    }\n",
       "\n",
       "    .colab-df-buttons div {\n",
       "      margin-bottom: 4px;\n",
       "    }\n",
       "\n",
       "    [theme=dark] .colab-df-convert {\n",
       "      background-color: #3B4455;\n",
       "      fill: #D2E3FC;\n",
       "    }\n",
       "\n",
       "    [theme=dark] .colab-df-convert:hover {\n",
       "      background-color: #434B5C;\n",
       "      box-shadow: 0px 1px 3px 1px rgba(0, 0, 0, 0.15);\n",
       "      filter: drop-shadow(0px 1px 2px rgba(0, 0, 0, 0.3));\n",
       "      fill: #FFFFFF;\n",
       "    }\n",
       "  </style>\n",
       "\n",
       "    <script>\n",
       "      const buttonEl =\n",
       "        document.querySelector('#df-72c1006b-5c8e-47d8-bdbb-037c6cbb015a button.colab-df-convert');\n",
       "      buttonEl.style.display =\n",
       "        google.colab.kernel.accessAllowed ? 'block' : 'none';\n",
       "\n",
       "      async function convertToInteractive(key) {\n",
       "        const element = document.querySelector('#df-72c1006b-5c8e-47d8-bdbb-037c6cbb015a');\n",
       "        const dataTable =\n",
       "          await google.colab.kernel.invokeFunction('convertToInteractive',\n",
       "                                                    [key], {});\n",
       "        if (!dataTable) return;\n",
       "\n",
       "        const docLinkHtml = 'Like what you see? Visit the ' +\n",
       "          '<a target=\"_blank\" href=https://colab.research.google.com/notebooks/data_table.ipynb>data table notebook</a>'\n",
       "          + ' to learn more about interactive tables.';\n",
       "        element.innerHTML = '';\n",
       "        dataTable['output_type'] = 'display_data';\n",
       "        await google.colab.output.renderOutput(dataTable, element);\n",
       "        const docLink = document.createElement('div');\n",
       "        docLink.innerHTML = docLinkHtml;\n",
       "        element.appendChild(docLink);\n",
       "      }\n",
       "    </script>\n",
       "  </div>\n",
       "\n",
       "\n",
       "    <div id=\"df-9a4b7b94-20dd-47b6-85be-60960dcd3957\">\n",
       "      <button class=\"colab-df-quickchart\" onclick=\"quickchart('df-9a4b7b94-20dd-47b6-85be-60960dcd3957')\"\n",
       "                title=\"Suggest charts\"\n",
       "                style=\"display:none;\">\n",
       "\n",
       "<svg xmlns=\"http://www.w3.org/2000/svg\" height=\"24px\"viewBox=\"0 0 24 24\"\n",
       "     width=\"24px\">\n",
       "    <g>\n",
       "        <path d=\"M19 3H5c-1.1 0-2 .9-2 2v14c0 1.1.9 2 2 2h14c1.1 0 2-.9 2-2V5c0-1.1-.9-2-2-2zM9 17H7v-7h2v7zm4 0h-2V7h2v10zm4 0h-2v-4h2v4z\"/>\n",
       "    </g>\n",
       "</svg>\n",
       "      </button>\n",
       "\n",
       "<style>\n",
       "  .colab-df-quickchart {\n",
       "      --bg-color: #E8F0FE;\n",
       "      --fill-color: #1967D2;\n",
       "      --hover-bg-color: #E2EBFA;\n",
       "      --hover-fill-color: #174EA6;\n",
       "      --disabled-fill-color: #AAA;\n",
       "      --disabled-bg-color: #DDD;\n",
       "  }\n",
       "\n",
       "  [theme=dark] .colab-df-quickchart {\n",
       "      --bg-color: #3B4455;\n",
       "      --fill-color: #D2E3FC;\n",
       "      --hover-bg-color: #434B5C;\n",
       "      --hover-fill-color: #FFFFFF;\n",
       "      --disabled-bg-color: #3B4455;\n",
       "      --disabled-fill-color: #666;\n",
       "  }\n",
       "\n",
       "  .colab-df-quickchart {\n",
       "    background-color: var(--bg-color);\n",
       "    border: none;\n",
       "    border-radius: 50%;\n",
       "    cursor: pointer;\n",
       "    display: none;\n",
       "    fill: var(--fill-color);\n",
       "    height: 32px;\n",
       "    padding: 0;\n",
       "    width: 32px;\n",
       "  }\n",
       "\n",
       "  .colab-df-quickchart:hover {\n",
       "    background-color: var(--hover-bg-color);\n",
       "    box-shadow: 0 1px 2px rgba(60, 64, 67, 0.3), 0 1px 3px 1px rgba(60, 64, 67, 0.15);\n",
       "    fill: var(--button-hover-fill-color);\n",
       "  }\n",
       "\n",
       "  .colab-df-quickchart-complete:disabled,\n",
       "  .colab-df-quickchart-complete:disabled:hover {\n",
       "    background-color: var(--disabled-bg-color);\n",
       "    fill: var(--disabled-fill-color);\n",
       "    box-shadow: none;\n",
       "  }\n",
       "\n",
       "  .colab-df-spinner {\n",
       "    border: 2px solid var(--fill-color);\n",
       "    border-color: transparent;\n",
       "    border-bottom-color: var(--fill-color);\n",
       "    animation:\n",
       "      spin 1s steps(1) infinite;\n",
       "  }\n",
       "\n",
       "  @keyframes spin {\n",
       "    0% {\n",
       "      border-color: transparent;\n",
       "      border-bottom-color: var(--fill-color);\n",
       "      border-left-color: var(--fill-color);\n",
       "    }\n",
       "    20% {\n",
       "      border-color: transparent;\n",
       "      border-left-color: var(--fill-color);\n",
       "      border-top-color: var(--fill-color);\n",
       "    }\n",
       "    30% {\n",
       "      border-color: transparent;\n",
       "      border-left-color: var(--fill-color);\n",
       "      border-top-color: var(--fill-color);\n",
       "      border-right-color: var(--fill-color);\n",
       "    }\n",
       "    40% {\n",
       "      border-color: transparent;\n",
       "      border-right-color: var(--fill-color);\n",
       "      border-top-color: var(--fill-color);\n",
       "    }\n",
       "    60% {\n",
       "      border-color: transparent;\n",
       "      border-right-color: var(--fill-color);\n",
       "    }\n",
       "    80% {\n",
       "      border-color: transparent;\n",
       "      border-right-color: var(--fill-color);\n",
       "      border-bottom-color: var(--fill-color);\n",
       "    }\n",
       "    90% {\n",
       "      border-color: transparent;\n",
       "      border-bottom-color: var(--fill-color);\n",
       "    }\n",
       "  }\n",
       "</style>\n",
       "\n",
       "      <script>\n",
       "        async function quickchart(key) {\n",
       "          const quickchartButtonEl =\n",
       "            document.querySelector('#' + key + ' button');\n",
       "          quickchartButtonEl.disabled = true;  // To prevent multiple clicks.\n",
       "          quickchartButtonEl.classList.add('colab-df-spinner');\n",
       "          try {\n",
       "            const charts = await google.colab.kernel.invokeFunction(\n",
       "                'suggestCharts', [key], {});\n",
       "          } catch (error) {\n",
       "            console.error('Error during call to suggestCharts:', error);\n",
       "          }\n",
       "          quickchartButtonEl.classList.remove('colab-df-spinner');\n",
       "          quickchartButtonEl.classList.add('colab-df-quickchart-complete');\n",
       "        }\n",
       "        (() => {\n",
       "          let quickchartButtonEl =\n",
       "            document.querySelector('#df-9a4b7b94-20dd-47b6-85be-60960dcd3957 button');\n",
       "          quickchartButtonEl.style.display =\n",
       "            google.colab.kernel.accessAllowed ? 'block' : 'none';\n",
       "        })();\n",
       "      </script>\n",
       "    </div>\n",
       "\n",
       "    </div>\n",
       "  </div>\n"
      ],
      "text/plain": [
       "   학교명  교사수  1학년  2학년  3학년  4학년  5학년  6학년   전체\n",
       "0  학교1   20  118   72  154  118   77   59  598\n",
       "1  학교2   31  187  193  135  137   63   90  805"
      ]
     },
     "execution_count": 26,
     "metadata": {},
     "output_type": "execute_result"
    }
   ],
   "source": [
    "# 1. 전체 학생수\n",
    "df['전체'] = df.iloc[:, 2:].sum(axis=1)\n",
    "df.head(2)"
   ]
  },
  {
   "cell_type": "code",
   "execution_count": null,
   "id": "4c69c0a2-4237-4920-8f7d-6c679fc5cb95",
   "metadata": {
    "colab": {
     "base_uri": "https://localhost:8080/",
     "height": 112
    },
    "id": "LOk4XpbL51kL",
    "outputId": "060be7ba-b3f2-4a97-cd5b-4a6379a2d9f0"
   },
   "outputs": [
    {
     "data": {
      "application/vnd.google.colaboratory.intrinsic+json": {
       "summary": "{\n  \"name\": \"df\",\n  \"rows\": 100,\n  \"fields\": [\n    {\n      \"column\": \"\\ud559\\uad50\\uba85\",\n      \"properties\": {\n        \"dtype\": \"string\",\n        \"num_unique_values\": 100,\n        \"samples\": [\n          \"\\ud559\\uad5084\",\n          \"\\ud559\\uad5054\",\n          \"\\ud559\\uad5071\"\n        ],\n        \"semantic_type\": \"\",\n        \"description\": \"\"\n      }\n    },\n    {\n      \"column\": \"\\uad50\\uc0ac\\uc218\",\n      \"properties\": {\n        \"dtype\": \"number\",\n        \"std\": 7,\n        \"min\": 19,\n        \"max\": 42,\n        \"num_unique_values\": 24,\n        \"samples\": [\n          34,\n          28,\n          20\n        ],\n        \"semantic_type\": \"\",\n        \"description\": \"\"\n      }\n    },\n    {\n      \"column\": \"1\\ud559\\ub144\",\n      \"properties\": {\n        \"dtype\": \"number\",\n        \"std\": 45,\n        \"min\": 50,\n        \"max\": 199,\n        \"num_unique_values\": 73,\n        \"samples\": [\n          61,\n          142,\n          91\n        ],\n        \"semantic_type\": \"\",\n        \"description\": \"\"\n      }\n    },\n    {\n      \"column\": \"2\\ud559\\ub144\",\n      \"properties\": {\n        \"dtype\": \"number\",\n        \"std\": 42,\n        \"min\": 51,\n        \"max\": 199,\n        \"num_unique_values\": 74,\n        \"samples\": [\n          172,\n          94,\n          92\n        ],\n        \"semantic_type\": \"\",\n        \"description\": \"\"\n      }\n    },\n    {\n      \"column\": \"3\\ud559\\ub144\",\n      \"properties\": {\n        \"dtype\": \"number\",\n        \"std\": 46,\n        \"min\": 50,\n        \"max\": 200,\n        \"num_unique_values\": 75,\n        \"samples\": [\n          117,\n          103,\n          123\n        ],\n        \"semantic_type\": \"\",\n        \"description\": \"\"\n      }\n    },\n    {\n      \"column\": \"4\\ud559\\ub144\",\n      \"properties\": {\n        \"dtype\": \"number\",\n        \"std\": 42,\n        \"min\": 50,\n        \"max\": 198,\n        \"num_unique_values\": 75,\n        \"samples\": [\n          82,\n          155,\n          140\n        ],\n        \"semantic_type\": \"\",\n        \"description\": \"\"\n      }\n    },\n    {\n      \"column\": \"5\\ud559\\ub144\",\n      \"properties\": {\n        \"dtype\": \"number\",\n        \"std\": 46,\n        \"min\": 51,\n        \"max\": 198,\n        \"num_unique_values\": 76,\n        \"samples\": [\n          55,\n          83,\n          54\n        ],\n        \"semantic_type\": \"\",\n        \"description\": \"\"\n      }\n    },\n    {\n      \"column\": \"6\\ud559\\ub144\",\n      \"properties\": {\n        \"dtype\": \"number\",\n        \"std\": 42,\n        \"min\": 50,\n        \"max\": 195,\n        \"num_unique_values\": 72,\n        \"samples\": [\n          124,\n          129,\n          56\n        ],\n        \"semantic_type\": \"\",\n        \"description\": \"\"\n      }\n    },\n    {\n      \"column\": \"\\uc804\\uccb4\",\n      \"properties\": {\n        \"dtype\": \"number\",\n        \"std\": 108,\n        \"min\": 481,\n        \"max\": 1037,\n        \"num_unique_values\": 87,\n        \"samples\": [\n          681,\n          598,\n          675\n        ],\n        \"semantic_type\": \"\",\n        \"description\": \"\"\n      }\n    },\n    {\n      \"column\": \"\\uc804\\uccb4/\\uad50\\uc0ac\",\n      \"properties\": {\n        \"dtype\": \"number\",\n        \"std\": 7.509637928346505,\n        \"min\": 13.380952380952381,\n        \"max\": 54.578947368421055,\n        \"num_unique_values\": 100,\n        \"samples\": [\n          29.74074074074074,\n          35.0,\n          14.951219512195122\n        ],\n        \"semantic_type\": \"\",\n        \"description\": \"\"\n      }\n    }\n  ]\n}",
       "type": "dataframe",
       "variable_name": "df"
      },
      "text/html": [
       "\n",
       "  <div id=\"df-21a6d74d-8b4c-457e-90ab-8e8d3a2a42a3\" class=\"colab-df-container\">\n",
       "    <div>\n",
       "<style scoped>\n",
       "    .dataframe tbody tr th:only-of-type {\n",
       "        vertical-align: middle;\n",
       "    }\n",
       "\n",
       "    .dataframe tbody tr th {\n",
       "        vertical-align: top;\n",
       "    }\n",
       "\n",
       "    .dataframe thead th {\n",
       "        text-align: right;\n",
       "    }\n",
       "</style>\n",
       "<table border=\"1\" class=\"dataframe\">\n",
       "  <thead>\n",
       "    <tr style=\"text-align: right;\">\n",
       "      <th></th>\n",
       "      <th>학교명</th>\n",
       "      <th>교사수</th>\n",
       "      <th>1학년</th>\n",
       "      <th>2학년</th>\n",
       "      <th>3학년</th>\n",
       "      <th>4학년</th>\n",
       "      <th>5학년</th>\n",
       "      <th>6학년</th>\n",
       "      <th>전체</th>\n",
       "      <th>전체/교사</th>\n",
       "    </tr>\n",
       "  </thead>\n",
       "  <tbody>\n",
       "    <tr>\n",
       "      <th>0</th>\n",
       "      <td>학교1</td>\n",
       "      <td>20</td>\n",
       "      <td>118</td>\n",
       "      <td>72</td>\n",
       "      <td>154</td>\n",
       "      <td>118</td>\n",
       "      <td>77</td>\n",
       "      <td>59</td>\n",
       "      <td>598</td>\n",
       "      <td>29.900000</td>\n",
       "    </tr>\n",
       "    <tr>\n",
       "      <th>1</th>\n",
       "      <td>학교2</td>\n",
       "      <td>31</td>\n",
       "      <td>187</td>\n",
       "      <td>193</td>\n",
       "      <td>135</td>\n",
       "      <td>137</td>\n",
       "      <td>63</td>\n",
       "      <td>90</td>\n",
       "      <td>805</td>\n",
       "      <td>25.967742</td>\n",
       "    </tr>\n",
       "  </tbody>\n",
       "</table>\n",
       "</div>\n",
       "    <div class=\"colab-df-buttons\">\n",
       "\n",
       "  <div class=\"colab-df-container\">\n",
       "    <button class=\"colab-df-convert\" onclick=\"convertToInteractive('df-21a6d74d-8b4c-457e-90ab-8e8d3a2a42a3')\"\n",
       "            title=\"Convert this dataframe to an interactive table.\"\n",
       "            style=\"display:none;\">\n",
       "\n",
       "  <svg xmlns=\"http://www.w3.org/2000/svg\" height=\"24px\" viewBox=\"0 -960 960 960\">\n",
       "    <path d=\"M120-120v-720h720v720H120Zm60-500h600v-160H180v160Zm220 220h160v-160H400v160Zm0 220h160v-160H400v160ZM180-400h160v-160H180v160Zm440 0h160v-160H620v160ZM180-180h160v-160H180v160Zm440 0h160v-160H620v160Z\"/>\n",
       "  </svg>\n",
       "    </button>\n",
       "\n",
       "  <style>\n",
       "    .colab-df-container {\n",
       "      display:flex;\n",
       "      gap: 12px;\n",
       "    }\n",
       "\n",
       "    .colab-df-convert {\n",
       "      background-color: #E8F0FE;\n",
       "      border: none;\n",
       "      border-radius: 50%;\n",
       "      cursor: pointer;\n",
       "      display: none;\n",
       "      fill: #1967D2;\n",
       "      height: 32px;\n",
       "      padding: 0 0 0 0;\n",
       "      width: 32px;\n",
       "    }\n",
       "\n",
       "    .colab-df-convert:hover {\n",
       "      background-color: #E2EBFA;\n",
       "      box-shadow: 0px 1px 2px rgba(60, 64, 67, 0.3), 0px 1px 3px 1px rgba(60, 64, 67, 0.15);\n",
       "      fill: #174EA6;\n",
       "    }\n",
       "\n",
       "    .colab-df-buttons div {\n",
       "      margin-bottom: 4px;\n",
       "    }\n",
       "\n",
       "    [theme=dark] .colab-df-convert {\n",
       "      background-color: #3B4455;\n",
       "      fill: #D2E3FC;\n",
       "    }\n",
       "\n",
       "    [theme=dark] .colab-df-convert:hover {\n",
       "      background-color: #434B5C;\n",
       "      box-shadow: 0px 1px 3px 1px rgba(0, 0, 0, 0.15);\n",
       "      filter: drop-shadow(0px 1px 2px rgba(0, 0, 0, 0.3));\n",
       "      fill: #FFFFFF;\n",
       "    }\n",
       "  </style>\n",
       "\n",
       "    <script>\n",
       "      const buttonEl =\n",
       "        document.querySelector('#df-21a6d74d-8b4c-457e-90ab-8e8d3a2a42a3 button.colab-df-convert');\n",
       "      buttonEl.style.display =\n",
       "        google.colab.kernel.accessAllowed ? 'block' : 'none';\n",
       "\n",
       "      async function convertToInteractive(key) {\n",
       "        const element = document.querySelector('#df-21a6d74d-8b4c-457e-90ab-8e8d3a2a42a3');\n",
       "        const dataTable =\n",
       "          await google.colab.kernel.invokeFunction('convertToInteractive',\n",
       "                                                    [key], {});\n",
       "        if (!dataTable) return;\n",
       "\n",
       "        const docLinkHtml = 'Like what you see? Visit the ' +\n",
       "          '<a target=\"_blank\" href=https://colab.research.google.com/notebooks/data_table.ipynb>data table notebook</a>'\n",
       "          + ' to learn more about interactive tables.';\n",
       "        element.innerHTML = '';\n",
       "        dataTable['output_type'] = 'display_data';\n",
       "        await google.colab.output.renderOutput(dataTable, element);\n",
       "        const docLink = document.createElement('div');\n",
       "        docLink.innerHTML = docLinkHtml;\n",
       "        element.appendChild(docLink);\n",
       "      }\n",
       "    </script>\n",
       "  </div>\n",
       "\n",
       "\n",
       "    <div id=\"df-84e1fc49-7a9f-4515-a435-906255560994\">\n",
       "      <button class=\"colab-df-quickchart\" onclick=\"quickchart('df-84e1fc49-7a9f-4515-a435-906255560994')\"\n",
       "                title=\"Suggest charts\"\n",
       "                style=\"display:none;\">\n",
       "\n",
       "<svg xmlns=\"http://www.w3.org/2000/svg\" height=\"24px\"viewBox=\"0 0 24 24\"\n",
       "     width=\"24px\">\n",
       "    <g>\n",
       "        <path d=\"M19 3H5c-1.1 0-2 .9-2 2v14c0 1.1.9 2 2 2h14c1.1 0 2-.9 2-2V5c0-1.1-.9-2-2-2zM9 17H7v-7h2v7zm4 0h-2V7h2v10zm4 0h-2v-4h2v4z\"/>\n",
       "    </g>\n",
       "</svg>\n",
       "      </button>\n",
       "\n",
       "<style>\n",
       "  .colab-df-quickchart {\n",
       "      --bg-color: #E8F0FE;\n",
       "      --fill-color: #1967D2;\n",
       "      --hover-bg-color: #E2EBFA;\n",
       "      --hover-fill-color: #174EA6;\n",
       "      --disabled-fill-color: #AAA;\n",
       "      --disabled-bg-color: #DDD;\n",
       "  }\n",
       "\n",
       "  [theme=dark] .colab-df-quickchart {\n",
       "      --bg-color: #3B4455;\n",
       "      --fill-color: #D2E3FC;\n",
       "      --hover-bg-color: #434B5C;\n",
       "      --hover-fill-color: #FFFFFF;\n",
       "      --disabled-bg-color: #3B4455;\n",
       "      --disabled-fill-color: #666;\n",
       "  }\n",
       "\n",
       "  .colab-df-quickchart {\n",
       "    background-color: var(--bg-color);\n",
       "    border: none;\n",
       "    border-radius: 50%;\n",
       "    cursor: pointer;\n",
       "    display: none;\n",
       "    fill: var(--fill-color);\n",
       "    height: 32px;\n",
       "    padding: 0;\n",
       "    width: 32px;\n",
       "  }\n",
       "\n",
       "  .colab-df-quickchart:hover {\n",
       "    background-color: var(--hover-bg-color);\n",
       "    box-shadow: 0 1px 2px rgba(60, 64, 67, 0.3), 0 1px 3px 1px rgba(60, 64, 67, 0.15);\n",
       "    fill: var(--button-hover-fill-color);\n",
       "  }\n",
       "\n",
       "  .colab-df-quickchart-complete:disabled,\n",
       "  .colab-df-quickchart-complete:disabled:hover {\n",
       "    background-color: var(--disabled-bg-color);\n",
       "    fill: var(--disabled-fill-color);\n",
       "    box-shadow: none;\n",
       "  }\n",
       "\n",
       "  .colab-df-spinner {\n",
       "    border: 2px solid var(--fill-color);\n",
       "    border-color: transparent;\n",
       "    border-bottom-color: var(--fill-color);\n",
       "    animation:\n",
       "      spin 1s steps(1) infinite;\n",
       "  }\n",
       "\n",
       "  @keyframes spin {\n",
       "    0% {\n",
       "      border-color: transparent;\n",
       "      border-bottom-color: var(--fill-color);\n",
       "      border-left-color: var(--fill-color);\n",
       "    }\n",
       "    20% {\n",
       "      border-color: transparent;\n",
       "      border-left-color: var(--fill-color);\n",
       "      border-top-color: var(--fill-color);\n",
       "    }\n",
       "    30% {\n",
       "      border-color: transparent;\n",
       "      border-left-color: var(--fill-color);\n",
       "      border-top-color: var(--fill-color);\n",
       "      border-right-color: var(--fill-color);\n",
       "    }\n",
       "    40% {\n",
       "      border-color: transparent;\n",
       "      border-right-color: var(--fill-color);\n",
       "      border-top-color: var(--fill-color);\n",
       "    }\n",
       "    60% {\n",
       "      border-color: transparent;\n",
       "      border-right-color: var(--fill-color);\n",
       "    }\n",
       "    80% {\n",
       "      border-color: transparent;\n",
       "      border-right-color: var(--fill-color);\n",
       "      border-bottom-color: var(--fill-color);\n",
       "    }\n",
       "    90% {\n",
       "      border-color: transparent;\n",
       "      border-bottom-color: var(--fill-color);\n",
       "    }\n",
       "  }\n",
       "</style>\n",
       "\n",
       "      <script>\n",
       "        async function quickchart(key) {\n",
       "          const quickchartButtonEl =\n",
       "            document.querySelector('#' + key + ' button');\n",
       "          quickchartButtonEl.disabled = true;  // To prevent multiple clicks.\n",
       "          quickchartButtonEl.classList.add('colab-df-spinner');\n",
       "          try {\n",
       "            const charts = await google.colab.kernel.invokeFunction(\n",
       "                'suggestCharts', [key], {});\n",
       "          } catch (error) {\n",
       "            console.error('Error during call to suggestCharts:', error);\n",
       "          }\n",
       "          quickchartButtonEl.classList.remove('colab-df-spinner');\n",
       "          quickchartButtonEl.classList.add('colab-df-quickchart-complete');\n",
       "        }\n",
       "        (() => {\n",
       "          let quickchartButtonEl =\n",
       "            document.querySelector('#df-84e1fc49-7a9f-4515-a435-906255560994 button');\n",
       "          quickchartButtonEl.style.display =\n",
       "            google.colab.kernel.accessAllowed ? 'block' : 'none';\n",
       "        })();\n",
       "      </script>\n",
       "    </div>\n",
       "\n",
       "    </div>\n",
       "  </div>\n"
      ],
      "text/plain": [
       "   학교명  교사수  1학년  2학년  3학년  4학년  5학년  6학년   전체      전체/교사\n",
       "0  학교1   20  118   72  154  118   77   59  598  29.900000\n",
       "1  학교2   31  187  193  135  137   63   90  805  25.967742"
      ]
     },
     "execution_count": 27,
     "metadata": {},
     "output_type": "execute_result"
    }
   ],
   "source": [
    "# 2. 교사 한 명당 맡은 학생 수 (전체/교사)\n",
    "df['전체/교사'] = df['전체']/df['교사수']\n",
    "df.head(2)"
   ]
  },
  {
   "cell_type": "code",
   "execution_count": null,
   "id": "f73e3a56-30c7-4127-91ab-aa3095db829b",
   "metadata": {
    "id": "NUIRk_tK51mn"
   },
   "outputs": [],
   "source": [
    "# 3. 전체 / 교사가 가장 큰 값을 가진 학교의 교사수"
   ]
  },
  {
   "cell_type": "code",
   "execution_count": null,
   "id": "ae9e69cd-9312-4e80-b096-f5759d4455d7",
   "metadata": {
    "colab": {
     "base_uri": "https://localhost:8080/"
    },
    "id": "yOzRj9FSBzuw",
    "outputId": "0b683178-d5d2-4a48-bf56-536f11d1ab9a"
   },
   "outputs": [
    {
     "data": {
      "text/plain": [
       "7"
      ]
     },
     "execution_count": 29,
     "metadata": {},
     "output_type": "execute_result"
    }
   ],
   "source": [
    "df['전체/교사'].idxmax()"
   ]
  },
  {
   "cell_type": "code",
   "execution_count": null,
   "id": "e0a89027-0318-47c7-aabe-c7603b4e41f6",
   "metadata": {
    "colab": {
     "base_uri": "https://localhost:8080/"
    },
    "id": "j8oDpUFcBzw8",
    "outputId": "5ea4b49e-6772-4210-c82e-78cc39e4bce5"
   },
   "outputs": [
    {
     "name": "stdout",
     "output_type": "stream",
     "text": [
      "19\n"
     ]
    }
   ],
   "source": [
    "print(int(df.loc[7, '교사수']))"
   ]
  },
  {
   "cell_type": "code",
   "execution_count": null,
   "id": "af8e3184-6fa0-4bb6-8022-63c1c1af8f7a",
   "metadata": {
    "colab": {
     "base_uri": "https://localhost:8080/",
     "height": 424
    },
    "id": "XPk8k_lhBE_R",
    "outputId": "fc378448-2cb8-457c-9997-0fdb5d5297ce"
   },
   "outputs": [
    {
     "data": {
      "application/vnd.google.colaboratory.intrinsic+json": {
       "summary": "{\n  \"name\": \"df\",\n  \"rows\": 100,\n  \"fields\": [\n    {\n      \"column\": \"\\ud559\\uad50\\uba85\",\n      \"properties\": {\n        \"dtype\": \"string\",\n        \"num_unique_values\": 100,\n        \"samples\": [\n          \"\\ud559\\uad5027\",\n          \"\\ud559\\uad5078\",\n          \"\\ud559\\uad504\"\n        ],\n        \"semantic_type\": \"\",\n        \"description\": \"\"\n      }\n    },\n    {\n      \"column\": \"\\uad50\\uc0ac\\uc218\",\n      \"properties\": {\n        \"dtype\": \"number\",\n        \"std\": 7,\n        \"min\": 19,\n        \"max\": 42,\n        \"num_unique_values\": 24,\n        \"samples\": [\n          30,\n          34,\n          19\n        ],\n        \"semantic_type\": \"\",\n        \"description\": \"\"\n      }\n    },\n    {\n      \"column\": \"1\\ud559\\ub144\",\n      \"properties\": {\n        \"dtype\": \"number\",\n        \"std\": 45,\n        \"min\": 50,\n        \"max\": 199,\n        \"num_unique_values\": 73,\n        \"samples\": [\n          150,\n          137,\n          136\n        ],\n        \"semantic_type\": \"\",\n        \"description\": \"\"\n      }\n    },\n    {\n      \"column\": \"2\\ud559\\ub144\",\n      \"properties\": {\n        \"dtype\": \"number\",\n        \"std\": 42,\n        \"min\": 51,\n        \"max\": 199,\n        \"num_unique_values\": 74,\n        \"samples\": [\n          154,\n          143,\n          55\n        ],\n        \"semantic_type\": \"\",\n        \"description\": \"\"\n      }\n    },\n    {\n      \"column\": \"3\\ud559\\ub144\",\n      \"properties\": {\n        \"dtype\": \"number\",\n        \"std\": 46,\n        \"min\": 50,\n        \"max\": 200,\n        \"num_unique_values\": 75,\n        \"samples\": [\n          164,\n          170,\n          102\n        ],\n        \"semantic_type\": \"\",\n        \"description\": \"\"\n      }\n    },\n    {\n      \"column\": \"4\\ud559\\ub144\",\n      \"properties\": {\n        \"dtype\": \"number\",\n        \"std\": 42,\n        \"min\": 50,\n        \"max\": 198,\n        \"num_unique_values\": 75,\n        \"samples\": [\n          78,\n          142,\n          60\n        ],\n        \"semantic_type\": \"\",\n        \"description\": \"\"\n      }\n    },\n    {\n      \"column\": \"5\\ud559\\ub144\",\n      \"properties\": {\n        \"dtype\": \"number\",\n        \"std\": 46,\n        \"min\": 51,\n        \"max\": 198,\n        \"num_unique_values\": 76,\n        \"samples\": [\n          65,\n          176,\n          194\n        ],\n        \"semantic_type\": \"\",\n        \"description\": \"\"\n      }\n    },\n    {\n      \"column\": \"6\\ud559\\ub144\",\n      \"properties\": {\n        \"dtype\": \"number\",\n        \"std\": 42,\n        \"min\": 50,\n        \"max\": 195,\n        \"num_unique_values\": 72,\n        \"samples\": [\n          98,\n          119,\n          50\n        ],\n        \"semantic_type\": \"\",\n        \"description\": \"\"\n      }\n    },\n    {\n      \"column\": \"\\uc804\\uccb4\",\n      \"properties\": {\n        \"dtype\": \"number\",\n        \"std\": 108,\n        \"min\": 481,\n        \"max\": 1037,\n        \"num_unique_values\": 87,\n        \"samples\": [\n          603,\n          1037,\n          739\n        ],\n        \"semantic_type\": \"\",\n        \"description\": \"\"\n      }\n    },\n    {\n      \"column\": \"\\uc804\\uccb4/\\uad50\\uc0ac\",\n      \"properties\": {\n        \"dtype\": \"number\",\n        \"std\": 7.509637928346505,\n        \"min\": 13.380952380952381,\n        \"max\": 54.578947368421055,\n        \"num_unique_values\": 100,\n        \"samples\": [\n          18.452380952380953,\n          22.685714285714287,\n          19.6875\n        ],\n        \"semantic_type\": \"\",\n        \"description\": \"\"\n      }\n    }\n  ]\n}",
       "type": "dataframe"
      },
      "text/html": [
       "\n",
       "  <div id=\"df-9066fea1-d340-415b-a699-68bb4b4f4245\" class=\"colab-df-container\">\n",
       "    <div>\n",
       "<style scoped>\n",
       "    .dataframe tbody tr th:only-of-type {\n",
       "        vertical-align: middle;\n",
       "    }\n",
       "\n",
       "    .dataframe tbody tr th {\n",
       "        vertical-align: top;\n",
       "    }\n",
       "\n",
       "    .dataframe thead th {\n",
       "        text-align: right;\n",
       "    }\n",
       "</style>\n",
       "<table border=\"1\" class=\"dataframe\">\n",
       "  <thead>\n",
       "    <tr style=\"text-align: right;\">\n",
       "      <th></th>\n",
       "      <th>학교명</th>\n",
       "      <th>교사수</th>\n",
       "      <th>1학년</th>\n",
       "      <th>2학년</th>\n",
       "      <th>3학년</th>\n",
       "      <th>4학년</th>\n",
       "      <th>5학년</th>\n",
       "      <th>6학년</th>\n",
       "      <th>전체</th>\n",
       "      <th>전체/교사</th>\n",
       "    </tr>\n",
       "  </thead>\n",
       "  <tbody>\n",
       "    <tr>\n",
       "      <th>7</th>\n",
       "      <td>학교8</td>\n",
       "      <td>19</td>\n",
       "      <td>151</td>\n",
       "      <td>181</td>\n",
       "      <td>161</td>\n",
       "      <td>187</td>\n",
       "      <td>174</td>\n",
       "      <td>183</td>\n",
       "      <td>1037</td>\n",
       "      <td>54.578947</td>\n",
       "    </tr>\n",
       "    <tr>\n",
       "      <th>68</th>\n",
       "      <td>학교69</td>\n",
       "      <td>19</td>\n",
       "      <td>189</td>\n",
       "      <td>117</td>\n",
       "      <td>157</td>\n",
       "      <td>192</td>\n",
       "      <td>144</td>\n",
       "      <td>144</td>\n",
       "      <td>943</td>\n",
       "      <td>49.631579</td>\n",
       "    </tr>\n",
       "    <tr>\n",
       "      <th>48</th>\n",
       "      <td>학교49</td>\n",
       "      <td>22</td>\n",
       "      <td>163</td>\n",
       "      <td>189</td>\n",
       "      <td>192</td>\n",
       "      <td>121</td>\n",
       "      <td>99</td>\n",
       "      <td>183</td>\n",
       "      <td>947</td>\n",
       "      <td>43.045455</td>\n",
       "    </tr>\n",
       "    <tr>\n",
       "      <th>92</th>\n",
       "      <td>학교93</td>\n",
       "      <td>23</td>\n",
       "      <td>84</td>\n",
       "      <td>199</td>\n",
       "      <td>127</td>\n",
       "      <td>143</td>\n",
       "      <td>180</td>\n",
       "      <td>157</td>\n",
       "      <td>890</td>\n",
       "      <td>38.695652</td>\n",
       "    </tr>\n",
       "    <tr>\n",
       "      <th>49</th>\n",
       "      <td>학교50</td>\n",
       "      <td>21</td>\n",
       "      <td>150</td>\n",
       "      <td>154</td>\n",
       "      <td>164</td>\n",
       "      <td>78</td>\n",
       "      <td>65</td>\n",
       "      <td>195</td>\n",
       "      <td>806</td>\n",
       "      <td>38.380952</td>\n",
       "    </tr>\n",
       "    <tr>\n",
       "      <th>...</th>\n",
       "      <td>...</td>\n",
       "      <td>...</td>\n",
       "      <td>...</td>\n",
       "      <td>...</td>\n",
       "      <td>...</td>\n",
       "      <td>...</td>\n",
       "      <td>...</td>\n",
       "      <td>...</td>\n",
       "      <td>...</td>\n",
       "      <td>...</td>\n",
       "    </tr>\n",
       "    <tr>\n",
       "      <th>78</th>\n",
       "      <td>학교79</td>\n",
       "      <td>39</td>\n",
       "      <td>128</td>\n",
       "      <td>162</td>\n",
       "      <td>110</td>\n",
       "      <td>51</td>\n",
       "      <td>73</td>\n",
       "      <td>78</td>\n",
       "      <td>602</td>\n",
       "      <td>15.435897</td>\n",
       "    </tr>\n",
       "    <tr>\n",
       "      <th>70</th>\n",
       "      <td>학교71</td>\n",
       "      <td>41</td>\n",
       "      <td>50</td>\n",
       "      <td>139</td>\n",
       "      <td>179</td>\n",
       "      <td>50</td>\n",
       "      <td>125</td>\n",
       "      <td>70</td>\n",
       "      <td>613</td>\n",
       "      <td>14.951220</td>\n",
       "    </tr>\n",
       "    <tr>\n",
       "      <th>61</th>\n",
       "      <td>학교62</td>\n",
       "      <td>34</td>\n",
       "      <td>85</td>\n",
       "      <td>51</td>\n",
       "      <td>91</td>\n",
       "      <td>72</td>\n",
       "      <td>134</td>\n",
       "      <td>58</td>\n",
       "      <td>491</td>\n",
       "      <td>14.441176</td>\n",
       "    </tr>\n",
       "    <tr>\n",
       "      <th>89</th>\n",
       "      <td>학교90</td>\n",
       "      <td>41</td>\n",
       "      <td>57</td>\n",
       "      <td>103</td>\n",
       "      <td>59</td>\n",
       "      <td>89</td>\n",
       "      <td>184</td>\n",
       "      <td>75</td>\n",
       "      <td>567</td>\n",
       "      <td>13.829268</td>\n",
       "    </tr>\n",
       "    <tr>\n",
       "      <th>74</th>\n",
       "      <td>학교75</td>\n",
       "      <td>42</td>\n",
       "      <td>57</td>\n",
       "      <td>91</td>\n",
       "      <td>99</td>\n",
       "      <td>143</td>\n",
       "      <td>97</td>\n",
       "      <td>75</td>\n",
       "      <td>562</td>\n",
       "      <td>13.380952</td>\n",
       "    </tr>\n",
       "  </tbody>\n",
       "</table>\n",
       "<p>100 rows × 10 columns</p>\n",
       "</div>\n",
       "    <div class=\"colab-df-buttons\">\n",
       "\n",
       "  <div class=\"colab-df-container\">\n",
       "    <button class=\"colab-df-convert\" onclick=\"convertToInteractive('df-9066fea1-d340-415b-a699-68bb4b4f4245')\"\n",
       "            title=\"Convert this dataframe to an interactive table.\"\n",
       "            style=\"display:none;\">\n",
       "\n",
       "  <svg xmlns=\"http://www.w3.org/2000/svg\" height=\"24px\" viewBox=\"0 -960 960 960\">\n",
       "    <path d=\"M120-120v-720h720v720H120Zm60-500h600v-160H180v160Zm220 220h160v-160H400v160Zm0 220h160v-160H400v160ZM180-400h160v-160H180v160Zm440 0h160v-160H620v160ZM180-180h160v-160H180v160Zm440 0h160v-160H620v160Z\"/>\n",
       "  </svg>\n",
       "    </button>\n",
       "\n",
       "  <style>\n",
       "    .colab-df-container {\n",
       "      display:flex;\n",
       "      gap: 12px;\n",
       "    }\n",
       "\n",
       "    .colab-df-convert {\n",
       "      background-color: #E8F0FE;\n",
       "      border: none;\n",
       "      border-radius: 50%;\n",
       "      cursor: pointer;\n",
       "      display: none;\n",
       "      fill: #1967D2;\n",
       "      height: 32px;\n",
       "      padding: 0 0 0 0;\n",
       "      width: 32px;\n",
       "    }\n",
       "\n",
       "    .colab-df-convert:hover {\n",
       "      background-color: #E2EBFA;\n",
       "      box-shadow: 0px 1px 2px rgba(60, 64, 67, 0.3), 0px 1px 3px 1px rgba(60, 64, 67, 0.15);\n",
       "      fill: #174EA6;\n",
       "    }\n",
       "\n",
       "    .colab-df-buttons div {\n",
       "      margin-bottom: 4px;\n",
       "    }\n",
       "\n",
       "    [theme=dark] .colab-df-convert {\n",
       "      background-color: #3B4455;\n",
       "      fill: #D2E3FC;\n",
       "    }\n",
       "\n",
       "    [theme=dark] .colab-df-convert:hover {\n",
       "      background-color: #434B5C;\n",
       "      box-shadow: 0px 1px 3px 1px rgba(0, 0, 0, 0.15);\n",
       "      filter: drop-shadow(0px 1px 2px rgba(0, 0, 0, 0.3));\n",
       "      fill: #FFFFFF;\n",
       "    }\n",
       "  </style>\n",
       "\n",
       "    <script>\n",
       "      const buttonEl =\n",
       "        document.querySelector('#df-9066fea1-d340-415b-a699-68bb4b4f4245 button.colab-df-convert');\n",
       "      buttonEl.style.display =\n",
       "        google.colab.kernel.accessAllowed ? 'block' : 'none';\n",
       "\n",
       "      async function convertToInteractive(key) {\n",
       "        const element = document.querySelector('#df-9066fea1-d340-415b-a699-68bb4b4f4245');\n",
       "        const dataTable =\n",
       "          await google.colab.kernel.invokeFunction('convertToInteractive',\n",
       "                                                    [key], {});\n",
       "        if (!dataTable) return;\n",
       "\n",
       "        const docLinkHtml = 'Like what you see? Visit the ' +\n",
       "          '<a target=\"_blank\" href=https://colab.research.google.com/notebooks/data_table.ipynb>data table notebook</a>'\n",
       "          + ' to learn more about interactive tables.';\n",
       "        element.innerHTML = '';\n",
       "        dataTable['output_type'] = 'display_data';\n",
       "        await google.colab.output.renderOutput(dataTable, element);\n",
       "        const docLink = document.createElement('div');\n",
       "        docLink.innerHTML = docLinkHtml;\n",
       "        element.appendChild(docLink);\n",
       "      }\n",
       "    </script>\n",
       "  </div>\n",
       "\n",
       "\n",
       "    <div id=\"df-a8192f3f-1248-4374-97e2-2c030fea55e4\">\n",
       "      <button class=\"colab-df-quickchart\" onclick=\"quickchart('df-a8192f3f-1248-4374-97e2-2c030fea55e4')\"\n",
       "                title=\"Suggest charts\"\n",
       "                style=\"display:none;\">\n",
       "\n",
       "<svg xmlns=\"http://www.w3.org/2000/svg\" height=\"24px\"viewBox=\"0 0 24 24\"\n",
       "     width=\"24px\">\n",
       "    <g>\n",
       "        <path d=\"M19 3H5c-1.1 0-2 .9-2 2v14c0 1.1.9 2 2 2h14c1.1 0 2-.9 2-2V5c0-1.1-.9-2-2-2zM9 17H7v-7h2v7zm4 0h-2V7h2v10zm4 0h-2v-4h2v4z\"/>\n",
       "    </g>\n",
       "</svg>\n",
       "      </button>\n",
       "\n",
       "<style>\n",
       "  .colab-df-quickchart {\n",
       "      --bg-color: #E8F0FE;\n",
       "      --fill-color: #1967D2;\n",
       "      --hover-bg-color: #E2EBFA;\n",
       "      --hover-fill-color: #174EA6;\n",
       "      --disabled-fill-color: #AAA;\n",
       "      --disabled-bg-color: #DDD;\n",
       "  }\n",
       "\n",
       "  [theme=dark] .colab-df-quickchart {\n",
       "      --bg-color: #3B4455;\n",
       "      --fill-color: #D2E3FC;\n",
       "      --hover-bg-color: #434B5C;\n",
       "      --hover-fill-color: #FFFFFF;\n",
       "      --disabled-bg-color: #3B4455;\n",
       "      --disabled-fill-color: #666;\n",
       "  }\n",
       "\n",
       "  .colab-df-quickchart {\n",
       "    background-color: var(--bg-color);\n",
       "    border: none;\n",
       "    border-radius: 50%;\n",
       "    cursor: pointer;\n",
       "    display: none;\n",
       "    fill: var(--fill-color);\n",
       "    height: 32px;\n",
       "    padding: 0;\n",
       "    width: 32px;\n",
       "  }\n",
       "\n",
       "  .colab-df-quickchart:hover {\n",
       "    background-color: var(--hover-bg-color);\n",
       "    box-shadow: 0 1px 2px rgba(60, 64, 67, 0.3), 0 1px 3px 1px rgba(60, 64, 67, 0.15);\n",
       "    fill: var(--button-hover-fill-color);\n",
       "  }\n",
       "\n",
       "  .colab-df-quickchart-complete:disabled,\n",
       "  .colab-df-quickchart-complete:disabled:hover {\n",
       "    background-color: var(--disabled-bg-color);\n",
       "    fill: var(--disabled-fill-color);\n",
       "    box-shadow: none;\n",
       "  }\n",
       "\n",
       "  .colab-df-spinner {\n",
       "    border: 2px solid var(--fill-color);\n",
       "    border-color: transparent;\n",
       "    border-bottom-color: var(--fill-color);\n",
       "    animation:\n",
       "      spin 1s steps(1) infinite;\n",
       "  }\n",
       "\n",
       "  @keyframes spin {\n",
       "    0% {\n",
       "      border-color: transparent;\n",
       "      border-bottom-color: var(--fill-color);\n",
       "      border-left-color: var(--fill-color);\n",
       "    }\n",
       "    20% {\n",
       "      border-color: transparent;\n",
       "      border-left-color: var(--fill-color);\n",
       "      border-top-color: var(--fill-color);\n",
       "    }\n",
       "    30% {\n",
       "      border-color: transparent;\n",
       "      border-left-color: var(--fill-color);\n",
       "      border-top-color: var(--fill-color);\n",
       "      border-right-color: var(--fill-color);\n",
       "    }\n",
       "    40% {\n",
       "      border-color: transparent;\n",
       "      border-right-color: var(--fill-color);\n",
       "      border-top-color: var(--fill-color);\n",
       "    }\n",
       "    60% {\n",
       "      border-color: transparent;\n",
       "      border-right-color: var(--fill-color);\n",
       "    }\n",
       "    80% {\n",
       "      border-color: transparent;\n",
       "      border-right-color: var(--fill-color);\n",
       "      border-bottom-color: var(--fill-color);\n",
       "    }\n",
       "    90% {\n",
       "      border-color: transparent;\n",
       "      border-bottom-color: var(--fill-color);\n",
       "    }\n",
       "  }\n",
       "</style>\n",
       "\n",
       "      <script>\n",
       "        async function quickchart(key) {\n",
       "          const quickchartButtonEl =\n",
       "            document.querySelector('#' + key + ' button');\n",
       "          quickchartButtonEl.disabled = true;  // To prevent multiple clicks.\n",
       "          quickchartButtonEl.classList.add('colab-df-spinner');\n",
       "          try {\n",
       "            const charts = await google.colab.kernel.invokeFunction(\n",
       "                'suggestCharts', [key], {});\n",
       "          } catch (error) {\n",
       "            console.error('Error during call to suggestCharts:', error);\n",
       "          }\n",
       "          quickchartButtonEl.classList.remove('colab-df-spinner');\n",
       "          quickchartButtonEl.classList.add('colab-df-quickchart-complete');\n",
       "        }\n",
       "        (() => {\n",
       "          let quickchartButtonEl =\n",
       "            document.querySelector('#df-a8192f3f-1248-4374-97e2-2c030fea55e4 button');\n",
       "          quickchartButtonEl.style.display =\n",
       "            google.colab.kernel.accessAllowed ? 'block' : 'none';\n",
       "        })();\n",
       "      </script>\n",
       "    </div>\n",
       "\n",
       "    </div>\n",
       "  </div>\n"
      ],
      "text/plain": [
       "     학교명  교사수  1학년  2학년  3학년  4학년  5학년  6학년    전체      전체/교사\n",
       "7    학교8   19  151  181  161  187  174  183  1037  54.578947\n",
       "68  학교69   19  189  117  157  192  144  144   943  49.631579\n",
       "48  학교49   22  163  189  192  121   99  183   947  43.045455\n",
       "92  학교93   23   84  199  127  143  180  157   890  38.695652\n",
       "49  학교50   21  150  154  164   78   65  195   806  38.380952\n",
       "..   ...  ...  ...  ...  ...  ...  ...  ...   ...        ...\n",
       "78  학교79   39  128  162  110   51   73   78   602  15.435897\n",
       "70  학교71   41   50  139  179   50  125   70   613  14.951220\n",
       "61  학교62   34   85   51   91   72  134   58   491  14.441176\n",
       "89  학교90   41   57  103   59   89  184   75   567  13.829268\n",
       "74  학교75   42   57   91   99  143   97   75   562  13.380952\n",
       "\n",
       "[100 rows x 10 columns]"
      ]
     },
     "execution_count": 45,
     "metadata": {},
     "output_type": "execute_result"
    }
   ],
   "source": [
    "# (추가 Tip) 정렬해서 찾는 방법\n",
    "df.sort_values('전체/교사', ascending=False)"
   ]
  },
  {
   "cell_type": "markdown",
   "id": "61a27964-dc77-47b4-8ca8-f07944eac972",
   "metadata": {},
   "source": [
    "## 문제 3"
   ]
  },
  {
   "cell_type": "markdown",
   "id": "ee688157-f84a-4a4a-b9a1-dfc0fce18521",
   "metadata": {
    "id": "ur3vOFxy72jV"
   },
   "source": [
    "3. 연도별로 총 범죄 건수(범죄유형의 총합)의 월평균 값을 구한 후 그 값이 가장 큰 연도를 찾아, 해당 연도의 총 범죄 건수의 월평균 값을 출력하시오. (반올림하여 정수로 출력)\n",
    "- **총 범죄건수의 월평균 값을 구할 때 모든 월의 데이터가 있는 것이 아니므로 .sum()으로 합을 구한 후 12로 나눠줘야 함.**"
   ]
  },
  {
   "cell_type": "code",
   "execution_count": 81,
   "id": "1dbe5ee0-23f1-48f3-b9f0-5895b0f02754",
   "metadata": {},
   "outputs": [
    {
     "name": "stdout",
     "output_type": "stream",
     "text": [
      "515\n"
     ]
    }
   ],
   "source": [
    "# My)\n",
    "\n",
    "import pandas as pd\n",
    "df = pd.read_csv(\"https://raw.githubusercontent.com/lovedlim/inf/refs/heads/main/p4/6_1/data6-1-3.csv\")\n",
    "\n",
    "df['연도'] = df['날짜'].str[:4].astype(int)\n",
    "df['월'] = df['날짜'].str[-3:-1].astype(int)\n",
    "df = df.drop(['날짜'], axis=1)\n",
    "df['총범죄건수'] = df.iloc[:, :6].sum(axis=1)\n",
    "# print(df)\n",
    "\n",
    "g1 = df.groupby(['연도'])['총범죄건수'].sum()/12\n",
    "top_year = g1.idxmax()\n",
    "\n",
    "df1 = df[df['연도']==top_year]\n",
    "# print(df1)\n",
    "print(round(df1['총범죄건수'].mean()))"
   ]
  },
  {
   "cell_type": "code",
   "execution_count": null,
   "id": "70ac1bd2-f202-4cfd-806d-df12d6740a23",
   "metadata": {
    "colab": {
     "base_uri": "https://localhost:8080/",
     "height": 112
    },
    "id": "pcfb-167794O",
    "outputId": "1cb8d6ce-5144-4560-ca83-aed2262052d7"
   },
   "outputs": [
    {
     "data": {
      "application/vnd.google.colaboratory.intrinsic+json": {
       "summary": "{\n  \"name\": \"df\",\n  \"rows\": 50,\n  \"fields\": [\n    {\n      \"column\": \"\\ub0a0\\uc9dc\",\n      \"properties\": {\n        \"dtype\": \"string\",\n        \"num_unique_values\": 50,\n        \"samples\": [\n          \"2024\\ub144 12\\uc6d4\",\n          \"2021\\ub144 07\\uc6d4\",\n          \"2022\\ub144 08\\uc6d4\"\n        ],\n        \"semantic_type\": \"\",\n        \"description\": \"\"\n      }\n    },\n    {\n      \"column\": \"\\uac15\\ub825\\ubc94\\uc8c4\",\n      \"properties\": {\n        \"dtype\": \"number\",\n        \"std\": 5,\n        \"min\": 10,\n        \"max\": 30,\n        \"num_unique_values\": 19,\n        \"samples\": [\n          26,\n          25,\n          28\n        ],\n        \"semantic_type\": \"\",\n        \"description\": \"\"\n      }\n    },\n    {\n      \"column\": \"\\uc808\\ub3c4\\ubc94\\uc8c4\",\n      \"properties\": {\n        \"dtype\": \"number\",\n        \"std\": 14,\n        \"min\": 101,\n        \"max\": 150,\n        \"num_unique_values\": 33,\n        \"samples\": [\n          127,\n          106,\n          111\n        ],\n        \"semantic_type\": \"\",\n        \"description\": \"\"\n      }\n    },\n    {\n      \"column\": \"\\ud3ed\\ub825\\ubc94\\uc8c4\",\n      \"properties\": {\n        \"dtype\": \"number\",\n        \"std\": 6,\n        \"min\": 70,\n        \"max\": 90,\n        \"num_unique_values\": 19,\n        \"samples\": [\n          83,\n          90,\n          80\n        ],\n        \"semantic_type\": \"\",\n        \"description\": \"\"\n      }\n    },\n    {\n      \"column\": \"\\uc9c0\\ub2a5\\ubc94\\uc8c4\",\n      \"properties\": {\n        \"dtype\": \"number\",\n        \"std\": 6,\n        \"min\": 60,\n        \"max\": 80,\n        \"num_unique_values\": 19,\n        \"samples\": [\n          71,\n          67,\n          61\n        ],\n        \"semantic_type\": \"\",\n        \"description\": \"\"\n      }\n    },\n    {\n      \"column\": \"\\ud48d\\uc18d\\ubc94\\uc8c4\",\n      \"properties\": {\n        \"dtype\": \"number\",\n        \"std\": 2,\n        \"min\": 25,\n        \"max\": 35,\n        \"num_unique_values\": 11,\n        \"samples\": [\n          29,\n          33,\n          27\n        ],\n        \"semantic_type\": \"\",\n        \"description\": \"\"\n      }\n    },\n    {\n      \"column\": \"\\uad50\\ud1b5\\ubc94\\uc8c4\",\n      \"properties\": {\n        \"dtype\": \"number\",\n        \"std\": 11,\n        \"min\": 180,\n        \"max\": 220,\n        \"num_unique_values\": 28,\n        \"samples\": [\n          184,\n          204,\n          206\n        ],\n        \"semantic_type\": \"\",\n        \"description\": \"\"\n      }\n    },\n    {\n      \"column\": \"\\uacbd\\ucc30\\uc11c\\uba85\",\n      \"properties\": {\n        \"dtype\": \"category\",\n        \"num_unique_values\": 5,\n        \"samples\": [\n          \"E\\uacbd\\ucc30\\uc11c\",\n          \"D\\uacbd\\ucc30\\uc11c\",\n          \"A\\uacbd\\ucc30\\uc11c\"\n        ],\n        \"semantic_type\": \"\",\n        \"description\": \"\"\n      }\n    }\n  ]\n}",
       "type": "dataframe",
       "variable_name": "df"
      },
      "text/html": [
       "\n",
       "  <div id=\"df-7a5a6e99-9cab-4d9c-ac13-db96aee7e209\" class=\"colab-df-container\">\n",
       "    <div>\n",
       "<style scoped>\n",
       "    .dataframe tbody tr th:only-of-type {\n",
       "        vertical-align: middle;\n",
       "    }\n",
       "\n",
       "    .dataframe tbody tr th {\n",
       "        vertical-align: top;\n",
       "    }\n",
       "\n",
       "    .dataframe thead th {\n",
       "        text-align: right;\n",
       "    }\n",
       "</style>\n",
       "<table border=\"1\" class=\"dataframe\">\n",
       "  <thead>\n",
       "    <tr style=\"text-align: right;\">\n",
       "      <th></th>\n",
       "      <th>날짜</th>\n",
       "      <th>강력범죄</th>\n",
       "      <th>절도범죄</th>\n",
       "      <th>폭력범죄</th>\n",
       "      <th>지능범죄</th>\n",
       "      <th>풍속범죄</th>\n",
       "      <th>교통범죄</th>\n",
       "      <th>경찰서명</th>\n",
       "    </tr>\n",
       "  </thead>\n",
       "  <tbody>\n",
       "    <tr>\n",
       "      <th>0</th>\n",
       "      <td>2020년 04월</td>\n",
       "      <td>26</td>\n",
       "      <td>142</td>\n",
       "      <td>83</td>\n",
       "      <td>71</td>\n",
       "      <td>33</td>\n",
       "      <td>182</td>\n",
       "      <td>B경찰서</td>\n",
       "    </tr>\n",
       "    <tr>\n",
       "      <th>1</th>\n",
       "      <td>2021년 06월</td>\n",
       "      <td>12</td>\n",
       "      <td>131</td>\n",
       "      <td>78</td>\n",
       "      <td>65</td>\n",
       "      <td>30</td>\n",
       "      <td>201</td>\n",
       "      <td>E경찰서</td>\n",
       "    </tr>\n",
       "  </tbody>\n",
       "</table>\n",
       "</div>\n",
       "    <div class=\"colab-df-buttons\">\n",
       "\n",
       "  <div class=\"colab-df-container\">\n",
       "    <button class=\"colab-df-convert\" onclick=\"convertToInteractive('df-7a5a6e99-9cab-4d9c-ac13-db96aee7e209')\"\n",
       "            title=\"Convert this dataframe to an interactive table.\"\n",
       "            style=\"display:none;\">\n",
       "\n",
       "  <svg xmlns=\"http://www.w3.org/2000/svg\" height=\"24px\" viewBox=\"0 -960 960 960\">\n",
       "    <path d=\"M120-120v-720h720v720H120Zm60-500h600v-160H180v160Zm220 220h160v-160H400v160Zm0 220h160v-160H400v160ZM180-400h160v-160H180v160Zm440 0h160v-160H620v160ZM180-180h160v-160H180v160Zm440 0h160v-160H620v160Z\"/>\n",
       "  </svg>\n",
       "    </button>\n",
       "\n",
       "  <style>\n",
       "    .colab-df-container {\n",
       "      display:flex;\n",
       "      gap: 12px;\n",
       "    }\n",
       "\n",
       "    .colab-df-convert {\n",
       "      background-color: #E8F0FE;\n",
       "      border: none;\n",
       "      border-radius: 50%;\n",
       "      cursor: pointer;\n",
       "      display: none;\n",
       "      fill: #1967D2;\n",
       "      height: 32px;\n",
       "      padding: 0 0 0 0;\n",
       "      width: 32px;\n",
       "    }\n",
       "\n",
       "    .colab-df-convert:hover {\n",
       "      background-color: #E2EBFA;\n",
       "      box-shadow: 0px 1px 2px rgba(60, 64, 67, 0.3), 0px 1px 3px 1px rgba(60, 64, 67, 0.15);\n",
       "      fill: #174EA6;\n",
       "    }\n",
       "\n",
       "    .colab-df-buttons div {\n",
       "      margin-bottom: 4px;\n",
       "    }\n",
       "\n",
       "    [theme=dark] .colab-df-convert {\n",
       "      background-color: #3B4455;\n",
       "      fill: #D2E3FC;\n",
       "    }\n",
       "\n",
       "    [theme=dark] .colab-df-convert:hover {\n",
       "      background-color: #434B5C;\n",
       "      box-shadow: 0px 1px 3px 1px rgba(0, 0, 0, 0.15);\n",
       "      filter: drop-shadow(0px 1px 2px rgba(0, 0, 0, 0.3));\n",
       "      fill: #FFFFFF;\n",
       "    }\n",
       "  </style>\n",
       "\n",
       "    <script>\n",
       "      const buttonEl =\n",
       "        document.querySelector('#df-7a5a6e99-9cab-4d9c-ac13-db96aee7e209 button.colab-df-convert');\n",
       "      buttonEl.style.display =\n",
       "        google.colab.kernel.accessAllowed ? 'block' : 'none';\n",
       "\n",
       "      async function convertToInteractive(key) {\n",
       "        const element = document.querySelector('#df-7a5a6e99-9cab-4d9c-ac13-db96aee7e209');\n",
       "        const dataTable =\n",
       "          await google.colab.kernel.invokeFunction('convertToInteractive',\n",
       "                                                    [key], {});\n",
       "        if (!dataTable) return;\n",
       "\n",
       "        const docLinkHtml = 'Like what you see? Visit the ' +\n",
       "          '<a target=\"_blank\" href=https://colab.research.google.com/notebooks/data_table.ipynb>data table notebook</a>'\n",
       "          + ' to learn more about interactive tables.';\n",
       "        element.innerHTML = '';\n",
       "        dataTable['output_type'] = 'display_data';\n",
       "        await google.colab.output.renderOutput(dataTable, element);\n",
       "        const docLink = document.createElement('div');\n",
       "        docLink.innerHTML = docLinkHtml;\n",
       "        element.appendChild(docLink);\n",
       "      }\n",
       "    </script>\n",
       "  </div>\n",
       "\n",
       "\n",
       "    <div id=\"df-550d467d-4756-41c9-856d-5b77fc748ecf\">\n",
       "      <button class=\"colab-df-quickchart\" onclick=\"quickchart('df-550d467d-4756-41c9-856d-5b77fc748ecf')\"\n",
       "                title=\"Suggest charts\"\n",
       "                style=\"display:none;\">\n",
       "\n",
       "<svg xmlns=\"http://www.w3.org/2000/svg\" height=\"24px\"viewBox=\"0 0 24 24\"\n",
       "     width=\"24px\">\n",
       "    <g>\n",
       "        <path d=\"M19 3H5c-1.1 0-2 .9-2 2v14c0 1.1.9 2 2 2h14c1.1 0 2-.9 2-2V5c0-1.1-.9-2-2-2zM9 17H7v-7h2v7zm4 0h-2V7h2v10zm4 0h-2v-4h2v4z\"/>\n",
       "    </g>\n",
       "</svg>\n",
       "      </button>\n",
       "\n",
       "<style>\n",
       "  .colab-df-quickchart {\n",
       "      --bg-color: #E8F0FE;\n",
       "      --fill-color: #1967D2;\n",
       "      --hover-bg-color: #E2EBFA;\n",
       "      --hover-fill-color: #174EA6;\n",
       "      --disabled-fill-color: #AAA;\n",
       "      --disabled-bg-color: #DDD;\n",
       "  }\n",
       "\n",
       "  [theme=dark] .colab-df-quickchart {\n",
       "      --bg-color: #3B4455;\n",
       "      --fill-color: #D2E3FC;\n",
       "      --hover-bg-color: #434B5C;\n",
       "      --hover-fill-color: #FFFFFF;\n",
       "      --disabled-bg-color: #3B4455;\n",
       "      --disabled-fill-color: #666;\n",
       "  }\n",
       "\n",
       "  .colab-df-quickchart {\n",
       "    background-color: var(--bg-color);\n",
       "    border: none;\n",
       "    border-radius: 50%;\n",
       "    cursor: pointer;\n",
       "    display: none;\n",
       "    fill: var(--fill-color);\n",
       "    height: 32px;\n",
       "    padding: 0;\n",
       "    width: 32px;\n",
       "  }\n",
       "\n",
       "  .colab-df-quickchart:hover {\n",
       "    background-color: var(--hover-bg-color);\n",
       "    box-shadow: 0 1px 2px rgba(60, 64, 67, 0.3), 0 1px 3px 1px rgba(60, 64, 67, 0.15);\n",
       "    fill: var(--button-hover-fill-color);\n",
       "  }\n",
       "\n",
       "  .colab-df-quickchart-complete:disabled,\n",
       "  .colab-df-quickchart-complete:disabled:hover {\n",
       "    background-color: var(--disabled-bg-color);\n",
       "    fill: var(--disabled-fill-color);\n",
       "    box-shadow: none;\n",
       "  }\n",
       "\n",
       "  .colab-df-spinner {\n",
       "    border: 2px solid var(--fill-color);\n",
       "    border-color: transparent;\n",
       "    border-bottom-color: var(--fill-color);\n",
       "    animation:\n",
       "      spin 1s steps(1) infinite;\n",
       "  }\n",
       "\n",
       "  @keyframes spin {\n",
       "    0% {\n",
       "      border-color: transparent;\n",
       "      border-bottom-color: var(--fill-color);\n",
       "      border-left-color: var(--fill-color);\n",
       "    }\n",
       "    20% {\n",
       "      border-color: transparent;\n",
       "      border-left-color: var(--fill-color);\n",
       "      border-top-color: var(--fill-color);\n",
       "    }\n",
       "    30% {\n",
       "      border-color: transparent;\n",
       "      border-left-color: var(--fill-color);\n",
       "      border-top-color: var(--fill-color);\n",
       "      border-right-color: var(--fill-color);\n",
       "    }\n",
       "    40% {\n",
       "      border-color: transparent;\n",
       "      border-right-color: var(--fill-color);\n",
       "      border-top-color: var(--fill-color);\n",
       "    }\n",
       "    60% {\n",
       "      border-color: transparent;\n",
       "      border-right-color: var(--fill-color);\n",
       "    }\n",
       "    80% {\n",
       "      border-color: transparent;\n",
       "      border-right-color: var(--fill-color);\n",
       "      border-bottom-color: var(--fill-color);\n",
       "    }\n",
       "    90% {\n",
       "      border-color: transparent;\n",
       "      border-bottom-color: var(--fill-color);\n",
       "    }\n",
       "  }\n",
       "</style>\n",
       "\n",
       "      <script>\n",
       "        async function quickchart(key) {\n",
       "          const quickchartButtonEl =\n",
       "            document.querySelector('#' + key + ' button');\n",
       "          quickchartButtonEl.disabled = true;  // To prevent multiple clicks.\n",
       "          quickchartButtonEl.classList.add('colab-df-spinner');\n",
       "          try {\n",
       "            const charts = await google.colab.kernel.invokeFunction(\n",
       "                'suggestCharts', [key], {});\n",
       "          } catch (error) {\n",
       "            console.error('Error during call to suggestCharts:', error);\n",
       "          }\n",
       "          quickchartButtonEl.classList.remove('colab-df-spinner');\n",
       "          quickchartButtonEl.classList.add('colab-df-quickchart-complete');\n",
       "        }\n",
       "        (() => {\n",
       "          let quickchartButtonEl =\n",
       "            document.querySelector('#df-550d467d-4756-41c9-856d-5b77fc748ecf button');\n",
       "          quickchartButtonEl.style.display =\n",
       "            google.colab.kernel.accessAllowed ? 'block' : 'none';\n",
       "        })();\n",
       "      </script>\n",
       "    </div>\n",
       "\n",
       "    </div>\n",
       "  </div>\n"
      ],
      "text/plain": [
       "          날짜  강력범죄  절도범죄  폭력범죄  지능범죄  풍속범죄  교통범죄  경찰서명\n",
       "0  2020년 04월    26   142    83    71    33   182  B경찰서\n",
       "1  2021년 06월    12   131    78    65    30   201  E경찰서"
      ]
     },
     "execution_count": 13,
     "metadata": {},
     "output_type": "execute_result"
    }
   ],
   "source": [
    "import pandas as pd\n",
    "df = pd.read_csv(\"https://raw.githubusercontent.com/lovedlim/inf/refs/heads/main/p4/6_1/data6-1-3.csv\")\n",
    "df.head(2)"
   ]
  },
  {
   "cell_type": "code",
   "execution_count": null,
   "id": "10efa3f6-527f-40e6-91c8-3f75a5eb4f83",
   "metadata": {
    "colab": {
     "base_uri": "https://localhost:8080/",
     "height": 112
    },
    "id": "EgBtxxcK95on",
    "outputId": "1b481690-ac46-44cb-a1f8-80745e99c2ea"
   },
   "outputs": [
    {
     "data": {
      "application/vnd.google.colaboratory.intrinsic+json": {
       "summary": "{\n  \"name\": \"df\",\n  \"rows\": 50,\n  \"fields\": [\n    {\n      \"column\": \"\\ub0a0\\uc9dc\",\n      \"properties\": {\n        \"dtype\": \"string\",\n        \"num_unique_values\": 50,\n        \"samples\": [\n          \"2024\\ub144 12\\uc6d4\",\n          \"2021\\ub144 07\\uc6d4\",\n          \"2022\\ub144 08\\uc6d4\"\n        ],\n        \"semantic_type\": \"\",\n        \"description\": \"\"\n      }\n    },\n    {\n      \"column\": \"\\uac15\\ub825\\ubc94\\uc8c4\",\n      \"properties\": {\n        \"dtype\": \"number\",\n        \"std\": 5,\n        \"min\": 10,\n        \"max\": 30,\n        \"num_unique_values\": 19,\n        \"samples\": [\n          26,\n          25,\n          28\n        ],\n        \"semantic_type\": \"\",\n        \"description\": \"\"\n      }\n    },\n    {\n      \"column\": \"\\uc808\\ub3c4\\ubc94\\uc8c4\",\n      \"properties\": {\n        \"dtype\": \"number\",\n        \"std\": 14,\n        \"min\": 101,\n        \"max\": 150,\n        \"num_unique_values\": 33,\n        \"samples\": [\n          127,\n          106,\n          111\n        ],\n        \"semantic_type\": \"\",\n        \"description\": \"\"\n      }\n    },\n    {\n      \"column\": \"\\ud3ed\\ub825\\ubc94\\uc8c4\",\n      \"properties\": {\n        \"dtype\": \"number\",\n        \"std\": 6,\n        \"min\": 70,\n        \"max\": 90,\n        \"num_unique_values\": 19,\n        \"samples\": [\n          83,\n          90,\n          80\n        ],\n        \"semantic_type\": \"\",\n        \"description\": \"\"\n      }\n    },\n    {\n      \"column\": \"\\uc9c0\\ub2a5\\ubc94\\uc8c4\",\n      \"properties\": {\n        \"dtype\": \"number\",\n        \"std\": 6,\n        \"min\": 60,\n        \"max\": 80,\n        \"num_unique_values\": 19,\n        \"samples\": [\n          71,\n          67,\n          61\n        ],\n        \"semantic_type\": \"\",\n        \"description\": \"\"\n      }\n    },\n    {\n      \"column\": \"\\ud48d\\uc18d\\ubc94\\uc8c4\",\n      \"properties\": {\n        \"dtype\": \"number\",\n        \"std\": 2,\n        \"min\": 25,\n        \"max\": 35,\n        \"num_unique_values\": 11,\n        \"samples\": [\n          29,\n          33,\n          27\n        ],\n        \"semantic_type\": \"\",\n        \"description\": \"\"\n      }\n    },\n    {\n      \"column\": \"\\uad50\\ud1b5\\ubc94\\uc8c4\",\n      \"properties\": {\n        \"dtype\": \"number\",\n        \"std\": 11,\n        \"min\": 180,\n        \"max\": 220,\n        \"num_unique_values\": 28,\n        \"samples\": [\n          184,\n          204,\n          206\n        ],\n        \"semantic_type\": \"\",\n        \"description\": \"\"\n      }\n    },\n    {\n      \"column\": \"\\uacbd\\ucc30\\uc11c\\uba85\",\n      \"properties\": {\n        \"dtype\": \"category\",\n        \"num_unique_values\": 5,\n        \"samples\": [\n          \"E\\uacbd\\ucc30\\uc11c\",\n          \"D\\uacbd\\ucc30\\uc11c\",\n          \"A\\uacbd\\ucc30\\uc11c\"\n        ],\n        \"semantic_type\": \"\",\n        \"description\": \"\"\n      }\n    },\n    {\n      \"column\": \"\\ucd1d\\ubc94\\uc8c4\",\n      \"properties\": {\n        \"dtype\": \"number\",\n        \"std\": 20,\n        \"min\": 485,\n        \"max\": 573,\n        \"num_unique_values\": 36,\n        \"samples\": [\n          508,\n          514,\n          497\n        ],\n        \"semantic_type\": \"\",\n        \"description\": \"\"\n      }\n    }\n  ]\n}",
       "type": "dataframe",
       "variable_name": "df"
      },
      "text/html": [
       "\n",
       "  <div id=\"df-3b550289-0090-4d3c-9af8-994daa0c74b2\" class=\"colab-df-container\">\n",
       "    <div>\n",
       "<style scoped>\n",
       "    .dataframe tbody tr th:only-of-type {\n",
       "        vertical-align: middle;\n",
       "    }\n",
       "\n",
       "    .dataframe tbody tr th {\n",
       "        vertical-align: top;\n",
       "    }\n",
       "\n",
       "    .dataframe thead th {\n",
       "        text-align: right;\n",
       "    }\n",
       "</style>\n",
       "<table border=\"1\" class=\"dataframe\">\n",
       "  <thead>\n",
       "    <tr style=\"text-align: right;\">\n",
       "      <th></th>\n",
       "      <th>날짜</th>\n",
       "      <th>강력범죄</th>\n",
       "      <th>절도범죄</th>\n",
       "      <th>폭력범죄</th>\n",
       "      <th>지능범죄</th>\n",
       "      <th>풍속범죄</th>\n",
       "      <th>교통범죄</th>\n",
       "      <th>경찰서명</th>\n",
       "      <th>총범죄</th>\n",
       "    </tr>\n",
       "  </thead>\n",
       "  <tbody>\n",
       "    <tr>\n",
       "      <th>0</th>\n",
       "      <td>2020년 04월</td>\n",
       "      <td>26</td>\n",
       "      <td>142</td>\n",
       "      <td>83</td>\n",
       "      <td>71</td>\n",
       "      <td>33</td>\n",
       "      <td>182</td>\n",
       "      <td>B경찰서</td>\n",
       "      <td>537</td>\n",
       "    </tr>\n",
       "    <tr>\n",
       "      <th>1</th>\n",
       "      <td>2021년 06월</td>\n",
       "      <td>12</td>\n",
       "      <td>131</td>\n",
       "      <td>78</td>\n",
       "      <td>65</td>\n",
       "      <td>30</td>\n",
       "      <td>201</td>\n",
       "      <td>E경찰서</td>\n",
       "      <td>517</td>\n",
       "    </tr>\n",
       "  </tbody>\n",
       "</table>\n",
       "</div>\n",
       "    <div class=\"colab-df-buttons\">\n",
       "\n",
       "  <div class=\"colab-df-container\">\n",
       "    <button class=\"colab-df-convert\" onclick=\"convertToInteractive('df-3b550289-0090-4d3c-9af8-994daa0c74b2')\"\n",
       "            title=\"Convert this dataframe to an interactive table.\"\n",
       "            style=\"display:none;\">\n",
       "\n",
       "  <svg xmlns=\"http://www.w3.org/2000/svg\" height=\"24px\" viewBox=\"0 -960 960 960\">\n",
       "    <path d=\"M120-120v-720h720v720H120Zm60-500h600v-160H180v160Zm220 220h160v-160H400v160Zm0 220h160v-160H400v160ZM180-400h160v-160H180v160Zm440 0h160v-160H620v160ZM180-180h160v-160H180v160Zm440 0h160v-160H620v160Z\"/>\n",
       "  </svg>\n",
       "    </button>\n",
       "\n",
       "  <style>\n",
       "    .colab-df-container {\n",
       "      display:flex;\n",
       "      gap: 12px;\n",
       "    }\n",
       "\n",
       "    .colab-df-convert {\n",
       "      background-color: #E8F0FE;\n",
       "      border: none;\n",
       "      border-radius: 50%;\n",
       "      cursor: pointer;\n",
       "      display: none;\n",
       "      fill: #1967D2;\n",
       "      height: 32px;\n",
       "      padding: 0 0 0 0;\n",
       "      width: 32px;\n",
       "    }\n",
       "\n",
       "    .colab-df-convert:hover {\n",
       "      background-color: #E2EBFA;\n",
       "      box-shadow: 0px 1px 2px rgba(60, 64, 67, 0.3), 0px 1px 3px 1px rgba(60, 64, 67, 0.15);\n",
       "      fill: #174EA6;\n",
       "    }\n",
       "\n",
       "    .colab-df-buttons div {\n",
       "      margin-bottom: 4px;\n",
       "    }\n",
       "\n",
       "    [theme=dark] .colab-df-convert {\n",
       "      background-color: #3B4455;\n",
       "      fill: #D2E3FC;\n",
       "    }\n",
       "\n",
       "    [theme=dark] .colab-df-convert:hover {\n",
       "      background-color: #434B5C;\n",
       "      box-shadow: 0px 1px 3px 1px rgba(0, 0, 0, 0.15);\n",
       "      filter: drop-shadow(0px 1px 2px rgba(0, 0, 0, 0.3));\n",
       "      fill: #FFFFFF;\n",
       "    }\n",
       "  </style>\n",
       "\n",
       "    <script>\n",
       "      const buttonEl =\n",
       "        document.querySelector('#df-3b550289-0090-4d3c-9af8-994daa0c74b2 button.colab-df-convert');\n",
       "      buttonEl.style.display =\n",
       "        google.colab.kernel.accessAllowed ? 'block' : 'none';\n",
       "\n",
       "      async function convertToInteractive(key) {\n",
       "        const element = document.querySelector('#df-3b550289-0090-4d3c-9af8-994daa0c74b2');\n",
       "        const dataTable =\n",
       "          await google.colab.kernel.invokeFunction('convertToInteractive',\n",
       "                                                    [key], {});\n",
       "        if (!dataTable) return;\n",
       "\n",
       "        const docLinkHtml = 'Like what you see? Visit the ' +\n",
       "          '<a target=\"_blank\" href=https://colab.research.google.com/notebooks/data_table.ipynb>data table notebook</a>'\n",
       "          + ' to learn more about interactive tables.';\n",
       "        element.innerHTML = '';\n",
       "        dataTable['output_type'] = 'display_data';\n",
       "        await google.colab.output.renderOutput(dataTable, element);\n",
       "        const docLink = document.createElement('div');\n",
       "        docLink.innerHTML = docLinkHtml;\n",
       "        element.appendChild(docLink);\n",
       "      }\n",
       "    </script>\n",
       "  </div>\n",
       "\n",
       "\n",
       "    <div id=\"df-2770d1f4-e235-4843-8f74-1ecbe589c422\">\n",
       "      <button class=\"colab-df-quickchart\" onclick=\"quickchart('df-2770d1f4-e235-4843-8f74-1ecbe589c422')\"\n",
       "                title=\"Suggest charts\"\n",
       "                style=\"display:none;\">\n",
       "\n",
       "<svg xmlns=\"http://www.w3.org/2000/svg\" height=\"24px\"viewBox=\"0 0 24 24\"\n",
       "     width=\"24px\">\n",
       "    <g>\n",
       "        <path d=\"M19 3H5c-1.1 0-2 .9-2 2v14c0 1.1.9 2 2 2h14c1.1 0 2-.9 2-2V5c0-1.1-.9-2-2-2zM9 17H7v-7h2v7zm4 0h-2V7h2v10zm4 0h-2v-4h2v4z\"/>\n",
       "    </g>\n",
       "</svg>\n",
       "      </button>\n",
       "\n",
       "<style>\n",
       "  .colab-df-quickchart {\n",
       "      --bg-color: #E8F0FE;\n",
       "      --fill-color: #1967D2;\n",
       "      --hover-bg-color: #E2EBFA;\n",
       "      --hover-fill-color: #174EA6;\n",
       "      --disabled-fill-color: #AAA;\n",
       "      --disabled-bg-color: #DDD;\n",
       "  }\n",
       "\n",
       "  [theme=dark] .colab-df-quickchart {\n",
       "      --bg-color: #3B4455;\n",
       "      --fill-color: #D2E3FC;\n",
       "      --hover-bg-color: #434B5C;\n",
       "      --hover-fill-color: #FFFFFF;\n",
       "      --disabled-bg-color: #3B4455;\n",
       "      --disabled-fill-color: #666;\n",
       "  }\n",
       "\n",
       "  .colab-df-quickchart {\n",
       "    background-color: var(--bg-color);\n",
       "    border: none;\n",
       "    border-radius: 50%;\n",
       "    cursor: pointer;\n",
       "    display: none;\n",
       "    fill: var(--fill-color);\n",
       "    height: 32px;\n",
       "    padding: 0;\n",
       "    width: 32px;\n",
       "  }\n",
       "\n",
       "  .colab-df-quickchart:hover {\n",
       "    background-color: var(--hover-bg-color);\n",
       "    box-shadow: 0 1px 2px rgba(60, 64, 67, 0.3), 0 1px 3px 1px rgba(60, 64, 67, 0.15);\n",
       "    fill: var(--button-hover-fill-color);\n",
       "  }\n",
       "\n",
       "  .colab-df-quickchart-complete:disabled,\n",
       "  .colab-df-quickchart-complete:disabled:hover {\n",
       "    background-color: var(--disabled-bg-color);\n",
       "    fill: var(--disabled-fill-color);\n",
       "    box-shadow: none;\n",
       "  }\n",
       "\n",
       "  .colab-df-spinner {\n",
       "    border: 2px solid var(--fill-color);\n",
       "    border-color: transparent;\n",
       "    border-bottom-color: var(--fill-color);\n",
       "    animation:\n",
       "      spin 1s steps(1) infinite;\n",
       "  }\n",
       "\n",
       "  @keyframes spin {\n",
       "    0% {\n",
       "      border-color: transparent;\n",
       "      border-bottom-color: var(--fill-color);\n",
       "      border-left-color: var(--fill-color);\n",
       "    }\n",
       "    20% {\n",
       "      border-color: transparent;\n",
       "      border-left-color: var(--fill-color);\n",
       "      border-top-color: var(--fill-color);\n",
       "    }\n",
       "    30% {\n",
       "      border-color: transparent;\n",
       "      border-left-color: var(--fill-color);\n",
       "      border-top-color: var(--fill-color);\n",
       "      border-right-color: var(--fill-color);\n",
       "    }\n",
       "    40% {\n",
       "      border-color: transparent;\n",
       "      border-right-color: var(--fill-color);\n",
       "      border-top-color: var(--fill-color);\n",
       "    }\n",
       "    60% {\n",
       "      border-color: transparent;\n",
       "      border-right-color: var(--fill-color);\n",
       "    }\n",
       "    80% {\n",
       "      border-color: transparent;\n",
       "      border-right-color: var(--fill-color);\n",
       "      border-bottom-color: var(--fill-color);\n",
       "    }\n",
       "    90% {\n",
       "      border-color: transparent;\n",
       "      border-bottom-color: var(--fill-color);\n",
       "    }\n",
       "  }\n",
       "</style>\n",
       "\n",
       "      <script>\n",
       "        async function quickchart(key) {\n",
       "          const quickchartButtonEl =\n",
       "            document.querySelector('#' + key + ' button');\n",
       "          quickchartButtonEl.disabled = true;  // To prevent multiple clicks.\n",
       "          quickchartButtonEl.classList.add('colab-df-spinner');\n",
       "          try {\n",
       "            const charts = await google.colab.kernel.invokeFunction(\n",
       "                'suggestCharts', [key], {});\n",
       "          } catch (error) {\n",
       "            console.error('Error during call to suggestCharts:', error);\n",
       "          }\n",
       "          quickchartButtonEl.classList.remove('colab-df-spinner');\n",
       "          quickchartButtonEl.classList.add('colab-df-quickchart-complete');\n",
       "        }\n",
       "        (() => {\n",
       "          let quickchartButtonEl =\n",
       "            document.querySelector('#df-2770d1f4-e235-4843-8f74-1ecbe589c422 button');\n",
       "          quickchartButtonEl.style.display =\n",
       "            google.colab.kernel.accessAllowed ? 'block' : 'none';\n",
       "        })();\n",
       "      </script>\n",
       "    </div>\n",
       "\n",
       "    </div>\n",
       "  </div>\n"
      ],
      "text/plain": [
       "          날짜  강력범죄  절도범죄  폭력범죄  지능범죄  풍속범죄  교통범죄  경찰서명  총범죄\n",
       "0  2020년 04월    26   142    83    71    33   182  B경찰서  537\n",
       "1  2021년 06월    12   131    78    65    30   201  E경찰서  517"
      ]
     },
     "execution_count": 14,
     "metadata": {},
     "output_type": "execute_result"
    }
   ],
   "source": [
    "# 1. 총 범죄 건수\n",
    "df['총범죄'] = df.iloc[:,1:-1].sum(axis=1)\n",
    "df.head(2)"
   ]
  },
  {
   "cell_type": "code",
   "execution_count": null,
   "id": "5a65fbe7-5a7c-4265-a225-b25484392b4d",
   "metadata": {
    "colab": {
     "base_uri": "https://localhost:8080/",
     "height": 112
    },
    "id": "ar7qmMRS_KWa",
    "outputId": "b28ee41b-ed9c-4e98-f4c0-80083f4f8af2"
   },
   "outputs": [
    {
     "data": {
      "application/vnd.google.colaboratory.intrinsic+json": {
       "summary": "{\n  \"name\": \"df\",\n  \"rows\": 50,\n  \"fields\": [\n    {\n      \"column\": \"\\ub0a0\\uc9dc\",\n      \"properties\": {\n        \"dtype\": \"string\",\n        \"num_unique_values\": 50,\n        \"samples\": [\n          \"2024\\ub144 12\\uc6d4\",\n          \"2021\\ub144 07\\uc6d4\",\n          \"2022\\ub144 08\\uc6d4\"\n        ],\n        \"semantic_type\": \"\",\n        \"description\": \"\"\n      }\n    },\n    {\n      \"column\": \"\\uac15\\ub825\\ubc94\\uc8c4\",\n      \"properties\": {\n        \"dtype\": \"number\",\n        \"std\": 5,\n        \"min\": 10,\n        \"max\": 30,\n        \"num_unique_values\": 19,\n        \"samples\": [\n          26,\n          25,\n          28\n        ],\n        \"semantic_type\": \"\",\n        \"description\": \"\"\n      }\n    },\n    {\n      \"column\": \"\\uc808\\ub3c4\\ubc94\\uc8c4\",\n      \"properties\": {\n        \"dtype\": \"number\",\n        \"std\": 14,\n        \"min\": 101,\n        \"max\": 150,\n        \"num_unique_values\": 33,\n        \"samples\": [\n          127,\n          106,\n          111\n        ],\n        \"semantic_type\": \"\",\n        \"description\": \"\"\n      }\n    },\n    {\n      \"column\": \"\\ud3ed\\ub825\\ubc94\\uc8c4\",\n      \"properties\": {\n        \"dtype\": \"number\",\n        \"std\": 6,\n        \"min\": 70,\n        \"max\": 90,\n        \"num_unique_values\": 19,\n        \"samples\": [\n          83,\n          90,\n          80\n        ],\n        \"semantic_type\": \"\",\n        \"description\": \"\"\n      }\n    },\n    {\n      \"column\": \"\\uc9c0\\ub2a5\\ubc94\\uc8c4\",\n      \"properties\": {\n        \"dtype\": \"number\",\n        \"std\": 6,\n        \"min\": 60,\n        \"max\": 80,\n        \"num_unique_values\": 19,\n        \"samples\": [\n          71,\n          67,\n          61\n        ],\n        \"semantic_type\": \"\",\n        \"description\": \"\"\n      }\n    },\n    {\n      \"column\": \"\\ud48d\\uc18d\\ubc94\\uc8c4\",\n      \"properties\": {\n        \"dtype\": \"number\",\n        \"std\": 2,\n        \"min\": 25,\n        \"max\": 35,\n        \"num_unique_values\": 11,\n        \"samples\": [\n          29,\n          33,\n          27\n        ],\n        \"semantic_type\": \"\",\n        \"description\": \"\"\n      }\n    },\n    {\n      \"column\": \"\\uad50\\ud1b5\\ubc94\\uc8c4\",\n      \"properties\": {\n        \"dtype\": \"number\",\n        \"std\": 11,\n        \"min\": 180,\n        \"max\": 220,\n        \"num_unique_values\": 28,\n        \"samples\": [\n          184,\n          204,\n          206\n        ],\n        \"semantic_type\": \"\",\n        \"description\": \"\"\n      }\n    },\n    {\n      \"column\": \"\\uacbd\\ucc30\\uc11c\\uba85\",\n      \"properties\": {\n        \"dtype\": \"category\",\n        \"num_unique_values\": 5,\n        \"samples\": [\n          \"E\\uacbd\\ucc30\\uc11c\",\n          \"D\\uacbd\\ucc30\\uc11c\",\n          \"A\\uacbd\\ucc30\\uc11c\"\n        ],\n        \"semantic_type\": \"\",\n        \"description\": \"\"\n      }\n    },\n    {\n      \"column\": \"\\ucd1d\\ubc94\\uc8c4\",\n      \"properties\": {\n        \"dtype\": \"number\",\n        \"std\": 20,\n        \"min\": 485,\n        \"max\": 573,\n        \"num_unique_values\": 36,\n        \"samples\": [\n          508,\n          514,\n          497\n        ],\n        \"semantic_type\": \"\",\n        \"description\": \"\"\n      }\n    },\n    {\n      \"column\": \"\\uc5f0\\ub3c4\",\n      \"properties\": {\n        \"dtype\": \"object\",\n        \"num_unique_values\": 5,\n        \"samples\": [\n          \"2021\",\n          \"2023\",\n          \"2024\"\n        ],\n        \"semantic_type\": \"\",\n        \"description\": \"\"\n      }\n    }\n  ]\n}",
       "type": "dataframe",
       "variable_name": "df"
      },
      "text/html": [
       "\n",
       "  <div id=\"df-40ec00ee-9f55-4a73-a654-44ccd9d0655b\" class=\"colab-df-container\">\n",
       "    <div>\n",
       "<style scoped>\n",
       "    .dataframe tbody tr th:only-of-type {\n",
       "        vertical-align: middle;\n",
       "    }\n",
       "\n",
       "    .dataframe tbody tr th {\n",
       "        vertical-align: top;\n",
       "    }\n",
       "\n",
       "    .dataframe thead th {\n",
       "        text-align: right;\n",
       "    }\n",
       "</style>\n",
       "<table border=\"1\" class=\"dataframe\">\n",
       "  <thead>\n",
       "    <tr style=\"text-align: right;\">\n",
       "      <th></th>\n",
       "      <th>날짜</th>\n",
       "      <th>강력범죄</th>\n",
       "      <th>절도범죄</th>\n",
       "      <th>폭력범죄</th>\n",
       "      <th>지능범죄</th>\n",
       "      <th>풍속범죄</th>\n",
       "      <th>교통범죄</th>\n",
       "      <th>경찰서명</th>\n",
       "      <th>총범죄</th>\n",
       "      <th>연도</th>\n",
       "    </tr>\n",
       "  </thead>\n",
       "  <tbody>\n",
       "    <tr>\n",
       "      <th>0</th>\n",
       "      <td>2020년 04월</td>\n",
       "      <td>26</td>\n",
       "      <td>142</td>\n",
       "      <td>83</td>\n",
       "      <td>71</td>\n",
       "      <td>33</td>\n",
       "      <td>182</td>\n",
       "      <td>B경찰서</td>\n",
       "      <td>537</td>\n",
       "      <td>2020</td>\n",
       "    </tr>\n",
       "    <tr>\n",
       "      <th>1</th>\n",
       "      <td>2021년 06월</td>\n",
       "      <td>12</td>\n",
       "      <td>131</td>\n",
       "      <td>78</td>\n",
       "      <td>65</td>\n",
       "      <td>30</td>\n",
       "      <td>201</td>\n",
       "      <td>E경찰서</td>\n",
       "      <td>517</td>\n",
       "      <td>2021</td>\n",
       "    </tr>\n",
       "  </tbody>\n",
       "</table>\n",
       "</div>\n",
       "    <div class=\"colab-df-buttons\">\n",
       "\n",
       "  <div class=\"colab-df-container\">\n",
       "    <button class=\"colab-df-convert\" onclick=\"convertToInteractive('df-40ec00ee-9f55-4a73-a654-44ccd9d0655b')\"\n",
       "            title=\"Convert this dataframe to an interactive table.\"\n",
       "            style=\"display:none;\">\n",
       "\n",
       "  <svg xmlns=\"http://www.w3.org/2000/svg\" height=\"24px\" viewBox=\"0 -960 960 960\">\n",
       "    <path d=\"M120-120v-720h720v720H120Zm60-500h600v-160H180v160Zm220 220h160v-160H400v160Zm0 220h160v-160H400v160ZM180-400h160v-160H180v160Zm440 0h160v-160H620v160ZM180-180h160v-160H180v160Zm440 0h160v-160H620v160Z\"/>\n",
       "  </svg>\n",
       "    </button>\n",
       "\n",
       "  <style>\n",
       "    .colab-df-container {\n",
       "      display:flex;\n",
       "      gap: 12px;\n",
       "    }\n",
       "\n",
       "    .colab-df-convert {\n",
       "      background-color: #E8F0FE;\n",
       "      border: none;\n",
       "      border-radius: 50%;\n",
       "      cursor: pointer;\n",
       "      display: none;\n",
       "      fill: #1967D2;\n",
       "      height: 32px;\n",
       "      padding: 0 0 0 0;\n",
       "      width: 32px;\n",
       "    }\n",
       "\n",
       "    .colab-df-convert:hover {\n",
       "      background-color: #E2EBFA;\n",
       "      box-shadow: 0px 1px 2px rgba(60, 64, 67, 0.3), 0px 1px 3px 1px rgba(60, 64, 67, 0.15);\n",
       "      fill: #174EA6;\n",
       "    }\n",
       "\n",
       "    .colab-df-buttons div {\n",
       "      margin-bottom: 4px;\n",
       "    }\n",
       "\n",
       "    [theme=dark] .colab-df-convert {\n",
       "      background-color: #3B4455;\n",
       "      fill: #D2E3FC;\n",
       "    }\n",
       "\n",
       "    [theme=dark] .colab-df-convert:hover {\n",
       "      background-color: #434B5C;\n",
       "      box-shadow: 0px 1px 3px 1px rgba(0, 0, 0, 0.15);\n",
       "      filter: drop-shadow(0px 1px 2px rgba(0, 0, 0, 0.3));\n",
       "      fill: #FFFFFF;\n",
       "    }\n",
       "  </style>\n",
       "\n",
       "    <script>\n",
       "      const buttonEl =\n",
       "        document.querySelector('#df-40ec00ee-9f55-4a73-a654-44ccd9d0655b button.colab-df-convert');\n",
       "      buttonEl.style.display =\n",
       "        google.colab.kernel.accessAllowed ? 'block' : 'none';\n",
       "\n",
       "      async function convertToInteractive(key) {\n",
       "        const element = document.querySelector('#df-40ec00ee-9f55-4a73-a654-44ccd9d0655b');\n",
       "        const dataTable =\n",
       "          await google.colab.kernel.invokeFunction('convertToInteractive',\n",
       "                                                    [key], {});\n",
       "        if (!dataTable) return;\n",
       "\n",
       "        const docLinkHtml = 'Like what you see? Visit the ' +\n",
       "          '<a target=\"_blank\" href=https://colab.research.google.com/notebooks/data_table.ipynb>data table notebook</a>'\n",
       "          + ' to learn more about interactive tables.';\n",
       "        element.innerHTML = '';\n",
       "        dataTable['output_type'] = 'display_data';\n",
       "        await google.colab.output.renderOutput(dataTable, element);\n",
       "        const docLink = document.createElement('div');\n",
       "        docLink.innerHTML = docLinkHtml;\n",
       "        element.appendChild(docLink);\n",
       "      }\n",
       "    </script>\n",
       "  </div>\n",
       "\n",
       "\n",
       "    <div id=\"df-6b866c30-a624-4ef7-ba90-e731bdbd3485\">\n",
       "      <button class=\"colab-df-quickchart\" onclick=\"quickchart('df-6b866c30-a624-4ef7-ba90-e731bdbd3485')\"\n",
       "                title=\"Suggest charts\"\n",
       "                style=\"display:none;\">\n",
       "\n",
       "<svg xmlns=\"http://www.w3.org/2000/svg\" height=\"24px\"viewBox=\"0 0 24 24\"\n",
       "     width=\"24px\">\n",
       "    <g>\n",
       "        <path d=\"M19 3H5c-1.1 0-2 .9-2 2v14c0 1.1.9 2 2 2h14c1.1 0 2-.9 2-2V5c0-1.1-.9-2-2-2zM9 17H7v-7h2v7zm4 0h-2V7h2v10zm4 0h-2v-4h2v4z\"/>\n",
       "    </g>\n",
       "</svg>\n",
       "      </button>\n",
       "\n",
       "<style>\n",
       "  .colab-df-quickchart {\n",
       "      --bg-color: #E8F0FE;\n",
       "      --fill-color: #1967D2;\n",
       "      --hover-bg-color: #E2EBFA;\n",
       "      --hover-fill-color: #174EA6;\n",
       "      --disabled-fill-color: #AAA;\n",
       "      --disabled-bg-color: #DDD;\n",
       "  }\n",
       "\n",
       "  [theme=dark] .colab-df-quickchart {\n",
       "      --bg-color: #3B4455;\n",
       "      --fill-color: #D2E3FC;\n",
       "      --hover-bg-color: #434B5C;\n",
       "      --hover-fill-color: #FFFFFF;\n",
       "      --disabled-bg-color: #3B4455;\n",
       "      --disabled-fill-color: #666;\n",
       "  }\n",
       "\n",
       "  .colab-df-quickchart {\n",
       "    background-color: var(--bg-color);\n",
       "    border: none;\n",
       "    border-radius: 50%;\n",
       "    cursor: pointer;\n",
       "    display: none;\n",
       "    fill: var(--fill-color);\n",
       "    height: 32px;\n",
       "    padding: 0;\n",
       "    width: 32px;\n",
       "  }\n",
       "\n",
       "  .colab-df-quickchart:hover {\n",
       "    background-color: var(--hover-bg-color);\n",
       "    box-shadow: 0 1px 2px rgba(60, 64, 67, 0.3), 0 1px 3px 1px rgba(60, 64, 67, 0.15);\n",
       "    fill: var(--button-hover-fill-color);\n",
       "  }\n",
       "\n",
       "  .colab-df-quickchart-complete:disabled,\n",
       "  .colab-df-quickchart-complete:disabled:hover {\n",
       "    background-color: var(--disabled-bg-color);\n",
       "    fill: var(--disabled-fill-color);\n",
       "    box-shadow: none;\n",
       "  }\n",
       "\n",
       "  .colab-df-spinner {\n",
       "    border: 2px solid var(--fill-color);\n",
       "    border-color: transparent;\n",
       "    border-bottom-color: var(--fill-color);\n",
       "    animation:\n",
       "      spin 1s steps(1) infinite;\n",
       "  }\n",
       "\n",
       "  @keyframes spin {\n",
       "    0% {\n",
       "      border-color: transparent;\n",
       "      border-bottom-color: var(--fill-color);\n",
       "      border-left-color: var(--fill-color);\n",
       "    }\n",
       "    20% {\n",
       "      border-color: transparent;\n",
       "      border-left-color: var(--fill-color);\n",
       "      border-top-color: var(--fill-color);\n",
       "    }\n",
       "    30% {\n",
       "      border-color: transparent;\n",
       "      border-left-color: var(--fill-color);\n",
       "      border-top-color: var(--fill-color);\n",
       "      border-right-color: var(--fill-color);\n",
       "    }\n",
       "    40% {\n",
       "      border-color: transparent;\n",
       "      border-right-color: var(--fill-color);\n",
       "      border-top-color: var(--fill-color);\n",
       "    }\n",
       "    60% {\n",
       "      border-color: transparent;\n",
       "      border-right-color: var(--fill-color);\n",
       "    }\n",
       "    80% {\n",
       "      border-color: transparent;\n",
       "      border-right-color: var(--fill-color);\n",
       "      border-bottom-color: var(--fill-color);\n",
       "    }\n",
       "    90% {\n",
       "      border-color: transparent;\n",
       "      border-bottom-color: var(--fill-color);\n",
       "    }\n",
       "  }\n",
       "</style>\n",
       "\n",
       "      <script>\n",
       "        async function quickchart(key) {\n",
       "          const quickchartButtonEl =\n",
       "            document.querySelector('#' + key + ' button');\n",
       "          quickchartButtonEl.disabled = true;  // To prevent multiple clicks.\n",
       "          quickchartButtonEl.classList.add('colab-df-spinner');\n",
       "          try {\n",
       "            const charts = await google.colab.kernel.invokeFunction(\n",
       "                'suggestCharts', [key], {});\n",
       "          } catch (error) {\n",
       "            console.error('Error during call to suggestCharts:', error);\n",
       "          }\n",
       "          quickchartButtonEl.classList.remove('colab-df-spinner');\n",
       "          quickchartButtonEl.classList.add('colab-df-quickchart-complete');\n",
       "        }\n",
       "        (() => {\n",
       "          let quickchartButtonEl =\n",
       "            document.querySelector('#df-6b866c30-a624-4ef7-ba90-e731bdbd3485 button');\n",
       "          quickchartButtonEl.style.display =\n",
       "            google.colab.kernel.accessAllowed ? 'block' : 'none';\n",
       "        })();\n",
       "      </script>\n",
       "    </div>\n",
       "\n",
       "    </div>\n",
       "  </div>\n"
      ],
      "text/plain": [
       "          날짜  강력범죄  절도범죄  폭력범죄  지능범죄  풍속범죄  교통범죄  경찰서명  총범죄    연도\n",
       "0  2020년 04월    26   142    83    71    33   182  B경찰서  537  2020\n",
       "1  2021년 06월    12   131    78    65    30   201  E경찰서  517  2021"
      ]
     },
     "execution_count": 15,
     "metadata": {},
     "output_type": "execute_result"
    }
   ],
   "source": [
    "# 2. 연도\n",
    "df['연도'] = df['날짜'].str[:4]\n",
    "df.head(2)"
   ]
  },
  {
   "cell_type": "code",
   "execution_count": null,
   "id": "96aa156f-5439-4af1-aeb5-b5a07f976a6e",
   "metadata": {
    "id": "7YZIsl4t_KaM"
   },
   "outputs": [],
   "source": [
    "# 3. 연도별 그룹핑(총범죄).sum()\n",
    "result = df.groupby(\"연도\")['총범죄'].sum()/12"
   ]
  },
  {
   "cell_type": "code",
   "execution_count": null,
   "id": "31874785-9f68-42af-9099-3fa552b8b9fb",
   "metadata": {
    "colab": {
     "base_uri": "https://localhost:8080/"
    },
    "id": "kVn_8oiQ_K-y",
    "outputId": "dd776e34-6f91-4091-d959-d7319a48f659"
   },
   "outputs": [
    {
     "name": "stdout",
     "output_type": "stream",
     "text": [
      "515\n"
     ]
    }
   ],
   "source": [
    "# 4. 가장 큰 값\n",
    "print(round(result.max()))"
   ]
  },
  {
   "cell_type": "markdown",
   "id": "432b7fdc-c43c-4db8-a011-558e605c5775",
   "metadata": {},
   "source": [
    "# 기출 5회_작업형1"
   ]
  },
  {
   "cell_type": "markdown",
   "id": "54792a0e-0272-4e83-b338-0879d3de0d95",
   "metadata": {
    "id": "HO9Cncas6GE1"
   },
   "source": [
    "## 문제 1"
   ]
  },
  {
   "cell_type": "markdown",
   "id": "09fbc22e-4277-4eb9-b7f4-89b642c219f6",
   "metadata": {
    "id": "dpx8dwl9CkQO"
   },
   "source": [
    "1. 종량제 봉투 종류가 '규격봉투'이고, 종량제 봉투 용도가 '음식물쓰레기'인 2L가격 평균 (단, 가격0 제외, 반올림 후 정수 출력)"
   ]
  },
  {
   "cell_type": "code",
   "execution_count": 28,
   "id": "ca6219c0-b441-48ed-98c5-1f843e330a5a",
   "metadata": {},
   "outputs": [
    {
     "name": "stdout",
     "output_type": "stream",
     "text": [
      "118\n"
     ]
    }
   ],
   "source": [
    "# My)\n",
    "\n",
    "import pandas as pd\n",
    "df = pd.read_csv(\"https://raw.githubusercontent.com/lovedlim/inf/refs/heads/main/p4/5_1/5-1price.csv\")\n",
    "\n",
    "cond1 = df['종량제봉투종류'] == '규격봉투'\n",
    "cond2 = df['종량제봉투용도'] == '음식물쓰레기'\n",
    "cond3 = df['2ℓ가격'] != 0\n",
    "\n",
    "df1 = df[cond1 & cond2 & cond3]\n",
    "print(round(df1['2ℓ가격'].mean()))"
   ]
  },
  {
   "cell_type": "code",
   "execution_count": null,
   "id": "adebea3d-faff-40a7-92f4-50ee34cc49fe",
   "metadata": {
    "colab": {
     "base_uri": "https://localhost:8080/"
    },
    "id": "ShDssNLn6Dw8",
    "outputId": "2d87e50a-5c20-4b31-dfed-128e706316e1"
   },
   "outputs": [
    {
     "name": "stdout",
     "output_type": "stream",
     "text": [
      "118\n"
     ]
    }
   ],
   "source": [
    "import pandas as pd\n",
    "df = pd.read_csv(\"https://raw.githubusercontent.com/lovedlim/inf/refs/heads/main/p4/5_1/5-1price.csv\")\n",
    "cond1 = df['2ℓ가격'] != 0\n",
    "cond2 = df['종량제봉투종류'] == \"규격봉투\"\n",
    "cond3 = df['종량제봉투용도'] == \"음식물쓰레기\"\n",
    "df = df[cond1 & cond2 & cond3]\n",
    "df\n",
    "print(round(df['2ℓ가격'].mean()))"
   ]
  },
  {
   "cell_type": "markdown",
   "id": "a0af1371-cb06-4fc3-8629-e5a13a5fc351",
   "metadata": {},
   "source": [
    "## 문제 2"
   ]
  },
  {
   "cell_type": "markdown",
   "id": "54a9744f-e376-4b09-9cc5-add746f49c71",
   "metadata": {
    "id": "IrnG6JMQH-Lp"
   },
   "source": [
    "2. bmi를 계산하고, 수치가 정상인 사람 수와 위험체중인 사람 수의 차이를 절대값으로 구하시오 (정수로 출력)\n",
    " - bmi(체질량지수): 몸무게(kg) / 키(m)의 제곱\n",
    "단위\n",
    "- Height: cm\n",
    "- Weight: kg\n",
    "\n",
    "\n",
    "- 저체중: BMI 18.5미만\n",
    "- 정상체중: BMI 18.5이상 ~ 23미만\n",
    "- 과체중 또는 위험체중: BMI 23 이상 ~ 25미만\n",
    "- 비만체중: 25이상"
   ]
  },
  {
   "cell_type": "code",
   "execution_count": 42,
   "id": "3e2de7d0-9da9-4f1d-9bf1-2db232b3f6d5",
   "metadata": {},
   "outputs": [
    {
     "name": "stdout",
     "output_type": "stream",
     "text": [
      "144\n"
     ]
    }
   ],
   "source": [
    "import pandas as pd\n",
    "df = pd.read_csv(\"https://raw.githubusercontent.com/lovedlim/inf/refs/heads/main/p4/5_1/5-2bmi.csv\")\n",
    "\n",
    "df['bmi'] = df['Weight']/((df['Height']/100)**2)\n",
    "\n",
    "cond1 = (18.5 <= df['bmi']) & (df['bmi'] < 23)\n",
    "cond2 = (23 <= df['bmi']) & (df['bmi'] < 25)\n",
    "print(abs(len(df[cond2])-len(df[cond1])))"
   ]
  },
  {
   "cell_type": "code",
   "execution_count": null,
   "id": "5dbdf7db-ccf9-41ff-b92f-c28eb02e7d96",
   "metadata": {
    "colab": {
     "base_uri": "https://localhost:8080/"
    },
    "id": "-3VwHCDKKjRl",
    "outputId": "5b35285c-b9be-48e2-fce1-cbca8518fa40"
   },
   "outputs": [
    {
     "name": "stdout",
     "output_type": "stream",
     "text": [
      "144\n"
     ]
    }
   ],
   "source": [
    "import pandas as pd\n",
    "df = pd.read_csv(\"https://raw.githubusercontent.com/lovedlim/inf/refs/heads/main/p4/5_1/5-2bmi.csv\")\n",
    "\n",
    "df['bmi'] = df['Weight'] / (df['Height']/100)**2\n",
    "cond1 = (df['bmi'] >= 18.5) & (df['bmi'] < 23)\n",
    "cond2 = (df['bmi'] >= 23) & (df['bmi'] < 25)\n",
    "print(abs(len(df[cond1]) - len(df[cond2])))"
   ]
  },
  {
   "cell_type": "markdown",
   "id": "8aaea107-b930-4392-a7ad-4ad1502fc694",
   "metadata": {},
   "source": [
    "## 문제 3"
   ]
  },
  {
   "cell_type": "markdown",
   "id": "4e4ed4c6-c947-441b-86f6-581782214838",
   "metadata": {
    "id": "g3z9MbO2FEN-"
   },
   "source": [
    "3. 순전입학생이 가장 많은 학교의 전체학생수 (순전입 학생 = 전입 학생 - 전출 학생)"
   ]
  },
  {
   "cell_type": "code",
   "execution_count": 53,
   "id": "42cb3eac-afc2-40d5-9bac-621903fbec71",
   "metadata": {},
   "outputs": [
    {
     "name": "stdout",
     "output_type": "stream",
     "text": [
      "230.0\n"
     ]
    }
   ],
   "source": [
    "import pandas as pd\n",
    "df = pd.read_csv(\"https://raw.githubusercontent.com/lovedlim/inf/refs/heads/main/p4/5_1/5-3student.csv\")\n",
    "\n",
    "df['순전입학생'] = df['전입학생수(계)'] - df['전출학생수(계)']\n",
    "# print(df.head())\n",
    "g1 = df.groupby(['학교명'])['순전입학생'].sum()\n",
    "top_school = g1.idxmax()\n",
    "\n",
    "cond1 = df['학교명'] == top_school\n",
    "print(df[cond1].iloc[0]['전체학생수(계)'])"
   ]
  },
  {
   "cell_type": "code",
   "execution_count": null,
   "id": "f2da197d-5de9-4aec-b0a3-73c2ad232a3d",
   "metadata": {
    "colab": {
     "base_uri": "https://localhost:8080/"
    },
    "id": "WgzH-3yB6I26",
    "outputId": "a881553d-8c6a-4694-a3f4-1c7768467aed"
   },
   "outputs": [
    {
     "name": "stdout",
     "output_type": "stream",
     "text": [
      "230\n"
     ]
    }
   ],
   "source": [
    "import pandas as pd\n",
    "df = pd.read_csv(\"https://raw.githubusercontent.com/lovedlim/inf/refs/heads/main/p4/5_1/5-3student.csv\")\n",
    "df['순전입'] = df['전입학생수(계)'] - df['전출학생수(계)']\n",
    "df = df.sort_values('순전입', ascending=False)\n",
    "print(int(df.iloc[0,-2]))"
   ]
  },
  {
   "cell_type": "markdown",
   "id": "61b6bcb7-e6b3-425c-a155-f4efbc262fb4",
   "metadata": {},
   "source": [
    "# 기출 4회_작업형1"
   ]
  },
  {
   "cell_type": "markdown",
   "id": "62d3c3d5-9845-4d14-b692-80026a7f3e74",
   "metadata": {
    "id": "abgXJ73FYi3G"
   },
   "source": [
    "## 문제 1\n",
    "1-1. age 컬럼의 3사분위수와 1사분위수의 차를 절대값으로 구하고, 소수점 버려서, 정수로 출력\n",
    "\n",
    "\n",
    "\n",
    "\n",
    "\n",
    "\n"
   ]
  },
  {
   "cell_type": "code",
   "execution_count": 33,
   "id": "da1cf7c3-a057-438b-973d-979404d805bf",
   "metadata": {},
   "outputs": [
    {
     "name": "stdout",
     "output_type": "stream",
     "text": [
      "50\n"
     ]
    }
   ],
   "source": [
    "# My)\n",
    "\n",
    "import pandas as pd\n",
    "df = pd.read_csv(\"https://raw.githubusercontent.com/lovedlim/inf/refs/heads/main/p4/4_1/basic1.csv\")\n",
    "\n",
    "Q3 = df['age'].quantile(.75)\n",
    "Q1 = df['age'].quantile(.25)\n",
    "print(int(abs(Q3-Q1)))"
   ]
  },
  {
   "cell_type": "code",
   "execution_count": null,
   "id": "cf0443c4-4903-4e80-ac81-6c030f69a48b",
   "metadata": {
    "colab": {
     "base_uri": "https://localhost:8080/"
    },
    "id": "I_YkQc7KYtYu",
    "outputId": "6593eb9c-016a-4252-ac3f-3f10958df9e8"
   },
   "outputs": [
    {
     "name": "stdout",
     "output_type": "stream",
     "text": [
      "50\n"
     ]
    }
   ],
   "source": [
    "import pandas as pd\n",
    "df = pd.read_csv(\"https://raw.githubusercontent.com/lovedlim/inf/refs/heads/main/p4/4_1/basic1.csv\")\n",
    "# print(\"1사분위: \",df['age'].quantile(0.25))\n",
    "# print(\"3사분위: \",df['age'].quantile(0.75))\n",
    "\n",
    "result = abs(df['age'].quantile(0.25) - df['age'].quantile(0.75))\n",
    "# print(\"절대값 차이: \",result)\n",
    "\n",
    "print(int(result))"
   ]
  },
  {
   "cell_type": "markdown",
   "id": "a14199ed-29f2-4def-9141-1c6321e397f2",
   "metadata": {},
   "source": [
    "## 문제 2"
   ]
  },
  {
   "cell_type": "markdown",
   "id": "feb1b8ed-57b6-4d3c-a3be-2bf71a3af486",
   "metadata": {
    "id": "QH7_XMk1Yumu"
   },
   "source": [
    "1-2.(loves반응+wows반응)/(reactions반응) 비율이 0.4보다 크고 0.5보다 작으면서, status_type=='video'인 데이터의 갯수"
   ]
  },
  {
   "cell_type": "code",
   "execution_count": 39,
   "id": "27a6fc73-ab4d-4b01-8901-0b697f240181",
   "metadata": {},
   "outputs": [
    {
     "name": "stdout",
     "output_type": "stream",
     "text": [
      "90\n"
     ]
    }
   ],
   "source": [
    "# My)\n",
    "\n",
    "import pandas as pd\n",
    "df = pd.read_csv(\"https://raw.githubusercontent.com/lovedlim/inf/refs/heads/main/p4/4_1/fb.csv\")\n",
    "\n",
    "df['check'] = (df['loves']+df['wows'])/df['reactions']\n",
    "cond1 = (df['check'] > 0.4) & (df['check'] < 0.5)\n",
    "cond2 = df['type'] == 'video'\n",
    "print(len(df[cond1 & cond2]))"
   ]
  },
  {
   "cell_type": "code",
   "execution_count": null,
   "id": "809428ab-6864-4e7f-8017-67f615dc6764",
   "metadata": {
    "colab": {
     "base_uri": "https://localhost:8080/"
    },
    "id": "3t5PEt3sYwM8",
    "outputId": "74de67a9-3283-4087-8435-683bb0cc51ef"
   },
   "outputs": [
    {
     "name": "stdout",
     "output_type": "stream",
     "text": [
      "90\n"
     ]
    }
   ],
   "source": [
    "import pandas as pd\n",
    "df = pd.read_csv(\"https://raw.githubusercontent.com/lovedlim/inf/refs/heads/main/p4/4_1/fb.csv\")\n",
    "cond1 = (df['loves'] + df['wows'])/ df['reactions'] > 0.4\n",
    "cond2 = (df['loves'] + df['wows'])/ df['reactions'] < 0.5\n",
    "cond3 = df['type'] == 'video'\n",
    "\n",
    "print(len(df[cond1 & cond2 & cond3]))"
   ]
  },
  {
   "cell_type": "markdown",
   "id": "fee4de98-8783-4178-85d1-05807a89b582",
   "metadata": {},
   "source": [
    "## 문제 3"
   ]
  },
  {
   "cell_type": "markdown",
   "id": "491fb6ba-baa2-4ee8-a5c4-8dcfb5e8f351",
   "metadata": {
    "id": "s26z5O_UYxnC"
   },
   "source": [
    "1-3. date_added가 2018년 1월 이면서 country가 United Kingdom 단독 제작인 데이터의 갯수¶"
   ]
  },
  {
   "cell_type": "code",
   "execution_count": 66,
   "id": "29d3453b-3dff-4599-ba3b-ade55dbdb38d",
   "metadata": {},
   "outputs": [
    {
     "name": "stdout",
     "output_type": "stream",
     "text": [
      "6\n"
     ]
    }
   ],
   "source": [
    "# My)\n",
    "\n",
    "import pandas as pd\n",
    "df = pd.read_csv(\"https://raw.githubusercontent.com/lovedlim/inf/refs/heads/main/p4/4_1/nf.csv\")\n",
    "\n",
    "# print(df.head(2))\n",
    "# print(df.info())\n",
    "# cond = df['date_added'].str.contains('January')\n",
    "# print(df[cond])\n",
    "\n",
    "df['date_added'] = pd.to_datetime(df['date_added'])\n",
    "df['year'] = df['date_added'].dt.year\n",
    "df['month'] = df['date_added'].dt.month\n",
    "\n",
    "cond1 = df['year'] == 2018\n",
    "cond2 = df['month'] == 1\n",
    "cond3 = df['country'] == 'United Kingdom'\n",
    "print(len(df[cond1 & cond2 & cond3]))\n",
    "# print(df[cond1 & cond2 & cond3])"
   ]
  },
  {
   "cell_type": "code",
   "execution_count": null,
   "id": "a15aeae2-3870-4fae-8768-585c251d6118",
   "metadata": {
    "colab": {
     "base_uri": "https://localhost:8080/"
    },
    "id": "H9FoO_usY0nA",
    "outputId": "4b90b14f-05d7-4ae8-81d1-5e6f6bf6cd72"
   },
   "outputs": [
    {
     "name": "stdout",
     "output_type": "stream",
     "text": [
      "6\n"
     ]
    }
   ],
   "source": [
    "# 풀이1 datatime 활용1\n",
    "import pandas as pd\n",
    "df = pd.read_csv(\"https://raw.githubusercontent.com/lovedlim/inf/refs/heads/main/p4/4_1/nf.csv\")\n",
    "\n",
    "cond1 = df['country'] == \"United Kingdom\"\n",
    "\n",
    "df['date_added'] = pd.to_datetime(df['date_added'])\n",
    "df['year'] = df['date_added'].dt.year\n",
    "df['month'] = df['date_added'].dt.month\n",
    "\n",
    "\n",
    "cond2 = df['year'] == 2018\n",
    "cond3 = df['month'] == 1\n",
    "\n",
    "print(len(df[cond1 & cond2 & cond3]))"
   ]
  },
  {
   "cell_type": "code",
   "execution_count": null,
   "id": "5aaae30d-1d3b-455a-9463-c4e7a5702b22",
   "metadata": {
    "colab": {
     "base_uri": "https://localhost:8080/"
    },
    "id": "V7aDb6hQY2FV",
    "outputId": "4c1ac793-155a-42aa-eae0-827fb383805c"
   },
   "outputs": [
    {
     "name": "stdout",
     "output_type": "stream",
     "text": [
      "6\n"
     ]
    }
   ],
   "source": [
    "# 풀이2 datatime 활용2\n",
    "import pandas as pd\n",
    "df = pd.read_csv(\"https://raw.githubusercontent.com/lovedlim/inf/refs/heads/main/p4/4_1/nf.csv\")\n",
    "\n",
    "cond1 = df['country'] == \"United Kingdom\"\n",
    "\n",
    "df['date_added'] = pd.to_datetime(df['date_added'])\n",
    "\n",
    "cond2 = df['date_added'] >= '2018-1-1'\n",
    "cond3 = df['date_added'] <= '2018-1-31'\n",
    "\n",
    "print(len(df[cond1 & cond2 & cond3]))"
   ]
  },
  {
   "cell_type": "code",
   "execution_count": null,
   "id": "3da9a6cb-be35-42cc-9b62-8b030d0060b2",
   "metadata": {
    "colab": {
     "base_uri": "https://localhost:8080/"
    },
    "id": "s2RXFS7WY3oj",
    "outputId": "b48e6e96-5ab6-44c7-ae11-f8e0a41bab2d"
   },
   "outputs": [
    {
     "name": "stdout",
     "output_type": "stream",
     "text": [
      "6\n"
     ]
    }
   ],
   "source": [
    "# 풀이3 datatime + between 활용\n",
    "import pandas as pd\n",
    "df = pd.read_csv(\"https://raw.githubusercontent.com/lovedlim/inf/refs/heads/main/p4/4_1/nf.csv\")\n",
    "\n",
    "cond1 = df['country'] == \"United Kingdom\"\n",
    "df['date_added'] = pd.to_datetime(df['date_added'])\n",
    "cond2 = df['date_added'].between('2018-1-1', '2018-1-31')\n",
    "print(len(df[cond1 & cond2]))"
   ]
  },
  {
   "cell_type": "code",
   "execution_count": null,
   "id": "7cca6bd2-4ff3-40c7-8a0c-6859f5ba2817",
   "metadata": {
    "colab": {
     "base_uri": "https://localhost:8080/"
    },
    "id": "LdHdBfcYY40l",
    "outputId": "f8855eb2-f2c8-4367-b66d-730229bfc50f"
   },
   "outputs": [
    {
     "name": "stdout",
     "output_type": "stream",
     "text": [
      "6\n"
     ]
    }
   ],
   "source": [
    "# 풀이4\n",
    "import pandas as pd\n",
    "df = pd.read_csv(\"https://raw.githubusercontent.com/lovedlim/inf/refs/heads/main/p4/4_1/nf.csv\")\n",
    "\n",
    "cond1 = df['country'] == \"United Kingdom\"\n",
    "\n",
    "df['date_added'] = df['date_added'].fillna(\"\")\n",
    "\n",
    "str1 = \"2018\"\n",
    "str2 = \"January\"\n",
    "cond2 = df['date_added'].str.contains(str1)\n",
    "cond3 = df['date_added'].str.contains(str2)\n",
    "\n",
    "print(len(df[cond1 & cond2 & cond3]))"
   ]
  },
  {
   "cell_type": "markdown",
   "id": "0d6acf0c-2757-4e6f-a878-7fe05a8a8078",
   "metadata": {},
   "source": [
    "## 문제 4"
   ]
  },
  {
   "cell_type": "markdown",
   "id": "bc3298a6-fc1c-42e0-9b2c-ae59989e1428",
   "metadata": {
    "id": "b5kJbidhY8Iw"
   },
   "source": [
    "(추가 문제) 4. 만약 'country'컬럼에 대소문자 함께 있고, 띄어쓰기가 있는 것도 있고 없는 것도 있다면?"
   ]
  },
  {
   "cell_type": "code",
   "execution_count": 76,
   "id": "3932556c-4f2e-4822-af5e-98bfcd610b49",
   "metadata": {},
   "outputs": [
    {
     "name": "stdout",
     "output_type": "stream",
     "text": [
      "6\n"
     ]
    }
   ],
   "source": [
    "# My)\n",
    "\n",
    "import pandas as pd\n",
    "df = pd.read_csv(\"https://raw.githubusercontent.com/lovedlim/inf/refs/heads/main/p4/4_1/nf.csv\")\n",
    "\n",
    "# 띄어쓰기 제거\n",
    "df['country'] = df['country'].str.replace(' ', '')\n",
    "\n",
    "# 소문자로 변경\n",
    "df['country'] = df['country'].str.lower()\n",
    "\n",
    "cond1 = df['country'] == 'unitedkingdom'\n",
    "\n",
    "df['date_added'] = pd.to_datetime(df['date_added'])\n",
    "cond2 = df['date_added'].between('2018-01-01', '2018-01-31')\n",
    "print(len(df[cond1 & cond2]))"
   ]
  },
  {
   "cell_type": "code",
   "execution_count": null,
   "id": "a1b44cfb-b40b-4814-a4f2-d3841225855d",
   "metadata": {
    "colab": {
     "base_uri": "https://localhost:8080/"
    },
    "id": "PIvA_eieY6R8",
    "outputId": "73683db0-77eb-4c0a-e039-9716dc039f8d"
   },
   "outputs": [
    {
     "name": "stdout",
     "output_type": "stream",
     "text": [
      "6\n"
     ]
    }
   ],
   "source": [
    "import pandas as pd\n",
    "df = pd.read_csv(\"https://raw.githubusercontent.com/lovedlim/inf/refs/heads/main/p4/4_1/nf.csv\")\n",
    "\n",
    "# 띄어쓰기 제거\n",
    "df['country'] = df['country'].str.replace(' ','')\n",
    "\n",
    "# 소문자로 변경\n",
    "df['country'] = df['country'].str.lower()\n",
    "df['country']\n",
    "\n",
    "cond1 = df['country'] == \"unitedkingdom\"\n",
    "\n",
    "df['date_added'] = pd.to_datetime(df['date_added'])\n",
    "df['year'] = df['date_added'].dt.year\n",
    "df['month'] = df['date_added'].dt.month\n",
    "\n",
    "cond2 = df['year'] == 2018\n",
    "cond3 = df['month'] == 1\n",
    "\n",
    "print(len(df[cond1 & cond2 & cond3]))"
   ]
  },
  {
   "cell_type": "markdown",
   "id": "d3c87666-0df0-42f5-b408-2e65dbc19e3f",
   "metadata": {
    "id": "47HsBjEbBBPA"
   },
   "source": [
    "# 기출 3회_작업형1\n",
    "- 빅데이터 분석기사 3회 실기\n",
    "- 데이터: members.csv 또는 임의 데이터 생성"
   ]
  },
  {
   "cell_type": "markdown",
   "id": "926e617b-b970-4cc5-91b8-750b220f3acc",
   "metadata": {
    "id": "WaSPmIHXojbx"
   },
   "source": [
    "## 문제1\n",
    "- 결측치 데이터(행)을 제거하고, 앞에서부터 70% 데이터만 활용해, 'f1' 컬럼 1사분위 값을 구하시오\n",
    "- 데이터: members.csv"
   ]
  },
  {
   "cell_type": "code",
   "execution_count": 13,
   "id": "e7450eec-f486-4f09-867b-172fd8badc4b",
   "metadata": {
    "id": "rX5s6Ujhojl-"
   },
   "outputs": [
    {
     "name": "stdout",
     "output_type": "stream",
     "text": [
      "57.0\n"
     ]
    }
   ],
   "source": [
    "import pandas as pd\n",
    "df = pd.read_csv(\"members.csv\")\n",
    "\n",
    "# print(df.isnull().sum())\n",
    "# print(df.shape)\n",
    "\n",
    "df = df.dropna()\n",
    "# print(df.isnull().sum())\n",
    "# print(df.shape)\n",
    "\n",
    "# print(int(len(df)*0.7))\n",
    "df = df.iloc[:int(len(df)*0.7)]\n",
    "# print(df.shape)\n",
    "\n",
    "print(df['f1'].quantile(0.25))"
   ]
  },
  {
   "cell_type": "markdown",
   "id": "67bd685a-0336-406f-b1e4-907da2f79b28",
   "metadata": {
    "id": "b1QCUZLFoj5k"
   },
   "source": [
    "## 문제2\n",
    "- index는 년도임. 2000년 데이터 중 2000년 평균보다 큰 값의 데이터 수\n",
    "- 데이터: 아래 셀 실행"
   ]
  },
  {
   "cell_type": "code",
   "execution_count": 31,
   "id": "e524048e-dbd9-4c7c-a4cc-f62dfa6b0e87",
   "metadata": {
    "id": "Kb3gQAwPoqmV"
   },
   "outputs": [
    {
     "data": {
      "text/html": [
       "<div>\n",
       "<style scoped>\n",
       "    .dataframe tbody tr th:only-of-type {\n",
       "        vertical-align: middle;\n",
       "    }\n",
       "\n",
       "    .dataframe tbody tr th {\n",
       "        vertical-align: top;\n",
       "    }\n",
       "\n",
       "    .dataframe thead th {\n",
       "        text-align: right;\n",
       "    }\n",
       "</style>\n",
       "<table border=\"1\" class=\"dataframe\">\n",
       "  <thead>\n",
       "    <tr style=\"text-align: right;\">\n",
       "      <th></th>\n",
       "      <th>0</th>\n",
       "      <th>1</th>\n",
       "      <th>2</th>\n",
       "      <th>3</th>\n",
       "      <th>4</th>\n",
       "      <th>5</th>\n",
       "      <th>6</th>\n",
       "      <th>7</th>\n",
       "      <th>8</th>\n",
       "      <th>9</th>\n",
       "      <th>...</th>\n",
       "      <th>190</th>\n",
       "      <th>191</th>\n",
       "      <th>192</th>\n",
       "      <th>193</th>\n",
       "      <th>194</th>\n",
       "      <th>195</th>\n",
       "      <th>196</th>\n",
       "      <th>197</th>\n",
       "      <th>198</th>\n",
       "      <th>199</th>\n",
       "    </tr>\n",
       "  </thead>\n",
       "  <tbody>\n",
       "    <tr>\n",
       "      <th>1999</th>\n",
       "      <td>137</td>\n",
       "      <td>74</td>\n",
       "      <td>114</td>\n",
       "      <td>140</td>\n",
       "      <td>80</td>\n",
       "      <td>150</td>\n",
       "      <td>16</td>\n",
       "      <td>133</td>\n",
       "      <td>178</td>\n",
       "      <td>181</td>\n",
       "      <td>...</td>\n",
       "      <td>124</td>\n",
       "      <td>94</td>\n",
       "      <td>118</td>\n",
       "      <td>12</td>\n",
       "      <td>50</td>\n",
       "      <td>191</td>\n",
       "      <td>137</td>\n",
       "      <td>174</td>\n",
       "      <td>56</td>\n",
       "      <td>128</td>\n",
       "    </tr>\n",
       "    <tr>\n",
       "      <th>2000</th>\n",
       "      <td>176</td>\n",
       "      <td>87</td>\n",
       "      <td>64</td>\n",
       "      <td>110</td>\n",
       "      <td>128</td>\n",
       "      <td>16</td>\n",
       "      <td>8</td>\n",
       "      <td>4</td>\n",
       "      <td>123</td>\n",
       "      <td>87</td>\n",
       "      <td>...</td>\n",
       "      <td>59</td>\n",
       "      <td>22</td>\n",
       "      <td>3</td>\n",
       "      <td>108</td>\n",
       "      <td>17</td>\n",
       "      <td>104</td>\n",
       "      <td>101</td>\n",
       "      <td>161</td>\n",
       "      <td>156</td>\n",
       "      <td>43</td>\n",
       "    </tr>\n",
       "    <tr>\n",
       "      <th>2001</th>\n",
       "      <td>128</td>\n",
       "      <td>132</td>\n",
       "      <td>123</td>\n",
       "      <td>112</td>\n",
       "      <td>134</td>\n",
       "      <td>160</td>\n",
       "      <td>180</td>\n",
       "      <td>47</td>\n",
       "      <td>115</td>\n",
       "      <td>155</td>\n",
       "      <td>...</td>\n",
       "      <td>160</td>\n",
       "      <td>111</td>\n",
       "      <td>116</td>\n",
       "      <td>75</td>\n",
       "      <td>48</td>\n",
       "      <td>51</td>\n",
       "      <td>81</td>\n",
       "      <td>101</td>\n",
       "      <td>194</td>\n",
       "      <td>73</td>\n",
       "    </tr>\n",
       "  </tbody>\n",
       "</table>\n",
       "<p>3 rows × 200 columns</p>\n",
       "</div>"
      ],
      "text/plain": [
       "      0    1    2    3    4    5    6    7    8    9    ...  190  191  192  \\\n",
       "1999  137   74  114  140   80  150   16  133  178  181  ...  124   94  118   \n",
       "2000  176   87   64  110  128   16    8    4  123   87  ...   59   22    3   \n",
       "2001  128  132  123  112  134  160  180   47  115  155  ...  160  111  116   \n",
       "\n",
       "      193  194  195  196  197  198  199  \n",
       "1999   12   50  191  137  174   56  128  \n",
       "2000  108   17  104  101  161  156   43  \n",
       "2001   75   48   51   81  101  194   73  \n",
       "\n",
       "[3 rows x 200 columns]"
      ]
     },
     "execution_count": 31,
     "metadata": {},
     "output_type": "execute_result"
    }
   ],
   "source": [
    "# 데이터 생성(먼저 실행해 주세요)\n",
    "import pandas as pd\n",
    "import random\n",
    "random.seed(2022)\n",
    "df = pd.DataFrame()\n",
    "for i in range(0, 3):\n",
    "    list_box = []\n",
    "    for k in range(0, 200):\n",
    "        ran_num = random.randint(1,200)\n",
    "        list_box.append(ran_num)\n",
    "    df[i+1999] = list_box\n",
    "df = df.T\n",
    "df"
   ]
  },
  {
   "cell_type": "code",
   "execution_count": 32,
   "id": "35146ef9-8f97-472f-9bbf-91835776b01c",
   "metadata": {
    "id": "HQvSFNkNokCN"
   },
   "outputs": [
    {
     "name": "stdout",
     "output_type": "stream",
     "text": [
      "100\n",
      "100\n"
     ]
    }
   ],
   "source": [
    "# 방법 1\n",
    "m = df.loc[2000].mean()\n",
    "print(sum(df.loc[2000, :] > m))\n",
    "\n",
    "# 방법 2\n",
    "df = df.T\n",
    "m = df[2000].mean()\n",
    "print(sum(df[2000] > m))"
   ]
  },
  {
   "cell_type": "markdown",
   "id": "dcc26600-9b5b-4279-9ff8-2dad127f82d5",
   "metadata": {
    "id": "B-At2JOqokPY"
   },
   "source": [
    "## 문제3\n",
    "- 결측치가 제일 많은 값의 컬럼명\n",
    "- 데이터: members.csv"
   ]
  },
  {
   "cell_type": "code",
   "execution_count": 44,
   "id": "cb6c118f-3af7-4e2f-b814-0da1a24a8119",
   "metadata": {
    "id": "L5JUMZMvokXo"
   },
   "outputs": [
    {
     "name": "stdout",
     "output_type": "stream",
     "text": [
      "f1\n"
     ]
    }
   ],
   "source": [
    "import pandas as pd\n",
    "df = pd.read_csv(\"https://raw.githubusercontent.com/lovedlim/inf/refs/heads/main/p1/members.csv\")\n",
    "\n",
    "# 방법 1\n",
    "# df = df.isnull().sum()\n",
    "# df = df.sort_values(ascending=False)\n",
    "# print(df.index[0])\n",
    "\n",
    "# 방법 2\n",
    "df = df.isnull().sum()\n",
    "df = df.reset_index()\n",
    "print(df.loc[3, 'index'])"
   ]
  }
 ],
 "metadata": {
  "kernelspec": {
   "display_name": "Python 3 (ipykernel)",
   "language": "python",
   "name": "python3"
  },
  "language_info": {
   "codemirror_mode": {
    "name": "ipython",
    "version": 3
   },
   "file_extension": ".py",
   "mimetype": "text/x-python",
   "name": "python",
   "nbconvert_exporter": "python",
   "pygments_lexer": "ipython3",
   "version": "3.12.6"
  }
 },
 "nbformat": 4,
 "nbformat_minor": 5
}
