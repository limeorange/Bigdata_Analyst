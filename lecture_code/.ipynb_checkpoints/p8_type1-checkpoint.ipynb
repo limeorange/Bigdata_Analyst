{
  "nbformat": 4,
  "nbformat_minor": 0,
  "metadata": {
    "colab": {
      "provenance": []
    },
    "kernelspec": {
      "name": "python3",
      "display_name": "Python 3"
    },
    "language_info": {
      "name": "python"
    }
  },
  "cells": [
    {
      "cell_type": "markdown",
      "source": [
        "## 작업형1"
      ],
      "metadata": {
        "id": "j9jYUsDdNwKF"
      }
    },
    {
      "cell_type": "markdown",
      "source": [
        "### 문제1\n",
        "1. 대륙('continent')별 맥주 소비량(‘beer_servings’)의 평균을 계산하고, 평균이 가장\n",
        " 큰 대륙을 찾으시오.\n",
        "2. 1번에서 찾은 대륙에서 맥주 소비량이 5번째로 많은 국가(‘country’)의 맥주 소비량을 구하시오."
      ],
      "metadata": {
        "id": "YAyh1xITWurF"
      }
    },
    {
      "cell_type": "code",
      "source": [
        "import pandas as pd\n",
        "df = pd.read_csv(\"https://raw.githubusercontent.com/lovedlim/inf/refs/heads/main/p4/8_1/drinks.csv\")\n",
        "df\n",
        "# 1) 대륙별 맥주 소비량의 평균\n",
        "continent = df.groupby('continent')['beer_servings'].mean() #Europe\n",
        "top_continent = continent.idxmax()\n",
        "\n",
        "# 2) 국가별 맥주 소비량\n",
        "cond = df['continent'] == top_continent\n",
        "df = df[cond]\n",
        "df = df.sort_values('beer_servings', ascending=False)\n",
        "df.iloc[4, 1] #df.iloc[4]['beer_servings']"
      ],
      "metadata": {
        "id": "cKnyz8hjYNp0",
        "colab": {
          "base_uri": "https://localhost:8080/"
        },
        "outputId": "0eb9da7b-730e-43ee-b8f3-4c0fde8b3f9d"
      },
      "execution_count": null,
      "outputs": [
        {
          "output_type": "execute_result",
          "data": {
            "text/plain": [
              "313"
            ]
          },
          "metadata": {},
          "execution_count": 1
        }
      ]
    },
    {
      "cell_type": "markdown",
      "source": [
        "### 문제2\n",
        "1. ‘관광객비율’이 두 번째로 높은 국가의 ‘사업’ 방문객 수를 a라고 정의하시오.\n",
        "2. ‘관광’이 두 번째로 높은 국가의 ‘공무’ 방문객 수를 b라고 정의하시오.\n",
        "3. a와 b의 합을 구하시오.\n",
        "- 방문객 합계 = 관광 + 공무 + 사업 + 기타\n",
        "- 관광객 비율 = 관광 / 방문객 합계"
      ],
      "metadata": {
        "id": "HPyFlnMZWwFs"
      }
    },
    {
      "cell_type": "code",
      "source": [
        "# 방법1\n",
        "import pandas as pd\n",
        "df = pd.read_csv(\"https://raw.githubusercontent.com/lovedlim/inf/refs/heads/main/p4/8_1/tourist.csv\")\n",
        "\n",
        "# 1) 방문객 합계 및 관관객 비율 계산\n",
        "df['방문객합계'] = df['관광'] + df['공무'] + df['사업'] + df['기타']\n",
        "df['관광객비율'] = df['관광'] / df['방문객합계']\n",
        "\n",
        "# 2) 조건에 맞는 값 찾기\n",
        "a = df.sort_values('관광객비율', ascending=False).iloc[1, 3] #203\n",
        "b = df.sort_values('관광', ascending=False).iloc[1, 2] #238\n",
        "print(a+b)"
      ],
      "metadata": {
        "id": "EnVLX3BqKyIZ",
        "colab": {
          "base_uri": "https://localhost:8080/"
        },
        "outputId": "1080c9df-66e3-4f8b-c874-25750f766c0b"
      },
      "execution_count": null,
      "outputs": [
        {
          "output_type": "stream",
          "name": "stdout",
          "text": [
            "441\n"
          ]
        }
      ]
    },
    {
      "cell_type": "code",
      "source": [
        "# 방법2\n",
        "import pandas as pd\n",
        "df = pd.read_csv(\"https://raw.githubusercontent.com/lovedlim/inf/refs/heads/main/p4/8_1/tourist.csv\")\n",
        "\n",
        "# 1) 방문객 합계 및 관관객 비율 계산\n",
        "df['방문객합계'] = df['관광'] + df['공무'] + df['사업'] + df['기타']\n",
        "df['관광객비율'] = df['관광'] / df['방문객합계']\n",
        "\n",
        "# 2) 조건에 맞는 값 찾기\n",
        "a = df.nlargest(2, '관광객비율').iloc[1]['사업']\n",
        "b = df.nlargest(2, '관광').iloc[1]['공무']\n",
        "\n",
        "print(a+b)"
      ],
      "metadata": {
        "id": "8Y0L2dJXYllX",
        "colab": {
          "base_uri": "https://localhost:8080/"
        },
        "outputId": "f471d41f-6ffc-40e0-ffb1-b227563bd0e4"
      },
      "execution_count": null,
      "outputs": [
        {
          "output_type": "stream",
          "name": "stdout",
          "text": [
            "441\n"
          ]
        }
      ]
    },
    {
      "cell_type": "code",
      "source": [],
      "metadata": {
        "id": "JdgG58RotQd1"
      },
      "execution_count": null,
      "outputs": []
    },
    {
      "cell_type": "code",
      "source": [],
      "metadata": {
        "id": "AG46bUFQtQgI"
      },
      "execution_count": null,
      "outputs": []
    },
    {
      "cell_type": "code",
      "source": [],
      "metadata": {
        "id": "egZWxUmgtQjc"
      },
      "execution_count": null,
      "outputs": []
    },
    {
      "cell_type": "markdown",
      "source": [
        "### 문제3\n",
        "1. 주어진 데이터에서 ‘co’와 ‘nmhc’ 컬럼을 각각 Min-Max 스케일링하시오.\n",
        "2. 스케일링된 ‘co’, ‘nmhc’ 컬럼의 표준편차를 각각 구하시오.\n",
        "3. ‘co’ 컬럼의 표준편차에서 ‘nmhc’ 컬럼의 표준편차를 뺀 값을 소수점 3자리로 반올림하여 구하시오.\n",
        "- Min-Max 스케일링 = (X - min_X) / (max_X - min_X)\n",
        "- X 변수의 최솟값: min_X\n",
        "- X 변수의 최댓값: max_X"
      ],
      "metadata": {
        "id": "GE7Ggj0KZMOx"
      }
    },
    {
      "cell_type": "code",
      "source": [
        "# 방법1\n",
        "import pandas as pd\n",
        "from sklearn.preprocessing import MinMaxScaler\n",
        "df = pd.read_csv(\"https://raw.githubusercontent.com/lovedlim/inf/refs/heads/main/p4/8_1/chem.csv\")\n",
        "\n",
        "# 1) Min-Max 스케일링 (데이터프레임으로 만들기)\n",
        "scaler = MinMaxScaler()\n",
        "df['co_scaled'] = scaler.fit_transform(df[['co']])\n",
        "df['nmhc_scaled'] = scaler.fit_transform(df[['nmhc']])\n",
        "df.head()\n",
        "\n",
        "# 2) 표준편차 계산 (판다스 표준편차)\n",
        "co_std = df['co_scaled'].std() #0.2856516497116944\n",
        "nmhc_std = df['nmhc_scaled'].std() #0.3030617020578397\n",
        "\n",
        "# 3) 표준편차 차이 계산 및 반올림\n",
        "round(co_std - nmhc_std, 3)"
      ],
      "metadata": {
        "id": "YazPGRcxgrxp",
        "colab": {
          "base_uri": "https://localhost:8080/"
        },
        "collapsed": true,
        "outputId": "f44c718a-2b85-4b9e-d18c-18e2e0c96773"
      },
      "execution_count": null,
      "outputs": [
        {
          "output_type": "execute_result",
          "data": {
            "text/plain": [
              "-0.017"
            ]
          },
          "metadata": {},
          "execution_count": 4
        }
      ]
    },
    {
      "cell_type": "code",
      "source": [
        "# 방법2\n",
        "import pandas as pd\n",
        "from sklearn.preprocessing import MinMaxScaler\n",
        "df = pd.read_csv(\"https://raw.githubusercontent.com/lovedlim/inf/refs/heads/main/p4/8_1/chem.csv\")\n",
        "\n",
        "# 1) Min-Max 스케일링 (데이터프레임으로 만들기)\n",
        "scaler = MinMaxScaler()\n",
        "co_scaled = scaler.fit_transform(df[['co']])\n",
        "nmhc_scaled = scaler.fit_transform(df[['nmhc']])\n",
        "type(co_scaled)\n",
        "\n",
        "# 2) 표준편차 계산 (넘파이 표준편차)\n",
        "co_std = co_scaled.std()\n",
        "nmhc_std = nmhc_scaled.std()\n",
        "\n",
        "# 3) 표준편차 차이 계산 및 반올림\n",
        "round(co_std - nmhc_std, 3)"
      ],
      "metadata": {
        "id": "ctWqLY_1aKn7",
        "colab": {
          "base_uri": "https://localhost:8080/"
        },
        "outputId": "b1f4a969-5626-44c8-eafe-f0396e726e97"
      },
      "execution_count": null,
      "outputs": [
        {
          "output_type": "execute_result",
          "data": {
            "text/plain": [
              "-0.017"
            ]
          },
          "metadata": {},
          "execution_count": 6
        }
      ]
    },
    {
      "cell_type": "code",
      "source": [],
      "metadata": {
        "id": "GqQuCqEBDz1g"
      },
      "execution_count": null,
      "outputs": []
    }
  ]
}