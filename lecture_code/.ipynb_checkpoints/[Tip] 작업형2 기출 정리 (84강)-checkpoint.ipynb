{
 "cells": [
  {
   "cell_type": "markdown",
   "metadata": {
    "id": "T0IKCg8d0SUo"
   },
   "source": [
    "## 기출3회(이진분류)"
   ]
  },
  {
   "cell_type": "code",
   "execution_count": null,
   "metadata": {
    "colab": {
     "base_uri": "https://localhost:8080/"
    },
    "id": "jquxTJXNyYk9",
    "outputId": "ff37bca4-305c-4dfa-9abc-b5b6685a9174"
   },
   "outputs": [
    {
     "name": "stdout",
     "output_type": "stream",
     "text": [
      "===== 데이터 크기 =====\n",
      "Train Shape: (1490, 10)\n",
      "Test Shape: (497, 9)\n",
      "===== train 데이터 샘플 =====\n",
      "   Unnamed: 0  Age               Employment Type GraduateOrNot  AnnualIncome  \\\n",
      "0         888   28  Private Sector/Self Employed           Yes       1250000   \n",
      "\n",
      "   FamilyMembers  ChronicDiseases FrequentFlyer EverTravelledAbroad  \\\n",
      "0              6                1            No                  No   \n",
      "\n",
      "   TravelInsurance  \n",
      "0                0  \n",
      "===== test 데이터 샘플 =====\n",
      "   Unnamed: 0  Age    Employment Type GraduateOrNot  AnnualIncome  \\\n",
      "0         920   32  Government Sector           Yes        650000   \n",
      "\n",
      "   FamilyMembers  ChronicDiseases FrequentFlyer EverTravelledAbroad  \n",
      "0              5                0            No                  No  \n",
      "===== 데이터 정보(자료형) =====\n",
      "<class 'pandas.core.frame.DataFrame'>\n",
      "RangeIndex: 1490 entries, 0 to 1489\n",
      "Data columns (total 10 columns):\n",
      " #   Column               Non-Null Count  Dtype \n",
      "---  ------               --------------  ----- \n",
      " 0   Unnamed: 0           1490 non-null   int64 \n",
      " 1   Age                  1490 non-null   int64 \n",
      " 2   Employment Type      1490 non-null   object\n",
      " 3   GraduateOrNot        1490 non-null   object\n",
      " 4   AnnualIncome         1490 non-null   int64 \n",
      " 5   FamilyMembers        1490 non-null   int64 \n",
      " 6   ChronicDiseases      1490 non-null   int64 \n",
      " 7   FrequentFlyer        1490 non-null   object\n",
      " 8   EverTravelledAbroad  1490 non-null   object\n",
      " 9   TravelInsurance      1490 non-null   int64 \n",
      "dtypes: int64(6), object(4)\n",
      "memory usage: 116.5+ KB\n",
      "None\n",
      "===== train 결측치 수 =====\n",
      "0\n",
      "===== test 결측치 수 =====\n",
      "0\n",
      "===== target 빈도 =====\n",
      "TravelInsurance\n",
      "0    965\n",
      "1    525\n",
      "Name: count, dtype: int64\n"
     ]
    }
   ],
   "source": [
    "# 1. 문제정의\n",
    "# 평가: roc-auc\n",
    "# target: TravelInsurance\n",
    "# 최종파일: result.csv(컬럼 1개 pred, 1확률값)\n",
    "\n",
    "# 2. 라이브러리 및 데이터 불러오기\n",
    "import pandas as pd\n",
    "train = pd.read_csv(\"https://raw.githubusercontent.com/lovedlim/inf/refs/heads/main/p4/3_2/train.csv\")\n",
    "test = pd.read_csv(\"https://raw.githubusercontent.com/lovedlim/inf/refs/heads/main/p4/3_2/test.csv\")\n",
    "\n",
    "# 3. 탐색적 데이터 분석(EDA)\n",
    "print(\"===== 데이터 크기 =====\")\n",
    "print(\"Train Shape:\", train.shape)\n",
    "print(\"Test Shape:\", test.shape)\n",
    "\n",
    "print(\"===== train 데이터 샘플 =====\")\n",
    "print(train.head(1))\n",
    "\n",
    "print(\"===== test 데이터 샘플 =====\")\n",
    "print(test.head(1))\n",
    "\n",
    "print(\"===== 데이터 정보(자료형) =====\")\n",
    "print(train.info())\n",
    "\n",
    "print(\"===== train 결측치 수 =====\")\n",
    "print(train.isnull().sum().sum())\n",
    "\n",
    "print(\"===== test 결측치 수 =====\")\n",
    "print(test.isnull().sum().sum())\n",
    "\n",
    "print(\"===== target 빈도 =====\")\n",
    "print(train['TravelInsurance'].value_counts())"
   ]
  },
  {
   "cell_type": "code",
   "execution_count": null,
   "metadata": {
    "colab": {
     "base_uri": "https://localhost:8080/"
    },
    "id": "vWu4EPtnyqs6",
    "outputId": "c7fe2cff-3cad-41f8-863b-654c21d8d2c7"
   },
   "outputs": [
    {
     "name": "stdout",
     "output_type": "stream",
     "text": [
      "(1490, 10) (497, 9)\n",
      "(1490, 14) (497, 13)\n",
      "\n",
      " ===== 분할된 데이터 크기 =====\n",
      "(1192, 13) (298, 13) (1192,) (298,)\n",
      "\n",
      " roc_auc: 0.8506578947368421\n",
      "[[0.76 0.24]\n",
      " [0.92 0.08]\n",
      " [0.88 0.12]]\n",
      "\n",
      " ===== 제출파일 (샘플) =====\n",
      "          pred\n",
      "0 0.2400000000\n",
      "1 0.0800000000\n",
      "2 0.1200000000\n",
      "3 0.9800000000\n",
      "4 0.2900000000\n",
      "\n",
      " ===== 제출파일 (샘플) =====\n",
      "(497, 1)\n"
     ]
    }
   ],
   "source": [
    "train = pd.read_csv(\"https://raw.githubusercontent.com/lovedlim/inf/refs/heads/main/p4/3_2/train.csv\")\n",
    "test = pd.read_csv(\"https://raw.githubusercontent.com/lovedlim/inf/refs/heads/main/p4/3_2/test.csv\")\n",
    "\n",
    "# 4. 데이터 전처리\n",
    "print(train.shape, test.shape)\n",
    "train = pd.get_dummies(train)\n",
    "test = pd.get_dummies(test)\n",
    "print(train.shape, test.shape)\n",
    "\n",
    "# 5. 검증 데이터 분할\n",
    "from sklearn.model_selection import train_test_split\n",
    "target = train.pop('TravelInsurance')\n",
    "X_tr, X_val, y_tr, y_val = train_test_split(train, target, test_size=0.2, random_state=0)\n",
    "\n",
    "print(\"\\n ===== 분할된 데이터 크기 =====\")\n",
    "print(X_tr.shape, X_val.shape, y_tr.shape, y_val.shape)\n",
    "\n",
    "# 6. 머신러닝 학습 및 평가\n",
    "from sklearn.ensemble import RandomForestClassifier\n",
    "rf = RandomForestClassifier(random_state=0)\n",
    "rf.fit(X_tr, y_tr)\n",
    "pred = rf.predict_proba(X_val)\n",
    "\n",
    "from sklearn.metrics import roc_auc_score\n",
    "roc_auc = roc_auc_score(y_val, pred[:,1])\n",
    "print('\\n roc_auc:', roc_auc)\n",
    "\n",
    "# 7. 예측 및 결과 파일 생성\n",
    "pred = rf.predict_proba(test)\n",
    "print(pred[:3])\n",
    "submit = pd.DataFrame({'pred':pred[:,1]})\n",
    "submit.to_csv(\"result.csv\", index=False)\n",
    "\n",
    "# 제출파일 확인\n",
    "print(\"\\n ===== 제출파일 (샘플) =====\")\n",
    "print(pd.read_csv(\"result.csv\").head())\n",
    "\n",
    "print(\"\\n ===== 제출파일 (샘플) =====\")\n",
    "print(pd.read_csv(\"result.csv\").shape)"
   ]
  },
  {
   "cell_type": "markdown",
   "metadata": {
    "id": "R_4s36Vz0aiP"
   },
   "source": [
    "### 응용"
   ]
  },
  {
   "cell_type": "code",
   "execution_count": null,
   "metadata": {
    "colab": {
     "base_uri": "https://localhost:8080/"
    },
    "id": "X2jlq0sxzNH5",
    "outputId": "a43e7c39-9eb6-4743-bb33-082c80c2cfc0"
   },
   "outputs": [
    {
     "name": "stdout",
     "output_type": "stream",
     "text": [
      "0.7448979591836735\n",
      "[0 0 0]\n",
      "\n",
      " ===== 제출파일 (샘플) =====\n",
      "   pred\n",
      "0     0\n",
      "1     0\n",
      "2     0\n",
      "3     1\n",
      "4     0\n",
      "\n",
      " ===== 제출파일 (샘플) =====\n",
      "(497, 1)\n"
     ]
    }
   ],
   "source": [
    "\n",
    "# 6. 머신러닝 학습 및 평가\n",
    "from sklearn.ensemble import RandomForestClassifier\n",
    "rf = RandomForestClassifier(random_state=0)\n",
    "rf.fit(X_tr, y_tr)\n",
    "pred = rf.predict(X_val)\n",
    "\n",
    "# f1 스코어\n",
    "from sklearn.metrics import f1_score\n",
    "print(f1_score(y_val, pred))\n",
    "\n",
    "# 7. 예측 및 결과 파일 생성\n",
    "pred = rf.predict(test)\n",
    "print(pred[:3])\n",
    "submit = pd.DataFrame({'pred':pred})\n",
    "submit.to_csv(\"result.csv\", index=False)\n",
    "\n",
    "# 제출파일 확인\n",
    "print(\"\\n ===== 제출파일 (샘플) =====\")\n",
    "print(pd.read_csv(\"result.csv\").head())\n",
    "\n",
    "print(\"\\n ===== 제출파일 (샘플) =====\")\n",
    "print(pd.read_csv(\"result.csv\").shape)"
   ]
  },
  {
   "cell_type": "markdown",
   "metadata": {
    "id": "wFU_1vsj0k4W"
   },
   "source": [
    "## 기출4회(다중분류)\n"
   ]
  },
  {
   "cell_type": "code",
   "execution_count": null,
   "metadata": {
    "colab": {
     "base_uri": "https://localhost:8080/"
    },
    "id": "xuWGihaU0Kir",
    "outputId": "dd6d1ae0-ce3c-4117-cf08-34144eae4272"
   },
   "outputs": [
    {
     "name": "stdout",
     "output_type": "stream",
     "text": [
      "===== 데이터 크기 =====\n",
      "Train Shape: (6665, 11)\n",
      "Test Shape: (2154, 10)\n",
      "\n",
      "\n",
      "===== 데이터 정보(자료형) =====\n",
      "<class 'pandas.core.frame.DataFrame'>\n",
      "RangeIndex: 6665 entries, 0 to 6664\n",
      "Data columns (total 11 columns):\n",
      " #   Column           Non-Null Count  Dtype  \n",
      "---  ------           --------------  -----  \n",
      " 0   ID               6665 non-null   int64  \n",
      " 1   Gender           6665 non-null   object \n",
      " 2   Ever_Married     6665 non-null   object \n",
      " 3   Age              6665 non-null   int64  \n",
      " 4   Graduated        6665 non-null   object \n",
      " 5   Profession       6665 non-null   object \n",
      " 6   Work_Experience  6665 non-null   float64\n",
      " 7   Spending_Score   6665 non-null   object \n",
      " 8   Family_Size      6665 non-null   float64\n",
      " 9   Var_1            6665 non-null   object \n",
      " 10  Segmentation     6665 non-null   int64  \n",
      "dtypes: float64(2), int64(3), object(6)\n",
      "memory usage: 572.9+ KB\n",
      "None\n",
      "\n",
      "\n",
      "===== train 결측치 수 =====\n",
      "0\n",
      "\n",
      "\n",
      "===== test 결측치 수 =====\n",
      "0\n",
      "\n",
      "\n",
      "===== target 빈도 =====\n",
      "Segmentation\n",
      "4    1757\n",
      "3    1720\n",
      "1    1616\n",
      "2    1572\n",
      "Name: count, dtype: int64\n"
     ]
    }
   ],
   "source": [
    "# 1. 문제정의\n",
    "# 평가: f1 macro\n",
    "# target: Segmentation\n",
    "# 최종파일: result.csv(컬럼 1개 pred)\n",
    "\n",
    "# 2. 라이브러리 및 데이터 불러오기\n",
    "import pandas as pd\n",
    "train = pd.read_csv(\"https://raw.githubusercontent.com/lovedlim/inf/refs/heads/main/p4/4_2/train.csv\")\n",
    "test = pd.read_csv(\"https://raw.githubusercontent.com/lovedlim/inf/refs/heads/main/p4/4_2/test.csv\")\n",
    "\n",
    "# 3. 탐색적 데이터 분석(EDA)\n",
    "print(\"===== 데이터 크기 =====\")\n",
    "print(\"Train Shape:\", train.shape)\n",
    "print(\"Test Shape:\", test.shape)\n",
    "print(\"\\n\") # 줄 바꿈\n",
    "\n",
    "print(\"===== 데이터 정보(자료형) =====\")\n",
    "print(train.info())\n",
    "print(\"\\n\")\n",
    "\n",
    "print(\"===== train 결측치 수 =====\")\n",
    "print(train.isnull().sum().sum())\n",
    "print(\"\\n\")\n",
    "\n",
    "print(\"===== test 결측치 수 =====\")\n",
    "print(test.isnull().sum().sum())\n",
    "print(\"\\n\")\n",
    "\n",
    "print(\"===== target 빈도 =====\")\n",
    "print(train['Segmentation'].value_counts())"
   ]
  },
  {
   "cell_type": "code",
   "execution_count": null,
   "metadata": {
    "colab": {
     "base_uri": "https://localhost:8080/"
    },
    "id": "YnT46Mg007X9",
    "outputId": "06d367d4-bab8-48b7-db63-3b04b3e98a60"
   },
   "outputs": [
    {
     "name": "stdout",
     "output_type": "stream",
     "text": [
      "\n",
      " ===== 분할된 데이터 크기 =====\n",
      "(5332, 29) (1333, 29) (5332,) (1333,)\n",
      "\n",
      " f1-macro: 0.5020137672414862\n",
      "\n",
      " ===== 제출파일 (샘플 5개) =====\n",
      "   pred\n",
      "0     2\n",
      "1     3\n",
      "2     3\n",
      "3     3\n",
      "4     1\n",
      "\n",
      " ===== 제출파일 (샘플) =====\n",
      "(2154, 1)\n"
     ]
    }
   ],
   "source": [
    "train = pd.read_csv(\"https://raw.githubusercontent.com/lovedlim/inf/refs/heads/main/p4/4_2/train.csv\")\n",
    "test = pd.read_csv(\"https://raw.githubusercontent.com/lovedlim/inf/refs/heads/main/p4/4_2/test.csv\")\n",
    "\n",
    "# 4. 데이터 전처리\n",
    "# 원핫인코딩 (target컬럼이 object형이라 제외)\n",
    "target = train.pop('Segmentation')\n",
    "\n",
    "train = pd.get_dummies(train)\n",
    "test = pd.get_dummies(test)\n",
    "\n",
    "# 5. 검증 데이터 분할\n",
    "from sklearn.model_selection import train_test_split\n",
    "X_tr, X_val, y_tr, y_val = train_test_split(train, target, test_size=0.2, random_state=0)\n",
    "\n",
    "print(\"\\n ===== 분할된 데이터 크기 =====\")\n",
    "print(X_tr.shape, X_val.shape, y_tr.shape, y_val.shape)\n",
    "\n",
    "# 6. 머신러닝 학습 및 평가\n",
    "from sklearn.ensemble import RandomForestClassifier\n",
    "rf = RandomForestClassifier(random_state=0)\n",
    "rf.fit(X_tr, y_tr)\n",
    "pred = rf.predict(X_val)\n",
    "\n",
    "from sklearn.metrics import f1_score\n",
    "f1 = f1_score(y_val, pred, average='macro')\n",
    "print('\\n f1-macro:', f1)\n",
    "\n",
    "# 7. 예측 및 결과 파일 생성\n",
    "pred = rf.predict(test)\n",
    "submit = pd.DataFrame({'pred':pred})\n",
    "submit.to_csv(\"result.csv\", index=False)\n",
    "\n",
    "# 제출파일 확인\n",
    "print(\"\\n ===== 제출파일 (샘플 5개) =====\")\n",
    "print(pd.read_csv(\"result.csv\").head())\n",
    "\n",
    "print(\"\\n ===== 제출파일 (샘플) =====\")\n",
    "print(pd.read_csv(\"result.csv\").shape)"
   ]
  },
  {
   "cell_type": "markdown",
   "metadata": {
    "id": "9eDBXFla131p"
   },
   "source": [
    "## 기출5회(회귀)"
   ]
  },
  {
   "cell_type": "code",
   "execution_count": null,
   "metadata": {
    "colab": {
     "base_uri": "https://localhost:8080/"
    },
    "id": "bL1W8Cng157h",
    "outputId": "c6292a1b-1672-4274-d9ec-cf7311e8586c"
   },
   "outputs": [
    {
     "name": "stdout",
     "output_type": "stream",
     "text": [
      "===== 데이터 크기 =====\n",
      "Train Shape: (3759, 9)\n",
      "Test Shape: (1617, 8)\n",
      "\n",
      " ===== 데이터 정보(자료형) =====\n",
      "<class 'pandas.core.frame.DataFrame'>\n",
      "RangeIndex: 3759 entries, 0 to 3758\n",
      "Data columns (total 9 columns):\n",
      " #   Column        Non-Null Count  Dtype  \n",
      "---  ------        --------------  -----  \n",
      " 0   model         3759 non-null   object \n",
      " 1   year          3759 non-null   int64  \n",
      " 2   price         3759 non-null   int64  \n",
      " 3   transmission  3759 non-null   object \n",
      " 4   mileage       3759 non-null   int64  \n",
      " 5   fuelType      3759 non-null   object \n",
      " 6   tax           3759 non-null   int64  \n",
      " 7   mpg           3759 non-null   float64\n",
      " 8   engineSize    3759 non-null   float64\n",
      "dtypes: float64(2), int64(4), object(3)\n",
      "memory usage: 264.4+ KB\n",
      "None\n",
      "\n",
      " ===== train 결측치 수 =====\n",
      "0\n",
      "\n",
      " ===== test 결측치 수 =====\n",
      "0\n",
      "\n",
      " ===== 카테고리 비교 =====\n",
      "          model transmission fuelType\n",
      "count      3759         3759     3759\n",
      "unique       19            3        3\n",
      "top      Fiesta       Manual   Petrol\n",
      "freq       1372         3234     2541\n",
      "          model transmission fuelType\n",
      "count      1617         1617     1617\n",
      "unique       19            3        3\n",
      "top      Fiesta       Manual   Petrol\n",
      "freq        591         1385     1085\n",
      "fuelType\n",
      "Petrol    2541\n",
      "Diesel    1213\n",
      "Hybrid       5\n",
      "Name: count, dtype: int64\n",
      "fuelType\n",
      "Petrol    1085\n",
      "Diesel     529\n",
      "Hybrid       3\n",
      "Name: count, dtype: int64\n",
      "\n",
      " ===== target 기술 통계 =====\n",
      "count    3759.0000000000\n",
      "mean    12353.3213620644\n",
      "std      4750.3380511564\n",
      "min      1095.0000000000\n",
      "25%      9000.0000000000\n",
      "50%     11495.0000000000\n",
      "75%     15310.0000000000\n",
      "max     48000.0000000000\n",
      "Name: price, dtype: float64\n"
     ]
    }
   ],
   "source": [
    "# 1. 문제정의\n",
    "# 평가: RMSE\n",
    "# target: price\n",
    "# 최종파일: result.csv(컬럼 1개 pred)\n",
    "\n",
    "# 2. 라이브러리 및 데이터 불러오기\n",
    "import pandas as pd\n",
    "train = pd.read_csv(\"https://raw.githubusercontent.com/lovedlim/inf/refs/heads/main/p4/5_2/train.csv\")\n",
    "test = pd.read_csv(\"https://raw.githubusercontent.com/lovedlim/inf/refs/heads/main/p4/5_2/test.csv\")\n",
    "\n",
    "# 3. 탐색적 데이터 분석(EDA)\n",
    "print(\"===== 데이터 크기 =====\")\n",
    "print(\"Train Shape:\", train.shape)\n",
    "print(\"Test Shape:\", test.shape)\n",
    "\n",
    "print(\"\\n ===== 데이터 정보(자료형) =====\")\n",
    "print(train.info())\n",
    "\n",
    "print(\"\\n ===== train 결측치 수 =====\")\n",
    "print(train.isnull().sum().sum())\n",
    "\n",
    "print(\"\\n ===== test 결측치 수 =====\")\n",
    "print(test.isnull().sum().sum())\n",
    "\n",
    "print(\"\\n ===== 카테고리 비교 =====\")\n",
    "print(train.describe(include='O'))\n",
    "print(test.describe(include='O'))\n",
    "\n",
    "# 각 컬럼별 카테고리 확인 및 비교 (3개중 1개만 샘플)\n",
    "print(train['fuelType'].value_counts())\n",
    "print(test['fuelType'].value_counts())\n",
    "\n",
    "print(\"\\n ===== target 기술 통계 =====\")\n",
    "print(train['price'].describe())"
   ]
  },
  {
   "cell_type": "markdown",
   "metadata": {
    "id": "3zD7wCuR3Vfa"
   },
   "source": [
    "### 응용"
   ]
  },
  {
   "cell_type": "code",
   "execution_count": null,
   "metadata": {
    "colab": {
     "base_uri": "https://localhost:8080/"
    },
    "id": "NxF0q6pQ2PIw",
    "outputId": "4605c519-ea99-426e-9ae3-a7fed504affc"
   },
   "outputs": [
    {
     "name": "stdout",
     "output_type": "stream",
     "text": [
      "\n",
      " ===== 카테고리 비교 =====\n",
      "model \t카테고리 동일함\n",
      "transmission \t카테고리 동일함\n",
      "fuelType \t카테고리 동일함\n"
     ]
    }
   ],
   "source": [
    "print(\"\\n ===== 카테고리 비교 =====\")\n",
    "cols = train.select_dtypes(include='object').columns\n",
    "\n",
    "for col in cols:\n",
    "    set_train = set(train[col])\n",
    "    set_test= set(test[col])\n",
    "    same = (set_train == set_test)\n",
    "    if same:\n",
    "        print(col, \"\\t카테고리 동일함\")\n",
    "    else:\n",
    "        print(col, \"\\t카테고리 동일하지 않음\")"
   ]
  },
  {
   "cell_type": "code",
   "execution_count": null,
   "metadata": {
    "colab": {
     "base_uri": "https://localhost:8080/"
    },
    "id": "QQvmWGOD26ql",
    "outputId": "a6f84401-555a-481e-81e4-0b89e9a2d5e2"
   },
   "outputs": [
    {
     "name": "stdout",
     "output_type": "stream",
     "text": [
      "\n",
      " ===== 분할된 데이터 크기 =====\n",
      "(3007, 30) (752, 30) (3007,) (752,)\n",
      "\n",
      " ===== 제출파일 (샘플 5개) =====\n",
      "              pred\n",
      "0 15586.8800000000\n",
      "1 15407.7100000000\n",
      "2 14912.4700000000\n",
      "3 18482.7300000000\n",
      "4  6168.0100000000\n",
      "\n",
      " ===== 제출파일 (샘플) =====\n",
      "(1617, 1)\n"
     ]
    }
   ],
   "source": [
    "train = pd.read_csv(\"https://raw.githubusercontent.com/lovedlim/inf/refs/heads/main/p4/5_2/train.csv\")\n",
    "test = pd.read_csv(\"https://raw.githubusercontent.com/lovedlim/inf/refs/heads/main/p4/5_2/test.csv\")\n",
    "\n",
    "# 4. 데이터 전처리\n",
    "target = train.pop('price')\n",
    "# 원핫인코딩\n",
    "train = pd.get_dummies(train)\n",
    "test = pd.get_dummies(test)\n",
    "\n",
    "# 5. 검증 데이터 분할\n",
    "from sklearn.model_selection import train_test_split\n",
    "X_tr, X_val, y_tr, y_val = train_test_split(train, target, test_size=0.2, random_state=0)\n",
    "\n",
    "print(\"\\n ===== 분할된 데이터 크기 =====\")\n",
    "print(X_tr.shape, X_val.shape, y_tr.shape, y_val.shape)\n",
    "\n",
    "# 6. 머신러닝 학습 및 평가\n",
    "from sklearn.ensemble import RandomForestRegressor\n",
    "rf = RandomForestRegressor(random_state=0)\n",
    "rf.fit(X_tr, y_tr)\n",
    "pred = rf.predict(X_val)\n",
    "\n",
    "# RMSE(Root Mean Squared Error)\n",
    "from sklearn.metrics import root_mean_squared_error\n",
    "root_mean_squared_error(y_val, pred)\n",
    "\n",
    "# rmse 함수가 없을 때 방식\n",
    "# from sklearn.metrics import mean_squared_error\n",
    "# def rmse(y_true, y_pred):\n",
    "#     mse = mean_squared_error(y_true, y_pred)\n",
    "#     return mse ** 0.5\n",
    "# result = rmse(y_val, pred)\n",
    "# print('\\n rmse:', result)\n",
    "\n",
    "# 7. 예측 및 결과 파일 생성\n",
    "pred = rf.predict(test)\n",
    "submit = pd.DataFrame({'pred':pred})\n",
    "submit.to_csv(\"result.csv\", index=False)\n",
    "\n",
    "# 제출파일 확인\n",
    "print(\"\\n ===== 제출파일 (샘플 5개) =====\")\n",
    "print(pd.read_csv(\"result.csv\").head())\n",
    "\n",
    "print(\"\\n ===== 제출파일 (샘플) =====\")\n",
    "print(pd.read_csv(\"result.csv\").shape)"
   ]
  },
  {
   "cell_type": "markdown",
   "metadata": {
    "id": "Y0tznbHj33mx"
   },
   "source": [
    "## 기출6회(다중분류)"
   ]
  },
  {
   "cell_type": "code",
   "execution_count": null,
   "metadata": {
    "colab": {
     "base_uri": "https://localhost:8080/"
    },
    "id": "s_pwhUoy3qBP",
    "outputId": "3590e66a-8139-4bf4-a83e-c1fdf174df2b"
   },
   "outputs": [
    {
     "name": "stdout",
     "output_type": "stream",
     "text": [
      "===== 데이터 크기 =====\n",
      "Train Shape: (537, 10)\n",
      "Test Shape: (231, 9)\n",
      "\n",
      "\n",
      "===== 데이터 정보(자료형) =====\n",
      "<class 'pandas.core.frame.DataFrame'>\n",
      "RangeIndex: 537 entries, 0 to 536\n",
      "Data columns (total 10 columns):\n",
      " #   Column       Non-Null Count  Dtype  \n",
      "---  ------       --------------  -----  \n",
      " 0   Compac       537 non-null    float64\n",
      " 1   Surf_Area    537 non-null    float64\n",
      " 2   Wall_Area    537 non-null    float64\n",
      " 3   Roof         537 non-null    object \n",
      " 4   Height       537 non-null    object \n",
      " 5   Orient       537 non-null    object \n",
      " 6   Glaze_Area   537 non-null    float64\n",
      " 7   Glaze_Distr  537 non-null    int64  \n",
      " 8   Cool_Load    537 non-null    float64\n",
      " 9   Heat_Load    537 non-null    object \n",
      "dtypes: float64(5), int64(1), object(4)\n",
      "memory usage: 42.1+ KB\n",
      "None\n",
      "\n",
      "\n",
      "===== train 결측치 수 =====\n",
      "0\n",
      "\n",
      "\n",
      "===== test 결측치 수 =====\n",
      "0\n",
      "\n",
      "\n",
      "===== target 빈도 =====\n",
      "Heat_Load\n",
      "Very Low     142\n",
      "Low          123\n",
      "High         122\n",
      "Very High     79\n",
      "Medium        71\n",
      "Name: count, dtype: int64\n"
     ]
    }
   ],
   "source": [
    "# 1. 문제정의\n",
    "# 평가: f1 macro\n",
    "# target: Heat_Load\n",
    "# 최종파일: result.csv(컬럼 1개 pred)\n",
    "\n",
    "# 2. 라이브러리 및 데이터 불러오기\n",
    "import pandas as pd\n",
    "train = pd.read_csv(\"https://raw.githubusercontent.com/lovedlim/inf/refs/heads/main/p4/6_2/energy_train.csv\")\n",
    "test = pd.read_csv(\"https://raw.githubusercontent.com/lovedlim/inf/refs/heads/main/p4/6_2/energy_test.csv\")\n",
    "\n",
    "# 3. 탐색적 데이터 분석(EDA)\n",
    "print(\"===== 데이터 크기 =====\")\n",
    "print(\"Train Shape:\", train.shape)\n",
    "print(\"Test Shape:\", test.shape)\n",
    "print(\"\\n\") # 줄 바꿈\n",
    "\n",
    "print(\"===== 데이터 정보(자료형) =====\")\n",
    "print(train.info())\n",
    "print(\"\\n\")\n",
    "\n",
    "print(\"===== train 결측치 수 =====\")\n",
    "print(train.isnull().sum().sum())\n",
    "print(\"\\n\")\n",
    "\n",
    "print(\"===== test 결측치 수 =====\")\n",
    "print(test.isnull().sum().sum())\n",
    "print(\"\\n\")\n",
    "\n",
    "print(\"===== target 빈도 =====\")\n",
    "print(train['Heat_Load'].value_counts())"
   ]
  },
  {
   "cell_type": "code",
   "execution_count": null,
   "metadata": {
    "colab": {
     "base_uri": "https://localhost:8080/"
    },
    "id": "UqexLL6D4QRH",
    "outputId": "a4be77eb-33d1-4259-cb9d-d4df61650f4e"
   },
   "outputs": [
    {
     "name": "stdout",
     "output_type": "stream",
     "text": [
      "\n",
      " ===== 분할된 데이터 크기 =====\n",
      "(429, 16) (108, 16) (429,) (108,)\n",
      "\n",
      " f1-macro: 0.9277616846430405\n",
      "\n",
      " ===== 제출파일 (샘플 5개) =====\n",
      "   pred\n",
      "0   Low\n",
      "1  High\n",
      "2  High\n",
      "3   Low\n",
      "4   Low\n",
      "\n",
      " ===== 제출파일 (샘플) =====\n",
      "(231, 1)\n"
     ]
    }
   ],
   "source": [
    "train = pd.read_csv(\"https://raw.githubusercontent.com/lovedlim/inf/refs/heads/main/p4/6_2/energy_train.csv\")\n",
    "test = pd.read_csv(\"https://raw.githubusercontent.com/lovedlim/inf/refs/heads/main/p4/6_2/energy_test.csv\")\n",
    "\n",
    "# 4. 데이터 전처리\n",
    "# 원핫인코딩 (target컬럼이 object형이라 제외)\n",
    "target = train.pop('Heat_Load')\n",
    "\n",
    "train = pd.get_dummies(train)\n",
    "test = pd.get_dummies(test)\n",
    "\n",
    "# 5. 검증 데이터 분할\n",
    "from sklearn.model_selection import train_test_split\n",
    "X_tr, X_val, y_tr, y_val = train_test_split(train, target, test_size=0.2, random_state=0)\n",
    "\n",
    "print(\"\\n ===== 분할된 데이터 크기 =====\")\n",
    "print(X_tr.shape, X_val.shape, y_tr.shape, y_val.shape)\n",
    "\n",
    "# 6. 머신러닝 학습 및 평가\n",
    "from sklearn.ensemble import RandomForestClassifier\n",
    "rf = RandomForestClassifier(random_state=0)\n",
    "rf.fit(X_tr, y_tr)\n",
    "pred = rf.predict(X_val)\n",
    "\n",
    "from sklearn.metrics import f1_score\n",
    "f1 = f1_score(y_val, pred, average='macro')\n",
    "print('\\n f1-macro:', f1)\n",
    "\n",
    "# 7. 예측 및 결과 파일 생성\n",
    "pred = rf.predict(test)\n",
    "submit = pd.DataFrame({'pred':pred})\n",
    "submit.to_csv(\"result.csv\", index=False)\n",
    "\n",
    "# 제출파일 확인\n",
    "print(\"\\n ===== 제출파일 (샘플 5개) =====\")\n",
    "print(pd.read_csv(\"result.csv\").head())\n",
    "\n",
    "print(\"\\n ===== 제출파일 (샘플) =====\")\n",
    "print(pd.read_csv(\"result.csv\").shape)"
   ]
  },
  {
   "cell_type": "markdown",
   "metadata": {
    "id": "51FjU4J24AiB"
   },
   "source": [
    "## 기출7회(회귀)"
   ]
  },
  {
   "cell_type": "code",
   "execution_count": null,
   "metadata": {
    "colab": {
     "base_uri": "https://localhost:8080/"
    },
    "id": "g1SWLENg4CBZ",
    "outputId": "72ff7004-d8b2-4bf4-a238-166905aa8f1e"
   },
   "outputs": [
    {
     "name": "stdout",
     "output_type": "stream",
     "text": [
      "===== 데이터 크기 =====\n",
      "Train Shape: (700, 10)\n",
      "Test Shape: (300, 9)\n",
      "\n",
      " ===== 데이터 정보(자료형) =====\n",
      "<class 'pandas.core.frame.DataFrame'>\n",
      "RangeIndex: 700 entries, 0 to 699\n",
      "Data columns (total 10 columns):\n",
      " #   Column          Non-Null Count  Dtype  \n",
      "---  ------          --------------  -----  \n",
      " 0   branch          700 non-null    object \n",
      " 1   city            700 non-null    object \n",
      " 2   customer_type   700 non-null    object \n",
      " 3   gender          700 non-null    object \n",
      " 4   product_line    700 non-null    object \n",
      " 5   total           700 non-null    float64\n",
      " 6   payment_method  700 non-null    object \n",
      " 7   rating          700 non-null    float64\n",
      " 8   time_of_day     700 non-null    object \n",
      " 9   day_name        700 non-null    object \n",
      "dtypes: float64(2), object(8)\n",
      "memory usage: 54.8+ KB\n",
      "None\n",
      "\n",
      " ===== train 결측치 수 =====\n",
      "0\n",
      "\n",
      " ===== test 결측치 수 =====\n",
      "0\n",
      "\n",
      " ===== 카테고리 비교 =====\n",
      "       branch    city customer_type gender       product_line payment_method  \\\n",
      "count     700     700           700    700                700            700   \n",
      "unique      3       3             2      2                  6              3   \n",
      "top         A  Yangon        Normal   Male  Sports and travel           Cash   \n",
      "freq      236     236           354    356                127            246   \n",
      "\n",
      "       time_of_day  day_name  \n",
      "count          700       700  \n",
      "unique           3         7  \n",
      "top        evening  Saturday  \n",
      "freq           309       114  \n",
      "       branch    city customer_type  gender            product_line  \\\n",
      "count     300     300           300     300                     300   \n",
      "unique      3       3             2       2                       6   \n",
      "top         A  Yangon        Member  Female  Electronic accessories   \n",
      "freq      104     104           155     157                      58   \n",
      "\n",
      "       payment_method time_of_day  day_name  \n",
      "count             300         300       300  \n",
      "unique              3           3         7  \n",
      "top           Ewallet     evening  Saturday  \n",
      "freq              110         123        50  \n",
      "\n",
      " ===== target 기술 통계 =====\n",
      "count       700.0000000000\n",
      "mean     485078.0175000000\n",
      "std      364390.7265411937\n",
      "min       19041.7500000000\n",
      "25%      200119.5000000000\n",
      "50%      381874.5000000000\n",
      "75%      706127.6250000000\n",
      "max     1563975.0000000002\n",
      "Name: total, dtype: float64\n"
     ]
    }
   ],
   "source": [
    "# 1. 문제정의\n",
    "# 평가: RMSE\n",
    "# target: total\n",
    "# 최종파일: result.csv(컬럼 1개 pred)\n",
    "\n",
    "# 2. 라이브러리 및 데이터 불러오기\n",
    "import pandas as pd\n",
    "train = pd.read_csv(\"https://raw.githubusercontent.com/lovedlim/inf/refs/heads/main/p4/7_2/mart_train.csv\")\n",
    "test = pd.read_csv(\"https://raw.githubusercontent.com/lovedlim/inf/refs/heads/main/p4/7_2/mart_test.csv\")\n",
    "\n",
    "# 3. 탐색적 데이터 분석(EDA)\n",
    "print(\"===== 데이터 크기 =====\")\n",
    "print(\"Train Shape:\", train.shape)\n",
    "print(\"Test Shape:\", test.shape)\n",
    "\n",
    "print(\"\\n ===== 데이터 정보(자료형) =====\")\n",
    "print(train.info())\n",
    "\n",
    "print(\"\\n ===== train 결측치 수 =====\")\n",
    "print(train.isnull().sum().sum())\n",
    "\n",
    "print(\"\\n ===== test 결측치 수 =====\")\n",
    "print(test.isnull().sum().sum())\n",
    "\n",
    "print(\"\\n ===== 카테고리 비교 =====\")\n",
    "print(train.describe(include='O'))\n",
    "print(test.describe(include='O'))\n",
    "\n",
    "print(\"\\n ===== target 기술 통계 =====\")\n",
    "print(train['total'].describe())"
   ]
  },
  {
   "cell_type": "code",
   "execution_count": null,
   "metadata": {
    "colab": {
     "base_uri": "https://localhost:8080/",
     "height": 335
    },
    "id": "MrWXPe204kD5",
    "outputId": "e7b53b2c-3d95-4171-f4c4-40d014153b81"
   },
   "outputs": [
    {
     "data": {
      "text/html": [
       "<div>\n",
       "<style scoped>\n",
       "    .dataframe tbody tr th:only-of-type {\n",
       "        vertical-align: middle;\n",
       "    }\n",
       "\n",
       "    .dataframe tbody tr th {\n",
       "        vertical-align: top;\n",
       "    }\n",
       "\n",
       "    .dataframe thead th {\n",
       "        text-align: right;\n",
       "    }\n",
       "</style>\n",
       "<table border=\"1\" class=\"dataframe\">\n",
       "  <thead>\n",
       "    <tr style=\"text-align: right;\">\n",
       "      <th></th>\n",
       "      <th>total</th>\n",
       "    </tr>\n",
       "  </thead>\n",
       "  <tbody>\n",
       "    <tr>\n",
       "      <th>count</th>\n",
       "      <td>700.0000000000</td>\n",
       "    </tr>\n",
       "    <tr>\n",
       "      <th>mean</th>\n",
       "      <td>485078.0175000000</td>\n",
       "    </tr>\n",
       "    <tr>\n",
       "      <th>std</th>\n",
       "      <td>364390.7265411937</td>\n",
       "    </tr>\n",
       "    <tr>\n",
       "      <th>min</th>\n",
       "      <td>19041.7500000000</td>\n",
       "    </tr>\n",
       "    <tr>\n",
       "      <th>25%</th>\n",
       "      <td>200119.5000000000</td>\n",
       "    </tr>\n",
       "    <tr>\n",
       "      <th>50%</th>\n",
       "      <td>381874.5000000000</td>\n",
       "    </tr>\n",
       "    <tr>\n",
       "      <th>75%</th>\n",
       "      <td>706127.6250000000</td>\n",
       "    </tr>\n",
       "    <tr>\n",
       "      <th>max</th>\n",
       "      <td>1563975.0000000002</td>\n",
       "    </tr>\n",
       "  </tbody>\n",
       "</table>\n",
       "</div><br><label><b>dtype:</b> float64</label>"
      ],
      "text/plain": [
       "count       700.0000000000\n",
       "mean     485078.0175000000\n",
       "std      364390.7265411937\n",
       "min       19041.7500000000\n",
       "25%      200119.5000000000\n",
       "50%      381874.5000000000\n",
       "75%      706127.6250000000\n",
       "max     1563975.0000000002\n",
       "Name: total, dtype: float64"
      ]
     },
     "execution_count": 47,
     "metadata": {},
     "output_type": "execute_result"
    }
   ],
   "source": [
    "pd.set_option('display.float_format', '{:.10f}'.format)\n",
    "train['total'].describe()"
   ]
  },
  {
   "cell_type": "code",
   "execution_count": null,
   "metadata": {
    "colab": {
     "base_uri": "https://localhost:8080/"
    },
    "id": "PuIXwarY4zLm",
    "outputId": "ed1a9a34-e306-49db-8759-99606d852e94"
   },
   "outputs": [
    {
     "name": "stdout",
     "output_type": "stream",
     "text": [
      "\n",
      " ===== 분할된 데이터 크기 =====\n",
      "(560, 30) (140, 30) (560,) (140,)\n",
      "\n",
      " ===== 제출파일 (샘플 5개) =====\n",
      "               pred\n",
      "0 395781.4350000000\n",
      "1 638762.6700000000\n",
      "2 326036.8125000000\n",
      "3 569221.3800000000\n",
      "4 489358.8000000000\n",
      "\n",
      " ===== 제출파일 (샘플) =====\n",
      "(300, 1)\n"
     ]
    }
   ],
   "source": [
    "train = pd.read_csv(\"https://raw.githubusercontent.com/lovedlim/inf/refs/heads/main/p4/7_2/mart_train.csv\")\n",
    "test = pd.read_csv(\"https://raw.githubusercontent.com/lovedlim/inf/refs/heads/main/p4/7_2/mart_test.csv\")\n",
    "\n",
    "# 4. 데이터 전처리\n",
    "# 원핫인코딩\n",
    "train = pd.get_dummies(train)\n",
    "test = pd.get_dummies(test)\n",
    "\n",
    "# 5. 검증 데이터 분할\n",
    "from sklearn.model_selection import train_test_split\n",
    "target = train.pop('total')\n",
    "X_tr, X_val, y_tr, y_val = train_test_split(train, target, test_size=0.2, random_state=0)\n",
    "\n",
    "print(\"\\n ===== 분할된 데이터 크기 =====\")\n",
    "print(X_tr.shape, X_val.shape, y_tr.shape, y_val.shape)\n",
    "\n",
    "# 6. 머신러닝 학습 및 평가\n",
    "from sklearn.ensemble import RandomForestRegressor\n",
    "rf = RandomForestRegressor(random_state=0)\n",
    "rf.fit(X_tr, y_tr)\n",
    "pred = rf.predict(X_val)\n",
    "\n",
    "# RMSE(Root Mean Squared Error)\n",
    "from sklearn.metrics import root_mean_squared_error\n",
    "root_mean_squared_error(y_val, pred)\n",
    "\n",
    "# rmse 함수가 없을 때 방식\n",
    "# from sklearn.metrics import mean_squared_error\n",
    "# def rmse(y_true, y_pred):\n",
    "#     mse = mean_squared_error(y_true, y_pred)\n",
    "#     return mse ** 0.5\n",
    "# result = rmse(y_val, pred)\n",
    "# print('\\n rmse:', result)\n",
    "\n",
    "# 7. 예측 및 결과 파일 생성\n",
    "pred = rf.predict(test)\n",
    "submit = pd.DataFrame({'pred':pred})\n",
    "submit.to_csv(\"result.csv\", index=False)\n",
    "\n",
    "# 제출파일 확인\n",
    "print(\"\\n ===== 제출파일 (샘플 5개) =====\")\n",
    "print(pd.read_csv(\"result.csv\").head())\n",
    "\n",
    "print(\"\\n ===== 제출파일 (샘플) =====\")\n",
    "print(pd.read_csv(\"result.csv\").shape)"
   ]
  },
  {
   "cell_type": "code",
   "execution_count": null,
   "metadata": {
    "id": "80JC1_IU48Fn"
   },
   "outputs": [],
   "source": []
  },
  {
   "cell_type": "markdown",
   "metadata": {
    "id": "WZI7Oe6zSzg8"
   },
   "source": [
    "## 기출8회(회귀)"
   ]
  },
  {
   "cell_type": "code",
   "execution_count": null,
   "metadata": {
    "colab": {
     "base_uri": "https://localhost:8080/"
    },
    "id": "GZfC1iIRTQu8",
    "outputId": "c5f7155b-0033-41c2-ebf5-52327c37e13c"
   },
   "outputs": [
    {
     "name": "stdout",
     "output_type": "stream",
     "text": [
      "===== 데이터 크기 =====\n",
      "Train Shape: (4116, 19)\n",
      "Test Shape: (1764, 18)\n",
      "\n",
      " ===== 데이터 정보(자료형) =====\n",
      "<class 'pandas.core.frame.DataFrame'>\n",
      "RangeIndex: 4116 entries, 0 to 4115\n",
      "Data columns (total 19 columns):\n",
      " #   Column            Non-Null Count  Dtype  \n",
      "---  ------            --------------  -----  \n",
      " 0   customerID        4116 non-null   object \n",
      " 1   gender            4116 non-null   object \n",
      " 2   SeniorCitizen     4116 non-null   int64  \n",
      " 3   Partner           4116 non-null   object \n",
      " 4   Dependents        4116 non-null   object \n",
      " 5   tenure            4116 non-null   int64  \n",
      " 6   PhoneService      4116 non-null   object \n",
      " 7   MultipleLines     4116 non-null   object \n",
      " 8   InternetService   4116 non-null   object \n",
      " 9   OnlineSecurity    4116 non-null   object \n",
      " 10  OnlineBackup      4116 non-null   object \n",
      " 11  DeviceProtection  4116 non-null   object \n",
      " 12  TechSupport       4116 non-null   object \n",
      " 13  StreamingTV       4116 non-null   object \n",
      " 14  StreamingMovies   4116 non-null   object \n",
      " 15  Contract          4116 non-null   object \n",
      " 16  PaperlessBilling  4116 non-null   object \n",
      " 17  PaymentMethod     4116 non-null   object \n",
      " 18  TotalCharges      4116 non-null   float64\n",
      "dtypes: float64(1), int64(2), object(16)\n",
      "memory usage: 611.1+ KB\n",
      "None\n",
      "\n",
      " ===== train 결측치 수 =====\n",
      "0\n",
      "\n",
      " ===== test 결측치 수 =====\n",
      "0\n",
      "\n",
      " ===== customerID unique 수 =====\n",
      "4116\n",
      "\n",
      " ===== target 기술 통계 =====\n",
      "count   4116.0000000000\n",
      "mean    2566.5807823129\n",
      "std     1911.3567661100\n",
      "min       20.0300000000\n",
      "25%     1020.9225000000\n",
      "50%     2144.2850000000\n",
      "75%     3765.6700000000\n",
      "max     8589.6000000000\n",
      "Name: TotalCharges, dtype: float64\n"
     ]
    }
   ],
   "source": [
    "# 문제정의\n",
    "# 평가: MAE\n",
    "# target: TotalCharges\n",
    "# 최종파일: result.csv(컬럼 1개 pred)\n",
    "\n",
    "# 라이브러리 및 데이터 불러오기\n",
    "import pandas as pd\n",
    "train = pd.read_csv(\"https://raw.githubusercontent.com/lovedlim/inf/refs/heads/main/p4/8_2/churn_train.csv\")\n",
    "test = pd.read_csv(\"https://raw.githubusercontent.com/lovedlim/inf/refs/heads/main/p4/8_2/churn_test.csv\")\n",
    "\n",
    "# 탐색적 데이터 분석(EDA)\n",
    "print(\"===== 데이터 크기 =====\")\n",
    "print(\"Train Shape:\", train.shape)\n",
    "print(\"Test Shape:\", test.shape)\n",
    "\n",
    "print(\"\\n ===== 데이터 정보(자료형) =====\")\n",
    "print(train.info())\n",
    "\n",
    "print(\"\\n ===== train 결측치 수 =====\")\n",
    "print(train.isnull().sum().sum())\n",
    "\n",
    "print(\"\\n ===== test 결측치 수 =====\")\n",
    "print(test.isnull().sum().sum())\n",
    "\n",
    "print(\"\\n ===== customerID unique 수 =====\")\n",
    "print(train['customerID'].nunique())\n",
    "\n",
    "print(\"\\n ===== target 기술 통계 =====\")\n",
    "print(train['TotalCharges'].describe())"
   ]
  },
  {
   "cell_type": "code",
   "execution_count": null,
   "metadata": {
    "colab": {
     "base_uri": "https://localhost:8080/"
    },
    "id": "D2sOZQb1TktA",
    "outputId": "b1cc948e-829c-42e9-8def-1025435caa8c"
   },
   "outputs": [
    {
     "name": "stdout",
     "output_type": "stream",
     "text": [
      "951.0960435538027\n",
      "952.7925407798712\n"
     ]
    }
   ],
   "source": [
    "# 데이터\n",
    "train = pd.read_csv(\"https://raw.githubusercontent.com/lovedlim/inf/refs/heads/main/p4/8_2/churn_train.csv\")\n",
    "test = pd.read_csv(\"https://raw.githubusercontent.com/lovedlim/inf/refs/heads/main/p4/8_2/churn_test.csv\")\n",
    "\n",
    "# 데이터 전처리\n",
    "train = train.drop('customerID', axis=1) # 값이 모두 유니크해도 숫자형이면 유지하지만, 문자형이라 ID는 삭제했습니다\n",
    "test = test.drop(['customerID'], axis=1)\n",
    "target = train.pop('TotalCharges')\n",
    "\n",
    "# 레이블 인코딩\n",
    "from sklearn.preprocessing import LabelEncoder\n",
    "cols = train.select_dtypes(include='O').columns\n",
    "\n",
    "for col in cols:\n",
    "    le = LabelEncoder()\n",
    "    train[col] = le.fit_transform(train[col])\n",
    "    test[col] = le.transform(test[col])\n",
    "\n",
    "# 검증데이터 분리\n",
    "from sklearn.model_selection import train_test_split\n",
    "X_tr, X_val, y_tr, y_val = train_test_split(train, target, test_size=0.2, random_state=0)\n",
    "\n",
    "# 랜덤포레스트\n",
    "from sklearn.ensemble import RandomForestRegressor\n",
    "rf = RandomForestRegressor(random_state=0)\n",
    "rf.fit(X_tr, y_tr)\n",
    "pred = rf.predict(X_val)\n",
    "\n",
    "# MAE\n",
    "from sklearn.metrics import mean_absolute_error\n",
    "print(mean_absolute_error(y_val, pred))\n",
    "\n",
    "# LightGBM\n",
    "import lightgbm as lgb\n",
    "lg = lgb.LGBMRegressor(random_state=0, verbose=-1)\n",
    "lg.fit(X_tr, y_tr)\n",
    "pred = lg.predict(X_val)\n",
    "print(mean_absolute_error(y_val, pred))\n",
    "\n",
    "# 최종 제출 파일\n",
    "pred = rf.predict(test)\n",
    "result = pd.DataFrame({\n",
    "    'pred':pred\n",
    "})\n",
    "result.to_csv(\"result.csv\", index=False)"
   ]
  },
  {
   "cell_type": "code",
   "execution_count": null,
   "metadata": {
    "id": "1FipEVuhTqU9"
   },
   "outputs": [],
   "source": []
  },
  {
   "cell_type": "markdown",
   "metadata": {
    "id": "iRVj8B4CT7zh"
   },
   "source": [
    "## 기출9회(다중분류)"
   ]
  },
  {
   "cell_type": "code",
   "execution_count": null,
   "metadata": {
    "colab": {
     "base_uri": "https://localhost:8080/"
    },
    "id": "un06iuedUHQk",
    "outputId": "93a1e4bf-3e2d-4b14-821c-4c8b8398df30"
   },
   "outputs": [
    {
     "name": "stdout",
     "output_type": "stream",
     "text": [
      "===== 데이터 크기 =====\n",
      "Train Shape: (4000, 9)\n",
      "Test Shape: (1000, 8)\n",
      "\n",
      " ===== 데이터 샘플 =====\n",
      "              농업면적    연도  지역          비료사용량           비료잔여량 작물종류 토양유형  농약검출여부  \\\n",
      "0 20079.6528371504  2004  대구 407.9855156285  146.2905074267   보리   점토       2   \n",
      "1 73858.6432041811  2012  울산 221.2296923769 1967.3336375662    밀   점토       0   \n",
      "2 65718.1508605031  2012  강원 370.9672049684 2253.5226100728    쌀   점토       0   \n",
      "3 37366.1829016867  2005  광주 274.1282360847 1487.5352651845    쌀   양토       0   \n",
      "4 81515.1512890877  2007  충남 213.4106549817  683.3067445097    쌀   양토       1   \n",
      "\n",
      "  등급  \n",
      "0  C  \n",
      "1  B  \n",
      "2  B  \n",
      "3  B  \n",
      "4  B  \n",
      "\n",
      " ===== 데이터 정보(자료형) =====\n",
      "<class 'pandas.core.frame.DataFrame'>\n",
      "RangeIndex: 4000 entries, 0 to 3999\n",
      "Data columns (total 9 columns):\n",
      " #   Column  Non-Null Count  Dtype  \n",
      "---  ------  --------------  -----  \n",
      " 0   농업면적    4000 non-null   float64\n",
      " 1   연도      4000 non-null   int64  \n",
      " 2   지역      4000 non-null   object \n",
      " 3   비료사용량   4000 non-null   float64\n",
      " 4   비료잔여량   4000 non-null   float64\n",
      " 5   작물종류    4000 non-null   object \n",
      " 6   토양유형    4000 non-null   object \n",
      " 7   농약검출여부  4000 non-null   int64  \n",
      " 8   등급      4000 non-null   object \n",
      "dtypes: float64(3), int64(2), object(4)\n",
      "memory usage: 281.4+ KB\n",
      "None\n",
      "\n",
      " ===== train object컬럼 unique 수 =====\n",
      "          지역  작물종류  토양유형    등급\n",
      "count   4000  4000  4000  4000\n",
      "unique    15     3     3     3\n",
      "top       전북    보리    양토     A\n",
      "freq     302  1374  1357  1364\n",
      "\n",
      " ===== test object컬럼 unique 수 =====\n",
      "          지역  작물종류  토양유형    등급\n",
      "count   1000  1000  1000  1000\n",
      "unique    15     3     3     3\n",
      "top       대전     쌀    양토     A\n",
      "freq      84   352   347   336\n",
      "\n",
      " ===== train 결측치 수 =====\n",
      "0\n",
      "\n",
      " ===== test 결측치 수 =====\n",
      "0\n",
      "\n",
      " ===== target unique 수 =====\n",
      "농약검출여부\n",
      "2    1989\n",
      "0    1758\n",
      "1     253\n",
      "Name: count, dtype: int64\n"
     ]
    }
   ],
   "source": [
    "\n",
    "# 문제정의\n",
    "# 평가: f1-macro\n",
    "# target: 농약검출여부\n",
    "# 최종파일: result.csv(컬럼 1개 pred)\n",
    "\n",
    "# 라이브러리 및 데이터 불러오기\n",
    "import pandas as pd\n",
    "train = pd.read_csv(\"https://raw.githubusercontent.com/lovedlim/inf/refs/heads/main/p4/9_2/farm_train.csv\")\n",
    "test = pd.read_csv(\"https://raw.githubusercontent.com/lovedlim/inf/refs/heads/main/p4/9_2/farm_test.csv\")\n",
    "\n",
    "\n",
    "# 탐색적 데이터 분석(EDA)\n",
    "print(\"===== 데이터 크기 =====\")\n",
    "print(\"Train Shape:\", train.shape)\n",
    "print(\"Test Shape:\", test.shape)\n",
    "\n",
    "print(\"\\n ===== 데이터 샘플 =====\")\n",
    "print(train.head())\n",
    "\n",
    "print(\"\\n ===== 데이터 정보(자료형) =====\")\n",
    "print(train.info())\n",
    "\n",
    "print(\"\\n ===== train object컬럼 unique 수 =====\")\n",
    "print(train.describe(include='object'))\n",
    "\n",
    "print(\"\\n ===== test object컬럼 unique 수 =====\")\n",
    "print(test.describe(include='object'))\n",
    "\n",
    "print(\"\\n ===== train 결측치 수 =====\")\n",
    "print(train.isnull().sum().sum())\n",
    "\n",
    "print(\"\\n ===== test 결측치 수 =====\")\n",
    "print(test.isnull().sum().sum())\n",
    "\n",
    "print(\"\\n ===== target unique 수 =====\")\n",
    "print(train['농약검출여부'].value_counts())\n"
   ]
  },
  {
   "cell_type": "code",
   "execution_count": null,
   "metadata": {
    "colab": {
     "base_uri": "https://localhost:8080/"
    },
    "id": "oBkehddDUMEF",
    "outputId": "ef4b3db3-4f5c-40a0-80e5-0ff4f525b417"
   },
   "outputs": [
    {
     "name": "stdout",
     "output_type": "stream",
     "text": [
      "랜덤포레스트\n",
      "0.8532014300116062\n",
      "lightgbm\n",
      "0.9100316620356779\n"
     ]
    }
   ],
   "source": [
    "# 데이터 다시 불러오기\n",
    "train = pd.read_csv(\"https://raw.githubusercontent.com/lovedlim/inf/refs/heads/main/p4/9_2/farm_train.csv\")\n",
    "test = pd.read_csv(\"https://raw.githubusercontent.com/lovedlim/inf/refs/heads/main/p4/9_2/farm_test.csv\")\n",
    "\n",
    "# 데이터 전처리\n",
    "target = train.pop('농약검출여부')\n",
    "\n",
    "# 원핫 인코딩\n",
    "train = pd.get_dummies(train)\n",
    "test = pd.get_dummies(test)\n",
    "\n",
    "# 검증데이터 분리\n",
    "from sklearn.model_selection import train_test_split\n",
    "X_tr, X_val, y_tr, y_val = train_test_split(train, target, test_size=0.2, random_state=0)\n",
    "\n",
    "# 랜덤포레스트\n",
    "from sklearn.ensemble import RandomForestClassifier\n",
    "rf = RandomForestClassifier(random_state=0)\n",
    "rf.fit(X_tr, y_tr)\n",
    "pred = rf.predict(X_val)\n",
    "\n",
    "# macro F1 score\n",
    "from sklearn.metrics import f1_score\n",
    "print(\"랜덤포레스트\")\n",
    "print(f1_score(y_val, pred, average='macro'))\n",
    "\n",
    "# LightGBM\n",
    "import lightgbm as lgb\n",
    "lg = lgb.LGBMClassifier(random_state=0, verbose=-1)\n",
    "lg.fit(X_tr, y_tr)\n",
    "pred = lg.predict(X_val)\n",
    "print(\"lightgbm\")\n",
    "print(f1_score(y_val, pred, average='macro'))\n",
    "\n",
    "# 최종 제출 파일 (lightGBM)\n",
    "pred = lg.predict(test)\n",
    "result = pd.DataFrame({\n",
    "    'pred':pred\n",
    "})\n",
    "result.to_csv(\"result.csv\", index=False)\n"
   ]
  },
  {
   "cell_type": "code",
   "execution_count": null,
   "metadata": {
    "id": "0Wehx7ICUe6v"
   },
   "outputs": [],
   "source": []
  }
 ],
 "metadata": {
  "colab": {
   "provenance": [],
   "toc_visible": true
  },
  "kernelspec": {
   "display_name": "Python 3 (ipykernel)",
   "language": "python",
   "name": "python3"
  },
  "language_info": {
   "codemirror_mode": {
    "name": "ipython",
    "version": 3
   },
   "file_extension": ".py",
   "mimetype": "text/x-python",
   "name": "python",
   "nbconvert_exporter": "python",
   "pygments_lexer": "ipython3",
   "version": "3.12.6"
  }
 },
 "nbformat": 4,
 "nbformat_minor": 4
}
