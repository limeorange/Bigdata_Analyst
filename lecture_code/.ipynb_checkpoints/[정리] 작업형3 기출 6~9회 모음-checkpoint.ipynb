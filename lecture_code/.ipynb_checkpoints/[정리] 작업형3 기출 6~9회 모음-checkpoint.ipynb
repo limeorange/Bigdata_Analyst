{
 "cells": [
  {
   "cell_type": "markdown",
   "id": "6e247c52-68b8-4306-a9c7-138ef33fe69f",
   "metadata": {},
   "source": [
    "# 기출 9회_작업형3"
   ]
  },
  {
   "cell_type": "markdown",
   "id": "1df9ba75-fef4-45a2-ba45-54bd1b6e1a58",
   "metadata": {
    "id": "5JYhL_JT3vMB"
   },
   "source": [
    "## 문제1. 다중 선형 회귀\n",
    "주어진 데이터에서 id를 기준으로 다음과 같이 데이터를 분할하여 아래 소문제를 해결한다.\n",
    "- train 데이터: 1 ≤ id ≤ 140\n",
    "- test 데이터: id > 140\n",
    "\n",
    "### 문제1-1\n",
    "train 데이터에서 c1, c2, c3, c4, c5를 독립변수로, design을 종속변수로 하는 다중 회귀모형을 적합한 후, 절편을 제외한 독립변수 중 p-value가 0.05보다 작은 변수의 개수를 구하시오."
   ]
  },
  {
   "cell_type": "code",
   "execution_count": 184,
   "id": "9307d4e6-a019-4b17-ad2d-aa8b0427e19b",
   "metadata": {
    "colab": {
     "base_uri": "https://localhost:8080/",
     "height": 206
    },
    "id": "LZUmEixt3uq_",
    "outputId": "a8249397-4e16-46fc-b3a9-b0c94c9393d9"
   },
   "outputs": [
    {
     "data": {
      "text/html": [
       "<div>\n",
       "<style scoped>\n",
       "    .dataframe tbody tr th:only-of-type {\n",
       "        vertical-align: middle;\n",
       "    }\n",
       "\n",
       "    .dataframe tbody tr th {\n",
       "        vertical-align: top;\n",
       "    }\n",
       "\n",
       "    .dataframe thead th {\n",
       "        text-align: right;\n",
       "    }\n",
       "</style>\n",
       "<table border=\"1\" class=\"dataframe\">\n",
       "  <thead>\n",
       "    <tr style=\"text-align: right;\">\n",
       "      <th></th>\n",
       "      <th>id</th>\n",
       "      <th>design</th>\n",
       "      <th>c1</th>\n",
       "      <th>c2</th>\n",
       "      <th>c3</th>\n",
       "      <th>c4</th>\n",
       "      <th>c5</th>\n",
       "    </tr>\n",
       "  </thead>\n",
       "  <tbody>\n",
       "    <tr>\n",
       "      <th>0</th>\n",
       "      <td>1</td>\n",
       "      <td>58.962471</td>\n",
       "      <td>0.374540</td>\n",
       "      <td>0.642032</td>\n",
       "      <td>0.103124</td>\n",
       "      <td>0.168935</td>\n",
       "      <td>0.707239</td>\n",
       "    </tr>\n",
       "    <tr>\n",
       "      <th>1</th>\n",
       "      <td>2</td>\n",
       "      <td>42.006534</td>\n",
       "      <td>0.950714</td>\n",
       "      <td>0.084140</td>\n",
       "      <td>0.902553</td>\n",
       "      <td>0.278590</td>\n",
       "      <td>0.152539</td>\n",
       "    </tr>\n",
       "    <tr>\n",
       "      <th>2</th>\n",
       "      <td>3</td>\n",
       "      <td>55.831980</td>\n",
       "      <td>0.731994</td>\n",
       "      <td>0.161629</td>\n",
       "      <td>0.505252</td>\n",
       "      <td>0.177010</td>\n",
       "      <td>0.576288</td>\n",
       "    </tr>\n",
       "    <tr>\n",
       "      <th>3</th>\n",
       "      <td>4</td>\n",
       "      <td>64.458592</td>\n",
       "      <td>0.598658</td>\n",
       "      <td>0.898554</td>\n",
       "      <td>0.826457</td>\n",
       "      <td>0.088703</td>\n",
       "      <td>0.606715</td>\n",
       "    </tr>\n",
       "    <tr>\n",
       "      <th>4</th>\n",
       "      <td>5</td>\n",
       "      <td>61.342792</td>\n",
       "      <td>0.156019</td>\n",
       "      <td>0.606429</td>\n",
       "      <td>0.320050</td>\n",
       "      <td>0.120636</td>\n",
       "      <td>0.424131</td>\n",
       "    </tr>\n",
       "  </tbody>\n",
       "</table>\n",
       "</div>"
      ],
      "text/plain": [
       "   id     design        c1        c2        c3        c4        c5\n",
       "0   1  58.962471  0.374540  0.642032  0.103124  0.168935  0.707239\n",
       "1   2  42.006534  0.950714  0.084140  0.902553  0.278590  0.152539\n",
       "2   3  55.831980  0.731994  0.161629  0.505252  0.177010  0.576288\n",
       "3   4  64.458592  0.598658  0.898554  0.826457  0.088703  0.606715\n",
       "4   5  61.342792  0.156019  0.606429  0.320050  0.120636  0.424131"
      ]
     },
     "execution_count": 184,
     "metadata": {},
     "output_type": "execute_result"
    }
   ],
   "source": [
    "import pandas as pd\n",
    "df = pd.read_csv(\"https://raw.githubusercontent.com/lovedlim/inf/refs/heads/main/p4/9_3/design.csv\")\n",
    "df.head()"
   ]
  },
  {
   "cell_type": "code",
   "execution_count": 185,
   "id": "9ca4a916-323c-455a-aff5-244ea528b7b2",
   "metadata": {},
   "outputs": [
    {
     "name": "stdout",
     "output_type": "stream",
     "text": [
      "                            OLS Regression Results                            \n",
      "==============================================================================\n",
      "Dep. Variable:                 design   R-squared:                       0.266\n",
      "Model:                            OLS   Adj. R-squared:                  0.238\n",
      "Method:                 Least Squares   F-statistic:                     9.697\n",
      "Date:                Fri, 20 Jun 2025   Prob (F-statistic):           6.37e-08\n",
      "Time:                        22:28:22   Log-Likelihood:                -468.72\n",
      "No. Observations:                 140   AIC:                             949.4\n",
      "Df Residuals:                     134   BIC:                             967.1\n",
      "Df Model:                           5                                         \n",
      "Covariance Type:            nonrobust                                         \n",
      "==============================================================================\n",
      "                 coef    std err          t      P>|t|      [0.025      0.975]\n",
      "------------------------------------------------------------------------------\n",
      "Intercept     53.0220      2.294     23.112      0.000      48.485      57.559\n",
      "c1            -4.9403      2.008     -2.460      0.015      -8.912      -0.969\n",
      "c2            11.3795      2.045      5.564      0.000       7.335      15.424\n",
      "c3             2.6960      1.920      1.404      0.163      -1.101       6.493\n",
      "c4             5.7978      2.176      2.664      0.009       1.494      10.102\n",
      "c5            -1.5018      2.067     -0.726      0.469      -5.590       2.587\n",
      "==============================================================================\n",
      "Omnibus:                        3.969   Durbin-Watson:                   2.052\n",
      "Prob(Omnibus):                  0.137   Jarque-Bera (JB):                3.019\n",
      "Skew:                           0.227   Prob(JB):                        0.221\n",
      "Kurtosis:                       2.441   Cond. No.                         7.68\n",
      "==============================================================================\n",
      "\n",
      "Notes:\n",
      "[1] Standard Errors assume that the covariance matrix of the errors is correctly specified.\n",
      "3\n"
     ]
    }
   ],
   "source": [
    "# 1) train, test 데이터 분리\n",
    "cond1 = df['id'] <= 140\n",
    "cond2 = df['id'] > 140\n",
    "train = df[cond1].copy()\n",
    "test = df[cond2].copy()\n",
    "# print(train.shape, test.shape) # (140, 7) (60, 7)\n",
    "\n",
    "# 2) 전체 변수 사용 회귀분석\n",
    "from statsmodels.formula.api import ols\n",
    "model = ols(\"design ~ c1+c2+c3+c4+c5\", data=train).fit()\n",
    "print(model.summary())\n",
    "\n",
    "# 3) 상수항(Intercept)은 제외하고, p-value가 0.05보다 작은 독립변수의 개수를 계산\n",
    "print(sum(model.pvalues[1:]<0.05))"
   ]
  },
  {
   "cell_type": "markdown",
   "id": "bd2e06d6-7ee2-401d-a7df-69dc175db822",
   "metadata": {
    "id": "iVO72oab4G95"
   },
   "source": [
    "### 문제1-2\n",
    "문제 1-1에서 적합한 회귀모형의 결과를 바탕으로, p-value가 0.05 이하인 유의한 독립변수만을 선택하여 새로운 다중 회귀모형을 적합한 후, train 데이터에서 design의 예측값을 산출하고 예측값과 실제 design 값 사이의 피어슨 상관계수를 반올림하여 소수 셋째 자리까지 계산하시오."
   ]
  },
  {
   "cell_type": "code",
   "execution_count": 195,
   "id": "b303c06d-4f7a-4413-8e95-780e0f2375f0",
   "metadata": {},
   "outputs": [
    {
     "name": "stdout",
     "output_type": "stream",
     "text": [
      "      id     design        c1        c2        c3        c4        c5  \\\n",
      "0      1  58.962471  0.374540  0.642032  0.103124  0.168935  0.707239   \n",
      "1      2  42.006534  0.950714  0.084140  0.902553  0.278590  0.152539   \n",
      "2      3  55.831980  0.731994  0.161629  0.505252  0.177010  0.576288   \n",
      "3      4  64.458592  0.598658  0.898554  0.826457  0.088703  0.606715   \n",
      "4      5  61.342792  0.156019  0.606429  0.320050  0.120636  0.424131   \n",
      "..   ...        ...       ...       ...       ...       ...       ...   \n",
      "135  136  58.457931  0.323203  0.040729  0.944766  0.877201  0.272307   \n",
      "136  137  66.020866  0.518791  0.855461  0.849647  0.392445  0.018391   \n",
      "137  138  63.945956  0.703019  0.703658  0.247348  0.816599  0.914299   \n",
      "138  139  54.083051  0.363630  0.474174  0.450544  0.439135  0.117751   \n",
      "139  140  55.031334  0.971782  0.097834  0.129159  0.376944  0.576516   \n",
      "\n",
      "     design_pred  \n",
      "0      60.071154  \n",
      "1      51.703419  \n",
      "2      53.004302  \n",
      "3      61.348118  \n",
      "4      60.437781  \n",
      "..           ...  \n",
      "135    58.005677  \n",
      "136    63.147029  \n",
      "137    63.191802  \n",
      "138    59.929248  \n",
      "139    52.366341  \n",
      "\n",
      "[140 rows x 8 columns]\n",
      "0.501\n"
     ]
    }
   ],
   "source": [
    "# 방법1\n",
    "\n",
    "import pandas as pd\n",
    "df = pd.read_csv(\"https://raw.githubusercontent.com/lovedlim/inf/refs/heads/main/p4/9_3/design.csv\")\n",
    "\n",
    "# 0) train, test 데이터 분리\n",
    "cond1 = df['id'] <= 140\n",
    "cond2 = df['id'] > 140\n",
    "train = df[cond1].copy()\n",
    "test = df[cond2].copy()\n",
    "\n",
    "# 1) 유의한 변수만 사용한 회귀 분석 => c1, c2, c4\n",
    "from statsmodels.formula.api import ols\n",
    "model = ols('design ~ c1+c2+c4', data=train).fit()\n",
    "\n",
    "# 2) train 데이터에서 design의 예측\n",
    "train['design_pred'] = model.predict(train)\n",
    "print(train)\n",
    "\n",
    "# 3) 피어슨 상관계수 계산\n",
    "result = train['design'].corr(train['design_pred'])\n",
    "print(round(result, 3))"
   ]
  },
  {
   "cell_type": "code",
   "execution_count": 193,
   "id": "372e9ed3-f7a0-489d-9ba1-188b4d00593f",
   "metadata": {
    "colab": {
     "base_uri": "https://localhost:8080/"
    },
    "id": "6aHhUn5n4PgL",
    "outputId": "4afcde4d-d88d-47c0-f5f8-e37f149d003f"
   },
   "outputs": [
    {
     "name": "stdout",
     "output_type": "stream",
     "text": [
      "      id     design        c1        c2        c3        c4        c5  \\\n",
      "0      1  58.962471  0.374540  0.642032  0.103124  0.168935  0.707239   \n",
      "1      2  42.006534  0.950714  0.084140  0.902553  0.278590  0.152539   \n",
      "2      3  55.831980  0.731994  0.161629  0.505252  0.177010  0.576288   \n",
      "3      4  64.458592  0.598658  0.898554  0.826457  0.088703  0.606715   \n",
      "4      5  61.342792  0.156019  0.606429  0.320050  0.120636  0.424131   \n",
      "..   ...        ...       ...       ...       ...       ...       ...   \n",
      "135  136  58.457931  0.323203  0.040729  0.944766  0.877201  0.272307   \n",
      "136  137  66.020866  0.518791  0.855461  0.849647  0.392445  0.018391   \n",
      "137  138  63.945956  0.703019  0.703658  0.247348  0.816599  0.914299   \n",
      "138  139  54.083051  0.363630  0.474174  0.450544  0.439135  0.117751   \n",
      "139  140  55.031334  0.971782  0.097834  0.129159  0.376944  0.576516   \n",
      "\n",
      "     pred_design  \n",
      "0      60.071154  \n",
      "1      51.703419  \n",
      "2      53.004302  \n",
      "3      61.348118  \n",
      "4      60.437781  \n",
      "..           ...  \n",
      "135    58.005677  \n",
      "136    63.147029  \n",
      "137    63.191802  \n",
      "138    59.929248  \n",
      "139    52.366341  \n",
      "\n",
      "[140 rows x 8 columns]\n",
      "0.501\n"
     ]
    }
   ],
   "source": [
    "# 방법2(추가tip)\n",
    "\n",
    "# 1) 유의한 변수만 사용한 회귀 분석\n",
    "from statsmodels.formula.api import ols\n",
    "model = ols(\"design ~ c1 + c2 + c4\", data=train).fit()\n",
    "\n",
    "# 학습데이터에서 예측값 계산\n",
    "train['pred_design'] = model.predict(train)\n",
    "print(train)\n",
    "\n",
    "# 예측값과 실제 design 값 사이의 피어슨 상관계수 계산\n",
    "from scipy.stats import pearsonr\n",
    "c, p = pearsonr(train['design'], train['pred_design'])\n",
    "print(round(c, 3))"
   ]
  },
  {
   "cell_type": "markdown",
   "id": "aee1279c-8cb8-4dc3-a801-8f6ff2d3d657",
   "metadata": {
    "id": "Pry4hvTT4vMC"
   },
   "source": [
    "### 문제1-3\n",
    "문제 1-2에서 적합한 회귀모형을 이용하여 test 데이터에서 design의 예측값을 산출한 후, 예측값과 실제 design 값 사이의 RMSE (Root Mean Squared Error)를 반올림하여 소수 셋째 자리까지 계산하시오."
   ]
  },
  {
   "cell_type": "code",
   "execution_count": 203,
   "id": "5deab82f-ff0a-406c-9907-8ae68b984e82",
   "metadata": {},
   "outputs": [
    {
     "name": "stdout",
     "output_type": "stream",
     "text": [
      "      id     design        c1        c2        c3        c4        c5  \\\n",
      "140  141  66.574168  0.962447  0.491616  0.954051  0.462680  0.274055   \n",
      "141  142  48.521635  0.251782  0.473472  0.606175  0.301378  0.554178   \n",
      "142  143  57.754669  0.497249  0.173202  0.228643  0.747609  0.651420   \n",
      "143  144  52.072094  0.300878  0.433852  0.671701  0.502720  0.829742   \n",
      "144  145  65.085687  0.284840  0.398505  0.618128  0.232213  0.206421   \n",
      "\n",
      "     design_pred  \n",
      "140    57.350734  \n",
      "141    59.608992  \n",
      "142    57.831803  \n",
      "143    60.180171  \n",
      "144    58.178462  \n",
      "8.488\n"
     ]
    }
   ],
   "source": [
    "# 1) test데이터에서 design값 계산\n",
    "test['design_pred'] = model.predict(test)\n",
    "print(test.head())\n",
    "\n",
    "# 2) test데이터에 대한 RMSE 계산\n",
    "from sklearn.metrics import root_mean_squared_error\n",
    "rmse = root_mean_squared_error(test['design'], test['design_pred'])\n",
    "print(round(rmse, 3))"
   ]
  },
  {
   "cell_type": "markdown",
   "id": "90a1479f-fadd-4b5c-9208-79add8b9c18a",
   "metadata": {
    "id": "TYho2qrK44Hd"
   },
   "source": [
    "## 문제2. 로지스틱 회귀\n",
    "- 종속 변수 (타겟 변수): Churn (고객 이탈 여부; 1: 이탈, 0: 유지)\n",
    "- 독립 변수 (설명 변수):\n",
    "    - MonthlyCharges (월 사용 요금)\n",
    "    - CustomerTenure (고객 유지 기간)\n",
    "    - HasPhoneService (전화 서비스 이용 여부)\n",
    "    - HasTechInsurance (기술 보험 가입 여부)\n",
    "    \n",
    "### 문제2-1\n",
    "주어진 데이터를 사용하여 고객 이탈(Churn)을 예측하는 로지스틱 회귀 모형을 적합한 후, MonthlyCharges 변수의 p-value를 반올림하여 소수 셋째 자리까지 구하시오."
   ]
  },
  {
   "cell_type": "code",
   "execution_count": 210,
   "id": "c9c59565-244f-4ca1-9971-2c012d2145bc",
   "metadata": {
    "colab": {
     "base_uri": "https://localhost:8080/"
    },
    "id": "ES2FqUr45akv",
    "outputId": "27ffe37f-f6e3-4a23-90cd-7aa80df34d49"
   },
   "outputs": [
    {
     "data": {
      "text/html": [
       "<div>\n",
       "<style scoped>\n",
       "    .dataframe tbody tr th:only-of-type {\n",
       "        vertical-align: middle;\n",
       "    }\n",
       "\n",
       "    .dataframe tbody tr th {\n",
       "        vertical-align: top;\n",
       "    }\n",
       "\n",
       "    .dataframe thead th {\n",
       "        text-align: right;\n",
       "    }\n",
       "</style>\n",
       "<table border=\"1\" class=\"dataframe\">\n",
       "  <thead>\n",
       "    <tr style=\"text-align: right;\">\n",
       "      <th></th>\n",
       "      <th>CustomerID</th>\n",
       "      <th>MonthlyCharges</th>\n",
       "      <th>CustomerTenure</th>\n",
       "      <th>HasPhoneService</th>\n",
       "      <th>HasTechInsurance</th>\n",
       "      <th>Churn</th>\n",
       "    </tr>\n",
       "  </thead>\n",
       "  <tbody>\n",
       "    <tr>\n",
       "      <th>0</th>\n",
       "      <td>1</td>\n",
       "      <td>77.450712</td>\n",
       "      <td>47</td>\n",
       "      <td>1</td>\n",
       "      <td>1</td>\n",
       "      <td>1</td>\n",
       "    </tr>\n",
       "    <tr>\n",
       "      <th>1</th>\n",
       "      <td>2</td>\n",
       "      <td>67.926035</td>\n",
       "      <td>68</td>\n",
       "      <td>1</td>\n",
       "      <td>1</td>\n",
       "      <td>0</td>\n",
       "    </tr>\n",
       "    <tr>\n",
       "      <th>2</th>\n",
       "      <td>3</td>\n",
       "      <td>79.715328</td>\n",
       "      <td>45</td>\n",
       "      <td>0</td>\n",
       "      <td>1</td>\n",
       "      <td>1</td>\n",
       "    </tr>\n",
       "    <tr>\n",
       "      <th>3</th>\n",
       "      <td>4</td>\n",
       "      <td>92.845448</td>\n",
       "      <td>2</td>\n",
       "      <td>1</td>\n",
       "      <td>0</td>\n",
       "      <td>1</td>\n",
       "    </tr>\n",
       "    <tr>\n",
       "      <th>4</th>\n",
       "      <td>5</td>\n",
       "      <td>66.487699</td>\n",
       "      <td>27</td>\n",
       "      <td>1</td>\n",
       "      <td>1</td>\n",
       "      <td>0</td>\n",
       "    </tr>\n",
       "  </tbody>\n",
       "</table>\n",
       "</div>"
      ],
      "text/plain": [
       "   CustomerID  MonthlyCharges  CustomerTenure  HasPhoneService  \\\n",
       "0           1       77.450712              47                1   \n",
       "1           2       67.926035              68                1   \n",
       "2           3       79.715328              45                0   \n",
       "3           4       92.845448               2                1   \n",
       "4           5       66.487699              27                1   \n",
       "\n",
       "   HasTechInsurance  Churn  \n",
       "0                 1      1  \n",
       "1                 1      0  \n",
       "2                 1      1  \n",
       "3                 0      1  \n",
       "4                 1      0  "
      ]
     },
     "execution_count": 210,
     "metadata": {},
     "output_type": "execute_result"
    }
   ],
   "source": [
    "import pandas as pd\n",
    "df = pd.read_csv(\"https://raw.githubusercontent.com/lovedlim/inf/refs/heads/main/p4/9_3/retention.csv\")\n",
    "df.head()"
   ]
  },
  {
   "cell_type": "code",
   "execution_count": 214,
   "id": "4ed86eb5-8b77-4d94-ab8c-51bd218ee7b7",
   "metadata": {},
   "outputs": [
    {
     "name": "stdout",
     "output_type": "stream",
     "text": [
      "Optimization terminated successfully.\n",
      "         Current function value: 0.582234\n",
      "         Iterations 6\n",
      "                           Logit Regression Results                           \n",
      "==============================================================================\n",
      "Dep. Variable:                  Churn   No. Observations:                   80\n",
      "Model:                          Logit   Df Residuals:                       75\n",
      "Method:                           MLE   Df Model:                            4\n",
      "Date:                Fri, 20 Jun 2025   Pseudo R-squ.:                  0.1585\n",
      "Time:                        22:54:16   Log-Likelihood:                -46.579\n",
      "converged:                       True   LL-Null:                       -55.352\n",
      "Covariance Type:            nonrobust   LLR p-value:                  0.001513\n",
      "====================================================================================\n",
      "                       coef    std err          z      P>|z|      [0.025      0.975]\n",
      "------------------------------------------------------------------------------------\n",
      "Intercept           -4.4731      1.437     -3.114      0.002      -7.289      -1.657\n",
      "MonthlyCharges       0.0503      0.019      2.640      0.008       0.013       0.088\n",
      "CustomerTenure       0.0428      0.014      3.016      0.003       0.015       0.071\n",
      "HasPhoneService     -0.3558      0.525     -0.677      0.498      -1.386       0.674\n",
      "HasTechInsurance    -0.4868      0.518     -0.940      0.347      -1.502       0.529\n",
      "====================================================================================\n",
      "0.008\n"
     ]
    }
   ],
   "source": [
    "from statsmodels.formula.api import logit\n",
    "\n",
    "# 1) 로지스틱 회귀분석 수행\n",
    "formula = 'Churn ~ MonthlyCharges + CustomerTenure + HasPhoneService + HasTechInsurance'\n",
    "model = logit(formula, data = df).fit()\n",
    "\n",
    "# 2) 학습된 모델의 회귀 분석 결과 출력\n",
    "print(model.summary())\n",
    "\n",
    "# 3) 'MonthlyCharges' 변수의 p-value 확인\n",
    "print(round(model.pvalues['MonthlyCharges'], 3))"
   ]
  },
  {
   "cell_type": "markdown",
   "id": "76827bb0-d5d1-4f5c-9752-34e04102ced8",
   "metadata": {
    "id": "RnmiGn3u5yk3"
   },
   "source": [
    "### 문제2-2\n",
    "적합한 로지스틱 회귀모형을 바탕으로, 전화 서비스를 받지 않은 고객이 이탈할 확률 대비 전화 서비스를 받은 고객이 이탈할 확률에 대한 오즈비(Odds Ratio)를 계산하시오. (반올림하여 소수 셋째 자리까지 계산)"
   ]
  },
  {
   "cell_type": "code",
   "execution_count": 219,
   "id": "ebdcdeca-29e8-4c66-b489-07f55f2401ae",
   "metadata": {},
   "outputs": [
    {
     "name": "stdout",
     "output_type": "stream",
     "text": [
      "0.701\n"
     ]
    }
   ],
   "source": [
    "# 1) 오즈비 계산\n",
    "import numpy as np\n",
    "result = np.exp(model.params['HasPhoneService'])\n",
    "print(round(result, 3))"
   ]
  },
  {
   "cell_type": "markdown",
   "id": "141697a1-37c3-4b4f-9181-e46b83e91b91",
   "metadata": {
    "id": "eL0IZEEy6He8"
   },
   "source": [
    "### 문제2-3\n",
    "적합한 로지스틱 회귀모형을 이용하여 각 고객의 이탈 확률을 예측한 후, 예측된 이탈 확률이 0.3 초과하는 고객의 수를 구하시오."
   ]
  },
  {
   "cell_type": "code",
   "execution_count": 220,
   "id": "c18fa747-fcd6-4407-8b8e-6a9beae89164",
   "metadata": {},
   "outputs": [
    {
     "name": "stdout",
     "output_type": "stream",
     "text": [
      "0     0.643397\n",
      "1     0.733174\n",
      "2     0.725944\n",
      "3     0.480867\n",
      "4     0.306304\n",
      "        ...   \n",
      "75    0.516097\n",
      "76    0.810504\n",
      "77    0.355781\n",
      "78    0.556763\n",
      "79    0.166611\n",
      "Length: 80, dtype: float64\n"
     ]
    },
    {
     "data": {
      "text/plain": [
       "65"
      ]
     },
     "execution_count": 220,
     "metadata": {},
     "output_type": "execute_result"
    }
   ],
   "source": [
    "# 1) 각 고객의 이탈 확률을 예측\n",
    "pred = model.predict(df)\n",
    "print(pred)\n",
    "\n",
    "# 2) 예측한 이탈 확률이 0.3 초과하는 고객의 수\n",
    "sum(pred > 0.3)"
   ]
  },
  {
   "cell_type": "markdown",
   "id": "703ba3b8-7d48-4a4a-95a0-ef6b54b71bb6",
   "metadata": {
    "id": "YbYMqxq0Fyl8"
   },
   "source": [
    "# 기출 8회_작업형3"
   ]
  },
  {
   "cell_type": "markdown",
   "id": "50d46615-57af-447d-b687-867e51e94885",
   "metadata": {},
   "source": [
    "## 문제1"
   ]
  },
  {
   "cell_type": "markdown",
   "id": "68a03084-a590-4dba-991f-7c76ce064235",
   "metadata": {
    "id": "cg92KgRLFlV9"
   },
   "source": [
    "### 문제1-1\n",
    "주어진 데이터에서 로지스틱 회귀 분석을 수행해 유의확률(p-value)이 0.05 이상인 유의하지 않은 독립변수의 개수를 구하시오. (종속변수: Churn)"
   ]
  },
  {
   "cell_type": "code",
   "execution_count": 68,
   "id": "f23e27d4-c215-4b6c-819e-42e4abd26a75",
   "metadata": {},
   "outputs": [
    {
     "data": {
      "text/html": [
       "<div>\n",
       "<style scoped>\n",
       "    .dataframe tbody tr th:only-of-type {\n",
       "        vertical-align: middle;\n",
       "    }\n",
       "\n",
       "    .dataframe tbody tr th {\n",
       "        vertical-align: top;\n",
       "    }\n",
       "\n",
       "    .dataframe thead th {\n",
       "        text-align: right;\n",
       "    }\n",
       "</style>\n",
       "<table border=\"1\" class=\"dataframe\">\n",
       "  <thead>\n",
       "    <tr style=\"text-align: right;\">\n",
       "      <th></th>\n",
       "      <th>Churn</th>\n",
       "      <th>AccountWeeks</th>\n",
       "      <th>ContractRenewal</th>\n",
       "      <th>DataPlan</th>\n",
       "      <th>DataUsage</th>\n",
       "      <th>CustServCalls</th>\n",
       "      <th>DayMins</th>\n",
       "      <th>DayCalls</th>\n",
       "      <th>MonthlyCharge</th>\n",
       "      <th>OverageFee</th>\n",
       "      <th>RoamMins</th>\n",
       "    </tr>\n",
       "  </thead>\n",
       "  <tbody>\n",
       "    <tr>\n",
       "      <th>0</th>\n",
       "      <td>0</td>\n",
       "      <td>51</td>\n",
       "      <td>1</td>\n",
       "      <td>0</td>\n",
       "      <td>1.0</td>\n",
       "      <td>0</td>\n",
       "      <td>303.7</td>\n",
       "      <td>83</td>\n",
       "      <td>72.5</td>\n",
       "      <td>9.3</td>\n",
       "      <td>3.8</td>\n",
       "    </tr>\n",
       "    <tr>\n",
       "      <th>1</th>\n",
       "      <td>1</td>\n",
       "      <td>61</td>\n",
       "      <td>1</td>\n",
       "      <td>0</td>\n",
       "      <td>-0.2</td>\n",
       "      <td>2</td>\n",
       "      <td>194.8</td>\n",
       "      <td>89</td>\n",
       "      <td>66.3</td>\n",
       "      <td>10.9</td>\n",
       "      <td>13.3</td>\n",
       "    </tr>\n",
       "    <tr>\n",
       "      <th>2</th>\n",
       "      <td>0</td>\n",
       "      <td>84</td>\n",
       "      <td>1</td>\n",
       "      <td>1</td>\n",
       "      <td>-1.3</td>\n",
       "      <td>2</td>\n",
       "      <td>157.6</td>\n",
       "      <td>109</td>\n",
       "      <td>35.7</td>\n",
       "      <td>10.0</td>\n",
       "      <td>12.5</td>\n",
       "    </tr>\n",
       "    <tr>\n",
       "      <th>3</th>\n",
       "      <td>0</td>\n",
       "      <td>65</td>\n",
       "      <td>1</td>\n",
       "      <td>0</td>\n",
       "      <td>1.0</td>\n",
       "      <td>1</td>\n",
       "      <td>223.1</td>\n",
       "      <td>129</td>\n",
       "      <td>64.2</td>\n",
       "      <td>9.1</td>\n",
       "      <td>5.1</td>\n",
       "    </tr>\n",
       "    <tr>\n",
       "      <th>4</th>\n",
       "      <td>0</td>\n",
       "      <td>154</td>\n",
       "      <td>1</td>\n",
       "      <td>0</td>\n",
       "      <td>1.0</td>\n",
       "      <td>0</td>\n",
       "      <td>137.0</td>\n",
       "      <td>115</td>\n",
       "      <td>40.0</td>\n",
       "      <td>7.7</td>\n",
       "      <td>4.6</td>\n",
       "    </tr>\n",
       "  </tbody>\n",
       "</table>\n",
       "</div>"
      ],
      "text/plain": [
       "   Churn  AccountWeeks  ContractRenewal  DataPlan  DataUsage  CustServCalls  \\\n",
       "0      0            51                1         0        1.0              0   \n",
       "1      1            61                1         0       -0.2              2   \n",
       "2      0            84                1         1       -1.3              2   \n",
       "3      0            65                1         0        1.0              1   \n",
       "4      0           154                1         0        1.0              0   \n",
       "\n",
       "   DayMins  DayCalls  MonthlyCharge  OverageFee  RoamMins  \n",
       "0    303.7        83           72.5         9.3       3.8  \n",
       "1    194.8        89           66.3        10.9      13.3  \n",
       "2    157.6       109           35.7        10.0      12.5  \n",
       "3    223.1       129           64.2         9.1       5.1  \n",
       "4    137.0       115           40.0         7.7       4.6  "
      ]
     },
     "execution_count": 68,
     "metadata": {},
     "output_type": "execute_result"
    }
   ],
   "source": [
    "import pandas as pd\n",
    "df = pd.read_csv(\"https://raw.githubusercontent.com/lovedlim/inf/refs/heads/main/p4/8_3/churn.csv\")\n",
    "df.head()"
   ]
  },
  {
   "cell_type": "code",
   "execution_count": 66,
   "id": "19d15d8b-5c97-4b65-bfbf-ee690a1355cb",
   "metadata": {},
   "outputs": [
    {
     "name": "stdout",
     "output_type": "stream",
     "text": [
      "Optimization terminated successfully.\n",
      "         Current function value: 0.393603\n",
      "         Iterations 6\n",
      "                           Logit Regression Results                           \n",
      "==============================================================================\n",
      "Dep. Variable:                  Churn   No. Observations:                 1000\n",
      "Model:                          Logit   Df Residuals:                      989\n",
      "Method:                           MLE   Df Model:                           10\n",
      "Date:                Fri, 20 Jun 2025   Pseudo R-squ.:                 0.02367\n",
      "Time:                        23:12:18   Log-Likelihood:                -393.60\n",
      "converged:                       True   LL-Null:                       -403.14\n",
      "Covariance Type:            nonrobust   LLR p-value:                   0.03924\n",
      "===================================================================================\n",
      "                      coef    std err          z      P>|z|      [0.025      0.975]\n",
      "-----------------------------------------------------------------------------------\n",
      "Intercept          -2.2146      0.913     -2.425      0.015      -4.005      -0.424\n",
      "AccountWeeks        0.0026      0.002      1.114      0.265      -0.002       0.007\n",
      "ContractRenewal     0.1603      0.325      0.493      0.622      -0.477       0.798\n",
      "DataPlan            0.2874      0.198      1.454      0.146      -0.100       0.675\n",
      "DataUsage          -0.1698      0.072     -2.343      0.019      -0.312      -0.028\n",
      "CustServCalls       0.1374      0.074      1.858      0.063      -0.008       0.282\n",
      "DayMins            -0.0036      0.002     -2.092      0.036      -0.007      -0.000\n",
      "DayCalls            0.0023      0.004      0.526      0.599      -0.006       0.011\n",
      "MonthlyCharge       0.0042      0.005      0.778      0.436      -0.006       0.015\n",
      "OverageFee         -0.0127      0.036     -0.352      0.725      -0.084       0.058\n",
      "RoamMins            0.0098      0.034      0.292      0.770      -0.056       0.076\n",
      "===================================================================================\n",
      "8\n"
     ]
    }
   ],
   "source": [
    "import pandas as pd\n",
    "df = pd.read_csv(\"https://raw.githubusercontent.com/lovedlim/inf/refs/heads/main/p4/8_3/churn.csv\")\n",
    "\n",
    "from statsmodels.formula.api import logit\n",
    "\n",
    "# 1) 로지스틱 회귀분석을 위한 포뮬라 생성\n",
    "formula = 'Churn ~ AccountWeeks + ContractRenewal + DataPlan + DataUsage + CustServCalls + DayMins + DayCalls + MonthlyCharge + OverageFee + RoamMins'\n",
    "\n",
    "# 2) 로지스틱 회귀 모델 학습\n",
    "model = logit(formula, data=df).fit()\n",
    "\n",
    "# 3) 유의하지 않은 독립변수의 개수 구하기\n",
    "print(model.summary())\n",
    "print(sum(model.pvalues[1:] >= 0.05))"
   ]
  },
  {
   "cell_type": "markdown",
   "id": "d25d613b-fe2a-4435-a48e-497093338330",
   "metadata": {
    "id": "9JlkjE30FnO3"
   },
   "source": [
    "### 문제1-2\n",
    "유의확률(p-value)이 0.05 미만인 유의한 변수만을 사용해 다시 로지스틱 회귀 분석을 수행하시오. 이 회귀식의 유의한 회귀 계수(상수항 포함)의 합계를 구하시오. (반올림하여 소수 셋째 자리까지 계산)"
   ]
  },
  {
   "cell_type": "code",
   "execution_count": 71,
   "id": "c71c1bca-50ea-40ba-b2e5-9747bbed54a0",
   "metadata": {
    "colab": {
     "base_uri": "https://localhost:8080/"
    },
    "id": "JYQmjQgYFoCZ",
    "outputId": "0a827f1d-d145-43ae-ed7c-1d73edccfd8f"
   },
   "outputs": [
    {
     "name": "stdout",
     "output_type": "stream",
     "text": [
      "DataUsage    True\n",
      "DayMins      True\n",
      "dtype: bool\n",
      "Optimization terminated successfully.\n",
      "         Current function value: 0.397599\n",
      "         Iterations 6\n",
      "                           Logit Regression Results                           \n",
      "==============================================================================\n",
      "Dep. Variable:                  Churn   No. Observations:                 1000\n",
      "Model:                          Logit   Df Residuals:                      997\n",
      "Method:                           MLE   Df Model:                            2\n",
      "Date:                Fri, 20 Jun 2025   Pseudo R-squ.:                 0.01375\n",
      "Time:                        23:25:21   Log-Likelihood:                -397.60\n",
      "converged:                       True   LL-Null:                       -403.14\n",
      "Covariance Type:            nonrobust   LLR p-value:                  0.003908\n",
      "==============================================================================\n",
      "                 coef    std err          z      P>|z|      [0.025      0.975]\n",
      "------------------------------------------------------------------------------\n",
      "Intercept     -1.0395      0.303     -3.434      0.001      -1.633      -0.446\n",
      "DataUsage     -0.1697      0.071     -2.376      0.017      -0.310      -0.030\n",
      "DayMins       -0.0039      0.002     -2.264      0.024      -0.007      -0.001\n",
      "==============================================================================\n",
      "-1.213\n"
     ]
    }
   ],
   "source": [
    "# 1) 유의한 변수 선택\n",
    "print(model.pvalues[1:] < 0.05)\n",
    "formula = \"Churn ~ DataUsage + DayMins\"\n",
    "\n",
    "# 2) 로지스틱 회귀\n",
    "model = logit(formula, data=df).fit()\n",
    "\n",
    "# 3) 유의한 회귀계수 합계\n",
    "print(model.summary())\n",
    "print(round(sum(model.params),3))"
   ]
  },
  {
   "cell_type": "markdown",
   "id": "e20e9244-e9d0-4aea-8f96-149468bdfba5",
   "metadata": {
    "id": "6t_rH44AF5qR"
   },
   "source": [
    "### 문제1-3\n",
    "문제 1-2에서 수행한 로지스틱 회귀식에서 ‘DataUsage’ 변수가 5만큼 증가할 때 오즈비(Odds Ratio)를\n",
    "구하시오. (반올림하여 소수 셋째 자리까지 계산)"
   ]
  },
  {
   "cell_type": "code",
   "execution_count": null,
   "id": "39c6ae86-832e-4c1d-b6d7-278510aace37",
   "metadata": {
    "colab": {
     "base_uri": "https://localhost:8080/"
    },
    "id": "djjtgKoDJ2SV",
    "outputId": "e0e27e3b-df37-4f38-a5d8-7ff5f2d06b76"
   },
   "outputs": [
    {
     "data": {
      "text/plain": [
       "0.428"
      ]
     },
     "execution_count": 4,
     "metadata": {},
     "output_type": "execute_result"
    }
   ],
   "source": [
    "# 1) 변수의 회귀계수 추출\n",
    "import numpy as np\n",
    "coef = model.params['DataUsage']\n",
    "\n",
    "# 2) 오즈비 계산\n",
    "round(np.exp(coef * 5),3)"
   ]
  },
  {
   "cell_type": "markdown",
   "id": "1eaa0b2f-4ca4-4c1a-8ba6-358b3569ba3c",
   "metadata": {},
   "source": [
    "## 문제2"
   ]
  },
  {
   "cell_type": "markdown",
   "id": "01079e05-5208-4fd8-b732-52d1590d9ccc",
   "metadata": {
    "id": "FXeMYIpql0ht"
   },
   "source": [
    "### 문제 2-1\n",
    "주어진 데이터를 이용해 종속변수(PIQ)와 독립변수(Brain, Height, Weight)로 다중 선형 회귀 분석을 수행\n",
    "하시오. 이때 유의확률(p-value)이 가장 작은 변수의 회귀 계수 값을 구하시오. (반올림하여 소수 셋째 자리까지 계산)"
   ]
  },
  {
   "cell_type": "code",
   "execution_count": null,
   "id": "b63ed095-f6a5-4494-b351-8216d16c28a9",
   "metadata": {
    "colab": {
     "base_uri": "https://localhost:8080/",
     "height": 206
    },
    "id": "IyN9mpL8dhTp",
    "outputId": "fe76e9aa-102e-476f-aefa-af3e06bfa2ce"
   },
   "outputs": [
    {
     "data": {
      "application/vnd.google.colaboratory.intrinsic+json": {
       "summary": "{\n  \"name\": \"df\",\n  \"rows\": 50,\n  \"fields\": [\n    {\n      \"column\": \"PIQ\",\n      \"properties\": {\n        \"dtype\": \"number\",\n        \"std\": 23,\n        \"min\": 72,\n        \"max\": 150,\n        \"num_unique_values\": 21,\n        \"samples\": [\n          132,\n          98,\n          120\n        ],\n        \"semantic_type\": \"\",\n        \"description\": \"\"\n      }\n    },\n    {\n      \"column\": \"Brain\",\n      \"properties\": {\n        \"dtype\": \"number\",\n        \"std\": 7.875382403413819,\n        \"min\": 79.06,\n        \"max\": 107.95,\n        \"num_unique_values\": 31,\n        \"samples\": [\n          90.59,\n          92.41,\n          80.8\n        ],\n        \"semantic_type\": \"\",\n        \"description\": \"\"\n      }\n    },\n    {\n      \"column\": \"Height\",\n      \"properties\": {\n        \"dtype\": \"number\",\n        \"std\": 3.858465910653283,\n        \"min\": 62.0,\n        \"max\": 77.0,\n        \"num_unique_values\": 22,\n        \"samples\": [\n          62.5,\n          69.0,\n          68.8\n        ],\n        \"semantic_type\": \"\",\n        \"description\": \"\"\n      }\n    },\n    {\n      \"column\": \"Weight\",\n      \"properties\": {\n        \"dtype\": \"number\",\n        \"std\": 20,\n        \"min\": 106,\n        \"max\": 191,\n        \"num_unique_values\": 28,\n        \"samples\": [\n          172,\n          144,\n          139\n        ],\n        \"semantic_type\": \"\",\n        \"description\": \"\"\n      }\n    }\n  ]\n}",
       "type": "dataframe",
       "variable_name": "df"
      },
      "text/html": [
       "\n",
       "  <div id=\"df-42fe991e-f093-4e55-8025-95ee5cb858d9\" class=\"colab-df-container\">\n",
       "    <div>\n",
       "<style scoped>\n",
       "    .dataframe tbody tr th:only-of-type {\n",
       "        vertical-align: middle;\n",
       "    }\n",
       "\n",
       "    .dataframe tbody tr th {\n",
       "        vertical-align: top;\n",
       "    }\n",
       "\n",
       "    .dataframe thead th {\n",
       "        text-align: right;\n",
       "    }\n",
       "</style>\n",
       "<table border=\"1\" class=\"dataframe\">\n",
       "  <thead>\n",
       "    <tr style=\"text-align: right;\">\n",
       "      <th></th>\n",
       "      <th>PIQ</th>\n",
       "      <th>Brain</th>\n",
       "      <th>Height</th>\n",
       "      <th>Weight</th>\n",
       "    </tr>\n",
       "  </thead>\n",
       "  <tbody>\n",
       "    <tr>\n",
       "      <th>0</th>\n",
       "      <td>132</td>\n",
       "      <td>85.78</td>\n",
       "      <td>62.5</td>\n",
       "      <td>127</td>\n",
       "    </tr>\n",
       "    <tr>\n",
       "      <th>1</th>\n",
       "      <td>96</td>\n",
       "      <td>86.54</td>\n",
       "      <td>68.0</td>\n",
       "      <td>135</td>\n",
       "    </tr>\n",
       "    <tr>\n",
       "      <th>2</th>\n",
       "      <td>84</td>\n",
       "      <td>90.49</td>\n",
       "      <td>66.3</td>\n",
       "      <td>134</td>\n",
       "    </tr>\n",
       "    <tr>\n",
       "      <th>3</th>\n",
       "      <td>134</td>\n",
       "      <td>79.06</td>\n",
       "      <td>62.0</td>\n",
       "      <td>122</td>\n",
       "    </tr>\n",
       "    <tr>\n",
       "      <th>4</th>\n",
       "      <td>86</td>\n",
       "      <td>88.91</td>\n",
       "      <td>70.0</td>\n",
       "      <td>180</td>\n",
       "    </tr>\n",
       "  </tbody>\n",
       "</table>\n",
       "</div>\n",
       "    <div class=\"colab-df-buttons\">\n",
       "\n",
       "  <div class=\"colab-df-container\">\n",
       "    <button class=\"colab-df-convert\" onclick=\"convertToInteractive('df-42fe991e-f093-4e55-8025-95ee5cb858d9')\"\n",
       "            title=\"Convert this dataframe to an interactive table.\"\n",
       "            style=\"display:none;\">\n",
       "\n",
       "  <svg xmlns=\"http://www.w3.org/2000/svg\" height=\"24px\" viewBox=\"0 -960 960 960\">\n",
       "    <path d=\"M120-120v-720h720v720H120Zm60-500h600v-160H180v160Zm220 220h160v-160H400v160Zm0 220h160v-160H400v160ZM180-400h160v-160H180v160Zm440 0h160v-160H620v160ZM180-180h160v-160H180v160Zm440 0h160v-160H620v160Z\"/>\n",
       "  </svg>\n",
       "    </button>\n",
       "\n",
       "  <style>\n",
       "    .colab-df-container {\n",
       "      display:flex;\n",
       "      gap: 12px;\n",
       "    }\n",
       "\n",
       "    .colab-df-convert {\n",
       "      background-color: #E8F0FE;\n",
       "      border: none;\n",
       "      border-radius: 50%;\n",
       "      cursor: pointer;\n",
       "      display: none;\n",
       "      fill: #1967D2;\n",
       "      height: 32px;\n",
       "      padding: 0 0 0 0;\n",
       "      width: 32px;\n",
       "    }\n",
       "\n",
       "    .colab-df-convert:hover {\n",
       "      background-color: #E2EBFA;\n",
       "      box-shadow: 0px 1px 2px rgba(60, 64, 67, 0.3), 0px 1px 3px 1px rgba(60, 64, 67, 0.15);\n",
       "      fill: #174EA6;\n",
       "    }\n",
       "\n",
       "    .colab-df-buttons div {\n",
       "      margin-bottom: 4px;\n",
       "    }\n",
       "\n",
       "    [theme=dark] .colab-df-convert {\n",
       "      background-color: #3B4455;\n",
       "      fill: #D2E3FC;\n",
       "    }\n",
       "\n",
       "    [theme=dark] .colab-df-convert:hover {\n",
       "      background-color: #434B5C;\n",
       "      box-shadow: 0px 1px 3px 1px rgba(0, 0, 0, 0.15);\n",
       "      filter: drop-shadow(0px 1px 2px rgba(0, 0, 0, 0.3));\n",
       "      fill: #FFFFFF;\n",
       "    }\n",
       "  </style>\n",
       "\n",
       "    <script>\n",
       "      const buttonEl =\n",
       "        document.querySelector('#df-42fe991e-f093-4e55-8025-95ee5cb858d9 button.colab-df-convert');\n",
       "      buttonEl.style.display =\n",
       "        google.colab.kernel.accessAllowed ? 'block' : 'none';\n",
       "\n",
       "      async function convertToInteractive(key) {\n",
       "        const element = document.querySelector('#df-42fe991e-f093-4e55-8025-95ee5cb858d9');\n",
       "        const dataTable =\n",
       "          await google.colab.kernel.invokeFunction('convertToInteractive',\n",
       "                                                    [key], {});\n",
       "        if (!dataTable) return;\n",
       "\n",
       "        const docLinkHtml = 'Like what you see? Visit the ' +\n",
       "          '<a target=\"_blank\" href=https://colab.research.google.com/notebooks/data_table.ipynb>data table notebook</a>'\n",
       "          + ' to learn more about interactive tables.';\n",
       "        element.innerHTML = '';\n",
       "        dataTable['output_type'] = 'display_data';\n",
       "        await google.colab.output.renderOutput(dataTable, element);\n",
       "        const docLink = document.createElement('div');\n",
       "        docLink.innerHTML = docLinkHtml;\n",
       "        element.appendChild(docLink);\n",
       "      }\n",
       "    </script>\n",
       "  </div>\n",
       "\n",
       "\n",
       "<div id=\"df-c7152ff2-47ff-4079-a397-32fb2f610656\">\n",
       "  <button class=\"colab-df-quickchart\" onclick=\"quickchart('df-c7152ff2-47ff-4079-a397-32fb2f610656')\"\n",
       "            title=\"Suggest charts\"\n",
       "            style=\"display:none;\">\n",
       "\n",
       "<svg xmlns=\"http://www.w3.org/2000/svg\" height=\"24px\"viewBox=\"0 0 24 24\"\n",
       "     width=\"24px\">\n",
       "    <g>\n",
       "        <path d=\"M19 3H5c-1.1 0-2 .9-2 2v14c0 1.1.9 2 2 2h14c1.1 0 2-.9 2-2V5c0-1.1-.9-2-2-2zM9 17H7v-7h2v7zm4 0h-2V7h2v10zm4 0h-2v-4h2v4z\"/>\n",
       "    </g>\n",
       "</svg>\n",
       "  </button>\n",
       "\n",
       "<style>\n",
       "  .colab-df-quickchart {\n",
       "      --bg-color: #E8F0FE;\n",
       "      --fill-color: #1967D2;\n",
       "      --hover-bg-color: #E2EBFA;\n",
       "      --hover-fill-color: #174EA6;\n",
       "      --disabled-fill-color: #AAA;\n",
       "      --disabled-bg-color: #DDD;\n",
       "  }\n",
       "\n",
       "  [theme=dark] .colab-df-quickchart {\n",
       "      --bg-color: #3B4455;\n",
       "      --fill-color: #D2E3FC;\n",
       "      --hover-bg-color: #434B5C;\n",
       "      --hover-fill-color: #FFFFFF;\n",
       "      --disabled-bg-color: #3B4455;\n",
       "      --disabled-fill-color: #666;\n",
       "  }\n",
       "\n",
       "  .colab-df-quickchart {\n",
       "    background-color: var(--bg-color);\n",
       "    border: none;\n",
       "    border-radius: 50%;\n",
       "    cursor: pointer;\n",
       "    display: none;\n",
       "    fill: var(--fill-color);\n",
       "    height: 32px;\n",
       "    padding: 0;\n",
       "    width: 32px;\n",
       "  }\n",
       "\n",
       "  .colab-df-quickchart:hover {\n",
       "    background-color: var(--hover-bg-color);\n",
       "    box-shadow: 0 1px 2px rgba(60, 64, 67, 0.3), 0 1px 3px 1px rgba(60, 64, 67, 0.15);\n",
       "    fill: var(--button-hover-fill-color);\n",
       "  }\n",
       "\n",
       "  .colab-df-quickchart-complete:disabled,\n",
       "  .colab-df-quickchart-complete:disabled:hover {\n",
       "    background-color: var(--disabled-bg-color);\n",
       "    fill: var(--disabled-fill-color);\n",
       "    box-shadow: none;\n",
       "  }\n",
       "\n",
       "  .colab-df-spinner {\n",
       "    border: 2px solid var(--fill-color);\n",
       "    border-color: transparent;\n",
       "    border-bottom-color: var(--fill-color);\n",
       "    animation:\n",
       "      spin 1s steps(1) infinite;\n",
       "  }\n",
       "\n",
       "  @keyframes spin {\n",
       "    0% {\n",
       "      border-color: transparent;\n",
       "      border-bottom-color: var(--fill-color);\n",
       "      border-left-color: var(--fill-color);\n",
       "    }\n",
       "    20% {\n",
       "      border-color: transparent;\n",
       "      border-left-color: var(--fill-color);\n",
       "      border-top-color: var(--fill-color);\n",
       "    }\n",
       "    30% {\n",
       "      border-color: transparent;\n",
       "      border-left-color: var(--fill-color);\n",
       "      border-top-color: var(--fill-color);\n",
       "      border-right-color: var(--fill-color);\n",
       "    }\n",
       "    40% {\n",
       "      border-color: transparent;\n",
       "      border-right-color: var(--fill-color);\n",
       "      border-top-color: var(--fill-color);\n",
       "    }\n",
       "    60% {\n",
       "      border-color: transparent;\n",
       "      border-right-color: var(--fill-color);\n",
       "    }\n",
       "    80% {\n",
       "      border-color: transparent;\n",
       "      border-right-color: var(--fill-color);\n",
       "      border-bottom-color: var(--fill-color);\n",
       "    }\n",
       "    90% {\n",
       "      border-color: transparent;\n",
       "      border-bottom-color: var(--fill-color);\n",
       "    }\n",
       "  }\n",
       "</style>\n",
       "\n",
       "  <script>\n",
       "    async function quickchart(key) {\n",
       "      const quickchartButtonEl =\n",
       "        document.querySelector('#' + key + ' button');\n",
       "      quickchartButtonEl.disabled = true;  // To prevent multiple clicks.\n",
       "      quickchartButtonEl.classList.add('colab-df-spinner');\n",
       "      try {\n",
       "        const charts = await google.colab.kernel.invokeFunction(\n",
       "            'suggestCharts', [key], {});\n",
       "      } catch (error) {\n",
       "        console.error('Error during call to suggestCharts:', error);\n",
       "      }\n",
       "      quickchartButtonEl.classList.remove('colab-df-spinner');\n",
       "      quickchartButtonEl.classList.add('colab-df-quickchart-complete');\n",
       "    }\n",
       "    (() => {\n",
       "      let quickchartButtonEl =\n",
       "        document.querySelector('#df-c7152ff2-47ff-4079-a397-32fb2f610656 button');\n",
       "      quickchartButtonEl.style.display =\n",
       "        google.colab.kernel.accessAllowed ? 'block' : 'none';\n",
       "    })();\n",
       "  </script>\n",
       "</div>\n",
       "\n",
       "    </div>\n",
       "  </div>\n"
      ],
      "text/plain": [
       "   PIQ  Brain  Height  Weight\n",
       "0  132  85.78    62.5     127\n",
       "1   96  86.54    68.0     135\n",
       "2   84  90.49    66.3     134\n",
       "3  134  79.06    62.0     122\n",
       "4   86  88.91    70.0     180"
      ]
     },
     "execution_count": 5,
     "metadata": {},
     "output_type": "execute_result"
    }
   ],
   "source": [
    "import pandas as pd\n",
    "df = pd.read_csv(\"https://raw.githubusercontent.com/lovedlim/inf/refs/heads/main/p4/8_3/piq.csv\")\n",
    "df.head()"
   ]
  },
  {
   "cell_type": "code",
   "execution_count": null,
   "id": "6574eafb-02fb-4b94-a137-daf5aec0ce27",
   "metadata": {
    "colab": {
     "base_uri": "https://localhost:8080/"
    },
    "id": "wSuAcY3LdhWA",
    "outputId": "6b71bc2a-68c0-4744-8a79-ad018ddf4486"
   },
   "outputs": [
    {
     "name": "stdout",
     "output_type": "stream",
     "text": [
      "                            OLS Regression Results                            \n",
      "==============================================================================\n",
      "Dep. Variable:                    PIQ   R-squared:                       0.370\n",
      "Model:                            OLS   Adj. R-squared:                  0.329\n",
      "Method:                 Least Squares   F-statistic:                     9.024\n",
      "Date:                Sat, 21 Sep 2024   Prob (F-statistic):           8.25e-05\n",
      "Time:                        06:45:49   Log-Likelihood:                -217.27\n",
      "No. Observations:                  50   AIC:                             442.5\n",
      "Df Residuals:                      46   BIC:                             450.2\n",
      "Df Model:                           3                                         \n",
      "Covariance Type:            nonrobust                                         \n",
      "==============================================================================\n",
      "                 coef    std err          t      P>|t|      [0.025      0.975]\n",
      "------------------------------------------------------------------------------\n",
      "Intercept     74.5114     50.564      1.474      0.147     -27.269     176.292\n",
      "Brain          2.3431      0.456      5.141      0.000       1.426       3.261\n",
      "Height        -2.6444      1.064     -2.485      0.017      -4.786      -0.503\n",
      "Weight         0.0406      0.167      0.243      0.809      -0.296       0.377\n",
      "==============================================================================\n",
      "Omnibus:                        8.608   Durbin-Watson:                   2.386\n",
      "Prob(Omnibus):                  0.014   Jarque-Bera (JB):                2.629\n",
      "Skew:                           0.041   Prob(JB):                        0.269\n",
      "Kurtosis:                       1.880   Cond. No.                     3.48e+03\n",
      "==============================================================================\n",
      "\n",
      "Notes:\n",
      "[1] Standard Errors assume that the covariance matrix of the errors is correctly specified.\n",
      "[2] The condition number is large, 3.48e+03. This might indicate that there are\n",
      "strong multicollinearity or other numerical problems.\n"
     ]
    }
   ],
   "source": [
    "# 1) 다중 선형 회귀 분석\n",
    "from statsmodels.formula.api import ols\n",
    "model = ols('PIQ ~ Brain + Height + Weight', data=df).fit()\n",
    "\n",
    "# 2) 가장 작은 p-value를 가진 변수의 회귀계수 찾기\n",
    "print(model.summary())\n",
    "\n",
    "# 정답: 2.3431"
   ]
  },
  {
   "cell_type": "markdown",
   "id": "4e518c9c-9fa5-45aa-8409-e93d928f87be",
   "metadata": {
    "id": "LAfnt_tiJGf3"
   },
   "source": [
    "### 문제 2-2\n",
    "문제 2-1에 적합한 모델의 결정 계수(R-squared) 값을 구하시오. (반올림하여 소수 둘째 자리까지 계산)"
   ]
  },
  {
   "cell_type": "code",
   "execution_count": null,
   "id": "d25bca2c-e3e7-4fa7-93cb-406a105cf4c5",
   "metadata": {
    "colab": {
     "base_uri": "https://localhost:8080/"
    },
    "id": "BTqty9WtfCvB",
    "outputId": "6f5b8820-d10b-4345-9bb7-517eeb537af3"
   },
   "outputs": [
    {
     "name": "stdout",
     "output_type": "stream",
     "text": [
      "0.37\n"
     ]
    }
   ],
   "source": [
    "# 1) 결정계수(R-squared) 값\n",
    "print(round(model.rsquared, 2))"
   ]
  },
  {
   "cell_type": "markdown",
   "id": "6930b6da-1bc8-47f6-957e-ca583ef01470",
   "metadata": {
    "id": "VwMYwWHHJcRe"
   },
   "source": [
    "### 문제 2-3\n",
    "뇌 크기(Brain)가 90, 키(Height)가 70, 몸무게(Weight)가 150일 때의 PIQ를 예측하시오. (반올림하여 정수로 계산)"
   ]
  },
  {
   "cell_type": "code",
   "execution_count": null,
   "id": "22aee5ed-dac5-48cd-a00a-b3e0011582f8",
   "metadata": {
    "colab": {
     "base_uri": "https://localhost:8080/"
    },
    "id": "hMU1CojaIeQG",
    "outputId": "ee65ef79-353b-4a46-b14a-13fa2eeb9a7b"
   },
   "outputs": [
    {
     "name": "stdout",
     "output_type": "stream",
     "text": [
      "0    106.38302\n",
      "dtype: float64\n",
      "106\n"
     ]
    }
   ],
   "source": [
    "# 1) 새로운 데이터 생성\n",
    "new_data = pd.DataFrame({'Brain':[90], 'Height':[70], 'Weight':[150]})\n",
    "\n",
    "# 2) PIQ 예측\n",
    "pred = model.predict(new_data)\n",
    "print(pred)\n",
    "print(round(pred[0]))"
   ]
  },
  {
   "cell_type": "markdown",
   "id": "d7d85db4-4192-47c9-a983-bf50257a3630",
   "metadata": {},
   "source": [
    "# 기출 7회_작업형3"
   ]
  },
  {
   "cell_type": "markdown",
   "id": "d2edf08c-380a-428c-a8ae-4f212f7cd194",
   "metadata": {
    "id": "paHiKoCrtKnv"
   },
   "source": [
    "## 문제1\n",
    "주어진 조개 데이터 300개 중 앞에서부터 210개는 train 데이터로 만들고, 나머지 90개는 test데이터로 만든다. 모델을 학습(적합)할 때는 train데이터를 사용하고, 예측할 때는 test데이터를 사용한다. 모델은 로지스틱 회귀를 써서 성별(gender)을 예측하되, 패널티는 부과하지 않는다.\n",
    "- 종속변수: gender(0:암컷, 1:수컷)"
   ]
  },
  {
   "cell_type": "markdown",
   "id": "9b17b398-dfd6-4df4-a187-1bca74fb9dd5",
   "metadata": {
    "id": "6NFP8vjOX0eu"
   },
   "source": [
    "### 문제1-1. weight를 독립변수로 gender를 종속변수로 사용하여 로지스틱 회귀 모형을 만들고, weight 변수가 한 단위 증가할 때 수컷일 오즈비 값은? (반올림하여 소수 넷째자리까지 계산)"
   ]
  },
  {
   "cell_type": "code",
   "execution_count": null,
   "id": "ed52c7e2-4588-4ca7-817f-8b37e4804532",
   "metadata": {
    "colab": {
     "base_uri": "https://localhost:8080/"
    },
    "id": "H38dKQCTrB_5",
    "outputId": "fbe81359-64af-4daa-df00-3a334601b5e3"
   },
   "outputs": [
    {
     "name": "stdout",
     "output_type": "stream",
     "text": [
      "(210, 6) (90, 6)\n"
     ]
    }
   ],
   "source": [
    "import pandas as pd\n",
    "df = pd.read_csv(\"https://raw.githubusercontent.com/lovedlim/inf/refs/heads/main/p4/7_3/clam.csv\")\n",
    "\n",
    "# 데이터셋 분할\n",
    "train = df.iloc[:210]\n",
    "test = df.iloc[210:]\n",
    "print(train.shape, test.shape)"
   ]
  },
  {
   "cell_type": "code",
   "execution_count": null,
   "id": "78feb716-0da8-4132-81a2-d7388bad40ad",
   "metadata": {
    "colab": {
     "base_uri": "https://localhost:8080/"
    },
    "id": "m9Y_2uBYFnot",
    "outputId": "526892a7-f67c-42e4-91eb-68970bd5ff2e"
   },
   "outputs": [
    {
     "name": "stdout",
     "output_type": "stream",
     "text": [
      "Optimization terminated successfully.\n",
      "         Current function value: 0.690045\n",
      "         Iterations 4\n",
      "                           Logit Regression Results                           \n",
      "==============================================================================\n",
      "Dep. Variable:                 gender   No. Observations:                  210\n",
      "Model:                          Logit   Df Residuals:                      208\n",
      "Method:                           MLE   Df Model:                            1\n",
      "Date:                Sat, 21 Sep 2024   Pseudo R-squ.:                0.003431\n",
      "Time:                        05:54:09   Log-Likelihood:                -144.91\n",
      "converged:                       True   LL-Null:                       -145.41\n",
      "Covariance Type:            nonrobust   LLR p-value:                    0.3178\n",
      "==============================================================================\n",
      "                 coef    std err          z      P>|z|      [0.025      0.975]\n",
      "------------------------------------------------------------------------------\n",
      "Intercept     -0.3140      0.276     -1.137      0.256      -0.855       0.227\n",
      "weight         0.0047      0.005      0.997      0.319      -0.005       0.014\n",
      "==============================================================================\n",
      "1.0047\n",
      "1.0047\n"
     ]
    }
   ],
   "source": [
    "from statsmodels.formula.api import logit\n",
    "import numpy as np\n",
    "\n",
    "# 1) 로지스틱 회귀 모델 생성 및 학습\n",
    "model = logit(\"gender ~ weight\", data=train).fit()\n",
    "print(model.summary())\n",
    "\n",
    "# 2) 오즈비 계산\n",
    "print(round(np.exp(0.0047),4))\n",
    "print(round(np.exp(model.params['weight']),4))"
   ]
  },
  {
   "cell_type": "code",
   "execution_count": null,
   "id": "81feafd0-9807-4f68-a690-a3179cb2f2fd",
   "metadata": {
    "colab": {
     "base_uri": "https://localhost:8080/"
    },
    "id": "8VXvWUtBejzJ",
    "outputId": "3a8aa570-613b-4973-89e6-0cc32f83c4c2"
   },
   "outputs": [
    {
     "name": "stdout",
     "output_type": "stream",
     "text": [
      "0.9953\n"
     ]
    }
   ],
   "source": [
    "# [참고] <심화학습> 암컷의 오즈비\n",
    "female_odds_ratio = round(np.exp(-model.params['weight']), 4)\n",
    "print(female_odds_ratio)"
   ]
  },
  {
   "cell_type": "markdown",
   "id": "0fb4b8c2-1cb3-4cff-97d2-643b4cb1afa6",
   "metadata": {
    "id": "yeKVhetBtS8N"
   },
   "source": [
    "### 문제1-2. gender를 종속변수로 하고 나머지 변수들(age, length, diameter, height, weight)을 독립변수로 사용하는 로지스틱 회귀 모델을 적합시킨 후, 잔차 이탈도(Residual Deviance)를 계산하시오. (반올림하여 소수 둘째자리까지 계산)"
   ]
  },
  {
   "cell_type": "code",
   "execution_count": null,
   "id": "0ee51d25-5399-4af5-b076-89c0302322e9",
   "metadata": {
    "colab": {
     "base_uri": "https://localhost:8080/"
    },
    "id": "mrJ22ZjDjthA",
    "outputId": "3c0da222-7d3e-47b5-853d-d9ddd0c65107"
   },
   "outputs": [
    {
     "name": "stdout",
     "output_type": "stream",
     "text": [
      "Optimization terminated successfully.\n",
      "         Current function value: 0.683173\n",
      "         Iterations 4\n",
      "                           Logit Regression Results                           \n",
      "==============================================================================\n",
      "Dep. Variable:                 gender   No. Observations:                  210\n",
      "Model:                          Logit   Df Residuals:                      204\n",
      "Method:                           MLE   Df Model:                            5\n",
      "Date:                Sat, 21 Sep 2024   Pseudo R-squ.:                 0.01336\n",
      "Time:                        05:54:09   Log-Likelihood:                -143.47\n",
      "converged:                       True   LL-Null:                       -145.41\n",
      "Covariance Type:            nonrobust   LLR p-value:                    0.5662\n",
      "==============================================================================\n",
      "                 coef    std err          z      P>|z|      [0.025      0.975]\n",
      "------------------------------------------------------------------------------\n",
      "Intercept      0.6701      0.651      1.030      0.303      -0.605       1.946\n",
      "age           -0.0482      0.055     -0.881      0.378      -0.156       0.059\n",
      "length        -0.7832      0.998     -0.785      0.433      -2.739       1.173\n",
      "diameter      -1.1573      1.389     -0.833      0.405      -3.880       1.565\n",
      "height        -2.2977      2.640     -0.870      0.384      -7.472       2.877\n",
      "weight         0.0054      0.005      1.098      0.272      -0.004       0.015\n",
      "==============================================================================\n",
      "286.93\n"
     ]
    }
   ],
   "source": [
    "# 방법1\n",
    "from statsmodels.formula.api import logit\n",
    "\n",
    "# 1) 로지스틱 회귀 모델 생성 및 학습\n",
    "model = logit(\"gender ~ age + length + diameter + height + weight\", data=train).fit()\n",
    "print(model.summary())\n",
    "\n",
    "# 2) 잔차 이탈도 계산\n",
    "print(round(-2 * model.llf,2))"
   ]
  },
  {
   "cell_type": "code",
   "execution_count": null,
   "id": "9e39868f-baa4-4e1b-82b1-e7b738314323",
   "metadata": {
    "colab": {
     "base_uri": "https://localhost:8080/"
    },
    "id": "w970_hIsSV2U",
    "outputId": "311dda4a-b242-4df2-c148-9d0f8b7e5f70"
   },
   "outputs": [
    {
     "name": "stdout",
     "output_type": "stream",
     "text": [
      "                 Generalized Linear Model Regression Results                  \n",
      "==============================================================================\n",
      "Dep. Variable:                 gender   No. Observations:                  210\n",
      "Model:                            GLM   Df Residuals:                      204\n",
      "Model Family:                Binomial   Df Model:                            5\n",
      "Link Function:                  Logit   Scale:                          1.0000\n",
      "Method:                          IRLS   Log-Likelihood:                -143.47\n",
      "Date:                Sat, 21 Sep 2024   Deviance:                       286.93\n",
      "Time:                        05:54:09   Pearson chi2:                     210.\n",
      "No. Iterations:                     4   Pseudo R-squ. (CS):            0.01833\n",
      "Covariance Type:            nonrobust                                         \n",
      "==============================================================================\n",
      "                 coef    std err          z      P>|z|      [0.025      0.975]\n",
      "------------------------------------------------------------------------------\n",
      "Intercept      0.6701      0.651      1.030      0.303      -0.605       1.946\n",
      "age           -0.0482      0.055     -0.881      0.378      -0.156       0.059\n",
      "length        -0.7832      0.998     -0.785      0.433      -2.739       1.173\n",
      "diameter      -1.1573      1.389     -0.833      0.405      -3.880       1.565\n",
      "height        -2.2977      2.640     -0.870      0.384      -7.472       2.877\n",
      "weight         0.0054      0.005      1.098      0.272      -0.004       0.015\n",
      "==============================================================================\n",
      "286.93\n"
     ]
    }
   ],
   "source": [
    "# 방법2\n",
    "from statsmodels.formula.api import glm\n",
    "import statsmodels.api as sm\n",
    "\n",
    "# 1) glm 모델 적합 (로지스틱 회귀를 위해 이항 분포 사용)\n",
    "formula = \"gender ~ age + length + diameter + height + weight\"\n",
    "model = glm(formula, data=train, family=sm.families.Binomial()).fit()\n",
    "\n",
    "# 2) 잔차이탈도 계산\n",
    "print(model.summary())\n",
    "print(round(model.deviance,2))"
   ]
  },
  {
   "cell_type": "markdown",
   "id": "d4e0db78-84bd-4d9a-b440-8722e24d488b",
   "metadata": {
    "id": "x4u7dfFTtUs9"
   },
   "source": [
    "### 문제1-3. 독립변수 weight 만 사용해 학습한 로지스틱 회귀모델에서 test데이터의 gender를 예측하고, error rate(오류율)를 구하시오. (반올림하여 소수 셋째자리까지 계산)"
   ]
  },
  {
   "cell_type": "code",
   "execution_count": null,
   "id": "d72f069a-fc0d-4c54-96e4-9559f687bc6d",
   "metadata": {
    "colab": {
     "base_uri": "https://localhost:8080/"
    },
    "id": "7x8XLDu4HksT",
    "outputId": "d9c4a422-f25b-40f6-b90b-43da0e2cd664"
   },
   "outputs": [
    {
     "name": "stdout",
     "output_type": "stream",
     "text": [
      "Optimization terminated successfully.\n",
      "         Current function value: 0.690045\n",
      "         Iterations 4\n",
      "0.478\n"
     ]
    }
   ],
   "source": [
    "from sklearn.metrics import accuracy_score\n",
    "from statsmodels.formula.api import logit\n",
    "\n",
    "# 데이터셋 분할\n",
    "train = df.iloc[:210]\n",
    "test = df.iloc[210:]\n",
    "\n",
    "# 1) 학습, test데이터를 사용해 예측 (0.5 미만: 0, 0.5 이상 1)\n",
    "model = logit(\"gender ~ weight\", data=train).fit()\n",
    "target = test.pop(\"gender\")\n",
    "pred = model.predict(test) > 0.5\n",
    "\n",
    "# 2) 실제 값과 예측 값을 사용하여 정확도 계산\n",
    "acc = accuracy_score(target, pred)\n",
    "\n",
    "# 3) 오류율 계산\n",
    "print(round(1-acc,3))"
   ]
  },
  {
   "cell_type": "code",
   "execution_count": null,
   "id": "9ab4e20e-67d9-4635-a9a4-c6297afc7774",
   "metadata": {
    "colab": {
     "base_uri": "https://localhost:8080/"
    },
    "id": "qplJXpi_9Bu8",
    "outputId": "0ee82852-9a56-48de-a17a-f7b0eb3f36fa"
   },
   "outputs": [
    {
     "name": "stdout",
     "output_type": "stream",
     "text": [
      "0.478\n"
     ]
    }
   ],
   "source": [
    "# 다른 풀이 (사이킷런)\n",
    "from sklearn.metrics import accuracy_score\n",
    "from sklearn.linear_model import LogisticRegression\n",
    "\n",
    "train = df.iloc[:210]\n",
    "test = df.iloc[210:]\n",
    "\n",
    "# 1) 학습 데이터와 테스트 데이터 분리\n",
    "X_train = train[['weight']]\n",
    "y_train = train['gender']\n",
    "X_test = test[['weight']]\n",
    "y_test = test['gender']\n",
    "\n",
    "# 2) 로지스틱 회귀 모델 학습\n",
    "model = LogisticRegression()\n",
    "model.fit(X_train, y_train)\n",
    "\n",
    "# 3) 테스트 데이터를 사용해 예측\n",
    "pred = model.predict(X_test)\n",
    "\n",
    "# 4) 실제 값과 예측값을 사용하여 정확도 계산\n",
    "acc = accuracy_score(y_test, pred)\n",
    "\n",
    "# 5) 오류율 계산\n",
    "print(round(1 - acc, 3))"
   ]
  },
  {
   "cell_type": "markdown",
   "id": "e0799032-f7c2-4463-8f58-d58b491ac766",
   "metadata": {},
   "source": [
    "## 문제2"
   ]
  },
  {
   "cell_type": "markdown",
   "id": "bac93323-5843-4613-b2bf-3e1a1471260c",
   "metadata": {
    "id": "4MSQ0eB1tWsh"
   },
   "source": [
    "### 문제2-1. ERP와 가장 상관관계 높은값을 구하시오. (반올림하여 소수 셋째자리까지 계산)"
   ]
  },
  {
   "cell_type": "code",
   "execution_count": null,
   "id": "16a2453e-2ec0-4251-880e-63259c482b74",
   "metadata": {
    "colab": {
     "base_uri": "https://localhost:8080/",
     "height": 143
    },
    "id": "OlvzgzRDcNt8",
    "outputId": "878740b1-2a3f-450e-cff7-2a460449c205"
   },
   "outputs": [
    {
     "data": {
      "application/vnd.google.colaboratory.intrinsic+json": {
       "summary": "{\n  \"name\": \"df\",\n  \"rows\": 100,\n  \"fields\": [\n    {\n      \"column\": \"ERP\",\n      \"properties\": {\n        \"dtype\": \"number\",\n        \"std\": 20.259195385370035,\n        \"min\": 48.94020368331843,\n        \"max\": 145.39509247975215,\n        \"num_unique_values\": 100,\n        \"samples\": [\n          69.27512627445552,\n          76.38735631755176,\n          114.58181124355072\n        ],\n        \"semantic_type\": \"\",\n        \"description\": \"\"\n      }\n    },\n    {\n      \"column\": \"Feature1\",\n      \"properties\": {\n        \"dtype\": \"number\",\n        \"std\": 60.80665490632658,\n        \"min\": -48.5652407934391,\n        \"max\": 235.0880338633348,\n        \"num_unique_values\": 100,\n        \"samples\": [\n          -48.5652407934391,\n          32.586113768624,\n          163.38732890393413\n        ],\n        \"semantic_type\": \"\",\n        \"description\": \"\"\n      }\n    },\n    {\n      \"column\": \"Feature2\",\n      \"properties\": {\n        \"dtype\": \"number\",\n        \"std\": 14.351979484738417,\n        \"min\": 8.411108653600245,\n        \"max\": 84.55875046525912,\n        \"num_unique_values\": 100,\n        \"samples\": [\n          73.04565581368696,\n          45.210073742823575,\n          55.98569518460195\n        ],\n        \"semantic_type\": \"\",\n        \"description\": \"\"\n      }\n    },\n    {\n      \"column\": \"Feature3\",\n      \"properties\": {\n        \"dtype\": \"number\",\n        \"std\": 4.670185191697284,\n        \"min\": -43.2958611899837,\n        \"max\": -18.716382513508957,\n        \"num_unique_values\": 100,\n        \"samples\": [\n          -35.11253421817802,\n          -33.44724592274969,\n          -28.59779147341852\n        ],\n        \"semantic_type\": \"\",\n        \"description\": \"\"\n      }\n    },\n    {\n      \"column\": \"CPU\",\n      \"properties\": {\n        \"dtype\": \"number\",\n        \"std\": 30.281163894862836,\n        \"min\": 0.2703213893502698,\n        \"max\": 99.79622513286736,\n        \"num_unique_values\": 100,\n        \"samples\": [\n          97.95269293354586,\n          96.82864102942972,\n          3.961552257951773\n        ],\n        \"semantic_type\": \"\",\n        \"description\": \"\"\n      }\n    }\n  ]\n}",
       "type": "dataframe",
       "variable_name": "df"
      },
      "text/html": [
       "\n",
       "  <div id=\"df-fd807e9f-a753-4034-a011-02f2fe1c8c3e\" class=\"colab-df-container\">\n",
       "    <div>\n",
       "<style scoped>\n",
       "    .dataframe tbody tr th:only-of-type {\n",
       "        vertical-align: middle;\n",
       "    }\n",
       "\n",
       "    .dataframe tbody tr th {\n",
       "        vertical-align: top;\n",
       "    }\n",
       "\n",
       "    .dataframe thead th {\n",
       "        text-align: right;\n",
       "    }\n",
       "</style>\n",
       "<table border=\"1\" class=\"dataframe\">\n",
       "  <thead>\n",
       "    <tr style=\"text-align: right;\">\n",
       "      <th></th>\n",
       "      <th>ERP</th>\n",
       "      <th>Feature1</th>\n",
       "      <th>Feature2</th>\n",
       "      <th>Feature3</th>\n",
       "      <th>CPU</th>\n",
       "    </tr>\n",
       "  </thead>\n",
       "  <tbody>\n",
       "    <tr>\n",
       "      <th>0</th>\n",
       "      <td>135.281047</td>\n",
       "      <td>235.088034</td>\n",
       "      <td>44.462272</td>\n",
       "      <td>-36.532634</td>\n",
       "      <td>20.492369</td>\n",
       "    </tr>\n",
       "    <tr>\n",
       "      <th>1</th>\n",
       "      <td>108.003144</td>\n",
       "      <td>36.571914</td>\n",
       "      <td>46.409312</td>\n",
       "      <td>-21.709347</td>\n",
       "      <td>34.169811</td>\n",
       "    </tr>\n",
       "    <tr>\n",
       "      <th>2</th>\n",
       "      <td>119.574760</td>\n",
       "      <td>52.239055</td>\n",
       "      <td>66.494894</td>\n",
       "      <td>-30.590820</td>\n",
       "      <td>67.624248</td>\n",
       "    </tr>\n",
       "  </tbody>\n",
       "</table>\n",
       "</div>\n",
       "    <div class=\"colab-df-buttons\">\n",
       "\n",
       "  <div class=\"colab-df-container\">\n",
       "    <button class=\"colab-df-convert\" onclick=\"convertToInteractive('df-fd807e9f-a753-4034-a011-02f2fe1c8c3e')\"\n",
       "            title=\"Convert this dataframe to an interactive table.\"\n",
       "            style=\"display:none;\">\n",
       "\n",
       "  <svg xmlns=\"http://www.w3.org/2000/svg\" height=\"24px\" viewBox=\"0 -960 960 960\">\n",
       "    <path d=\"M120-120v-720h720v720H120Zm60-500h600v-160H180v160Zm220 220h160v-160H400v160Zm0 220h160v-160H400v160ZM180-400h160v-160H180v160Zm440 0h160v-160H620v160ZM180-180h160v-160H180v160Zm440 0h160v-160H620v160Z\"/>\n",
       "  </svg>\n",
       "    </button>\n",
       "\n",
       "  <style>\n",
       "    .colab-df-container {\n",
       "      display:flex;\n",
       "      gap: 12px;\n",
       "    }\n",
       "\n",
       "    .colab-df-convert {\n",
       "      background-color: #E8F0FE;\n",
       "      border: none;\n",
       "      border-radius: 50%;\n",
       "      cursor: pointer;\n",
       "      display: none;\n",
       "      fill: #1967D2;\n",
       "      height: 32px;\n",
       "      padding: 0 0 0 0;\n",
       "      width: 32px;\n",
       "    }\n",
       "\n",
       "    .colab-df-convert:hover {\n",
       "      background-color: #E2EBFA;\n",
       "      box-shadow: 0px 1px 2px rgba(60, 64, 67, 0.3), 0px 1px 3px 1px rgba(60, 64, 67, 0.15);\n",
       "      fill: #174EA6;\n",
       "    }\n",
       "\n",
       "    .colab-df-buttons div {\n",
       "      margin-bottom: 4px;\n",
       "    }\n",
       "\n",
       "    [theme=dark] .colab-df-convert {\n",
       "      background-color: #3B4455;\n",
       "      fill: #D2E3FC;\n",
       "    }\n",
       "\n",
       "    [theme=dark] .colab-df-convert:hover {\n",
       "      background-color: #434B5C;\n",
       "      box-shadow: 0px 1px 3px 1px rgba(0, 0, 0, 0.15);\n",
       "      filter: drop-shadow(0px 1px 2px rgba(0, 0, 0, 0.3));\n",
       "      fill: #FFFFFF;\n",
       "    }\n",
       "  </style>\n",
       "\n",
       "    <script>\n",
       "      const buttonEl =\n",
       "        document.querySelector('#df-fd807e9f-a753-4034-a011-02f2fe1c8c3e button.colab-df-convert');\n",
       "      buttonEl.style.display =\n",
       "        google.colab.kernel.accessAllowed ? 'block' : 'none';\n",
       "\n",
       "      async function convertToInteractive(key) {\n",
       "        const element = document.querySelector('#df-fd807e9f-a753-4034-a011-02f2fe1c8c3e');\n",
       "        const dataTable =\n",
       "          await google.colab.kernel.invokeFunction('convertToInteractive',\n",
       "                                                    [key], {});\n",
       "        if (!dataTable) return;\n",
       "\n",
       "        const docLinkHtml = 'Like what you see? Visit the ' +\n",
       "          '<a target=\"_blank\" href=https://colab.research.google.com/notebooks/data_table.ipynb>data table notebook</a>'\n",
       "          + ' to learn more about interactive tables.';\n",
       "        element.innerHTML = '';\n",
       "        dataTable['output_type'] = 'display_data';\n",
       "        await google.colab.output.renderOutput(dataTable, element);\n",
       "        const docLink = document.createElement('div');\n",
       "        docLink.innerHTML = docLinkHtml;\n",
       "        element.appendChild(docLink);\n",
       "      }\n",
       "    </script>\n",
       "  </div>\n",
       "\n",
       "\n",
       "<div id=\"df-977ef2fb-b6e3-4640-9dd6-fccf14be3e34\">\n",
       "  <button class=\"colab-df-quickchart\" onclick=\"quickchart('df-977ef2fb-b6e3-4640-9dd6-fccf14be3e34')\"\n",
       "            title=\"Suggest charts\"\n",
       "            style=\"display:none;\">\n",
       "\n",
       "<svg xmlns=\"http://www.w3.org/2000/svg\" height=\"24px\"viewBox=\"0 0 24 24\"\n",
       "     width=\"24px\">\n",
       "    <g>\n",
       "        <path d=\"M19 3H5c-1.1 0-2 .9-2 2v14c0 1.1.9 2 2 2h14c1.1 0 2-.9 2-2V5c0-1.1-.9-2-2-2zM9 17H7v-7h2v7zm4 0h-2V7h2v10zm4 0h-2v-4h2v4z\"/>\n",
       "    </g>\n",
       "</svg>\n",
       "  </button>\n",
       "\n",
       "<style>\n",
       "  .colab-df-quickchart {\n",
       "      --bg-color: #E8F0FE;\n",
       "      --fill-color: #1967D2;\n",
       "      --hover-bg-color: #E2EBFA;\n",
       "      --hover-fill-color: #174EA6;\n",
       "      --disabled-fill-color: #AAA;\n",
       "      --disabled-bg-color: #DDD;\n",
       "  }\n",
       "\n",
       "  [theme=dark] .colab-df-quickchart {\n",
       "      --bg-color: #3B4455;\n",
       "      --fill-color: #D2E3FC;\n",
       "      --hover-bg-color: #434B5C;\n",
       "      --hover-fill-color: #FFFFFF;\n",
       "      --disabled-bg-color: #3B4455;\n",
       "      --disabled-fill-color: #666;\n",
       "  }\n",
       "\n",
       "  .colab-df-quickchart {\n",
       "    background-color: var(--bg-color);\n",
       "    border: none;\n",
       "    border-radius: 50%;\n",
       "    cursor: pointer;\n",
       "    display: none;\n",
       "    fill: var(--fill-color);\n",
       "    height: 32px;\n",
       "    padding: 0;\n",
       "    width: 32px;\n",
       "  }\n",
       "\n",
       "  .colab-df-quickchart:hover {\n",
       "    background-color: var(--hover-bg-color);\n",
       "    box-shadow: 0 1px 2px rgba(60, 64, 67, 0.3), 0 1px 3px 1px rgba(60, 64, 67, 0.15);\n",
       "    fill: var(--button-hover-fill-color);\n",
       "  }\n",
       "\n",
       "  .colab-df-quickchart-complete:disabled,\n",
       "  .colab-df-quickchart-complete:disabled:hover {\n",
       "    background-color: var(--disabled-bg-color);\n",
       "    fill: var(--disabled-fill-color);\n",
       "    box-shadow: none;\n",
       "  }\n",
       "\n",
       "  .colab-df-spinner {\n",
       "    border: 2px solid var(--fill-color);\n",
       "    border-color: transparent;\n",
       "    border-bottom-color: var(--fill-color);\n",
       "    animation:\n",
       "      spin 1s steps(1) infinite;\n",
       "  }\n",
       "\n",
       "  @keyframes spin {\n",
       "    0% {\n",
       "      border-color: transparent;\n",
       "      border-bottom-color: var(--fill-color);\n",
       "      border-left-color: var(--fill-color);\n",
       "    }\n",
       "    20% {\n",
       "      border-color: transparent;\n",
       "      border-left-color: var(--fill-color);\n",
       "      border-top-color: var(--fill-color);\n",
       "    }\n",
       "    30% {\n",
       "      border-color: transparent;\n",
       "      border-left-color: var(--fill-color);\n",
       "      border-top-color: var(--fill-color);\n",
       "      border-right-color: var(--fill-color);\n",
       "    }\n",
       "    40% {\n",
       "      border-color: transparent;\n",
       "      border-right-color: var(--fill-color);\n",
       "      border-top-color: var(--fill-color);\n",
       "    }\n",
       "    60% {\n",
       "      border-color: transparent;\n",
       "      border-right-color: var(--fill-color);\n",
       "    }\n",
       "    80% {\n",
       "      border-color: transparent;\n",
       "      border-right-color: var(--fill-color);\n",
       "      border-bottom-color: var(--fill-color);\n",
       "    }\n",
       "    90% {\n",
       "      border-color: transparent;\n",
       "      border-bottom-color: var(--fill-color);\n",
       "    }\n",
       "  }\n",
       "</style>\n",
       "\n",
       "  <script>\n",
       "    async function quickchart(key) {\n",
       "      const quickchartButtonEl =\n",
       "        document.querySelector('#' + key + ' button');\n",
       "      quickchartButtonEl.disabled = true;  // To prevent multiple clicks.\n",
       "      quickchartButtonEl.classList.add('colab-df-spinner');\n",
       "      try {\n",
       "        const charts = await google.colab.kernel.invokeFunction(\n",
       "            'suggestCharts', [key], {});\n",
       "      } catch (error) {\n",
       "        console.error('Error during call to suggestCharts:', error);\n",
       "      }\n",
       "      quickchartButtonEl.classList.remove('colab-df-spinner');\n",
       "      quickchartButtonEl.classList.add('colab-df-quickchart-complete');\n",
       "    }\n",
       "    (() => {\n",
       "      let quickchartButtonEl =\n",
       "        document.querySelector('#df-977ef2fb-b6e3-4640-9dd6-fccf14be3e34 button');\n",
       "      quickchartButtonEl.style.display =\n",
       "        google.colab.kernel.accessAllowed ? 'block' : 'none';\n",
       "    })();\n",
       "  </script>\n",
       "</div>\n",
       "\n",
       "    </div>\n",
       "  </div>\n"
      ],
      "text/plain": [
       "          ERP    Feature1   Feature2   Feature3        CPU\n",
       "0  135.281047  235.088034  44.462272 -36.532634  20.492369\n",
       "1  108.003144   36.571914  46.409312 -21.709347  34.169811\n",
       "2  119.574760   52.239055  66.494894 -30.590820  67.624248"
      ]
     },
     "execution_count": 21,
     "metadata": {},
     "output_type": "execute_result"
    }
   ],
   "source": [
    "import pandas as pd\n",
    "df = pd.read_csv(\"https://raw.githubusercontent.com/lovedlim/inf/refs/heads/main/p4/7_3/system.csv\")\n",
    "df.head(3)"
   ]
  },
  {
   "cell_type": "code",
   "execution_count": null,
   "id": "9e1c9c86-3ab8-414d-b6f0-ef7540c481ea",
   "metadata": {
    "colab": {
     "base_uri": "https://localhost:8080/",
     "height": 206
    },
    "id": "6POPUMi3Axb6",
    "outputId": "5d649f6e-cf36-43e2-9716-3c9c13953ac3"
   },
   "outputs": [
    {
     "data": {
      "application/vnd.google.colaboratory.intrinsic+json": {
       "summary": "{\n  \"name\": \"# 0\",\n  \"rows\": 5,\n  \"fields\": [\n    {\n      \"column\": \"ERP\",\n      \"properties\": {\n        \"dtype\": \"number\",\n        \"std\": 0.481199216686988,\n        \"min\": -0.20102723783349116,\n        \"max\": 1.0,\n        \"num_unique_values\": 5,\n        \"samples\": [\n          0.43444249747725106,\n          -0.20102723783349116,\n          0.07611595177727812\n        ],\n        \"semantic_type\": \"\",\n        \"description\": \"\"\n      }\n    },\n    {\n      \"column\": \"Feature1\",\n      \"properties\": {\n        \"dtype\": \"number\",\n        \"std\": 0.4413797548501337,\n        \"min\": -0.09857078795116925,\n        \"max\": 1.0,\n        \"num_unique_values\": 5,\n        \"samples\": [\n          1.0,\n          -0.09857078795116925,\n          0.07614838763603192\n        ],\n        \"semantic_type\": \"\",\n        \"description\": \"\"\n      }\n    },\n    {\n      \"column\": \"Feature2\",\n      \"properties\": {\n        \"dtype\": \"number\",\n        \"std\": 0.4086734180977159,\n        \"min\": 0.0714557952074871,\n        \"max\": 1.0,\n        \"num_unique_values\": 5,\n        \"samples\": [\n          0.07614838763603192,\n          0.0714557952074871,\n          1.0\n        ],\n        \"semantic_type\": \"\",\n        \"description\": \"\"\n      }\n    },\n    {\n      \"column\": \"Feature3\",\n      \"properties\": {\n        \"dtype\": \"number\",\n        \"std\": 0.44425542523389533,\n        \"min\": -0.05988788881587478,\n        \"max\": 1.0,\n        \"num_unique_values\": 5,\n        \"samples\": [\n          0.049979695579111603,\n          -0.03524653455516123,\n          0.1265894119164779\n        ],\n        \"semantic_type\": \"\",\n        \"description\": \"\"\n      }\n    },\n    {\n      \"column\": \"CPU\",\n      \"properties\": {\n        \"dtype\": \"number\",\n        \"std\": 0.4868154622617554,\n        \"min\": -0.20102723783349116,\n        \"max\": 1.0,\n        \"num_unique_values\": 5,\n        \"samples\": [\n          -0.09857078795116925,\n          1.0,\n          0.0714557952074871\n        ],\n        \"semantic_type\": \"\",\n        \"description\": \"\"\n      }\n    }\n  ]\n}",
       "type": "dataframe"
      },
      "text/html": [
       "\n",
       "  <div id=\"df-323a50ec-747e-4be9-8902-e064f947cf9c\" class=\"colab-df-container\">\n",
       "    <div>\n",
       "<style scoped>\n",
       "    .dataframe tbody tr th:only-of-type {\n",
       "        vertical-align: middle;\n",
       "    }\n",
       "\n",
       "    .dataframe tbody tr th {\n",
       "        vertical-align: top;\n",
       "    }\n",
       "\n",
       "    .dataframe thead th {\n",
       "        text-align: right;\n",
       "    }\n",
       "</style>\n",
       "<table border=\"1\" class=\"dataframe\">\n",
       "  <thead>\n",
       "    <tr style=\"text-align: right;\">\n",
       "      <th></th>\n",
       "      <th>ERP</th>\n",
       "      <th>Feature1</th>\n",
       "      <th>Feature2</th>\n",
       "      <th>Feature3</th>\n",
       "      <th>CPU</th>\n",
       "    </tr>\n",
       "  </thead>\n",
       "  <tbody>\n",
       "    <tr>\n",
       "      <th>ERP</th>\n",
       "      <td>1.000000</td>\n",
       "      <td>0.434442</td>\n",
       "      <td>0.076116</td>\n",
       "      <td>-0.059888</td>\n",
       "      <td>-0.201027</td>\n",
       "    </tr>\n",
       "    <tr>\n",
       "      <th>Feature1</th>\n",
       "      <td>0.434442</td>\n",
       "      <td>1.000000</td>\n",
       "      <td>0.076148</td>\n",
       "      <td>0.049980</td>\n",
       "      <td>-0.098571</td>\n",
       "    </tr>\n",
       "    <tr>\n",
       "      <th>Feature2</th>\n",
       "      <td>0.076116</td>\n",
       "      <td>0.076148</td>\n",
       "      <td>1.000000</td>\n",
       "      <td>0.126589</td>\n",
       "      <td>0.071456</td>\n",
       "    </tr>\n",
       "    <tr>\n",
       "      <th>Feature3</th>\n",
       "      <td>-0.059888</td>\n",
       "      <td>0.049980</td>\n",
       "      <td>0.126589</td>\n",
       "      <td>1.000000</td>\n",
       "      <td>-0.035247</td>\n",
       "    </tr>\n",
       "    <tr>\n",
       "      <th>CPU</th>\n",
       "      <td>-0.201027</td>\n",
       "      <td>-0.098571</td>\n",
       "      <td>0.071456</td>\n",
       "      <td>-0.035247</td>\n",
       "      <td>1.000000</td>\n",
       "    </tr>\n",
       "  </tbody>\n",
       "</table>\n",
       "</div>\n",
       "    <div class=\"colab-df-buttons\">\n",
       "\n",
       "  <div class=\"colab-df-container\">\n",
       "    <button class=\"colab-df-convert\" onclick=\"convertToInteractive('df-323a50ec-747e-4be9-8902-e064f947cf9c')\"\n",
       "            title=\"Convert this dataframe to an interactive table.\"\n",
       "            style=\"display:none;\">\n",
       "\n",
       "  <svg xmlns=\"http://www.w3.org/2000/svg\" height=\"24px\" viewBox=\"0 -960 960 960\">\n",
       "    <path d=\"M120-120v-720h720v720H120Zm60-500h600v-160H180v160Zm220 220h160v-160H400v160Zm0 220h160v-160H400v160ZM180-400h160v-160H180v160Zm440 0h160v-160H620v160ZM180-180h160v-160H180v160Zm440 0h160v-160H620v160Z\"/>\n",
       "  </svg>\n",
       "    </button>\n",
       "\n",
       "  <style>\n",
       "    .colab-df-container {\n",
       "      display:flex;\n",
       "      gap: 12px;\n",
       "    }\n",
       "\n",
       "    .colab-df-convert {\n",
       "      background-color: #E8F0FE;\n",
       "      border: none;\n",
       "      border-radius: 50%;\n",
       "      cursor: pointer;\n",
       "      display: none;\n",
       "      fill: #1967D2;\n",
       "      height: 32px;\n",
       "      padding: 0 0 0 0;\n",
       "      width: 32px;\n",
       "    }\n",
       "\n",
       "    .colab-df-convert:hover {\n",
       "      background-color: #E2EBFA;\n",
       "      box-shadow: 0px 1px 2px rgba(60, 64, 67, 0.3), 0px 1px 3px 1px rgba(60, 64, 67, 0.15);\n",
       "      fill: #174EA6;\n",
       "    }\n",
       "\n",
       "    .colab-df-buttons div {\n",
       "      margin-bottom: 4px;\n",
       "    }\n",
       "\n",
       "    [theme=dark] .colab-df-convert {\n",
       "      background-color: #3B4455;\n",
       "      fill: #D2E3FC;\n",
       "    }\n",
       "\n",
       "    [theme=dark] .colab-df-convert:hover {\n",
       "      background-color: #434B5C;\n",
       "      box-shadow: 0px 1px 3px 1px rgba(0, 0, 0, 0.15);\n",
       "      filter: drop-shadow(0px 1px 2px rgba(0, 0, 0, 0.3));\n",
       "      fill: #FFFFFF;\n",
       "    }\n",
       "  </style>\n",
       "\n",
       "    <script>\n",
       "      const buttonEl =\n",
       "        document.querySelector('#df-323a50ec-747e-4be9-8902-e064f947cf9c button.colab-df-convert');\n",
       "      buttonEl.style.display =\n",
       "        google.colab.kernel.accessAllowed ? 'block' : 'none';\n",
       "\n",
       "      async function convertToInteractive(key) {\n",
       "        const element = document.querySelector('#df-323a50ec-747e-4be9-8902-e064f947cf9c');\n",
       "        const dataTable =\n",
       "          await google.colab.kernel.invokeFunction('convertToInteractive',\n",
       "                                                    [key], {});\n",
       "        if (!dataTable) return;\n",
       "\n",
       "        const docLinkHtml = 'Like what you see? Visit the ' +\n",
       "          '<a target=\"_blank\" href=https://colab.research.google.com/notebooks/data_table.ipynb>data table notebook</a>'\n",
       "          + ' to learn more about interactive tables.';\n",
       "        element.innerHTML = '';\n",
       "        dataTable['output_type'] = 'display_data';\n",
       "        await google.colab.output.renderOutput(dataTable, element);\n",
       "        const docLink = document.createElement('div');\n",
       "        docLink.innerHTML = docLinkHtml;\n",
       "        element.appendChild(docLink);\n",
       "      }\n",
       "    </script>\n",
       "  </div>\n",
       "\n",
       "\n",
       "<div id=\"df-3e071c7c-0a41-46b8-8a28-f83e3f21fc08\">\n",
       "  <button class=\"colab-df-quickchart\" onclick=\"quickchart('df-3e071c7c-0a41-46b8-8a28-f83e3f21fc08')\"\n",
       "            title=\"Suggest charts\"\n",
       "            style=\"display:none;\">\n",
       "\n",
       "<svg xmlns=\"http://www.w3.org/2000/svg\" height=\"24px\"viewBox=\"0 0 24 24\"\n",
       "     width=\"24px\">\n",
       "    <g>\n",
       "        <path d=\"M19 3H5c-1.1 0-2 .9-2 2v14c0 1.1.9 2 2 2h14c1.1 0 2-.9 2-2V5c0-1.1-.9-2-2-2zM9 17H7v-7h2v7zm4 0h-2V7h2v10zm4 0h-2v-4h2v4z\"/>\n",
       "    </g>\n",
       "</svg>\n",
       "  </button>\n",
       "\n",
       "<style>\n",
       "  .colab-df-quickchart {\n",
       "      --bg-color: #E8F0FE;\n",
       "      --fill-color: #1967D2;\n",
       "      --hover-bg-color: #E2EBFA;\n",
       "      --hover-fill-color: #174EA6;\n",
       "      --disabled-fill-color: #AAA;\n",
       "      --disabled-bg-color: #DDD;\n",
       "  }\n",
       "\n",
       "  [theme=dark] .colab-df-quickchart {\n",
       "      --bg-color: #3B4455;\n",
       "      --fill-color: #D2E3FC;\n",
       "      --hover-bg-color: #434B5C;\n",
       "      --hover-fill-color: #FFFFFF;\n",
       "      --disabled-bg-color: #3B4455;\n",
       "      --disabled-fill-color: #666;\n",
       "  }\n",
       "\n",
       "  .colab-df-quickchart {\n",
       "    background-color: var(--bg-color);\n",
       "    border: none;\n",
       "    border-radius: 50%;\n",
       "    cursor: pointer;\n",
       "    display: none;\n",
       "    fill: var(--fill-color);\n",
       "    height: 32px;\n",
       "    padding: 0;\n",
       "    width: 32px;\n",
       "  }\n",
       "\n",
       "  .colab-df-quickchart:hover {\n",
       "    background-color: var(--hover-bg-color);\n",
       "    box-shadow: 0 1px 2px rgba(60, 64, 67, 0.3), 0 1px 3px 1px rgba(60, 64, 67, 0.15);\n",
       "    fill: var(--button-hover-fill-color);\n",
       "  }\n",
       "\n",
       "  .colab-df-quickchart-complete:disabled,\n",
       "  .colab-df-quickchart-complete:disabled:hover {\n",
       "    background-color: var(--disabled-bg-color);\n",
       "    fill: var(--disabled-fill-color);\n",
       "    box-shadow: none;\n",
       "  }\n",
       "\n",
       "  .colab-df-spinner {\n",
       "    border: 2px solid var(--fill-color);\n",
       "    border-color: transparent;\n",
       "    border-bottom-color: var(--fill-color);\n",
       "    animation:\n",
       "      spin 1s steps(1) infinite;\n",
       "  }\n",
       "\n",
       "  @keyframes spin {\n",
       "    0% {\n",
       "      border-color: transparent;\n",
       "      border-bottom-color: var(--fill-color);\n",
       "      border-left-color: var(--fill-color);\n",
       "    }\n",
       "    20% {\n",
       "      border-color: transparent;\n",
       "      border-left-color: var(--fill-color);\n",
       "      border-top-color: var(--fill-color);\n",
       "    }\n",
       "    30% {\n",
       "      border-color: transparent;\n",
       "      border-left-color: var(--fill-color);\n",
       "      border-top-color: var(--fill-color);\n",
       "      border-right-color: var(--fill-color);\n",
       "    }\n",
       "    40% {\n",
       "      border-color: transparent;\n",
       "      border-right-color: var(--fill-color);\n",
       "      border-top-color: var(--fill-color);\n",
       "    }\n",
       "    60% {\n",
       "      border-color: transparent;\n",
       "      border-right-color: var(--fill-color);\n",
       "    }\n",
       "    80% {\n",
       "      border-color: transparent;\n",
       "      border-right-color: var(--fill-color);\n",
       "      border-bottom-color: var(--fill-color);\n",
       "    }\n",
       "    90% {\n",
       "      border-color: transparent;\n",
       "      border-bottom-color: var(--fill-color);\n",
       "    }\n",
       "  }\n",
       "</style>\n",
       "\n",
       "  <script>\n",
       "    async function quickchart(key) {\n",
       "      const quickchartButtonEl =\n",
       "        document.querySelector('#' + key + ' button');\n",
       "      quickchartButtonEl.disabled = true;  // To prevent multiple clicks.\n",
       "      quickchartButtonEl.classList.add('colab-df-spinner');\n",
       "      try {\n",
       "        const charts = await google.colab.kernel.invokeFunction(\n",
       "            'suggestCharts', [key], {});\n",
       "      } catch (error) {\n",
       "        console.error('Error during call to suggestCharts:', error);\n",
       "      }\n",
       "      quickchartButtonEl.classList.remove('colab-df-spinner');\n",
       "      quickchartButtonEl.classList.add('colab-df-quickchart-complete');\n",
       "    }\n",
       "    (() => {\n",
       "      let quickchartButtonEl =\n",
       "        document.querySelector('#df-3e071c7c-0a41-46b8-8a28-f83e3f21fc08 button');\n",
       "      quickchartButtonEl.style.display =\n",
       "        google.colab.kernel.accessAllowed ? 'block' : 'none';\n",
       "    })();\n",
       "  </script>\n",
       "</div>\n",
       "\n",
       "    </div>\n",
       "  </div>\n"
      ],
      "text/plain": [
       "               ERP  Feature1  Feature2  Feature3       CPU\n",
       "ERP       1.000000  0.434442  0.076116 -0.059888 -0.201027\n",
       "Feature1  0.434442  1.000000  0.076148  0.049980 -0.098571\n",
       "Feature2  0.076116  0.076148  1.000000  0.126589  0.071456\n",
       "Feature3 -0.059888  0.049980  0.126589  1.000000 -0.035247\n",
       "CPU      -0.201027 -0.098571  0.071456 -0.035247  1.000000"
      ]
     },
     "execution_count": 22,
     "metadata": {},
     "output_type": "execute_result"
    }
   ],
   "source": [
    "import pandas as pd\n",
    "df = pd.read_csv(\"https://raw.githubusercontent.com/lovedlim/inf/refs/heads/main/p4/7_3/system.csv\")\n",
    "\n",
    "# 1) ERP와 각 변수 사이의 상관계수 계산\n",
    "df.corr()\n",
    "# 0.434"
   ]
  },
  {
   "cell_type": "markdown",
   "id": "4cec55de-a629-48ec-b183-ba554557d739",
   "metadata": {
    "id": "EVAJRDHi6gAG"
   },
   "source": [
    "### 문제2-2. CPU 컬럼이 100미만인 것만 찾아 ERP를 종속 변수로, 나머지 변수들을 독립 변수로 설정해 선형회귀 모델을 만들고 적합한 결정계수를 구하시오. (반올림하여 소수 셋째자리까지 계산)"
   ]
  },
  {
   "cell_type": "code",
   "execution_count": null,
   "id": "76a94e90-8fc1-44e3-b50f-9ae5cf7d2475",
   "metadata": {
    "colab": {
     "base_uri": "https://localhost:8080/"
    },
    "id": "QW0SyhImA1l0",
    "outputId": "c0b68706-dc0d-4504-c21e-7c16c815124f"
   },
   "outputs": [
    {
     "name": "stdout",
     "output_type": "stream",
     "text": [
      "                            OLS Regression Results                            \n",
      "==============================================================================\n",
      "Dep. Variable:                    ERP   R-squared:                       0.226\n",
      "Model:                            OLS   Adj. R-squared:                  0.193\n",
      "Method:                 Least Squares   F-statistic:                     6.937\n",
      "Date:                Sat, 21 Sep 2024   Prob (F-statistic):           6.07e-05\n",
      "Time:                        05:54:10   Log-Likelihood:                -429.44\n",
      "No. Observations:                 100   AIC:                             868.9\n",
      "Df Residuals:                      95   BIC:                             881.9\n",
      "Df Model:                           4                                         \n",
      "Covariance Type:            nonrobust                                         \n",
      "==============================================================================\n",
      "                 coef    std err          t      P>|t|      [0.025      0.975]\n",
      "------------------------------------------------------------------------------\n",
      "Intercept     74.4348     15.094      4.932      0.000      44.470     104.399\n",
      "Feature1       0.1391      0.030      4.583      0.000       0.079       0.199\n",
      "Feature2       0.0966      0.129      0.747      0.457      -0.160       0.353\n",
      "Feature3      -0.4136      0.395     -1.046      0.298      -1.198       0.371\n",
      "CPU           -0.1125      0.061     -1.846      0.068      -0.233       0.008\n",
      "==============================================================================\n",
      "Omnibus:                        0.279   Durbin-Watson:                   1.976\n",
      "Prob(Omnibus):                  0.870   Jarque-Bera (JB):                0.442\n",
      "Skew:                           0.090   Prob(JB):                        0.802\n",
      "Kurtosis:                       2.729   Cond. No.                     1.16e+03\n",
      "==============================================================================\n",
      "\n",
      "Notes:\n",
      "[1] Standard Errors assume that the covariance matrix of the errors is correctly specified.\n",
      "[2] The condition number is large, 1.16e+03. This might indicate that there are\n",
      "strong multicollinearity or other numerical problems.\n",
      "0.22606276192451658\n",
      "0.19347593084765413\n"
     ]
    }
   ],
   "source": [
    "from statsmodels.formula.api import ols\n",
    "\n",
    "# 1) CPU가 100 미만인 데이터 필터링\n",
    "cond = df['CPU'] < 100\n",
    "df = df[cond]\n",
    "\n",
    "# 2) 선형회귀 모델 생성: ERP를 종속 변수로, 나머지 변수들을 독립 변수로 설정\n",
    "model = ols('ERP ~ Feature1 + Feature2 + Feature3 + CPU', data=df).fit()\n",
    "\n",
    "# 3) 모델 요약 정보 출력\n",
    "print(model.summary())\n",
    "print(model.rsquared)\n",
    "print(model.rsquared_adj)"
   ]
  },
  {
   "cell_type": "markdown",
   "id": "2151ea6d-21b6-4753-8154-59c639284541",
   "metadata": {
    "id": "21AknqejYXEZ"
   },
   "source": [
    "### 문제 2-3. 2-2에서 만든 모델에서 독립변수 중 p-value가 가장 높은값을 구하시오. (반올림하여 소수 셋째자리까지 계산)"
   ]
  },
  {
   "cell_type": "code",
   "execution_count": null,
   "id": "dbeae021-1893-4da6-952c-d8526b61c3e4",
   "metadata": {
    "colab": {
     "base_uri": "https://localhost:8080/"
    },
    "id": "KTBZo1XKYYZa",
    "outputId": "3b4b534e-dda0-4f00-ba70-571e34f68f69"
   },
   "outputs": [
    {
     "name": "stdout",
     "output_type": "stream",
     "text": [
      "Intercept    0.000003\n",
      "Feature1     0.000014\n",
      "Feature2     0.456708\n",
      "Feature3     0.298206\n",
      "CPU          0.067968\n",
      "dtype: float64\n"
     ]
    }
   ],
   "source": [
    "# pvalue\n",
    "# 0.457\n",
    "print(model.pvalues)"
   ]
  },
  {
   "cell_type": "code",
   "execution_count": null,
   "id": "2313456a-cc77-467d-9c97-c1d166619e25",
   "metadata": {
    "colab": {
     "base_uri": "https://localhost:8080/",
     "height": 423
    },
    "id": "Dbr-qcp2nZMj",
    "outputId": "793ce8ce-903f-4cc1-ab7d-926c1f50d8db"
   },
   "outputs": [
    {
     "data": {
      "application/vnd.google.colaboratory.intrinsic+json": {
       "summary": "{\n  \"name\": \"df\",\n  \"rows\": 100,\n  \"fields\": [\n    {\n      \"column\": \"ERP\",\n      \"properties\": {\n        \"dtype\": \"number\",\n        \"std\": 20.259195385370035,\n        \"min\": 48.94020368331843,\n        \"max\": 145.39509247975215,\n        \"num_unique_values\": 100,\n        \"samples\": [\n          69.27512627445552,\n          76.38735631755176,\n          114.58181124355072\n        ],\n        \"semantic_type\": \"\",\n        \"description\": \"\"\n      }\n    },\n    {\n      \"column\": \"Feature1\",\n      \"properties\": {\n        \"dtype\": \"number\",\n        \"std\": 60.80665490632658,\n        \"min\": -48.5652407934391,\n        \"max\": 235.0880338633348,\n        \"num_unique_values\": 100,\n        \"samples\": [\n          -48.5652407934391,\n          32.586113768624,\n          163.38732890393413\n        ],\n        \"semantic_type\": \"\",\n        \"description\": \"\"\n      }\n    },\n    {\n      \"column\": \"Feature2\",\n      \"properties\": {\n        \"dtype\": \"number\",\n        \"std\": 14.351979484738417,\n        \"min\": 8.411108653600245,\n        \"max\": 84.55875046525912,\n        \"num_unique_values\": 100,\n        \"samples\": [\n          73.04565581368696,\n          45.210073742823575,\n          55.98569518460195\n        ],\n        \"semantic_type\": \"\",\n        \"description\": \"\"\n      }\n    },\n    {\n      \"column\": \"Feature3\",\n      \"properties\": {\n        \"dtype\": \"number\",\n        \"std\": 4.670185191697284,\n        \"min\": -43.2958611899837,\n        \"max\": -18.716382513508957,\n        \"num_unique_values\": 100,\n        \"samples\": [\n          -35.11253421817802,\n          -33.44724592274969,\n          -28.59779147341852\n        ],\n        \"semantic_type\": \"\",\n        \"description\": \"\"\n      }\n    },\n    {\n      \"column\": \"CPU\",\n      \"properties\": {\n        \"dtype\": \"number\",\n        \"std\": 30.281163894862836,\n        \"min\": 0.2703213893502698,\n        \"max\": 99.79622513286736,\n        \"num_unique_values\": 100,\n        \"samples\": [\n          97.95269293354586,\n          96.82864102942972,\n          3.961552257951773\n        ],\n        \"semantic_type\": \"\",\n        \"description\": \"\"\n      }\n    }\n  ]\n}",
       "type": "dataframe",
       "variable_name": "df"
      },
      "text/html": [
       "\n",
       "  <div id=\"df-2ca60826-51d7-4840-a673-fb0fd55d4a92\" class=\"colab-df-container\">\n",
       "    <div>\n",
       "<style scoped>\n",
       "    .dataframe tbody tr th:only-of-type {\n",
       "        vertical-align: middle;\n",
       "    }\n",
       "\n",
       "    .dataframe tbody tr th {\n",
       "        vertical-align: top;\n",
       "    }\n",
       "\n",
       "    .dataframe thead th {\n",
       "        text-align: right;\n",
       "    }\n",
       "</style>\n",
       "<table border=\"1\" class=\"dataframe\">\n",
       "  <thead>\n",
       "    <tr style=\"text-align: right;\">\n",
       "      <th></th>\n",
       "      <th>ERP</th>\n",
       "      <th>Feature1</th>\n",
       "      <th>Feature2</th>\n",
       "      <th>Feature3</th>\n",
       "      <th>CPU</th>\n",
       "    </tr>\n",
       "  </thead>\n",
       "  <tbody>\n",
       "    <tr>\n",
       "      <th>0</th>\n",
       "      <td>135.281047</td>\n",
       "      <td>235.088034</td>\n",
       "      <td>44.462272</td>\n",
       "      <td>-36.532634</td>\n",
       "      <td>20.492369</td>\n",
       "    </tr>\n",
       "    <tr>\n",
       "      <th>1</th>\n",
       "      <td>108.003144</td>\n",
       "      <td>36.571914</td>\n",
       "      <td>46.409312</td>\n",
       "      <td>-21.709347</td>\n",
       "      <td>34.169811</td>\n",
       "    </tr>\n",
       "    <tr>\n",
       "      <th>2</th>\n",
       "      <td>119.574760</td>\n",
       "      <td>52.239055</td>\n",
       "      <td>66.494894</td>\n",
       "      <td>-30.590820</td>\n",
       "      <td>67.624248</td>\n",
       "    </tr>\n",
       "    <tr>\n",
       "      <th>3</th>\n",
       "      <td>144.817864</td>\n",
       "      <td>196.195890</td>\n",
       "      <td>59.828956</td>\n",
       "      <td>-33.400891</td>\n",
       "      <td>87.923476</td>\n",
       "    </tr>\n",
       "    <tr>\n",
       "      <th>4</th>\n",
       "      <td>137.351160</td>\n",
       "      <td>75.175619</td>\n",
       "      <td>59.601973</td>\n",
       "      <td>-26.668085</td>\n",
       "      <td>54.367805</td>\n",
       "    </tr>\n",
       "    <tr>\n",
       "      <th>...</th>\n",
       "      <td>...</td>\n",
       "      <td>...</td>\n",
       "      <td>...</td>\n",
       "      <td>...</td>\n",
       "      <td>...</td>\n",
       "    </tr>\n",
       "    <tr>\n",
       "      <th>95</th>\n",
       "      <td>114.131463</td>\n",
       "      <td>105.039508</td>\n",
       "      <td>67.053370</td>\n",
       "      <td>-33.807461</td>\n",
       "      <td>33.747738</td>\n",
       "    </tr>\n",
       "    <tr>\n",
       "      <th>96</th>\n",
       "      <td>100.210000</td>\n",
       "      <td>141.114900</td>\n",
       "      <td>51.465875</td>\n",
       "      <td>-25.710380</td>\n",
       "      <td>97.049369</td>\n",
       "    </tr>\n",
       "    <tr>\n",
       "      <th>97</th>\n",
       "      <td>135.717410</td>\n",
       "      <td>179.363130</td>\n",
       "      <td>58.744305</td>\n",
       "      <td>-24.294491</td>\n",
       "      <td>13.343943</td>\n",
       "    </tr>\n",
       "    <tr>\n",
       "      <th>98</th>\n",
       "      <td>102.538242</td>\n",
       "      <td>217.189747</td>\n",
       "      <td>44.008265</td>\n",
       "      <td>-22.667106</td>\n",
       "      <td>9.680395</td>\n",
       "    </tr>\n",
       "    <tr>\n",
       "      <th>99</th>\n",
       "      <td>108.039787</td>\n",
       "      <td>178.875769</td>\n",
       "      <td>55.550838</td>\n",
       "      <td>-25.737240</td>\n",
       "      <td>34.339173</td>\n",
       "    </tr>\n",
       "  </tbody>\n",
       "</table>\n",
       "<p>100 rows × 5 columns</p>\n",
       "</div>\n",
       "    <div class=\"colab-df-buttons\">\n",
       "\n",
       "  <div class=\"colab-df-container\">\n",
       "    <button class=\"colab-df-convert\" onclick=\"convertToInteractive('df-2ca60826-51d7-4840-a673-fb0fd55d4a92')\"\n",
       "            title=\"Convert this dataframe to an interactive table.\"\n",
       "            style=\"display:none;\">\n",
       "\n",
       "  <svg xmlns=\"http://www.w3.org/2000/svg\" height=\"24px\" viewBox=\"0 -960 960 960\">\n",
       "    <path d=\"M120-120v-720h720v720H120Zm60-500h600v-160H180v160Zm220 220h160v-160H400v160Zm0 220h160v-160H400v160ZM180-400h160v-160H180v160Zm440 0h160v-160H620v160ZM180-180h160v-160H180v160Zm440 0h160v-160H620v160Z\"/>\n",
       "  </svg>\n",
       "    </button>\n",
       "\n",
       "  <style>\n",
       "    .colab-df-container {\n",
       "      display:flex;\n",
       "      gap: 12px;\n",
       "    }\n",
       "\n",
       "    .colab-df-convert {\n",
       "      background-color: #E8F0FE;\n",
       "      border: none;\n",
       "      border-radius: 50%;\n",
       "      cursor: pointer;\n",
       "      display: none;\n",
       "      fill: #1967D2;\n",
       "      height: 32px;\n",
       "      padding: 0 0 0 0;\n",
       "      width: 32px;\n",
       "    }\n",
       "\n",
       "    .colab-df-convert:hover {\n",
       "      background-color: #E2EBFA;\n",
       "      box-shadow: 0px 1px 2px rgba(60, 64, 67, 0.3), 0px 1px 3px 1px rgba(60, 64, 67, 0.15);\n",
       "      fill: #174EA6;\n",
       "    }\n",
       "\n",
       "    .colab-df-buttons div {\n",
       "      margin-bottom: 4px;\n",
       "    }\n",
       "\n",
       "    [theme=dark] .colab-df-convert {\n",
       "      background-color: #3B4455;\n",
       "      fill: #D2E3FC;\n",
       "    }\n",
       "\n",
       "    [theme=dark] .colab-df-convert:hover {\n",
       "      background-color: #434B5C;\n",
       "      box-shadow: 0px 1px 3px 1px rgba(0, 0, 0, 0.15);\n",
       "      filter: drop-shadow(0px 1px 2px rgba(0, 0, 0, 0.3));\n",
       "      fill: #FFFFFF;\n",
       "    }\n",
       "  </style>\n",
       "\n",
       "    <script>\n",
       "      const buttonEl =\n",
       "        document.querySelector('#df-2ca60826-51d7-4840-a673-fb0fd55d4a92 button.colab-df-convert');\n",
       "      buttonEl.style.display =\n",
       "        google.colab.kernel.accessAllowed ? 'block' : 'none';\n",
       "\n",
       "      async function convertToInteractive(key) {\n",
       "        const element = document.querySelector('#df-2ca60826-51d7-4840-a673-fb0fd55d4a92');\n",
       "        const dataTable =\n",
       "          await google.colab.kernel.invokeFunction('convertToInteractive',\n",
       "                                                    [key], {});\n",
       "        if (!dataTable) return;\n",
       "\n",
       "        const docLinkHtml = 'Like what you see? Visit the ' +\n",
       "          '<a target=\"_blank\" href=https://colab.research.google.com/notebooks/data_table.ipynb>data table notebook</a>'\n",
       "          + ' to learn more about interactive tables.';\n",
       "        element.innerHTML = '';\n",
       "        dataTable['output_type'] = 'display_data';\n",
       "        await google.colab.output.renderOutput(dataTable, element);\n",
       "        const docLink = document.createElement('div');\n",
       "        docLink.innerHTML = docLinkHtml;\n",
       "        element.appendChild(docLink);\n",
       "      }\n",
       "    </script>\n",
       "  </div>\n",
       "\n",
       "\n",
       "<div id=\"df-5fc5209d-51d7-44be-8c69-4f3ceb1fb0f8\">\n",
       "  <button class=\"colab-df-quickchart\" onclick=\"quickchart('df-5fc5209d-51d7-44be-8c69-4f3ceb1fb0f8')\"\n",
       "            title=\"Suggest charts\"\n",
       "            style=\"display:none;\">\n",
       "\n",
       "<svg xmlns=\"http://www.w3.org/2000/svg\" height=\"24px\"viewBox=\"0 0 24 24\"\n",
       "     width=\"24px\">\n",
       "    <g>\n",
       "        <path d=\"M19 3H5c-1.1 0-2 .9-2 2v14c0 1.1.9 2 2 2h14c1.1 0 2-.9 2-2V5c0-1.1-.9-2-2-2zM9 17H7v-7h2v7zm4 0h-2V7h2v10zm4 0h-2v-4h2v4z\"/>\n",
       "    </g>\n",
       "</svg>\n",
       "  </button>\n",
       "\n",
       "<style>\n",
       "  .colab-df-quickchart {\n",
       "      --bg-color: #E8F0FE;\n",
       "      --fill-color: #1967D2;\n",
       "      --hover-bg-color: #E2EBFA;\n",
       "      --hover-fill-color: #174EA6;\n",
       "      --disabled-fill-color: #AAA;\n",
       "      --disabled-bg-color: #DDD;\n",
       "  }\n",
       "\n",
       "  [theme=dark] .colab-df-quickchart {\n",
       "      --bg-color: #3B4455;\n",
       "      --fill-color: #D2E3FC;\n",
       "      --hover-bg-color: #434B5C;\n",
       "      --hover-fill-color: #FFFFFF;\n",
       "      --disabled-bg-color: #3B4455;\n",
       "      --disabled-fill-color: #666;\n",
       "  }\n",
       "\n",
       "  .colab-df-quickchart {\n",
       "    background-color: var(--bg-color);\n",
       "    border: none;\n",
       "    border-radius: 50%;\n",
       "    cursor: pointer;\n",
       "    display: none;\n",
       "    fill: var(--fill-color);\n",
       "    height: 32px;\n",
       "    padding: 0;\n",
       "    width: 32px;\n",
       "  }\n",
       "\n",
       "  .colab-df-quickchart:hover {\n",
       "    background-color: var(--hover-bg-color);\n",
       "    box-shadow: 0 1px 2px rgba(60, 64, 67, 0.3), 0 1px 3px 1px rgba(60, 64, 67, 0.15);\n",
       "    fill: var(--button-hover-fill-color);\n",
       "  }\n",
       "\n",
       "  .colab-df-quickchart-complete:disabled,\n",
       "  .colab-df-quickchart-complete:disabled:hover {\n",
       "    background-color: var(--disabled-bg-color);\n",
       "    fill: var(--disabled-fill-color);\n",
       "    box-shadow: none;\n",
       "  }\n",
       "\n",
       "  .colab-df-spinner {\n",
       "    border: 2px solid var(--fill-color);\n",
       "    border-color: transparent;\n",
       "    border-bottom-color: var(--fill-color);\n",
       "    animation:\n",
       "      spin 1s steps(1) infinite;\n",
       "  }\n",
       "\n",
       "  @keyframes spin {\n",
       "    0% {\n",
       "      border-color: transparent;\n",
       "      border-bottom-color: var(--fill-color);\n",
       "      border-left-color: var(--fill-color);\n",
       "    }\n",
       "    20% {\n",
       "      border-color: transparent;\n",
       "      border-left-color: var(--fill-color);\n",
       "      border-top-color: var(--fill-color);\n",
       "    }\n",
       "    30% {\n",
       "      border-color: transparent;\n",
       "      border-left-color: var(--fill-color);\n",
       "      border-top-color: var(--fill-color);\n",
       "      border-right-color: var(--fill-color);\n",
       "    }\n",
       "    40% {\n",
       "      border-color: transparent;\n",
       "      border-right-color: var(--fill-color);\n",
       "      border-top-color: var(--fill-color);\n",
       "    }\n",
       "    60% {\n",
       "      border-color: transparent;\n",
       "      border-right-color: var(--fill-color);\n",
       "    }\n",
       "    80% {\n",
       "      border-color: transparent;\n",
       "      border-right-color: var(--fill-color);\n",
       "      border-bottom-color: var(--fill-color);\n",
       "    }\n",
       "    90% {\n",
       "      border-color: transparent;\n",
       "      border-bottom-color: var(--fill-color);\n",
       "    }\n",
       "  }\n",
       "</style>\n",
       "\n",
       "  <script>\n",
       "    async function quickchart(key) {\n",
       "      const quickchartButtonEl =\n",
       "        document.querySelector('#' + key + ' button');\n",
       "      quickchartButtonEl.disabled = true;  // To prevent multiple clicks.\n",
       "      quickchartButtonEl.classList.add('colab-df-spinner');\n",
       "      try {\n",
       "        const charts = await google.colab.kernel.invokeFunction(\n",
       "            'suggestCharts', [key], {});\n",
       "      } catch (error) {\n",
       "        console.error('Error during call to suggestCharts:', error);\n",
       "      }\n",
       "      quickchartButtonEl.classList.remove('colab-df-spinner');\n",
       "      quickchartButtonEl.classList.add('colab-df-quickchart-complete');\n",
       "    }\n",
       "    (() => {\n",
       "      let quickchartButtonEl =\n",
       "        document.querySelector('#df-5fc5209d-51d7-44be-8c69-4f3ceb1fb0f8 button');\n",
       "      quickchartButtonEl.style.display =\n",
       "        google.colab.kernel.accessAllowed ? 'block' : 'none';\n",
       "    })();\n",
       "  </script>\n",
       "</div>\n",
       "\n",
       "  <div id=\"id_adae376f-10f6-46cd-8a3a-533da626c808\">\n",
       "    <style>\n",
       "      .colab-df-generate {\n",
       "        background-color: #E8F0FE;\n",
       "        border: none;\n",
       "        border-radius: 50%;\n",
       "        cursor: pointer;\n",
       "        display: none;\n",
       "        fill: #1967D2;\n",
       "        height: 32px;\n",
       "        padding: 0 0 0 0;\n",
       "        width: 32px;\n",
       "      }\n",
       "\n",
       "      .colab-df-generate:hover {\n",
       "        background-color: #E2EBFA;\n",
       "        box-shadow: 0px 1px 2px rgba(60, 64, 67, 0.3), 0px 1px 3px 1px rgba(60, 64, 67, 0.15);\n",
       "        fill: #174EA6;\n",
       "      }\n",
       "\n",
       "      [theme=dark] .colab-df-generate {\n",
       "        background-color: #3B4455;\n",
       "        fill: #D2E3FC;\n",
       "      }\n",
       "\n",
       "      [theme=dark] .colab-df-generate:hover {\n",
       "        background-color: #434B5C;\n",
       "        box-shadow: 0px 1px 3px 1px rgba(0, 0, 0, 0.15);\n",
       "        filter: drop-shadow(0px 1px 2px rgba(0, 0, 0, 0.3));\n",
       "        fill: #FFFFFF;\n",
       "      }\n",
       "    </style>\n",
       "    <button class=\"colab-df-generate\" onclick=\"generateWithVariable('df')\"\n",
       "            title=\"Generate code using this dataframe.\"\n",
       "            style=\"display:none;\">\n",
       "\n",
       "  <svg xmlns=\"http://www.w3.org/2000/svg\" height=\"24px\"viewBox=\"0 0 24 24\"\n",
       "       width=\"24px\">\n",
       "    <path d=\"M7,19H8.4L18.45,9,17,7.55,7,17.6ZM5,21V16.75L18.45,3.32a2,2,0,0,1,2.83,0l1.4,1.43a1.91,1.91,0,0,1,.58,1.4,1.91,1.91,0,0,1-.58,1.4L9.25,21ZM18.45,9,17,7.55Zm-12,3A5.31,5.31,0,0,0,4.9,8.1,5.31,5.31,0,0,0,1,6.5,5.31,5.31,0,0,0,4.9,4.9,5.31,5.31,0,0,0,6.5,1,5.31,5.31,0,0,0,8.1,4.9,5.31,5.31,0,0,0,12,6.5,5.46,5.46,0,0,0,6.5,12Z\"/>\n",
       "  </svg>\n",
       "    </button>\n",
       "    <script>\n",
       "      (() => {\n",
       "      const buttonEl =\n",
       "        document.querySelector('#id_adae376f-10f6-46cd-8a3a-533da626c808 button.colab-df-generate');\n",
       "      buttonEl.style.display =\n",
       "        google.colab.kernel.accessAllowed ? 'block' : 'none';\n",
       "\n",
       "      buttonEl.onclick = () => {\n",
       "        google.colab.notebook.generateWithVariable('df');\n",
       "      }\n",
       "      })();\n",
       "    </script>\n",
       "  </div>\n",
       "\n",
       "    </div>\n",
       "  </div>\n"
      ],
      "text/plain": [
       "           ERP    Feature1   Feature2   Feature3        CPU\n",
       "0   135.281047  235.088034  44.462272 -36.532634  20.492369\n",
       "1   108.003144   36.571914  46.409312 -21.709347  34.169811\n",
       "2   119.574760   52.239055  66.494894 -30.590820  67.624248\n",
       "3   144.817864  196.195890  59.828956 -33.400891  87.923476\n",
       "4   137.351160   75.175619  59.601973 -26.668085  54.367805\n",
       "..         ...         ...        ...        ...        ...\n",
       "95  114.131463  105.039508  67.053370 -33.807461  33.747738\n",
       "96  100.210000  141.114900  51.465875 -25.710380  97.049369\n",
       "97  135.717410  179.363130  58.744305 -24.294491  13.343943\n",
       "98  102.538242  217.189747  44.008265 -22.667106   9.680395\n",
       "99  108.039787  178.875769  55.550838 -25.737240  34.339173\n",
       "\n",
       "[100 rows x 5 columns]"
      ]
     },
     "execution_count": 25,
     "metadata": {},
     "output_type": "execute_result"
    }
   ],
   "source": [
    "import pandas as pd\n",
    "df = pd.read_csv(\"https://raw.githubusercontent.com/lovedlim/inf/refs/heads/main/p4/7_3/system.csv\")\n",
    "sum(df['CPU'] < 100)\n",
    "df"
   ]
  },
  {
   "cell_type": "markdown",
   "id": "5d8a13d4-ed01-47f4-aea4-498f0365b9a0",
   "metadata": {},
   "source": [
    "# 기출 6회_작업형3"
   ]
  },
  {
   "cell_type": "markdown",
   "id": "718d7edc-1dfd-4a01-9bb0-155fc0986b83",
   "metadata": {
    "id": "xcmkuNKkYZyN"
   },
   "source": [
    "## 문제1\n",
    "항암약 위약을 투여 받은 환자의 부작용은 감기약 위약을 투여 받은 환자의 부작용 분포와 차이가 있는가?"
   ]
  },
  {
   "cell_type": "markdown",
   "id": "ce842e9e-e21e-4524-bbb2-6602a4a1bb4a",
   "metadata": {
    "id": "RpO9RfeNvvN3"
   },
   "source": [
    "항암약(위약)을 투여 받은 환자 그룹의 관찰된 부작용"
   ]
  },
  {
   "cell_type": "code",
   "execution_count": null,
   "id": "2ef5e881-22df-4038-970f-40512033a334",
   "metadata": {
    "id": "h3JLqTc6upep"
   },
   "outputs": [],
   "source": [
    "import pandas as pd\n",
    "df = pd.DataFrame({ \"항암약\":[4,4,3,4,1,4,1,4,1,4,4,2,1,4,2,3,2,4,4,4] })\n",
    "# 1: '아픔', 2: '조금 아픔', 3: '속쓰림', 4: '무증상'"
   ]
  },
  {
   "cell_type": "markdown",
   "id": "182e08de-6342-43f6-b5c8-d768b9b17f85",
   "metadata": {
    "id": "UW3ECD7Ju3t4"
   },
   "source": [
    "감기약(위약)을 투여받은 환자들 중의 알려진 부작용 발생 비율\n"
   ]
  },
  {
   "cell_type": "code",
   "execution_count": null,
   "id": "7094963d-323d-4f1f-9269-8dc485aeabf6",
   "metadata": {
    "id": "PS9rTPvty31D"
   },
   "outputs": [],
   "source": [
    "# 1. 아픔: 10%\n",
    "# 2. 조금 아픔 5%\n",
    "# 3. 속 쓰림 15%\n",
    "# 4. 무증상: 70%"
   ]
  },
  {
   "cell_type": "markdown",
   "id": "d2ce43b6-e9a1-437a-a61d-50b7c677501c",
   "metadata": {
    "id": "VeTeYxDYxzPw"
   },
   "source": [
    "-\t귀무가설(H0): 감기약(위약)의 부작용과 항암약(위약)의 부작용은 동일하다.\n",
    "- \t대립가설(H1): 감기약(위약)의 부작용과 항암약(위약)의 부작용은 다르다."
   ]
  },
  {
   "cell_type": "markdown",
   "id": "5ce4bcf4-a900-4342-9e45-b31fd070b94f",
   "metadata": {
    "id": "2LjbHGCOzPLb"
   },
   "source": [
    " ### 1-1. 항암약을 투여 받은 환자 중 '무증상'의 비율을 0과 1사이로 구하시오."
   ]
  },
  {
   "cell_type": "code",
   "execution_count": null,
   "id": "8cbda5ef-52b5-4a05-9053-bc0edd068f2a",
   "metadata": {
    "colab": {
     "base_uri": "https://localhost:8080/"
    },
    "id": "K450ZdmXT7f8",
    "outputId": "d4338095-08c1-49ca-bce9-71448c7a84af"
   },
   "outputs": [
    {
     "data": {
      "text/plain": [
       "0.55"
      ]
     },
     "execution_count": 3,
     "metadata": {},
     "output_type": "execute_result"
    }
   ],
   "source": [
    "cond = df['항암약'] == 4\n",
    "sum(cond) / len(df['항암약'])"
   ]
  },
  {
   "cell_type": "code",
   "execution_count": null,
   "id": "55c0684b-1e50-46e7-a4e4-e7a4f120ca31",
   "metadata": {
    "colab": {
     "base_uri": "https://localhost:8080/",
     "height": 241
    },
    "id": "_sqWMbMWUPdM",
    "outputId": "c4a6dba2-a8f2-4ab5-d88d-e6a038b0e41e"
   },
   "outputs": [
    {
     "data": {
      "text/html": [
       "<div>\n",
       "<style scoped>\n",
       "    .dataframe tbody tr th:only-of-type {\n",
       "        vertical-align: middle;\n",
       "    }\n",
       "\n",
       "    .dataframe tbody tr th {\n",
       "        vertical-align: top;\n",
       "    }\n",
       "\n",
       "    .dataframe thead th {\n",
       "        text-align: right;\n",
       "    }\n",
       "</style>\n",
       "<table border=\"1\" class=\"dataframe\">\n",
       "  <thead>\n",
       "    <tr style=\"text-align: right;\">\n",
       "      <th></th>\n",
       "      <th>proportion</th>\n",
       "    </tr>\n",
       "    <tr>\n",
       "      <th>항암약</th>\n",
       "      <th></th>\n",
       "    </tr>\n",
       "  </thead>\n",
       "  <tbody>\n",
       "    <tr>\n",
       "      <th>4</th>\n",
       "      <td>0.55</td>\n",
       "    </tr>\n",
       "    <tr>\n",
       "      <th>1</th>\n",
       "      <td>0.20</td>\n",
       "    </tr>\n",
       "    <tr>\n",
       "      <th>2</th>\n",
       "      <td>0.15</td>\n",
       "    </tr>\n",
       "    <tr>\n",
       "      <th>3</th>\n",
       "      <td>0.10</td>\n",
       "    </tr>\n",
       "  </tbody>\n",
       "</table>\n",
       "</div><br><label><b>dtype:</b> float64</label>"
      ],
      "text/plain": [
       "항암약\n",
       "4    0.55\n",
       "1    0.20\n",
       "2    0.15\n",
       "3    0.10\n",
       "Name: proportion, dtype: float64"
      ]
     },
     "execution_count": 4,
     "metadata": {},
     "output_type": "execute_result"
    }
   ],
   "source": [
    "df['항암약'].value_counts(normalize=True)"
   ]
  },
  {
   "cell_type": "markdown",
   "id": "447dc270-bb99-4aca-94fb-c34abbcc87c3",
   "metadata": {
    "id": "DAtV-bFQzZPW"
   },
   "source": [
    "### 1-2. 감기약의 예상 부작용 비율과 항암약의 부작용 관찰값이 통계적으로 유의미하게 차이가 있는지 확인하려 한다. 카이 제곱 검정을 사용하여 검정 통계량을 구하시오."
   ]
  },
  {
   "cell_type": "code",
   "execution_count": null,
   "id": "0c3a783f-afa3-46e9-b59d-1f1f0ea6d34e",
   "metadata": {
    "colab": {
     "base_uri": "https://localhost:8080/"
    },
    "id": "2Rj2CfgtVUpp",
    "outputId": "8617ffca-210a-4142-e4cd-36f4089ed1f1"
   },
   "outputs": [
    {
     "data": {
      "text/plain": [
       "Power_divergenceResult(statistic=6.976190476190476, pvalue=0.07266054733847573)"
      ]
     },
     "execution_count": 5,
     "metadata": {},
     "output_type": "execute_result"
    }
   ],
   "source": [
    "ob = df['항암약'].value_counts().sort_index().to_list()\n",
    "ex = [0.1 * 20, 0.05 * 20, 0.15 * 20, 0.7 * 20]\n",
    "\n",
    "from scipy import stats\n",
    "stats.chisquare(ob, ex)"
   ]
  },
  {
   "cell_type": "code",
   "execution_count": null,
   "id": "cce615ae-6f1c-409c-8ab4-b3bc9acdc87f",
   "metadata": {
    "colab": {
     "base_uri": "https://localhost:8080/"
    },
    "id": "bs0lyD_0jtQL",
    "outputId": "78bee115-e0f5-4f3d-8567-852f184580dd"
   },
   "outputs": [
    {
     "data": {
      "text/plain": [
       "6.976190476190476"
      ]
     },
     "execution_count": 6,
     "metadata": {},
     "output_type": "execute_result"
    }
   ],
   "source": [
    "6.976190476190476"
   ]
  },
  {
   "cell_type": "markdown",
   "id": "1972cf1f-cae5-4ce4-b897-01aa1e4c6860",
   "metadata": {
    "id": "PdyzwHKLzsJF"
   },
   "source": [
    "### 1-3. 위의 p-값을 구하시오"
   ]
  },
  {
   "cell_type": "code",
   "execution_count": null,
   "id": "67f55c51-57fd-4151-9bea-a972aeeb3b9e",
   "metadata": {
    "colab": {
     "base_uri": "https://localhost:8080/"
    },
    "id": "Rs0fpD0rSp91",
    "outputId": "3981b5e1-5de1-4382-fafb-c839f01f42a6"
   },
   "outputs": [
    {
     "data": {
      "text/plain": [
       "0.07266054733847573"
      ]
     },
     "execution_count": 7,
     "metadata": {},
     "output_type": "execute_result"
    }
   ],
   "source": [
    "0.07266054733847573"
   ]
  },
  {
   "cell_type": "code",
   "execution_count": null,
   "id": "bb72b9d5-8a31-4e3c-b273-1facc3ba5bfc",
   "metadata": {
    "id": "b-benUfqSqAp"
   },
   "outputs": [],
   "source": []
  },
  {
   "cell_type": "markdown",
   "id": "d22e952f-e5ef-4e94-98c2-a41d2251d4ab",
   "metadata": {
    "id": "t6IB5WUEq-SI"
   },
   "source": [
    "## 문제2. 다중 선형 회귀 문제"
   ]
  },
  {
   "cell_type": "code",
   "execution_count": null,
   "id": "4b8f5203-a67e-42ac-aadb-bb82a97d0f35",
   "metadata": {
    "colab": {
     "base_uri": "https://localhost:8080/",
     "height": 112
    },
    "id": "lWNTYD4-ZXg3",
    "outputId": "dfbf4918-9ab1-46e7-aa58-d2b6d22557c0"
   },
   "outputs": [
    {
     "data": {
      "application/vnd.google.colaboratory.intrinsic+json": {
       "summary": "{\n  \"name\": \"df\",\n  \"rows\": 100,\n  \"fields\": [\n    {\n      \"column\": \"solar\",\n      \"properties\": {\n        \"dtype\": \"number\",\n        \"std\": 11.339387591466084,\n        \"min\": 72.01,\n        \"max\": 123.92,\n        \"num_unique_values\": 96,\n        \"samples\": [\n          116.61,\n          83.94,\n          110.4\n        ],\n        \"semantic_type\": \"\",\n        \"description\": \"\"\n      }\n    },\n    {\n      \"column\": \"wind\",\n      \"properties\": {\n        \"dtype\": \"number\",\n        \"std\": 1.9496422334325438,\n        \"min\": -1.46,\n        \"max\": 10.2,\n        \"num_unique_values\": 92,\n        \"samples\": [\n          7.53,\n          5.24,\n          7.75\n        ],\n        \"semantic_type\": \"\",\n        \"description\": \"\"\n      }\n    },\n    {\n      \"column\": \"o3\",\n      \"properties\": {\n        \"dtype\": \"number\",\n        \"std\": 4.871279693107844,\n        \"min\": 19.24,\n        \"max\": 44.79,\n        \"num_unique_values\": 91,\n        \"samples\": [\n          31.25,\n          28.19,\n          30.58\n        ],\n        \"semantic_type\": \"\",\n        \"description\": \"\"\n      }\n    },\n    {\n      \"column\": \"temperature\",\n      \"properties\": {\n        \"dtype\": \"number\",\n        \"std\": 1.75591813159056,\n        \"min\": 17.5,\n        \"max\": 26.4,\n        \"num_unique_values\": 55,\n        \"samples\": [\n          18.8,\n          24.7,\n          23.4\n        ],\n        \"semantic_type\": \"\",\n        \"description\": \"\"\n      }\n    }\n  ]\n}",
       "type": "dataframe",
       "variable_name": "df"
      },
      "text/html": [
       "\n",
       "  <div id=\"df-5b1c39c1-bec5-4994-a3e2-309e0cd09df3\" class=\"colab-df-container\">\n",
       "    <div>\n",
       "<style scoped>\n",
       "    .dataframe tbody tr th:only-of-type {\n",
       "        vertical-align: middle;\n",
       "    }\n",
       "\n",
       "    .dataframe tbody tr th {\n",
       "        vertical-align: top;\n",
       "    }\n",
       "\n",
       "    .dataframe thead th {\n",
       "        text-align: right;\n",
       "    }\n",
       "</style>\n",
       "<table border=\"1\" class=\"dataframe\">\n",
       "  <thead>\n",
       "    <tr style=\"text-align: right;\">\n",
       "      <th></th>\n",
       "      <th>solar</th>\n",
       "      <th>wind</th>\n",
       "      <th>o3</th>\n",
       "      <th>temperature</th>\n",
       "    </tr>\n",
       "  </thead>\n",
       "  <tbody>\n",
       "    <tr>\n",
       "      <th>0</th>\n",
       "      <td>89.14</td>\n",
       "      <td>6.28</td>\n",
       "      <td>33.52</td>\n",
       "      <td>23.0</td>\n",
       "    </tr>\n",
       "    <tr>\n",
       "      <th>1</th>\n",
       "      <td>109.97</td>\n",
       "      <td>1.04</td>\n",
       "      <td>27.01</td>\n",
       "      <td>20.7</td>\n",
       "    </tr>\n",
       "  </tbody>\n",
       "</table>\n",
       "</div>\n",
       "    <div class=\"colab-df-buttons\">\n",
       "\n",
       "  <div class=\"colab-df-container\">\n",
       "    <button class=\"colab-df-convert\" onclick=\"convertToInteractive('df-5b1c39c1-bec5-4994-a3e2-309e0cd09df3')\"\n",
       "            title=\"Convert this dataframe to an interactive table.\"\n",
       "            style=\"display:none;\">\n",
       "\n",
       "  <svg xmlns=\"http://www.w3.org/2000/svg\" height=\"24px\" viewBox=\"0 -960 960 960\">\n",
       "    <path d=\"M120-120v-720h720v720H120Zm60-500h600v-160H180v160Zm220 220h160v-160H400v160Zm0 220h160v-160H400v160ZM180-400h160v-160H180v160Zm440 0h160v-160H620v160ZM180-180h160v-160H180v160Zm440 0h160v-160H620v160Z\"/>\n",
       "  </svg>\n",
       "    </button>\n",
       "\n",
       "  <style>\n",
       "    .colab-df-container {\n",
       "      display:flex;\n",
       "      gap: 12px;\n",
       "    }\n",
       "\n",
       "    .colab-df-convert {\n",
       "      background-color: #E8F0FE;\n",
       "      border: none;\n",
       "      border-radius: 50%;\n",
       "      cursor: pointer;\n",
       "      display: none;\n",
       "      fill: #1967D2;\n",
       "      height: 32px;\n",
       "      padding: 0 0 0 0;\n",
       "      width: 32px;\n",
       "    }\n",
       "\n",
       "    .colab-df-convert:hover {\n",
       "      background-color: #E2EBFA;\n",
       "      box-shadow: 0px 1px 2px rgba(60, 64, 67, 0.3), 0px 1px 3px 1px rgba(60, 64, 67, 0.15);\n",
       "      fill: #174EA6;\n",
       "    }\n",
       "\n",
       "    .colab-df-buttons div {\n",
       "      margin-bottom: 4px;\n",
       "    }\n",
       "\n",
       "    [theme=dark] .colab-df-convert {\n",
       "      background-color: #3B4455;\n",
       "      fill: #D2E3FC;\n",
       "    }\n",
       "\n",
       "    [theme=dark] .colab-df-convert:hover {\n",
       "      background-color: #434B5C;\n",
       "      box-shadow: 0px 1px 3px 1px rgba(0, 0, 0, 0.15);\n",
       "      filter: drop-shadow(0px 1px 2px rgba(0, 0, 0, 0.3));\n",
       "      fill: #FFFFFF;\n",
       "    }\n",
       "  </style>\n",
       "\n",
       "    <script>\n",
       "      const buttonEl =\n",
       "        document.querySelector('#df-5b1c39c1-bec5-4994-a3e2-309e0cd09df3 button.colab-df-convert');\n",
       "      buttonEl.style.display =\n",
       "        google.colab.kernel.accessAllowed ? 'block' : 'none';\n",
       "\n",
       "      async function convertToInteractive(key) {\n",
       "        const element = document.querySelector('#df-5b1c39c1-bec5-4994-a3e2-309e0cd09df3');\n",
       "        const dataTable =\n",
       "          await google.colab.kernel.invokeFunction('convertToInteractive',\n",
       "                                                    [key], {});\n",
       "        if (!dataTable) return;\n",
       "\n",
       "        const docLinkHtml = 'Like what you see? Visit the ' +\n",
       "          '<a target=\"_blank\" href=https://colab.research.google.com/notebooks/data_table.ipynb>data table notebook</a>'\n",
       "          + ' to learn more about interactive tables.';\n",
       "        element.innerHTML = '';\n",
       "        dataTable['output_type'] = 'display_data';\n",
       "        await google.colab.output.renderOutput(dataTable, element);\n",
       "        const docLink = document.createElement('div');\n",
       "        docLink.innerHTML = docLinkHtml;\n",
       "        element.appendChild(docLink);\n",
       "      }\n",
       "    </script>\n",
       "  </div>\n",
       "\n",
       "\n",
       "<div id=\"df-ffb60df0-e6cc-4af6-9a05-0ba9f6a041ea\">\n",
       "  <button class=\"colab-df-quickchart\" onclick=\"quickchart('df-ffb60df0-e6cc-4af6-9a05-0ba9f6a041ea')\"\n",
       "            title=\"Suggest charts\"\n",
       "            style=\"display:none;\">\n",
       "\n",
       "<svg xmlns=\"http://www.w3.org/2000/svg\" height=\"24px\"viewBox=\"0 0 24 24\"\n",
       "     width=\"24px\">\n",
       "    <g>\n",
       "        <path d=\"M19 3H5c-1.1 0-2 .9-2 2v14c0 1.1.9 2 2 2h14c1.1 0 2-.9 2-2V5c0-1.1-.9-2-2-2zM9 17H7v-7h2v7zm4 0h-2V7h2v10zm4 0h-2v-4h2v4z\"/>\n",
       "    </g>\n",
       "</svg>\n",
       "  </button>\n",
       "\n",
       "<style>\n",
       "  .colab-df-quickchart {\n",
       "      --bg-color: #E8F0FE;\n",
       "      --fill-color: #1967D2;\n",
       "      --hover-bg-color: #E2EBFA;\n",
       "      --hover-fill-color: #174EA6;\n",
       "      --disabled-fill-color: #AAA;\n",
       "      --disabled-bg-color: #DDD;\n",
       "  }\n",
       "\n",
       "  [theme=dark] .colab-df-quickchart {\n",
       "      --bg-color: #3B4455;\n",
       "      --fill-color: #D2E3FC;\n",
       "      --hover-bg-color: #434B5C;\n",
       "      --hover-fill-color: #FFFFFF;\n",
       "      --disabled-bg-color: #3B4455;\n",
       "      --disabled-fill-color: #666;\n",
       "  }\n",
       "\n",
       "  .colab-df-quickchart {\n",
       "    background-color: var(--bg-color);\n",
       "    border: none;\n",
       "    border-radius: 50%;\n",
       "    cursor: pointer;\n",
       "    display: none;\n",
       "    fill: var(--fill-color);\n",
       "    height: 32px;\n",
       "    padding: 0;\n",
       "    width: 32px;\n",
       "  }\n",
       "\n",
       "  .colab-df-quickchart:hover {\n",
       "    background-color: var(--hover-bg-color);\n",
       "    box-shadow: 0 1px 2px rgba(60, 64, 67, 0.3), 0 1px 3px 1px rgba(60, 64, 67, 0.15);\n",
       "    fill: var(--button-hover-fill-color);\n",
       "  }\n",
       "\n",
       "  .colab-df-quickchart-complete:disabled,\n",
       "  .colab-df-quickchart-complete:disabled:hover {\n",
       "    background-color: var(--disabled-bg-color);\n",
       "    fill: var(--disabled-fill-color);\n",
       "    box-shadow: none;\n",
       "  }\n",
       "\n",
       "  .colab-df-spinner {\n",
       "    border: 2px solid var(--fill-color);\n",
       "    border-color: transparent;\n",
       "    border-bottom-color: var(--fill-color);\n",
       "    animation:\n",
       "      spin 1s steps(1) infinite;\n",
       "  }\n",
       "\n",
       "  @keyframes spin {\n",
       "    0% {\n",
       "      border-color: transparent;\n",
       "      border-bottom-color: var(--fill-color);\n",
       "      border-left-color: var(--fill-color);\n",
       "    }\n",
       "    20% {\n",
       "      border-color: transparent;\n",
       "      border-left-color: var(--fill-color);\n",
       "      border-top-color: var(--fill-color);\n",
       "    }\n",
       "    30% {\n",
       "      border-color: transparent;\n",
       "      border-left-color: var(--fill-color);\n",
       "      border-top-color: var(--fill-color);\n",
       "      border-right-color: var(--fill-color);\n",
       "    }\n",
       "    40% {\n",
       "      border-color: transparent;\n",
       "      border-right-color: var(--fill-color);\n",
       "      border-top-color: var(--fill-color);\n",
       "    }\n",
       "    60% {\n",
       "      border-color: transparent;\n",
       "      border-right-color: var(--fill-color);\n",
       "    }\n",
       "    80% {\n",
       "      border-color: transparent;\n",
       "      border-right-color: var(--fill-color);\n",
       "      border-bottom-color: var(--fill-color);\n",
       "    }\n",
       "    90% {\n",
       "      border-color: transparent;\n",
       "      border-bottom-color: var(--fill-color);\n",
       "    }\n",
       "  }\n",
       "</style>\n",
       "\n",
       "  <script>\n",
       "    async function quickchart(key) {\n",
       "      const quickchartButtonEl =\n",
       "        document.querySelector('#' + key + ' button');\n",
       "      quickchartButtonEl.disabled = true;  // To prevent multiple clicks.\n",
       "      quickchartButtonEl.classList.add('colab-df-spinner');\n",
       "      try {\n",
       "        const charts = await google.colab.kernel.invokeFunction(\n",
       "            'suggestCharts', [key], {});\n",
       "      } catch (error) {\n",
       "        console.error('Error during call to suggestCharts:', error);\n",
       "      }\n",
       "      quickchartButtonEl.classList.remove('colab-df-spinner');\n",
       "      quickchartButtonEl.classList.add('colab-df-quickchart-complete');\n",
       "    }\n",
       "    (() => {\n",
       "      let quickchartButtonEl =\n",
       "        document.querySelector('#df-ffb60df0-e6cc-4af6-9a05-0ba9f6a041ea button');\n",
       "      quickchartButtonEl.style.display =\n",
       "        google.colab.kernel.accessAllowed ? 'block' : 'none';\n",
       "    })();\n",
       "  </script>\n",
       "</div>\n",
       "\n",
       "    </div>\n",
       "  </div>\n"
      ],
      "text/plain": [
       "    solar  wind     o3  temperature\n",
       "0   89.14  6.28  33.52         23.0\n",
       "1  109.97  1.04  27.01         20.7"
      ]
     },
     "execution_count": 8,
     "metadata": {},
     "output_type": "execute_result"
    }
   ],
   "source": [
    "import pandas as pd\n",
    "df = pd.read_csv(\"https://raw.githubusercontent.com/lovedlim/inf/refs/heads/main/p4/6_3/data6-3-2.csv\")\n",
    "df.head(2)"
   ]
  },
  {
   "cell_type": "markdown",
   "id": "d0c73d98-42d7-41da-8734-78e628c5c48d",
   "metadata": {
    "id": "7KjxkwaVY6NX"
   },
   "source": [
    "1. 다중 선형 회귀 모델을 구축하고, 독립변수 o3의 회귀계수를 구하시오.\n",
    "- 독립변수: solar(태양 에너지), wind(바람의 세기), o3(오존 농도)\n",
    "- 종속변수: temperature(온도)\n"
   ]
  },
  {
   "cell_type": "code",
   "execution_count": null,
   "id": "a36ad7b8-371b-42ce-9af1-687f4928767d",
   "metadata": {
    "colab": {
     "base_uri": "https://localhost:8080/"
    },
    "id": "Kt5rnQwBac5f",
    "outputId": "56a9c740-b776-4ea8-ec1e-e077ad94dc5a"
   },
   "outputs": [
    {
     "name": "stdout",
     "output_type": "stream",
     "text": [
      "                            OLS Regression Results                            \n",
      "==============================================================================\n",
      "Dep. Variable:            temperature   R-squared:                       0.044\n",
      "Model:                            OLS   Adj. R-squared:                  0.014\n",
      "Method:                 Least Squares   F-statistic:                     1.464\n",
      "Date:                Sat, 21 Sep 2024   Prob (F-statistic):              0.229\n",
      "Time:                        05:45:45   Log-Likelihood:                -195.45\n",
      "No. Observations:                 100   AIC:                             398.9\n",
      "Df Residuals:                      96   BIC:                             409.3\n",
      "Df Model:                           3                                         \n",
      "Covariance Type:            nonrobust                                         \n",
      "==============================================================================\n",
      "                 coef    std err          t      P>|t|      [0.025      0.975]\n",
      "------------------------------------------------------------------------------\n",
      "Intercept     19.0507      1.994      9.555      0.000      15.093      23.008\n",
      "solar          0.0039      0.015      0.251      0.802      -0.027       0.035\n",
      "wind          -0.0252      0.090     -0.280      0.780      -0.204       0.153\n",
      "o3             0.0749      0.036      2.079      0.040       0.003       0.146\n",
      "==============================================================================\n",
      "Omnibus:                        0.654   Durbin-Watson:                   2.328\n",
      "Prob(Omnibus):                  0.721   Jarque-Bera (JB):                0.672\n",
      "Skew:                           0.187   Prob(JB):                        0.715\n",
      "Kurtosis:                       2.855   Cond. No.                     1.20e+03\n",
      "==============================================================================\n",
      "\n",
      "Notes:\n",
      "[1] Standard Errors assume that the covariance matrix of the errors is correctly specified.\n",
      "[2] The condition number is large, 1.2e+03. This might indicate that there are\n",
      "strong multicollinearity or other numerical problems.\n"
     ]
    },
    {
     "data": {
      "text/plain": [
       "0.0749385437813658"
      ]
     },
     "execution_count": 9,
     "metadata": {},
     "output_type": "execute_result"
    }
   ],
   "source": [
    "from statsmodels.formula.api import ols\n",
    "formula = \"temperature ~ solar + wind + o3\"\n",
    "model = ols(formula, data=df).fit()\n",
    "print(model.summary())\n",
    "# 0.0749\n",
    "model.params['o3']"
   ]
  },
  {
   "cell_type": "markdown",
   "id": "1101852b-45d1-4a5e-ad23-69f1074c43b4",
   "metadata": {
    "id": "G8VM1_CAZEcg"
   },
   "source": [
    "2. 데이터에서 'solar'와 'o3' 값을 고정한 상태에서, 'wind'의 세기가 증가함에 따라 'temperature'가 감소하는지를 검증하기 위해 다중 선형 회귀 분석을 수행하고, 이 때'wind'의 회귀 계수에 대한 p-value 값을 구하시오. (유의수준: 0.05)"
   ]
  },
  {
   "cell_type": "code",
   "execution_count": null,
   "id": "b14545d1-d8a2-4aeb-9345-ba764ebd34ed",
   "metadata": {
    "colab": {
     "base_uri": "https://localhost:8080/"
    },
    "id": "KsL_vvCedUcF",
    "outputId": "4c20a578-1e2a-4264-a608-e8913195abc4"
   },
   "outputs": [
    {
     "data": {
      "text/plain": [
       "0.7797177202071661"
      ]
     },
     "execution_count": 10,
     "metadata": {},
     "output_type": "execute_result"
    }
   ],
   "source": [
    "0.78\n",
    "model.pvalues['wind']"
   ]
  },
  {
   "cell_type": "markdown",
   "id": "b25b2c6b-c5b6-46e2-b63d-0511f301cf2b",
   "metadata": {
    "id": "n4quUS-mZMsG"
   },
   "source": [
    "3. solar:100, wind:5, o3:30일 때 예측값과 그에 대한 95% 신뢰구간을 구하시오."
   ]
  },
  {
   "cell_type": "code",
   "execution_count": null,
   "id": "5250ae0f-6e27-4412-ad38-8ca5b831de6e",
   "metadata": {
    "colab": {
     "base_uri": "https://localhost:8080/"
    },
    "id": "PHce5yRbZSrl",
    "outputId": "915007f0-a529-4fbc-9f35-64f644bfd283"
   },
   "outputs": [
    {
     "name": "stdout",
     "output_type": "stream",
     "text": [
      "       mean   mean_se  mean_ci_lower  mean_ci_upper  obs_ci_lower  \\\n",
      "0  21.56163  0.175263      21.213737      21.909524     18.082985   \n",
      "\n",
      "   obs_ci_upper  \n",
      "0     25.040276  \n"
     ]
    }
   ],
   "source": [
    "new_data = pd.DataFrame({\n",
    "    'solar':[100],\n",
    "    'wind':[5],\n",
    "    'o3':[30]\n",
    "})\n",
    "pred = model.get_prediction(new_data)\n",
    "print(pred.summary_frame(alpha=0.05))"
   ]
  },
  {
   "cell_type": "code",
   "execution_count": null,
   "id": "ec2e5301-38a9-4edf-94ab-c59d4283df95",
   "metadata": {
    "id": "f_S8Y3wJZSuJ"
   },
   "outputs": [],
   "source": [
    "# 예측값 21.56163\n",
    "# 예측값에 대한 95% 신뢰구간 21.213737      21.909524"
   ]
  }
 ],
 "metadata": {
  "kernelspec": {
   "display_name": "Python 3 (ipykernel)",
   "language": "python",
   "name": "python3"
  },
  "language_info": {
   "codemirror_mode": {
    "name": "ipython",
    "version": 3
   },
   "file_extension": ".py",
   "mimetype": "text/x-python",
   "name": "python",
   "nbconvert_exporter": "python",
   "pygments_lexer": "ipython3",
   "version": "3.12.6"
  }
 },
 "nbformat": 4,
 "nbformat_minor": 5
}
