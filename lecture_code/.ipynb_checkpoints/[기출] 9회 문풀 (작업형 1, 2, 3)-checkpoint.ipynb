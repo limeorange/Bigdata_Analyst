{
 "cells": [
  {
   "cell_type": "markdown",
   "metadata": {
    "id": "f44uCAj5kP5x"
   },
   "source": [
    "# 기출 9회_작업형1"
   ]
  },
  {
   "cell_type": "markdown",
   "metadata": {
    "id": "17QTSTSrkVkh"
   },
   "source": [
    "## 문제1"
   ]
  },
  {
   "cell_type": "markdown",
   "metadata": {
    "id": "5lqHqMamwudd"
   },
   "source": [
    "1. 총대출액은 신용대출과 담보대출의 합이다.\n",
    "2. 각 지역코드 내에서, 성별(예: 1과 2)별로 '총대출액'의 합계를 계산하시오.\n",
    "3. 성별 간 총대출액의 차이가 가장 큰 지역코드를 구하시오."
   ]
  },
  {
   "cell_type": "code",
   "execution_count": 61,
   "metadata": {},
   "outputs": [
    {
     "name": "stdout",
     "output_type": "stream",
     "text": [
      "4100000278\n"
     ]
    }
   ],
   "source": [
    "# My1) groupby, unstack\n",
    "\n",
    "import pandas as pd\n",
    "df = pd.read_csv(\"https://raw.githubusercontent.com/lovedlim/inf/refs/heads/main/p4/9_1/loan.csv\")\n",
    "\n",
    "df['총대출액'] = df['신용대출']+df['담보대출']\n",
    "df = df.groupby(['지역코드', '성별'])['총대출액'].sum()\n",
    "df = df.unstack()\n",
    "df['diff'] = abs(df[1]-df[2])\n",
    "df = df.sort_values('diff', ascending=False)\n",
    "print(df.index[0])\n",
    "# print(df)"
   ]
  },
  {
   "cell_type": "code",
   "execution_count": 90,
   "metadata": {},
   "outputs": [
    {
     "name": "stdout",
     "output_type": "stream",
     "text": [
      "4100000278\n"
     ]
    }
   ],
   "source": [
    "# My2) pivot_table\n",
    "\n",
    "import pandas as pd\n",
    "df = pd.read_csv(\"https://raw.githubusercontent.com/lovedlim/inf/refs/heads/main/p4/9_1/loan.csv\")\n",
    "\n",
    "df['총대출액'] = df['신용대출']+df['담보대출']\n",
    "# print(df)\n",
    "\n",
    "grouped = df.pivot_table(index='지역코드', columns='성별', values='총대출액', aggfunc='sum')\n",
    "grouped['diff'] = abs(grouped[1]-grouped[2])\n",
    "print(grouped['diff'].idxmax())"
   ]
  },
  {
   "cell_type": "code",
   "execution_count": 59,
   "metadata": {
    "colab": {
     "base_uri": "https://localhost:8080/"
    },
    "id": "nsGR8mjuw4cX",
    "outputId": "3ed10f63-b609-45bf-b72a-260f84dc3ae5"
   },
   "outputs": [
    {
     "name": "stdout",
     "output_type": "stream",
     "text": [
      "4100000278\n"
     ]
    }
   ],
   "source": [
    "# 방법1\n",
    "\n",
    "import pandas as pd\n",
    "df = pd.read_csv(\"https://raw.githubusercontent.com/lovedlim/inf/refs/heads/main/p4/9_1/loan.csv\")\n",
    "\n",
    "# 1) 총대출액 컬럼 생성\n",
    "df['총대출액'] = df['신용대출'] + df['담보대출']\n",
    "\n",
    "# 2) 지역코드와 성별별로 총대출액 합계 계산\n",
    "grouped = df.groupby(['지역코드', '성별'])['총대출액'].sum().unstack()\n",
    "\n",
    "# 3) 성별 간 총대출액 차이가 가장 큰 지역코드 찾기 (절대값 사용)\n",
    "grouped['차이'] = abs(grouped[1] - grouped[2])\n",
    "result = grouped['차이'].idxmax()\n",
    "print(result)"
   ]
  },
  {
   "cell_type": "code",
   "execution_count": 58,
   "metadata": {
    "colab": {
     "base_uri": "https://localhost:8080/"
    },
    "id": "lkMVhO35w4eu",
    "outputId": "4728dc65-46ae-4fba-e49e-8a0e211a45ca"
   },
   "outputs": [
    {
     "name": "stdout",
     "output_type": "stream",
     "text": [
      "4100000278\n"
     ]
    }
   ],
   "source": [
    "# 방법2\n",
    "\n",
    "import pandas as pd\n",
    "df = pd.read_csv(\"https://raw.githubusercontent.com/lovedlim/inf/refs/heads/main/p4/9_1/loan.csv\")\n",
    "\n",
    "# 1) 총대출액 컬럼 생성\n",
    "df['총대출액'] = df['신용대출'] + df['담보대출']\n",
    "\n",
    "# 2) 지역코드와 성별별로 총대출액 합계 계산\n",
    "grouped = df.pivot_table(index='지역코드', columns='성별', values='총대출액', aggfunc='sum')\n",
    "# print(grouped)\n",
    "\n",
    "# 3) 성별 간 총대출액 차이가 가장 큰 지역코드 찾기 (절대값 사용)\n",
    "grouped['차이'] = abs(grouped[1] - grouped[2])\n",
    "result = grouped['차이'].idxmax()\n",
    "print(result)"
   ]
  },
  {
   "cell_type": "markdown",
   "metadata": {
    "id": "q7YlGYNTxb22"
   },
   "source": [
    "## 문제2"
   ]
  },
  {
   "cell_type": "markdown",
   "metadata": {
    "id": "E-skBO1_xgLj"
   },
   "source": [
    "1. 검거율은 검거건수 / 발생건수이다.\n",
    "2. 각 연도에서 가장 높은 검거율을 기록한 범죄유형을 찾으시오.\n",
    "3. 해당 범죄유형의 검거건수를 구한 후, 이 값들을 모두 합산하시오. (정수로 구하시오)"
   ]
  },
  {
   "cell_type": "code",
   "execution_count": 108,
   "metadata": {},
   "outputs": [
    {
     "name": "stdout",
     "output_type": "stream",
     "text": [
      "7799\n"
     ]
    }
   ],
   "source": [
    "# 방법1 \n",
    "\n",
    "import pandas as pd\n",
    "df = pd.read_csv(\"https://raw.githubusercontent.com/lovedlim/inf/refs/heads/main/p4/9_1/crime.csv\")\n",
    "# print(df)\n",
    "\n",
    "# 1) \"발생건수\"와 \"검거건수\"를 따로 분리\n",
    "cond1 = df['구분'] == '검거건수'\n",
    "df1 = df[cond1].iloc[:, 2:].reset_index(drop=True)\n",
    "# print(df1)\n",
    "# print(df1.shape)\n",
    "\n",
    "cond2 = df['구분'] == '발생건수'\n",
    "df2 = df[cond2].iloc[:, 2:].reset_index(drop=True)\n",
    "# print(df2)\n",
    "# print(df2.shape)\n",
    "\n",
    "# 2) 검거율 계산 (검거건수 / 발생건수)\n",
    "# index가 매칭되어야 df끼리 계산이 가능함.\n",
    "df3 = df1 / df2\n",
    "# print(df3)\n",
    "\n",
    "# 3) 각 연도에서 검거율이 가장 높은 범죄유형 찾기\n",
    "listbox = df3.idxmax(axis=1)\n",
    "# print(listbox)\n",
    "\n",
    "# 4) 가장 높은 검거율을 기록한 범죄유형의 검거건수 가져오기\n",
    "result = 0\n",
    "for index, item in enumerate(listbox):\n",
    "    result += df1.loc[index, item]\n",
    "\n",
    "print(result)"
   ]
  },
  {
   "cell_type": "code",
   "execution_count": 144,
   "metadata": {},
   "outputs": [
    {
     "name": "stdout",
     "output_type": "stream",
     "text": [
      "df =============\n",
      "      연도    구분  강력범죄  절도범죄  폭력범죄  지능범죄  풍속범죄  특별경제범죄  마약범죄  보건범죄  환경범죄  교통범죄  \\\n",
      "0   2014  발생건수   800   900   750   650   700    1034   600   850   800   900   \n",
      "1   2014  검거건수   500   600   400   450   400     961   350   500   450   550   \n",
      "2   2015  발생건수   900   768   800   750   700    1000   850   800   900   950   \n",
      "3   2015  검거건수   600   713   500   550   400     600   500   450   550   600   \n",
      "4   2016  발생건수   850   800   880   750   700     950   900   800   850   900   \n",
      "5   2016  검거건수   500   600   812   550   400     600   500   450   500   550   \n",
      "6   2017  발생건수  1000   900   850   800   750     950  1400   900  1000   950   \n",
      "7   2017  검거건수   600   500   500   550   400     600  1300   500   550   600   \n",
      "8   2018  발생건수  1450   900   850   800   750     950   900   800   850   900   \n",
      "9   2018  검거건수  1350   600   500   550   400     600   500   450   500   550   \n",
      "10  2019  발생건수  1000   900   850   800   750     950   900  1400  1000   950   \n",
      "11  2019  검거건수   600   500   500   550   400     600   500  1300   550   600   \n",
      "12  2020  발생건수  1000   900   850  1500   750     950   900   800   850   900   \n",
      "13  2020  검거건수   600   500   500  1363   400     600   500   450   500   550   \n",
      "\n",
      "    노동범죄  선거범죄  병역범죄  기타범죄  \n",
      "0    750   800   700  1000  \n",
      "1    400   450   400   600  \n",
      "2    800   850   750  1000  \n",
      "3    450   500   400   600  \n",
      "4    750   800   700   950  \n",
      "5    400   450   400   600  \n",
      "6    800   850   750   900  \n",
      "7    450   500   400   500  \n",
      "8    750   800   700   950  \n",
      "9    400   450   400   600  \n",
      "10   800   850   750   900  \n",
      "11   450   500   400   500  \n",
      "12   750   800   700   950  \n",
      "13   400   450   400   600  \n",
      "df_long =============\n",
      "       연도    구분  범죄유형   건수\n",
      "0    2014  발생건수  강력범죄  800\n",
      "1    2014  검거건수  강력범죄  500\n",
      "2    2015  발생건수  강력범죄  900\n",
      "3    2015  검거건수  강력범죄  600\n",
      "4    2016  발생건수  강력범죄  850\n",
      "..    ...   ...   ...  ...\n",
      "191  2018  검거건수  기타범죄  600\n",
      "192  2019  발생건수  기타범죄  900\n",
      "193  2019  검거건수  기타범죄  500\n",
      "194  2020  발생건수  기타범죄  950\n",
      "195  2020  검거건수  기타범죄  600\n",
      "\n",
      "[196 rows x 4 columns]\n",
      "df_pivot =============\n",
      "구분    연도    범죄유형    검거건수    발생건수       검거율\n",
      "0   2014    강력범죄   500.0   800.0  0.625000\n",
      "1   2014    교통범죄   550.0   900.0  0.611111\n",
      "2   2014    기타범죄   600.0  1000.0  0.600000\n",
      "3   2014    노동범죄   400.0   750.0  0.533333\n",
      "4   2014    마약범죄   350.0   600.0  0.583333\n",
      "..   ...     ...     ...     ...       ...\n",
      "93  2020    지능범죄  1363.0  1500.0  0.908667\n",
      "94  2020  특별경제범죄   600.0   950.0  0.631579\n",
      "95  2020    폭력범죄   500.0   850.0  0.588235\n",
      "96  2020    풍속범죄   400.0   750.0  0.533333\n",
      "97  2020    환경범죄   500.0   850.0  0.588235\n",
      "\n",
      "[98 rows x 5 columns]\n",
      "구분    연도    범죄유형    검거건수    발생건수       검거율\n",
      "10  2014  특별경제범죄   961.0  1034.0  0.929400\n",
      "22  2015    절도범죄   713.0   768.0  0.928385\n",
      "39  2016    폭력범죄   812.0   880.0  0.922727\n",
      "46  2017    마약범죄  1300.0  1400.0  0.928571\n",
      "56  2018    강력범죄  1350.0  1450.0  0.931034\n",
      "76  2019    보건범죄  1300.0  1400.0  0.928571\n",
      "93  2020    지능범죄  1363.0  1500.0  0.908667\n",
      "7799.0\n"
     ]
    }
   ],
   "source": [
    "# 방법2\n",
    "\n",
    "import pandas as pd\n",
    "df = pd.read_csv(\"https://raw.githubusercontent.com/lovedlim/inf/refs/heads/main/p4/9_1/crime.csv\")\n",
    "print('df =============')\n",
    "print(df)\n",
    "\n",
    "# 1. 데이터를 길게 변환\n",
    "df_long = pd.melt(df, id_vars=['연도', '구분'], var_name='범죄유형', value_name='건수')\n",
    "print('df_long =============')\n",
    "print(df_long)\n",
    "\n",
    "# 2. 피벗(pivot)하여 발생건수와 검거건수를 한 행에 모으기\n",
    "df_pivot = df_long.pivot_table(index=['연도', '범죄유형'], columns='구분', values='건수').reset_index()\n",
    "\n",
    "# 3. 검거율 계산\n",
    "df_pivot['검거율'] = df_pivot['검거건수'] / df_pivot['발생건수']\n",
    "print('df_pivot =============')\n",
    "print(df_pivot)\n",
    "\n",
    "# 4. 각 연도별로 검거율이 가장 높은 범죄유형 찾기\n",
    "listbox = df_pivot.groupby(['연도'])['검거율'].idxmax()\n",
    "max_crime_df = df_pivot.loc[listbox]\n",
    "print(max_crime_df)\n",
    "\n",
    "# 5. 각 연도별 최고 검거율 범죄유형의 검거건수를 모두 합산하기\n",
    "# result = 0\n",
    "# for index in listbox:\n",
    "#     result += df_pivot.loc[index, '검거건수']\n",
    "# print(result)\n",
    "\n",
    "result = max_crime_df['검거건수'].sum()\n",
    "print(result)"
   ]
  },
  {
   "cell_type": "markdown",
   "metadata": {
    "id": "vv2iIOMBxvnq"
   },
   "source": [
    "## 문제3"
   ]
  },
  {
   "cell_type": "markdown",
   "metadata": {
    "id": "rQhkYURKxxAB"
   },
   "source": [
    "1. 만족도의 결측치는 만족도의 평균값으로 대체한다.\n",
    "2. 근속연수의 결측치는 동일한 부서 및 성과등급에 해당하는 직원들의 평균 근속연수로 대체한다. (이때, 평균 근속연수는 소수점 이하를 절사하여 정수로 변환하여 사용)\n",
    "3. 각 직원의 '연봉 / 근속연수' 값을 계산하여, 그 값이 세 번째로 큰 직원의 근속연수를 구하시오.\n",
    "4. 각 직원의 '연봉 / 만족도' 값을 계산하여, 그 값이 두 번째로 큰 직원의 교육참가횟수를 구하시오.\n",
    "5. (3)과 (4)의 값을 더한 결과를 구하시오. (정수로 구하시오)"
   ]
  },
  {
   "cell_type": "code",
   "execution_count": 169,
   "metadata": {},
   "outputs": [
    {
     "name": "stdout",
     "output_type": "stream",
     "text": [
      "df ============\n",
      "      사원번호         부서 성과등급         연봉  근속연수  교육참가횟수  만족도\n",
      "0    E0001  Marketing    B   73200000  14.0       5  6.0\n",
      "1    E0002         IR    A   95100000   3.0       4  9.0\n",
      "2    E0003    Manager    B   44700000   5.0       2  8.0\n",
      "3    E0004         IR    B  122100000  16.0       3  8.0\n",
      "4    E0005         IR    C   66000000   NaN       4  8.0\n",
      "..     ...        ...  ...        ...   ...     ...  ...\n",
      "995  E0996    Finance    B   90400000  15.0       3  2.0\n",
      "996  E0997         IR    C  147600000  12.0       5  5.0\n",
      "997  E0998      Sales    C   95600000   4.0       4  9.0\n",
      "998  E0999      Sales    C   94400000   8.0       6  1.0\n",
      "999  E1000         IR    A   92400000   9.0       2  5.0\n",
      "\n",
      "[1000 rows x 7 columns]\n",
      "gm ============\n",
      "0      11\n",
      "1      11\n",
      "2      10\n",
      "3      10\n",
      "4      10\n",
      "       ..\n",
      "995    10\n",
      "996    10\n",
      "997    11\n",
      "998    11\n",
      "999    11\n",
      "Name: 근속연수, Length: 1000, dtype: int64\n",
      "df_year ============\n",
      "      사원번호       부서 성과등급         연봉  근속연수  교육참가횟수       만족도      연봉_근속연수\n",
      "357  E0358  Finance    B  148100000   1.0       5  8.000000  148100000.0\n",
      "386  E0387       HR    A  145400000   1.0       1  9.000000  145400000.0\n",
      "801  E0802       IR    A  144900000   1.0       5  5.017045  144900000.0\n",
      "1.0\n",
      "df_cnt ============\n",
      "      사원번호       부서 성과등급         연봉  근속연수  교육참가횟수  만족도       연봉_근속연수  \\\n",
      "490  E0491  Finance    B  149000000  13.0       6  1.0  1.146154e+07   \n",
      "737  E0738       HR    A  146200000   9.0       6  1.0  1.624444e+07   \n",
      "\n",
      "          연봉_만족도  \n",
      "490  149000000.0  \n",
      "737  146200000.0  \n",
      "6\n",
      "정답: 7\n"
     ]
    }
   ],
   "source": [
    "# 방법1\n",
    "\n",
    "import pandas as pd\n",
    "df = pd.read_csv(\"https://raw.githubusercontent.com/lovedlim/inf/refs/heads/main/p4/9_1/hr.csv\")\n",
    "print('df ============')\n",
    "print(df)\n",
    "\n",
    "# 1) 만족도 결측치 처리\n",
    "# print(df['만족도'].isna().sum())\n",
    "m = df['만족도'].mean()\n",
    "df['만족도'] = df['만족도'].fillna(m)\n",
    "# print(df['만족도'].isna().sum())\n",
    "\n",
    "# 2) 근속연수 결측치 처리 (부서와 성과등급 기준 평균값으로 채움)\n",
    "# print(df['근속연수'].isna().sum())\n",
    "gm = df.groupby(['부서', '성과등급'])['근속연수'].transform('mean')\n",
    "gm = gm.astype(int)\n",
    "print('gm ============')\n",
    "print(gm)\n",
    "df['근속연수'] = df['근속연수'].fillna(gm)\n",
    "# print(df['근속연수'].isna().sum())\n",
    "# print(df)\n",
    "\n",
    "# 3) 연봉 / 근속연수 계산 후 세 번째로 높은 사람의 근속연수 (A)\n",
    "df['연봉_근속연수'] = df['연봉'] / df['근속연수']\n",
    "df_year = df.nlargest(3, '연봉_근속연수')\n",
    "A = df_year.iloc[-1]['근속연수']\n",
    "print('df_year ============')\n",
    "print(df_year)\n",
    "print(A)\n",
    "\n",
    "# 4) 연봉 / 만족도 계산 후 두 번째로 높은 사람의 교육참가횟수 (B)\n",
    "# print(df)\n",
    "df['연봉_만족도'] = df['연봉'] / df['만족도']\n",
    "df_cnt = df.nlargest(2, '연봉_만족도')\n",
    "B = df_cnt.iloc[-1]['교육참가횟수']\n",
    "print('df_cnt ============')\n",
    "print(df_cnt)\n",
    "print(B)\n",
    "\n",
    "# 5) 결과 출력\n",
    "print('정답:', int(A+B))"
   ]
  },
  {
   "cell_type": "code",
   "execution_count": null,
   "metadata": {
    "colab": {
     "base_uri": "https://localhost:8080/"
    },
    "id": "H4xPsYBIxrsY",
    "outputId": "dc9eeca0-aa0a-482f-adb0-44a9496dfe4b"
   },
   "outputs": [
    {
     "name": "stdout",
     "output_type": "stream",
     "text": [
      "7.0\n"
     ]
    }
   ],
   "source": [
    "# 방법2\n",
    "import pandas as pd\n",
    "df = pd.read_csv(\"https://raw.githubusercontent.com/lovedlim/inf/refs/heads/main/p4/9_1/hr.csv\")\n",
    "\n",
    "# 1) 만족도 결측치 처리\n",
    "# print(df['만족도'].isnull().sum())\n",
    "m = df['만족도'].mean()\n",
    "df['만족도'] = df['만족도'].fillna(m)\n",
    "# print(df['만족도'].isnull().sum())\n",
    "\n",
    "# 2) 근속연수 결측치 처리 (부서와 성과등급 기준 평균값으로 채움)\n",
    "# print(df['근속연수'].isnull().sum())\n",
    "gm = df.groupby(['부서', '성과등급'])['근속연수'].transform('mean')\n",
    "gm = gm.astype(int)\n",
    "df['근속연수'] = df['근속연수'].fillna(gm)\n",
    "# print(df['근속연수'].isnull().sum())\n",
    "\n",
    "# 3) 연봉 / 근속연수 계산 후 세 번째로 높은 사람의 근속연수 (A)\n",
    "df['연봉_근속연수'] = df['연봉'] / df['근속연수']\n",
    "df_year = df.sort_values('연봉_근속연수', ascending=False)\n",
    "A = df_year.iloc[2]['근속연수']\n",
    "\n",
    "# 4) 연봉 / 만족도 계산 후 두 번째로 높은 사람의 교육참가횟수 (B)\n",
    "df['연봉_만족도'] = df['연봉'] / df['만족도']\n",
    "df_like = df.sort_values('연봉_만족도', ascending=False)\n",
    "B = df_like.iloc[1]['교육참가횟수']\n",
    "\n",
    "# 5) 결과 출력\n",
    "result = A + B\n",
    "print(result)"
   ]
  },
  {
   "cell_type": "markdown",
   "metadata": {
    "id": "ben18EnnhH5K",
    "jp-MarkdownHeadingCollapsed": true
   },
   "source": [
    "# 기출 9회_작업형2\n",
    "## 농작물에서 농약 검출 여부 예측\n",
    "-\t제공된 데이터 목록:\n",
    "    - farm_train.csv (훈련 데이터)\n",
    "    - farm_test.csv (평가용 데이터)\n",
    "-\t예측할 컬럼: 농약검출여부 (0:미검출, 1:검출, 2:재검사 필요)\n",
    "\n",
    "학습용 데이터(farm_train.csv)를 이용하여 농약 검출 여부를 예측하는 모델을 구축한 후, 이를 평가용 데이터(farm_test.csv)에 적용하여 예측 결과를 다음과 같은 형식의 CSV 파일로 생성하시오.\n",
    "\n",
    "제출 파일은 다음 한 개의 컬럼을 포함해야 합니다.\n",
    "- pred: 예측된 검출 여부\n",
    "- 제출 파일명: 'result.csv'\n",
    "\n",
    "모델의 성능은 macro F1 Score 평가지표에 따라 채점됩니다.\n",
    "제출 CSV 파일은 result.csv 형태로 제출하시오."
   ]
  },
  {
   "cell_type": "markdown",
   "metadata": {
    "id": "bPT5gwB5VdlC"
   },
   "source": [
    "~~~\n",
    "pred\n",
    "0\n",
    "1\n",
    "0\n",
    "2\n",
    "0\n",
    "...\n",
    "~~~"
   ]
  },
  {
   "cell_type": "markdown",
   "metadata": {},
   "source": [
    "## 📌 My Code\n",
    "- **lightgbm은 sklearn 안에 없고, 바로 import 해줘야 함. => 패키지 설치되어 있지 않아서 실전에서 활용 불가능할 듯**\n",
    "- **RandomForestClassifier**: 0.8643039773063413\n",
    "- **HistGradientBoostingClassifier**: 0.9336837464154217"
   ]
  },
  {
   "cell_type": "code",
   "execution_count": 42,
   "metadata": {},
   "outputs": [
    {
     "name": "stdout",
     "output_type": "stream",
     "text": [
      "Index(['연도', '지역', '작물종류', '토양유형', '등급'], dtype='object')\n",
      "RandomForestClassifier 0.8643039773063413\n",
      "HistGradientBoostingClassifier 0.9336837464154217\n"
     ]
    }
   ],
   "source": [
    "import pandas as pd\n",
    "train = pd.read_csv(\"https://raw.githubusercontent.com/lovedlim/inf/refs/heads/main/p4/9_2/farm_train.csv\")\n",
    "test = pd.read_csv(\"https://raw.githubusercontent.com/lovedlim/inf/refs/heads/main/p4/9_2/farm_test.csv\")\n",
    "\n",
    "# 1. 데이터 유형 확인\n",
    "# 결측치: 없음\n",
    "# 범주형: ['지역', '작물종류', '토양유형', '등급'] => '연도'를 범주로 변환해주면 더 성능이 좋을까? 0.86792 (기존: 0.81631)\n",
    "# target: 농약검출여부\n",
    "# print(train.info())\n",
    "# print(test.info())\n",
    "# print(train.shape, test.shape) # (4000, 9) (1000, 8)\n",
    "# print(train.select_dtypes('object').columns)\n",
    "\n",
    "# 2. 데이터 전처리\n",
    "# (1) X_full\n",
    "X = train.drop(['농약검출여부'], axis=1)\n",
    "y = train['농약검출여부']\n",
    "X_full = pd.concat([X, test], axis=0)\n",
    "\n",
    "# '연도'를 범주형으로 바꿔보기!\n",
    "X_full['연도'] = X_full['연도'].astype('str')\n",
    "print(X_full.select_dtypes('object').columns)\n",
    "\n",
    "# print(X_full.shape, X.shape, test.shape) # (5000, 8) (4000, 8) (1000, 8)\n",
    "\n",
    "# (2) 결측치 처리 => Pass\n",
    "\n",
    "# (3) 수치형 스케일링 => Pass\n",
    "\n",
    "# (4) 범주형 인코딩\n",
    "X_full = pd.get_dummies(X_full)\n",
    "# print(X_full)\n",
    "# print(X_full.shape) # (5000, 28)\n",
    "\n",
    "# 3. 데이터 분리\n",
    "X = X_full[:train.shape[0]]\n",
    "X_test = X_full[train.shape[0]:]\n",
    "# print(X.shape, X_test.shape) # (4000, 28) (1000, 28)\n",
    "\n",
    "from sklearn.model_selection import train_test_split\n",
    "X_train, X_val, y_train, y_val = train_test_split(X, y, test_size=0.2)\n",
    "# print(X_train.shape, X_val.shape, y_train.shape, y_val.shape) # (3200, 28) (800, 28) (3200,) (800,)\n",
    "\n",
    "# 4. 모델 학습 및 검증\n",
    "from sklearn.ensemble import RandomForestClassifier\n",
    "model = RandomForestClassifier()\n",
    "model.fit(X_train, y_train)\n",
    "y_val_pred = model.predict(X_val)\n",
    "# print(y_val_pred)\n",
    "# print(y_val_pred.shape) # (800,)\n",
    "\n",
    "from sklearn.ensemble import HistGradientBoostingClassifier\n",
    "model2 = HistGradientBoostingClassifier()\n",
    "model2.fit(X_train, y_train)\n",
    "y_val_pred2 = model2.predict(X_val)\n",
    "# print(y_val_pred2)\n",
    "# print(y_val_pred2.shape) # (800,)\n",
    "\n",
    "# 5. 모델 평가\n",
    "from sklearn.metrics import f1_score\n",
    "f1_score_1 = f1_score(y_val, y_val_pred, average='macro')\n",
    "print('RandomForestClassifier', f1_score_1)\n",
    "\n",
    "f1_score_2 = f1_score(y_val, y_val_pred2, average='macro')\n",
    "print('HistGradientBoostingClassifier', f1_score_2)\n",
    "\n",
    "# 6. 결과 저장\n",
    "y_pred = model.predict(X_test)\n",
    "# print(y_pred)\n",
    "# print(y_pred.shape) # (1000,)\n",
    "\n",
    "result = pd.DataFrame({'pred':y_pred})\n",
    "result.to_csv('result_92.csv', index=False)\n",
    "\n",
    "check = pd.read_csv('result_92.csv')\n",
    "# print(check)"
   ]
  },
  {
   "cell_type": "markdown",
   "metadata": {
    "jp-MarkdownHeadingCollapsed": true
   },
   "source": [
    "# 작업형2 풀이"
   ]
  },
  {
   "cell_type": "markdown",
   "metadata": {
    "id": "W_Hox9U_ZyEo"
   },
   "source": [
    "## 문제정의"
   ]
  },
  {
   "cell_type": "code",
   "execution_count": null,
   "metadata": {
    "id": "7PshXUdTtVCq"
   },
   "outputs": [],
   "source": [
    "# 문제정의\n",
    "# 평가: f1-macro\n",
    "# target: 농약검출여부\n",
    "# 최종파일: result.csv(컬럼 1개 pred)"
   ]
  },
  {
   "cell_type": "markdown",
   "metadata": {
    "id": "obcgSmeHtVJ1"
   },
   "source": [
    "## 데이터 불러오기"
   ]
  },
  {
   "cell_type": "code",
   "execution_count": null,
   "metadata": {
    "id": "XibJMYw0tV9j"
   },
   "outputs": [],
   "source": [
    "# 라이브러리 및 데이터 불러오기\n",
    "import pandas as pd\n",
    "train = pd.read_csv(\"https://raw.githubusercontent.com/lovedlim/inf/refs/heads/main/p4/9_2/farm_train.csv\")\n",
    "test = pd.read_csv(\"https://raw.githubusercontent.com/lovedlim/inf/refs/heads/main/p4/9_2/farm_test.csv\")"
   ]
  },
  {
   "cell_type": "markdown",
   "metadata": {
    "id": "J9s7JvoItWEP"
   },
   "source": [
    "## 탐색적 데이터 분석(EDA)"
   ]
  },
  {
   "cell_type": "code",
   "execution_count": null,
   "metadata": {
    "colab": {
     "base_uri": "https://localhost:8080/"
    },
    "id": "FrJ0SH7RtYj1",
    "outputId": "67fba3bd-a8ce-4ccb-95f2-c2b3de499281"
   },
   "outputs": [
    {
     "name": "stdout",
     "output_type": "stream",
     "text": [
      "Train Shape: (4000, 9)\n",
      "Test Shape: (1000, 8)\n"
     ]
    }
   ],
   "source": [
    "# 데이터 크기\n",
    "print(\"Train Shape:\", train.shape)\n",
    "print(\"Test Shape:\", test.shape)"
   ]
  },
  {
   "cell_type": "code",
   "execution_count": null,
   "metadata": {
    "colab": {
     "base_uri": "https://localhost:8080/",
     "height": 206
    },
    "id": "yeEp8ANkuaAq",
    "outputId": "cede8674-29ed-4901-f689-fa5557c742b5"
   },
   "outputs": [
    {
     "data": {
      "application/vnd.google.colaboratory.intrinsic+json": {
       "summary": "{\n  \"name\": \"train\",\n  \"rows\": 4000,\n  \"fields\": [\n    {\n      \"column\": \"\\ub18d\\uc5c5\\uba74\\uc801\",\n      \"properties\": {\n        \"dtype\": \"number\",\n        \"std\": 29113.409543335856,\n        \"min\": 107.23771888536858,\n        \"max\": 99996.40545240598,\n        \"num_unique_values\": 4000,\n        \"samples\": [\n          14866.08680205751,\n          44555.6687400318,\n          10819.373048398902\n        ],\n        \"semantic_type\": \"\",\n        \"description\": \"\"\n      }\n    },\n    {\n      \"column\": \"\\uc5f0\\ub3c4\",\n      \"properties\": {\n        \"dtype\": \"number\",\n        \"std\": 6,\n        \"min\": 2000,\n        \"max\": 2023,\n        \"num_unique_values\": 24,\n        \"samples\": [\n          2018,\n          2022,\n          2004\n        ],\n        \"semantic_type\": \"\",\n        \"description\": \"\"\n      }\n    },\n    {\n      \"column\": \"\\uc9c0\\uc5ed\",\n      \"properties\": {\n        \"dtype\": \"category\",\n        \"num_unique_values\": 15,\n        \"samples\": [\n          \"\\ubd80\\uc0b0\",\n          \"\\ucda9\\ubd81\",\n          \"\\ub300\\uad6c\"\n        ],\n        \"semantic_type\": \"\",\n        \"description\": \"\"\n      }\n    },\n    {\n      \"column\": \"\\ube44\\ub8cc\\uc0ac\\uc6a9\\ub7c9\",\n      \"properties\": {\n        \"dtype\": \"number\",\n        \"std\": 99.3439878033355,\n        \"min\": 0.0,\n        \"max\": 634.8271598671811,\n        \"num_unique_values\": 3997,\n        \"samples\": [\n          470.4719463675826,\n          416.1628520134002,\n          378.63095283812856\n        ],\n        \"semantic_type\": \"\",\n        \"description\": \"\"\n      }\n    },\n    {\n      \"column\": \"\\ube44\\ub8cc\\uc794\\uc5ec\\ub7c9\",\n      \"properties\": {\n        \"dtype\": \"number\",\n        \"std\": 43139.42489176645,\n        \"min\": 0.802506049204308,\n        \"max\": 1542162.9092775958,\n        \"num_unique_values\": 4000,\n        \"samples\": [\n          2475.3278766547523,\n          1696.3403153114843,\n          2551.552115909329\n        ],\n        \"semantic_type\": \"\",\n        \"description\": \"\"\n      }\n    },\n    {\n      \"column\": \"\\uc791\\ubb3c\\uc885\\ub958\",\n      \"properties\": {\n        \"dtype\": \"category\",\n        \"num_unique_values\": 3,\n        \"samples\": [\n          \"\\ubcf4\\ub9ac\",\n          \"\\ubc00\",\n          \"\\uc300\"\n        ],\n        \"semantic_type\": \"\",\n        \"description\": \"\"\n      }\n    },\n    {\n      \"column\": \"\\ud1a0\\uc591\\uc720\\ud615\",\n      \"properties\": {\n        \"dtype\": \"category\",\n        \"num_unique_values\": 3,\n        \"samples\": [\n          \"\\uc810\\ud1a0\",\n          \"\\uc591\\ud1a0\",\n          \"\\ubaa8\\ub798\"\n        ],\n        \"semantic_type\": \"\",\n        \"description\": \"\"\n      }\n    },\n    {\n      \"column\": \"\\ub18d\\uc57d\\uac80\\ucd9c\\uc5ec\\ubd80\",\n      \"properties\": {\n        \"dtype\": \"number\",\n        \"std\": 0,\n        \"min\": 0,\n        \"max\": 2,\n        \"num_unique_values\": 3,\n        \"samples\": [\n          2,\n          0,\n          1\n        ],\n        \"semantic_type\": \"\",\n        \"description\": \"\"\n      }\n    },\n    {\n      \"column\": \"\\ub4f1\\uae09\",\n      \"properties\": {\n        \"dtype\": \"category\",\n        \"num_unique_values\": 3,\n        \"samples\": [\n          \"C\",\n          \"B\",\n          \"A\"\n        ],\n        \"semantic_type\": \"\",\n        \"description\": \"\"\n      }\n    }\n  ]\n}",
       "type": "dataframe",
       "variable_name": "train"
      },
      "text/html": [
       "\n",
       "  <div id=\"df-a87b7bdb-403c-47c8-a4d6-a8aa3452536f\" class=\"colab-df-container\">\n",
       "    <div>\n",
       "<style scoped>\n",
       "    .dataframe tbody tr th:only-of-type {\n",
       "        vertical-align: middle;\n",
       "    }\n",
       "\n",
       "    .dataframe tbody tr th {\n",
       "        vertical-align: top;\n",
       "    }\n",
       "\n",
       "    .dataframe thead th {\n",
       "        text-align: right;\n",
       "    }\n",
       "</style>\n",
       "<table border=\"1\" class=\"dataframe\">\n",
       "  <thead>\n",
       "    <tr style=\"text-align: right;\">\n",
       "      <th></th>\n",
       "      <th>농업면적</th>\n",
       "      <th>연도</th>\n",
       "      <th>지역</th>\n",
       "      <th>비료사용량</th>\n",
       "      <th>비료잔여량</th>\n",
       "      <th>작물종류</th>\n",
       "      <th>토양유형</th>\n",
       "      <th>농약검출여부</th>\n",
       "      <th>등급</th>\n",
       "    </tr>\n",
       "  </thead>\n",
       "  <tbody>\n",
       "    <tr>\n",
       "      <th>0</th>\n",
       "      <td>20079.652837</td>\n",
       "      <td>2004</td>\n",
       "      <td>대구</td>\n",
       "      <td>407.985516</td>\n",
       "      <td>146.290507</td>\n",
       "      <td>보리</td>\n",
       "      <td>점토</td>\n",
       "      <td>2</td>\n",
       "      <td>C</td>\n",
       "    </tr>\n",
       "    <tr>\n",
       "      <th>1</th>\n",
       "      <td>73858.643204</td>\n",
       "      <td>2012</td>\n",
       "      <td>울산</td>\n",
       "      <td>221.229692</td>\n",
       "      <td>1967.333638</td>\n",
       "      <td>밀</td>\n",
       "      <td>점토</td>\n",
       "      <td>0</td>\n",
       "      <td>B</td>\n",
       "    </tr>\n",
       "    <tr>\n",
       "      <th>2</th>\n",
       "      <td>65718.150861</td>\n",
       "      <td>2012</td>\n",
       "      <td>강원</td>\n",
       "      <td>370.967205</td>\n",
       "      <td>2253.522610</td>\n",
       "      <td>쌀</td>\n",
       "      <td>점토</td>\n",
       "      <td>0</td>\n",
       "      <td>B</td>\n",
       "    </tr>\n",
       "    <tr>\n",
       "      <th>3</th>\n",
       "      <td>37366.182902</td>\n",
       "      <td>2005</td>\n",
       "      <td>광주</td>\n",
       "      <td>274.128236</td>\n",
       "      <td>1487.535265</td>\n",
       "      <td>쌀</td>\n",
       "      <td>양토</td>\n",
       "      <td>0</td>\n",
       "      <td>B</td>\n",
       "    </tr>\n",
       "    <tr>\n",
       "      <th>4</th>\n",
       "      <td>81515.151289</td>\n",
       "      <td>2007</td>\n",
       "      <td>충남</td>\n",
       "      <td>213.410655</td>\n",
       "      <td>683.306745</td>\n",
       "      <td>쌀</td>\n",
       "      <td>양토</td>\n",
       "      <td>1</td>\n",
       "      <td>B</td>\n",
       "    </tr>\n",
       "  </tbody>\n",
       "</table>\n",
       "</div>\n",
       "    <div class=\"colab-df-buttons\">\n",
       "\n",
       "  <div class=\"colab-df-container\">\n",
       "    <button class=\"colab-df-convert\" onclick=\"convertToInteractive('df-a87b7bdb-403c-47c8-a4d6-a8aa3452536f')\"\n",
       "            title=\"Convert this dataframe to an interactive table.\"\n",
       "            style=\"display:none;\">\n",
       "\n",
       "  <svg xmlns=\"http://www.w3.org/2000/svg\" height=\"24px\" viewBox=\"0 -960 960 960\">\n",
       "    <path d=\"M120-120v-720h720v720H120Zm60-500h600v-160H180v160Zm220 220h160v-160H400v160Zm0 220h160v-160H400v160ZM180-400h160v-160H180v160Zm440 0h160v-160H620v160ZM180-180h160v-160H180v160Zm440 0h160v-160H620v160Z\"/>\n",
       "  </svg>\n",
       "    </button>\n",
       "\n",
       "  <style>\n",
       "    .colab-df-container {\n",
       "      display:flex;\n",
       "      gap: 12px;\n",
       "    }\n",
       "\n",
       "    .colab-df-convert {\n",
       "      background-color: #E8F0FE;\n",
       "      border: none;\n",
       "      border-radius: 50%;\n",
       "      cursor: pointer;\n",
       "      display: none;\n",
       "      fill: #1967D2;\n",
       "      height: 32px;\n",
       "      padding: 0 0 0 0;\n",
       "      width: 32px;\n",
       "    }\n",
       "\n",
       "    .colab-df-convert:hover {\n",
       "      background-color: #E2EBFA;\n",
       "      box-shadow: 0px 1px 2px rgba(60, 64, 67, 0.3), 0px 1px 3px 1px rgba(60, 64, 67, 0.15);\n",
       "      fill: #174EA6;\n",
       "    }\n",
       "\n",
       "    .colab-df-buttons div {\n",
       "      margin-bottom: 4px;\n",
       "    }\n",
       "\n",
       "    [theme=dark] .colab-df-convert {\n",
       "      background-color: #3B4455;\n",
       "      fill: #D2E3FC;\n",
       "    }\n",
       "\n",
       "    [theme=dark] .colab-df-convert:hover {\n",
       "      background-color: #434B5C;\n",
       "      box-shadow: 0px 1px 3px 1px rgba(0, 0, 0, 0.15);\n",
       "      filter: drop-shadow(0px 1px 2px rgba(0, 0, 0, 0.3));\n",
       "      fill: #FFFFFF;\n",
       "    }\n",
       "  </style>\n",
       "\n",
       "    <script>\n",
       "      const buttonEl =\n",
       "        document.querySelector('#df-a87b7bdb-403c-47c8-a4d6-a8aa3452536f button.colab-df-convert');\n",
       "      buttonEl.style.display =\n",
       "        google.colab.kernel.accessAllowed ? 'block' : 'none';\n",
       "\n",
       "      async function convertToInteractive(key) {\n",
       "        const element = document.querySelector('#df-a87b7bdb-403c-47c8-a4d6-a8aa3452536f');\n",
       "        const dataTable =\n",
       "          await google.colab.kernel.invokeFunction('convertToInteractive',\n",
       "                                                    [key], {});\n",
       "        if (!dataTable) return;\n",
       "\n",
       "        const docLinkHtml = 'Like what you see? Visit the ' +\n",
       "          '<a target=\"_blank\" href=https://colab.research.google.com/notebooks/data_table.ipynb>data table notebook</a>'\n",
       "          + ' to learn more about interactive tables.';\n",
       "        element.innerHTML = '';\n",
       "        dataTable['output_type'] = 'display_data';\n",
       "        await google.colab.output.renderOutput(dataTable, element);\n",
       "        const docLink = document.createElement('div');\n",
       "        docLink.innerHTML = docLinkHtml;\n",
       "        element.appendChild(docLink);\n",
       "      }\n",
       "    </script>\n",
       "  </div>\n",
       "\n",
       "\n",
       "<div id=\"df-d8ca7685-18d0-46f5-8ec4-086e5e02ae38\">\n",
       "  <button class=\"colab-df-quickchart\" onclick=\"quickchart('df-d8ca7685-18d0-46f5-8ec4-086e5e02ae38')\"\n",
       "            title=\"Suggest charts\"\n",
       "            style=\"display:none;\">\n",
       "\n",
       "<svg xmlns=\"http://www.w3.org/2000/svg\" height=\"24px\"viewBox=\"0 0 24 24\"\n",
       "     width=\"24px\">\n",
       "    <g>\n",
       "        <path d=\"M19 3H5c-1.1 0-2 .9-2 2v14c0 1.1.9 2 2 2h14c1.1 0 2-.9 2-2V5c0-1.1-.9-2-2-2zM9 17H7v-7h2v7zm4 0h-2V7h2v10zm4 0h-2v-4h2v4z\"/>\n",
       "    </g>\n",
       "</svg>\n",
       "  </button>\n",
       "\n",
       "<style>\n",
       "  .colab-df-quickchart {\n",
       "      --bg-color: #E8F0FE;\n",
       "      --fill-color: #1967D2;\n",
       "      --hover-bg-color: #E2EBFA;\n",
       "      --hover-fill-color: #174EA6;\n",
       "      --disabled-fill-color: #AAA;\n",
       "      --disabled-bg-color: #DDD;\n",
       "  }\n",
       "\n",
       "  [theme=dark] .colab-df-quickchart {\n",
       "      --bg-color: #3B4455;\n",
       "      --fill-color: #D2E3FC;\n",
       "      --hover-bg-color: #434B5C;\n",
       "      --hover-fill-color: #FFFFFF;\n",
       "      --disabled-bg-color: #3B4455;\n",
       "      --disabled-fill-color: #666;\n",
       "  }\n",
       "\n",
       "  .colab-df-quickchart {\n",
       "    background-color: var(--bg-color);\n",
       "    border: none;\n",
       "    border-radius: 50%;\n",
       "    cursor: pointer;\n",
       "    display: none;\n",
       "    fill: var(--fill-color);\n",
       "    height: 32px;\n",
       "    padding: 0;\n",
       "    width: 32px;\n",
       "  }\n",
       "\n",
       "  .colab-df-quickchart:hover {\n",
       "    background-color: var(--hover-bg-color);\n",
       "    box-shadow: 0 1px 2px rgba(60, 64, 67, 0.3), 0 1px 3px 1px rgba(60, 64, 67, 0.15);\n",
       "    fill: var(--button-hover-fill-color);\n",
       "  }\n",
       "\n",
       "  .colab-df-quickchart-complete:disabled,\n",
       "  .colab-df-quickchart-complete:disabled:hover {\n",
       "    background-color: var(--disabled-bg-color);\n",
       "    fill: var(--disabled-fill-color);\n",
       "    box-shadow: none;\n",
       "  }\n",
       "\n",
       "  .colab-df-spinner {\n",
       "    border: 2px solid var(--fill-color);\n",
       "    border-color: transparent;\n",
       "    border-bottom-color: var(--fill-color);\n",
       "    animation:\n",
       "      spin 1s steps(1) infinite;\n",
       "  }\n",
       "\n",
       "  @keyframes spin {\n",
       "    0% {\n",
       "      border-color: transparent;\n",
       "      border-bottom-color: var(--fill-color);\n",
       "      border-left-color: var(--fill-color);\n",
       "    }\n",
       "    20% {\n",
       "      border-color: transparent;\n",
       "      border-left-color: var(--fill-color);\n",
       "      border-top-color: var(--fill-color);\n",
       "    }\n",
       "    30% {\n",
       "      border-color: transparent;\n",
       "      border-left-color: var(--fill-color);\n",
       "      border-top-color: var(--fill-color);\n",
       "      border-right-color: var(--fill-color);\n",
       "    }\n",
       "    40% {\n",
       "      border-color: transparent;\n",
       "      border-right-color: var(--fill-color);\n",
       "      border-top-color: var(--fill-color);\n",
       "    }\n",
       "    60% {\n",
       "      border-color: transparent;\n",
       "      border-right-color: var(--fill-color);\n",
       "    }\n",
       "    80% {\n",
       "      border-color: transparent;\n",
       "      border-right-color: var(--fill-color);\n",
       "      border-bottom-color: var(--fill-color);\n",
       "    }\n",
       "    90% {\n",
       "      border-color: transparent;\n",
       "      border-bottom-color: var(--fill-color);\n",
       "    }\n",
       "  }\n",
       "</style>\n",
       "\n",
       "  <script>\n",
       "    async function quickchart(key) {\n",
       "      const quickchartButtonEl =\n",
       "        document.querySelector('#' + key + ' button');\n",
       "      quickchartButtonEl.disabled = true;  // To prevent multiple clicks.\n",
       "      quickchartButtonEl.classList.add('colab-df-spinner');\n",
       "      try {\n",
       "        const charts = await google.colab.kernel.invokeFunction(\n",
       "            'suggestCharts', [key], {});\n",
       "      } catch (error) {\n",
       "        console.error('Error during call to suggestCharts:', error);\n",
       "      }\n",
       "      quickchartButtonEl.classList.remove('colab-df-spinner');\n",
       "      quickchartButtonEl.classList.add('colab-df-quickchart-complete');\n",
       "    }\n",
       "    (() => {\n",
       "      let quickchartButtonEl =\n",
       "        document.querySelector('#df-d8ca7685-18d0-46f5-8ec4-086e5e02ae38 button');\n",
       "      quickchartButtonEl.style.display =\n",
       "        google.colab.kernel.accessAllowed ? 'block' : 'none';\n",
       "    })();\n",
       "  </script>\n",
       "</div>\n",
       "\n",
       "    </div>\n",
       "  </div>\n"
      ],
      "text/plain": [
       "           농업면적    연도  지역       비료사용량        비료잔여량 작물종류 토양유형  농약검출여부 등급\n",
       "0  20079.652837  2004  대구  407.985516   146.290507   보리   점토       2  C\n",
       "1  73858.643204  2012  울산  221.229692  1967.333638    밀   점토       0  B\n",
       "2  65718.150861  2012  강원  370.967205  2253.522610    쌀   점토       0  B\n",
       "3  37366.182902  2005  광주  274.128236  1487.535265    쌀   양토       0  B\n",
       "4  81515.151289  2007  충남  213.410655   683.306745    쌀   양토       1  B"
      ]
     },
     "execution_count": 4,
     "metadata": {},
     "output_type": "execute_result"
    }
   ],
   "source": [
    "# 데이터 샘플\n",
    "train.head()"
   ]
  },
  {
   "cell_type": "code",
   "execution_count": null,
   "metadata": {
    "colab": {
     "base_uri": "https://localhost:8080/"
    },
    "id": "8bOB_lekuaC-",
    "outputId": "4aac5bd9-966d-4d87-c59a-f42c06ee4bfd"
   },
   "outputs": [
    {
     "name": "stdout",
     "output_type": "stream",
     "text": [
      "<class 'pandas.core.frame.DataFrame'>\n",
      "RangeIndex: 4000 entries, 0 to 3999\n",
      "Data columns (total 9 columns):\n",
      " #   Column  Non-Null Count  Dtype  \n",
      "---  ------  --------------  -----  \n",
      " 0   농업면적    4000 non-null   float64\n",
      " 1   연도      4000 non-null   int64  \n",
      " 2   지역      4000 non-null   object \n",
      " 3   비료사용량   4000 non-null   float64\n",
      " 4   비료잔여량   4000 non-null   float64\n",
      " 5   작물종류    4000 non-null   object \n",
      " 6   토양유형    4000 non-null   object \n",
      " 7   농약검출여부  4000 non-null   int64  \n",
      " 8   등급      4000 non-null   object \n",
      "dtypes: float64(3), int64(2), object(4)\n",
      "memory usage: 281.4+ KB\n",
      "None\n"
     ]
    }
   ],
   "source": [
    "# 데이터 정보(자료형)\n",
    "print(train.info())"
   ]
  },
  {
   "cell_type": "code",
   "execution_count": null,
   "metadata": {
    "colab": {
     "base_uri": "https://localhost:8080/"
    },
    "id": "yw0t_ExRuaFb",
    "outputId": "51f53021-06ad-4a7d-a9c0-1e4840a82d9f"
   },
   "outputs": [
    {
     "name": "stdout",
     "output_type": "stream",
     "text": [
      "          지역  작물종류  토양유형    등급\n",
      "count   4000  4000  4000  4000\n",
      "unique    15     3     3     3\n",
      "top       전북    보리    양토     A\n",
      "freq     302  1374  1357  1364\n",
      "          지역  작물종류  토양유형    등급\n",
      "count   1000  1000  1000  1000\n",
      "unique    15     3     3     3\n",
      "top       대전     쌀    양토     A\n",
      "freq      84   352   347   336\n"
     ]
    }
   ],
   "source": [
    "# object컬럼 unique 수\n",
    "# train\n",
    "print(train.describe(include='object'))\n",
    "\n",
    "# test\n",
    "print(test.describe(include='object'))"
   ]
  },
  {
   "cell_type": "code",
   "execution_count": null,
   "metadata": {
    "colab": {
     "base_uri": "https://localhost:8080/"
    },
    "id": "-FMFzHSruaHx",
    "outputId": "82e90c08-1a87-419f-d16d-18c35b363a5a"
   },
   "outputs": [
    {
     "name": "stdout",
     "output_type": "stream",
     "text": [
      "0\n",
      "0\n"
     ]
    }
   ],
   "source": [
    "# 결측치 수\n",
    "# train\n",
    "print(train.isnull().sum().sum())\n",
    "\n",
    "# test\n",
    "print(test.isnull().sum().sum())"
   ]
  },
  {
   "cell_type": "code",
   "execution_count": null,
   "metadata": {
    "colab": {
     "base_uri": "https://localhost:8080/"
    },
    "id": "M_I-6LSTuaKO",
    "outputId": "e98e8c9b-dbf7-4f2b-c9f9-24371df45670"
   },
   "outputs": [
    {
     "name": "stdout",
     "output_type": "stream",
     "text": [
      "농약검출여부\n",
      "2    1989\n",
      "0    1758\n",
      "1     253\n",
      "Name: count, dtype: int64\n"
     ]
    }
   ],
   "source": [
    "# target unique 수\n",
    "print(train['농약검출여부'].value_counts())"
   ]
  },
  {
   "cell_type": "markdown",
   "metadata": {
    "id": "NH0RwJ02tYyL"
   },
   "source": [
    "## 데이터 전처리"
   ]
  },
  {
   "cell_type": "code",
   "execution_count": null,
   "metadata": {
    "id": "cr-pI_LKuHb9"
   },
   "outputs": [],
   "source": [
    "# 타겟 옮기기\n",
    "target = train.pop('농약검출여부')"
   ]
  },
  {
   "cell_type": "code",
   "execution_count": null,
   "metadata": {
    "id": "QxmEvNVGus2j"
   },
   "outputs": [],
   "source": [
    "# 원핫 인코딩\n",
    "train = pd.get_dummies(train)\n",
    "test = pd.get_dummies(test)"
   ]
  },
  {
   "cell_type": "markdown",
   "metadata": {
    "id": "Sl61UKlcuHj4"
   },
   "source": [
    "## 검증데이터 나누기"
   ]
  },
  {
   "cell_type": "code",
   "execution_count": null,
   "metadata": {
    "colab": {
     "base_uri": "https://localhost:8080/"
    },
    "id": "IYa9Ca8IuKBo",
    "outputId": "0bd0db93-0146-4798-db50-84bd2d2f1324"
   },
   "outputs": [
    {
     "data": {
      "text/plain": [
       "((3200, 28), (800, 28), (3200,), (800,))"
      ]
     },
     "execution_count": 11,
     "metadata": {},
     "output_type": "execute_result"
    }
   ],
   "source": [
    "# 검증데이터 분리\n",
    "from sklearn.model_selection import train_test_split\n",
    "X_tr, X_val, y_tr, y_val = train_test_split(train, target, test_size=0.2, random_state=0)\n",
    "X_tr.shape, X_val.shape, y_tr.shape, y_val.shape"
   ]
  },
  {
   "cell_type": "markdown",
   "metadata": {
    "id": "xGITU5KwuKJ-"
   },
   "source": [
    "## 모델 학습 및 평가"
   ]
  },
  {
   "cell_type": "code",
   "execution_count": null,
   "metadata": {
    "id": "1IUscUvYuRSE"
   },
   "outputs": [],
   "source": [
    "# 랜덤포레스트\n",
    "from sklearn.ensemble import RandomForestClassifier\n",
    "rf = RandomForestClassifier(random_state=0)\n",
    "rf.fit(X_tr, y_tr)\n",
    "pred = rf.predict(X_val)"
   ]
  },
  {
   "cell_type": "code",
   "execution_count": null,
   "metadata": {
    "colab": {
     "base_uri": "https://localhost:8080/"
    },
    "id": "6txjJPUzuRUe",
    "outputId": "7a7cd5b6-c887-458f-ae60-105cfaf87ba7"
   },
   "outputs": [
    {
     "name": "stdout",
     "output_type": "stream",
     "text": [
      "랜덤포레스트\n",
      "0.8532014300116062\n"
     ]
    }
   ],
   "source": [
    "# macro F1 score\n",
    "from sklearn.metrics import f1_score\n",
    "print(\"랜덤포레스트\")\n",
    "print(f1_score(y_val, pred, average='macro'))"
   ]
  },
  {
   "cell_type": "code",
   "execution_count": null,
   "metadata": {
    "colab": {
     "base_uri": "https://localhost:8080/"
    },
    "id": "9Y_HpKQ2uRW7",
    "outputId": "b7e8acd5-016a-4127-fe46-da41bb405262"
   },
   "outputs": [
    {
     "name": "stdout",
     "output_type": "stream",
     "text": [
      "lightgbm\n",
      "0.9100316620356779\n"
     ]
    }
   ],
   "source": [
    "# LightGBM\n",
    "import lightgbm as lgb\n",
    "lg = lgb.LGBMClassifier(random_state=0, verbose=-1)\n",
    "lg.fit(X_tr, y_tr)\n",
    "pred = lg.predict(X_val)\n",
    "print(\"lightgbm\")\n",
    "print(f1_score(y_val, pred, average='macro'))"
   ]
  },
  {
   "cell_type": "code",
   "execution_count": null,
   "metadata": {
    "id": "shHWMarkuRZK"
   },
   "outputs": [],
   "source": [
    "# 최종 제출 파일 (lightGBM)\n",
    "pred = lg.predict(test)\n",
    "result = pd.DataFrame({'pred':pred})\n",
    "result.to_csv(\"result.csv\", index=False)"
   ]
  },
  {
   "cell_type": "code",
   "execution_count": null,
   "metadata": {
    "id": "OkoK-9aZupBZ"
   },
   "outputs": [],
   "source": []
  },
  {
   "cell_type": "code",
   "execution_count": null,
   "metadata": {
    "id": "U2DJKVlYvOIK"
   },
   "outputs": [],
   "source": []
  },
  {
   "cell_type": "markdown",
   "metadata": {
    "id": "PXnPSmPNhrth"
   },
   "source": [
    "### 꼭 확인할 내용"
   ]
  },
  {
   "cell_type": "code",
   "execution_count": null,
   "metadata": {
    "colab": {
     "base_uri": "https://localhost:8080/"
    },
    "id": "ft4eO8PAvOKf",
    "outputId": "4dd96c2c-5536-46eb-b359-8ed785a350d7"
   },
   "outputs": [
    {
     "name": "stdout",
     "output_type": "stream",
     "text": [
      "pred:  (1000,)\n",
      "   pred\n",
      "0     2\n",
      "1     0\n",
      "2     0\n",
      "3     2\n",
      "4     0\n"
     ]
    }
   ],
   "source": [
    "# 1. pred 행의 수와 test의 행의 수 비교\n",
    "print(\"pred: \",pred.shape) # test 행의 수: 1000\n",
    "\n",
    "# 2. 생성한 csv 확인\n",
    "print(pd.read_csv(\"result.csv\").head())"
   ]
  },
  {
   "cell_type": "code",
   "execution_count": null,
   "metadata": {
    "id": "xWowp05dupDu"
   },
   "outputs": [],
   "source": []
  },
  {
   "cell_type": "code",
   "execution_count": null,
   "metadata": {
    "id": "teEp9Ia8vO0H"
   },
   "outputs": [],
   "source": []
  },
  {
   "cell_type": "code",
   "execution_count": null,
   "metadata": {
    "id": "JP7O-BKnvO2a"
   },
   "outputs": [],
   "source": []
  },
  {
   "cell_type": "code",
   "execution_count": null,
   "metadata": {
    "id": "X0qwy5UuhvvX"
   },
   "outputs": [],
   "source": []
  },
  {
   "cell_type": "code",
   "execution_count": null,
   "metadata": {
    "id": "4-GjU0TRhvx4"
   },
   "outputs": [],
   "source": []
  },
  {
   "cell_type": "code",
   "execution_count": null,
   "metadata": {
    "id": "sA876wa7hv0O"
   },
   "outputs": [],
   "source": []
  },
  {
   "cell_type": "code",
   "execution_count": null,
   "metadata": {
    "id": "1whaLymOhv2r"
   },
   "outputs": [],
   "source": []
  },
  {
   "cell_type": "code",
   "execution_count": null,
   "metadata": {
    "id": "UP2usEJ9vO45"
   },
   "outputs": [],
   "source": []
  },
  {
   "cell_type": "markdown",
   "metadata": {
    "id": "QEKtkJykVuNW"
   },
   "source": [
    "## 위 코드 한번에 작성하기"
   ]
  },
  {
   "cell_type": "code",
   "execution_count": null,
   "metadata": {
    "colab": {
     "base_uri": "https://localhost:8080/"
    },
    "id": "JBGiUhAn1EuA",
    "outputId": "8001a970-f64a-422e-bf95-c04836864915"
   },
   "outputs": [
    {
     "name": "stdout",
     "output_type": "stream",
     "text": [
      "===== 데이터 크기 =====\n",
      "Train Shape: (4000, 9)\n",
      "Test Shape: (1000, 8)\n",
      "\n",
      " ===== 데이터 샘플 =====\n",
      "           농업면적    연도  지역       비료사용량        비료잔여량 작물종류 토양유형  농약검출여부 등급\n",
      "0  20079.652837  2004  대구  407.985516   146.290507   보리   점토       2  C\n",
      "1  73858.643204  2012  울산  221.229692  1967.333638    밀   점토       0  B\n",
      "2  65718.150861  2012  강원  370.967205  2253.522610    쌀   점토       0  B\n",
      "3  37366.182902  2005  광주  274.128236  1487.535265    쌀   양토       0  B\n",
      "4  81515.151289  2007  충남  213.410655   683.306745    쌀   양토       1  B\n",
      "\n",
      " ===== 데이터 정보(자료형) =====\n",
      "<class 'pandas.core.frame.DataFrame'>\n",
      "RangeIndex: 4000 entries, 0 to 3999\n",
      "Data columns (total 9 columns):\n",
      " #   Column  Non-Null Count  Dtype  \n",
      "---  ------  --------------  -----  \n",
      " 0   농업면적    4000 non-null   float64\n",
      " 1   연도      4000 non-null   int64  \n",
      " 2   지역      4000 non-null   object \n",
      " 3   비료사용량   4000 non-null   float64\n",
      " 4   비료잔여량   4000 non-null   float64\n",
      " 5   작물종류    4000 non-null   object \n",
      " 6   토양유형    4000 non-null   object \n",
      " 7   농약검출여부  4000 non-null   int64  \n",
      " 8   등급      4000 non-null   object \n",
      "dtypes: float64(3), int64(2), object(4)\n",
      "memory usage: 281.4+ KB\n",
      "None\n",
      "\n",
      " ===== train object컬럼 unique 수 =====\n",
      "          지역  작물종류  토양유형    등급\n",
      "count   4000  4000  4000  4000\n",
      "unique    15     3     3     3\n",
      "top       전북    보리    양토     A\n",
      "freq     302  1374  1357  1364\n",
      "\n",
      " ===== test object컬럼 unique 수 =====\n",
      "          지역  작물종류  토양유형    등급\n",
      "count   1000  1000  1000  1000\n",
      "unique    15     3     3     3\n",
      "top       대전     쌀    양토     A\n",
      "freq      84   352   347   336\n",
      "\n",
      " ===== train 결측치 수 =====\n",
      "0\n",
      "\n",
      " ===== test 결측치 수 =====\n",
      "0\n",
      "\n",
      " ===== target unique 수 =====\n",
      "농약검출여부\n",
      "2    1989\n",
      "0    1758\n",
      "1     253\n",
      "Name: count, dtype: int64\n"
     ]
    }
   ],
   "source": [
    "# 문제정의\n",
    "# 평가: f1-macro\n",
    "# target: 농약검출여부\n",
    "# 최종파일: result.csv(컬럼 1개 pred)\n",
    "\n",
    "# 라이브러리 및 데이터 불러오기\n",
    "import pandas as pd\n",
    "train = pd.read_csv(\"https://raw.githubusercontent.com/lovedlim/inf/refs/heads/main/p4/9_2/farm_train.csv\")\n",
    "test = pd.read_csv(\"https://raw.githubusercontent.com/lovedlim/inf/refs/heads/main/p4/9_2/farm_test.csv\")\n",
    "\n",
    "# 탐색적 데이터 분석(EDA)\n",
    "print(\"===== 데이터 크기 =====\")\n",
    "print(\"Train Shape:\", train.shape)\n",
    "print(\"Test Shape:\", test.shape)\n",
    "\n",
    "print(\"\\n ===== 데이터 샘플 =====\")\n",
    "print(train.head())\n",
    "\n",
    "print(\"\\n ===== 데이터 정보(자료형) =====\")\n",
    "print(train.info())\n",
    "\n",
    "print(\"\\n ===== train object컬럼 unique 수 =====\")\n",
    "print(train.describe(include='object'))\n",
    "\n",
    "print(\"\\n ===== test object컬럼 unique 수 =====\")\n",
    "print(test.describe(include='object'))\n",
    "\n",
    "print(\"\\n ===== train 결측치 수 =====\")\n",
    "print(train.isnull().sum().sum())\n",
    "\n",
    "print(\"\\n ===== test 결측치 수 =====\")\n",
    "print(test.isnull().sum().sum())\n",
    "\n",
    "print(\"\\n ===== target unique 수 =====\")\n",
    "print(train['농약검출여부'].value_counts())"
   ]
  },
  {
   "cell_type": "code",
   "execution_count": null,
   "metadata": {
    "colab": {
     "base_uri": "https://localhost:8080/"
    },
    "id": "HQvRuDQG2RGR",
    "outputId": "2f63097a-4fff-4e76-820d-e135058892e9"
   },
   "outputs": [
    {
     "name": "stdout",
     "output_type": "stream",
     "text": [
      "랜덤포레스트\n",
      "0.8532014300116062\n",
      "lightgbm\n",
      "0.9100316620356779\n"
     ]
    }
   ],
   "source": [
    "# 데이터 다시 불러오기\n",
    "train = pd.read_csv(\"https://raw.githubusercontent.com/lovedlim/inf/refs/heads/main/p4/9_2/farm_train.csv\")\n",
    "test = pd.read_csv(\"https://raw.githubusercontent.com/lovedlim/inf/refs/heads/main/p4/9_2/farm_test.csv\")\n",
    "\n",
    "# 데이터 전처리\n",
    "target = train.pop('농약검출여부')\n",
    "\n",
    "# 원핫 인코딩\n",
    "train = pd.get_dummies(train)\n",
    "test = pd.get_dummies(test)\n",
    "\n",
    "# 검증데이터 분리\n",
    "from sklearn.model_selection import train_test_split\n",
    "X_tr, X_val, y_tr, y_val = train_test_split(train, target, test_size=0.2, random_state=0)\n",
    "\n",
    "# 랜덤포레스트\n",
    "from sklearn.ensemble import RandomForestClassifier\n",
    "rf = RandomForestClassifier(random_state=0)\n",
    "rf.fit(X_tr, y_tr)\n",
    "pred = rf.predict(X_val)\n",
    "\n",
    "# macro F1 score\n",
    "from sklearn.metrics import f1_score\n",
    "print(\"랜덤포레스트\")\n",
    "print(f1_score(y_val, pred, average='macro'))\n",
    "\n",
    "# LightGBM\n",
    "import lightgbm as lgb\n",
    "lg = lgb.LGBMClassifier(random_state=0, verbose=-1)\n",
    "lg.fit(X_tr, y_tr)\n",
    "pred = lg.predict(X_val)\n",
    "print(\"lightgbm\")\n",
    "print(f1_score(y_val, pred, average='macro'))\n",
    "\n",
    "# 최종 제출 파일 (lightGBM)\n",
    "pred = lg.predict(test)\n",
    "result = pd.DataFrame({\n",
    "    'pred':pred\n",
    "})\n",
    "result.to_csv(\"result.csv\", index=False)\n"
   ]
  },
  {
   "cell_type": "code",
   "execution_count": null,
   "metadata": {
    "colab": {
     "base_uri": "https://localhost:8080/"
    },
    "id": "x6Rl3P112anS",
    "outputId": "9c15e3b8-a167-4263-a6d9-e7964a23108a"
   },
   "outputs": [
    {
     "name": "stdout",
     "output_type": "stream",
     "text": [
      "pred:  (1000,)\n",
      "   pred\n",
      "0     2\n",
      "1     0\n",
      "2     0\n",
      "3     2\n",
      "4     0\n"
     ]
    }
   ],
   "source": [
    "# 1. pred 행의 수와 test의 행의 수 비교\n",
    "print(\"pred: \",pred.shape) # test 행의 수: 1000\n",
    "\n",
    "# 2. 생성한 csv 확인\n",
    "print(pd.read_csv(\"result.csv\").head())"
   ]
  }
 ],
 "metadata": {
  "colab": {
   "provenance": []
  },
  "kernelspec": {
   "display_name": "Python 3 (ipykernel)",
   "language": "python",
   "name": "python3"
  },
  "language_info": {
   "codemirror_mode": {
    "name": "ipython",
    "version": 3
   },
   "file_extension": ".py",
   "mimetype": "text/x-python",
   "name": "python",
   "nbconvert_exporter": "python",
   "pygments_lexer": "ipython3",
   "version": "3.12.6"
  }
 },
 "nbformat": 4,
 "nbformat_minor": 4
}
