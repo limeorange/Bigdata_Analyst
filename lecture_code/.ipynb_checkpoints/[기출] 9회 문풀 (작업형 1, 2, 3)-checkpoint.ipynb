{
 "cells": [
  {
   "cell_type": "markdown",
   "metadata": {
    "id": "ben18EnnhH5K"
   },
   "source": [
    "# 기출 9회_작업형2\n",
    "## 농작물에서 농약 검출 여부 예측\n",
    "-\t제공된 데이터 목록:\n",
    "    - farm_train.csv (훈련 데이터)\n",
    "    - farm_test.csv (평가용 데이터)\n",
    "-\t예측할 컬럼: 농약검출여부 (0:미검출, 1:검출, 2:재검사 필요)\n",
    "\n",
    "학습용 데이터(farm_train.csv)를 이용하여 농약 검출 여부를 예측하는 모델을 구축한 후, 이를 평가용 데이터(farm_test.csv)에 적용하여 예측 결과를 다음과 같은 형식의 CSV 파일로 생성하시오.\n",
    "\n",
    "제출 파일은 다음 한 개의 컬럼을 포함해야 합니다.\n",
    "- pred: 예측된 검출 여부\n",
    "- 제출 파일명: 'result.csv'\n",
    "\n",
    "모델의 성능은 macro F1 Score 평가지표에 따라 채점됩니다.\n",
    "제출 CSV 파일은 result.csv 형태로 제출하시오."
   ]
  },
  {
   "cell_type": "markdown",
   "metadata": {
    "id": "bPT5gwB5VdlC"
   },
   "source": [
    "~~~\n",
    "pred\n",
    "0\n",
    "1\n",
    "0\n",
    "2\n",
    "0\n",
    "...\n",
    "~~~"
   ]
  },
  {
   "cell_type": "markdown",
   "metadata": {},
   "source": [
    "## 📌 My Code\n",
    "- **lightgbm은 sklearn 안에 없고, 바로 import 해줘야 함. => 패키지 설치되어 있지 않아서 실전에서 활용 불가능할 듯**\n",
    "- **RandomForestClassifier**: 0.8643039773063413\n",
    "- **HistGradientBoostingClassifier**: 0.9336837464154217"
   ]
  },
  {
   "cell_type": "code",
   "execution_count": 42,
   "metadata": {},
   "outputs": [
    {
     "name": "stdout",
     "output_type": "stream",
     "text": [
      "Index(['연도', '지역', '작물종류', '토양유형', '등급'], dtype='object')\n",
      "RandomForestClassifier 0.8643039773063413\n",
      "HistGradientBoostingClassifier 0.9336837464154217\n"
     ]
    }
   ],
   "source": [
    "import pandas as pd\n",
    "train = pd.read_csv(\"https://raw.githubusercontent.com/lovedlim/inf/refs/heads/main/p4/9_2/farm_train.csv\")\n",
    "test = pd.read_csv(\"https://raw.githubusercontent.com/lovedlim/inf/refs/heads/main/p4/9_2/farm_test.csv\")\n",
    "\n",
    "# 1. 데이터 유형 확인\n",
    "# 결측치: 없음\n",
    "# 범주형: ['지역', '작물종류', '토양유형', '등급'] => '연도'를 범주로 변환해주면 더 성능이 좋을까? 0.86792 (기존: 0.81631)\n",
    "# target: 농약검출여부\n",
    "# print(train.info())\n",
    "# print(test.info())\n",
    "# print(train.shape, test.shape) # (4000, 9) (1000, 8)\n",
    "# print(train.select_dtypes('object').columns)\n",
    "\n",
    "# 2. 데이터 전처리\n",
    "# (1) X_full\n",
    "X = train.drop(['농약검출여부'], axis=1)\n",
    "y = train['농약검출여부']\n",
    "X_full = pd.concat([X, test], axis=0)\n",
    "\n",
    "# '연도'를 범주형으로 바꿔보기!\n",
    "X_full['연도'] = X_full['연도'].astype('str')\n",
    "print(X_full.select_dtypes('object').columns)\n",
    "\n",
    "# print(X_full.shape, X.shape, test.shape) # (5000, 8) (4000, 8) (1000, 8)\n",
    "\n",
    "# (2) 결측치 처리 => Pass\n",
    "\n",
    "# (3) 수치형 스케일링 => Pass\n",
    "\n",
    "# (4) 범주형 인코딩\n",
    "X_full = pd.get_dummies(X_full)\n",
    "# print(X_full)\n",
    "# print(X_full.shape) # (5000, 28)\n",
    "\n",
    "# 3. 데이터 분리\n",
    "X = X_full[:train.shape[0]]\n",
    "X_test = X_full[train.shape[0]:]\n",
    "# print(X.shape, X_test.shape) # (4000, 28) (1000, 28)\n",
    "\n",
    "from sklearn.model_selection import train_test_split\n",
    "X_train, X_val, y_train, y_val = train_test_split(X, y, test_size=0.2)\n",
    "# print(X_train.shape, X_val.shape, y_train.shape, y_val.shape) # (3200, 28) (800, 28) (3200,) (800,)\n",
    "\n",
    "# 4. 모델 학습 및 검증\n",
    "from sklearn.ensemble import RandomForestClassifier\n",
    "model = RandomForestClassifier()\n",
    "model.fit(X_train, y_train)\n",
    "y_val_pred = model.predict(X_val)\n",
    "# print(y_val_pred)\n",
    "# print(y_val_pred.shape) # (800,)\n",
    "\n",
    "from sklearn.ensemble import HistGradientBoostingClassifier\n",
    "model2 = HistGradientBoostingClassifier()\n",
    "model2.fit(X_train, y_train)\n",
    "y_val_pred2 = model2.predict(X_val)\n",
    "# print(y_val_pred2)\n",
    "# print(y_val_pred2.shape) # (800,)\n",
    "\n",
    "# 5. 모델 평가\n",
    "from sklearn.metrics import f1_score\n",
    "f1_score_1 = f1_score(y_val, y_val_pred, average='macro')\n",
    "print('RandomForestClassifier', f1_score_1)\n",
    "\n",
    "f1_score_2 = f1_score(y_val, y_val_pred2, average='macro')\n",
    "print('HistGradientBoostingClassifier', f1_score_2)\n",
    "\n",
    "# 6. 결과 저장\n",
    "y_pred = model.predict(X_test)\n",
    "# print(y_pred)\n",
    "# print(y_pred.shape) # (1000,)\n",
    "\n",
    "result = pd.DataFrame({'pred':y_pred})\n",
    "result.to_csv('result_92.csv', index=False)\n",
    "\n",
    "check = pd.read_csv('result_92.csv')\n",
    "# print(check)"
   ]
  },
  {
   "cell_type": "markdown",
   "metadata": {
    "jp-MarkdownHeadingCollapsed": true
   },
   "source": [
    "# 작업형2 풀이"
   ]
  },
  {
   "cell_type": "markdown",
   "metadata": {
    "id": "W_Hox9U_ZyEo"
   },
   "source": [
    "## 문제정의"
   ]
  },
  {
   "cell_type": "code",
   "execution_count": null,
   "metadata": {
    "id": "7PshXUdTtVCq"
   },
   "outputs": [],
   "source": [
    "# 문제정의\n",
    "# 평가: f1-macro\n",
    "# target: 농약검출여부\n",
    "# 최종파일: result.csv(컬럼 1개 pred)"
   ]
  },
  {
   "cell_type": "markdown",
   "metadata": {
    "id": "obcgSmeHtVJ1"
   },
   "source": [
    "## 데이터 불러오기"
   ]
  },
  {
   "cell_type": "code",
   "execution_count": null,
   "metadata": {
    "id": "XibJMYw0tV9j"
   },
   "outputs": [],
   "source": [
    "# 라이브러리 및 데이터 불러오기\n",
    "import pandas as pd\n",
    "train = pd.read_csv(\"https://raw.githubusercontent.com/lovedlim/inf/refs/heads/main/p4/9_2/farm_train.csv\")\n",
    "test = pd.read_csv(\"https://raw.githubusercontent.com/lovedlim/inf/refs/heads/main/p4/9_2/farm_test.csv\")"
   ]
  },
  {
   "cell_type": "markdown",
   "metadata": {
    "id": "J9s7JvoItWEP"
   },
   "source": [
    "## 탐색적 데이터 분석(EDA)"
   ]
  },
  {
   "cell_type": "code",
   "execution_count": null,
   "metadata": {
    "colab": {
     "base_uri": "https://localhost:8080/"
    },
    "id": "FrJ0SH7RtYj1",
    "outputId": "67fba3bd-a8ce-4ccb-95f2-c2b3de499281"
   },
   "outputs": [
    {
     "name": "stdout",
     "output_type": "stream",
     "text": [
      "Train Shape: (4000, 9)\n",
      "Test Shape: (1000, 8)\n"
     ]
    }
   ],
   "source": [
    "# 데이터 크기\n",
    "print(\"Train Shape:\", train.shape)\n",
    "print(\"Test Shape:\", test.shape)"
   ]
  },
  {
   "cell_type": "code",
   "execution_count": null,
   "metadata": {
    "colab": {
     "base_uri": "https://localhost:8080/",
     "height": 206
    },
    "id": "yeEp8ANkuaAq",
    "outputId": "cede8674-29ed-4901-f689-fa5557c742b5"
   },
   "outputs": [
    {
     "data": {
      "application/vnd.google.colaboratory.intrinsic+json": {
       "summary": "{\n  \"name\": \"train\",\n  \"rows\": 4000,\n  \"fields\": [\n    {\n      \"column\": \"\\ub18d\\uc5c5\\uba74\\uc801\",\n      \"properties\": {\n        \"dtype\": \"number\",\n        \"std\": 29113.409543335856,\n        \"min\": 107.23771888536858,\n        \"max\": 99996.40545240598,\n        \"num_unique_values\": 4000,\n        \"samples\": [\n          14866.08680205751,\n          44555.6687400318,\n          10819.373048398902\n        ],\n        \"semantic_type\": \"\",\n        \"description\": \"\"\n      }\n    },\n    {\n      \"column\": \"\\uc5f0\\ub3c4\",\n      \"properties\": {\n        \"dtype\": \"number\",\n        \"std\": 6,\n        \"min\": 2000,\n        \"max\": 2023,\n        \"num_unique_values\": 24,\n        \"samples\": [\n          2018,\n          2022,\n          2004\n        ],\n        \"semantic_type\": \"\",\n        \"description\": \"\"\n      }\n    },\n    {\n      \"column\": \"\\uc9c0\\uc5ed\",\n      \"properties\": {\n        \"dtype\": \"category\",\n        \"num_unique_values\": 15,\n        \"samples\": [\n          \"\\ubd80\\uc0b0\",\n          \"\\ucda9\\ubd81\",\n          \"\\ub300\\uad6c\"\n        ],\n        \"semantic_type\": \"\",\n        \"description\": \"\"\n      }\n    },\n    {\n      \"column\": \"\\ube44\\ub8cc\\uc0ac\\uc6a9\\ub7c9\",\n      \"properties\": {\n        \"dtype\": \"number\",\n        \"std\": 99.3439878033355,\n        \"min\": 0.0,\n        \"max\": 634.8271598671811,\n        \"num_unique_values\": 3997,\n        \"samples\": [\n          470.4719463675826,\n          416.1628520134002,\n          378.63095283812856\n        ],\n        \"semantic_type\": \"\",\n        \"description\": \"\"\n      }\n    },\n    {\n      \"column\": \"\\ube44\\ub8cc\\uc794\\uc5ec\\ub7c9\",\n      \"properties\": {\n        \"dtype\": \"number\",\n        \"std\": 43139.42489176645,\n        \"min\": 0.802506049204308,\n        \"max\": 1542162.9092775958,\n        \"num_unique_values\": 4000,\n        \"samples\": [\n          2475.3278766547523,\n          1696.3403153114843,\n          2551.552115909329\n        ],\n        \"semantic_type\": \"\",\n        \"description\": \"\"\n      }\n    },\n    {\n      \"column\": \"\\uc791\\ubb3c\\uc885\\ub958\",\n      \"properties\": {\n        \"dtype\": \"category\",\n        \"num_unique_values\": 3,\n        \"samples\": [\n          \"\\ubcf4\\ub9ac\",\n          \"\\ubc00\",\n          \"\\uc300\"\n        ],\n        \"semantic_type\": \"\",\n        \"description\": \"\"\n      }\n    },\n    {\n      \"column\": \"\\ud1a0\\uc591\\uc720\\ud615\",\n      \"properties\": {\n        \"dtype\": \"category\",\n        \"num_unique_values\": 3,\n        \"samples\": [\n          \"\\uc810\\ud1a0\",\n          \"\\uc591\\ud1a0\",\n          \"\\ubaa8\\ub798\"\n        ],\n        \"semantic_type\": \"\",\n        \"description\": \"\"\n      }\n    },\n    {\n      \"column\": \"\\ub18d\\uc57d\\uac80\\ucd9c\\uc5ec\\ubd80\",\n      \"properties\": {\n        \"dtype\": \"number\",\n        \"std\": 0,\n        \"min\": 0,\n        \"max\": 2,\n        \"num_unique_values\": 3,\n        \"samples\": [\n          2,\n          0,\n          1\n        ],\n        \"semantic_type\": \"\",\n        \"description\": \"\"\n      }\n    },\n    {\n      \"column\": \"\\ub4f1\\uae09\",\n      \"properties\": {\n        \"dtype\": \"category\",\n        \"num_unique_values\": 3,\n        \"samples\": [\n          \"C\",\n          \"B\",\n          \"A\"\n        ],\n        \"semantic_type\": \"\",\n        \"description\": \"\"\n      }\n    }\n  ]\n}",
       "type": "dataframe",
       "variable_name": "train"
      },
      "text/html": [
       "\n",
       "  <div id=\"df-a87b7bdb-403c-47c8-a4d6-a8aa3452536f\" class=\"colab-df-container\">\n",
       "    <div>\n",
       "<style scoped>\n",
       "    .dataframe tbody tr th:only-of-type {\n",
       "        vertical-align: middle;\n",
       "    }\n",
       "\n",
       "    .dataframe tbody tr th {\n",
       "        vertical-align: top;\n",
       "    }\n",
       "\n",
       "    .dataframe thead th {\n",
       "        text-align: right;\n",
       "    }\n",
       "</style>\n",
       "<table border=\"1\" class=\"dataframe\">\n",
       "  <thead>\n",
       "    <tr style=\"text-align: right;\">\n",
       "      <th></th>\n",
       "      <th>농업면적</th>\n",
       "      <th>연도</th>\n",
       "      <th>지역</th>\n",
       "      <th>비료사용량</th>\n",
       "      <th>비료잔여량</th>\n",
       "      <th>작물종류</th>\n",
       "      <th>토양유형</th>\n",
       "      <th>농약검출여부</th>\n",
       "      <th>등급</th>\n",
       "    </tr>\n",
       "  </thead>\n",
       "  <tbody>\n",
       "    <tr>\n",
       "      <th>0</th>\n",
       "      <td>20079.652837</td>\n",
       "      <td>2004</td>\n",
       "      <td>대구</td>\n",
       "      <td>407.985516</td>\n",
       "      <td>146.290507</td>\n",
       "      <td>보리</td>\n",
       "      <td>점토</td>\n",
       "      <td>2</td>\n",
       "      <td>C</td>\n",
       "    </tr>\n",
       "    <tr>\n",
       "      <th>1</th>\n",
       "      <td>73858.643204</td>\n",
       "      <td>2012</td>\n",
       "      <td>울산</td>\n",
       "      <td>221.229692</td>\n",
       "      <td>1967.333638</td>\n",
       "      <td>밀</td>\n",
       "      <td>점토</td>\n",
       "      <td>0</td>\n",
       "      <td>B</td>\n",
       "    </tr>\n",
       "    <tr>\n",
       "      <th>2</th>\n",
       "      <td>65718.150861</td>\n",
       "      <td>2012</td>\n",
       "      <td>강원</td>\n",
       "      <td>370.967205</td>\n",
       "      <td>2253.522610</td>\n",
       "      <td>쌀</td>\n",
       "      <td>점토</td>\n",
       "      <td>0</td>\n",
       "      <td>B</td>\n",
       "    </tr>\n",
       "    <tr>\n",
       "      <th>3</th>\n",
       "      <td>37366.182902</td>\n",
       "      <td>2005</td>\n",
       "      <td>광주</td>\n",
       "      <td>274.128236</td>\n",
       "      <td>1487.535265</td>\n",
       "      <td>쌀</td>\n",
       "      <td>양토</td>\n",
       "      <td>0</td>\n",
       "      <td>B</td>\n",
       "    </tr>\n",
       "    <tr>\n",
       "      <th>4</th>\n",
       "      <td>81515.151289</td>\n",
       "      <td>2007</td>\n",
       "      <td>충남</td>\n",
       "      <td>213.410655</td>\n",
       "      <td>683.306745</td>\n",
       "      <td>쌀</td>\n",
       "      <td>양토</td>\n",
       "      <td>1</td>\n",
       "      <td>B</td>\n",
       "    </tr>\n",
       "  </tbody>\n",
       "</table>\n",
       "</div>\n",
       "    <div class=\"colab-df-buttons\">\n",
       "\n",
       "  <div class=\"colab-df-container\">\n",
       "    <button class=\"colab-df-convert\" onclick=\"convertToInteractive('df-a87b7bdb-403c-47c8-a4d6-a8aa3452536f')\"\n",
       "            title=\"Convert this dataframe to an interactive table.\"\n",
       "            style=\"display:none;\">\n",
       "\n",
       "  <svg xmlns=\"http://www.w3.org/2000/svg\" height=\"24px\" viewBox=\"0 -960 960 960\">\n",
       "    <path d=\"M120-120v-720h720v720H120Zm60-500h600v-160H180v160Zm220 220h160v-160H400v160Zm0 220h160v-160H400v160ZM180-400h160v-160H180v160Zm440 0h160v-160H620v160ZM180-180h160v-160H180v160Zm440 0h160v-160H620v160Z\"/>\n",
       "  </svg>\n",
       "    </button>\n",
       "\n",
       "  <style>\n",
       "    .colab-df-container {\n",
       "      display:flex;\n",
       "      gap: 12px;\n",
       "    }\n",
       "\n",
       "    .colab-df-convert {\n",
       "      background-color: #E8F0FE;\n",
       "      border: none;\n",
       "      border-radius: 50%;\n",
       "      cursor: pointer;\n",
       "      display: none;\n",
       "      fill: #1967D2;\n",
       "      height: 32px;\n",
       "      padding: 0 0 0 0;\n",
       "      width: 32px;\n",
       "    }\n",
       "\n",
       "    .colab-df-convert:hover {\n",
       "      background-color: #E2EBFA;\n",
       "      box-shadow: 0px 1px 2px rgba(60, 64, 67, 0.3), 0px 1px 3px 1px rgba(60, 64, 67, 0.15);\n",
       "      fill: #174EA6;\n",
       "    }\n",
       "\n",
       "    .colab-df-buttons div {\n",
       "      margin-bottom: 4px;\n",
       "    }\n",
       "\n",
       "    [theme=dark] .colab-df-convert {\n",
       "      background-color: #3B4455;\n",
       "      fill: #D2E3FC;\n",
       "    }\n",
       "\n",
       "    [theme=dark] .colab-df-convert:hover {\n",
       "      background-color: #434B5C;\n",
       "      box-shadow: 0px 1px 3px 1px rgba(0, 0, 0, 0.15);\n",
       "      filter: drop-shadow(0px 1px 2px rgba(0, 0, 0, 0.3));\n",
       "      fill: #FFFFFF;\n",
       "    }\n",
       "  </style>\n",
       "\n",
       "    <script>\n",
       "      const buttonEl =\n",
       "        document.querySelector('#df-a87b7bdb-403c-47c8-a4d6-a8aa3452536f button.colab-df-convert');\n",
       "      buttonEl.style.display =\n",
       "        google.colab.kernel.accessAllowed ? 'block' : 'none';\n",
       "\n",
       "      async function convertToInteractive(key) {\n",
       "        const element = document.querySelector('#df-a87b7bdb-403c-47c8-a4d6-a8aa3452536f');\n",
       "        const dataTable =\n",
       "          await google.colab.kernel.invokeFunction('convertToInteractive',\n",
       "                                                    [key], {});\n",
       "        if (!dataTable) return;\n",
       "\n",
       "        const docLinkHtml = 'Like what you see? Visit the ' +\n",
       "          '<a target=\"_blank\" href=https://colab.research.google.com/notebooks/data_table.ipynb>data table notebook</a>'\n",
       "          + ' to learn more about interactive tables.';\n",
       "        element.innerHTML = '';\n",
       "        dataTable['output_type'] = 'display_data';\n",
       "        await google.colab.output.renderOutput(dataTable, element);\n",
       "        const docLink = document.createElement('div');\n",
       "        docLink.innerHTML = docLinkHtml;\n",
       "        element.appendChild(docLink);\n",
       "      }\n",
       "    </script>\n",
       "  </div>\n",
       "\n",
       "\n",
       "<div id=\"df-d8ca7685-18d0-46f5-8ec4-086e5e02ae38\">\n",
       "  <button class=\"colab-df-quickchart\" onclick=\"quickchart('df-d8ca7685-18d0-46f5-8ec4-086e5e02ae38')\"\n",
       "            title=\"Suggest charts\"\n",
       "            style=\"display:none;\">\n",
       "\n",
       "<svg xmlns=\"http://www.w3.org/2000/svg\" height=\"24px\"viewBox=\"0 0 24 24\"\n",
       "     width=\"24px\">\n",
       "    <g>\n",
       "        <path d=\"M19 3H5c-1.1 0-2 .9-2 2v14c0 1.1.9 2 2 2h14c1.1 0 2-.9 2-2V5c0-1.1-.9-2-2-2zM9 17H7v-7h2v7zm4 0h-2V7h2v10zm4 0h-2v-4h2v4z\"/>\n",
       "    </g>\n",
       "</svg>\n",
       "  </button>\n",
       "\n",
       "<style>\n",
       "  .colab-df-quickchart {\n",
       "      --bg-color: #E8F0FE;\n",
       "      --fill-color: #1967D2;\n",
       "      --hover-bg-color: #E2EBFA;\n",
       "      --hover-fill-color: #174EA6;\n",
       "      --disabled-fill-color: #AAA;\n",
       "      --disabled-bg-color: #DDD;\n",
       "  }\n",
       "\n",
       "  [theme=dark] .colab-df-quickchart {\n",
       "      --bg-color: #3B4455;\n",
       "      --fill-color: #D2E3FC;\n",
       "      --hover-bg-color: #434B5C;\n",
       "      --hover-fill-color: #FFFFFF;\n",
       "      --disabled-bg-color: #3B4455;\n",
       "      --disabled-fill-color: #666;\n",
       "  }\n",
       "\n",
       "  .colab-df-quickchart {\n",
       "    background-color: var(--bg-color);\n",
       "    border: none;\n",
       "    border-radius: 50%;\n",
       "    cursor: pointer;\n",
       "    display: none;\n",
       "    fill: var(--fill-color);\n",
       "    height: 32px;\n",
       "    padding: 0;\n",
       "    width: 32px;\n",
       "  }\n",
       "\n",
       "  .colab-df-quickchart:hover {\n",
       "    background-color: var(--hover-bg-color);\n",
       "    box-shadow: 0 1px 2px rgba(60, 64, 67, 0.3), 0 1px 3px 1px rgba(60, 64, 67, 0.15);\n",
       "    fill: var(--button-hover-fill-color);\n",
       "  }\n",
       "\n",
       "  .colab-df-quickchart-complete:disabled,\n",
       "  .colab-df-quickchart-complete:disabled:hover {\n",
       "    background-color: var(--disabled-bg-color);\n",
       "    fill: var(--disabled-fill-color);\n",
       "    box-shadow: none;\n",
       "  }\n",
       "\n",
       "  .colab-df-spinner {\n",
       "    border: 2px solid var(--fill-color);\n",
       "    border-color: transparent;\n",
       "    border-bottom-color: var(--fill-color);\n",
       "    animation:\n",
       "      spin 1s steps(1) infinite;\n",
       "  }\n",
       "\n",
       "  @keyframes spin {\n",
       "    0% {\n",
       "      border-color: transparent;\n",
       "      border-bottom-color: var(--fill-color);\n",
       "      border-left-color: var(--fill-color);\n",
       "    }\n",
       "    20% {\n",
       "      border-color: transparent;\n",
       "      border-left-color: var(--fill-color);\n",
       "      border-top-color: var(--fill-color);\n",
       "    }\n",
       "    30% {\n",
       "      border-color: transparent;\n",
       "      border-left-color: var(--fill-color);\n",
       "      border-top-color: var(--fill-color);\n",
       "      border-right-color: var(--fill-color);\n",
       "    }\n",
       "    40% {\n",
       "      border-color: transparent;\n",
       "      border-right-color: var(--fill-color);\n",
       "      border-top-color: var(--fill-color);\n",
       "    }\n",
       "    60% {\n",
       "      border-color: transparent;\n",
       "      border-right-color: var(--fill-color);\n",
       "    }\n",
       "    80% {\n",
       "      border-color: transparent;\n",
       "      border-right-color: var(--fill-color);\n",
       "      border-bottom-color: var(--fill-color);\n",
       "    }\n",
       "    90% {\n",
       "      border-color: transparent;\n",
       "      border-bottom-color: var(--fill-color);\n",
       "    }\n",
       "  }\n",
       "</style>\n",
       "\n",
       "  <script>\n",
       "    async function quickchart(key) {\n",
       "      const quickchartButtonEl =\n",
       "        document.querySelector('#' + key + ' button');\n",
       "      quickchartButtonEl.disabled = true;  // To prevent multiple clicks.\n",
       "      quickchartButtonEl.classList.add('colab-df-spinner');\n",
       "      try {\n",
       "        const charts = await google.colab.kernel.invokeFunction(\n",
       "            'suggestCharts', [key], {});\n",
       "      } catch (error) {\n",
       "        console.error('Error during call to suggestCharts:', error);\n",
       "      }\n",
       "      quickchartButtonEl.classList.remove('colab-df-spinner');\n",
       "      quickchartButtonEl.classList.add('colab-df-quickchart-complete');\n",
       "    }\n",
       "    (() => {\n",
       "      let quickchartButtonEl =\n",
       "        document.querySelector('#df-d8ca7685-18d0-46f5-8ec4-086e5e02ae38 button');\n",
       "      quickchartButtonEl.style.display =\n",
       "        google.colab.kernel.accessAllowed ? 'block' : 'none';\n",
       "    })();\n",
       "  </script>\n",
       "</div>\n",
       "\n",
       "    </div>\n",
       "  </div>\n"
      ],
      "text/plain": [
       "           농업면적    연도  지역       비료사용량        비료잔여량 작물종류 토양유형  농약검출여부 등급\n",
       "0  20079.652837  2004  대구  407.985516   146.290507   보리   점토       2  C\n",
       "1  73858.643204  2012  울산  221.229692  1967.333638    밀   점토       0  B\n",
       "2  65718.150861  2012  강원  370.967205  2253.522610    쌀   점토       0  B\n",
       "3  37366.182902  2005  광주  274.128236  1487.535265    쌀   양토       0  B\n",
       "4  81515.151289  2007  충남  213.410655   683.306745    쌀   양토       1  B"
      ]
     },
     "execution_count": 4,
     "metadata": {},
     "output_type": "execute_result"
    }
   ],
   "source": [
    "# 데이터 샘플\n",
    "train.head()"
   ]
  },
  {
   "cell_type": "code",
   "execution_count": null,
   "metadata": {
    "colab": {
     "base_uri": "https://localhost:8080/"
    },
    "id": "8bOB_lekuaC-",
    "outputId": "4aac5bd9-966d-4d87-c59a-f42c06ee4bfd"
   },
   "outputs": [
    {
     "name": "stdout",
     "output_type": "stream",
     "text": [
      "<class 'pandas.core.frame.DataFrame'>\n",
      "RangeIndex: 4000 entries, 0 to 3999\n",
      "Data columns (total 9 columns):\n",
      " #   Column  Non-Null Count  Dtype  \n",
      "---  ------  --------------  -----  \n",
      " 0   농업면적    4000 non-null   float64\n",
      " 1   연도      4000 non-null   int64  \n",
      " 2   지역      4000 non-null   object \n",
      " 3   비료사용량   4000 non-null   float64\n",
      " 4   비료잔여량   4000 non-null   float64\n",
      " 5   작물종류    4000 non-null   object \n",
      " 6   토양유형    4000 non-null   object \n",
      " 7   농약검출여부  4000 non-null   int64  \n",
      " 8   등급      4000 non-null   object \n",
      "dtypes: float64(3), int64(2), object(4)\n",
      "memory usage: 281.4+ KB\n",
      "None\n"
     ]
    }
   ],
   "source": [
    "# 데이터 정보(자료형)\n",
    "print(train.info())"
   ]
  },
  {
   "cell_type": "code",
   "execution_count": null,
   "metadata": {
    "colab": {
     "base_uri": "https://localhost:8080/"
    },
    "id": "yw0t_ExRuaFb",
    "outputId": "51f53021-06ad-4a7d-a9c0-1e4840a82d9f"
   },
   "outputs": [
    {
     "name": "stdout",
     "output_type": "stream",
     "text": [
      "          지역  작물종류  토양유형    등급\n",
      "count   4000  4000  4000  4000\n",
      "unique    15     3     3     3\n",
      "top       전북    보리    양토     A\n",
      "freq     302  1374  1357  1364\n",
      "          지역  작물종류  토양유형    등급\n",
      "count   1000  1000  1000  1000\n",
      "unique    15     3     3     3\n",
      "top       대전     쌀    양토     A\n",
      "freq      84   352   347   336\n"
     ]
    }
   ],
   "source": [
    "# object컬럼 unique 수\n",
    "# train\n",
    "print(train.describe(include='object'))\n",
    "\n",
    "# test\n",
    "print(test.describe(include='object'))"
   ]
  },
  {
   "cell_type": "code",
   "execution_count": null,
   "metadata": {
    "colab": {
     "base_uri": "https://localhost:8080/"
    },
    "id": "-FMFzHSruaHx",
    "outputId": "82e90c08-1a87-419f-d16d-18c35b363a5a"
   },
   "outputs": [
    {
     "name": "stdout",
     "output_type": "stream",
     "text": [
      "0\n",
      "0\n"
     ]
    }
   ],
   "source": [
    "# 결측치 수\n",
    "# train\n",
    "print(train.isnull().sum().sum())\n",
    "\n",
    "# test\n",
    "print(test.isnull().sum().sum())"
   ]
  },
  {
   "cell_type": "code",
   "execution_count": null,
   "metadata": {
    "colab": {
     "base_uri": "https://localhost:8080/"
    },
    "id": "M_I-6LSTuaKO",
    "outputId": "e98e8c9b-dbf7-4f2b-c9f9-24371df45670"
   },
   "outputs": [
    {
     "name": "stdout",
     "output_type": "stream",
     "text": [
      "농약검출여부\n",
      "2    1989\n",
      "0    1758\n",
      "1     253\n",
      "Name: count, dtype: int64\n"
     ]
    }
   ],
   "source": [
    "# target unique 수\n",
    "print(train['농약검출여부'].value_counts())"
   ]
  },
  {
   "cell_type": "markdown",
   "metadata": {
    "id": "NH0RwJ02tYyL"
   },
   "source": [
    "## 데이터 전처리"
   ]
  },
  {
   "cell_type": "code",
   "execution_count": null,
   "metadata": {
    "id": "cr-pI_LKuHb9"
   },
   "outputs": [],
   "source": [
    "# 타겟 옮기기\n",
    "target = train.pop('농약검출여부')"
   ]
  },
  {
   "cell_type": "code",
   "execution_count": null,
   "metadata": {
    "id": "QxmEvNVGus2j"
   },
   "outputs": [],
   "source": [
    "# 원핫 인코딩\n",
    "train = pd.get_dummies(train)\n",
    "test = pd.get_dummies(test)"
   ]
  },
  {
   "cell_type": "markdown",
   "metadata": {
    "id": "Sl61UKlcuHj4"
   },
   "source": [
    "## 검증데이터 나누기"
   ]
  },
  {
   "cell_type": "code",
   "execution_count": null,
   "metadata": {
    "colab": {
     "base_uri": "https://localhost:8080/"
    },
    "id": "IYa9Ca8IuKBo",
    "outputId": "0bd0db93-0146-4798-db50-84bd2d2f1324"
   },
   "outputs": [
    {
     "data": {
      "text/plain": [
       "((3200, 28), (800, 28), (3200,), (800,))"
      ]
     },
     "execution_count": 11,
     "metadata": {},
     "output_type": "execute_result"
    }
   ],
   "source": [
    "# 검증데이터 분리\n",
    "from sklearn.model_selection import train_test_split\n",
    "X_tr, X_val, y_tr, y_val = train_test_split(train, target, test_size=0.2, random_state=0)\n",
    "X_tr.shape, X_val.shape, y_tr.shape, y_val.shape"
   ]
  },
  {
   "cell_type": "markdown",
   "metadata": {
    "id": "xGITU5KwuKJ-"
   },
   "source": [
    "## 모델 학습 및 평가"
   ]
  },
  {
   "cell_type": "code",
   "execution_count": null,
   "metadata": {
    "id": "1IUscUvYuRSE"
   },
   "outputs": [],
   "source": [
    "# 랜덤포레스트\n",
    "from sklearn.ensemble import RandomForestClassifier\n",
    "rf = RandomForestClassifier(random_state=0)\n",
    "rf.fit(X_tr, y_tr)\n",
    "pred = rf.predict(X_val)"
   ]
  },
  {
   "cell_type": "code",
   "execution_count": null,
   "metadata": {
    "colab": {
     "base_uri": "https://localhost:8080/"
    },
    "id": "6txjJPUzuRUe",
    "outputId": "7a7cd5b6-c887-458f-ae60-105cfaf87ba7"
   },
   "outputs": [
    {
     "name": "stdout",
     "output_type": "stream",
     "text": [
      "랜덤포레스트\n",
      "0.8532014300116062\n"
     ]
    }
   ],
   "source": [
    "# macro F1 score\n",
    "from sklearn.metrics import f1_score\n",
    "print(\"랜덤포레스트\")\n",
    "print(f1_score(y_val, pred, average='macro'))"
   ]
  },
  {
   "cell_type": "code",
   "execution_count": null,
   "metadata": {
    "colab": {
     "base_uri": "https://localhost:8080/"
    },
    "id": "9Y_HpKQ2uRW7",
    "outputId": "b7e8acd5-016a-4127-fe46-da41bb405262"
   },
   "outputs": [
    {
     "name": "stdout",
     "output_type": "stream",
     "text": [
      "lightgbm\n",
      "0.9100316620356779\n"
     ]
    }
   ],
   "source": [
    "# LightGBM\n",
    "import lightgbm as lgb\n",
    "lg = lgb.LGBMClassifier(random_state=0, verbose=-1)\n",
    "lg.fit(X_tr, y_tr)\n",
    "pred = lg.predict(X_val)\n",
    "print(\"lightgbm\")\n",
    "print(f1_score(y_val, pred, average='macro'))"
   ]
  },
  {
   "cell_type": "code",
   "execution_count": null,
   "metadata": {
    "id": "shHWMarkuRZK"
   },
   "outputs": [],
   "source": [
    "# 최종 제출 파일 (lightGBM)\n",
    "pred = lg.predict(test)\n",
    "result = pd.DataFrame({'pred':pred})\n",
    "result.to_csv(\"result.csv\", index=False)"
   ]
  },
  {
   "cell_type": "code",
   "execution_count": null,
   "metadata": {
    "id": "OkoK-9aZupBZ"
   },
   "outputs": [],
   "source": []
  },
  {
   "cell_type": "code",
   "execution_count": null,
   "metadata": {
    "id": "U2DJKVlYvOIK"
   },
   "outputs": [],
   "source": []
  },
  {
   "cell_type": "markdown",
   "metadata": {
    "id": "PXnPSmPNhrth"
   },
   "source": [
    "### 꼭 확인할 내용"
   ]
  },
  {
   "cell_type": "code",
   "execution_count": null,
   "metadata": {
    "colab": {
     "base_uri": "https://localhost:8080/"
    },
    "id": "ft4eO8PAvOKf",
    "outputId": "4dd96c2c-5536-46eb-b359-8ed785a350d7"
   },
   "outputs": [
    {
     "name": "stdout",
     "output_type": "stream",
     "text": [
      "pred:  (1000,)\n",
      "   pred\n",
      "0     2\n",
      "1     0\n",
      "2     0\n",
      "3     2\n",
      "4     0\n"
     ]
    }
   ],
   "source": [
    "# 1. pred 행의 수와 test의 행의 수 비교\n",
    "print(\"pred: \",pred.shape) # test 행의 수: 1000\n",
    "\n",
    "# 2. 생성한 csv 확인\n",
    "print(pd.read_csv(\"result.csv\").head())"
   ]
  },
  {
   "cell_type": "code",
   "execution_count": null,
   "metadata": {
    "id": "xWowp05dupDu"
   },
   "outputs": [],
   "source": []
  },
  {
   "cell_type": "code",
   "execution_count": null,
   "metadata": {
    "id": "teEp9Ia8vO0H"
   },
   "outputs": [],
   "source": []
  },
  {
   "cell_type": "code",
   "execution_count": null,
   "metadata": {
    "id": "JP7O-BKnvO2a"
   },
   "outputs": [],
   "source": []
  },
  {
   "cell_type": "code",
   "execution_count": null,
   "metadata": {
    "id": "X0qwy5UuhvvX"
   },
   "outputs": [],
   "source": []
  },
  {
   "cell_type": "code",
   "execution_count": null,
   "metadata": {
    "id": "4-GjU0TRhvx4"
   },
   "outputs": [],
   "source": []
  },
  {
   "cell_type": "code",
   "execution_count": null,
   "metadata": {
    "id": "sA876wa7hv0O"
   },
   "outputs": [],
   "source": []
  },
  {
   "cell_type": "code",
   "execution_count": null,
   "metadata": {
    "id": "1whaLymOhv2r"
   },
   "outputs": [],
   "source": []
  },
  {
   "cell_type": "code",
   "execution_count": null,
   "metadata": {
    "id": "UP2usEJ9vO45"
   },
   "outputs": [],
   "source": []
  },
  {
   "cell_type": "markdown",
   "metadata": {
    "id": "QEKtkJykVuNW"
   },
   "source": [
    "## 위 코드 한번에 작성하기"
   ]
  },
  {
   "cell_type": "code",
   "execution_count": null,
   "metadata": {
    "colab": {
     "base_uri": "https://localhost:8080/"
    },
    "id": "JBGiUhAn1EuA",
    "outputId": "8001a970-f64a-422e-bf95-c04836864915"
   },
   "outputs": [
    {
     "name": "stdout",
     "output_type": "stream",
     "text": [
      "===== 데이터 크기 =====\n",
      "Train Shape: (4000, 9)\n",
      "Test Shape: (1000, 8)\n",
      "\n",
      " ===== 데이터 샘플 =====\n",
      "           농업면적    연도  지역       비료사용량        비료잔여량 작물종류 토양유형  농약검출여부 등급\n",
      "0  20079.652837  2004  대구  407.985516   146.290507   보리   점토       2  C\n",
      "1  73858.643204  2012  울산  221.229692  1967.333638    밀   점토       0  B\n",
      "2  65718.150861  2012  강원  370.967205  2253.522610    쌀   점토       0  B\n",
      "3  37366.182902  2005  광주  274.128236  1487.535265    쌀   양토       0  B\n",
      "4  81515.151289  2007  충남  213.410655   683.306745    쌀   양토       1  B\n",
      "\n",
      " ===== 데이터 정보(자료형) =====\n",
      "<class 'pandas.core.frame.DataFrame'>\n",
      "RangeIndex: 4000 entries, 0 to 3999\n",
      "Data columns (total 9 columns):\n",
      " #   Column  Non-Null Count  Dtype  \n",
      "---  ------  --------------  -----  \n",
      " 0   농업면적    4000 non-null   float64\n",
      " 1   연도      4000 non-null   int64  \n",
      " 2   지역      4000 non-null   object \n",
      " 3   비료사용량   4000 non-null   float64\n",
      " 4   비료잔여량   4000 non-null   float64\n",
      " 5   작물종류    4000 non-null   object \n",
      " 6   토양유형    4000 non-null   object \n",
      " 7   농약검출여부  4000 non-null   int64  \n",
      " 8   등급      4000 non-null   object \n",
      "dtypes: float64(3), int64(2), object(4)\n",
      "memory usage: 281.4+ KB\n",
      "None\n",
      "\n",
      " ===== train object컬럼 unique 수 =====\n",
      "          지역  작물종류  토양유형    등급\n",
      "count   4000  4000  4000  4000\n",
      "unique    15     3     3     3\n",
      "top       전북    보리    양토     A\n",
      "freq     302  1374  1357  1364\n",
      "\n",
      " ===== test object컬럼 unique 수 =====\n",
      "          지역  작물종류  토양유형    등급\n",
      "count   1000  1000  1000  1000\n",
      "unique    15     3     3     3\n",
      "top       대전     쌀    양토     A\n",
      "freq      84   352   347   336\n",
      "\n",
      " ===== train 결측치 수 =====\n",
      "0\n",
      "\n",
      " ===== test 결측치 수 =====\n",
      "0\n",
      "\n",
      " ===== target unique 수 =====\n",
      "농약검출여부\n",
      "2    1989\n",
      "0    1758\n",
      "1     253\n",
      "Name: count, dtype: int64\n"
     ]
    }
   ],
   "source": [
    "# 문제정의\n",
    "# 평가: f1-macro\n",
    "# target: 농약검출여부\n",
    "# 최종파일: result.csv(컬럼 1개 pred)\n",
    "\n",
    "# 라이브러리 및 데이터 불러오기\n",
    "import pandas as pd\n",
    "train = pd.read_csv(\"https://raw.githubusercontent.com/lovedlim/inf/refs/heads/main/p4/9_2/farm_train.csv\")\n",
    "test = pd.read_csv(\"https://raw.githubusercontent.com/lovedlim/inf/refs/heads/main/p4/9_2/farm_test.csv\")\n",
    "\n",
    "# 탐색적 데이터 분석(EDA)\n",
    "print(\"===== 데이터 크기 =====\")\n",
    "print(\"Train Shape:\", train.shape)\n",
    "print(\"Test Shape:\", test.shape)\n",
    "\n",
    "print(\"\\n ===== 데이터 샘플 =====\")\n",
    "print(train.head())\n",
    "\n",
    "print(\"\\n ===== 데이터 정보(자료형) =====\")\n",
    "print(train.info())\n",
    "\n",
    "print(\"\\n ===== train object컬럼 unique 수 =====\")\n",
    "print(train.describe(include='object'))\n",
    "\n",
    "print(\"\\n ===== test object컬럼 unique 수 =====\")\n",
    "print(test.describe(include='object'))\n",
    "\n",
    "print(\"\\n ===== train 결측치 수 =====\")\n",
    "print(train.isnull().sum().sum())\n",
    "\n",
    "print(\"\\n ===== test 결측치 수 =====\")\n",
    "print(test.isnull().sum().sum())\n",
    "\n",
    "print(\"\\n ===== target unique 수 =====\")\n",
    "print(train['농약검출여부'].value_counts())"
   ]
  },
  {
   "cell_type": "code",
   "execution_count": null,
   "metadata": {
    "colab": {
     "base_uri": "https://localhost:8080/"
    },
    "id": "HQvRuDQG2RGR",
    "outputId": "2f63097a-4fff-4e76-820d-e135058892e9"
   },
   "outputs": [
    {
     "name": "stdout",
     "output_type": "stream",
     "text": [
      "랜덤포레스트\n",
      "0.8532014300116062\n",
      "lightgbm\n",
      "0.9100316620356779\n"
     ]
    }
   ],
   "source": [
    "# 데이터 다시 불러오기\n",
    "train = pd.read_csv(\"https://raw.githubusercontent.com/lovedlim/inf/refs/heads/main/p4/9_2/farm_train.csv\")\n",
    "test = pd.read_csv(\"https://raw.githubusercontent.com/lovedlim/inf/refs/heads/main/p4/9_2/farm_test.csv\")\n",
    "\n",
    "# 데이터 전처리\n",
    "target = train.pop('농약검출여부')\n",
    "\n",
    "# 원핫 인코딩\n",
    "train = pd.get_dummies(train)\n",
    "test = pd.get_dummies(test)\n",
    "\n",
    "# 검증데이터 분리\n",
    "from sklearn.model_selection import train_test_split\n",
    "X_tr, X_val, y_tr, y_val = train_test_split(train, target, test_size=0.2, random_state=0)\n",
    "\n",
    "# 랜덤포레스트\n",
    "from sklearn.ensemble import RandomForestClassifier\n",
    "rf = RandomForestClassifier(random_state=0)\n",
    "rf.fit(X_tr, y_tr)\n",
    "pred = rf.predict(X_val)\n",
    "\n",
    "# macro F1 score\n",
    "from sklearn.metrics import f1_score\n",
    "print(\"랜덤포레스트\")\n",
    "print(f1_score(y_val, pred, average='macro'))\n",
    "\n",
    "# LightGBM\n",
    "import lightgbm as lgb\n",
    "lg = lgb.LGBMClassifier(random_state=0, verbose=-1)\n",
    "lg.fit(X_tr, y_tr)\n",
    "pred = lg.predict(X_val)\n",
    "print(\"lightgbm\")\n",
    "print(f1_score(y_val, pred, average='macro'))\n",
    "\n",
    "# 최종 제출 파일 (lightGBM)\n",
    "pred = lg.predict(test)\n",
    "result = pd.DataFrame({\n",
    "    'pred':pred\n",
    "})\n",
    "result.to_csv(\"result.csv\", index=False)\n"
   ]
  },
  {
   "cell_type": "code",
   "execution_count": null,
   "metadata": {
    "colab": {
     "base_uri": "https://localhost:8080/"
    },
    "id": "x6Rl3P112anS",
    "outputId": "9c15e3b8-a167-4263-a6d9-e7964a23108a"
   },
   "outputs": [
    {
     "name": "stdout",
     "output_type": "stream",
     "text": [
      "pred:  (1000,)\n",
      "   pred\n",
      "0     2\n",
      "1     0\n",
      "2     0\n",
      "3     2\n",
      "4     0\n"
     ]
    }
   ],
   "source": [
    "# 1. pred 행의 수와 test의 행의 수 비교\n",
    "print(\"pred: \",pred.shape) # test 행의 수: 1000\n",
    "\n",
    "# 2. 생성한 csv 확인\n",
    "print(pd.read_csv(\"result.csv\").head())"
   ]
  }
 ],
 "metadata": {
  "colab": {
   "provenance": []
  },
  "kernelspec": {
   "display_name": "Python 3 (ipykernel)",
   "language": "python",
   "name": "python3"
  },
  "language_info": {
   "codemirror_mode": {
    "name": "ipython",
    "version": 3
   },
   "file_extension": ".py",
   "mimetype": "text/x-python",
   "name": "python",
   "nbconvert_exporter": "python",
   "pygments_lexer": "ipython3",
   "version": "3.12.6"
  }
 },
 "nbformat": 4,
 "nbformat_minor": 4
}
