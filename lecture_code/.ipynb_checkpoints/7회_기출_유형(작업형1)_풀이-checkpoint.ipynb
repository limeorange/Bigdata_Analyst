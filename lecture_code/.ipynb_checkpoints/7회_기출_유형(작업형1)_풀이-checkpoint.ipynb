{
 "cells": [
  {
   "cell_type": "markdown",
   "metadata": {
    "id": "ImS-bayEojdA"
   },
   "source": [
    "# 작업형1"
   ]
  },
  {
   "cell_type": "markdown",
   "metadata": {
    "id": "JO-2zLFZsse1"
   },
   "source": [
    "## 문제1\n",
    "결측치가 있는 행을 제거한 후, 학생이 가장 많이 수강한 과목을 찾고, 해당 과목 점수를 표준화(스탠다스 스케일) 한 뒤에 표준화된 가장 큰 값을 구하시오. (반올림하여 소수 셋째자리까지 계산)"
   ]
  },
  {
   "cell_type": "code",
   "execution_count": null,
   "metadata": {
    "colab": {
     "base_uri": "https://localhost:8080/"
    },
    "id": "QfWBB-yjCuX8",
    "outputId": "06f8c5c4-2520-48c8-9189-833eb978decb"
   },
   "outputs": [
    {
     "name": "stdout",
     "output_type": "stream",
     "text": [
      "결측치 수: 21\n",
      "(2565, 4)\n",
      "(2544, 4)\n",
      "2.183\n"
     ]
    }
   ],
   "source": [
    "import pandas as pd\n",
    "df = pd.read_csv(\"https://raw.githubusercontent.com/lovedlim/inf/refs/heads/main/p4/7_1/student_assessment.csv\")\n",
    "\n",
    "# 0) 데이터 확인\n",
    "print(\"결측치 수:\", df.isnull().sum().sum())\n",
    "\n",
    "# 1) 결측치 제거\n",
    "print(df.shape)\n",
    "df = df.dropna()\n",
    "print(df.shape)\n",
    "\n",
    "# 2) 가장 많이 수강한 과목 필터링\n",
    "id = df['id_assessment'].value_counts().idxmax()\n",
    "cond = df['id_assessment'] == id\n",
    "df = df[cond]\n",
    "\n",
    "# 3) 과목 점수 스탠다드 스케일\n",
    "from sklearn.preprocessing import StandardScaler\n",
    "scaler = StandardScaler()\n",
    "df['score'] = scaler.fit_transform(df[['score']])\n",
    "\n",
    "# 4) 가장 큰 값\n",
    "print(round(df['score'].max(), 3))"
   ]
  },
  {
   "cell_type": "markdown",
   "metadata": {
    "id": "sHC4blpRswAJ"
   },
   "source": [
    "## 문제2\n",
    "DE1~DE77컬럼 중 주가지수의 종가 \"close\"와 가장 상관관계가 높은 변수를 찾아, 해당 변수의 평균값을 구하시오. (반올림하여 소수 넷째자리까지 계산)"
   ]
  },
  {
   "cell_type": "code",
   "execution_count": null,
   "metadata": {
    "colab": {
     "base_uri": "https://localhost:8080/"
    },
    "id": "usqyPcI4J0eL",
    "outputId": "7f689b83-66bb-4c42-8228-07bed5483da2"
   },
   "outputs": [
    {
     "name": "stdout",
     "output_type": "stream",
     "text": [
      "-0.0004\n"
     ]
    }
   ],
   "source": [
    "import pandas as pd\n",
    "df = pd.read_csv(\"https://raw.githubusercontent.com/lovedlim/inf/refs/heads/main/p4/7_1/stock_market.csv\")\n",
    "\n",
    "# 1) close와의 상관관계(절대값)\n",
    "df_corr = df.corr()['close'].abs()\n",
    "\n",
    "# 2) 상관관계가 높은 변수명\n",
    "col = df_corr.loc['DE1':'DE77'].idxmax()\n",
    "\n",
    "# 3) '2'에서 구한 변수명의 평균값\n",
    "print(round(df[col].mean(), 4))"
   ]
  },
  {
   "cell_type": "markdown",
   "metadata": {
    "id": "E9QDz8l-sy4D"
   },
   "source": [
    "## 문제3\n",
    "IQR을 이용해 이산화탄소(CO2) 이상치 수를 찾으시오\n",
    "\n",
    "- Q1 (제 1사분위수): 하위 25% 값\n",
    "- Q3 (제 3사분위수): 상위 25% 값\n",
    "- IQR (사분위수 범위): IQR = Q3 - Q1\n",
    "\n",
    "- lower (하한선): Q1 - 1.5 * IQR, 이 값보다 작은 데이터는 이상치로 간주\n",
    "- upper (상한선): Q3 + 1.5 * IQR, 이 값보다 큰 데이터는 이상치로 간주\n",
    "\n"
   ]
  },
  {
   "cell_type": "code",
   "execution_count": null,
   "metadata": {
    "colab": {
     "base_uri": "https://localhost:8080/"
    },
    "id": "LipHWwikUBL-",
    "outputId": "724736f9-7d61-434f-8fb0-904b654daeae"
   },
   "outputs": [
    {
     "name": "stdout",
     "output_type": "stream",
     "text": [
      "304\n"
     ]
    }
   ],
   "source": [
    "import pandas as pd\n",
    "df = pd.read_csv(\"https://raw.githubusercontent.com/lovedlim/inf/refs/heads/main/p4/7_1/air_quality.csv\")\n",
    "\n",
    "# 1) IQR 계산\n",
    "Q1 = df['CO2'].quantile(0.25)\n",
    "Q3 = df['CO2'].quantile(0.75)\n",
    "IQR = Q3 - Q1\n",
    "\n",
    "# 2) 상한 및 하한 계산\n",
    "upper = Q3 + 1.5 * IQR\n",
    "lower = Q1 - 1.5 * IQR\n",
    "\n",
    "# 3) 이상치 조건\n",
    "cond1 = df['CO2'] < lower\n",
    "cond2 = df['CO2'] > upper\n",
    "outliers = df[cond1 | cond2]\n",
    "\n",
    "# 4) 이상치 수 계산\n",
    "print(len(outliers))"
   ]
  }
 ],
 "metadata": {
  "colab": {
   "provenance": []
  },
  "kernelspec": {
   "display_name": "Python 3 (ipykernel)",
   "language": "python",
   "name": "python3"
  },
  "language_info": {
   "codemirror_mode": {
    "name": "ipython",
    "version": 3
   },
   "file_extension": ".py",
   "mimetype": "text/x-python",
   "name": "python",
   "nbconvert_exporter": "python",
   "pygments_lexer": "ipython3",
   "version": "3.12.6"
  }
 },
 "nbformat": 4,
 "nbformat_minor": 4
}
