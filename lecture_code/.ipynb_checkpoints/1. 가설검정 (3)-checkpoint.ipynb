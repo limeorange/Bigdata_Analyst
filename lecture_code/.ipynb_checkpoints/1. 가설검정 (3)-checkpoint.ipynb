{
 "cells": [
  {
   "cell_type": "markdown",
   "metadata": {
    "id": "GMOOpj9dNqb4"
   },
   "source": [
    "# 1️⃣ 단일표본검정"
   ]
  },
  {
   "cell_type": "markdown",
   "metadata": {
    "id": "ssL4kI2uPwr0"
   },
   "source": [
    "나커피 유튜버는 최근 판매되는 \"합격 원두(dark)\" 상품의 실제 무게를 조사하였다. 제조사는 \"합격 원두(dark)\"의 무게를 120g라고 표기하였다. 나커피 유튜버는 이 주장이 사실인지 확인하기 위해 상품의 무게를 측정하였다. 다음은 30개의 상품 샘플의 무게 측정 결과다. 이 측정 결과를 바탕으로 제조사의 주장인 상품의 무게(120g)가 사실인지 검정해보시오. (데이터는 정규분포를 따른다고 가정한다.)\n",
    "- 귀무가설: μ = μ0, \"합격 원두(dark)\" 상품의 평균 무게는 120g이다.\n",
    "- 대립가설: μ ≠ μ0, \"합격 원두(dark)\" 상품의 평균 무게는 120g 아니다."
   ]
  },
  {
   "cell_type": "markdown",
   "metadata": {
    "id": "D2J9WVRCWICD"
   },
   "source": [
    "- μ(뮤): 현재 조사하려는 상품의 실제 평균 무게\n",
    "-\n",
    "μ0(뮤 제로): 제조사가 주장하는 상품의 평균 무게(120g)"
   ]
  },
  {
   "cell_type": "markdown",
   "metadata": {
    "id": "-TDdNI3J_IIq"
   },
   "source": [
    "## 1. 기초"
   ]
  },
  {
   "cell_type": "code",
   "execution_count": 2,
   "metadata": {
    "id": "gHct5U3M4ba7"
   },
   "outputs": [],
   "source": [
    "import pandas as pd\n",
    "df = pd.DataFrame({\n",
    "    '무게':[119, 121, 121, 119, 125, 115, 121, 118, 117, 127,\n",
    "           123, 129, 119, 124, 114, 126, 122, 124, 121, 116,\n",
    "           123, 123, 127, 118, 122, 117, 124, 125, 123, 121],\n",
    "})"
   ]
  },
  {
   "cell_type": "markdown",
   "metadata": {
    "id": "Xy5Ry7QeX4g6"
   },
   "source": [
    "### 단일표본검정"
   ]
  },
  {
   "cell_type": "code",
   "execution_count": 3,
   "metadata": {
    "id": "-IGYGrTy4bkz"
   },
   "outputs": [
    {
     "name": "stdout",
     "output_type": "stream",
     "text": [
      "TtestResult(statistic=np.float64(2.153709967150663), pvalue=np.float64(0.03970987897788577), df=np.int64(29))\n"
     ]
    }
   ],
   "source": [
    "# 단일표본검정\n",
    "from scipy import stats\n",
    "print(stats.ttest_1samp(df['무게'], 120))"
   ]
  },
  {
   "cell_type": "code",
   "execution_count": 4,
   "metadata": {
    "id": "54wofQy86caP"
   },
   "outputs": [
    {
     "name": "stdout",
     "output_type": "stream",
     "text": [
      "1.14.1\n"
     ]
    }
   ],
   "source": [
    "# 코랩 사이파이 버전 (시험환경 1.7)\n",
    "import scipy\n",
    "print(scipy.__version__)"
   ]
  },
  {
   "cell_type": "code",
   "execution_count": 5,
   "metadata": {
    "id": "znbNQA9g7FTm"
   },
   "outputs": [
    {
     "name": "stdout",
     "output_type": "stream",
     "text": [
      "TtestResult(statistic=np.float64(2.153709967150663), pvalue=np.float64(0.03970987897788577), df=np.int64(29))\n"
     ]
    }
   ],
   "source": [
    "# 대립가설: 합격 원두(dark)\" 상품의 평균 무게는 120g 아니다. (양측 검정)\n",
    "print(stats.ttest_1samp(df['무게'], 120, alternative='two-sided'))"
   ]
  },
  {
   "cell_type": "code",
   "execution_count": 7,
   "metadata": {
    "id": "CQKrpzJ07FV_"
   },
   "outputs": [
    {
     "name": "stdout",
     "output_type": "stream",
     "text": [
      "TtestResult(statistic=np.float64(2.153709967150663), pvalue=np.float64(0.019854939488942885), df=np.int64(29))\n"
     ]
    }
   ],
   "source": [
    "# 대립가설: 합격 원두(dark)\" 상품의 평균 무게는 120g 보다 크다\n",
    "print(stats.ttest_1samp(df['무게'], 120, alternative='greater'))"
   ]
  },
  {
   "cell_type": "code",
   "execution_count": 8,
   "metadata": {
    "id": "gHfAnVzr7FYV"
   },
   "outputs": [
    {
     "name": "stdout",
     "output_type": "stream",
     "text": [
      "TtestResult(statistic=np.float64(2.153709967150663), pvalue=np.float64(0.9801450605110571), df=np.int64(29))\n"
     ]
    }
   ],
   "source": [
    "# 대립가설: 합격 원두(dark)\" 상품의 평균 무게는 120g 보다 작다\n",
    "print(stats.ttest_1samp(df['무게'], 120, alternative='less'))"
   ]
  },
  {
   "cell_type": "markdown",
   "metadata": {
    "id": "bgT0JC1dMt_Z"
   },
   "source": [
    "## 2. 심화 (정규성 전제가 없는 경우)"
   ]
  },
  {
   "cell_type": "code",
   "execution_count": 10,
   "metadata": {
    "id": "2QrYQl3e7Fa8"
   },
   "outputs": [],
   "source": [
    "# 데이터 (정규성에 만족하지 않게 일부 변경)\n",
    "import pandas as pd\n",
    "df = pd.DataFrame({\n",
    "    '무게':[219, 121, 121, 119, 125, 115, 121, 118, 117, 127,\n",
    "           123, 129, 119, 124, 114, 126, 122, 124, 121, 116,\n",
    "           123, 123, 127, 118, 122, 117, 124, 125, 123, 121],\n",
    "})"
   ]
  },
  {
   "cell_type": "markdown",
   "metadata": {
    "id": "Jnff_h_iW4gt"
   },
   "source": [
    "### Shapiro-Wilk 검정\n",
    "- 귀무가설 (H0): 주어진 데이터 샘플은 정규 분포를 따른다.\n",
    "- 대립가설(H1): 주어진 데이터 샘플은 정규 분포를 따르지 않는다.\n",
    "- <span style='color: blue'>**0.05보다 큰 값이 나와야 정규 분포를 따르는 것임!**</span>"
   ]
  },
  {
   "cell_type": "code",
   "execution_count": 11,
   "metadata": {
    "id": "Y023nW1Y4biR"
   },
   "outputs": [
    {
     "data": {
      "text/plain": [
       "ShapiroResult(statistic=np.float64(0.35728970196526855), pvalue=np.float64(2.2139240997414947e-10))"
      ]
     },
     "execution_count": 11,
     "metadata": {},
     "output_type": "execute_result"
    }
   ],
   "source": [
    "# Shapiro-Wilk(샤피로-윌크) 정규성 검정\n",
    "# pvalue가 매우 작은 값 => 정규분포를 따르지 않음.\n",
    "\n",
    "from scipy import stats\n",
    "stats.shapiro(df['무게'])"
   ]
  },
  {
   "cell_type": "code",
   "execution_count": 12,
   "metadata": {
    "id": "zd8kn8YjfuIx"
   },
   "outputs": [
    {
     "data": {
      "text/plain": [
       "'0.00000000022'"
      ]
     },
     "execution_count": 12,
     "metadata": {},
     "output_type": "execute_result"
    }
   ],
   "source": [
    "# 지수표기법 변경\n",
    "\"{:.11f}\".format(2.2139240997414947e-10)"
   ]
  },
  {
   "cell_type": "markdown",
   "metadata": {
    "id": "N8B2jXYSXwvN"
   },
   "source": [
    "### Wilcoxon 검정 (비모수 검정)\n",
    "- 귀무가설 (H0): μ = μ0, \"합격 원두(dark)\" 상품의 중앙값 무게는 120g이다.\n",
    "- 대립가설(H1): μ < μ0, \"합격 원두(dark)\" 상품의 중앙값 무게는 120g 보다 작다\n",
    "\n",
    "(추가) 비모수 검정: 평균 -> 중앙값으로 변경 (중앙값도 평균값이라 동일하다고 하겠습니다.)"
   ]
  },
  {
   "cell_type": "code",
   "execution_count": 16,
   "metadata": {
    "id": "TphKGRdH4bni"
   },
   "outputs": [
    {
     "data": {
      "text/plain": [
       "WilcoxonResult(statistic=np.float64(341.0), pvalue=np.float64(0.9882949283346534))"
      ]
     },
     "execution_count": 16,
     "metadata": {},
     "output_type": "execute_result"
    }
   ],
   "source": [
    "# Wilcoxon(윌콕슨)의 부호 순위 검정 수행\n",
    "# 대립가설이 단측검정인 부분 확인 => 파라미터로 설정.\n",
    "\n",
    "stats.wilcoxon(df['무게']-120, alternative='less')"
   ]
  },
  {
   "cell_type": "markdown",
   "metadata": {
    "id": "zS_wjdjeVYFo"
   },
   "source": [
    "# 2️⃣ 대응표본검정\n",
    "- <span style='color: blue'>**동일한 집단에 대해 두 번 측정한 결과를 비교할 때 사용**</span>\n",
    "- ex. 약물의 효과, 교육 프로그램의 효과, 마케팅 효과 등"
   ]
  },
  {
   "cell_type": "markdown",
   "metadata": {
    "id": "Tc9ROgXKUtV8"
   },
   "source": [
    "퇴근후딴짓 크리에이터는 수험생의 점수 향상을 위해 새로운 교육 프로그램을 도입했다. 도입 전과 도입 후의 점수 차이를 확인하기 위해 동일한 수험생의 점수를 비교하였습니다. 다음은 교육 전과 후의 점수 데이터이다. 새로운 교육 프로그램이 효과가 있는지 검정하시오.(데이터는 정규분포를 따른다고 가정한다.)\n",
    "\n",
    "μ<sub>d</sub> = (before – after)의 평균 <span style='color: blue'>**=> 문제에서 주어진 μ<sub>d</sub>의 정의 잘 보기!**</span>\n",
    "\n",
    "- 귀무가설: μ<sub>d</sub> ≥ 0, 새로운 교육 프로그램은 효과가 없다.\n",
    "- 대립가설: μ<sub>d</sub> < 0, 새로운 교육 프로그램은 효과가 있다.\n",
    "\n"
   ]
  },
  {
   "cell_type": "markdown",
   "metadata": {
    "id": "kdKpcpA_qc4-"
   },
   "source": [
    "## 1. 기초"
   ]
  },
  {
   "cell_type": "code",
   "execution_count": 18,
   "metadata": {
    "id": "fZ0AUIzX0wFH"
   },
   "outputs": [],
   "source": [
    "# 데이터\n",
    "import pandas as pd\n",
    "df = pd.DataFrame({\n",
    "    'before':[85,90,92,88,86,89,83,87,65,50],\n",
    "    'after':[88,89,96,89,85,88,85,89,78,61]\n",
    "})"
   ]
  },
  {
   "cell_type": "markdown",
   "metadata": {
    "id": "LsHDDj3qkD6c"
   },
   "source": [
    "### 대응표본검정"
   ]
  },
  {
   "cell_type": "code",
   "execution_count": 19,
   "metadata": {
    "id": "41KwCmrynZNV"
   },
   "outputs": [
    {
     "data": {
      "text/plain": [
       "TtestResult(statistic=np.float64(-2.119860886666164), pvalue=np.float64(0.03152591671694539), df=np.int64(9))"
      ]
     },
     "execution_count": 19,
     "metadata": {},
     "output_type": "execute_result"
    }
   ],
   "source": [
    "# 대응표본검정\n",
    "# alternative 설정 시 첫번째 파라미터 기준으로 판단하기!\n",
    "# before가 after보다 작아야 대립가설이 채택되므로 'less'\n",
    "\n",
    "from scipy import stats\n",
    "stats.ttest_rel(df['before'], df['after'], alternative='less')"
   ]
  },
  {
   "cell_type": "markdown",
   "metadata": {
    "id": "CCDPYNR_SwiT"
   },
   "source": [
    "μ<sub>d</sub> = (after - before)의 평균\n",
    "- 귀무가설: μ<sub>d</sub> ≤ 0\n",
    "- 대립가설: μ<sub>d</sub> > 0"
   ]
  },
  {
   "cell_type": "code",
   "execution_count": 20,
   "metadata": {
    "id": "C3L2GsbDnaDw"
   },
   "outputs": [
    {
     "data": {
      "text/plain": [
       "TtestResult(statistic=np.float64(2.119860886666164), pvalue=np.float64(0.03152591671694539), df=np.int64(9))"
      ]
     },
     "execution_count": 20,
     "metadata": {},
     "output_type": "execute_result"
    }
   ],
   "source": [
    "# 대응표본검정\n",
    "from scipy import stats\n",
    "stats.ttest_rel(df['after'], df['before'], alternative='greater')"
   ]
  },
  {
   "cell_type": "markdown",
   "metadata": {
    "id": "juH19gbLp9M_"
   },
   "source": [
    "## 2. 심화 (정규성 전제가 없는 경우)"
   ]
  },
  {
   "cell_type": "code",
   "execution_count": null,
   "metadata": {
    "id": "yeQu5su4p1mG"
   },
   "outputs": [],
   "source": [
    "# 데이터\n",
    "import pandas as pd\n",
    "df = pd.DataFrame({\n",
    "    'before':[85,90,92,88,86,89,83,87,65,50],\n",
    "    'after':[88,89,96,89,85,88,85,89,78,61]\n",
    "})"
   ]
  },
  {
   "cell_type": "markdown",
   "metadata": {
    "id": "nC7X7I0bT3ir"
   },
   "source": [
    "μ<sub>d</sub> = (after - before)의 평균\n",
    "- 귀무가설: μ<sub>d</sub> ≤ 0\n",
    "- 대립가설: μ<sub>d</sub> > 0"
   ]
  },
  {
   "cell_type": "markdown",
   "metadata": {
    "id": "Oyt1zu1ijtL0"
   },
   "source": [
    "### Shapiro-Wilk 검정"
   ]
  },
  {
   "cell_type": "code",
   "execution_count": 24,
   "metadata": {
    "id": "3a4x-qTknaIr"
   },
   "outputs": [
    {
     "data": {
      "text/plain": [
       "ShapiroResult(statistic=np.float64(0.8106808132606458), pvalue=np.float64(0.01954290297357753))"
      ]
     },
     "execution_count": 24,
     "metadata": {},
     "output_type": "execute_result"
    }
   ],
   "source": [
    "# Shapiro-Wilk(샤피로-윌크) 정규성 검정\n",
    "diff = (df['after']-df['before'])\n",
    "from scipy import stats\n",
    "stats.shapiro(diff)"
   ]
  },
  {
   "cell_type": "markdown",
   "metadata": {
    "id": "Yd51YGEDjm12"
   },
   "source": [
    "### Wilcoxon 검정 (비모수 검정)\n",
    "- <span style='color: blue'>**R이랑 결과가 좀 달라서 출제 가능성 낮아보임**</span>"
   ]
  },
  {
   "cell_type": "code",
   "execution_count": 26,
   "metadata": {
    "id": "jQPHzg9CK8Oj"
   },
   "outputs": [
    {
     "data": {
      "text/plain": [
       "WilcoxonResult(statistic=np.float64(47.5), pvalue=np.float64(0.0244140625))"
      ]
     },
     "execution_count": 26,
     "metadata": {},
     "output_type": "execute_result"
    }
   ],
   "source": [
    "# Wilcoxon(윌콕슨)의 부호 순위 검정 수행\n",
    "stats.wilcoxon(df['after'], df['before'], alternative='greater')"
   ]
  },
  {
   "cell_type": "code",
   "execution_count": 27,
   "metadata": {
    "id": "X2VJ22P_ptux"
   },
   "outputs": [
    {
     "data": {
      "text/plain": [
       "WilcoxonResult(statistic=np.float64(47.5), pvalue=np.float64(0.0244140625))"
      ]
     },
     "execution_count": 27,
     "metadata": {},
     "output_type": "execute_result"
    }
   ],
   "source": [
    "# Wilcoxon(윌콕슨)의 부호 순위 검정 수행 (diff)\n",
    "df['diff'] = df['after']-df['before']\n",
    "stats.wilcoxon(df['diff'], alternative='greater')"
   ]
  },
  {
   "cell_type": "markdown",
   "metadata": {
    "id": "BYU2nuhzMm6r"
   },
   "source": [
    "# 3️⃣ 독립표본검정"
   ]
  },
  {
   "cell_type": "markdown",
   "metadata": {
    "id": "EtVcv6ysUt1W"
   },
   "source": [
    "다음은 빅데이터 분석기사 실기 시험 점수이다. A그룹과 B그룹의 평균 점수가 차이가 있는지 유의수준 0.05하에서 가설 검정하시오.\n",
    "(데이터는 정규분포를 따르고 분산이 동일하다고 가정한다.)\n",
    "- 귀무가설(H0): 그룹별 시험 평균 점수는 차이가 없다. (μ1 = μ2)\n",
    "- 대립가설(H1): 그룹별 시험 평균 점수는 차이가 있다. (μ1 ≠ μ2)"
   ]
  },
  {
   "cell_type": "markdown",
   "metadata": {
    "id": "3bxwaHM2Uq0g"
   },
   "source": [
    "## 1. 기초\n",
    "- **대응표본검정에서는 '사전'과 '사후'이기 때문에 두 집단의 길이가 동일해야 함.**\n",
    "- <span style='color: blue'>**독립표본검정에서는 두 집단의 길이가 달라도 가능.**</span>"
   ]
  },
  {
   "cell_type": "code",
   "execution_count": 29,
   "metadata": {
    "id": "El6O2uwYBeLc"
   },
   "outputs": [],
   "source": [
    "# 데이터\n",
    "A = [85, 90, 92, 88, 86, 89, 83, 87,\n",
    "     84, 50, 60, 39, 28, 48, 38, 28]\n",
    "B = [82, 82, 88, 85, 84, 74, 79, 69,\n",
    "     78, 76, 85, 84, 79, 89]"
   ]
  },
  {
   "cell_type": "markdown",
   "metadata": {
    "id": "4am7ta59kGKJ"
   },
   "source": [
    "### 독립표본검정"
   ]
  },
  {
   "cell_type": "code",
   "execution_count": 30,
   "metadata": {
    "id": "IJBApyCeM0yk"
   },
   "outputs": [
    {
     "data": {
      "text/plain": [
       "TtestResult(statistic=np.float64(-2.051813915505951), pvalue=np.float64(0.04964542271174967), df=np.float64(28.0))"
      ]
     },
     "execution_count": 30,
     "metadata": {},
     "output_type": "execute_result"
    }
   ],
   "source": [
    "# 독립표본검정\n",
    "# 이 문제에서는 두 집단 간 크게 차이가 없어서 차례대로 넣었지만,\n",
    "# 일반적으로는 (처리집단, 대조집단) 순으로 넣음.\n",
    "\n",
    "from scipy import stats\n",
    "stats.ttest_ind(A, B)"
   ]
  },
  {
   "cell_type": "markdown",
   "metadata": {
    "id": "fWGTgRAniIGN"
   },
   "source": [
    "### 등분산"
   ]
  },
  {
   "cell_type": "code",
   "execution_count": 31,
   "metadata": {
    "id": "jDFDL5fJM7Cu"
   },
   "outputs": [
    {
     "data": {
      "text/plain": [
       "TtestResult(statistic=np.float64(-2.1837307810153024), pvalue=np.float64(0.04352730399590312), df=np.float64(16.729279968729678))"
      ]
     },
     "execution_count": 31,
     "metadata": {},
     "output_type": "execute_result"
    }
   ],
   "source": [
    "# 두 집단의 분산이 다르다(equal_var=False)\n",
    "stats.ttest_ind(A, B, equal_var=False)"
   ]
  },
  {
   "cell_type": "markdown",
   "metadata": {
    "id": "AFgCWUWxhwm_"
   },
   "source": [
    "- 귀무가설(H0): 그룹별 시험 평균 점수는 차이가 없다. (μ1 = μ2)\n",
    "- 대립가설(H1): B그룹 시험 평균 점수가 더 높다. (μ1 < μ2)"
   ]
  },
  {
   "cell_type": "code",
   "execution_count": 32,
   "metadata": {
    "id": "ESY4fIAWNL7Y"
   },
   "outputs": [
    {
     "data": {
      "text/plain": [
       "TtestResult(statistic=np.float64(-2.1837307810153024), pvalue=np.float64(0.02176365199795156), df=np.float64(16.729279968729678))"
      ]
     },
     "execution_count": 32,
     "metadata": {},
     "output_type": "execute_result"
    }
   ],
   "source": [
    "# 독립표본검정(less)\n",
    "stats.ttest_ind(A, B, equal_var=False, alternative='less')"
   ]
  },
  {
   "cell_type": "markdown",
   "metadata": {
    "id": "syRREwRbh8vG"
   },
   "source": [
    "- 귀무가설(H0): 그룹별 시험 평균 점수는 차이가 없다. (μ1 = μ2)\n",
    "- 대립가설(H1): A그룹 시험 평균 점수가 더 높다. (μ1 > μ2)"
   ]
  },
  {
   "cell_type": "code",
   "execution_count": 33,
   "metadata": {
    "id": "ASqJKMOgNRcH"
   },
   "outputs": [
    {
     "data": {
      "text/plain": [
       "TtestResult(statistic=np.float64(-2.1837307810153024), pvalue=np.float64(0.9782363480020485), df=np.float64(16.729279968729678))"
      ]
     },
     "execution_count": 33,
     "metadata": {},
     "output_type": "execute_result"
    }
   ],
   "source": [
    "# 독립표본검정(greater)\n",
    "stats.ttest_ind(A, B, equal_var=False, alternative='greater')"
   ]
  },
  {
   "cell_type": "markdown",
   "metadata": {
    "id": "0r1CD7XudcEJ"
   },
   "source": [
    "## 2. 심화 (정규성, 등분산성 전제 없는 경우)"
   ]
  },
  {
   "cell_type": "code",
   "execution_count": null,
   "metadata": {
    "id": "NqFJ4Um9dfEy"
   },
   "outputs": [],
   "source": [
    "# 데이터\n",
    "import pandas as pd\n",
    "A = [85, 90, 92, 88, 86, 89, 83, 87,\n",
    "     84, 50, 60, 39, 28, 48, 38, 28]\n",
    "B = [82, 82, 88, 85, 84, 74, 79, 69,\n",
    "     78, 76, 85, 84, 79, 89]"
   ]
  },
  {
   "cell_type": "markdown",
   "metadata": {
    "id": "h8XH1IIojwQi"
   },
   "source": [
    "### Shapiro-Wilk 검정 (정규성 검정)"
   ]
  },
  {
   "cell_type": "code",
   "execution_count": 34,
   "metadata": {
    "id": "hFjt4PtKikLh"
   },
   "outputs": [
    {
     "name": "stdout",
     "output_type": "stream",
     "text": [
      "ShapiroResult(statistic=np.float64(0.8128696504554705), pvalue=np.float64(0.0040577015868868945))\n",
      "ShapiroResult(statistic=np.float64(0.9610027583368682), pvalue=np.float64(0.739578582064332))\n"
     ]
    }
   ],
   "source": [
    "# Shapiro-Wilk(샤피로-윌크) 정규성 검정\n",
    "from scipy import stats\n",
    "print(stats.shapiro(A)) # 정규분포를 따르지 않음. => 비모수 검정 (만휘트니 검정)\n",
    "print(stats.shapiro(B))"
   ]
  },
  {
   "cell_type": "markdown",
   "metadata": {
    "id": "TQuQbIPBjxN7"
   },
   "source": [
    "### Levene 검정 (등분산성 검정)"
   ]
  },
  {
   "cell_type": "code",
   "execution_count": 38,
   "metadata": {
    "id": "TCqI_1gndfJ3"
   },
   "outputs": [
    {
     "data": {
      "text/plain": [
       "LeveneResult(statistic=np.float64(8.013957643762076), pvalue=np.float64(0.008497116974003))"
      ]
     },
     "execution_count": 38,
     "metadata": {},
     "output_type": "execute_result"
    }
   ],
   "source": [
    "# Levene(레빈) 등분산 검정 (귀무가설: 분산이 동일하다)\n",
    "# 유의확률이 0.05보다 작으므로 대립가설(분산이 동일하지 않다) 채택\n",
    "stats.levene(A, B)"
   ]
  },
  {
   "cell_type": "markdown",
   "metadata": {
    "id": "6oXR4Py4lzDu"
   },
   "source": [
    "### 독립표본검정"
   ]
  },
  {
   "cell_type": "markdown",
   "metadata": {
    "id": "xVrp-5T5KsyG"
   },
   "source": [
    "- 귀무가설(H0): 그룹별 시험 평균 점수는 차이가 없다. (μ1 = μ2)\n",
    "- 대립가설(H1): B그룹 시험 평균 점수가 더 높다. (μ1 < μ2)"
   ]
  },
  {
   "cell_type": "code",
   "execution_count": 39,
   "metadata": {
    "id": "Kimci0kWdfMb"
   },
   "outputs": [
    {
     "data": {
      "text/plain": [
       "TtestResult(statistic=np.float64(-2.1837307810153024), pvalue=np.float64(0.02176365199795156), df=np.float64(16.729279968729678))"
      ]
     },
     "execution_count": 39,
     "metadata": {},
     "output_type": "execute_result"
    }
   ],
   "source": [
    "# 독립표본검정\n",
    "stats.ttest_ind(A, B, equal_var=False, alternative='less')"
   ]
  },
  {
   "cell_type": "markdown",
   "metadata": {
    "id": "GQityTjdjHiD"
   },
   "source": [
    "### Mann-Whitney U 검정 (비모수 검정)"
   ]
  },
  {
   "cell_type": "markdown",
   "metadata": {
    "id": "jk0zoZgPKq8Z"
   },
   "source": [
    "- 귀무가설(H0): 그룹별 시험 중앙값 점수는 차이가 없다. (μ1 = μ2)\n",
    "- 대립가설(H1): B그룹 시험 중앙값 점수가 더 높다. (μ1 < μ2)\n",
    "\n",
    "(추가) 비모수 검정: 평균 -> 중앙값으로 변경 (중앙값도 평균값이라 동일하다고 하겠습니다.)"
   ]
  },
  {
   "cell_type": "code",
   "execution_count": 36,
   "metadata": {
    "id": "-b36JAVvfUeN"
   },
   "outputs": [
    {
     "data": {
      "text/plain": [
       "MannwhitneyuResult(statistic=np.float64(106.0), pvalue=np.float64(0.40944636368515097))"
      ]
     },
     "execution_count": 36,
     "metadata": {},
     "output_type": "execute_result"
    }
   ],
   "source": [
    "# Mann-Whitney U(만-휘트니 유) 검정\n",
    "stats.mannwhitneyu(A, B, alternative='less')"
   ]
  }
 ],
 "metadata": {
  "colab": {
   "provenance": []
  },
  "kernelspec": {
   "display_name": "Python 3 (ipykernel)",
   "language": "python",
   "name": "python3"
  },
  "language_info": {
   "codemirror_mode": {
    "name": "ipython",
    "version": 3
   },
   "file_extension": ".py",
   "mimetype": "text/x-python",
   "name": "python",
   "nbconvert_exporter": "python",
   "pygments_lexer": "ipython3",
   "version": "3.12.6"
  }
 },
 "nbformat": 4,
 "nbformat_minor": 4
}
