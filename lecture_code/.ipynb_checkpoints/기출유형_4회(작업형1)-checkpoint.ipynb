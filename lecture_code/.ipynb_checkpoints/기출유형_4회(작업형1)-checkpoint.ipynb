{
 "cells": [
  {
   "cell_type": "markdown",
   "metadata": {},
   "source": [
    "# 기출 4회_작업형1"
   ]
  },
  {
   "cell_type": "markdown",
   "metadata": {
    "id": "abgXJ73FYi3G"
   },
   "source": [
    "## 문제 1\n",
    "1-1. age 컬럼의 3사분위수와 1사분위수의 차를 절대값으로 구하고, 소수점 버려서, 정수로 출력\n",
    "\n",
    "\n",
    "\n",
    "\n",
    "\n",
    "\n"
   ]
  },
  {
   "cell_type": "code",
   "execution_count": null,
   "metadata": {
    "colab": {
     "base_uri": "https://localhost:8080/"
    },
    "id": "I_YkQc7KYtYu",
    "outputId": "6593eb9c-016a-4252-ac3f-3f10958df9e8"
   },
   "outputs": [
    {
     "name": "stdout",
     "output_type": "stream",
     "text": [
      "50\n"
     ]
    }
   ],
   "source": [
    "import pandas as pd\n",
    "df = pd.read_csv(\"https://raw.githubusercontent.com/lovedlim/inf/refs/heads/main/p4/4_1/basic1.csv\")\n",
    "# print(\"1사분위: \",df['age'].quantile(0.25))\n",
    "# print(\"3사분위: \",df['age'].quantile(0.75))\n",
    "\n",
    "result = abs(df['age'].quantile(0.25) - df['age'].quantile(0.75))\n",
    "# print(\"절대값 차이: \",result)\n",
    "\n",
    "print(int(result))"
   ]
  },
  {
   "cell_type": "markdown",
   "metadata": {},
   "source": [
    "## 문제 2"
   ]
  },
  {
   "cell_type": "markdown",
   "metadata": {
    "id": "QH7_XMk1Yumu"
   },
   "source": [
    "1-2.(loves반응+wows반응)/(reactions반응) 비율이 0.4보다 크고 0.5보다 작으면서, status_type=='video'인 데이터의 갯수"
   ]
  },
  {
   "cell_type": "code",
   "execution_count": null,
   "metadata": {
    "colab": {
     "base_uri": "https://localhost:8080/"
    },
    "id": "3t5PEt3sYwM8",
    "outputId": "74de67a9-3283-4087-8435-683bb0cc51ef"
   },
   "outputs": [
    {
     "name": "stdout",
     "output_type": "stream",
     "text": [
      "90\n"
     ]
    }
   ],
   "source": [
    "import pandas as pd\n",
    "df = pd.read_csv(\"https://raw.githubusercontent.com/lovedlim/inf/refs/heads/main/p4/4_1/fb.csv\")\n",
    "cond1 = (df['loves'] + df['wows'])/ df['reactions'] > 0.4\n",
    "cond2 = (df['loves'] + df['wows'])/ df['reactions'] < 0.5\n",
    "cond3 = df['type'] == 'video'\n",
    "\n",
    "print(len(df[cond1 & cond2 & cond3]))"
   ]
  },
  {
   "cell_type": "markdown",
   "metadata": {},
   "source": [
    "## 문제 3"
   ]
  },
  {
   "cell_type": "markdown",
   "metadata": {
    "id": "s26z5O_UYxnC"
   },
   "source": [
    "1-3. date_added가 2018년 1월 이면서 country가 United Kingdom 단독 제작인 데이터의 갯수¶"
   ]
  },
  {
   "cell_type": "code",
   "execution_count": null,
   "metadata": {
    "colab": {
     "base_uri": "https://localhost:8080/"
    },
    "id": "H9FoO_usY0nA",
    "outputId": "4b90b14f-05d7-4ae8-81d1-5e6f6bf6cd72"
   },
   "outputs": [
    {
     "name": "stdout",
     "output_type": "stream",
     "text": [
      "6\n"
     ]
    }
   ],
   "source": [
    "# 풀이1 datatime 활용1\n",
    "import pandas as pd\n",
    "df = pd.read_csv(\"https://raw.githubusercontent.com/lovedlim/inf/refs/heads/main/p4/4_1/nf.csv\")\n",
    "\n",
    "cond1 = df['country'] == \"United Kingdom\"\n",
    "\n",
    "df['date_added'] = pd.to_datetime(df['date_added'])\n",
    "df['year'] = df['date_added'].dt.year\n",
    "df['month'] = df['date_added'].dt.month\n",
    "\n",
    "\n",
    "cond2 = df['year'] == 2018\n",
    "cond3 = df['month'] == 1\n",
    "\n",
    "print(len(df[cond1 & cond2 & cond3]))"
   ]
  },
  {
   "cell_type": "code",
   "execution_count": null,
   "metadata": {
    "colab": {
     "base_uri": "https://localhost:8080/"
    },
    "id": "V7aDb6hQY2FV",
    "outputId": "4c1ac793-155a-42aa-eae0-827fb383805c"
   },
   "outputs": [
    {
     "name": "stdout",
     "output_type": "stream",
     "text": [
      "6\n"
     ]
    }
   ],
   "source": [
    "# 풀이2 datatime 활용2\n",
    "import pandas as pd\n",
    "df = pd.read_csv(\"https://raw.githubusercontent.com/lovedlim/inf/refs/heads/main/p4/4_1/nf.csv\")\n",
    "\n",
    "cond1 = df['country'] == \"United Kingdom\"\n",
    "\n",
    "df['date_added'] = pd.to_datetime(df['date_added'])\n",
    "\n",
    "cond2 = df['date_added'] >= '2018-1-1'\n",
    "cond3 = df['date_added'] <= '2018-1-31'\n",
    "\n",
    "print(len(df[cond1 & cond2 & cond3]))"
   ]
  },
  {
   "cell_type": "code",
   "execution_count": null,
   "metadata": {
    "colab": {
     "base_uri": "https://localhost:8080/"
    },
    "id": "s2RXFS7WY3oj",
    "outputId": "b48e6e96-5ab6-44c7-ae11-f8e0a41bab2d"
   },
   "outputs": [
    {
     "name": "stdout",
     "output_type": "stream",
     "text": [
      "6\n"
     ]
    }
   ],
   "source": [
    "# 풀이3 datatime + between 활용\n",
    "import pandas as pd\n",
    "df = pd.read_csv(\"https://raw.githubusercontent.com/lovedlim/inf/refs/heads/main/p4/4_1/nf.csv\")\n",
    "\n",
    "cond1 = df['country'] == \"United Kingdom\"\n",
    "df['date_added'] = pd.to_datetime(df['date_added'])\n",
    "cond2 = df['date_added'].between('2018-1-1', '2018-1-31')\n",
    "print(len(df[cond1 & cond2]))"
   ]
  },
  {
   "cell_type": "code",
   "execution_count": null,
   "metadata": {
    "colab": {
     "base_uri": "https://localhost:8080/"
    },
    "id": "LdHdBfcYY40l",
    "outputId": "f8855eb2-f2c8-4367-b66d-730229bfc50f"
   },
   "outputs": [
    {
     "name": "stdout",
     "output_type": "stream",
     "text": [
      "6\n"
     ]
    }
   ],
   "source": [
    "# 풀이4\n",
    "import pandas as pd\n",
    "df = pd.read_csv(\"https://raw.githubusercontent.com/lovedlim/inf/refs/heads/main/p4/4_1/nf.csv\")\n",
    "\n",
    "cond1 = df['country'] == \"United Kingdom\"\n",
    "\n",
    "df['date_added'] = df['date_added'].fillna(\"\")\n",
    "\n",
    "str1 = \"2018\"\n",
    "str2 = \"January\"\n",
    "cond2 = df['date_added'].str.contains(str1)\n",
    "cond3 = df['date_added'].str.contains(str2)\n",
    "\n",
    "print(len(df[cond1 & cond2 & cond3]))"
   ]
  },
  {
   "cell_type": "markdown",
   "metadata": {},
   "source": [
    "## 문제 4"
   ]
  },
  {
   "cell_type": "markdown",
   "metadata": {
    "id": "b5kJbidhY8Iw"
   },
   "source": [
    "(추가 문제) 4. 만약 'country'컬럼에 대소문자 함께 있고, 띄어쓰기가 있는 것도 있고 없는 것도 있다면?"
   ]
  },
  {
   "cell_type": "code",
   "execution_count": null,
   "metadata": {
    "colab": {
     "base_uri": "https://localhost:8080/"
    },
    "id": "PIvA_eieY6R8",
    "outputId": "73683db0-77eb-4c0a-e039-9716dc039f8d"
   },
   "outputs": [
    {
     "name": "stdout",
     "output_type": "stream",
     "text": [
      "6\n"
     ]
    }
   ],
   "source": [
    "import pandas as pd\n",
    "df = pd.read_csv(\"https://raw.githubusercontent.com/lovedlim/inf/refs/heads/main/p4/4_1/nf.csv\")\n",
    "\n",
    "# 띄어쓰기 제거\n",
    "df['country'] = df['country'].str.replace(' ','')\n",
    "\n",
    "# 소문자로 변경\n",
    "df['country'] = df['country'].str.lower()\n",
    "df['country']\n",
    "\n",
    "cond1 = df['country'] == \"unitedkingdom\"\n",
    "\n",
    "df['date_added'] = pd.to_datetime(df['date_added'])\n",
    "df['year'] = df['date_added'].dt.year\n",
    "df['month'] = df['date_added'].dt.month\n",
    "\n",
    "\n",
    "cond2 = df['year'] == 2018\n",
    "cond3 = df['month'] == 1\n",
    "\n",
    "print(len(df[cond1 & cond2 & cond3]))"
   ]
  }
 ],
 "metadata": {
  "colab": {
   "provenance": []
  },
  "kernelspec": {
   "display_name": "Python 3 (ipykernel)",
   "language": "python",
   "name": "python3"
  },
  "language_info": {
   "codemirror_mode": {
    "name": "ipython",
    "version": 3
   },
   "file_extension": ".py",
   "mimetype": "text/x-python",
   "name": "python",
   "nbconvert_exporter": "python",
   "pygments_lexer": "ipython3",
   "version": "3.12.6"
  }
 },
 "nbformat": 4,
 "nbformat_minor": 4
}
