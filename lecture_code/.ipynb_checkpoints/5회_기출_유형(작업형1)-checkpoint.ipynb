{
 "cells": [
  {
   "cell_type": "markdown",
   "metadata": {},
   "source": [
    "# 기출 5회_작업형1"
   ]
  },
  {
   "cell_type": "markdown",
   "metadata": {
    "id": "HO9Cncas6GE1"
   },
   "source": [
    "## 문제 1"
   ]
  },
  {
   "cell_type": "markdown",
   "metadata": {
    "id": "dpx8dwl9CkQO"
   },
   "source": [
    "1. 종량제 봉투 종류가 '규격봉투'이고, 종량제 봉투 용도가 '음식물쓰레기'인 2L가격 평균 (단, 가격0 제외, 반올림 후 정수 출력)"
   ]
  },
  {
   "cell_type": "code",
   "execution_count": null,
   "metadata": {
    "colab": {
     "base_uri": "https://localhost:8080/"
    },
    "id": "ShDssNLn6Dw8",
    "outputId": "2d87e50a-5c20-4b31-dfed-128e706316e1"
   },
   "outputs": [
    {
     "name": "stdout",
     "output_type": "stream",
     "text": [
      "118\n"
     ]
    }
   ],
   "source": [
    "import pandas as pd\n",
    "df = pd.read_csv(\"https://raw.githubusercontent.com/lovedlim/inf/refs/heads/main/p4/5_1/5-1price.csv\")\n",
    "cond1 = df['2ℓ가격'] != 0\n",
    "cond2 = df['종량제봉투종류'] == \"규격봉투\"\n",
    "cond3 = df['종량제봉투용도'] == \"음식물쓰레기\"\n",
    "df = df[cond1 & cond2 & cond3]\n",
    "df\n",
    "print(round(df['2ℓ가격'].mean()))"
   ]
  },
  {
   "cell_type": "markdown",
   "metadata": {},
   "source": [
    "## 문제 2"
   ]
  },
  {
   "cell_type": "markdown",
   "metadata": {
    "id": "IrnG6JMQH-Lp"
   },
   "source": [
    "2. bmi를 계산하고, 수치가 정상인 사람 수와 위험체중인 사람 수의 차이를 절대값으로 구하시오 (정수로 출력)\n",
    " - bmi(체질량지수): 몸무게(kg) / 키(m)의 제곱\n",
    "단위\n",
    "- Height: cm\n",
    "- Weight: kg\n",
    "\n",
    "\n",
    "- 저체중: BMI 18.5미만\n",
    "- 정상체중: BMI 18.5이상 ~ 23미만\n",
    "- 과체중 또는 위험체중: BMI 23 이상 ~ 25미만\n",
    "- 비만체중: 25이상"
   ]
  },
  {
   "cell_type": "code",
   "execution_count": null,
   "metadata": {
    "colab": {
     "base_uri": "https://localhost:8080/"
    },
    "id": "-3VwHCDKKjRl",
    "outputId": "5b35285c-b9be-48e2-fce1-cbca8518fa40"
   },
   "outputs": [
    {
     "name": "stdout",
     "output_type": "stream",
     "text": [
      "144\n"
     ]
    }
   ],
   "source": [
    "import pandas as pd\n",
    "df = pd.read_csv(\"https://raw.githubusercontent.com/lovedlim/inf/refs/heads/main/p4/5_1/5-2bmi.csv\")\n",
    "\n",
    "df['bmi'] = df['Weight'] / (df['Height']/100)**2\n",
    "cond1 = (df['bmi'] >= 18.5) & (df['bmi'] < 23)\n",
    "cond2 = (df['bmi'] >= 23) & (df['bmi'] < 25)\n",
    "print(abs(len(df[cond1]) - len(df[cond2])))"
   ]
  },
  {
   "cell_type": "markdown",
   "metadata": {},
   "source": [
    "## 문제 3"
   ]
  },
  {
   "cell_type": "markdown",
   "metadata": {
    "id": "g3z9MbO2FEN-"
   },
   "source": [
    "3. 순전입학생이 가장 많은 학교의 전체학생수 (순전입 학생 = 전입 학생 - 전출 학생)"
   ]
  },
  {
   "cell_type": "code",
   "execution_count": null,
   "metadata": {
    "colab": {
     "base_uri": "https://localhost:8080/"
    },
    "id": "WgzH-3yB6I26",
    "outputId": "a881553d-8c6a-4694-a3f4-1c7768467aed"
   },
   "outputs": [
    {
     "name": "stdout",
     "output_type": "stream",
     "text": [
      "230\n"
     ]
    }
   ],
   "source": [
    "import pandas as pd\n",
    "df = pd.read_csv(\"https://raw.githubusercontent.com/lovedlim/inf/refs/heads/main/p4/5_1/5-3student.csv\")\n",
    "df['순전입'] = df['전입학생수(계)'] - df['전출학생수(계)']\n",
    "df = df.sort_values('순전입', ascending=False)\n",
    "print(int(df.iloc[0,-2]))"
   ]
  }
 ],
 "metadata": {
  "colab": {
   "provenance": []
  },
  "kernelspec": {
   "display_name": "Python 3 (ipykernel)",
   "language": "python",
   "name": "python3"
  },
  "language_info": {
   "codemirror_mode": {
    "name": "ipython",
    "version": 3
   },
   "file_extension": ".py",
   "mimetype": "text/x-python",
   "name": "python",
   "nbconvert_exporter": "python",
   "pygments_lexer": "ipython3",
   "version": "3.12.6"
  }
 },
 "nbformat": 4,
 "nbformat_minor": 4
}
