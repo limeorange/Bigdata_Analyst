{
 "cells": [
  {
   "cell_type": "markdown",
   "metadata": {
    "id": "g7CyV-X4r6S2"
   },
   "source": [
    "[구글 코랩(Colab)에서 실행하기](https://colab.research.google.com/github/lovedlim/bigdata_analyst_cert_v2/blob/main/part1/ch3/ch3_ex_type1.ipynb)"
   ]
  },
  {
   "cell_type": "markdown",
   "metadata": {
    "id": "H9jnQdrYtQRC"
   },
   "source": [
    "- [안내] FutureWarning은 무시해도 됨"
   ]
  },
  {
   "cell_type": "code",
   "execution_count": 124,
   "metadata": {
    "id": "z42dqPtZi7I5"
   },
   "outputs": [],
   "source": [
    "# 흔히 발생하는 FutureWarning\n",
    "# df['views'].fillna(min, inplace=True)  # 변경 전 (경고 발생 가능)\n",
    "# df['views'] = df['views'].fillna(min)  # 변경 후 (권장 방식)"
   ]
  },
  {
   "cell_type": "markdown",
   "metadata": {
    "id": "fyetqPi1ngy-"
   },
   "source": [
    "### Section1. 필터링, 최솟값, 중앙값\n",
    "#### ☑️ <span style='background-color: #fff5b1'>.fillna() 사용 시 주의사항</span>\n",
    "- inplace=True는 버전 충돌로 인한 경고 우려가 있으니, 변수에 직접 할당해주는 방식 활용하기!"
   ]
  },
  {
   "cell_type": "code",
   "execution_count": 13,
   "metadata": {},
   "outputs": [
    {
     "name": "stdout",
     "output_type": "stream",
     "text": [
      "5924\n"
     ]
    }
   ],
   "source": [
    "import pandas as pd\n",
    "df = pd.read_csv('type1_data1.csv')\n",
    "\n",
    "# 1) 'f5' 컬럼이 0이 아닌 데이터(행) 구하기\n",
    "cond = df['f5'] != 0\n",
    "df = df[cond]\n",
    "\n",
    "# 2) 'views' 컬럼 결측치를 'views' 컬럼의 최솟값으로 채우기\n",
    "v_min = df['views'].min()\n",
    "df['views'] = df['views'].fillna(v_min)\n",
    "\n",
    "# 3) 'views' 컬럼의 중앙값을 계산해 정수로 구하기\n",
    "print(int(df['views'].median()))"
   ]
  },
  {
   "cell_type": "markdown",
   "metadata": {
    "id": "_bsCOCjZqK6b"
   },
   "source": [
    "### Section2. 카테고리, 인덱스, 문자열 슬라이싱\n",
    "#### ☑️ <span style='background-color: #fff5b1'>.index 개념 설명</span>\n",
    "<img src=\"images/q1.png\" width=\"550\"/>"
   ]
  },
  {
   "cell_type": "code",
   "execution_count": 46,
   "metadata": {},
   "outputs": [
    {
     "name": "stdout",
     "output_type": "stream",
     "text": [
      "17\n",
      "17\n"
     ]
    }
   ],
   "source": [
    "import pandas as pd\n",
    "df = pd.read_csv('type1_data1.csv')\n",
    "\n",
    "# SOL 1) .mode() 활용\n",
    "\n",
    "# 1) 'subscribed' 컬럼에서 가장 빈도수가 많은 날짜 구하기\n",
    "max_date = df['subscribed'].mode()[0]\n",
    "\n",
    "# 2) 앞서 구한 날짜의 일(day) 값을 정수로 구하기\n",
    "print(int(max_date.strip()[-2:]))\n",
    "\n",
    "# ----------------------\n",
    "\n",
    "# SOL 2) .value_counts() 활용\n",
    "df = df['subscribed'].value_counts()\n",
    "print(int(df.index[0][-2:]))"
   ]
  },
  {
   "cell_type": "markdown",
   "metadata": {
    "id": "009FIr1kqNp1"
   },
   "source": [
    "### Section3. 파생변수, 정렬, 인덱싱"
   ]
  },
  {
   "cell_type": "code",
   "execution_count": 83,
   "metadata": {},
   "outputs": [
    {
     "name": "stdout",
     "output_type": "stream",
     "text": [
      "22\n",
      "22\n"
     ]
    }
   ],
   "source": [
    "import pandas as pd\n",
    "df = pd.read_csv(\"type1_data1.csv\")\n",
    "\n",
    "# SOL 1) .max()로 최댓값 구해서 조건 설정 -> .loc[]\n",
    "df = df.dropna()\n",
    "df['new'] = df['views']/df['f1']\n",
    "cond = df['new'] == df['new'].max()\n",
    "print(int(df[cond].loc[:, 'age'].values[0]))\n",
    "\n",
    "# ----------------------\n",
    "\n",
    "# SOL 2) .sort_values()로 내림차순 정렬 -> .iloc[]\n",
    "df = df.sort_values('new', ascending=False)\n",
    "print(int(df.iloc[0, 1]))"
   ]
  },
  {
   "cell_type": "markdown",
   "metadata": {
    "id": "O_vJrS85qQzo"
   },
   "source": [
    "### Section4. 값 변경, 정렬, 합계\n",
    "#### ☑️ <span style='background-color: #fff5b1'>df['views'] vs df.loc[:,'views']</span>\n",
    "<img src=\"images/q2.png\" width=\"550\"/>\n",
    "\n",
    "- **loc[행, 열]** 사용 시 **조건 대입** 가능!"
   ]
  },
  {
   "cell_type": "code",
   "execution_count": 107,
   "metadata": {},
   "outputs": [
    {
     "name": "stdout",
     "output_type": "stream",
     "text": [
      "652812\n",
      "652812\n"
     ]
    }
   ],
   "source": [
    "import pandas as pd\n",
    "\n",
    "# SOL 1) sort_values()\n",
    "df = pd.read_csv(\"type1_data1.csv\")\n",
    "df['views'] = df['views'].fillna(0)\n",
    "\n",
    "df = df.sort_values('views', ascending=False)\n",
    "value_10 = df.iloc[9]['views']\n",
    "df.iloc[:10, -1] = value_10\n",
    "print(int(df['views'].sum()))\n",
    "\n",
    "# ----------------------\n",
    "\n",
    "# SOL 2) nlargest()\n",
    "df = pd.read_csv(\"type1_data1.csv\")\n",
    "df['views'] = df['views'].fillna(0)\n",
    "\n",
    "value_10 = df['views'].nlargest(10).iloc[-1]\n",
    "df.loc[df['views'] > value_10, 'views'] = value_10\n",
    "print(int(df['views'].sum()))"
   ]
  },
  {
   "cell_type": "markdown",
   "metadata": {
    "id": "hWZP_Ppds-uO"
   },
   "source": [
    "### Section5. 문자열 슬라이싱, 파생변수, 평균값\n",
    "- 데이터프레임의 특정 값을 문자열 슬라이싱하기 위해서는 우선 문자열로 변경한다 => **df['f4'].str[범위]**\n",
    "\n",
    "#### ☑️ <span style='background-color: #fff5b1'>str.contains()</span>\n",
    "- str.contains()는 Pandas의 문자열 처리 함수\n",
    "- **특정 문자열이 포함**되어 있는지 여부를 판별해 **True/False**로 반환"
   ]
  },
  {
   "cell_type": "code",
   "execution_count": 125,
   "metadata": {},
   "outputs": [
    {
     "name": "stdout",
     "output_type": "stream",
     "text": [
      "0.61\n",
      "0.61\n"
     ]
    }
   ],
   "source": [
    "import pandas as pd\n",
    "\n",
    "# SOL 1) 문자열 변경 후 슬라이싱\n",
    "df = pd.read_csv(\"type1_data1.csv\")\n",
    "cond_FJ = df['f4'].str[2:] == 'FJ'\n",
    "df = df[cond_FJ]\n",
    "print(round(df['f2'].mean(), 2))\n",
    "\n",
    "# ----------------------\n",
    "\n",
    "# SOL 2) str.contains()로 특정 문자 찾기\n",
    "df = pd.read_csv(\"type1_data1.csv\")\n",
    "cond = df['f4'].str.contains('FJ')\n",
    "df = df[cond]\n",
    "print(round(df['f2'].mean(), 2))"
   ]
  },
  {
   "cell_type": "markdown",
   "metadata": {
    "id": "1_R6mL-as_IJ"
   },
   "source": [
    "### Section6. 필터링, 분산"
   ]
  },
  {
   "cell_type": "code",
   "execution_count": 133,
   "metadata": {},
   "outputs": [
    {
     "name": "stdout",
     "output_type": "stream",
     "text": [
      "235.43\n"
     ]
    }
   ],
   "source": [
    "import pandas as pd\n",
    "df = pd.read_csv(\"type1_data1.csv\")\n",
    "\n",
    "cond = (df['f3'] == 'gold') & (df['f2'] == 2)\n",
    "result = df[cond]['f1'].var()\n",
    "print(round(result, 2))"
   ]
  },
  {
   "cell_type": "markdown",
   "metadata": {
    "id": "_zgaSeQ9s_dI"
   },
   "source": [
    "### Section7. 값 변경(연산), 필터링 절댓값"
   ]
  },
  {
   "cell_type": "code",
   "execution_count": 138,
   "metadata": {},
   "outputs": [
    {
     "name": "stdout",
     "output_type": "stream",
     "text": [
      "263.13\n"
     ]
    }
   ],
   "source": [
    "import pandas as pd\n",
    "df = pd.read_csv(\"type1_data1.csv\")\n",
    "\n",
    "df['age'] = df['age']+1\n",
    "\n",
    "cond_1 = (df['age'] >= 20) & (df['age'] < 30)\n",
    "mean_1 = df[cond_1]['views'].mean()\n",
    "cond_2 = (df['age'] >= 30) & (df['age'] < 40)\n",
    "mean_2 = df[cond_2]['views'].mean()\n",
    "\n",
    "print(round(abs(mean_1 - mean_2), 2))"
   ]
  },
  {
   "cell_type": "markdown",
   "metadata": {
    "id": "Qj1dSVqXs_2t"
   },
   "source": [
    "### Section8. 시계열 데이터, 필터링, 데이터 개수"
   ]
  },
  {
   "cell_type": "code",
   "execution_count": 152,
   "metadata": {},
   "outputs": [
    {
     "name": "stdout",
     "output_type": "stream",
     "text": [
      "5\n",
      "5\n"
     ]
    }
   ],
   "source": [
    "import pandas as pd\n",
    "\n",
    "# SOL 1) 문자열로 처리\n",
    "df = pd.read_csv(\"type1_data1.csv\")\n",
    "cond = df['subscribed'].str.contains('2024-02')\n",
    "df = df[cond]\n",
    "print(sum(df['f3'] == 'gold'))\n",
    "\n",
    "# ----------------------\n",
    "\n",
    "# SOL 2) datetime으로 자료형 변환해서 처리\n",
    "df = pd.read_csv(\"type1_data1.csv\")\n",
    "df['subscribed'] = pd.to_datetime(df['subscribed'], format = '%Y-%m-%d')\n",
    "\n",
    "# 파생변수 생성 (년, 월)\n",
    "df['year'] = df['subscribed'].dt.year\n",
    "df['month'] = df['subscribed'].dt.month\n",
    "\n",
    "# 2024년 2월이고, 'f3'이 gold인 데이터\n",
    "cond1 = df['year'] == 2024\n",
    "cond2 = df['month'] == 2\n",
    "cond3 = df['f3'] == 'gold'\n",
    "\n",
    "print(len(df[cond1 & cond2 & cond3]))"
   ]
  },
  {
   "cell_type": "markdown",
   "metadata": {
    "id": "rrk8AZhsk-Bx"
   },
   "source": [
    "### Section9. 필터링, 카테고리, 최빈값\n",
    "- **df['f4'].value_counts()**: Series를 반환하며, f4 컬럼의 고유값(ex. ENTJ 등)이 인덱스로 설정된다.\n",
    "- .value_counts()는 기본적으로 **내림차순** 정렬 => 첫 번째 행이 최빈값"
   ]
  },
  {
   "cell_type": "code",
   "execution_count": 166,
   "metadata": {},
   "outputs": [
    {
     "name": "stdout",
     "output_type": "stream",
     "text": [
      "ISFJ\n",
      "ISFJ\n"
     ]
    }
   ],
   "source": [
    "import pandas as pd\n",
    "\n",
    "# SOL 1) .mode() 활용\n",
    "df = pd.read_csv(\"type1_data1.csv\")\n",
    "cond = df['views'] <= 1000\n",
    "df = df[cond]\n",
    "print(df['f4'].mode()[0])\n",
    "\n",
    "# ----------------------\n",
    "\n",
    "# SOL 2) .value_counts() 활용\n",
    "df = pd.read_csv(\"type1_data1.csv\")\n",
    "cond = df['views'] <= 1000\n",
    "df = df[cond]\n",
    "df = df['f4'].value_counts()\n",
    "print(df.index[0])"
   ]
  },
  {
   "cell_type": "markdown",
   "metadata": {
    "id": "TgO7R8c8f49P"
   },
   "source": [
    "### Section10. 그룹핑, 최댓값, 정렬"
   ]
  },
  {
   "cell_type": "code",
   "execution_count": 181,
   "metadata": {},
   "outputs": [
    {
     "name": "stdout",
     "output_type": "stream",
     "text": [
      "서울\n",
      "서울\n"
     ]
    }
   ],
   "source": [
    "import pandas as pd\n",
    "\n",
    "# SOL 1) sort_values()로 내림차순 정렬 후 인덱스 값(city) 출력\n",
    "df = pd.read_csv(\"type1_data1.csv\")\n",
    "df = df.dropna()\n",
    "df = df.groupby(['city']).mean(numeric_only=True)\n",
    "print(df.sort_values('f2', ascending=False).index[0])\n",
    "\n",
    "# ----------------------\n",
    "\n",
    "# SOL 2) idxmax(): 최댓값의 인덱스 반환\n",
    "df = pd.read_csv(\"type1_data1.csv\")\n",
    "df = df.dropna()\n",
    "df = df.groupby('city').mean(numeric_only=True)\n",
    "print(df['f2'].idxmax())"
   ]
  },
  {
   "cell_type": "markdown",
   "metadata": {
    "id": "upHoC0eb7CC0"
   },
   "source": [
    "### Section11. 슬라이싱, 사분위수, 결측치 제거"
   ]
  },
  {
   "cell_type": "code",
   "execution_count": 17,
   "metadata": {},
   "outputs": [
    {
     "name": "stdout",
     "output_type": "stream",
     "text": [
      "2771\n"
     ]
    }
   ],
   "source": [
    "import pandas as pd\n",
    "df = pd.read_csv('type1_data1.csv')\n",
    "\n",
    "# 결측치 있는 데이터 행 제거\n",
    "df = df.dropna()\n",
    "\n",
    "# 70% 데이터 슬라이싱\n",
    "end = int(len(df)*0.7)\n",
    "df = df.iloc[:end]\n",
    "\n",
    "# 'views' 컬럼의 3사분위수에서 1사분위수를 뺀 값을 정수로 구하기\n",
    "q3 = df['views'].quantile(.75)\n",
    "q1 = df['views'].quantile(.25)\n",
    "print(int(q3-q1))"
   ]
  },
  {
   "attachments": {},
   "cell_type": "markdown",
   "metadata": {
    "id": "kmcKIuaz_wRx"
   },
   "source": [
    "### Section12. 결측치 처리, 최빈값, 데이터 개수\n",
    "\n",
    "#### ☑️ <span style='background-color: #fff5b1'>df.dropna()</span>\n",
    "<img src=\"images/q3.png\" width=\"500\"/>"
   ]
  },
  {
   "cell_type": "code",
   "execution_count": 41,
   "metadata": {},
   "outputs": [
    {
     "name": "stdout",
     "output_type": "stream",
     "text": [
      "63\n",
      "63\n"
     ]
    }
   ],
   "source": [
    "# SOL 1) 결측치가 가장 많은 컬럼 수동으로 확인\n",
    "\n",
    "import pandas as pd\n",
    "df = pd.read_csv(\"type1_data1.csv\")\n",
    "\n",
    "# 결측치가 가장 많은 두 컬럼 찾기 => f1, f3\n",
    "df.isnull().sum()\n",
    "\n",
    "# 첫번째로 결측치가 많은 컬럼에서 결측치가 있는 행 제거\n",
    "df = df.dropna(subset=['f1'])\n",
    "\n",
    "# 두번째로 결측치가 많은 컬럼을 최빈값으로 대체\n",
    "freq = df['f3'].mode()[0]\n",
    "df['f3'] = df['f3'].fillna(freq)\n",
    "\n",
    "# 'f3'컬럼의 'gold'값을 가진 데이터의 수를 정수형으로 구하기\n",
    "print(len(df[df['f3']=='gold']))\n",
    "print(sum(df['f3']=='gold'))"
   ]
  },
  {
   "cell_type": "code",
   "execution_count": 94,
   "metadata": {
    "colab": {
     "base_uri": "https://localhost:8080/"
    },
    "id": "vKWjyP9KEmZO",
    "outputId": "1d11899e-5f2c-48cd-fd0c-cd16b5208e2e"
   },
   "outputs": [
    {
     "name": "stdout",
     "output_type": "stream",
     "text": [
      "63\n"
     ]
    }
   ],
   "source": [
    "# SOL 2) 결측치가 가장 많은 컬럼 idxmax()로 구하기\n",
    "\n",
    "import pandas as pd\n",
    "df = pd.read_csv(\"type1_data1.csv\")\n",
    "\n",
    "# 결측치가 가장 많은 컬럼\n",
    "col = df.isnull().sum().idxmax()\n",
    "\n",
    "# 결측치가 가장 많은 컬럼 제거\n",
    "df = df.dropna(subset=[col])\n",
    "\n",
    "# 두번째로 가장 결측치가 많은 컬럼 최빈값 대체\n",
    "freq = df['f3'].mode()[0]\n",
    "df['f3'] = df['f3'].fillna(freq)\n",
    "\n",
    "# f3컬럼이 gold인 데이터의 수\n",
    "print(len(df[df['f3'] == 'gold']))"
   ]
  },
  {
   "cell_type": "markdown",
   "metadata": {
    "id": "Zz1RT2JFC7iz"
   },
   "source": [
    "### Section13. 결측 데이터 찾기, 필터링, 평균값"
   ]
  },
  {
   "cell_type": "code",
   "execution_count": 49,
   "metadata": {},
   "outputs": [
    {
     "name": "stdout",
     "output_type": "stream",
     "text": [
      "53.6\n"
     ]
    }
   ],
   "source": [
    "import pandas as pd\n",
    "df = pd.read_csv(\"type1_data1.csv\")\n",
    "\n",
    "cond = df['f1'].isnull()\n",
    "df = df[cond]\n",
    "print(round(df['age'].mean(), 1))"
   ]
  },
  {
   "cell_type": "markdown",
   "metadata": {
    "id": "1wY-DwCKFjm1"
   },
   "source": [
    "### Section14. 중복 데이터 제거, 값 변경, 데이터 개수\n",
    "\n",
    "#### ☑️ <span style='background-color: #fff5b1'>df.drop_duplicates() / df.duplicated()</span>\n",
    "<img src=\"images/q4.png\" width=\"550\"/>"
   ]
  },
  {
   "cell_type": "code",
   "execution_count": 93,
   "metadata": {},
   "outputs": [
    {
     "name": "stdout",
     "output_type": "stream",
     "text": [
      "167\n"
     ]
    },
    {
     "name": "stderr",
     "output_type": "stream",
     "text": [
      "/var/folders/zb/jr1wvwf97ssf0lbcg9tv2fhr0000gn/T/ipykernel_87555/856143663.py:11: FutureWarning: Downcasting behavior in `replace` is deprecated and will be removed in a future version. To retain the old behavior, explicitly call `result.infer_objects(copy=False)`. To opt-in to the future behavior, set `pd.set_option('future.no_silent_downcasting', True)`\n",
      "  df['f3'] = df['f3'].replace(np.nan, 0).replace('silver', 1).replace('gold', 2).replace('vip', 3)\n"
     ]
    }
   ],
   "source": [
    "# SOL 1) replace()로 결측값 대체\n",
    "\n",
    "import pandas as pd\n",
    "import numpy as np\n",
    "df = pd.read_csv(\"type1_data1.csv\")\n",
    "\n",
    "# 중복 데이터 제거\n",
    "df = df.drop_duplicates()\n",
    "\n",
    "# 결측값 대체\n",
    "df['f3'] = df['f3'].replace(np.nan, 0).replace('silver', 1).replace('gold', 2).replace('vip', 3)\n",
    "\n",
    "# 변환된 'f3' 컬럼의 총합을 정수형으로 구하기\n",
    "print(int(df['f3'].sum()))"
   ]
  },
  {
   "cell_type": "code",
   "execution_count": 67,
   "metadata": {},
   "outputs": [
    {
     "data": {
      "text/html": [
       "<div>\n",
       "<style scoped>\n",
       "    .dataframe tbody tr th:only-of-type {\n",
       "        vertical-align: middle;\n",
       "    }\n",
       "\n",
       "    .dataframe tbody tr th {\n",
       "        vertical-align: top;\n",
       "    }\n",
       "\n",
       "    .dataframe thead th {\n",
       "        text-align: right;\n",
       "    }\n",
       "</style>\n",
       "<table border=\"1\" class=\"dataframe\">\n",
       "  <thead>\n",
       "    <tr style=\"text-align: right;\">\n",
       "      <th></th>\n",
       "      <th>id</th>\n",
       "      <th>age</th>\n",
       "      <th>city</th>\n",
       "      <th>f1</th>\n",
       "      <th>f2</th>\n",
       "      <th>f3</th>\n",
       "      <th>f4</th>\n",
       "      <th>f5</th>\n",
       "      <th>subscribed</th>\n",
       "      <th>views</th>\n",
       "    </tr>\n",
       "  </thead>\n",
       "  <tbody>\n",
       "    <tr>\n",
       "      <th>10</th>\n",
       "      <td>id100</td>\n",
       "      <td>47.0</td>\n",
       "      <td>경기</td>\n",
       "      <td>53.0</td>\n",
       "      <td>0</td>\n",
       "      <td>vip</td>\n",
       "      <td>ESFP</td>\n",
       "      <td>33.308999</td>\n",
       "      <td>2024-02-21</td>\n",
       "      <td>15535.0</td>\n",
       "    </tr>\n",
       "    <tr>\n",
       "      <th>68</th>\n",
       "      <td>id68</td>\n",
       "      <td>35.0</td>\n",
       "      <td>경기</td>\n",
       "      <td>45.0</td>\n",
       "      <td>2</td>\n",
       "      <td>gold</td>\n",
       "      <td>ISFP</td>\n",
       "      <td>67.886373</td>\n",
       "      <td>2024-07-29</td>\n",
       "      <td>8599.0</td>\n",
       "    </tr>\n",
       "    <tr>\n",
       "      <th>100</th>\n",
       "      <td>id100</td>\n",
       "      <td>47.0</td>\n",
       "      <td>경기</td>\n",
       "      <td>53.0</td>\n",
       "      <td>0</td>\n",
       "      <td>vip</td>\n",
       "      <td>ESFP</td>\n",
       "      <td>33.308999</td>\n",
       "      <td>2024-02-21</td>\n",
       "      <td>15535.0</td>\n",
       "    </tr>\n",
       "    <tr>\n",
       "      <th>101</th>\n",
       "      <td>id68</td>\n",
       "      <td>35.0</td>\n",
       "      <td>경기</td>\n",
       "      <td>45.0</td>\n",
       "      <td>2</td>\n",
       "      <td>gold</td>\n",
       "      <td>ISFP</td>\n",
       "      <td>67.886373</td>\n",
       "      <td>2024-07-29</td>\n",
       "      <td>8599.0</td>\n",
       "    </tr>\n",
       "  </tbody>\n",
       "</table>\n",
       "</div>"
      ],
      "text/plain": [
       "        id   age city    f1  f2    f3    f4         f5  subscribed    views\n",
       "10   id100  47.0   경기  53.0   0   vip  ESFP  33.308999  2024-02-21  15535.0\n",
       "68    id68  35.0   경기  45.0   2  gold  ISFP  67.886373  2024-07-29   8599.0\n",
       "100  id100  47.0   경기  53.0   0   vip  ESFP  33.308999  2024-02-21  15535.0\n",
       "101   id68  35.0   경기  45.0   2  gold  ISFP  67.886373  2024-07-29   8599.0"
      ]
     },
     "execution_count": 67,
     "metadata": {},
     "output_type": "execute_result"
    }
   ],
   "source": [
    "import pandas as pd\n",
    "df = pd.read_csv(\"type1_data1.csv\")\n",
    "\n",
    "# 중복된 열 확인\n",
    "df[df.duplicated(keep=False)]"
   ]
  },
  {
   "cell_type": "code",
   "execution_count": 79,
   "metadata": {
    "colab": {
     "base_uri": "https://localhost:8080/"
    },
    "id": "-4nnZd4PHblL",
    "outputId": "cadfbd72-828f-4446-aa5e-f6c7c5f23be7"
   },
   "outputs": [
    {
     "name": "stdout",
     "output_type": "stream",
     "text": [
      "167\n"
     ]
    }
   ],
   "source": [
    "# SOL 2) 등급별 개수 세서 조건에 제시된 값 곱하는 방식 \n",
    "\n",
    "import pandas as pd\n",
    "df = pd.read_csv(\"type1_data1.csv\")\n",
    "\n",
    "# 중복데이터 제거\n",
    "df.drop_duplicates(inplace=True)\n",
    "\n",
    "# 계산\n",
    "r1 = sum(df['f3'] == 'silver') * 1\n",
    "r2 = sum(df['f3'] == 'gold') * 2\n",
    "r3 = sum(df['f3'] == 'vip') * 3\n",
    "print(r1 + r2 + r3)"
   ]
  },
  {
   "cell_type": "code",
   "execution_count": 106,
   "metadata": {},
   "outputs": [
    {
     "name": "stdout",
     "output_type": "stream",
     "text": [
      "167\n"
     ]
    }
   ],
   "source": [
    "# SOL 3) replace() 대신 '딕셔너리 + map()' 활용 => BEST !!!\n",
    "\n",
    "import pandas as pd\n",
    "import numpy as np\n",
    "df = pd.read_csv(\"type1_data1.csv\")\n",
    "\n",
    "# 중복 데이터 제거\n",
    "df = df.drop_duplicates()\n",
    "\n",
    "# 결측값 대체\n",
    "dict_list = {np.nan: 0, 'silver': 1, 'gold': 2, 'vip': 3}\n",
    "df['f3'] = df['f3'].map(dict_list)\n",
    "\n",
    "# 변환된 'f3' 컬럼의 총합을 정수형으로 구하기\n",
    "print(int(df['f3'].sum()))"
   ]
  },
  {
   "cell_type": "code",
   "execution_count": 113,
   "metadata": {},
   "outputs": [
    {
     "name": "stdout",
     "output_type": "stream",
     "text": [
      "167\n"
     ]
    },
    {
     "name": "stderr",
     "output_type": "stream",
     "text": [
      "/var/folders/zb/jr1wvwf97ssf0lbcg9tv2fhr0000gn/T/ipykernel_87555/4270112871.py:12: FutureWarning: Downcasting behavior in `replace` is deprecated and will be removed in a future version. To retain the old behavior, explicitly call `result.infer_objects(copy=False)`. To opt-in to the future behavior, set `pd.set_option('future.no_silent_downcasting', True)`\n",
      "  df['f3'] = df['f3'].replace(dict_list)\n"
     ]
    }
   ],
   "source": [
    "# SOL 4) replace()에 딕셔너리 넣으면 FutureWarning (타입 변환 문제)\n",
    "\n",
    "import pandas as pd\n",
    "import numpy as np\n",
    "df = pd.read_csv(\"type1_data1.csv\")\n",
    "\n",
    "# 중복 데이터 제거\n",
    "df = df.drop_duplicates()\n",
    "\n",
    "# 결측값 대체\n",
    "dict_list = {np.nan: 0, 'silver': 1, 'gold': 2, 'vip': 3}\n",
    "df['f3'] = df['f3'].replace(dict_list)\n",
    "\n",
    "# 변환된 'f3' 컬럼의 총합을 정수형으로 구하기\n",
    "print(int(df['f3'].sum()))"
   ]
  },
  {
   "cell_type": "markdown",
   "metadata": {
    "id": "_5wI5LtEIg7z"
   },
   "source": [
    "### Section15. 컬럼 삭제, 행 단위 합계, 필터링\n",
    "\n",
    "#### ☑️ <span style='background-color: #fff5b1'>df.select_dtypes()</span>\n",
    "<img src=\"images/q5.png\" width=\"500\"/>"
   ]
  },
  {
   "cell_type": "code",
   "execution_count": 132,
   "metadata": {},
   "outputs": [
    {
     "name": "stdout",
     "output_type": "stream",
     "text": [
      "88\n",
      "88\n"
     ]
    }
   ],
   "source": [
    "# SOL 1) sum(axis=1): 행 기준으로 합 계산\n",
    "\n",
    "import pandas as pd\n",
    "df = pd.read_csv(\"type1_data1.csv\")\n",
    "\n",
    "# 문자 자료형 컬럼 삭제\n",
    "cols = df.select_dtypes(exclude='object').columns\n",
    "df = df[cols]\n",
    "\n",
    "# 결측치 0으로 대체\n",
    "df = df.fillna(0)\n",
    "\n",
    "print(len(df[df.sum(axis=1) > 3000]))\n",
    "print(sum(df.sum(axis=1) > 3000))"
   ]
  },
  {
   "cell_type": "code",
   "execution_count": 135,
   "metadata": {},
   "outputs": [
    {
     "name": "stdout",
     "output_type": "stream",
     "text": [
      "88\n"
     ]
    }
   ],
   "source": [
    "# SOL 2) 행과 열 transpose 후 sum() 계산\n",
    "\n",
    "import pandas as pd\n",
    "df = pd.read_csv(\"type1_data1.csv\")\n",
    "\n",
    "# 문자 자료형 컬럼 삭제\n",
    "cols = df.select_dtypes(exclude='object').columns\n",
    "df = df[cols]\n",
    "\n",
    "# 결측치 0으로 대체\n",
    "df = df.fillna(0)\n",
    "\n",
    "df = df.T\n",
    "print(sum(df.sum() > 3000))"
   ]
  },
  {
   "cell_type": "markdown",
   "metadata": {
    "id": "czzQ7mCZK85p"
   },
   "source": [
    "### Section16. 이상치, IQR"
   ]
  },
  {
   "cell_type": "code",
   "execution_count": 143,
   "metadata": {},
   "outputs": [
    {
     "name": "stdout",
     "output_type": "stream",
     "text": [
      "77699\n"
     ]
    }
   ],
   "source": [
    "import pandas as pd\n",
    "df = pd.read_csv(\"type1_data1.csv\")\n",
    "\n",
    "# 이상치 기준 구하기 (low, high)\n",
    "q1 = df['views'].quantile(.25)\n",
    "q3 = df['views'].quantile(.75)\n",
    "IQR = q3-q1\n",
    "low, high = q1-1.5*IQR, q3+1.5*IQR\n",
    "\n",
    "# 이상치 조건에 맞는 데이터 찾기\n",
    "cond1 = df['views']>high\n",
    "cond2 = df['views']<low\n",
    "df = df[cond1 | cond2]\n",
    "\n",
    "# 이상치 데이터의 views 컬럼 합 정수로 구하기\n",
    "print(int(df['views'].sum()))"
   ]
  },
  {
   "cell_type": "markdown",
   "metadata": {
    "id": "bs-cfwPHM_Oo"
   },
   "source": [
    "### Section17. 이상치, 소수점 있는 데이터 찾기, 표준편차"
   ]
  },
  {
   "cell_type": "code",
   "execution_count": 156,
   "metadata": {},
   "outputs": [
    {
     "name": "stdout",
     "output_type": "stream",
     "text": [
      "8297.31\n"
     ]
    }
   ],
   "source": [
    "import pandas as pd\n",
    "df = pd.read_csv(\"type1_data1.csv\")\n",
    "\n",
    "# 이상치 제거 전 표준편차\n",
    "std1 = df['views'].std()\n",
    "\n",
    "# 이상치 제거 후 표준편차\n",
    "cond1 = df['age'] <= 0\n",
    "cond2 = df['age'] != df['age'].map(int) # 소수점 존재\n",
    "df = df[~cond1 & ~cond2]\n",
    "std2 = df['views'].std()\n",
    "\n",
    "# 이상치 제거 전후 'views' 표준편차 더해서 소수 둘째자리까지 반올림\n",
    "print(round(std1+std2, 2))"
   ]
  },
  {
   "cell_type": "markdown",
   "metadata": {
    "id": "Uvi2VH67Od_9"
   },
   "source": [
    "### Section18. 데이터(행) 기준 평균값, 인덱싱"
   ]
  },
  {
   "cell_type": "code",
   "execution_count": 167,
   "metadata": {},
   "outputs": [
    {
     "name": "stdout",
     "output_type": "stream",
     "text": [
      "202\n"
     ]
    }
   ],
   "source": [
    "# SOL 1) 인덱스(행) 기준 계산\n",
    "\n",
    "import pandas as pd\n",
    "df = pd.read_csv(\"type1_data2.csv\", index_col=\"year\")\n",
    "\n",
    "# index '2001' 데이터에서 평균보다 큰 값의 개수\n",
    "m1 = df.loc[2001].mean()\n",
    "cnt1 = sum(df.loc[2001] > m1)\n",
    "\n",
    "# index '2003' 데이터에서 평균보다 작은 값의 개수\n",
    "m2 = df.loc[2003].mean()\n",
    "cnt2 = sum(df.loc[2003] < m2)\n",
    "\n",
    "# 두 개수의 합\n",
    "print(cnt1+cnt2)"
   ]
  },
  {
   "cell_type": "code",
   "execution_count": 170,
   "metadata": {},
   "outputs": [
    {
     "name": "stdout",
     "output_type": "stream",
     "text": [
      "202\n"
     ]
    }
   ],
   "source": [
    "# SOL 2) transpose 후 열 기준 계산\n",
    "\n",
    "import pandas as pd\n",
    "df = pd.read_csv(\"type1_data2.csv\", index_col=\"year\")\n",
    "df = df.T\n",
    "\n",
    "# index '2001' 데이터에서 평균보다 큰 값의 개수\n",
    "m1 = df[2001].mean()\n",
    "r1 = sum(df[2001] > m1)\n",
    "\n",
    "# index '2003' 데이터에서 평균보다 작은 값의 개수\n",
    "m2 = df[2003].mean()\n",
    "r2 = sum(df[2003] < m2)\n",
    "\n",
    "print(r1+r2)"
   ]
  },
  {
   "cell_type": "markdown",
   "metadata": {
    "id": "zuCLLKHuRF68"
   },
   "source": [
    "### Section19. 결측치(뒤의 값으로 대체), 그룹합\n",
    "\n",
    "#### ☑️ <span style='background-color: #fff5b1'>df.fillna() / df.bfill() / df.ffill()</span>\n",
    "<img src=\"images/q6.png\" width=\"550\"/>"
   ]
  },
  {
   "cell_type": "code",
   "execution_count": 187,
   "metadata": {},
   "outputs": [
    {
     "name": "stdout",
     "output_type": "stream",
     "text": [
      "경기\n"
     ]
    }
   ],
   "source": [
    "import pandas as pd\n",
    "df = pd.read_csv(\"type1_data1.csv\")\n",
    "\n",
    "# 결측치 바로 뒤의 값으로 대체\n",
    "df = df.bfill()\n",
    "\n",
    "# 'city'와 'f2' 기준 그룹합 계산\n",
    "df = df.groupby(['city', 'f2']).sum(numeric_only=True).reset_index()\n",
    "\n",
    "# 'views' 값이 세 번째로 큰 city 출력\n",
    "df = df.sort_values(by='views', ascending=False)\n",
    "print(df.iloc[2]['city'])"
   ]
  },
  {
   "cell_type": "markdown",
   "metadata": {
    "id": "4PpSgq4URj1E"
   },
   "source": [
    "### Section20. 시계열 데이터, 월별 집계, 인덱스\n",
    "\n",
    "#### ☑️ <span style='background-color: #fff5b1'>pd.to_datetime()</span>\n",
    "<img src=\"images/q7.png\" width=\"570\"/>"
   ]
  },
  {
   "cell_type": "code",
   "execution_count": 208,
   "metadata": {},
   "outputs": [
    {
     "name": "stdout",
     "output_type": "stream",
     "text": [
      "11\n"
     ]
    }
   ],
   "source": [
    "import pandas as pd\n",
    "df = pd.read_csv(\"type1_data1.csv\")\n",
    "\n",
    "# 연도 구분 없이 월별로 숫자형 컬럼의 합 구하기\n",
    "df['subscribed'] = pd.to_datetime(df['subscribed'])\n",
    "df['month'] = df['subscribed'].dt.month\n",
    "df = df.groupby(['month']).sum(numeric_only=True)\n",
    "\n",
    "# 합계 중 'views'가 가장 작은 값을 가진 월을 정수로 구하기\n",
    "df = df.sort_values(by='views')\n",
    "print(int(df.index[0]))"
   ]
  },
  {
   "cell_type": "markdown",
   "metadata": {
    "id": "_VaGdUm5Jvha"
   },
   "source": [
    "### Section21."
   ]
  },
  {
   "cell_type": "code",
   "execution_count": 105,
   "metadata": {
    "colab": {
     "base_uri": "https://localhost:8080/"
    },
    "id": "Q_inq7MObx64",
    "outputId": "0869e661-bdb5-4a95-cab3-c8af944a987d"
   },
   "outputs": [
    {
     "name": "stdout",
     "output_type": "stream",
     "text": [
      "311\n"
     ]
    }
   ],
   "source": [
    "import pandas as pd\n",
    "# df = pd.read_csv(\"delivery_time.csv\")\n",
    "df = pd.read_csv(\"https://raw.githubusercontent.com/lovedlim/bigdata_analyst_cert/main/part1/ch3/delivery_time.csv\")\n",
    "\n",
    "# datetime으로 자료형 변경\n",
    "df['실제도착시간'] = pd.to_datetime(df['실제도착시간'])\n",
    "df['예상도착시간'] = pd.to_datetime(df['예상도착시간'])\n",
    "\n",
    "# 지연시간 계산(분)\n",
    "df['지연시간'] = (df['실제도착시간'] - df['예상도착시간']).dt.total_seconds()/60\n",
    "\n",
    "# 조건1 - 예상 도착시간보다 늦게 도착한 건\n",
    "cond1 = df['지연시간'] > 0\n",
    "\n",
    "# 조건2 - 거리가 7 이상인 건\n",
    "cond2 = df['거리'] >= 7\n",
    "\n",
    "# 조건에 맞는 데이터(행) 수 출력\n",
    "print(len(df[cond1 & cond2]))"
   ]
  },
  {
   "cell_type": "markdown",
   "metadata": {
    "id": "1qbnwrbQJz52"
   },
   "source": [
    "### Section22."
   ]
  },
  {
   "cell_type": "code",
   "execution_count": 106,
   "metadata": {
    "colab": {
     "base_uri": "https://localhost:8080/"
    },
    "id": "apFpK_tAJzZ8",
    "outputId": "ac1a8bc0-0828-4f0a-f864-d9f10d7e5e95"
   },
   "outputs": [
    {
     "name": "stdout",
     "output_type": "stream",
     "text": [
      "62\n"
     ]
    }
   ],
   "source": [
    "import pandas as pd\n",
    "# df = pd.read_csv(\"delivery_time.csv\")\n",
    "df = pd.read_csv(\"https://raw.githubusercontent.com/lovedlim/bigdata_analyst_cert/main/part1/ch3/delivery_time.csv\")\n",
    "\n",
    "# datetime으로 자료형 변경\n",
    "df['실제도착시간'] = pd.to_datetime(df['실제도착시간'])\n",
    "df['주문시간'] = pd.to_datetime(df['주문시간'])\n",
    "\n",
    "# 실제 도착시간과 주문시간 차이 계산(분)\n",
    "df['diff'] = (df['실제도착시간'] - df['주문시간']).dt.total_seconds()/60\n",
    "\n",
    "# 앱종류별 도착시간과 주문시간 차이의 평균 계산\n",
    "df = df.groupby('앱종류')['diff'].mean()\n",
    "\n",
    "# 가장 작은 시간(분) 반올림 후 출력\n",
    "print(round(df.min()))"
   ]
  },
  {
   "cell_type": "markdown",
   "metadata": {
    "id": "dHGcmLvRJ1fy"
   },
   "source": [
    "### Section23."
   ]
  },
  {
   "cell_type": "code",
   "execution_count": 107,
   "metadata": {
    "colab": {
     "base_uri": "https://localhost:8080/"
    },
    "id": "FuLpNI5yJziX",
    "outputId": "edafc114-4e88-44ce-d9f6-c6fa3725f065"
   },
   "outputs": [
    {
     "name": "stdout",
     "output_type": "stream",
     "text": [
      "0.56\n"
     ]
    }
   ],
   "source": [
    "import pandas as pd\n",
    "# df = pd.read_csv(\"delivery_time.csv\")\n",
    "df = pd.read_csv(\"https://raw.githubusercontent.com/lovedlim/bigdata_analyst_cert/main/part1/ch3/delivery_time.csv\")\n",
    "\n",
    "# datetime 자료형으로 변경\n",
    "df['실제도착시간'] = pd.to_datetime(df['실제도착시간'])\n",
    "df['예상도착시간'] = pd.to_datetime(df['예상도착시간'])\n",
    "\n",
    "# 지연시간 계산(분)\n",
    "df['지연시간'] = (df['실제도착시간'] - df['예상도착시간']).dt.total_seconds() / 60  # 분 단위로 계산\n",
    "\n",
    "# 실제 도착시간이 예상 도착시간보다 늦은 경우를 체크하는 컬럼 생성\n",
    "df['지연여부'] = df['지연시간'] > 0\n",
    "\n",
    "# 결제 종류별 지연된 주문의 비율 계산\n",
    "result = df.groupby('결제종류')['지연여부'].mean()\n",
    "\n",
    "# 가장 비율이 높은 값\n",
    "print(round(result.max(), 2))"
   ]
  },
  {
   "cell_type": "markdown",
   "metadata": {
    "id": "fy4e8_O271u-"
   },
   "source": [
    "### Section24."
   ]
  },
  {
   "cell_type": "code",
   "execution_count": 108,
   "metadata": {
    "colab": {
     "base_uri": "https://localhost:8080/"
    },
    "id": "61UVl8WsJzks",
    "outputId": "7673f6d4-9f0d-47a7-c1ac-cbdec45a6841"
   },
   "outputs": [
    {
     "name": "stdout",
     "output_type": "stream",
     "text": [
      "48\n"
     ]
    },
    {
     "name": "stderr",
     "output_type": "stream",
     "text": [
      "<ipython-input-108-58f0cd49ad9f>:19: FutureWarning: Series.__getitem__ treating keys as positions is deprecated. In a future version, integer keys will always be treated as labels (consistent with DataFrame behavior). To access a value by position, use `ser.iloc[pos]`\n",
      "  print(payment_method[0])\n"
     ]
    }
   ],
   "source": [
    "import pandas as pd\n",
    "# df = pd.read_csv(\"delivery_time.csv\")\n",
    "df = pd.read_csv(\"https://raw.githubusercontent.com/lovedlim/bigdata_analyst_cert/main/part1/ch3/delivery_time.csv\")\n",
    "df.head()\n",
    "\n",
    "# 사용자별로 주문 거리의 합계와 평균 계산\n",
    "df_distance = df.groupby('user')['거리'].sum()\n",
    "\n",
    "# 주문 거리의 합계가 50km 이상인 사용자만 필터링\n",
    "cond = df_distance >= 50\n",
    "df_distance = df_distance[cond]\n",
    "\n",
    "# 주문 거리의 합계가 50km 이상인 사용자들의 데이터 필터링\n",
    "filtered_data = df[df['user'].isin(df_distance.index)]\n",
    "filtered_data\n",
    "\n",
    "# 해당 사용자들의 선호 결제 방식 중 큰 값\n",
    "payment_method = filtered_data['결제종류'].value_counts()\n",
    "print(payment_method[0])"
   ]
  },
  {
   "cell_type": "markdown",
   "metadata": {
    "id": "-U-07CoFWCUK"
   },
   "source": [
    "### Section25."
   ]
  },
  {
   "cell_type": "code",
   "execution_count": 109,
   "metadata": {
    "colab": {
     "base_uri": "https://localhost:8080/"
    },
    "id": "TIJ4FisqX6K_",
    "outputId": "7d7a48c6-ec90-445c-f8c2-4c53d7b75a70"
   },
   "outputs": [
    {
     "name": "stdout",
     "output_type": "stream",
     "text": [
      "146\n"
     ]
    }
   ],
   "source": [
    "import pandas as pd\n",
    "# df = pd.read_csv(\"delivery_time.csv\")\n",
    "df = pd.read_csv(\"https://raw.githubusercontent.com/lovedlim/bigdata_analyst_cert/main/part1/ch3/delivery_time.csv\")\n",
    "\n",
    "# 각 사용자별로 첫 주문과 마지막 주문 사이의 시간 간격(일 단위)을 계산\n",
    "df['주문시간'] = pd.to_datetime(df['주문시간'])\n",
    "min_order_time = df.groupby('user')['주문시간'].min()\n",
    "max_order_time = df.groupby('user')['주문시간'].max()\n",
    "time_interval = (max_order_time - min_order_time).dt.days\n",
    "\n",
    "# 1회 이하 주문 제외\n",
    "cond1 = time_interval>0\n",
    "m = time_interval[cond1].mean()\n",
    "\n",
    "# 평균보다 기간이 긴 유저 수\n",
    "cond2 = time_interval > m\n",
    "print(len(time_interval[cond2]))"
   ]
  },
  {
   "cell_type": "markdown",
   "metadata": {
    "id": "-s8mvo6TvcNR"
   },
   "source": [
    "### Section26."
   ]
  },
  {
   "cell_type": "code",
   "execution_count": 110,
   "metadata": {
    "colab": {
     "base_uri": "https://localhost:8080/"
    },
    "id": "-3nDBTHesH-e",
    "outputId": "896308e6-93e5-43cb-bce9-4ba34babe467"
   },
   "outputs": [
    {
     "name": "stdout",
     "output_type": "stream",
     "text": [
      "0.31\n"
     ]
    }
   ],
   "source": [
    "import pandas as pd\n",
    "# df = pd.read_csv(\"delivery_time.csv\")\n",
    "df = pd.read_csv(\"https://raw.githubusercontent.com/lovedlim/bigdata_analyst_cert/main/part1/ch3/delivery_time.csv\")\n",
    "\n",
    "# 주문이 가장 많이 발생한 연-월 찾기\n",
    "df['주문시간'] = pd.to_datetime(df['주문시간'])\n",
    "df['주문월'] = df['주문시간'].dt.to_period('M')\n",
    "year_month = df['주문월'].value_counts().idxmax()\n",
    "\n",
    "# 해당 연-월에 배고팡 앱을 통한 주문 중, '앱결제'로 결제된 주문의 비율 계산\n",
    "cond1 = df['주문월'] == year_month\n",
    "cond2 = df['앱종류'] == '배고팡'\n",
    "filtered_df = df[cond1 & cond2]\n",
    "cond3 = filtered_df['결제종류'] == '앱결제'\n",
    "result = len(filtered_df[cond3])/len(filtered_df)\n",
    "print(round(result,2))"
   ]
  },
  {
   "cell_type": "markdown",
   "metadata": {
    "id": "CnpKbKtyWC4V"
   },
   "source": [
    "### Section27."
   ]
  },
  {
   "cell_type": "code",
   "execution_count": 111,
   "metadata": {
    "colab": {
     "base_uri": "https://localhost:8080/"
    },
    "id": "RUAg4sT2WFzj",
    "outputId": "b0ac4388-fee4-450c-f613-40012d608614"
   },
   "outputs": [
    {
     "data": {
      "text/plain": [
       "1"
      ]
     },
     "execution_count": 111,
     "metadata": {},
     "output_type": "execute_result"
    }
   ],
   "source": [
    "import pandas as pd\n",
    "# df = pd.read_csv(\"delivery_time.csv\")\n",
    "df = pd.read_csv(\"https://raw.githubusercontent.com/lovedlim/bigdata_analyst_cert/main/part1/ch3/delivery_time.csv\")\n",
    "\n",
    "# datetime 자료형으로 변경\n",
    "df['주문시간'] = pd.to_datetime(df['주문시간'])\n",
    "df['실제도착시간'] = pd.to_datetime(df['실제도착시간'])\n",
    "\n",
    "# 점심시간 주문 선택\n",
    "df['시간'] = df['주문시간'].dt.hour\n",
    "cond1 = df['시간'] >= 10\n",
    "cond2 = df['시간'] < 13\n",
    "df = df[cond1 & cond2]\n",
    "\n",
    "# 속도(km/h) = 거리(km) / 시간(h)\n",
    "df['배달시간'] = df['실제도착시간'] - df['주문시간']\n",
    "df['배달시간'] = df['배달시간'].dt.total_seconds() / 60 / 60 # 시간 단위로 변경\n",
    "df['속도'] = df['거리'] / df['배달시간']\n",
    "sum(df['속도'] >= 50)"
   ]
  },
  {
   "cell_type": "markdown",
   "metadata": {
    "id": "KrdTvruoWGFP"
   },
   "source": [
    "### Section28."
   ]
  },
  {
   "cell_type": "code",
   "execution_count": 112,
   "metadata": {
    "colab": {
     "base_uri": "https://localhost:8080/"
    },
    "id": "jgHA5q5iWHke",
    "outputId": "51bbdc56-e15e-4359-b160-bb9db347f650"
   },
   "outputs": [
    {
     "name": "stdout",
     "output_type": "stream",
     "text": [
      "202209\n"
     ]
    }
   ],
   "source": [
    "import pandas as pd\n",
    "# df = pd.read_csv(\"delivery_time.csv\")\n",
    "df = pd.read_csv(\"https://raw.githubusercontent.com/lovedlim/bigdata_analyst_cert/main/part1/ch3/delivery_time.csv\")\n",
    "\n",
    "# 주문 연월 추출 (연도-월)\n",
    "df['주문시간'] = pd.to_datetime(df['주문시간'])\n",
    "df['주문월'] = df['주문시간'].dt.to_period('M')\n",
    "\n",
    "# 주문월을 기준으로 빈도 수(주문 횟수) 계산\n",
    "count_month = df.groupby('주문월').size()\n",
    "\n",
    "# 주문 횟수가 가장 많은 월의 인덱스 추출\n",
    "year_month = count_month.idxmax()\n",
    "\n",
    "# 문자열로 변경 및 하이픈(-) 제거\n",
    "year_month = str(year_month)\n",
    "result = year_month.replace(\"-\",\"\")\n",
    "print(result)"
   ]
  },
  {
   "cell_type": "markdown",
   "metadata": {
    "id": "VDcz3cQIWH93"
   },
   "source": [
    "### Section29."
   ]
  },
  {
   "cell_type": "code",
   "execution_count": 113,
   "metadata": {
    "colab": {
     "base_uri": "https://localhost:8080/"
    },
    "id": "OipM5UbYWJG1",
    "outputId": "e2d75bcb-a0c3-4902-b988-45bc9e8f6e7d"
   },
   "outputs": [
    {
     "name": "stdout",
     "output_type": "stream",
     "text": [
      "448000\n"
     ]
    }
   ],
   "source": [
    "import pandas as pd\n",
    "# df = pd.read_csv(\"delivery_time.csv\")\n",
    "df = pd.read_csv(\"https://raw.githubusercontent.com/lovedlim/bigdata_analyst_cert/main/part1/ch3/delivery_time.csv\")\n",
    "\n",
    "# 배달료 계산 함수 정의\n",
    "def delivery_fee(distance):\n",
    "    if distance < 5:\n",
    "        return 2000\n",
    "    elif distance < 10:\n",
    "        return 4000\n",
    "    elif distance < 15:\n",
    "        return 6000\n",
    "    elif distance < 20:\n",
    "        return 8000\n",
    "\n",
    "# 각 주문에 대한 배달료 계산\n",
    "df['배달료'] = df['거리'].apply(delivery_fee)\n",
    "\n",
    "# 월별로 배달료 집계\n",
    "df['주문시간'] = pd.to_datetime(df['주문시간'])\n",
    "period_M = df['주문시간'].dt.to_period(\"M\")\n",
    "monthly = df.groupby(period_M)['배달료'].sum()\n",
    "\n",
    "# 가장 많은 배달료가 발생한 월과 그 월의 총 배달료 찾기\n",
    "max_fee_month = monthly.idxmax()\n",
    "max_fee_value = monthly[max_fee_month]\n",
    "print(max_fee_value)"
   ]
  },
  {
   "cell_type": "markdown",
   "metadata": {
    "id": "1iBC38EkNvlN"
   },
   "source": [
    "### Section30."
   ]
  },
  {
   "cell_type": "code",
   "execution_count": 114,
   "metadata": {
    "colab": {
     "base_uri": "https://localhost:8080/"
    },
    "id": "Rjjl0YFwMIOR",
    "outputId": "5bb24be3-e5a2-4d95-84c6-5b364896ef2f"
   },
   "outputs": [
    {
     "name": "stdout",
     "output_type": "stream",
     "text": [
      "412\n"
     ]
    }
   ],
   "source": [
    "import pandas as pd\n",
    "# df = pd.read_csv(\"delivery_time.csv\")\n",
    "df = pd.read_csv(\"https://raw.githubusercontent.com/lovedlim/bigdata_analyst_cert/main/part1/ch3/delivery_time.csv\")\n",
    "df['주문시간'] = pd.to_datetime(df['주문시간'])\n",
    "\n",
    "# 주말/평일 구분 0:월, 1:화 ~ 5:토, 6:일\n",
    "df['dayofweek'] = df['주문시간'].dt.dayofweek\n",
    "df['주말'] = df['dayofweek'] >= 5\n",
    "\n",
    "# 주말 개수, 평일 개수 계산\n",
    "weekend = sum(df['주말'])\n",
    "weekday = sum(~df['주말'])\n",
    "\n",
    "# 차이 절대값 출력\n",
    "print(abs(weekend - weekday))"
   ]
  },
  {
   "cell_type": "markdown",
   "metadata": {
    "id": "SFA4nMg7WJiE"
   },
   "source": [
    "### Section31."
   ]
  },
  {
   "cell_type": "code",
   "execution_count": 115,
   "metadata": {
    "colab": {
     "base_uri": "https://localhost:8080/"
    },
    "id": "zAi-yt4wWLtj",
    "outputId": "da5f51d2-4101-41c9-f65c-2f120defff6d"
   },
   "outputs": [
    {
     "name": "stdout",
     "output_type": "stream",
     "text": [
      "261387\n"
     ]
    }
   ],
   "source": [
    "import pandas as pd\n",
    "# df = pd.read_csv(\"delivery_time.csv\")\n",
    "df = pd.read_csv(\"https://raw.githubusercontent.com/lovedlim/bigdata_analyst_cert/main/part1/ch3/delivery_time.csv\")\n",
    "\n",
    "# 문자 슬라이싱\n",
    "df['user_int'] = df['user'].str[5:]\n",
    "\n",
    "# 자료형 변환\n",
    "df['user_int'] = df['user_int'].astype(int)\n",
    "\n",
    "# 합계\n",
    "print(df['user_int'].sum())\n"
   ]
  },
  {
   "cell_type": "markdown",
   "metadata": {
    "id": "m2eNPxcHCQMT"
   },
   "source": [
    "### Section32."
   ]
  },
  {
   "cell_type": "code",
   "execution_count": 116,
   "metadata": {
    "colab": {
     "base_uri": "https://localhost:8080/"
    },
    "id": "xNzYeMWP-iW1",
    "outputId": "11e5dd15-9cfa-4167-9c7a-4dd9ed500b87"
   },
   "outputs": [
    {
     "name": "stdout",
     "output_type": "stream",
     "text": [
      "82\n"
     ]
    }
   ],
   "source": [
    "import pandas as pd\n",
    "# df = pd.read_csv(\"school_data.csv\")\n",
    "df = pd.read_csv(\"https://raw.githubusercontent.com/lovedlim/bigdata_analyst_cert/main/part1/ch3/school_data.csv\")\n",
    "\n",
    "# 수학, 영어, 국어 점수 합계\n",
    "df['total_score'] = df[['수학', '영어', '국어']].sum(axis=1)\n",
    "\n",
    "# 합계 점수를 기준으로 상위 10명 선택\n",
    "top10 = df.nlargest(10, 'total_score')\n",
    "\n",
    "# 선택된 10명의 수학 평균 점수 계산\n",
    "result = top10['수학'].mean()\n",
    "print(round(result))"
   ]
  },
  {
   "cell_type": "markdown",
   "metadata": {
    "id": "NvkyoUhwKjpr"
   },
   "source": [
    "### Section33."
   ]
  },
  {
   "cell_type": "code",
   "execution_count": 117,
   "metadata": {
    "colab": {
     "base_uri": "https://localhost:8080/"
    },
    "id": "Nh9lB7yj-iZd",
    "outputId": "e0f34844-d96d-498b-c30b-e83cf5475578"
   },
   "outputs": [
    {
     "name": "stdout",
     "output_type": "stream",
     "text": [
      "420\n"
     ]
    }
   ],
   "source": [
    "import pandas as pd\n",
    "# df = pd.read_csv(\"school_data.csv\")\n",
    "df = pd.read_csv(\"https://raw.githubusercontent.com/lovedlim/bigdata_analyst_cert/main/part1/ch3/school_data.csv\")\n",
    "\n",
    "# 이름을 유지하면서 수학, 영어, 국어 형태 변경\n",
    "melted_df = df.melt(id_vars=['이름'], value_vars=['수학', '영어', '국어'])\n",
    "\n",
    "# 가장 작은 값 25개의 합\n",
    "result = melted_df['value'].nsmallest(25).sum()\n",
    "print(result)"
   ]
  },
  {
   "cell_type": "markdown",
   "metadata": {
    "id": "UJGiDOMHKk3l"
   },
   "source": [
    "### Section34."
   ]
  },
  {
   "cell_type": "code",
   "execution_count": 118,
   "metadata": {
    "colab": {
     "base_uri": "https://localhost:8080/"
    },
    "id": "q3A-C3XmKmL4",
    "outputId": "f2e8395c-e85e-4d46-c378-718eeb863d17"
   },
   "outputs": [
    {
     "name": "stdout",
     "output_type": "stream",
     "text": [
      "9\n"
     ]
    }
   ],
   "source": [
    "import pandas as pd\n",
    "# df = pd.read_csv(\"school_data.csv\")\n",
    "df = pd.read_csv(\"https://raw.githubusercontent.com/lovedlim/bigdata_analyst_cert/main/part1/ch3/school_data.csv\")\n",
    "# df_science = pd.read_csv(\"school_data_science.csv\")\n",
    "df_science = pd.read_csv(\"https://raw.githubusercontent.com/lovedlim/bigdata_analyst_cert/main/part1/ch3/school_data_science.csv\")\n",
    "\n",
    "# 두 데이터프레임 합치기(axis=1)\n",
    "df = pd.concat([df, df_science], axis=1)\n",
    "\n",
    "# 수평(열)으로 평균 계산\n",
    "df['수영국과 평균'] = df[['수학', '영어', '국어', '과학']].mean(axis=1)\n",
    "\n",
    "# 수학, 영어, 국어, 과학 평균이 60점 이상\n",
    "result = sum(df['수영국과 평균'] >= 60)\n",
    "print(result)"
   ]
  },
  {
   "cell_type": "markdown",
   "metadata": {
    "id": "ShHG0GgUNmlL"
   },
   "source": [
    "### Section35."
   ]
  },
  {
   "cell_type": "code",
   "execution_count": 119,
   "metadata": {
    "colab": {
     "base_uri": "https://localhost:8080/"
    },
    "id": "osSamxV3Gg5e",
    "outputId": "2d93efc3-e6a8-4c69-c242-d94d06dc811c"
   },
   "outputs": [
    {
     "name": "stdout",
     "output_type": "stream",
     "text": [
      "602\n"
     ]
    }
   ],
   "source": [
    "import pandas as pd\n",
    "# df = pd.read_csv(\"school_data.csv\")\n",
    "df = pd.read_csv(\"https://raw.githubusercontent.com/lovedlim/bigdata_analyst_cert/main/part1/ch3/school_data.csv\")\n",
    "# df_social = pd.read_csv(\"school_data_social.csv\")\n",
    "df_social = pd.read_csv(\"https://raw.githubusercontent.com/lovedlim/bigdata_analyst_cert/main/part1/ch3/school_data_social.csv\")\n",
    "\n",
    "# '이름'을 기준으로 두 데이터프레임 합치기\n",
    "merged_df = pd.merge(df, df_social, on='이름')\n",
    "\n",
    "# 교사 필터링\n",
    "cond1 = merged_df['영어교사'] == '장선생'\n",
    "cond2 = merged_df['사회교사'] == '오선생'\n",
    "\n",
    "# 필터링된 데이터에서 수학점수 합\n",
    "result = merged_df[cond1 & cond2]['수학'].sum()\n",
    "print(result)"
   ]
  },
  {
   "cell_type": "markdown",
   "metadata": {
    "id": "SHFgX7gSxcga"
   },
   "source": [
    "### Section36."
   ]
  },
  {
   "cell_type": "code",
   "execution_count": 120,
   "metadata": {
    "colab": {
     "base_uri": "https://localhost:8080/"
    },
    "id": "1vqkVK3CxdgF",
    "outputId": "ba1aed1d-ce25-463b-f930-b467a980ac7b"
   },
   "outputs": [
    {
     "name": "stdout",
     "output_type": "stream",
     "text": [
      "103\n"
     ]
    }
   ],
   "source": [
    "import pandas as pd\n",
    "df = pd.read_csv(\"https://raw.githubusercontent.com/lovedlim/bigdata_analyst_cert_v2/refs/heads/main/part1/ch3/sales.csv\")\n",
    "\n",
    "# 지역별 평균 판매금액 계산 후, 결측값 대체 (transform 사용)\n",
    "m = df.groupby('지역코드')['판매금액'].transform('mean')\n",
    "df['판매금액'] = df['판매금액'].fillna(m)\n",
    "\n",
    "# 각 거래별 해당 지역의 평균 판매금액 구하기\n",
    "df['지역평균'] = df.groupby('지역코드')['판매금액'].transform('mean')\n",
    "\n",
    "# 판매금액과 지역평균의 차이(절대값) 계산하여 새로운 컬럼 생성\n",
    "df['차이'] = abs(df['판매금액'] - df['지역평균'])\n",
    "\n",
    "# 지역별 차이 평균 계산 후, 최대값을 가지는 지역코드 출력\n",
    "result = df.groupby('지역코드')['차이'].mean().idxmax()\n",
    "print(result)"
   ]
  },
  {
   "cell_type": "markdown",
   "metadata": {
    "id": "RmrFue0Kxees"
   },
   "source": [
    "### Section37."
   ]
  },
  {
   "cell_type": "code",
   "execution_count": 121,
   "metadata": {
    "colab": {
     "base_uri": "https://localhost:8080/"
    },
    "id": "p6kVuTNcxfRE",
    "outputId": "09925a71-fafc-4cb7-fee7-5aec9572d72c"
   },
   "outputs": [
    {
     "data": {
      "text/plain": [
       "241975"
      ]
     },
     "execution_count": 121,
     "metadata": {},
     "output_type": "execute_result"
    }
   ],
   "source": [
    "import pandas as pd\n",
    "df = pd.read_csv(\"https://raw.githubusercontent.com/lovedlim/bigdata_analyst_cert_v2/refs/heads/main/part1/ch3/store_sales.csv\")\n",
    "\n",
    "# 매출액 계산\n",
    "df['매출액'] = df['판매수량'] * df['단가']\n",
    "\n",
    "# 요일별 평일/주말 구분 딕셔너리\n",
    "day_mapping = {'월': '평일', '화': '평일', '수': '평일', '목': '평일', '금': '평일',\n",
    "               '토': '주말', '일': '주말'}\n",
    "\n",
    "# 매핑을 활용하여 새로운 열 추가\n",
    "df['구분'] = df['요일'].map(day_mapping)\n",
    "\n",
    "# 매장코드 & 평일/주말별 매출액 합계\n",
    "store_sales = df.groupby(['매장코드', '구분'])['매출액'].sum().unstack()\n",
    "\n",
    "# 평일과 주말 매출액 차이 계산\n",
    "store_sales['차이'] = abs(store_sales['평일'] - store_sales['주말'])\n",
    "\n",
    "# 전체 매장 중 매출액 편차가 가장 큰 매장의 편차 값 찾기\n",
    "store_sales['차이'].max()"
   ]
  },
  {
   "cell_type": "markdown",
   "metadata": {
    "id": "698n7B9zxf2i"
   },
   "source": [
    "### Section38."
   ]
  },
  {
   "cell_type": "code",
   "execution_count": 122,
   "metadata": {
    "colab": {
     "base_uri": "https://localhost:8080/"
    },
    "id": "J1Tggl3GxgwB",
    "outputId": "753c815a-d829-4440-9bcb-7c1f3cfd57e8"
   },
   "outputs": [
    {
     "data": {
      "text/plain": [
       "0.51"
      ]
     },
     "execution_count": 122,
     "metadata": {},
     "output_type": "execute_result"
    }
   ],
   "source": [
    "import pandas as pd\n",
    "df = pd.read_csv(\"https://raw.githubusercontent.com/lovedlim/bigdata_analyst_cert_v2/refs/heads/main/part1/ch3/region_sales.csv\")\n",
    "\n",
    "# 피벗 테이블 생성: Region, Channel별로 Product별 Sales 합계 계산\n",
    "pivot_table = pd.pivot_table(df, index=['Region', 'Channel'], columns='Product',\n",
    "                             values='Sales', aggfunc='sum')\n",
    "\n",
    "# A비율 계산: 제품 A의 판매액 ÷ 총매출\n",
    "pivot_table['총매출'] = pivot_table['A'] + pivot_table['B']\n",
    "pivot_table['A비율'] = pivot_table['A'] / pivot_table['총매출']\n",
    "\n",
    "# 최대 A비율 값 출력\n",
    "result = pivot_table['A비율'].max()\n",
    "round(result, 2)"
   ]
  },
  {
   "cell_type": "markdown",
   "metadata": {
    "id": "48fPmvw7xhI5"
   },
   "source": [
    "### Section39."
   ]
  },
  {
   "cell_type": "code",
   "execution_count": 123,
   "metadata": {
    "colab": {
     "base_uri": "https://localhost:8080/"
    },
    "id": "Jixm45UjxhwP",
    "outputId": "e98664ed-88b0-45d3-8802-6cfe68df5da1"
   },
   "outputs": [
    {
     "data": {
      "text/plain": [
       "6"
      ]
     },
     "execution_count": 123,
     "metadata": {},
     "output_type": "execute_result"
    }
   ],
   "source": [
    "import pandas as pd\n",
    "df = pd.read_csv('https://raw.githubusercontent.com/lovedlim/bigdata_analyst_cert_v2/refs/heads/main/part1/ch3/monthly_sales.csv')\n",
    "\n",
    "# melt로 Wide(가로) → Long(세로) 변환\n",
    "melted_df = pd.melt(\n",
    "    df,\n",
    "    id_vars='Region',\n",
    "    value_vars=['Jan','Feb','Mar'],\n",
    "    var_name='Month',\n",
    "    value_name='Sales'\n",
    ")\n",
    "\n",
    "# Region, Month별 매출 합계 구하기\n",
    "grouped_sales = melted_df.groupby(['Region', 'Month'])['Sales'].sum().reset_index()\n",
    "\n",
    "# 매출 합계가 1400을 초과하는 건수\n",
    "cond = grouped_sales['Sales'] > 1400\n",
    "len(grouped_sales[cond])"
   ]
  },
  {
   "cell_type": "code",
   "execution_count": 123,
   "metadata": {
    "id": "YaZB1BluyQ4Q"
   },
   "outputs": [],
   "source": []
  }
 ],
 "metadata": {
  "colab": {
   "provenance": []
  },
  "kernelspec": {
   "display_name": "Python 3 (ipykernel)",
   "language": "python",
   "name": "python3"
  },
  "language_info": {
   "codemirror_mode": {
    "name": "ipython",
    "version": 3
   },
   "file_extension": ".py",
   "mimetype": "text/x-python",
   "name": "python",
   "nbconvert_exporter": "python",
   "pygments_lexer": "ipython3",
   "version": "3.12.6"
  }
 },
 "nbformat": 4,
 "nbformat_minor": 4
}
